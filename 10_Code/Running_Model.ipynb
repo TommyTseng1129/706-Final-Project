{
 "cells": [
  {
   "cell_type": "code",
   "execution_count": 84,
   "metadata": {},
   "outputs": [],
   "source": [
    "import time\n",
    "import boto3\n",
    "import sagemaker\n",
    "import urllib\n",
    "import pandas as pd\n",
    "from sklearn.model_selection import train_test_split"
   ]
  },
  {
   "cell_type": "code",
   "execution_count": 85,
   "metadata": {},
   "outputs": [],
   "source": [
    "# 获取当前AWS region和notebook所绑定的role\n",
    "role = sagemaker.get_execution_role()\n",
    "region = boto3.Session().region_name"
   ]
  },
  {
   "cell_type": "code",
   "execution_count": 86,
   "metadata": {},
   "outputs": [],
   "source": [
    "# 设置数据存放的桶和工作目录\n",
    "bucket = 'housing-lab'\n",
    "prefix = 'ori-data'"
   ]
  },
  {
   "cell_type": "code",
   "execution_count": 87,
   "metadata": {},
   "outputs": [],
   "source": [
    "X = pd.read_csv(\"/706-Final-Project/20_Cleaned_Data/prepared_data.csv\" )"
   ]
  },
  {
   "cell_type": "code",
   "execution_count": 88,
   "metadata": {},
   "outputs": [],
   "source": [
    "# # 可以使用 SageMaker session 来上传下载数据，这里把S3的训练数据下载到当前目录\n",
    "# sm_session = sagemaker.Session()\n",
    "# sm_session.download_data(\"./\", bucket, prefix + 'train.csv')\n",
    "# sm_session.download_data(\"./\", bucket, prefix + 'test.csv')"
   ]
  },
  {
   "cell_type": "code",
   "execution_count": 89,
   "metadata": {},
   "outputs": [
    {
     "data": {
      "text/html": [
       "<div>\n",
       "<style scoped>\n",
       "    .dataframe tbody tr th:only-of-type {\n",
       "        vertical-align: middle;\n",
       "    }\n",
       "\n",
       "    .dataframe tbody tr th {\n",
       "        vertical-align: top;\n",
       "    }\n",
       "\n",
       "    .dataframe thead th {\n",
       "        text-align: right;\n",
       "    }\n",
       "</style>\n",
       "<table border=\"1\" class=\"dataframe\">\n",
       "  <thead>\n",
       "    <tr style=\"text-align: right;\">\n",
       "      <th></th>\n",
       "      <th>Price/Square Meter</th>\n",
       "      <th>Housing_ID</th>\n",
       "      <th>Livable Area</th>\n",
       "      <th>Price</th>\n",
       "      <th>Facing_East</th>\n",
       "      <th>Facing_North</th>\n",
       "      <th>Facing_South</th>\n",
       "      <th>Facing_West</th>\n",
       "      <th>Decoration_Level</th>\n",
       "      <th>Floor_Level</th>\n",
       "    </tr>\n",
       "  </thead>\n",
       "  <tbody>\n",
       "    <tr>\n",
       "      <th>0</th>\n",
       "      <td>38544.0</td>\n",
       "      <td>1</td>\n",
       "      <td>56.30</td>\n",
       "      <td>217.0</td>\n",
       "      <td>0</td>\n",
       "      <td>0</td>\n",
       "      <td>1</td>\n",
       "      <td>0</td>\n",
       "      <td>1</td>\n",
       "      <td>2</td>\n",
       "    </tr>\n",
       "    <tr>\n",
       "      <th>1</th>\n",
       "      <td>33667.0</td>\n",
       "      <td>2</td>\n",
       "      <td>55.10</td>\n",
       "      <td>185.5</td>\n",
       "      <td>0</td>\n",
       "      <td>0</td>\n",
       "      <td>1</td>\n",
       "      <td>0</td>\n",
       "      <td>3</td>\n",
       "      <td>1</td>\n",
       "    </tr>\n",
       "    <tr>\n",
       "      <th>2</th>\n",
       "      <td>91429.0</td>\n",
       "      <td>3</td>\n",
       "      <td>70.00</td>\n",
       "      <td>640.0</td>\n",
       "      <td>0</td>\n",
       "      <td>0</td>\n",
       "      <td>1</td>\n",
       "      <td>0</td>\n",
       "      <td>1</td>\n",
       "      <td>3</td>\n",
       "    </tr>\n",
       "    <tr>\n",
       "      <th>3</th>\n",
       "      <td>102752.0</td>\n",
       "      <td>4</td>\n",
       "      <td>98.49</td>\n",
       "      <td>1012.0</td>\n",
       "      <td>0</td>\n",
       "      <td>0</td>\n",
       "      <td>1</td>\n",
       "      <td>0</td>\n",
       "      <td>1</td>\n",
       "      <td>4</td>\n",
       "    </tr>\n",
       "    <tr>\n",
       "      <th>4</th>\n",
       "      <td>98847.0</td>\n",
       "      <td>5</td>\n",
       "      <td>60.70</td>\n",
       "      <td>600.0</td>\n",
       "      <td>0</td>\n",
       "      <td>0</td>\n",
       "      <td>1</td>\n",
       "      <td>0</td>\n",
       "      <td>3</td>\n",
       "      <td>4</td>\n",
       "    </tr>\n",
       "  </tbody>\n",
       "</table>\n",
       "</div>"
      ],
      "text/plain": [
       "   Price/Square Meter  Housing_ID  Livable Area   Price  Facing_East  \\\n",
       "0             38544.0           1         56.30   217.0            0   \n",
       "1             33667.0           2         55.10   185.5            0   \n",
       "2             91429.0           3         70.00   640.0            0   \n",
       "3            102752.0           4         98.49  1012.0            0   \n",
       "4             98847.0           5         60.70   600.0            0   \n",
       "\n",
       "   Facing_North  Facing_South  Facing_West  Decoration_Level  Floor_Level  \n",
       "0             0             1            0                 1            2  \n",
       "1             0             1            0                 3            1  \n",
       "2             0             1            0                 1            3  \n",
       "3             0             1            0                 1            4  \n",
       "4             0             1            0                 3            4  "
      ]
     },
     "execution_count": 89,
     "metadata": {},
     "output_type": "execute_result"
    }
   ],
   "source": [
    "# 通过describe来对查看一下训练数据feature的构成和分布\n",
    "X.head()"
   ]
  },
  {
   "cell_type": "code",
   "execution_count": 90,
   "metadata": {},
   "outputs": [],
   "source": [
    "# 提取训练数据中的label列\n",
    "y = X['Price/Square Meter']"
   ]
  },
  {
   "cell_type": "code",
   "execution_count": 91,
   "metadata": {},
   "outputs": [
    {
     "data": {
      "text/plain": [
       "0     38544.0\n",
       "1     33667.0\n",
       "2     91429.0\n",
       "3    102752.0\n",
       "4     98847.0\n",
       "Name: Price/Square Meter, dtype: float64"
      ]
     },
     "execution_count": 91,
     "metadata": {},
     "output_type": "execute_result"
    }
   ],
   "source": [
    "y.head()"
   ]
  },
  {
   "cell_type": "code",
   "execution_count": 92,
   "metadata": {},
   "outputs": [
    {
     "data": {
      "text/plain": [
       "0         38544.0\n",
       "1         33667.0\n",
       "2         91429.0\n",
       "3        102752.0\n",
       "4         98847.0\n",
       "           ...   \n",
       "69299     31305.0\n",
       "69300     33710.0\n",
       "69301     30485.0\n",
       "69302     33380.0\n",
       "69303     29861.0\n",
       "Name: Price/Square Meter, Length: 69304, dtype: float64"
      ]
     },
     "execution_count": 92,
     "metadata": {},
     "output_type": "execute_result"
    }
   ],
   "source": [
    "y"
   ]
  },
  {
   "cell_type": "code",
   "execution_count": 93,
   "metadata": {},
   "outputs": [
    {
     "data": {
      "text/plain": [
       "0     38544.0\n",
       "1     33667.0\n",
       "2     91429.0\n",
       "3    102752.0\n",
       "4     98847.0\n",
       "Name: Price/Square Meter, dtype: float64"
      ]
     },
     "execution_count": 93,
     "metadata": {},
     "output_type": "execute_result"
    }
   ],
   "source": [
    "y.head()"
   ]
  },
  {
   "cell_type": "code",
   "execution_count": 94,
   "metadata": {},
   "outputs": [],
   "source": [
    "# 在原始数据中丢弃label列\n",
    "X.drop(['Price/Square Meter'], axis=1, inplace=True)"
   ]
  },
  {
   "cell_type": "code",
   "execution_count": 95,
   "metadata": {},
   "outputs": [
    {
     "data": {
      "text/html": [
       "<div>\n",
       "<style scoped>\n",
       "    .dataframe tbody tr th:only-of-type {\n",
       "        vertical-align: middle;\n",
       "    }\n",
       "\n",
       "    .dataframe tbody tr th {\n",
       "        vertical-align: top;\n",
       "    }\n",
       "\n",
       "    .dataframe thead th {\n",
       "        text-align: right;\n",
       "    }\n",
       "</style>\n",
       "<table border=\"1\" class=\"dataframe\">\n",
       "  <thead>\n",
       "    <tr style=\"text-align: right;\">\n",
       "      <th></th>\n",
       "      <th>Housing_ID</th>\n",
       "      <th>Livable Area</th>\n",
       "      <th>Price</th>\n",
       "      <th>Facing_East</th>\n",
       "      <th>Facing_North</th>\n",
       "      <th>Facing_South</th>\n",
       "      <th>Facing_West</th>\n",
       "      <th>Decoration_Level</th>\n",
       "      <th>Floor_Level</th>\n",
       "    </tr>\n",
       "  </thead>\n",
       "  <tbody>\n",
       "    <tr>\n",
       "      <th>0</th>\n",
       "      <td>1</td>\n",
       "      <td>56.30</td>\n",
       "      <td>217.0</td>\n",
       "      <td>0</td>\n",
       "      <td>0</td>\n",
       "      <td>1</td>\n",
       "      <td>0</td>\n",
       "      <td>1</td>\n",
       "      <td>2</td>\n",
       "    </tr>\n",
       "    <tr>\n",
       "      <th>1</th>\n",
       "      <td>2</td>\n",
       "      <td>55.10</td>\n",
       "      <td>185.5</td>\n",
       "      <td>0</td>\n",
       "      <td>0</td>\n",
       "      <td>1</td>\n",
       "      <td>0</td>\n",
       "      <td>3</td>\n",
       "      <td>1</td>\n",
       "    </tr>\n",
       "    <tr>\n",
       "      <th>2</th>\n",
       "      <td>3</td>\n",
       "      <td>70.00</td>\n",
       "      <td>640.0</td>\n",
       "      <td>0</td>\n",
       "      <td>0</td>\n",
       "      <td>1</td>\n",
       "      <td>0</td>\n",
       "      <td>1</td>\n",
       "      <td>3</td>\n",
       "    </tr>\n",
       "    <tr>\n",
       "      <th>3</th>\n",
       "      <td>4</td>\n",
       "      <td>98.49</td>\n",
       "      <td>1012.0</td>\n",
       "      <td>0</td>\n",
       "      <td>0</td>\n",
       "      <td>1</td>\n",
       "      <td>0</td>\n",
       "      <td>1</td>\n",
       "      <td>4</td>\n",
       "    </tr>\n",
       "    <tr>\n",
       "      <th>4</th>\n",
       "      <td>5</td>\n",
       "      <td>60.70</td>\n",
       "      <td>600.0</td>\n",
       "      <td>0</td>\n",
       "      <td>0</td>\n",
       "      <td>1</td>\n",
       "      <td>0</td>\n",
       "      <td>3</td>\n",
       "      <td>4</td>\n",
       "    </tr>\n",
       "  </tbody>\n",
       "</table>\n",
       "</div>"
      ],
      "text/plain": [
       "   Housing_ID  Livable Area   Price  Facing_East  Facing_North  Facing_South  \\\n",
       "0           1         56.30   217.0            0             0             1   \n",
       "1           2         55.10   185.5            0             0             1   \n",
       "2           3         70.00   640.0            0             0             1   \n",
       "3           4         98.49  1012.0            0             0             1   \n",
       "4           5         60.70   600.0            0             0             1   \n",
       "\n",
       "   Facing_West  Decoration_Level  Floor_Level  \n",
       "0            0                 1            2  \n",
       "1            0                 3            1  \n",
       "2            0                 1            3  \n",
       "3            0                 1            4  \n",
       "4            0                 3            4  "
      ]
     },
     "execution_count": 95,
     "metadata": {},
     "output_type": "execute_result"
    }
   ],
   "source": [
    "X.head()"
   ]
  },
  {
   "cell_type": "code",
   "execution_count": 96,
   "metadata": {},
   "outputs": [],
   "source": [
    "# 拆分原始训练数据为四份，X_train, X_valid, y_train, y_valid\n",
    "X_train, X_valid, y_train, y_valid = train_test_split(X, y, train_size=0.8, test_size=0.2, random_state=0)"
   ]
  },
  {
   "cell_type": "code",
   "execution_count": 97,
   "metadata": {},
   "outputs": [],
   "source": [
    "X_train_xgb= pd.concat([y_train,X_train], axis=1)\n",
    "X_train_xgb.to_csv('./X_train.csv',header=False,index=False)"
   ]
  },
  {
   "cell_type": "code",
   "execution_count": 98,
   "metadata": {},
   "outputs": [],
   "source": [
    "X_valid_xgb= pd.concat([y_valid,X_valid], axis=1)\n",
    "X_valid_xgb.to_csv('./X_valid.csv',header=False,index=False)"
   ]
  },
  {
   "cell_type": "code",
   "execution_count": 99,
   "metadata": {},
   "outputs": [
    {
     "data": {
      "text/plain": [
       "'s3://housing-lab/ori-data/X_valid.csv'"
      ]
     },
     "execution_count": 99,
     "metadata": {},
     "output_type": "execute_result"
    }
   ],
   "source": [
    "sm_session = sagemaker.Session()\n",
    "train_data_location = 's3://{}/{}/{}'.format(bucket, prefix, 'train')\n",
    "validation_data_location = 's3://{}/{}/{}'.format(bucket, prefix, 'validation')\n",
    "sm_session.upload_data('./X_train.csv',bucket,prefix)\n",
    "sm_session.upload_data('./X_valid.csv',bucket,prefix)"
   ]
  },
  {
   "cell_type": "code",
   "execution_count": 100,
   "metadata": {},
   "outputs": [
    {
     "name": "stderr",
     "output_type": "stream",
     "text": [
      "The method get_image_uri has been renamed in sagemaker>=2.\n",
      "See: https://sagemaker.readthedocs.io/en/stable/v2.html for details.\n"
     ]
    }
   ],
   "source": [
    "# 我们使⽤SageMaker内置的XGBoost来训练，⾸先要获取这个算法的container\n",
    "from sagemaker.amazon.amazon_estimator import get_image_uri\n",
    "container = get_image_uri(region, 'xgboost', repo_version='0.90-2')"
   ]
  },
  {
   "cell_type": "code",
   "execution_count": 102,
   "metadata": {},
   "outputs": [],
   "source": [
    "# 设置算法超参\n",
    "hyperparameters = {\n",
    "\"max_depth\":\"5\",\n",
    "\"eta\":\"0.5\",\n",
    "\"early_stopping_rounds\":\"5\",\n",
    "\"eval_metric\":\"rmse\",\n",
    "\"num_round\":\"30\",\n",
    "\"objective\":\"reg:linear\"}"
   ]
  },
  {
   "cell_type": "code",
   "execution_count": 103,
   "metadata": {},
   "outputs": [],
   "source": [
    "# 训练使⽤哪种EC2实例来完成\n",
    "instance_type = 'ml.m4.xlarge'"
   ]
  },
  {
   "cell_type": "code",
   "execution_count": 104,
   "metadata": {},
   "outputs": [],
   "source": [
    "# 模型输出⽬录\n",
    "output_path = 's3://{}/{}/output'.format(bucket, prefix)"
   ]
  },
  {
   "cell_type": "code",
   "execution_count": 105,
   "metadata": {},
   "outputs": [],
   "source": [
    "# 训练输⼊数据的类型\n",
    "content_type = \"csv\""
   ]
  },
  {
   "cell_type": "code",
   "execution_count": 106,
   "metadata": {},
   "outputs": [
    {
     "name": "stdout",
     "output_type": "stream",
     "text": [
      "Training job xgb-housing-2020-11-07-03-07-58\n"
     ]
    }
   ],
   "source": [
    "# 设置训练任务的名字\n",
    "job_name = 'xgb-housing-' + time.strftime(\"%Y-%m-%d-%H-%M-%S\", time.gmtime())\n",
    "print(\"Training job\", job_name)"
   ]
  },
  {
   "cell_type": "code",
   "execution_count": 107,
   "metadata": {},
   "outputs": [],
   "source": [
    "# 借助 Managed Spot Training 功能，⼤幅降低训练成本\n",
    "train_use_spot_instances = True\n",
    "train_max_run = 3600\n",
    "train_max_wait = 3600 if train_use_spot_instances else None\n",
    "checkpoint_s3_uri = ('s3://{}/{}/checkpoints/{}'.format(bucket, prefix,\n",
    "job_name)\n",
    "if train_use_spot_instances else None)"
   ]
  },
  {
   "cell_type": "code",
   "execution_count": 108,
   "metadata": {},
   "outputs": [
    {
     "name": "stderr",
     "output_type": "stream",
     "text": [
      "train_instance_count has been renamed in sagemaker>=2.\n",
      "See: https://sagemaker.readthedocs.io/en/stable/v2.html for details.\n",
      "train_instance_type has been renamed in sagemaker>=2.\n",
      "See: https://sagemaker.readthedocs.io/en/stable/v2.html for details.\n",
      "train_max_run has been renamed in sagemaker>=2.\n",
      "See: https://sagemaker.readthedocs.io/en/stable/v2.html for details.\n",
      "train_use_spot_instances has been renamed in sagemaker>=2.\n",
      "See: https://sagemaker.readthedocs.io/en/stable/v2.html for details.\n",
      "train_max_wait has been renamed in sagemaker>=2.\n",
      "See: https://sagemaker.readthedocs.io/en/stable/v2.html for details.\n",
      "train_volume_size has been renamed in sagemaker>=2.\n",
      "See: https://sagemaker.readthedocs.io/en/stable/v2.html for details.\n"
     ]
    }
   ],
   "source": [
    "# 在SageMaker⾥的使⽤任何算法来训练都要先⽣成⼀个 estimator 对象\n",
    "xgb = sagemaker.estimator.Estimator(container,\n",
    "role,\n",
    "hyperparameters=hyperparameters,\n",
    "train_instance_count=1,\n",
    "train_instance_type=instance_type,\n",
    "train_volume_size=5, # 5 GB\n",
    "output_path=output_path,\n",
    "sagemaker_session=sagemaker.Session(),\n",
    "train_use_spot_instances=train_use_spot_instances,\n",
    "train_max_run=train_max_run,\n",
    "train_max_wait=train_max_wait,\n",
    "checkpoint_s3_uri=checkpoint_s3_uri\n",
    ");"
   ]
  },
  {
   "cell_type": "code",
   "execution_count": 109,
   "metadata": {},
   "outputs": [
    {
     "name": "stderr",
     "output_type": "stream",
     "text": [
      "The class sagemaker.session.s3_input has been renamed in sagemaker>=2.\n",
      "See: https://sagemaker.readthedocs.io/en/stable/v2.html for details.\n",
      "The class sagemaker.session.s3_input has been renamed in sagemaker>=2.\n",
      "See: https://sagemaker.readthedocs.io/en/stable/v2.html for details.\n"
     ]
    }
   ],
   "source": [
    "# 设置训练数据的 data channel\n",
    "train_data_location = 's3://{}/{}/{}'.format(bucket, prefix, 'X_train.csv')\n",
    "validation_data_location = 's3://{}/{}/{}'.format(bucket, prefix,\n",
    "'X_valid.csv')\n",
    "train_channel = sagemaker.session.s3_input(train_data_location,\n",
    "content_type='csv')\n",
    "valid_channel = sagemaker.session.s3_input(validation_data_location,\n",
    "content_type='csv')\n",
    "data_channels = {'train': train_channel, 'validation': valid_channel}"
   ]
  },
  {
   "cell_type": "code",
   "execution_count": 110,
   "metadata": {},
   "outputs": [
    {
     "name": "stdout",
     "output_type": "stream",
     "text": [
      "2020-11-07 03:08:12 Starting - Starting the training job...\n",
      "2020-11-07 03:08:14 Starting - Launching requested ML instances......\n",
      "2020-11-07 03:09:27 Starting - Preparing the instances for training......\n",
      "2020-11-07 03:10:21 Downloading - Downloading input data...\n",
      "2020-11-07 03:10:55 Training - Downloading the training image..\u001b[34mINFO:sagemaker-containers:Imported framework sagemaker_xgboost_container.training\u001b[0m\n",
      "\u001b[34mINFO:sagemaker-containers:Failed to parse hyperparameter eval_metric value rmse to Json.\u001b[0m\n",
      "\u001b[34mReturning the value itself\u001b[0m\n",
      "\u001b[34mINFO:sagemaker-containers:Failed to parse hyperparameter objective value reg:linear to Json.\u001b[0m\n",
      "\u001b[34mReturning the value itself\u001b[0m\n",
      "\u001b[34mINFO:sagemaker-containers:No GPUs detected (normal if no gpus installed)\u001b[0m\n",
      "\u001b[34mINFO:sagemaker_xgboost_container.training:Running XGBoost Sagemaker in algorithm mode\u001b[0m\n",
      "\u001b[34mINFO:root:Determined delimiter of CSV input is ','\u001b[0m\n",
      "\u001b[34mINFO:root:Determined delimiter of CSV input is ','\u001b[0m\n",
      "\u001b[34mINFO:root:Determined delimiter of CSV input is ','\u001b[0m\n",
      "\u001b[34m[03:11:18] 55443x9 matrix with 498987 entries loaded from /opt/ml/input/data/train?format=csv&label_column=0&delimiter=,\u001b[0m\n",
      "\u001b[34mINFO:root:Determined delimiter of CSV input is ','\u001b[0m\n",
      "\u001b[34m[03:11:18] 13861x9 matrix with 124749 entries loaded from /opt/ml/input/data/validation?format=csv&label_column=0&delimiter=,\u001b[0m\n",
      "\u001b[34mINFO:root:Single node training.\u001b[0m\n",
      "\u001b[34mINFO:root:Train matrix has 55443 rows\u001b[0m\n",
      "\u001b[34mINFO:root:Validation matrix has 13861 rows\u001b[0m\n",
      "\u001b[34m[03:11:18] WARNING: /workspace/src/objective/regression_obj.cu:152: reg:linear is now deprecated in favor of reg:squarederror.\u001b[0m\n",
      "\u001b[34m[0]#011train-rmse:33690.6#011validation-rmse:33721\u001b[0m\n",
      "\u001b[34m[1]#011train-rmse:17778.6#011validation-rmse:17769.3\u001b[0m\n",
      "\u001b[34m[2]#011train-rmse:9779.51#011validation-rmse:9747.33\u001b[0m\n",
      "\u001b[34m[3]#011train-rmse:5973.15#011validation-rmse:5961.17\u001b[0m\n",
      "\u001b[34m[4]#011train-rmse:4184.79#011validation-rmse:4222.49\u001b[0m\n",
      "\u001b[34m[5]#011train-rmse:3403.61#011validation-rmse:3476.16\u001b[0m\n",
      "\u001b[34m[6]#011train-rmse:3128.68#011validation-rmse:3201.73\u001b[0m\n",
      "\u001b[34m[7]#011train-rmse:2803.3#011validation-rmse:2857.12\u001b[0m\n",
      "\u001b[34m[8]#011train-rmse:2708.7#011validation-rmse:2765.06\u001b[0m\n",
      "\u001b[34m[9]#011train-rmse:2551.31#011validation-rmse:2609.59\u001b[0m\n",
      "\u001b[34m[10]#011train-rmse:2490.94#011validation-rmse:2556.03\u001b[0m\n",
      "\u001b[34m[11]#011train-rmse:2404.91#011validation-rmse:2462.06\u001b[0m\n",
      "\u001b[34m[12]#011train-rmse:2348.82#011validation-rmse:2410.84\u001b[0m\n",
      "\u001b[34m[13]#011train-rmse:2290.49#011validation-rmse:2354.22\u001b[0m\n",
      "\u001b[34m[14]#011train-rmse:2193.35#011validation-rmse:2255.32\u001b[0m\n",
      "\u001b[34m[15]#011train-rmse:2165.85#011validation-rmse:2227.94\u001b[0m\n",
      "\u001b[34m[16]#011train-rmse:2144.05#011validation-rmse:2209.63\u001b[0m\n",
      "\u001b[34m[17]#011train-rmse:2124.56#011validation-rmse:2194.43\u001b[0m\n",
      "\u001b[34m[18]#011train-rmse:2070.53#011validation-rmse:2142.39\u001b[0m\n",
      "\u001b[34m[19]#011train-rmse:2003.78#011validation-rmse:2073.5\u001b[0m\n",
      "\u001b[34m[20]#011train-rmse:1924.49#011validation-rmse:1995.65\u001b[0m\n",
      "\u001b[34m[21]#011train-rmse:1871.88#011validation-rmse:1945.58\u001b[0m\n",
      "\u001b[34m[22]#011train-rmse:1831.38#011validation-rmse:1902.36\u001b[0m\n",
      "\u001b[34m[23]#011train-rmse:1800.67#011validation-rmse:1874.21\u001b[0m\n",
      "\u001b[34m[24]#011train-rmse:1758.21#011validation-rmse:1836.36\u001b[0m\n",
      "\u001b[34m[25]#011train-rmse:1730.99#011validation-rmse:1808.83\u001b[0m\n",
      "\u001b[34m[26]#011train-rmse:1721.82#011validation-rmse:1802.09\u001b[0m\n",
      "\u001b[34m[27]#011train-rmse:1705.27#011validation-rmse:1783.82\u001b[0m\n",
      "\u001b[34m[28]#011train-rmse:1674.25#011validation-rmse:1754.39\u001b[0m\n",
      "\u001b[34m[29]#011train-rmse:1627.73#011validation-rmse:1710.09\u001b[0m\n",
      "\n",
      "2020-11-07 03:11:28 Uploading - Uploading generated training model\n",
      "2020-11-07 03:11:28 Completed - Training job completed\n",
      "Training seconds: 67\n",
      "Billable seconds: 27\n",
      "Managed Spot Training savings: 59.7%\n",
      "CPU times: user 452 ms, sys: 14.8 ms, total: 466 ms\n",
      "Wall time: 3min 41s\n"
     ]
    }
   ],
   "source": [
    "%%time\n",
    "# 调⽤ fit 来训练\n",
    "xgb.fit(inputs=data_channels, job_name=job_name, logs=True)"
   ]
  },
  {
   "cell_type": "code",
   "execution_count": null,
   "metadata": {},
   "outputs": [
    {
     "name": "stdout",
     "output_type": "stream",
     "text": [
      "..................................................................................................................................................................."
     ]
    }
   ],
   "source": [
    "%%time\n",
    "from sagemaker.tuner import IntegerParameter, CategoricalParameter, ContinuousParameter, HyperparameterTuner\n",
    "\n",
    "# xgb = sagemaker.estimator.Estimator(container,\n",
    "#                                     role=sagemaker.get_execution_role(), \n",
    "#                                     instance_count= 1, # make sure you have limit set for these instances\n",
    "#                                     instance_type='ml.m4.xlarge', \n",
    "#                                     output_path='s3://{}/{}/output'.format(bucket, prefix),\n",
    "#                                     sagemaker_session=sagemaker.Session())\n",
    "\n",
    "# # # 设置算法超参\n",
    "# # hyperparameters = {\n",
    "# # \"max_depth\":\"5\",\n",
    "# # \"eta\":\"0.5\",\n",
    "# # \"early_stopping_rounds\":\"5\",\n",
    "# # \"eval_metric\":\"rmse\",\n",
    "# # \"num_round\":\"30\"\n",
    "# # \"objective\"=\"reg:linear\",\n",
    "# }\n",
    "\n",
    "\n",
    "hyperparameter_ranges = {'max_depth':IntegerParameter(1,10),\n",
    "                         'alpha': ContinuousParameter(0, 100),\n",
    "                         'min_child_weight': ContinuousParameter(1, 5),\n",
    "                         'eta': ContinuousParameter(0.2, 0.7),  \n",
    "                         'num_round': IntegerParameter(10,200)\n",
    "                         }\n",
    "\n",
    "\n",
    "objective_metric_name = 'validation:rmse'\n",
    "objective_type = 'Minimize'\n",
    "\n",
    "tuner = HyperparameterTuner(xgb,\n",
    "                            objective_metric_name,\n",
    "                            hyperparameter_ranges,\n",
    "                            max_jobs=3, # Set this to 10 or above depending upon budget & available time.\n",
    "                            max_parallel_jobs=1,\n",
    "                            objective_type=objective_type,\n",
    "                            early_stopping_type='Auto')\n",
    "\n",
    "tuner.fit(inputs=data_channels, include_cls_metadata=False)\n",
    "tuner.wait()"
   ]
  },
  {
   "cell_type": "code",
   "execution_count": 112,
   "metadata": {},
   "outputs": [
    {
     "name": "stdout",
     "output_type": "stream",
     "text": [
      "CPU times: user 65.5 ms, sys: 3.72 ms, total: 69.2 ms\n",
      "Wall time: 1.18 s\n"
     ]
    },
    {
     "data": {
      "text/plain": [
       "'Completed'"
      ]
     },
     "execution_count": 112,
     "metadata": {},
     "output_type": "execute_result"
    }
   ],
   "source": [
    "%%time\n",
    "boto3.client('sagemaker').describe_hyper_parameter_tuning_job(\n",
    "    HyperParameterTuningJobName=tuner.latest_tuning_job.job_name)['HyperParameterTuningJobStatus']"
   ]
  },
  {
   "cell_type": "code",
   "execution_count": 114,
   "metadata": {},
   "outputs": [
    {
     "name": "stdout",
     "output_type": "stream",
     "text": [
      "CPU times: user 27.9 ms, sys: 0 ns, total: 27.9 ms\n",
      "Wall time: 93.8 ms\n"
     ]
    },
    {
     "data": {
      "text/html": [
       "<div>\n",
       "<style scoped>\n",
       "    .dataframe tbody tr th:only-of-type {\n",
       "        vertical-align: middle;\n",
       "    }\n",
       "\n",
       "    .dataframe tbody tr th {\n",
       "        vertical-align: top;\n",
       "    }\n",
       "\n",
       "    .dataframe thead th {\n",
       "        text-align: right;\n",
       "    }\n",
       "</style>\n",
       "<table border=\"1\" class=\"dataframe\">\n",
       "  <thead>\n",
       "    <tr style=\"text-align: right;\">\n",
       "      <th></th>\n",
       "      <th>alpha</th>\n",
       "      <th>eta</th>\n",
       "      <th>max_depth</th>\n",
       "      <th>min_child_weight</th>\n",
       "      <th>num_round</th>\n",
       "      <th>TrainingJobName</th>\n",
       "      <th>TrainingJobStatus</th>\n",
       "      <th>FinalObjectiveValue</th>\n",
       "      <th>TrainingStartTime</th>\n",
       "      <th>TrainingEndTime</th>\n",
       "      <th>TrainingElapsedTimeSeconds</th>\n",
       "    </tr>\n",
       "  </thead>\n",
       "  <tbody>\n",
       "    <tr>\n",
       "      <th>0</th>\n",
       "      <td>21.849719</td>\n",
       "      <td>0.279033</td>\n",
       "      <td>10.0</td>\n",
       "      <td>3.377322</td>\n",
       "      <td>190.0</td>\n",
       "      <td>sagemaker-xgboost-201107-0315-003-8ac11f32</td>\n",
       "      <td>Completed</td>\n",
       "      <td>529.067017</td>\n",
       "      <td>2020-11-07 03:28:05+00:00</td>\n",
       "      <td>2020-11-07 03:29:40+00:00</td>\n",
       "      <td>95.0</td>\n",
       "    </tr>\n",
       "    <tr>\n",
       "      <th>1</th>\n",
       "      <td>33.898059</td>\n",
       "      <td>0.252117</td>\n",
       "      <td>6.0</td>\n",
       "      <td>4.863162</td>\n",
       "      <td>43.0</td>\n",
       "      <td>sagemaker-xgboost-201107-0315-002-763050db</td>\n",
       "      <td>Completed</td>\n",
       "      <td>1040.089966</td>\n",
       "      <td>2020-11-07 03:23:39+00:00</td>\n",
       "      <td>2020-11-07 03:24:55+00:00</td>\n",
       "      <td>76.0</td>\n",
       "    </tr>\n",
       "    <tr>\n",
       "      <th>2</th>\n",
       "      <td>74.802844</td>\n",
       "      <td>0.633642</td>\n",
       "      <td>5.0</td>\n",
       "      <td>1.446697</td>\n",
       "      <td>34.0</td>\n",
       "      <td>sagemaker-xgboost-201107-0315-001-f042e969</td>\n",
       "      <td>Completed</td>\n",
       "      <td>1598.369995</td>\n",
       "      <td>2020-11-07 03:18:17+00:00</td>\n",
       "      <td>2020-11-07 03:19:34+00:00</td>\n",
       "      <td>77.0</td>\n",
       "    </tr>\n",
       "  </tbody>\n",
       "</table>\n",
       "</div>"
      ],
      "text/plain": [
       "       alpha       eta  max_depth  min_child_weight  num_round  \\\n",
       "0  21.849719  0.279033       10.0          3.377322      190.0   \n",
       "1  33.898059  0.252117        6.0          4.863162       43.0   \n",
       "2  74.802844  0.633642        5.0          1.446697       34.0   \n",
       "\n",
       "                              TrainingJobName TrainingJobStatus  \\\n",
       "0  sagemaker-xgboost-201107-0315-003-8ac11f32         Completed   \n",
       "1  sagemaker-xgboost-201107-0315-002-763050db         Completed   \n",
       "2  sagemaker-xgboost-201107-0315-001-f042e969         Completed   \n",
       "\n",
       "   FinalObjectiveValue         TrainingStartTime           TrainingEndTime  \\\n",
       "0           529.067017 2020-11-07 03:28:05+00:00 2020-11-07 03:29:40+00:00   \n",
       "1          1040.089966 2020-11-07 03:23:39+00:00 2020-11-07 03:24:55+00:00   \n",
       "2          1598.369995 2020-11-07 03:18:17+00:00 2020-11-07 03:19:34+00:00   \n",
       "\n",
       "   TrainingElapsedTimeSeconds  \n",
       "0                        95.0  \n",
       "1                        76.0  \n",
       "2                        77.0  "
      ]
     },
     "execution_count": 114,
     "metadata": {},
     "output_type": "execute_result"
    }
   ],
   "source": [
    "%%time\n",
    "from pprint import pprint\n",
    "from sagemaker.analytics import HyperparameterTuningJobAnalytics\n",
    "\n",
    "tuner_analytics = HyperparameterTuningJobAnalytics(tuner.latest_tuning_job.name, sagemaker_session=sagemaker.Session())\n",
    "\n",
    "df_tuning_job_analytics = tuner_analytics.dataframe()\n",
    "\n",
    "# Sort the tuning job analytics by the final metrics value\n",
    "df_tuning_job_analytics.sort_values(\n",
    "    by=['FinalObjectiveValue'],\n",
    "    inplace=True,\n",
    "    ascending=False if tuner.objective_type == \"Maximize\" else True)\n",
    "\n",
    "# Show detailed analytics for the top 20 models\n",
    "df_tuning_job_analytics.head(20)"
   ]
  },
  {
   "cell_type": "code",
   "execution_count": 115,
   "metadata": {},
   "outputs": [],
   "source": [
    "attached_tuner = HyperparameterTuner.attach(tuner.latest_tuning_job.name, sagemaker_session=sagemaker.Session())\n",
    "best_training_job = attached_tuner.best_training_job()"
   ]
  },
  {
   "cell_type": "code",
   "execution_count": 116,
   "metadata": {},
   "outputs": [
    {
     "name": "stdout",
     "output_type": "stream",
     "text": [
      "\n",
      "2020-11-07 03:29:40 Starting - Preparing the instances for training\n",
      "2020-11-07 03:29:40 Downloading - Downloading input data\n",
      "2020-11-07 03:29:40 Training - Training image download completed. Training in progress.\n",
      "2020-11-07 03:29:40 Uploading - Uploading generated training model\n",
      "2020-11-07 03:29:40 Completed - Training job completed\n"
     ]
    }
   ],
   "source": [
    "from sagemaker.estimator import Estimator\n",
    "algo_estimator = Estimator.attach(best_training_job)\n",
    "\n",
    "best_algo_model = algo_estimator.create_model(env={'SAGEMAKER_DEFAULT_INVOCATIONS_ACCEPT':\"text/csv\"})"
   ]
  },
  {
   "cell_type": "code",
   "execution_count": null,
   "metadata": {},
   "outputs": [],
   "source": [
    "# %%time\n",
    "# batch_output = \"s3://{}/{}/batch-out/\".format(bucket,prefix)\n",
    "# batch_input = \"s3://{}/{}/batch-in/{}\".format(bucket,prefix,batch_X_file)\n",
    "\n",
    "# xgb_transformer = best_algo_model.transformer(instance_count=1,\n",
    "#                                        instance_type='ml.m4.xlarge',\n",
    "#                                        strategy='MultiRecord',\n",
    "#                                        assemble_with='Line',\n",
    "#                                        output_path=batch_output)\n",
    "\n",
    "\n",
    "# xgb_transformer.transform(data=batch_input,\n",
    "#                          data_type='S3Prefix',\n",
    "#                          content_type='text/csv',\n",
    "#                          split_type='Line')\n",
    "# xgb_transformer.wait(logs=False)"
   ]
  },
  {
   "cell_type": "code",
   "execution_count": null,
   "metadata": {},
   "outputs": [],
   "source": []
  },
  {
   "cell_type": "code",
   "execution_count": 117,
   "metadata": {},
   "outputs": [
    {
     "name": "stdout",
     "output_type": "stream",
     "text": [
      "-------------------!"
     ]
    }
   ],
   "source": [
    "%%time\n",
    "# 部署模型\n",
    "\n",
    "xgb_predictor = best_algo_model.deploy(initial_instance_count=1,\n",
    "                         instance_type='ml.m4.xlarge')\n"
   ]
  },
  {
   "cell_type": "code",
   "execution_count": null,
   "metadata": {},
   "outputs": [],
   "source": []
  },
  {
   "cell_type": "code",
   "execution_count": 119,
   "metadata": {},
   "outputs": [
    {
     "name": "stderr",
     "output_type": "stream",
     "text": [
      "The class RealTimePredictor has been renamed in sagemaker>=2.\n",
      "See: https://sagemaker.readthedocs.io/en/stable/v2.html for details.\n",
      "content_type is a no-op in sagemaker>=2.\n",
      "See: https://sagemaker.readthedocs.io/en/stable/v2.html for details.\n",
      "The csv_serializer has been renamed in sagemaker>=2.\n",
      "See: https://sagemaker.readthedocs.io/en/stable/v2.html for details.\n"
     ]
    },
    {
     "name": "stdout",
     "output_type": "stream",
     "text": [
      "CPU times: user 178 ms, sys: 3.9 ms, total: 182 ms\n",
      "Wall time: 1.09 s\n"
     ]
    },
    {
     "data": {
      "text/plain": [
       "'105993.578125,33510.2578125,74074.9453125,84864.4296875,22291.2890625,68574.84375,109075.453125,42073.06640625,85389.4453125,29303.921875,40356.96484375,69646.375,85035.6484375,91802.3125,18315.08984375,50104.23046875,69953.3125,55568.78125,70877.046875,82973.9453125,83953.21875,46621.4921875,64554.04296875,58443.015625,53253.9375,123986.625,59855.05859375,74982.59375,38134.87890625,55142.01953125,43241.35546875,36452.2421875,56308.10546875,87644.6953125,125942.375,43482.1953125,80422.40625,47276.171875,65387.4296875,47190.7421875,84138.8984375,46657.375,47940.171875,24684.888671875,40199.23828125,43152.8125,61822.42578125,81059.8515625,41716.46484375,45267.14453125,88779.390625,49867.20703125,69016.046875,74660.7265625,29805.654296875,45992.77734375,54766.4453125,42101.8515625,45180.4375,91590.65625,94845.53125,80197.703125,68964.671875,24222.33203125,80041.859375,85285.7890625,60506.4140625,45626.52734375,81094.9609375,61973.1328125,68634.5859375,26948.603515625,59321.02734375,47240.88671875,46549.5703125,44190.47265625,84637.6328125,42822.328125,39847.14453125,92572.5,42347.73828125,69256.03125,52471.6171875,72887.015625,38285.91015625,24450.6875,95447.7734375,73318.4375,60082.39453125,56214.1484375,41913.80859375,102614.9609375,71997.765625,56373.98828125,27231.185546875,43490.94140625,40997.1328125,22286.50390625,33746.1640625,34909.43359375,121301.921875,51104.34375,38747.30859375,79956.234375,62644.4921875,93810.5390625,43767.94140625,41530.109375,98600.125,35867.75390625,12970.5625,95392.90625,52009.0,59153.046875,49136.17578125,68539.296875,59668.890625,83838.8203125,44504.64453125,62381.01953125,82624.0,50047.15625,75123.34375,88781.9296875,75005.859375,79672.7421875,67995.3828125,40712.56640625,78113.2421875,50386.06640625,49547.05859375,62046.4375,86607.0703125,56716.7890625,34994.73828125,20408.8359375,40151.8046875,39852.7109375,46155.17578125,59573.5859375,37635.41796875,33268.2734375,93774.734375,44661.83203125,36291.328125,44810.81640625,56925.28515625,46376.0390625,23956.7890625,65058.0078125,79220.671875,81315.9375,20084.498046875,33087.94921875,67763.953125,35892.40625,43057.078125,83653.53125,53084.3984375,97082.8203125,84867.3046875,50222.20703125,82651.5859375,85960.21875,47983.84765625,46515.6796875,138361.328125,72478.65625,70263.1484375,67619.828125,68109.6640625,46986.6328125,29786.0390625,45515.51953125,78936.6640625,33224.5859375,82362.7265625,33670.390625,48505.79296875,69460.65625,73464.125,103939.875,73741.140625,83974.7890625,41984.8046875,69704.5078125,100319.5546875,66823.96875,58427.51171875,80168.6640625,46703.69921875,55531.1484375,92513.6015625,83039.1796875,41271.6328125,78452.1796875,37511.01171875,81697.3828125,75743.4140625,48653.68359375,84015.3125,100792.8125,84310.8515625,58941.34765625,62833.8125,61426.36328125,41755.08203125,58577.34375,76645.53125,20579.361328125,53832.078125,101690.3515625,63045.1484375,62254.52734375,76836.0078125,49068.3671875,87316.859375,30061.626953125,77052.2890625,39475.7265625,98068.515625,54443.46875,73556.890625,36303.0703125,74628.2578125,72772.40625,105918.6171875,53429.20703125,85143.375,93257.2890625,57160.53125,48394.61328125,107493.296875,79212.078125,93187.65625,35221.421875,74613.609375,35050.20703125,52080.203125,50378.828125,39177.30078125,76868.890625,80448.0859375,63915.171875,61599.953125,47897.79296875,59695.90234375,53030.55859375,87673.7734375,40131.9140625,47805.02734375,30467.896484375,104588.671875,99250.2421875,110453.2890625,79310.53125,54895.69140625,100326.859375,45157.32421875,47987.63671875,65265.5546875,39539.5859375,80915.4609375,43119.72265625,83325.5390625,85835.125,42880.203125,59913.0703125,96728.28125,38372.60546875,52695.11328125,51133.64453125,41019.6484375,62630.58203125,46643.30859375,59374.171875,105886.1875,49487.4375,63179.640625,35999.4921875,87053.34375,81369.015625,42468.421875,34888.06640625,35454.52734375,110644.953125,60771.1171875,125777.421875,24378.1796875,44452.53125,71497.265625,51930.45703125,29848.7578125,126432.5546875,50768.7578125,83910.5546875,72429.921875,82301.484375,75738.4375,44583.5078125,69784.9375,42494.8515625,52881.7109375,34650.9921875,78691.6484375,59762.21875,64174.31640625,90585.390625,29982.7890625,81882.484375,49235.04296875,19424.63671875,41248.2578125,36316.81640625,34809.8046875,59731.01171875,24341.369140625,39756.4453125,89438.34375,49013.94140625,101673.15625,80158.6953125,52103.1953125,37412.46484375,94496.71875,62839.08984375,34430.328125,57914.609375,60969.453125,46483.50390625,90677.2421875,58592.94921875,44067.16796875,65076.3125,37346.2890625,78807.5703125,51287.3828125,59229.6796875,37050.43359375,69061.109375,84240.8671875,49874.59375,57949.3828125,61141.49609375,81514.1953125,33318.69140625,48067.7734375,90902.96875,34733.88671875,72938.2734375,68502.21875,51492.11328125,50283.16796875,56716.34375,83042.6328125,58677.40625,91092.53125,48679.58984375,77096.2109375,83154.3203125,81246.7734375,67675.1484375,58924.203125,64475.9765625,79046.03125,43106.75,62603.21875,97701.6640625,97290.8515625,81693.59375,82014.1171875,133580.859375,54594.125,90587.9453125,41591.25390625,87294.125,80718.359375,43661.05859375,93118.9609375,42395.72265625,38161.16796875,79756.984375,52755.97265625,90892.625,73144.75,39117.42578125,83915.625,45650.93359375,103317.0703125,56918.796875,65928.8203125,47872.77734375,58002.71875,54573.23828125,53232.57421875,46422.3046875,78580.234375,42207.16015625,69310.2421875,63297.57421875,63126.85546875,39972.53125,38733.3984375,57849.0,42966.41796875,104228.765625,95543.6328125,33455.3515625,60635.0859375,42326.96484375,58212.08984375,114774.890625,58222.12109375,93273.4296875,48721.05859375,92150.4921875,54542.171875,92974.4296875,59528.98046875,42607.7890625,52374.859375,61960.375,77947.421875,61483.69921875,91282.9921875,89832.15625,123630.609375,54153.44140625,81109.7578125,33491.140625,112324.921875,64589.35546875,64330.80859375,19522.974609375,70378.6484375,69187.984375,53223.60546875,38773.69921875,38963.0078125,53456.765625,39026.55859375,51303.2578125,61589.453125,91617.6796875,109817.4609375,87355.71875,69000.7109375,62018.52734375,88675.359375,43738.21484375,32719.70703125,58237.9765625,79904.171875,86008.1875,94301.921875,46914.2734375,64577.10546875,51353.8125,83383.4140625,36455.4375,54214.57421875,56947.06640625,82280.9453125,56522.55078125,45315.89453125,40532.625,48032.91796875,33358.42578125,49635.22265625,47842.515625,71478.5078125,45329.5859375,61107.11328125,30594.041015625,105025.546875,32268.27734375,24226.953125,61814.109375,61325.78125,93772.75,22052.814453125,49826.16796875,72551.421875,88736.75,69358.8359375,49772.6015625,76013.9609375,50900.05078125,79955.3984375,34450.58984375,60393.4296875,65323.22265625,24834.689453125,84494.3125,89368.6328125,40690.4765625,50108.70703125,91920.8125,50874.484375,117862.75,88475.25,53676.16015625,85777.1484375,100063.1484375,42683.515625,53316.9609375,79709.296875,36780.58984375,40518.03515625,78317.2890625,62729.7734375,96537.3203125,52857.09765625,121916.1640625,86775.1328125,89943.9921875,61874.52734375,68991.8515625,66198.015625,62148.5078125,77505.21875,69167.8671875,65882.640625,83398.0078125,41421.76953125,86583.015625,80815.8515625,82116.9921875,65184.890625,90077.59375,35893.62890625,103425.734375,81545.8828125,78576.0234375,30667.13671875,80198.5390625,55131.4296875,107024.15625,41080.765625,43233.44140625,63141.48046875,95872.9765625,34751.19140625,59662.4765625,33562.16796875,41914.28515625,59522.85546875,55639.3984375,30210.328125,33216.41015625,27895.7734375,48527.58203125,60750.08984375,47045.33203125,95620.828125,48445.3671875,34812.0,32438.904296875,58688.890625,48927.6328125,82878.0078125,35842.875,51223.2578125,72466.9140625,56543.4921875,95214.046875,92380.5703125,45387.90234375,98918.875,89049.5234375,60737.94140625,74212.4765625,43836.46484375,100003.0703125,55138.51953125,39128.71875,42466.86328125,104400.8203125,80485.09375,57072.33984375,93206.15625,65401.0234375,73841.296875,49933.76953125,111930.734375,34625.30078125,104030.0859375,61536.22265625,51939.2578125,40355.80078125,51266.59765625,120120.3359375,69865.4140625,94575.234375,38507.7578125,34267.1640625,78291.40625,73497.3984375,93012.1171875,23106.0703125,52649.6328125,47235.09765625,65189.21484375,39286.25390625,66783.953125,83935.484375,58074.3984375,30201.646484375,92770.7109375,65926.8984375,43864.28515625,59694.7734375,46937.5859375,77245.734375,91790.0234375,28160.126953125,69972.8046875,37252.0703125,102852.6875,58390.4296875,64777.58984375,76366.1328125,49092.67578125,71915.2578125,113214.4921875,88723.296875,34282.765625,92397.7734375,15410.271484375,24159.83984375,30929.236328125,90556.8671875,39335.796875,52189.5859375,30013.91015625,69590.4140625,74555.5546875,89233.9296875,69150.9375,58003.9609375,42733.8671875,112475.3359375,64734.01953125,38928.56640625,100980.125,61864.81640625,32883.84765625,59020.421875,80491.09375,88131.671875,64658.296875,88861.984375,92370.375,84772.3125,41149.26953125,54399.59765625,106021.3203125,72271.234375,45513.296875,39729.30859375,38697.109375,86781.4453125,68741.4921875,50826.44140625,47466.79296875,62204.32421875,52754.98828125,45558.33984375,100710.1328125,52162.32421875,59496.22265625,43136.3046875,80025.328125,41505.77734375,81244.1328125,30671.09765625,81089.2578125,37012.66796875,60272.39453125,52872.33203125,54511.58984375,41473.12890625,62940.89453125,87944.171875,85943.6875,141889.953125,34844.4375,101111.1796875,80052.5625,37108.33203125,93628.765625,57955.703125,64636.9140625,108409.6171875,49782.17578125,50282.45703125,85519.6796875,44011.1875,36060.61328125,79042.1796875,43047.64453125,55853.1171875,34860.5234375,72051.3046875,75691.671875,71479.2890625,41587.38671875,49486.3515625,87444.0234375,59611.0625,52536.78125,31108.0703125,64199.94921875,32693.306640625,78429.2734375,49561.4609375,75182.984375,107513.5234375,44962.85546875,47764.671875,60300.609375,72358.2421875,47734.53125,97128.0390625,95157.0390625,100036.8046875,41274.30859375,97676.8125,83492.6171875,52172.24609375,76373.4921875,15209.6943359375,43825.921875,73226.3828125,91256.8984375,97926.65625,65327.859375,71257.40625,30941.78125,85735.765625,55382.515625,36158.4453125,39720.33984375,52753.43359375,56259.6875,73237.890625,31643.8828125,53999.42578125,47517.69921875,30225.435546875,102122.015625,104632.2265625,41072.73046875,55200.93359375,30005.529296875,46583.08203125,55871.8359375,75145.6015625,82896.78125,45785.1015625,49655.3984375,79467.84375,82561.8515625,69083.09375,73556.390625,76594.734375,57613.546875,67439.0546875,52456.234375,61039.84765625,71606.90625,27499.0234375,50494.93359375,58792.24609375,59193.28515625,92063.28125,79296.34375,74777.8515625,42228.66015625,65192.078125,84954.5390625,25020.58203125,45325.76953125,81646.0546875,65401.37109375,93409.2421875,44487.87109375,58527.05859375,37463.3125,90152.046875,50584.3515625,52695.82421875,18297.390625,73072.34375,69658.984375,99440.5625,64466.03515625,39067.87109375,36070.97265625,35601.9609375,49527.328125,62288.13671875,57499.67578125,54798.359375,106963.6875,29632.53515625,57783.26953125,93602.453125,86277.140625,96066.7109375,70552.1328125,82645.7578125,46065.8125,95541.578125,26478.177734375,47940.1015625,73435.71875,73807.640625,49289.65234375,30062.4140625,87968.921875,78361.015625,77517.171875,33013.7265625,37578.55859375,34762.6328125,64395.6953125,79639.921875,72287.625,88489.8828125,41867.5859375,59826.19921875,35712.0703125,35910.28125,44386.48828125,30930.013671875,104574.625,34908.11328125,28043.283203125,89233.8515625,83784.0859375,49866.44140625,32794.33984375,87824.484375,27323.138671875,28591.966796875,56468.7578125,99867.4921875,46436.79296875,71395.21875,73694.1015625,72013.71875,49441.50390625,53542.046875,71544.734375,45704.91796875,81463.3046875,73424.6953125,66591.578125,38235.45703125,86213.84375,74866.0234375,77588.578125,79877.9921875,58294.0859375,82896.8203125,50441.60546875,34265.93359375,41836.80078125,51055.70703125,54145.9921875,32002.857421875,103443.2578125,31810.505859375,38986.515625,55454.609375,59239.58203125,70132.2265625,39325.12890625,86367.9375,74910.8828125,38257.97265625,73691.640625,77868.578125,22926.517578125,82120.1953125,60334.5234375,74208.0390625,45955.73828125,41540.46875,59936.84375,85156.53125,81512.703125,32657.650390625,61852.86328125,80801.5234375,64659.88671875,61365.61328125,55424.4765625,51080.015625,40212.55859375,88918.75,60248.9609375,82909.1171875,126555.53125,63853.734375,76988.3671875,87267.921875,59474.7109375,32377.21484375,81359.4296875,85423.7265625,62192.6484375,48531.3984375,38349.04296875,75236.1796875,44172.31640625,86073.1484375,118608.6171875,58379.69921875,44844.1875,50178.92578125,67528.7890625,67541.5,92799.515625,27819.724609375,38595.21484375,47455.30859375,75673.6328125,109724.2421875,94475.859375,39230.125,92809.7578125,52704.0234375,32313.26953125,104857.109375,42753.1015625,74066.4921875,39320.9140625,37018.04296875,58280.50390625,57004.2109375,51802.171875,84241.796875,36800.1328125,77292.8125,141201.171875,60561.64453125,73546.59375,51252.96484375,50105.7421875,64351.20703125,59407.59375,48017.9296875,88011.625,98456.59375,57661.5546875,40742.79296875,67320.375,38901.61328125,88190.421875,35813.94140625,71477.859375,37933.55078125,42077.39453125,60608.2734375,42040.64453125,53297.375,57622.96875,79012.0078125,42138.41015625,65825.6171875,58722.3359375,93949.6015625,42166.23046875,67919.625,27375.501953125,66146.7265625,45259.39453125,45671.28515625,30735.46875,38015.734375,52810.69140625,58084.5859375,100562.28125,32127.419921875,91283.4453125,52041.44140625,87492.59375,86688.7578125,33231.5625,67653.6484375,27415.1015625,94169.6171875,75009.1953125,120219.9453125,27015.619140625,57208.73828125,45605.49609375,46821.23046875,47319.734375,42699.7265625,81260.1015625,67340.09375,60578.76953125,75634.765625,77383.8125,32994.38671875,45019.1015625,48122.2265625,110432.296875,82837.0078125,47129.62109375,58713.37109375,32984.3046875,36060.2421875,100171.8203125,55835.30859375,101582.5390625,63006.296875,66696.8359375,58327.9453125,56608.35546875,94780.953125,91996.75,39861.54296875,86205.171875,88851.265625,103142.7734375,51365.7734375,46823.359375,57353.82421875,32964.16796875,37180.93359375,32723.908203125,77251.4453125,61098.05859375,58397.9765625,29967.978515625,56104.9375,84843.9296875,68768.0859375,80814.1953125,45226.734375,114325.15625,61572.58984375,33350.13671875,67381.6171875,47052.15625,52896.171875,37572.1484375,41906.109375,75559.1328125,39460.0,40859.5,77635.6953125,53623.47265625,62165.21875,101691.2890625,80448.0234375,90568.578125,60254.3671875,131937.171875,83582.140625,38951.8046875,62166.28515625,76628.4453125,86373.6015625,41017.91796875,62492.3671875,54556.0859375,61154.67578125,42515.25390625,103213.296875,83301.484375,26502.044921875,61821.91796875,52707.79296875,52824.65234375,51185.54296875,90268.546875,77782.6015625,40910.87109375,42098.6640625,54508.9921875,86079.9296875,44955.140625,66641.2890625,22236.927734375,72748.4375,40822.17578125,52764.76953125,88190.8046875,90006.4296875,70404.203125,92601.265625,59745.734375,91676.4140625,36155.83203125,87856.40625,38921.28515625,59775.30078125,36961.95703125,53382.4296875,31145.23828125,67638.078125,71722.9375,69117.0859375,48772.12890625,59459.91015625,30835.802734375,42855.8359375,36910.796875,51665.15625,65002.27734375,89170.09375,44776.125,73652.5546875,55641.4453125,96152.3125,91941.046875,116962.4453125,66987.21875,68496.046875,43820.8203125,48315.7890625,64129.2578125,115034.4609375,59926.01171875,91809.578125,74566.375,95189.0703125,50716.38671875,85530.0078125,61550.65234375,81862.75,52275.23828125,38263.88671875,85271.078125,30283.333984375,69455.8984375,77367.84375,67052.8046875,33174.35546875,100077.734375,64202.75390625,50815.29296875,90225.6484375,40822.1328125,35157.88671875,107618.3125,115128.3515625,60842.671875,27469.52734375,47108.33203125,75024.3125,52284.2890625,51818.72265625,60452.45703125,54335.5859375,34027.27734375,79134.109375,88313.765625,57808.16796875,83607.2109375,49531.546875,57110.5390625,41920.7265625,66687.609375,56528.2734375,49943.94140625,55526.29296875,40643.75,39706.7890625,35910.57421875,60064.5703125,58916.6640625,80262.59375,38180.53125,82745.5078125,81128.3984375,42376.43359375,36368.68359375,60384.94140625,48234.76171875,65845.109375,61587.9921875,44667.89453125,87560.8828125,45145.8828125,43677.09375,74135.1953125,44365.33984375,82623.0859375,78016.6015625,75123.5078125,43699.8828125,50465.96875,87748.0625,20371.98828125,64418.5390625,75474.625,73071.09375,56378.73046875,33340.95703125,94841.6015625,42200.78125,85956.828125,31874.423828125,54339.71875,100592.609375,61322.23046875,62373.84765625,83606.09375,32543.84375,98999.1875,86033.796875,86575.4921875,27166.958984375,89905.0546875,72638.9453125,22879.37109375,31955.130859375,76751.375,82601.796875,108939.3984375,51671.5703125,42700.46484375,42656.390625,48444.05859375,22568.935546875,75348.65625,79027.421875,33886.56640625,61490.3359375,51628.65625,48717.6875,36044.03515625,45244.8125,44720.2421875,97213.484375,87732.84375,57153.421875,36832.671875,62905.08984375,28889.703125,43003.9375,38270.61328125,47699.015625,90075.21875,57577.50390625,55876.41015625,102109.4921875,31022.0703125,92502.59375,25359.42578125,53062.94140625,82050.7890625,57102.8359375,57670.16796875,32394.677734375,51108.96875,46134.53125,77829.734375,73126.703125,126853.65625,53615.7109375,49165.66015625,49707.25390625,41170.27734375,85340.0625,61402.87109375,84734.859375,50175.98828125,50778.52734375,50676.3203125,60458.00390625,83787.3984375,82217.9375,57791.18359375,44554.765625,34134.94921875,59701.4765625,54778.296875,107071.7890625,84126.09375,53429.75390625,30606.974609375,45851.921875,37779.46875,73138.1953125,66496.9609375,67982.9921875,123573.234375,113786.890625,62084.546875,40538.25390625,79328.0703125,68810.09375,65176.52734375,70616.640625,69796.0,51579.19140625,98608.734375,31578.7421875,49695.51953125,25902.10546875,100230.84375,40992.0234375,54787.98828125,122089.578125,46471.26953125,25180.701171875,72287.5390625,41090.26953125,88835.25,70050.3984375,77615.578125,117542.734375,35333.328125,125309.8203125,44853.36328125,91897.34375,44745.34375,78792.7265625,80387.7890625,81083.375,130642.46875,94420.3046875,62758.8359375,87708.1328125,61314.15234375,25256.1015625,34062.3359375,122638.1875,34219.68359375,81515.28125,4117.61474609375,106879.71875,77807.1796875,54773.1953125,53202.0859375,23764.80859375,20433.287109375,52196.83203125,84499.6796875,46924.73828125,55627.5234375,52908.51171875,67395.6796875,88392.5625,71009.1328125,50741.4609375,67454.7109375,52958.37890625,109696.78125,54914.16015625,112758.234375,72403.2265625,33115.36328125,46838.3125,69822.1171875,52003.2890625,66980.890625,49003.38671875,104380.5390625,85401.7890625,53795.2421875,64564.28125,46141.578125,64571.97265625,78425.40625,87223.1015625,48503.23046875,60965.36328125,103667.1796875,77404.6953125,35607.4609375,65563.7421875,32760.962890625,39581.1328125,15024.57421875,38236.234375,51318.55859375,89601.9296875,84519.8046875,35586.02734375,65964.765625,51887.46484375,56743.29296875,52062.72265625,58096.7734375,49985.046875,58457.44921875,67953.8203125,75707.1171875,92232.34375,63611.87109375,81260.5390625,51267.1640625,91666.1640625,57710.41015625,42217.40234375,79230.5546875,106408.4453125,77398.9921875,102820.6015625,49816.16015625,77370.6796875,23171.693359375,29962.162109375,82951.9296875,81121.390625,26575.205078125,82195.109375,26379.021484375,40635.5078125,46653.515625,67348.1640625,66585.359375,99490.328125,74530.9453125,25667.345703125,61372.3515625,81111.390625,48953.59375,53598.6875,57262.01171875,67767.0234375,49722.66015625,79499.1875,37455.9140625,65170.30859375,70045.171875,90147.6953125,62304.546875,40640.078125,46956.8359375,57701.41015625,104990.4296875,50638.62890625,30258.771484375,82092.625,47362.0625,63310.421875,68725.25,42362.2734375,46483.1640625,57261.58984375,62878.04296875,66355.875,89858.4375,37922.42578125,52775.28515625,43742.390625,69959.1015625,41249.98046875,37173.7890625,84023.296875,45131.76953125,65330.80078125,52477.80078125,54636.3203125,88275.375,88112.484375,-94.7216567993164,78646.9375,63975.48046875,47584.9453125,52950.2578125,88663.5,46752.97265625,73184.171875,33336.4375,67328.78125,79965.3984375,50187.87109375,46312.9140625,36160.50390625,40556.71875,61386.44921875,89634.2109375,58943.578125,49734.15234375,97418.328125,38095.7265625,43212.5703125,53165.55859375,33872.66015625,95377.0625,69587.171875,81709.7890625,59182.140625,63367.5078125,61506.20703125,39024.6875,71600.625,44015.5546875,87875.4609375,38056.28125,52049.66015625,87935.3515625,41737.421875,100603.0703125,38120.05078125,104164.140625,64797.4609375,63766.5,64156.32421875,89620.140625,65367.0625,46500.7265625,40175.578125,63948.0,55162.1875,69178.859375,35064.6328125,57851.125,55810.09765625,45414.2109375,61727.90234375,47322.8203125,35495.15234375,84020.34375,26590.87890625,56196.2578125,71950.6484375,83970.46875,99875.859375,53480.05078125,61448.1953125,55785.82421875,40047.34765625,63052.28125,55247.16015625,46816.921875,51187.39453125,78035.65625,45779.87890625,55029.0,79816.0234375,68909.5390625,72201.28125,90268.2890625,76511.1953125,29512.701171875,63781.15234375,65151.0546875,47899.9296875,38469.1015625,40118.03125,49063.46875,22559.384765625,57604.8046875,46941.58203125,74363.125,30242.77734375,50897.78515625,52347.02734375,52276.08984375,28722.048828125,77043.484375,55267.0546875,61990.66796875,63481.890625,44316.67578125,36375.99609375,36501.49609375,72776.5078125,25574.431640625,62775.26953125,57459.1171875,77080.2109375,115873.6640625,89679.265625,65494.7890625,50985.35546875,89055.1875,48318.99609375,44526.609375,55199.453125,93106.046875,79994.6953125,92766.453125,60720.41015625,100690.5625,59057.140625,26599.7890625,70496.1640625,60430.55859375,63842.7421875,71722.0703125,53416.84765625,65854.5546875,87667.2890625,58022.203125,77746.2421875,61941.73046875,69761.5390625,40311.296875,46522.52734375,35417.421875,68277.2265625,44565.80078125,33365.25,76667.1796875,109679.7578125,79678.765625,104159.78125,64596.08984375,96696.3984375,60253.37109375,107509.9296875,39037.109375,30572.921875,78425.96875,97820.46875,36748.79296875,95749.578125,54008.04296875,69489.671875,31362.580078125,87863.4296875,71116.171875,72855.265625,29241.921875,60035.1953125,41963.8828125,54622.84375,36857.50390625,50360.375,74363.4375,95386.515625,38468.796875,68412.8046875,80628.9453125,69458.421875,39148.84375,83688.671875,30765.439453125,64973.375,39421.56640625,53754.45703125,67763.8984375,47179.6875,43470.296875,87248.109375,47760.64453125,52719.21875,56328.55078125,66089.984375,44078.5625,41273.79296875,34980.890625,64572.90234375,90953.3671875,53115.70703125,77783.8046875,36183.046875,39401.94921875,39100.26171875,111022.875,38339.32421875,89490.40625,36079.9296875,77280.5,72232.109375,38864.796875,99864.9921875,49353.34375,41350.9296875,24701.697265625,41320.1328125,54193.20703125,28183.513671875,37197.9453125,65472.96484375,61449.76171875,56934.10546875,60069.4140625,38667.734375,53256.875,61322.62109375,73607.84375,85235.7109375,69708.53125,60981.09765625,36436.546875,48693.41796875,60113.078125,82399.34375,75807.5703125,59694.83203125,85170.5234375,47471.37109375,109482.1640625,43261.00390625,59351.4375,79431.59375,96983.453125,59459.2578125,53094.95703125,33707.125,47165.82421875,24298.814453125,49110.9453125,59451.04296875,47990.12890625,26030.984375,30006.306640625,42347.0625,41965.80078125,34486.19921875,60030.26171875,49513.85546875,78590.015625,44381.8359375,42830.26953125,70564.8125,34437.58984375,46787.515625,57115.3984375,82734.2890625,52773.28125,63390.01953125,33218.63671875,62476.640625,56321.796875,80791.140625,94742.8828125,93640.390625,67688.0703125,48254.09375,92220.9765625,71649.90625,59157.93359375,60852.54296875,37721.69921875,41874.37890625,43136.09375,83351.953125,39928.47265625,22990.34765625,70913.3359375,105942.2890625,68096.8203125,38280.06640625,75686.8984375,85917.4609375,105015.953125,57891.82421875,86846.890625,29657.365234375,92952.2109375,60037.29296875,66305.46875,46609.7265625,42326.9453125,33679.67578125,80847.546875,41424.7734375,48522.92578125,59364.609375,92560.8828125,40141.125,63555.65234375,33990.5,62500.87109375,69351.5546875,6674.4140625,38800.29296875,50292.6875,94272.3046875,56403.421875,40698.83203125,38849.71484375,38961.125,49055.078125,23254.609375,106987.1796875,147326.296875,61912.66796875,78227.875,46100.71484375,56289.69140625,69489.5625,48223.1484375,36965.83984375,78423.0625,42444.0390625,28046.376953125,44505.2578125,69795.7421875,67984.9765625,62844.4375,97012.1015625,37785.78125,91625.484375,45647.5546875,56904.625,85462.5390625,117536.6796875,48234.5703125,32968.57421875,71905.0625,59907.125,97807.375,69145.109375,103138.3046875,60928.34765625,28956.146484375,94716.4453125,36319.6953125,83885.1484375,35400.15625,68692.4296875,39446.8046875,82500.84375,36974.0546875,84781.484375,66191.296875,43442.22265625,73694.484375,26804.88671875,41517.40234375,49442.5078125,38717.5859375,51548.66015625,69352.421875,40010.38671875,79508.15625,90737.96875,61732.6015625,77207.6875,92537.0859375,49990.4921875,82147.109375,90366.8046875,40445.34765625,97210.234375,53868.015625,55772.0546875,20922.35546875,45041.45703125,97628.125,94703.6796875,64895.48828125,119593.8515625,86479.6796875,100584.265625,44896.69921875,85346.7109375,82778.6171875,71061.515625,66018.9765625,61559.31640625,55576.94140625,21482.314453125,36302.7109375,81289.734375,76629.6484375,81159.6640625,40988.93359375,51930.9453125,107029.1796875,60686.875,48209.1953125,28871.1640625,79949.0859375,16676.607421875,71713.3984375,30837.828125,74731.3203125,45907.5859375,59421.046875,75081.671875,45092.97265625,31046.98046875,86913.90625,46344.57421875,80285.28125,51485.26171875,52975.50390625,89210.171875,57486.1640625,99512.90625,85177.078125,47322.8515625,51690.76171875,38122.578125,55076.91796875,66951.0078125,52648.30078125,62506.23828125,53320.63671875,50121.09375,69779.546875,79096.1875,119509.0703125,31130.220703125,41033.0625,64597.9375,69557.109375,51624.2421875,38516.51953125,97862.7265625,40994.25390625,118545.265625,76524.78125,33488.01953125,41721.5390625,47620.45703125,88248.2421875,53323.70703125,41949.671875,58961.0703125,35453.97265625,33195.5234375,49489.09765625,33813.78125,70260.3984375,68538.359375,41947.0390625,86067.828125,65767.1796875,43015.50390625,48486.14453125,91872.7734375,42835.6015625,44220.125,46414.2265625,68740.9765625,82863.28125,44790.80859375,52724.85546875,23544.814453125,58479.37109375,47254.5859375,18870.44921875,80092.9921875,68445.6796875,97665.6953125,64362.1328125,66728.40625,63985.25,35084.28515625,44820.13671875,55787.890625,40427.14453125,79055.8046875,92757.6796875,40649.45703125,94450.859375,50719.4140625,56682.0078125,61351.13671875,44712.69921875,55745.6015625,74400.5703125,54409.3984375,62342.8984375,103450.1875,96811.1875,51304.0625,84018.6796875,53443.953125,88962.5234375,68160.1953125,70448.7734375,89703.8828125,39696.390625,77971.9375,65365.07421875,43869.46875,74760.3671875,83591.1875,80107.171875,46885.57421875,102601.34375,58249.29296875,53801.484375,58382.875,47645.84765625,36325.4140625,54735.0078125,76349.3671875,96275.421875,78702.703125,43349.37890625,43669.86328125,62583.046875,25506.439453125,28121.548828125,98724.2421875,50551.0078125,29141.05859375,50457.26171875,101741.4140625,49434.02734375,37751.6015625,83713.5625,51736.62890625,58397.890625,83860.7265625,51141.87890625,79401.8984375,35888.8203125,60954.03515625,95176.96875,49709.1796875,58316.8046875,52954.13671875,68761.3046875,54846.5625,49429.49609375,49385.421875,52081.984375,66710.3671875,97984.546875,38375.734375,49179.7890625,67403.3046875,69156.5703125,87343.4765625,54785.49609375,80433.2734375,75746.484375,72757.25,132946.6875,92133.9453125,47608.6953125,64277.1640625,88218.203125,54927.66015625,33140.8515625,38816.7578125,46524.95703125,50403.21484375,30949.59765625,58271.6953125,48097.328125,93306.515625,40132.9453125,36980.125,86675.3671875,61441.0390625,49677.0,46256.66796875,45011.52734375,84860.3046875,32397.51171875,78911.3203125,90819.421875,81520.4140625,79445.1875,103814.7109375,47124.73828125,63091.94140625,105860.4296875,44920.66015625,86169.0390625,-144.7105712890625,62271.6171875,59772.03515625,42312.18359375,81090.6796875,39698.5625,60443.9296875,84458.8046875,60367.87109375,69080.7890625,30148.75390625,97237.703125,74533.5546875,54810.109375,60338.6875,47978.28125,61380.6015625,37572.51953125,87241.15625,83552.8203125,80269.84375,59686.64453125,61279.41796875,24261.0234375,70229.5546875,74467.1953125,40145.4609375,55073.8515625,33927.69140625,74788.1171875,80319.6328125,25903.75390625,52415.0390625,23935.7734375,42515.71484375,83392.4140625,57008.32421875,66587.015625,67518.1640625,88969.484375,54526.94921875,29107.625,52238.5390625,95758.59375,53216.3984375,58245.25,55521.8828125,91522.734375,35041.32421875,90804.09375,39200.0546875,76544.046875,89869.3671875,42212.06640625,65451.30078125,71393.25,46242.6015625,50113.9140625,50320.796875,82498.4296875,11702.3759765625,56219.8671875,92349.859375,44963.65234375,85833.0625,39201.73828125,45765.40234375,81858.6015625,33497.94140625,78842.5,52227.046875,39897.4609375,38049.40234375,61056.55859375,80244.2734375,89266.9921875,89899.8828125,54231.6953125,41142.83984375,86270.234375,84490.078125,54467.2578125,61787.7109375,40551.87890625,63626.30859375,53656.921875,69228.6328125,65387.171875,44814.11328125,52962.16015625,54138.59375,71144.5703125,52227.83984375,87206.4296875,73320.34375,52015.21875,66394.921875,99230.8203125,25559.181640625,61662.72265625,20957.072265625,71891.390625,51912.5390625,100089.71875,60750.8515625,42834.296875,47562.0703125,82596.234375,53725.80859375,32370.3671875,90977.046875,70591.203125,82119.1484375,33763.48046875,53513.875,37502.43359375,49244.33984375,63956.26171875,89753.9765625,74442.203125,37884.46875,69267.3125,36190.671875,45493.60546875,73729.453125,46128.2578125,40628.37109375,35344.05078125,45003.67578125,71222.4140625,49105.31640625,43547.4921875,100045.0390625,110161.8125,38981.390625,50244.86328125,66494.765625,54169.2734375,94247.7734375,41274.96484375,29564.228515625,22980.583984375,38484.3984375,65885.0078125,38368.69140625,77965.28125,76499.0703125,44036.0703125,73041.1875,34396.0,59303.47265625,45019.59765625,77167.9296875,89870.4296875,40856.41015625,80460.390625,36588.78515625,19824.0546875,64155.6796875,75730.4921875,43087.90234375,62273.90234375,56424.875,56774.37109375,61069.77734375,87952.75,95945.9375,137453.859375,35934.12890625,95879.0,44627.68359375,63800.17578125,41052.48828125,73811.328125,48672.3984375,33650.38671875,44105.3828125,23662.5234375,94356.7890625,74950.3359375,44984.12890625,102189.921875,40224.015625,71469.0625,87420.6640625,74679.609375,66304.421875,55820.26171875,47384.2421875,81375.6796875,65956.7421875,32541.763671875,57361.5390625,85393.703125,48188.09375,28681.576171875,47750.1015625,70594.6796875,92210.1328125,83249.8515625,56990.5234375,96148.6484375,50070.73828125,59090.05859375,38208.82421875,35292.7421875,68587.0234375,87840.328125,38875.671875,96219.234375,68590.9765625,33502.3125,79031.453125,52603.63671875,58521.62890625,117406.984375,38812.01953125,73849.921875,83306.453125,51924.84765625,52590.31640625,40104.33984375,70858.3203125,75482.1328125,33794.97265625,19006.376953125,45359.64453125,43158.12109375,87377.5390625,108215.109375,22759.421875,56426.69921875,53903.0625,41754.76953125,100836.7109375,83651.6015625,77384.5390625,25988.724609375,77291.0625,63415.46875,54016.5546875,91131.6796875,39565.9453125,33238.67578125,84262.3984375,59832.91796875,79160.9453125,47692.3203125,99130.1953125,34331.37890625,91372.203125,37493.6015625,80501.703125,97713.09375,51998.328125,57581.3359375,26788.37109375,56702.00390625,33249.37890625,64272.45703125,59299.41796875,77914.703125,37100.9375,41902.51171875,97348.859375,82857.2109375,14006.6337890625,47782.66796875,54865.24609375,45855.60546875,32100.03515625,45187.6015625,74176.5625,43373.09765625,38300.875,69887.546875,73335.515625,123296.546875,47098.94921875,43645.0859375,115027.9140625,82544.7578125,85068.1640625,42857.5703125,80077.7578125,92128.6796875,70702.609375,71373.2578125,42918.53515625,59543.08984375,84104.203125,48728.6015625,33007.4921875,74662.828125,105933.09375,75646.078125,77563.703125,43303.72265625,110172.8984375,79303.1328125,46179.6171875,74888.6328125,49048.63671875,64360.0390625,65514.98046875,63050.015625,29432.005859375,68067.90625,94456.390625,60197.6484375,59673.80859375,40098.05078125,41359.11328125,46279.3359375,78901.34375,105331.75,37596.03125,49541.15234375,75859.6953125,12997.072265625,46832.0234375,33277.76171875,34113.55859375,93936.3515625,36327.30859375,52723.89453125,76027.4609375,72156.109375,46005.69921875,47809.609375,73225.671875,78530.078125,62677.2890625,37873.5625,42748.1171875,90800.1328125,47513.046875,60062.1015625,81065.75,59449.08203125,50359.89453125,88588.53125,8714.59765625,23260.490234375,86827.25,112523.4609375,67768.6015625,46132.21875,33070.40234375,63112.40234375,122905.359375,51055.2265625,90972.9453125,68098.2734375,40713.9140625,101245.65625,85170.1328125,70795.9609375,50746.12109375,69616.8125,51938.75390625,53763.44921875,56596.6640625,34161.41015625,38752.546875,37000.4375,30284.21484375,44055.96484375,54989.0859375,64426.03125,91580.65625,34866.4765625,64485.7109375,30568.943359375,32253.583984375,34111.078125,41341.73828125,53777.3203125,53664.0,43706.23046875,30703.80859375,68126.890625,82318.28125,49812.9453125,27373.673828125,38224.1484375,44213.13671875,20183.099609375,24945.78515625,85173.984375,37753.453125,34902.6015625,100148.546875,51720.5703125,64962.3828125,62121.70703125,131579.9375,37962.1640625,18815.052734375,49140.28515625,92940.3125,119161.9921875,55655.41015625,64169.609375,36662.71875,86706.0390625,65822.953125,37672.26171875,105198.1015625,80645.2265625,70241.3828125,60123.55078125,46919.51171875,63457.5703125,85710.84375,88222.390625,51030.05078125,112817.140625,64413.21875,97175.34375,48101.6484375,55237.86328125,41783.8828125,39916.36328125,52145.98046875,72124.828125,75726.375,80223.828125,105329.765625,29091.95703125,80672.03125,72407.2734375,65289.9296875,37070.359375,29756.138671875,31890.22265625,58030.56640625,32965.75390625,98853.484375,81284.1640625,117841.2734375,45100.91015625,77820.9921875,66417.5859375,44015.859375,92552.75,42944.59765625,116034.8515625,46848.85546875,62423.078125,28482.16796875,87412.4296875,80425.4375,73034.8046875,106710.0625,39465.14453125,54396.16796875,87546.5078125,38338.3515625,35176.3671875,47930.23828125,82549.3515625,47835.84375,22418.921875,46900.62109375,90326.15625,95413.9609375,45042.3046875,88838.78125,33144.265625,23367.294921875,49592.43359375,54500.3046875,78137.3515625,66620.40625,123084.5546875,30835.33984375,50121.96484375,60100.5390625,81065.6796875,47815.39453125,64091.25,30851.91796875,84079.484375,75312.484375,71628.6171875,25268.837890625,88092.9921875,33738.56640625,67780.4140625,61566.20703125,58245.4609375,18313.697265625,52107.9765625,46794.94921875,41367.63671875,51246.20703125,84661.6796875,83614.734375,45635.8203125,50208.69140625,105102.71875,44420.74609375,79167.171875,34520.4921875,58932.44140625,33018.9453125,71119.53125,50914.40234375,46090.87109375,42952.83203125,61926.03515625,73777.046875,48347.90625,40217.8515625,37003.38671875,59269.0390625,42762.06640625,65287.18359375,86123.5703125,29075.0078125,49771.78515625,105005.7734375,69978.2578125,55592.421875,54347.12890625,47469.27734375,124927.6796875,118279.7578125,60424.84375,44756.5078125,51673.81640625,42222.33984375,53438.1953125,47567.09765625,115731.5078125,61036.18359375,36870.06640625,79022.90625,38724.4453125,53779.98828125,41267.54296875,23157.072265625,50765.6015625,30334.5,62665.65625,42703.61328125,65308.56640625,41111.33203125,60163.484375,50081.89453125,28253.291015625,59809.84375,63655.609375,95778.984375,39023.6796875,61163.75,75827.734375,99290.4609375,62627.93359375,85546.703125,67037.953125,108817.7109375,77564.8515625,89612.5078125,61018.55078125,74322.5390625,89378.5390625,54539.359375,76652.6640625,88020.4140625,55335.26953125,84482.171875,92846.1796875,41595.92578125,53535.01171875,54282.58984375,111264.375,82121.296875,32108.16796875,42347.08203125,42897.69140625,56798.71484375,66022.8671875,24100.5,48459.0,41857.91015625,50968.76171875,60262.6015625,77133.4765625,63791.66015625,34991.9453125,96877.53125,101242.140625,37433.72265625,82118.890625,90803.3515625,48146.81640625,50225.3671875,49379.4765625,46911.9453125,63531.3203125,60653.90625,49013.5234375,46216.1171875,45753.6953125,31790.318359375,47892.51171875,36526.23046875,88798.359375,69621.9140625,65316.3046875,55719.015625,43739.1484375,49110.01953125,74107.015625,102282.46875,32813.1953125,67638.078125,61494.1953125,82951.328125,78048.46875,84142.1875,115228.7421875,94842.0234375,37548.58203125,49880.453125,94650.0625,37443.04296875,43246.10546875,50500.2265625,58823.80859375,46287.796875,31566.57421875,35533.9609375,105010.8359375,50397.859375,46183.58984375,32916.28125,80615.609375,87633.2734375,32070.08984375,59510.765625,51224.71484375,52568.3984375,19249.228515625,54051.65234375,41824.1328125,46591.48046875,50640.22265625,45886.2109375,26768.96875,56389.1640625,75407.671875,52342.62890625,103154.59375,80926.1015625,79614.5390625,46797.90234375,93637.8828125,74196.703125,74217.875,54953.234375,36633.63671875,43298.3515625,80538.34375,82885.953125,41648.73828125,81046.0234375,65959.3203125,84656.2421875,83293.6484375,118060.9453125,72036.0703125,34806.9609375,58967.3125,96245.703125,107523.5390625,44329.109375,98085.3671875,44596.12109375,91833.9453125,68707.0546875,36019.05078125,40757.515625,28972.82421875,42450.765625,53134.4765625,71547.75,81868.296875,21263.5625,26078.673828125,55945.76953125,86130.6328125,128502.828125,54257.3359375,63585.1328125,64077.6484375,52721.4453125,74733.53125,53422.765625,92094.890625,48678.69921875,27379.7109375,25341.275390625,49083.6328125,50996.72265625,123.95277404785156,91511.0625,80228.2578125,79066.09375,73432.828125,81820.921875,59841.87890625,106959.515625,33047.86328125,79672.3984375,101168.578125,68264.15625,39003.5703125,55326.1015625,26818.537109375,33750.8671875,44938.69140625,131493.0,42343.7421875,48435.984375,85549.625,35406.9296875,54429.0078125,89243.109375,84101.984375,23787.033203125,96343.859375,36753.33984375,57643.58984375,63860.046875,73963.9375,38878.671875,68419.046875,82745.140625,93867.25,52991.11328125,91107.46875,82200.78125,53466.51171875,74748.2109375,45775.9453125,76765.609375,24610.6640625,89285.125,33544.18359375,37296.84765625,92149.5,35151.046875,55842.73046875,44911.24609375,52744.234375,44070.0234375,39525.67578125,54164.73046875,42239.46875,94032.171875,24861.8828125,82523.484375,57123.03515625,87130.53125,61627.72265625,96439.1171875,71260.2578125,30880.90625,55752.01171875,78316.53125,54446.671875,91721.6328125,60387.96484375,53387.45703125,37281.90625,51259.56640625,53397.828125,86834.109375,21674.91796875,90954.875,42298.0234375,33486.95703125,52199.13671875,70631.90625,96412.7890625,53713.5625,84278.5234375,81981.671875,70858.4921875,73425.21875,49621.60546875,117629.078125,61186.77734375,71612.734375,61842.8359375,60073.18359375,100183.6640625,61221.58984375,67236.0390625,71148.359375,45220.0234375,103098.7734375,41686.89453125,92946.796875,71001.8359375,56149.140625,78580.046875,73872.78125,23730.10546875,39893.4921875,142522.59375,92069.1875,80684.078125,40814.50390625,80245.1640625,34005.99609375,31187.185546875,96353.21875,94360.6875,79996.4453125,86730.75,90528.2578125,86827.2734375,68901.6640625,44380.828125,119665.5859375,47572.19140625,37024.9140625,63244.1640625,46484.26953125,57512.1640625,45671.62109375,67814.2109375,37771.8828125,74154.1640625,55915.0546875,48130.28515625,77987.5,44147.359375,78756.8984375,60157.26953125,39728.3359375,70395.7890625,31393.369140625,26179.416015625,58930.1484375,73993.21875,62993.66796875,88836.28125,58691.69140625,26498.921875,76956.6875,39655.79296875,36010.04296875,52556.57421875,37981.75,125434.6796875,75178.3828125,95308.96875,39015.5390625,53582.95703125,29693.013671875,83976.34375,45181.92578125,61623.16015625,22622.998046875,52431.6171875,74290.359375,51184.2578125,49349.01953125,42077.87109375,34123.33203125,55026.73828125,52235.046875,112513.9453125,70441.53125,96458.2265625,36187.046875,36356.30078125,52366.65625,84172.0,31543.169921875,51917.35546875,40690.6875,66255.2265625,53080.31640625,55594.01953125,77830.2734375,80636.3515625,117858.6328125,63462.47265625,53087.7109375,37635.73828125,90870.15625,36375.21484375,34879.19921875,69320.71875,46369.3203125,34145.04296875,41107.609375,42622.328125,106763.671875,48605.44140625,106680.03125,51510.97265625,37043.83984375,67623.0,61949.1171875,77976.859375,52566.21875,70351.171875,35527.26953125,33610.16796875,44309.046875,100409.40625,39916.16796875,40364.3828125,39613.2890625,51714.47265625,55894.7578125,42796.765625,70714.921875,42377.6171875,62967.82421875,68130.5390625,56181.5703125,85093.7890625,50397.6875,121390.6015625,90219.71875,58920.51953125,28945.380859375,39140.546875,43813.61328125,51550.59375,14529.3310546875,95050.9921875,64964.6015625,37429.55859375,89803.46875,36646.6953125,75282.6484375,78730.9921875,92541.9375,56415.47265625,52454.72265625,78224.96875,97278.34375,84884.3671875,38095.1484375,76016.4609375,66901.3828125,54419.1171875,86461.9453125,52163.0703125,35124.03515625,44076.43359375,37652.33984375,33623.62109375,68578.8359375,76296.34375,45966.33984375,58901.70703125,84975.046875,39345.31640625,87395.7109375,73592.3515625,70130.0859375,77513.2578125,57104.74609375,74161.1796875,43282.01953125,66585.3515625,83554.34375,94789.515625,67529.9921875,84569.0859375,48743.765625,69365.6328125,69624.78125,68257.875,79653.734375,46510.04296875,76511.984375,40757.94921875,41582.82421875,73753.1953125,50526.68359375,82190.6484375,77310.1640625,54834.55078125,109617.1875,50621.29296875,34606.890625,61463.44140625,47264.2265625,60236.46875,54650.2734375,80458.546875,98322.5234375,66462.015625,59027.68359375,29154.296875,69774.0390625,89101.4296875,47738.0234375,64206.11328125,46861.63671875,82161.625,45447.3046875,72433.703125,89277.5859375,67284.53125,36006.328125,102866.1484375,68706.1796875,99062.3125,75689.8984375,57647.34375,89250.4453125,34139.203125,52512.125,54267.0859375,43342.0703125,60361.8984375,84500.625,35279.4765625,64705.9375,91675.75,77087.765625,94107.34375,52985.5546875,44941.65234375,112739.359375,36903.109375,81759.546875,41288.7890625,45992.67578125,47965.53515625,33409.10546875,94923.3828125,68846.9609375,88238.609375,60326.35546875,104759.9765625,44568.37890625,30703.404296875,95438.5703125,57496.3828125,26853.271484375,82412.3671875,80670.7734375,62018.12890625,109567.4609375,47262.22265625,81202.296875,175.3909454345703,54801.7890625,59359.203125,57227.515625,80120.03125,70329.6796875,71273.3203125,92421.6015625,53605.94140625,83064.5546875,49836.98828125,69671.8046875,37172.796875,27510.517578125,59994.30078125,79213.859375,59951.4921875,54332.359375,90019.7734375,59895.3046875,44930.5234375,31091.439453125,43653.7421875,34768.91796875,61890.5703125,54861.8984375,95995.890625,66708.65625,49897.73046875,49544.2421875,33471.4296875,60179.20703125,59320.01953125,50343.8125,39846.78125,46727.51171875,99764.359375,41506.85546875,63372.44140625,51131.99609375,54099.27734375,50763.65625,59548.45703125,68117.9921875,48539.828125,50915.109375,87586.765625,45371.046875,116059.25,72154.859375,46829.65625,31686.939453125,34494.95703125,97252.0,48909.01171875,29438.0390625,30220.373046875,37709.42578125,56931.69921875,53730.76171875,46906.40625,85528.1484375,59127.0234375,76971.3828125,43560.3359375,55688.05078125,41454.27734375,28695.15234375,112725.0546875,112187.5703125,74466.5703125,74617.1328125,55180.91796875,29091.634765625,32280.904296875,71554.3828125,67186.2890625,91390.328125,47973.91796875,36605.4921875,39796.88671875,25643.560546875,94915.15625,64392.34765625,71664.7734375,78472.78125,49704.15625,40555.1640625,57412.39453125,55594.8046875,97651.0234375,47823.703125,46973.8671875,63567.46875,72873.0078125,69189.5859375,49168.359375,69840.859375,65658.8359375,25644.759765625,85496.6015625,56230.58984375,99042.390625,27071.974609375,84666.6953125,94820.015625,33461.6171875,58061.078125,40435.0546875,44843.50390625,67783.46875,84805.8046875,39767.04296875,78539.8359375,47954.42578125,91966.1484375,93864.46875,51895.08203125,76136.9296875,46897.87890625,46899.77734375,50157.3984375,72595.4453125,77192.5546875,78823.09375,60455.7109375,46790.9375,84911.734375,41714.515625,57412.90625,43842.76171875,91516.8828125,83696.4609375,28655.09375,87646.1484375,57079.53125,69958.1875,63066.89453125,46102.8671875,78126.09375,42608.77734375,50332.9765625,81348.359375,61907.65625,22196.271484375,96925.625,48172.26953125,30134.484375,46198.7734375,80436.140625,85148.203125,40157.15234375,64558.0546875,56736.55859375,44004.2890625,116278.2109375,66683.4765625,50895.6953125,41102.90234375,91123.96875,65626.5859375,65027.0234375,60872.16015625,39578.23828125,84407.7421875,98017.8515625,44374.93359375,26756.978515625,106952.1171875,83655.4296875,62285.1640625,39105.91796875,39135.6875,62375.36328125,83518.0078125,64063.8984375,51933.35546875,25625.763671875,67714.0546875,41877.17578125,69276.3515625,82444.3359375,36837.73046875,63159.41015625,63050.625,31983.7265625,42438.9375,59094.3671875,83214.8046875,86037.984375,38275.59765625,51178.8984375,27554.61328125,49661.44921875,68279.421875,59435.80078125,60758.06640625,52619.31640625,63972.9921875,90724.6796875,107278.9296875,34370.15625,77530.203125,38353.59375,60028.578125,89768.46875,66516.4921875,89708.859375,55347.703125,29901.265625,23163.451171875,51367.2578125,22641.4140625,38689.515625,39780.1953125,49612.63671875,45867.8046875,114603.5234375,57168.1875,46865.91015625,50134.62890625,59915.17578125,45890.80859375,44052.08203125,30299.32421875,83670.5078125,30587.509765625,53210.78125,61752.2265625,49555.6953125,29025.138671875,35403.9921875,80742.5625,86104.859375,52279.87109375,39006.48828125,50065.73828125,42176.44140625,65767.84375,38228.05078125,42569.5625,81616.671875,69301.53125,40595.3046875,104174.2734375,68911.109375,39457.46875,36436.05078125,26048.24609375,40764.515625,48474.26953125,82464.2109375,51152.7890625,62528.0859375,36026.6796875,48119.171875,85937.8046875,34376.2734375,51264.0390625,58037.234375,43011.59375,66153.3984375,42094.23828125,68624.59375,43427.90625,63969.5859375,44654.70703125,50366.046875,44840.3125,35696.66015625,50036.4140625,71465.9609375,45634.5703125,37146.109375,59898.83203125,74055.7109375,59116.27734375,32762.697265625,83073.8203125,81474.0390625,46975.3203125,67461.6015625,91977.6328125,53227.85546875,114683.21875,68459.1015625,32689.736328125,76159.8359375,81647.359375,88551.1171875,57833.94921875,52944.671875,90759.25,32474.169921875,98318.8046875,35654.2265625,69416.0234375,31111.4921875,37193.18359375,87192.1328125,42098.9296875,30162.689453125,35548.82421875,50426.80078125,21155.853515625,47789.57421875,38706.84375,40631.95703125,61053.3671875,89712.578125,73485.2421875,40046.17578125,32793.125,48319.75390625,39697.11328125,58301.21484375,53815.703125,89029.5625,93801.0234375,58813.15234375,81101.8671875,46572.9765625,62671.25390625,58499.6953125,73312.75,85427.2421875,52102.38671875,34574.984375,20556.9296875,39157.58203125,70361.375,74772.453125,36949.90625,28612.58984375,41104.0,32053.068359375,58745.34375,47158.94140625,25483.5078125,61717.66796875,87454.9609375,39900.66015625,41292.03515625,25078.244140625,115968.765625,61717.7578125,46863.8984375,77393.0,99781.5625,92467.8359375,49464.4453125,25964.9453125,58063.28125,51629.1328125,50060.296875,36185.8515625,51523.5390625,37518.56640625,98492.46875,67348.4375,31504.03125,100128.1796875,34237.8828125,91702.015625,79847.515625,81334.5078125,54889.23046875,37161.55859375,44184.3046875,99102.4453125,48529.58203125,39130.85546875,71124.796875,43175.828125,83285.125,83234.09375,44951.26171875,56175.8046875,33321.0234375,96105.234375,88934.328125,107641.609375,52510.2421875,77002.578125,65009.93359375,45259.453125,77389.46875,36507.15625,66833.75,49785.94921875,53966.65625,93976.5390625,29216.126953125,38588.6875,45779.359375,89280.9375,27492.318359375,45512.3828125,57238.16796875,66109.1953125,57747.53515625,52140.15625,34098.84375,47016.2734375,62426.8046875,42744.08984375,74719.875,56454.16015625,50061.59765625,44427.24609375,71911.875,67322.53125,82170.4140625,65093.05078125,36379.33984375,54246.1328125,92280.9453125,48566.73046875,55769.6015625,43275.2734375,85967.75,37780.875,70561.7578125,49246.2265625,65743.6171875,87141.71875,54561.8203125,27663.52734375,106486.4765625,42108.859375,45532.18359375,66799.3671875,30133.673828125,50134.765625,100646.7578125,44732.875,61002.73046875,79797.125,97962.703125,48937.1328125,42798.00390625,50323.30078125,54385.9609375,84947.6953125,68878.5078125,56372.609375,100232.09375,59041.1171875,100091.7578125,31320.998046875,44097.9140625,86881.59375,35602.84765625,123735.328125,91486.890625,100761.7578125,56966.5625,22539.060546875,71930.09375,53739.3828125,33882.83984375,58461.15234375,20510.048828125,30255.130859375,74829.953125,53401.140625,83825.7265625,38433.078125,75896.5703125,90735.109375,4405.77783203125,64033.703125,79183.7578125,86822.265625,22973.458984375,36955.20703125,91072.2109375,38038.9375,85695.7578125,83209.7265625,39947.6328125,34408.5859375,67811.6484375,41943.77734375,70966.8515625,49332.58203125,49633.3671875,65054.25390625,83961.0625,88157.0078125,37992.91015625,59618.66796875,78884.5546875,82018.71875,39335.7109375,69794.9140625,66014.046875,44907.02734375,35818.34765625,50796.4921875,114844.3828125,41572.38671875,63977.828125,71839.390625,53848.265625,45572.1796875,32280.009765625,41769.83984375,36009.18359375,42562.35546875,39814.87890625,43084.1875,41444.34375,57514.109375,80372.1640625,81042.328125,91411.75,35880.796875,60604.4296875,61631.7421875,37061.37109375,72956.828125,46752.76171875,67269.4765625,88430.640625,21533.068359375,30281.2265625,43775.58984375,58292.6015625,92419.0703125,62068.6640625,71481.078125,43168.40234375,72115.9765625,36160.63671875,37921.24609375,31087.341796875,92877.2890625,48848.5234375,81041.828125,55658.00390625,81071.9609375,21604.99609375,48044.71875,33980.98828125,44923.37890625,60576.9609375,44655.06640625,62746.44140625,49769.234375,50941.28515625,53785.88671875,22079.021484375,45655.0078125,49309.234375,34886.62890625,66521.1953125,76892.765625,84110.890625,60572.453125,27275.87109375,92630.671875,37934.0078125,42379.1953125,80617.7734375,51924.4453125,83267.1875,68766.9921875,90030.84375,46144.40234375,48092.171875,75701.1171875,53063.24609375,48686.74609375,84402.8515625,46732.828125,27172.546875,28738.9921875,130943.0,48843.6796875,38472.53515625,58900.19140625,101684.8671875,47192.10546875,30662.771484375,56735.13671875,53429.734375,80359.9375,69587.75,101590.640625,57393.59765625,65484.56640625,45902.41796875,94356.859375,54102.95703125,21600.482421875,46592.26171875,31938.6796875,76753.0390625,87336.0078125,112732.609375,87935.640625,32150.6171875,56031.63671875,50074.6640625,39205.67578125,68173.7890625,70355.9296875,45145.51953125,65712.453125,104935.3359375,87025.1328125,40123.3125,64474.3203125,42394.0625,77551.2109375,65911.6953125,39835.1640625,75519.984375,39561.85546875,51691.3359375,100181.828125,46058.03515625,47662.546875,34698.8359375,58599.43359375,104436.78125,85915.4765625,79586.75,92491.46875,86449.1484375,62889.33203125,13590.3525390625,132646.078125,26558.96484375,107283.2265625,97686.2265625,75259.9140625,44516.84375,61075.83203125,96111.53125,31962.298828125,38724.50390625,38462.78125,42173.15234375,44080.12890625,67246.625,65030.60546875,67718.2265625,41714.74609375,38490.6953125,71931.828125,63769.73046875,89735.265625,20222.26953125,89484.578125,51641.05859375,50092.0625,46903.40625,22805.27734375,85499.5546875,53836.86328125,64546.28515625,62416.14453125,48967.23046875,34746.5625,52668.953125,96995.6875,28941.955078125,88900.140625,83518.0625,37560.125,23418.546875,78287.2578125,18079.314453125,52617.76171875,83225.6484375,51435.50390625,64354.875,76651.03125,42382.88671875,68832.71875,55279.26953125,46877.81640625,66436.078125,72432.6796875,51548.1953125,50208.72265625,21020.4140625,33243.328125,38324.75,42967.7109375,44575.88671875,118773.90625,85753.140625,38718.5625,61529.47265625,34761.734375,49830.56640625,47739.75,92977.453125,66471.9453125,76551.65625,45567.609375,83012.6796875,78376.4609375,74579.65625,74546.3984375,30606.177734375,59988.125,144887.90625,45510.2109375,42650.58984375,51416.87109375,48351.953125,108295.7734375,48728.50390625,21512.11328125,92311.5546875,101864.953125,42192.48046875,55957.06640625,61361.36328125,80271.5,24173.0,66400.8515625,69913.84375,39476.08203125,50465.0234375,76517.203125,45813.46875,62089.12890625,38492.578125,42729.98828125,43425.69140625,72897.3046875,86397.8203125,111667.8828125,35138.52734375,58556.60546875,76181.4375,44040.703125,86067.984375,38907.30078125,71851.4921875,67212.2734375,100237.1015625,92211.390625,55796.42578125,38959.515625,42553.2578125,51340.87890625,86799.2734375,71117.0625,35143.0625,74217.75,43342.703125,71002.71875,68899.6796875,70606.6328125,80640.640625,30949.93359375,74153.2421875,72500.796875,77896.3515625,30505.419921875,54058.44921875,77144.9140625,71074.5078125,64513.32421875,69300.7578125,71078.8515625,50950.80859375,31677.728515625,55620.47265625,34643.4375,50318.47265625,39952.625,68060.875,48500.49609375,74373.0078125,53310.83203125,83481.5546875,31015.96875,36796.73828125,102310.171875,67614.3125,45727.15625,26150.75,16662.30859375,82647.40625,119015.7421875,66595.2890625,18999.869140625,60258.8359375,36425.44921875,54635.64453125,78872.6640625,65135.9375,35655.8125,31329.96875,63936.80859375,40247.27734375,53646.92578125,61355.390625,57306.20703125,113737.703125,72602.0078125,79597.484375,65778.9296875,29198.2734375,52866.81640625,52998.40625,31517.369140625,39966.67578125,50544.33984375,95709.4609375,74685.625,37686.73046875,90314.8984375,49753.5390625,72839.421875,82101.0546875,86174.7109375,41896.87109375,44369.3828125,56776.21875,37967.06640625,49913.52734375,88314.1015625,67070.6640625,45956.58203125,61943.86328125,76962.46875,105367.5,50920.06640625,109255.1328125,84473.28125,41439.74609375,34987.078125,42421.6484375,44382.7734375,46284.078125,120418.8046875,61335.6875,65500.28125,98537.078125,77263.3359375,88167.671875,41427.890625,59671.984375,30900.259765625,14163.888671875,53106.4609375,33799.2890625,42612.375,73333.0859375,27745.3515625,102013.4375,61349.984375,80693.359375,37680.1328125,38977.75,89869.0546875,47395.20703125,60423.6796875,31370.578125,84340.0625,59451.4140625,58077.99609375,51015.91796875,103395.328125,54875.97265625,41747.57421875,96127.0625,100057.6328125,67004.1484375,20821.01171875,126516.7265625,93808.625,54343.8671875,74924.5078125,88736.453125,41717.37109375,84500.09375,38492.03125,41504.76953125,80477.140625,84342.46875,56839.51171875,90129.796875,102046.21875,113046.5546875,63960.44921875,72100.2578125,28630.26953125,88338.8359375,71573.2109375,74542.3125,37150.375,31976.556640625,85624.4609375,53283.1640625,42570.7734375,108111.640625,43446.421875,40691.6015625,57039.39453125,22633.486328125,31420.912109375,59801.07421875,85761.75,43040.6171875,86165.3671875,85918.1953125,39865.43359375,84985.359375,51293.1875,29958.830078125,50072.76171875,93217.9609375,49668.50390625,70759.8515625,50737.84765625,69990.703125,98923.3359375,65745.0546875,59259.7890625,54784.1640625,46232.53125,60663.45703125,37347.37109375,61362.5625,35264.171875,86176.0390625,41007.7578125,32891.2109375,87510.2578125,75990.8671875,81738.015625,34189.3125,31808.076171875,106762.5,58811.01953125,43772.23828125,84571.59375,54215.6953125,117729.8203125,53163.91796875,67068.8671875,51833.4453125,71454.1171875,63427.9296875,61115.87109375,68507.3046875,64434.4609375,35495.58203125,100829.9375,86783.8671875,42619.2734375,69375.953125,120187.75,93303.2734375,48161.890625,58500.05078125,76799.671875,46837.45703125,72043.40625,66484.8125,38169.64453125,51671.0078125,46284.88671875,50905.0625,95075.8984375,100848.6796875,125408.4609375,56424.57421875,26568.66015625,43434.16796875,54994.625,49041.9921875,63082.0,41769.4453125,45714.6796875,41301.16796875,29822.3125,44343.98828125,69401.4296875,55528.39453125,96360.2734375,77954.125,76417.0,82318.3125,41892.93359375,52075.22265625,71780.2265625,34107.38671875,95735.1171875,41272.390625,57005.16015625,49411.34765625,113110.78125,57427.0,75757.0234375,42779.1328125,55169.64453125,29383.509765625,40827.765625,78859.0625,50445.4609375,6277.22900390625,70026.6875,86559.515625,118343.3515625,88346.515625,78137.3515625,42589.30859375,75111.7265625,50156.98828125,89778.0234375,57712.85546875,95503.21875,56944.56640625,70536.2734375,74241.3671875,24309.755859375,49184.47265625,57848.67578125,27155.6171875,96341.53125,58856.1015625,68226.328125,94874.015625,48617.7578125,105168.7265625,41186.47265625,61704.390625,61081.1171875,66695.421875,64413.19921875,84584.6015625,95258.4453125,66099.359375,34489.953125,31735.779296875,81342.9375,105265.234375,87514.859375,42540.546875,41496.88671875,71993.7421875,101198.7265625,50512.703125,32401.048828125,30308.48046875,37202.8125,54591.8984375,53070.8984375,64791.6875,31890.431640625,51061.2734375,29093.60546875,42922.6796875,67569.8125,69471.734375,43313.0859375,50360.55078125,71989.4140625,56200.421875,35803.15625,26851.97265625,42038.44140625,50532.12890625,45121.20703125,49016.36328125,43087.48828125,42265.3984375,55151.70703125,55019.046875,61000.82421875,86177.6875,51440.6171875,52820.5078125,62688.22265625,57917.5390625,45141.15234375,49697.8125,56845.6484375,81568.71875,57236.484375,50007.30859375,93500.9609375,84378.390625,86498.59375,34637.58203125,51272.01171875,102751.90625,28040.53125,41941.0859375,75499.234375,34090.75390625,43645.6796875,71918.2421875,55139.89453125,54758.91015625,59753.69921875,33054.11328125,28934.408203125,62201.5703125,127244.625,39160.67578125,50766.5,32506.330078125,25118.705078125,50960.84375,40612.546875,52886.328125,79538.6953125,71346.203125,36084.94921875,72246.5546875,70696.1640625,62598.05859375,45453.86328125,48473.20703125,107139.78125,72269.1171875,40161.3203125,26387.751953125,88712.234375,41070.03125,93201.2109375,54309.2109375,66534.7421875,80758.6796875,44152.3046875,42877.734375,82742.4140625,50634.8515625,56286.0078125,66168.921875,47688.40625,45317.8046875,56988.19921875,95092.9765625,123049.7421875,44368.34765625,76042.3046875,49514.27734375,78759.328125,49512.02734375,55032.9609375,86345.09375,62421.453125,61780.92578125,101224.2734375,43588.9296875,71827.2734375,64720.12890625,36162.3359375,73317.7265625,54142.6640625,61845.2890625,25892.962890625,29420.78515625,68712.7421875,26639.87109375,22142.873046875,53450.7109375,73355.1328125,123280.609375,45322.10546875,50943.53125,67913.703125,64021.15625,95550.875,86551.1328125,57816.84765625,36206.54296875,107900.9140625,64221.20703125,34716.72265625,59039.8515625,46329.9375,42880.48046875,64857.24609375,43285.91796875,71694.0078125,105751.75,60516.96875,77825.8046875,36154.44140625,71659.2890625,48746.2109375,49309.4609375,120724.3828125,89506.28125,86181.765625,36292.515625,37640.41796875,82532.28125,41804.4140625,52808.69140625,111245.8046875,31330.31640625,78927.0859375,87384.515625,77552.703125,83378.1875,44534.2578125,95077.9921875,45893.76171875,39716.48828125,60567.2734375,84215.75,99020.5859375,18416.228515625,67427.2734375,96446.5234375,26473.52734375,93254.5546875,23441.900390625,75172.4140625,58360.46484375,47945.1328125,51850.5625,44178.6171875,104030.328125,90089.8359375,49212.4453125,63656.44921875,88178.796875,22970.853515625,46997.39453125,48857.76171875,47193.23828125,41488.078125,67299.8203125,88701.53125,50372.4609375,42351.61328125,56083.62109375,27489.4296875,72195.734375,78031.1875,80480.5703125,76851.6328125,57060.1875,63160.66796875,81376.3046875,51167.109375,90958.9140625,76796.8125,38105.6171875,67165.484375,47588.91015625,37619.734375,116107.953125,48592.0546875,67917.328125,61051.078125,58915.9609375,55428.65234375,53627.44140625,29067.79296875,71581.3125,77333.796875,70833.4296875,34692.6796875,84026.6171875,55580.46875,62590.46484375,76306.4921875,32516.55078125,33603.83203125,32960.73828125,39485.80078125,103937.6640625,41719.66796875,54523.625,84663.625,55220.99609375,74984.0390625,90049.375,81399.1953125,55031.08203125,36538.28125,45995.87109375,45217.66796875,75893.515625,51756.68359375,103857.1484375,84196.796875,77981.7109375,42044.328125,35424.3671875,77300.390625,50594.2734375,106091.4375,107951.4296875,45784.65234375,57697.39453125,104892.1640625,98385.1640625,76843.625,40035.10546875,110689.8125,85438.8125,32830.48046875,57027.64453125,34385.8046875,50729.375,71622.921875,107361.109375,33133.04296875,108850.5546875,48160.96875,50307.8515625,102092.484375,83136.8984375,57277.25390625,49952.875,93136.46875,58240.875,2932.120849609375,53412.34375,54812.80078125,41477.109375,58555.9140625,85584.34375,62731.42578125,59583.9765625,35934.74609375,26966.990234375,66543.6328125,85350.9609375,74812.1796875,58772.79296875,73164.40625,65186.046875,33252.8125,37153.375,74502.59375,34348.38671875,30596.119140625,62849.4296875,58472.14453125,69867.7734375,61557.8046875,64738.48828125,49809.484375,41304.58984375,28279.98046875,71935.359375,51001.4921875,57375.6171875,30860.431640625,49696.87109375,80809.921875,34311.140625,57496.23828125,111087.5,21651.04296875,43333.953125,38636.6875,74743.84375,26964.138671875,53494.1015625,87674.484375,66729.1328125,68243.96875,54236.54296875,63989.23828125,89734.1875,56299.62109375,59839.64453125,35301.0625,34625.55859375,34076.18359375,48399.20703125,68908.296875,53939.34765625,36689.421875,79646.984375,145031.671875,70413.625,45402.1484375,52673.12890625,36968.234375,77622.3515625,89406.375,28655.703125,68401.2734375,45723.05078125,60161.96484375,89116.9921875,64632.83203125,101036.9921875,89120.4765625,68304.75,90705.4140625,34281.421875,116683.265625,93356.515625,104916.296875,131053.0859375,45488.05859375,31514.275390625,26067.904296875,24220.447265625,85315.59375,37042.578125,49450.78125,62303.90234375,28963.19140625,33056.765625,41769.11328125,63327.58203125,88140.5,68040.5546875,97062.6796875,57105.0625,50957.04296875,73435.390625,58130.4921875,90396.3515625,58724.4921875,97750.7578125,24870.47265625,68276.1953125,86443.7109375,40164.140625,49729.6953125,81322.453125,61252.52734375,93447.1953125,102442.65625,114438.9140625,104063.109375,40233.078125,66571.1171875,50553.3515625,48697.84375,36805.421875,2618.387939453125,48569.42578125,65040.41796875,107271.140625,36060.78515625,91433.3125,37600.24609375,71212.8671875,36569.171875,55089.28515625,30024.82421875,54990.80859375,48603.80078125,64991.2578125,79939.953125,55613.42578125,44935.859375,51484.18359375,73456.8515625,39426.19921875,115644.84375,51784.96484375,8446.0283203125,33972.36328125,55398.05078125,94838.09375,71474.4609375,39322.7578125,82765.0,82551.6875,36632.59375,63781.89453125,37822.17578125,58661.875,47822.17578125,43992.10546875,89899.78125,38910.84765625,47922.91796875,42908.4140625,95673.84375,83628.953125,50311.51171875,30204.849609375,43755.44140625,75425.578125,80479.4765625,78949.890625,103607.8359375,81151.6171875,98958.78125,73744.4453125,115431.734375,45422.75,47792.36328125,39335.98828125,32868.48046875,35136.875,39931.20703125,47933.58984375,57791.36328125,40663.91015625,74118.859375,35564.34765625,86084.0625,94798.5859375,88747.7109375,69177.7109375,67649.8203125,61532.21484375,63784.66796875,80205.40625,41950.9765625,44058.6875,74312.421875,53959.5546875,58742.18359375,92785.703125,53066.14453125,60354.79296875,60642.20703125,82639.5234375,26832.037109375,80589.046875,51202.68359375,94794.8359375,84876.2421875,101229.0078125,55464.8203125,36427.21875,45935.2578125,55855.11328125,36838.75390625,44900.37890625,55013.48046875,40682.47265625,29517.62890625,61488.3203125,56896.796875,25967.6640625,61343.50390625,94372.984375,73786.203125,40786.62109375,81104.640625,58268.51953125,84792.265625,47994.90234375,65808.9921875,54958.66796875,45920.51171875,68135.6953125,37579.13671875,87970.2421875,108100.984375,64670.0703125,38917.421875,49542.4375,88425.5546875,37079.8828125,58061.31640625,85600.2265625,31521.43359375,61952.86328125,94468.6953125,75902.7734375,53775.35546875,30230.10546875,70058.0390625,77712.578125,36790.20703125,20532.787109375,32403.09765625,131709.640625,39780.34765625,78593.0546875,46159.859375,71393.71875,68251.2265625,47464.05078125,25517.712890625,56575.34375,76201.1796875,49310.96484375,57541.0859375,41274.1640625,58947.56640625,101653.890625,88612.0234375,55586.015625,56646.0234375,38516.32421875,74641.140625,57653.1953125,32743.912109375,56546.87109375,46519.29296875,106466.2734375,36818.69140625,23014.048828125,77150.4609375,70381.984375,75381.328125,75247.6015625,50473.578125,43309.5703125,48307.87890625,93306.96875,56802.484375,49983.30859375,92194.71875,70686.671875,108128.4765625,41099.00390625,42805.4453125,60106.53125,49985.23828125,37033.5859375,85542.0,39202.9921875,65110.125,39328.96484375,68841.78125,57132.86328125,113841.8046875,78886.921875,41078.734375,49856.33203125,79893.546875,56318.41796875,52823.87109375,66354.2578125,50466.6484375,97711.015625,88481.796875,62451.8515625,74940.4296875,58733.6015625,75923.5703125,57026.0859375,50588.19140625,84440.4375,68153.5390625,58786.75,28565.78125,120226.8125,87882.609375,47493.7578125,50284.31640625,87745.796875,66357.1171875,55717.16796875,31943.494140625,102599.109375,64505.5234375,36016.96875,38920.96484375,66656.6015625,32553.44140625,70238.8359375,55243.7734375,41436.796875,76572.1953125,19541.1640625,45672.0234375,78899.6015625,61069.60546875,62411.64453125,26697.234375,60005.28125,76866.8828125,69219.8046875,34860.3828125,38324.703125,56227.68359375,50253.8984375,93028.671875,53759.453125,71401.625,101761.1953125,60969.80078125,52466.19140625,77974.015625,45674.55078125,48663.68359375,33859.0625,49385.60546875,45922.26171875,40616.0234375,46948.4375,83211.03125,83898.3828125,43294.85546875,52137.25390625,44686.25390625,98225.859375,79754.2421875,91371.453125,91613.2890625,112672.453125,77424.3046875,79158.328125,44248.0234375,64598.390625,61913.2421875,105765.4765625,38223.84765625,22979.70703125,75407.8515625,35912.2265625,79852.0546875,50464.74609375,37916.8359375,81955.34375,28703.7890625,66638.1796875,80939.5703125,96644.7578125,50890.3046875,85110.6484375,82513.4765625,78452.78125,84422.3515625,100990.6484375,42879.9453125,95021.609375,71054.921875,44799.96875,26057.10546875,47363.96484375,94930.9453125,32355.060546875,54342.921875,42001.30078125,83828.578125,74879.640625,86276.171875,64229.109375,61780.09765625,85072.6796875,48781.78515625,73896.0078125,38079.94921875,55329.68359375,95714.546875,51853.0390625,84267.0234375,73752.265625,63045.046875,69820.8984375,54307.546875,74761.1953125,90661.1640625,41540.7734375,44574.01171875,21860.1015625,67301.875,37353.99609375,80559.546875,45209.7109375,44519.0625,42344.83984375,79976.4296875,60005.515625,30994.853515625,100849.9921875,35622.8515625,123542.8828125,40347.5078125,79983.015625,72557.25,38483.90625,120608.6640625,106616.5,106209.3984375,43935.140625,38926.0234375,53605.2109375,80795.75,37315.2890625,91094.75,34969.23046875,54267.22265625,51187.90234375,41035.98046875,75721.390625,51408.7578125,32727.3046875,99698.046875,72978.546875,49951.84375,77612.3046875,44089.23828125,75246.328125,96882.8828125,39393.61328125,57755.57421875,44560.3671875,113488.171875,69261.890625,81860.015625,98278.1796875,107106.0078125,52495.19921875,65296.3828125,78664.0234375,64947.390625,50712.71484375,90763.2109375,45038.34375,29986.796875,68851.4453125,89606.7109375,67718.359375,78844.5,61599.48046875,58040.49609375,28907.330078125,104240.2109375,69725.40625,87916.5703125,48507.30078125,80803.453125,61292.484375,77565.90625,27410.98828125,51200.296875,63860.91015625,47174.59765625,43168.61328125,80473.5859375,77441.2734375,60648.65625,59832.66796875,47590.37109375,86676.7421875,36680.58984375,94156.640625,75578.578125,45338.3671875,39511.015625,55501.58203125,53773.07421875,49860.75390625,46482.953125,52888.203125,51910.75390625,54649.30078125,44527.16796875,69872.15625,66581.2265625,92851.0234375,66779.09375,105138.390625,79986.890625,53773.10546875,47581.62109375,27363.201171875,67837.296875,80563.984375,46576.24609375,87848.7578125,46295.90625,70699.328125,34093.5703125,67686.21875,87460.8046875,51782.75,74700.3203125,66614.4140625,67232.5234375,42577.10546875,39994.984375,30870.806640625,64374.68359375,84027.0703125,63950.05078125,56205.2109375,23545.716796875,58131.32421875,57597.8046875,55617.85546875,96186.9296875,79209.5,47822.39453125,93101.6875,92371.40625,58263.62109375,42956.8828125,37282.07421875,67388.046875,86898.984375,36187.375,78593.0390625,57627.44140625,59143.7890625,55150.28515625,78316.5390625,46774.109375,137340.546875,102119.0234375,75254.0078125,75684.2578125,75712.359375,36591.98046875,64260.6171875,65271.59375,49098.0546875,43574.0703125,35501.51953125,80192.7890625,40639.6796875,47298.2578125,90224.4140625,47905.515625,45493.2109375,35751.0390625,49417.53515625,54624.48828125,133785.234375,53568.23046875,37174.5078125,63506.19140625,87733.09375,78249.1484375,82450.8125,54207.84765625,51206.58984375,84706.8984375,78285.0859375,84280.734375,33948.3359375,23224.974609375,77791.7890625,71979.0859375,58629.83203125,52998.24609375,69488.9609375,34573.78515625,103740.15625,127855.6953125,66504.8046875,97791.5859375,88110.3984375,34989.43359375,61737.92578125,70778.4765625,86250.34375,74180.390625,55983.19140625,68215.359375,63959.69140625,69705.1484375,45154.765625,39648.1484375,66137.578125,56824.16796875,64080.19140625,65286.0078125,21305.060546875,48010.953125,81678.9921875,61998.4296875,51749.39453125,98440.25,83322.4609375,68373.125,89273.15625,107705.1953125,68805.578125,99972.5234375,30235.6328125,46796.63671875,82735.015625,33248.29296875,23786.951171875,31436.2734375,55850.453125,56987.9375,49363.4375,40419.55859375,53379.80859375,52380.91796875,99477.6640625,40906.55078125,36440.55078125,50166.6171875,69225.2734375,65617.0078125,50481.58203125,64595.359375,58502.1640625,30854.177734375,69849.140625,37763.3984375,49205.7109375,77848.0234375,40406.0546875,52681.51953125,45632.62109375,43739.23828125,40645.62109375,94948.0703125,32236.71484375,70260.71875,64498.97265625,69963.203125,78804.515625,102782.2265625,48973.078125,89100.6171875,112415.8828125,65564.1015625,41122.20703125,42181.9140625,82138.4375,88834.8671875,73752.6875,50916.625,74675.484375,47920.5625,74592.6640625,59274.25,51988.42578125,59873.23828125,42924.2890625,64394.48046875,65672.2734375,52810.62109375,90906.484375,45898.96484375,8730.65625,37946.18359375,50031.78125,50631.8359375,32746.138671875,26545.595703125,79194.984375,47008.890625,75593.3984375,71812.03125,102970.1875,75714.0,58830.66796875,86479.9296875,89358.1796875,60110.9296875,1203.11328125,66994.2265625,64170.7265625,41757.3984375,49058.8046875,58654.98828125,73169.453125,36030.484375,41661.9296875,43663.7421875,43965.625,56325.76171875,90104.203125,53443.98828125,52092.3828125,68057.6171875,66698.8671875,61670.73828125,59897.0625,33270.1171875,99269.453125,71110.828125,92948.328125,56431.43359375,81467.59375,78635.296875,85890.1953125,42562.7890625,27070.064453125,81486.7421875,84595.125,102363.5625,77527.1015625,36288.9921875,41844.53515625,38193.47265625,18996.5703125,30852.8671875,56720.9921875,36069.94921875,53352.46875,51480.8671875,39377.72265625,69800.4921875,85884.765625,40438.4765625,53360.91015625,109021.6875,53856.06640625,58955.08984375,27849.615234375,57908.73828125,43597.0625,79996.765625,43456.16015625,60747.0546875,44611.73828125,43095.85546875,77454.234375,65813.046875,53521.875,79788.2421875,41261.7578125,41541.01953125,53470.19921875,84764.046875,127755.65625,74978.6328125,81183.7109375,85075.3984375,73469.3125,68942.7890625,31179.54296875,53962.546875,61511.828125,45952.7734375,58654.27734375,48346.2890625,28599.43359375,55340.94921875,53271.3671875,63611.96484375,60203.52734375,38420.14453125,39822.66796875,72385.5078125,43199.7890625,40494.5546875,41718.75390625,77328.5546875,43351.0625,43961.3515625,53342.9609375,84296.71875,55248.65625,98771.4765625,56710.26171875,100763.4375,83854.1953125,60079.91796875,89445.3203125,57635.6796875,50558.546875,89391.5546875,131049.53125,32293.84765625,79638.5859375,102173.671875,61855.1171875,41224.38671875,101110.65625,48011.5,42955.24609375,85386.46875,60587.7890625,79767.0234375,53150.0546875,55619.05078125,80792.015625,76132.6796875,93374.0078125,35825.27734375,70379.3671875,30629.267578125,47947.734375,47081.69140625,75285.8984375,84464.71875,89532.234375,54978.91796875,42455.53125,69048.9140625,79447.328125,42050.80078125,46824.07421875,82794.921875,83973.2890625,39201.25390625,24624.806640625,32642.5859375,51662.46484375,49872.95703125,96151.0625,76231.921875,90428.953125,34247.26171875,100165.7578125,90235.9296875,57194.41796875,82463.4609375,76960.0,42739.734375,66316.9375,40552.11328125,58273.546875,33994.0,89827.984375,46373.1328125,44.78759765625,50522.83984375,76611.671875,52990.28125,96458.9453125,57344.2578125,118031.4765625,65706.859375,87651.4609375,34807.2421875,46704.0078125,63207.71484375,67711.1015625,72152.0703125,58883.29296875,36975.8125,33487.92578125,56831.88671875,58518.18359375,77090.578125,91677.7578125,36264.25390625,55920.9140625,79837.6171875,43237.41796875,44159.24609375,46959.0234375,63647.47265625,36403.01171875,104636.90625,75910.8828125,60003.8203125,39201.40625,66269.421875,70495.203125,43704.01171875,89600.421875,67825.5234375,72139.8515625,48343.28515625,49546.55078125,59003.35546875,59034.078125,55148.22265625,68871.7421875,49836.4921875,54405.39453125,72650.140625,45431.08984375,54633.375,111503.7109375,41340.1875,51054.70703125,42797.14453125,47012.0625,39589.625,93888.15625,58077.9609375,34568.15234375,43452.4921875,48785.85546875,76203.09375,32459.16015625,42945.9296875,61879.50390625,36439.50390625,65101.6875,67536.0859375,99275.03125,39763.25390625,74750.6875,91542.8046875,55585.1015625,68288.3984375,57880.82421875,44381.35546875,39426.5,66696.7109375,67360.2265625,76909.2578125,48543.20703125,62684.6328125,63418.69921875,77198.5390625,94808.34375,119239.296875,54776.75390625,37900.9296875,60501.64453125,73237.171875,124347.8984375,38620.03125,49099.203125,84658.25,69889.453125,50116.4609375,44980.32421875,46882.47265625,32239.478515625,78506.4921875,53205.82421875,67536.4140625,24847.517578125,69021.078125,64193.50390625,52923.953125,59398.93359375,48733.45703125,100287.4921875,18909.109375,30843.14453125,117265.5234375,79107.1484375,81455.515625,67756.140625,64290.69921875,23391.513671875,88389.5,33540.88671875,33982.78125,61154.51171875,81092.2578125,28721.591796875,123551.2265625,83069.0,93062.5078125,43305.46875,40871.95703125,56487.93359375,54505.3203125,55304.265625,96907.703125,63461.11328125,85584.84375,55827.8046875,74493.5078125,87188.0703125,89340.2109375,96811.0,28422.513671875,26938.23046875,21066.314453125,107195.8203125,6779.66064453125,61413.96484375,67348.1015625,36571.1171875,48670.31640625,74298.484375,91877.9296875,32606.201171875,60806.44140625,38247.56640625,53114.73046875,24685.28515625,101177.1328125,75545.4609375,90566.5625,41543.2265625,55434.4921875,53859.3984375,80828.4375,44669.54296875,82476.515625,59086.81640625,50542.046875,73236.8046875,34748.69921875,79007.4921875,79039.65625,21275.185546875,102771.3046875,82426.5703125,59265.6640625,33521.85546875,31987.734375,90811.390625,62966.6875,38963.59375,91589.90625,52256.46484375,40247.48046875,44554.17578125,65179.16796875,72881.640625,67426.9375,24147.869140625,39332.2890625,41264.85546875,83503.0625,120717.0703125,43234.47265625,87259.046875,52183.8125,58153.49609375,52176.58984375,72032.921875,44772.79296875,78797.9296875,60662.33984375,33208.140625,67681.828125,25733.892578125,39697.98046875,97313.1015625,90239.984375,88999.7578125,37925.3046875,62218.546875,91627.203125,54568.48828125,84326.5546875,46646.71875,70698.21875,69774.59375,19684.654296875,43634.57421875,52316.1328125,76258.703125,32867.41015625,53007.21484375,69861.15625,70768.890625,68649.140625,35700.48828125,89976.546875,47354.73828125,49846.95703125,49634.890625,69813.3984375,80611.515625,91530.828125,61403.484375,60555.85546875,63591.95703125,61561.3359375,52437.87890625,58574.94140625,61194.62890625,33607.75,80468.0390625,43347.88671875,58954.23828125,95430.4140625,81076.90625,28022.328125,71991.828125,33648.89453125,87820.8203125,101637.875,26774.890625,59842.765625,36846.01171875,87321.15625,86480.6640625,60382.953125,77196.40625,63651.890625,99641.5078125,94241.890625,22966.830078125,73130.46875,85913.4921875,61693.84765625,65381.7734375,72976.0703125,34596.609375,56316.69921875,92488.9296875,71369.1640625,77330.359375,40088.4765625,37184.2578125,44045.23046875,54515.015625,36258.45703125,84933.296875,65228.0234375,66736.6953125,30089.966796875,65778.234375,74823.9921875,68596.65625,66186.75,99415.2734375,57084.484375,41388.6328125,68652.7421875,56353.92578125,35080.4453125,50824.375,38398.40625,75978.8515625,67786.0390625,90158.1015625,113783.171875,76954.2890625,109708.546875,44013.2109375,88908.9140625,48152.87109375,76973.125,48602.32421875,66576.2265625,81426.4140625,37674.4453125,80722.0078125,120167.3671875,112115.3828125,68636.3359375,45213.87109375,50356.7109375,54865.5546875,63871.62890625,45018.921875,79114.03125,48808.19921875,122373.2109375,36522.94921875,93508.078125,78831.4921875,102277.203125,48790.82421875,57421.921875,56844.84375,64014.60546875,26705.0078125,75487.5625,33158.57421875,41380.09375,41895.0,70099.390625,95662.40625,75629.6640625,42848.5859375,32708.185546875,59284.3828125,78311.8515625,67654.5078125,61351.6015625,111808.875,62728.984375,30742.4609375,37926.765625,61947.94921875,111220.5546875,56449.2421875,41440.5625,63340.8671875,109582.59375,45797.0625,48078.91015625,75794.515625,61938.39453125,25683.037109375,39808.18359375,99865.1328125,84220.9375,32303.89453125,54818.15625,80886.9453125,32325.88671875,58812.6484375,65194.625,77912.625,50433.12890625,52388.80859375,61424.4609375,51186.2109375,48643.0390625,54449.2734375,40013.28125,35669.109375,90022.8984375,89989.5390625,19907.71875,35650.97265625,42185.3515625,96659.140625,41416.40625,79836.1171875,67369.453125,52937.91796875,85308.765625,54860.671875,40459.8359375,82676.734375,67450.5078125,84029.484375,33180.98828125,84511.234375,47132.48828125,46213.9375,64535.61328125,37378.18359375,89794.1640625,61634.23828125,77779.046875,28165.978515625,32491.08984375,82340.5546875,75083.140625,91542.3125,39877.578125,14544.5029296875,31252.09375,65651.828125,43853.44140625,57626.32421875,85342.3203125,73062.03125,50520.54296875,30703.62890625,30701.64453125,46899.3046875,72392.453125,49087.38671875,46063.64453125,54573.98046875,59585.07421875,38635.671875,57120.7109375,59341.44140625,30373.125,38168.875,80099.640625,45838.27734375,52846.4921875,64318.81640625,56971.953125,99516.96875,53229.29296875,44913.51953125,51863.296875,70387.53125,39339.6328125,47971.03515625,59103.2265625,37222.62109375,63518.08203125,48621.4140625,67275.40625,48935.1953125,38221.23828125,40296.71875,17027.3828125,89067.765625,45684.12109375,68942.125,54767.52734375,87857.921875,123729.375,45272.48046875,68298.7578125,43389.609375,35806.4453125,53098.05859375,71229.109375,52102.11328125,98835.796875,45114.35546875,79247.5625,42371.8359375,66769.484375,46484.9921875,63883.53125,50984.890625,68303.828125,29035.15625,111070.8515625,44313.421875,58995.6640625,116645.0546875,40623.4765625,109959.4375,112382.953125,54135.859375,71852.984375,39063.73046875,37883.8046875,54083.28515625,118462.3515625,83862.4765625,77303.5859375,36744.53125,93842.125,40931.765625,76118.34375,76628.1640625,87107.9765625,33479.62890625,29695.564453125,72662.3671875,76422.625,72748.515625,107902.0546875,79587.6796875,84368.625,59204.13671875,40536.7734375,71934.5078125,37161.2265625,43542.640625,60958.78515625,57446.65625,70110.9921875,66393.765625,53036.03125,71742.125,61197.390625,89330.6328125,31545.541015625,96502.0546875,114126.8828125,73491.2265625,61277.0546875,100357.90625,19394.265625,91023.2265625,32302.85546875,91578.7109375,105274.5390625,40535.75390625,48426.94921875,93124.015625,97050.7890625,46549.640625,49896.58203125,56827.76953125,49873.75390625,40776.265625,57803.99609375,43429.953125,44383.375,39711.5078125,49381.25,97925.3828125,42366.3125,42187.0078125,45398.30078125,61331.03515625,86312.7890625,56638.13671875,53493.80859375,42345.03125,43236.796875,41731.12109375,77096.4453125,90108.1171875,38727.1171875,61355.50390625,57847.33203125,68975.4296875,29709.1328125,65827.34375,82163.953125,49446.60546875,118972.671875,48734.56640625,89658.2890625,39458.4765625,37613.2578125,50053.20703125,59394.0703125,55194.203125,73350.4921875,58297.81640625,32407.8046875,50257.98046875,91715.015625,27542.228515625,63389.36328125,34970.796875,69061.1640625,33225.37109375,85279.546875,56494.17578125,55397.27734375,64296.01953125,82986.7734375,91737.703125,27109.642578125,41523.8828125,76323.5859375,50442.80078125,50203.27734375,26154.9921875,74363.8046875,63125.328125,43513.984375,102177.4375,37768.29296875,85019.828125,36312.2265625,70494.3125,89133.390625,70732.4921875,62011.9375,114708.6171875,40048.73046875,38051.58203125,80706.703125,67244.9921875,51128.21875,57982.69140625,68783.25,83539.1796875,64936.12890625,89672.8515625,61050.64453125,48945.55859375,101342.5546875,65730.703125,40132.79296875,40618.046875,38956.09765625,37933.0,68314.1328125,40146.09765625,98443.40625,96586.5390625,51321.8203125,90169.7421875,35473.33984375,81166.8515625,42209.91796875,88779.65625,80025.796875,50912.1484375,59467.37109375,43537.43359375,87545.40625,62741.765625,56518.84375,74711.0078125,51931.13671875,33135.078125,45100.38671875,58963.19921875,36202.5078125,81173.8046875,70541.4296875,88358.0546875,52284.51953125,52169.69140625,28066.841796875,29199.005859375,74822.5625,47924.7109375,93793.0234375,57572.484375,70630.6328125,71811.703125,57095.8515625,103200.6875,63530.50390625,80088.0703125,103469.2265625,35858.6796875,30113.48828125,75163.125,93334.0625,47847.18359375,54651.4375,66018.7734375,61051.21484375,51147.61328125,70199.6484375,31403.08203125,88086.8046875,49099.41015625,96354.8046875,63443.34375,25464.216796875,62355.42578125,69571.4921875,96158.390625,145003.71875,85393.203125,80470.0703125,44100.296875,50943.5078125,77374.328125,59355.66015625,68636.984375,29162.34375,43839.66796875,53951.19921875,30812.83984375,52358.98046875,104759.9921875,42665.6328125,35542.24609375,55381.0859375,78200.6484375,96554.65625,97797.40625,77292.640625,49863.44140625,64020.6171875,56249.57421875,50846.58984375,68890.40625,31402.224609375,36260.76171875,64753.80078125,82075.21875,61223.58984375,41756.12109375,66339.21875,54089.84765625,52057.3671875,72180.2265625,127615.96875,61514.47265625,83797.84375,49889.42578125,45860.9765625,120380.453125,52408.07421875,54075.546875,49631.453125,53175.484375,43335.609375,92567.734375,42667.76171875,87203.0703125,53959.5546875,85906.578125,89936.171875,41703.9921875,92724.5390625,86575.828125,83320.546875,111839.1328125,84576.390625,22376.30859375,30006.095703125,57534.18359375,47032.4921875,61927.22265625,69607.9609375,40190.4140625,59359.29296875,70173.8359375,35973.6875,50016.828125,40778.08203125,24533.521484375,84872.8203125,79765.5,75551.84375,58793.125,62540.078125,101493.765625,75376.796875,13653.13671875,116468.265625,43929.26171875,54092.8671875,35891.79296875,86754.4140625,84229.984375,46733.296875,44680.8671875,59301.421875,86605.953125,49964.40234375,121032.859375,31889.06640625,111680.1640625,42957.55859375,74496.5078125,47776.88671875,48074.1328125,34262.7578125,43143.75390625,69683.6875,52522.17578125,53472.84375,66960.5390625,50004.5625,55422.5390625,73717.90625,78438.96875,42258.93359375,57305.1484375,65947.671875,63212.828125,26604.525390625,45124.14453125,69197.4375,68565.1015625,48155.46875,58249.140625,67847.9140625,84127.6171875,62061.00390625,51793.703125,68766.25,63823.1875,41725.01953125,46914.76171875,64374.80859375,44625.0546875,59732.48046875,51420.13671875,63897.24609375,85695.953125,66504.1953125,71276.34375,39036.6640625,69899.234375,89418.0625,43821.8984375,55006.2109375,79989.8828125,61044.99609375,40286.8203125,99238.390625,60075.30859375,56721.7578125,47224.3671875,43354.2890625,74623.9609375,54564.24609375,62476.41015625,37754.91796875,57658.91796875,35490.1171875,51410.953125,66250.7421875,75345.0625,37682.41796875,102694.3515625,89336.234375,54837.50390625,55292.48046875,85220.84375,45854.91015625,45579.70703125,87239.2265625,84167.3984375,81578.171875,83959.671875,70201.7890625,64665.44921875,79495.9609375,33282.54296875,64132.58203125,56935.69921875,22761.8359375,47500.3828125,76146.0,69957.7265625,41592.5,80665.1953125,61994.74609375,63577.35546875,80099.0859375,60646.8046875,31422.05859375,41976.76953125,117985.703125,77048.515625,79698.8046875,60672.71875,54638.12109375,62540.859375,92331.6875,47604.51171875,94036.609375,59377.44921875,29375.443359375,72623.875,39525.41796875,49065.2890625,66798.9375,37258.10546875,77359.3359375,101116.4296875,34412.83984375,82520.359375,86154.2890625,76831.4453125,72045.390625,30517.671875,47283.91796875,42935.0390625,78313.4453125,68044.7421875,95722.078125,29115.59765625,41193.90234375,46185.1640625,45211.39453125,37169.0078125,76373.9921875,96317.734375,35536.9140625,49416.05078125,62515.03515625,74517.921875,32123.275390625,73088.265625,46534.54296875,62281.37109375,51119.89453125,79904.8828125,40138.24609375,114333.421875,59057.39453125,41026.53515625,47914.9609375,31736.91796875,105426.8046875,82715.2890625,25911.720703125,66708.5,111515.7734375,77682.3125,29313.833984375,91113.4609375,51153.0,42532.5703125,97934.71875,46493.30859375,59019.609375,54153.44140625,26736.16015625,58077.3828125,80464.8203125,88458.78125,41273.2890625,113541.8984375,53466.17578125,24370.94140625,39206.7265625,110933.8671875,32526.6953125,69701.453125,58101.66796875,102687.484375,53760.1875,59063.94921875,32456.04296875,59424.9453125,67244.828125,88799.2734375,19894.296875,53677.171875,70719.5390625,62469.4765625,51398.7265625,82720.7109375,87377.453125,40642.62109375,54482.8671875,47483.0546875,44395.7109375,20899.43359375,79509.7109375,35831.9609375,63523.91015625,68425.7734375,70701.2578125,55748.03515625,31997.580078125,91281.828125,34833.23828125,66014.3359375,37425.34375,50707.8125,116895.796875,93679.7265625,86810.875,84616.921875,75606.234375,68514.09375,46241.99609375,49626.4609375,55154.91796875,59125.51953125,83792.1328125,60958.0859375,40314.28125,42352.453125,59183.0546875,57161.546875,48455.13671875,61816.4375,78166.7578125,66761.3359375,93182.34375,95135.609375,47157.83984375,76414.0703125,48178.29296875,66805.203125,96606.140625,33888.078125,100007.09375,26830.490234375,76993.328125,70175.6015625,56989.55078125,94783.0703125,84540.6796875,75675.703125,33311.6796875,38951.6328125,96859.171875,41641.984375,40691.140625,43481.13671875,109617.1875,61264.5703125,44215.6875,68136.4453125,55472.5234375,53383.78515625,79692.015625,54590.9375,44860.5859375,69919.0390625,69697.984375,78215.1796875,28627.66015625,49263.69140625,57346.48828125,55353.0234375,80865.3828125,69243.2109375,51965.01953125,70182.71875,56153.05859375,41153.13671875,54083.97265625,48740.63671875,57117.234375,48346.07421875,73783.1328125,79560.5859375,56944.50390625,111017.7109375,88429.6328125,58035.08203125,59374.94140625,92488.875,105557.9296875,82353.71875,45740.49609375,73735.21875,73352.625,85214.484375,84163.203125,110049.0859375,52678.1015625,43432.2109375,43420.05078125,105737.6171875,47985.265625,66093.6484375,98591.8203125,61929.6796875,66846.734375,92045.75,43653.48046875,62643.9453125,54304.0078125,79338.9609375,32880.8828125,36747.375,97741.3984375,47933.86328125,44726.27734375,47792.828125,41008.0234375,62165.58203125,35666.4140625,81877.40625,42072.62109375,66338.7890625,40356.2109375,87910.484375,22725.201171875,42374.20703125,50433.29296875,20288.65625,49470.75390625,39055.24609375,43222.3203125,73735.875,33944.8984375,42952.90625,42827.2109375,107789.1484375,69810.015625,39619.33984375,73822.6640625,27231.88671875,32537.61328125,39414.98046875,83010.7265625,65719.78125,58891.34765625,35806.62890625,55870.921875,45234.578125,46867.15625,41146.67578125,41247.70703125,35098.48046875,86641.6328125,59242.515625,40272.44140625,30769.47265625,50498.3359375,53144.66796875,62742.46875,29567.13671875,91689.328125,56697.84765625,38282.5,44605.765625,41323.2578125,44622.12890625,51185.5859375,70722.0234375,51631.22265625,60301.56640625,52943.1953125,82714.2578125,53163.91796875,108276.15625,35733.03125,26244.490234375,41865.6640625,48564.68359375,58287.3671875,38348.734375,25001.994140625,82558.875,88028.1640625,84470.4375,70113.7578125,71767.1796875,74672.7421875,56493.0625,79271.234375,55281.1953125,45468.6796875,61967.69140625,88394.2109375,69455.4765625,40702.671875,57612.47265625,47575.50390625,28926.546875,46151.796875,33476.07421875,68040.7109375,82518.1796875,65349.6015625,61031.40625,104361.0703125,34326.53515625,83713.046875,55507.6171875,36166.12109375,88357.0390625,78120.4296875,97924.265625,90912.6171875,76274.7578125,51780.0390625,68037.9375,66872.0625,60461.703125,86469.2578125,32784.99609375,65403.70703125,70595.0625,51705.34375,34327.20703125,76075.5,37996.12109375,49474.16796875,70997.265625,46968.484375,26860.123046875,77734.4765625,97844.4609375,35108.53125,85012.0546875,37850.26953125,54223.5234375,57802.16796875,29897.076171875,40415.234375,83968.640625,96080.1796875,51912.1640625,21155.291015625,45487.328125,45926.0546875,72139.8984375,97616.3515625,62557.20703125,85459.171875,88998.40625,97706.3515625,85809.2421875,34504.3125,129451.28125,59946.87890625,82513.8359375,74436.5546875,108897.1484375,33632.08203125,59877.3515625,84062.0,55821.94140625,37585.92578125,67147.8984375,100066.765625,52576.95703125,47667.99609375,88643.03125,46786.37890625,90732.5078125,75971.3203125,90974.625,30817.322265625,69344.2890625,35802.26171875,28200.357421875,61516.734375,71123.9609375,72493.9296875,85127.6796875,77348.9453125,50037.33984375,91561.296875,74762.75,51693.6015625,43189.89453125,27019.91015625,64593.43359375,44856.84765625,68713.53125,97618.046875,39391.53125,46112.3046875,41649.18359375,50269.46484375,88717.265625,28002.685546875,92112.796875,51300.40625,89483.8828125,64192.6953125,40341.80859375,73595.8046875,46513.921875,65668.75,85607.1015625,46675.546875,48598.078125,55271.7421875,59416.66015625,70116.7890625,35118.58984375,28705.169921875,43575.27734375,75947.0859375,73107.7578125,85628.6796875,75351.1328125,41635.578125,41877.921875,98393.6328125,54954.82421875,35477.8828125,589.6456298828125,60389.80859375,53929.91796875,63081.984375,55107.984375,98283.7890625,52135.05078125,20704.732421875,30019.013671875,54698.40625,42026.953125,89123.984375,108497.765625,67508.4609375,61221.6875,36561.453125,56442.19140625,38785.0625,39447.3984375,80251.984375,90484.4140625,84330.0703125,50808.73046875,39029.51953125,80375.734375,32333.189453125,70413.9375,79655.484375,63034.62890625,60634.296875,42700.09375,62195.28125,61051.10546875,81387.3515625,63378.88671875,60039.66796875,40875.57421875,49748.9765625,30892.90625,88381.1484375,61481.01953125,72676.9140625,33075.078125,70741.953125,43193.9609375,56027.8671875,27149.26953125,56388.68359375,59299.2265625,64767.2109375,41587.20703125,38267.4375,76567.8671875,34837.62890625,44861.91015625,22767.716796875,46943.45703125,55406.94140625,64285.37109375,95662.6640625,77624.5546875,44282.2734375,41289.7578125,86480.078125,51851.34375,47455.890625,56654.73828125,48164.5,48104.8984375,47546.04296875,58508.47265625,57222.21875,96287.6796875,30483.3125,115499.8125,68690.484375,117259.9453125,45469.48828125,75180.2265625,82332.9140625,68062.203125,62401.80859375,108242.046875,60278.17578125,26744.62890625,50775.57421875,41368.67578125,94564.65625,61823.35546875,37169.34765625,100997.0625,36124.51171875,42314.4296875,43047.3515625,55529.4453125,61847.8125,76867.0703125,71118.7421875,39197.1875,68468.0234375,82450.78125,26878.150390625,92394.8125,73731.53125,36955.11328125,99069.03125,74642.796875,23393.755859375,97843.4609375,91406.78125,37563.15625,43458.18359375,72063.5234375,48972.08203125,49636.00390625,57962.80859375,26986.640625,60516.33203125,81721.2578125,63230.13671875,66176.828125,74682.9609375,37878.015625,52591.8046875,104171.90625,90508.015625,24985.802734375,45337.94140625,77201.6015625,143831.828125,58504.48828125,41775.98828125,78877.984375,92590.0546875,50599.71484375,56978.765625,65118.359375,40767.3359375,42995.359375,49054.0078125,39964.8515625,47011.78125,46911.9765625,86358.046875,37207.30078125,31456.5390625,87782.8203125,66483.9921875,55998.4921875,83628.9453125,81453.703125,39084.26171875,31620.697265625,72702.46875,71525.0390625,28543.07421875,57583.6171875,82132.78125,70920.2421875,48901.10546875,53563.6328125,45433.28515625,46511.75390625,97631.09375,47420.9609375,79649.4140625,72308.84375,60038.40234375,76265.3046875,54421.8515625,86698.328125,43977.84765625,67395.375,39448.0,33024.86328125,79105.859375,43260.01171875,47027.06640625,69567.890625,52154.48828125,37491.9609375,85093.203125,76356.8203125,30489.439453125,67309.6171875,60571.73046875,75092.1796875,56214.63671875,46208.91796875,51146.48828125,67815.015625,62243.1484375,18767.83984375,70888.5703125,83468.6796875,39342.60546875,96167.0546875,85026.0625,78271.1328125,94108.53125,40532.375,81513.09375,70134.890625,31268.095703125,62172.7890625,60268.046875,22769.37109375,110474.5859375,35386.01171875,89000.3046875,26667.291015625,56312.3203125,18071.16796875,55309.390625,84590.1484375,49015.42578125,46235.1796875,38288.51953125,31404.01953125,59638.56640625,33122.34765625,87152.984375,59799.296875,79732.9921875,44524.13671875,94383.8828125,99310.28125,69122.4453125,93833.671875,84450.5859375,46331.53515625,82002.28125,30157.49609375,49590.44140625,52879.6640625,82546.6875,71897.2265625,76456.8515625,70089.828125,87609.8125,33126.34765625,95826.015625,50499.265625,109296.6796875,80622.390625,45428.31640625,83699.9453125,29015.642578125,111625.078125,35072.4765625,38812.234375,52276.86328125,89557.1796875,70818.65625,78482.109375,85246.1953125,35318.62890625,108700.5625,38040.37890625,57157.51171875,72676.9375,116182.921875,100184.53125,66581.1328125,46950.0390625,95800.5703125,49606.93359375,27849.375,29310.96484375,83966.8046875,58333.03515625,116356.359375,50762.359375,58692.73828125,37117.625,76489.4453125,29605.6953125,58032.30078125,64485.84765625,56225.5390625,53080.69140625,40866.83203125,36880.53515625,44928.35546875,38370.24609375,43506.1484375,32995.73046875,61743.36328125,49321.98046875,42869.40625,63215.125,72316.8359375,43396.87890625,96779.453125,106329.1484375,63202.91015625,44459.359375,87459.0625,66568.640625,71366.7109375,60797.55859375,45097.76171875,78570.859375,94642.125,34111.21484375,37868.9375,91398.5390625,23823.9375,96712.328125,36566.1640625,86901.140625,49107.15625,32733.9921875,32332.3828125,71745.640625,69135.7421875,63762.6171875,97495.0234375,64562.28125,41055.98046875,87862.3671875,41748.86328125,49453.54296875,63844.95703125,89848.8359375,62114.09375,43863.1484375,65524.7578125,48366.55859375,85025.6953125,57804.01171875,61566.16796875,32996.2109375,26537.4140625,61323.33203125,66468.390625,105426.15625,63599.41796875,48336.07421875,88496.5859375,82542.7265625,59453.15234375,49785.9765625,49696.23046875,73354.2109375,34063.3046875,51935.078125,56346.35546875,39209.07421875,35085.6796875,51573.44140625,65236.8125,72322.9921875,83899.2265625,90162.765625,30631.15234375,45261.11328125,76841.96875,30646.15234375,59087.078125,67814.90625,81378.4453125,67479.515625,73322.1640625,33747.734375,108780.4140625,57610.609375,109281.6953125,83830.15625,105411.2578125,131805.03125,31927.529296875,31087.505859375,44350.95703125,18638.466796875,48032.9140625,46252.8125,102797.265625,113090.109375,44681.1953125,85439.1875,54696.34375,61761.921875,78469.9375,54264.703125,89580.90625,28165.845703125,26653.208984375,51511.29296875,56394.9921875,44924.30859375,54168.94140625,48018.46484375,80860.2578125,104462.234375,119786.28125,38359.90234375,98743.234375,63998.33203125,99036.8671875,49609.015625,44765.47265625,67930.5,52184.23046875,57836.6796875,66850.2421875,70345.5625,70151.4765625,51386.46484375,52051.94921875,78030.8359375,71147.0859375,54019.94140625,112734.8515625,35267.68359375,38873.22265625,56229.00390625,53764.00390625,61643.6015625,53085.671875,90649.3984375,33543.1171875,63693.9609375,73028.4921875,55833.26953125,70568.546875,59172.1953125,49348.92578125,41162.37890625,55371.11328125,57685.55078125,26308.68359375,36570.43359375,114221.109375,46491.34765625,64092.93359375,56344.921875,34092.34375,30378.79296875,55465.70703125,78190.84375,59418.57421875,59164.015625,48103.390625,23190.701171875,47869.48046875,102539.453125,54731.62890625,45612.05078125,50263.15625,63773.80078125,36897.640625,98064.3984375,85048.046875,46591.6953125,38624.23046875,82219.265625,101909.5234375,76378.0546875,51563.96484375,93403.28125,91940.078125,89731.234375,53627.83984375,91435.2578125,78404.171875,82209.4453125,44134.0625,85113.75,91314.28125,98760.9296875,26645.32421875,75717.7421875,79147.4296875,36713.1953125,63227.984375,22467.091796875,49230.04296875,35242.84765625,107561.9765625,66349.359375,92274.7421875,69126.484375,125359.2109375,68884.1953125,87354.6953125,36973.8359375,53852.3515625,36631.7421875,51267.71484375,51170.05859375,73076.78125,32259.212890625,57078.5390625,34245.9453125,44156.53515625,94037.65625,70518.1171875,78394.9453125,49536.44921875,79024.6640625,78449.609375,79707.0078125,96131.65625,63251.40234375,66253.5859375,49495.48046875,57860.55078125,110952.09375,64396.046875,47144.43359375,75528.6875,50158.6015625,43161.96875,74708.6328125,43705.421875,91471.1171875,75953.7890625,54305.96484375,57636.26171875,39690.4296875,47192.59375,50309.55859375,47215.203125,61048.14453125,90463.0390625,89638.78125,17964.00390625,91359.359375,40938.62890625,59078.0,33572.546875,75247.46875,33717.91015625,76590.8203125,58038.4375,71368.0546875,89198.703125,54894.12109375,82950.1171875,133358.4375,41178.25390625,82342.46875,104802.6640625,32631.896484375,58375.45703125,40089.0390625,50205.80078125,46204.546875,41013.96484375,37798.25390625,102954.515625,47995.6640625,59454.69140625,71309.765625,50154.265625,45821.17578125,102135.8203125,38482.66796875,100820.078125,147671.375,91719.4140625,49329.83984375,23056.853515625,46802.640625,26472.376953125,59509.1953125,48081.640625,71006.203125,91931.296875,81080.6328125,55337.7890625,40577.296875,32507.431640625,52685.63671875,63617.1640625,57012.52734375,84277.875,102740.7890625,61800.04296875,84217.5625,49817.71484375,67604.9921875,64592.65234375,67370.2421875,88906.40625,58075.015625,90146.8984375,65528.60546875,34975.19140625,65867.5078125,66735.2734375,24630.423828125,42630.4921875,31469.6875,54448.6015625,60244.265625,92104.0625,58278.8359375,127192.1328125,56085.06640625,56350.2734375,58186.8125,49878.4296875,105282.796875,56042.91015625,60362.67578125,58458.328125,51573.6875,89657.40625,112689.53125,70620.734375,59829.265625,91057.0078125,65924.3046875,75192.4921875,64900.69140625,47937.90234375,49363.5625,79745.671875,66732.5,81115.6484375,16802.603515625,32662.943359375,78452.1171875,40475.01171875,98648.7734375,34133.69921875,41824.57421875,46936.609375,91489.5390625,31553.701171875,69030.84375,31678.490234375,49939.2421875,84633.6875,70739.8515625,47517.9375,63692.2734375,83129.4140625,59912.85546875,93660.328125,48691.7734375,47875.2265625,95195.0546875,117382.8515625,32168.8515625,81613.609375,50017.73828125,64560.3046875,43567.60546875,59062.6171875,65879.640625,53153.33203125,92031.5234375,47081.44140625,62961.19140625,120716.984375,56274.3125,30123.240234375,31522.82421875,45255.40234375,60027.86328125,39201.06640625,76298.4140625,70765.28125,31661.3046875,89380.328125,45136.76171875,43518.6015625,34863.29296875,39370.96875,93379.0859375,70586.3515625,99385.8125,70174.9453125,46031.0390625,57392.4140625,51917.0546875,43323.5234375,111972.8828125,108835.2890625,89430.7734375,65105.0859375,47754.10546875,32396.12109375,66014.5703125,65236.94921875,60488.11328125,54284.98046875,94836.734375,48201.703125,20794.373046875,100086.0078125,99078.4453125,72127.03125,83384.3046875,114553.6484375,53610.02734375,59262.6015625,38758.13671875,79057.2421875,41861.77734375,49577.63671875,93510.03125,48016.76171875,78193.0390625,77445.1484375,68547.0,48145.1875,85268.5390625,88490.0859375,90202.21875,46568.14453125,59251.6953125,88086.1328125,38168.015625,107644.9921875,48970.171875,48224.44140625,56860.4921875,46573.58984375,35841.25390625,88120.0703125,82006.046875,50720.2265625,45605.7265625,40226.42578125,55379.30859375,47549.05859375,86367.5703125,71294.671875,57121.84765625,84467.1875,46682.01171875,56052.9375,74351.5703125,27189.00390625,78673.015625,45049.34375,70818.8203125,61722.1328125,47946.41796875,42714.15234375,42830.390625,49065.4453125,48092.234375,103916.8203125,48294.3671875,42131.5625,75029.9609375,51439.19921875,62870.6796875,36975.8125,52536.984375,25587.853515625,104505.0625,42902.76171875,34335.37890625,56415.140625,46297.71875,56104.31640625,93757.296875,34558.77734375,91799.8671875,52148.54296875,62282.15234375,82943.3359375,31338.037109375,40132.12890625,88839.5703125,65224.1875,68227.3125,25882.248046875,85716.5703125,56865.15234375,46701.47265625,43095.96875,64859.51171875,67259.671875,83644.6171875,80901.3125,107890.0,48422.46875,58126.7421875,39580.234375,54957.4765625,55130.2734375,48132.52734375,26431.943359375,55286.72265625,45759.3515625,41351.453125,68947.4375,86256.3828125,95644.75,85619.546875,64727.82421875,104051.90625,58221.4453125,48291.22265625,43878.26953125,71874.3671875,92652.375,39948.28515625,46440.8828125,67569.109375,102282.203125,40341.984375,39930.24609375,56567.49609375,59031.18359375,60568.44140625,83332.9375,84495.5546875,46735.2578125,35494.01171875,43268.671875,52408.7890625,31814.541015625,42047.45703125,60792.03125,62807.36328125,39391.33984375,68980.6953125,70147.828125,62451.48828125,58544.171875,109810.5078125,50331.9453125,78955.3984375,55696.0625,41815.484375,44471.92578125,51628.56640625,73918.0703125,68197.875,59679.74609375,71805.34375,114931.3515625,74253.421875,78444.7421875,53710.8359375,107657.5703125,54534.60546875,59635.48828125,62931.46875,46578.77734375,90758.6171875,55719.38671875,32797.9296875,43649.39453125,39243.71484375,109135.65625,79429.71875,54291.34375,69222.3828125,35975.67578125,83933.8671875,75031.7734375,51808.515625,55910.640625,34566.23828125,51883.54296875,71570.640625,60537.171875,31308.451171875,31504.345703125,88356.8203125,70029.7109375,60235.03125,48550.265625,83942.9609375,58564.796875,41157.46484375,72155.546875,42776.14453125,63957.265625,69907.4375,75299.109375,40290.73828125,71327.0234375,76027.8359375,49860.78515625,66649.2265625,128590.40625,64868.1484375,74224.703125,39431.25,99054.7421875,25731.28125,59646.70703125,94394.171875,75166.6953125,83190.1796875,58526.8046875,43355.3828125,49916.5546875,56131.140625,70657.8671875,51923.3359375,64224.984375,41943.39453125,34167.7890625,35801.71484375,80433.53125,39388.97265625,33590.44921875,49032.1484375,80417.8515625,84359.359375,81394.9296875,38914.13671875,69799.109375,70852.5078125,29727.888671875,37876.96875,68379.765625,37441.5078125,69807.2265625,99867.8671875,39331.734375,41483.3203125,25511.404296875,36210.83203125,78470.671875,61818.9140625,49163.96875,28204.587890625,55993.890625,46383.16796875,42412.01171875,39328.875,43454.39453125,67296.015625,39355.1796875,72137.234375,106794.296875,85550.9609375,63136.359375,65141.20703125,64410.09375,74158.6328125,36112.98828125,63406.1171875,83447.8828125,36782.64453125,51800.48046875,93722.4921875,98931.703125,100710.2578125,78049.3359375,38058.5,102126.59375,74706.25,49859.25,90573.4765625,81826.4765625,75956.265625,70315.90625,95016.8125,42914.27734375,69123.8046875,52396.375,56866.78125,73432.84375,87328.734375,47720.77734375,49633.625,80050.609375,74754.8984375,53732.42578125,48879.78515625,54372.8046875,111045.921875,79848.9921875,51381.73828125,89744.1171875,53772.47265625,31749.591796875,69605.09375,49086.58984375,70398.0390625,54692.50390625,63745.30078125,76037.9140625,45884.5703125,40514.9609375,58710.9453125,40966.265625,70456.0390625,76827.9375,43447.37109375,37062.328125,66353.140625,41723.1796875,64757.75390625,72966.6953125,81907.9765625,38324.8515625,59965.17578125,61889.5078125,45497.25,48618.34765625,58486.3828125,81752.015625,68101.8359375,49108.57421875,89965.65625,41636.19140625,58771.32421875,96619.46875,92843.5234375,44775.58984375,92253.5078125,73538.3984375,30530.169921875,76654.1171875,68045.1796875,54304.53515625,41286.80078125,40453.17578125,70391.5078125,89523.7734375,52201.0234375,36202.4140625,92356.1328125,45724.2109375,82960.5546875,53844.74609375,52634.7265625,38822.30078125,40215.5625,61930.51171875,95221.703125,105008.640625,36974.55078125,87515.203125,60840.58984375,73402.2890625,79179.0234375,64266.97265625,42479.73828125,62722.58984375,98781.7109375,33236.703125,35988.6328125,83031.9921875,88241.671875,36478.95703125,32496.35546875,63042.99609375,64650.40625,87335.7734375,48238.41796875,31947.357421875,78488.7890625,51805.41796875,79137.0546875,86919.828125,64953.5625,105788.46875,99879.90625,55874.0703125,43183.59765625,40956.58203125,73118.2890625,66650.640625,60036.80078125,71138.578125,76747.828125,45123.0625,64639.74609375,55829.4296875,100081.2578125,70067.796875,65262.73828125,59576.56640625,46880.796875,67665.5859375,61660.22265625,83406.3359375,29070.458984375,71544.65625,28714.849609375,61582.78515625,93158.7890625,102339.96875,18780.9140625,70501.390625,78293.0546875,70126.5546875,44840.96484375,78641.046875,65475.6953125,89693.4609375,30658.037109375,58597.0859375,45721.55859375,86310.8671875,36738.56640625,51827.203125,60879.7265625,43026.203125,115824.578125,41256.55859375,52602.8359375,64755.74609375,64933.3671875,60271.2109375,33631.13671875,86694.03125,81534.375,30758.34375,92383.9140625,78083.3125,77139.234375,42411.32421875,65911.0703125,48015.05859375,55455.58203125,34677.4609375,45152.3359375,83403.671875,47400.4375,103070.5078125,43586.04296875,53704.234375,65940.4765625,70666.5078125,57934.234375,53230.55859375,65053.8203125,38190.85546875,105214.8203125,91714.28125,42923.22265625,99991.5546875,73835.4453125,57343.38671875,35219.4921875,57132.49609375,29990.9375,47019.19140625,98797.1171875,65294.97265625,102723.5625,94744.921875,94929.4140625,57670.09765625,89464.9609375,97964.25,74681.1171875,30050.630859375,110879.5625,114424.0390625,55741.03125,28009.052734375,40665.47265625,109142.734375,89837.5703125,81540.09375,91054.9921875,32578.900390625,55621.08984375,77434.5078125,50108.99609375,67102.265625,72808.21875,69748.2265625,24292.42578125,76097.5390625,59046.33203125,62186.296875,60463.765625,41270.5859375,103677.890625,73622.71875,47909.7265625,79013.0546875,76118.8515625,24748.17578125,93306.9609375,33562.29296875,77423.2265625,49242.7265625,27208.873046875,69521.1875,98749.03125,19890.7265625,51881.70703125,57996.65234375,51333.3671875,33935.49609375,33676.6171875,18951.02734375,96437.890625,74613.59375,18804.462890625,41575.98828125,56416.55859375,38375.7890625,51305.546875,36830.25,34140.80859375,97025.1484375,71892.1953125,71454.3515625,41299.6875,36422.671875,52708.2109375,67782.703125,41221.41796875,53343.07421875,72998.28125,59428.9140625,68251.375,86373.96875,27168.314453125,32542.064453125,72855.6953125,50850.54296875,42092.18359375,105086.6953125,51591.8359375,112454.625,55513.14453125,30621.42578125,22011.486328125,55584.69140625,51835.296875,33582.65625,63223.27734375,56477.59765625,48925.296875,39925.00390625,30372.32421875,81794.390625,24320.119140625,48753.6015625,38276.63671875,73476.6171875,92021.2890625,43984.765625,46028.3828125,83785.1875,37288.07421875,46358.578125,56110.1328125,64083.96484375,82774.46875,42666.5078125,119664.8359375,36238.4375,51614.359375,57929.96484375,47234.97265625,74961.7578125,90808.0,57460.32421875,69019.890625,75708.3984375,32088.53125,36620.7890625,83605.203125,92061.8203125,27465.328125,94156.2109375,50319.08203125,50794.69921875,33645.51953125,109440.0078125,54322.03515625,64244.7265625,40961.5859375,44339.4921875,117779.671875,46062.8203125,85040.0,89118.8203125,74703.890625,67325.59375,66752.90625,95874.3828125,77530.4296875,53405.15625,74762.03125,48952.51953125,62032.48046875,49235.23046875,55773.71875,67966.7890625,18659.138671875,44644.13671875,81939.75,49818.03515625,68421.8203125,65399.55859375,80159.59375,67106.890625,49222.203125,47123.41015625,57014.36328125,84651.7578125,102907.421875,73764.546875,89053.1796875,74927.1171875,47606.046875,64367.36328125,86799.5859375,46161.2734375,99636.3359375,84390.4296875,62183.88671875,130603.28125,108575.15625,68384.46875,75524.7578125,90501.5078125,53889.84375,109503.71875,60132.46484375,45572.34375,67808.0390625,57985.703125,45972.48046875,74699.71875,79321.9296875,47933.0390625,86455.203125,87778.328125,68355.6796875,43351.8828125,96483.3046875,43993.046875,79976.5625,55521.8828125,64556.4140625,97931.5234375,83073.8203125,63373.71875,51674.16015625,58926.81640625,48816.703125,66809.1953125,112900.109375,43811.4609375,56387.1328125,57854.58984375,92586.6953125,110869.2578125,79812.359375,35951.9140625,59700.70703125,86069.7109375,91567.828125,31258.42578125,77111.125,42029.390625,27372.07421875,29192.41796875,55892.9609375,96037.6875,50555.109375,31008.451171875,92301.1875,107487.7890625,37335.16015625,90889.8125,49404.1953125,54993.32421875,51729.14453125,43456.41015625,68574.6328125,54500.14453125,83632.9453125,75753.2890625,44950.05078125,33468.99609375,55107.23828125,73557.78125,69834.65625,80416.3984375,40326.62109375,44559.29296875,40678.25,60685.21484375,37484.16796875,45636.12109375,29446.4609375,54798.046875,55741.8359375,46021.87109375,91025.03125,33775.41015625,64295.3046875,21193.97265625,49966.78125,115938.125,32246.5859375,97536.6171875,45705.8984375,51580.93359375,80819.5,80002.3671875,91391.8515625,116407.109375,115945.640625,37839.02734375,50156.59375,101723.03125,50789.6171875,37351.44140625,65659.3203125,76785.8046875,50214.4765625,42410.94140625,52169.48828125,63953.3359375,25896.263671875,60117.3203125,85543.109375,84073.8046875,80610.875,50053.58203125,35305.67578125,67697.8984375,38646.62890625,54974.671875,29750.34765625,30283.83203125,96285.4296875,63679.125,87603.859375,55402.45703125,84327.5625,36184.47265625,66310.46875,89447.6875,41567.6015625,78104.421875,61772.84765625,25896.041015625,36497.18359375,33367.77734375,62127.05078125,32499.359375,35130.96875,49324.65234375,25407.611328125,47551.6796875,92805.984375,51107.3203125,69422.3203125,36587.78125,43542.66015625,36423.6484375,43878.3125,80728.0078125,10064.3681640625,23824.001953125,20854.6953125,38771.17578125,29408.302734375,47358.79296875,43522.42578125,50561.890625,88962.2265625,79095.421875,63192.375,81089.1953125,65189.57421875,29661.935546875,87335.953125,93525.9765625,52039.58203125,80288.0078125,33863.515625,35773.27734375,91687.5546875,78630.2265625,80202.078125,82918.8515625,39444.1640625,61745.171875,52249.140625,74757.25,84183.6015625,85615.921875,81899.34375,43872.21484375,80191.765625,59212.39453125,82578.7890625,36487.7265625,108857.5703125,82765.515625,38186.07421875,106521.5078125,74601.2890625,53597.8671875,90471.4921875,57696.68359375,30352.95703125,64005.37890625,80732.6484375,48024.9296875,78194.6875,50563.3828125,46501.09375,26423.568359375,44030.99609375,47485.50390625,93375.0703125,69996.296875,94321.796875,33599.99609375,49015.578125,55851.59375,100811.4921875,52485.58203125,68921.6015625,35619.65234375,37498.95703125,36666.34375,102612.765625,59818.5234375,79055.2421875,98925.84375,82868.328125,70555.6953125,37866.15234375,61884.48046875,33859.98828125,55920.328125,59350.35546875,56289.0390625,83362.890625,96771.125,75775.984375,42935.42578125,81013.8984375,87001.3515625,82471.71875,57495.921875,81893.7421875,45025.4765625,52346.04296875,94577.4375,38415.015625,39473.3984375,63285.80859375,15259.9873046875,50014.5859375,33652.203125,54806.7890625,51671.95703125,85365.609375,70797.171875,87770.3671875,68548.1015625,37107.921875,50864.57421875,46319.35546875,77406.5078125,53950.41015625,50066.27734375,82663.46875,29319.478515625,44359.97265625,55714.72265625,71280.8984375,135737.3125,43529.40625,60829.8203125,32669.0546875,62283.62890625,115395.546875,38636.0,91703.3203125,29362.662109375,72927.0390625,63266.66796875,83851.5078125,86109.2265625,82160.1953125,80898.671875,64964.31640625,57011.59375,44561.89453125,101401.3671875,55357.765625,42179.75,31380.0234375,57283.6015625,89461.7890625,68744.5625,68164.6796875,108529.625,57829.31640625,37862.2421875,68136.0390625,90952.4296875,104462.9140625,91217.984375,23156.365234375,68480.921875,58071.109375,20809.666015625,28413.953125,36665.453125,74071.171875,86845.3359375,110473.3671875,70231.9609375,52008.29296875,64521.0546875,34280.52734375,61881.5390625,42776.0859375,50491.74609375,61717.03515625,59691.4296875,58391.10546875,47661.35546875,104442.671875,35331.9453125,72760.5859375,77993.28125,40196.25390625,95468.6875,36640.75390625,53168.5625,49967.453125,43944.46484375,66982.234375,69270.6875,50499.1875,47428.62109375,20544.89453125,38018.07421875,59804.796875,45456.86328125,48590.13671875,35609.87109375,62966.44140625,47682.03125,59502.6875,45509.1171875,98002.6953125,120374.6796875,43981.421875,82195.6796875,84288.4140625,31431.283203125,90173.28125,65783.6796875,39844.953125,69989.4375,44347.6171875,59181.921875,55482.66796875,75204.8125,69004.5,57768.265625,75700.296875,138393.75,103620.4140625,76486.359375,51365.69921875,72527.1796875,62723.26171875,55359.99609375,35047.78125,59979.23828125,70789.421875,38329.29296875,79989.5703125,27218.0859375,64037.390625,76873.796875,44954.70703125,59941.20703125,81549.953125,85589.96875,82039.84375,24549.02734375,40495.62109375,74197.2109375,66404.8125,53123.96484375,69969.6953125,71632.1953125,35738.1640625,62004.10546875,49129.75390625,72196.75,96177.875,49967.1171875,78090.9296875,56382.80859375,43626.10546875,29318.97265625,37785.6640625,45589.125,56652.40625,44373.1484375,82577.515625,38815.73046875,57961.66796875,51838.19140625,44903.7421875,20480.990234375,44178.9609375,76452.2265625,49344.05078125,49729.78515625,80427.40625,59313.12109375,73213.8515625,76631.859375,85873.0859375,110802.3984375,59402.92578125,67116.4296875,53415.546875,89846.1328125,86671.09375,55206.54296875,91520.6640625,64074.3125,111338.75,60311.90625,49295.8125,144082.046875,36897.8515625,74721.703125,69565.65625,34044.66796875,82954.546875,62020.1015625,24968.568359375,50568.40625,61798.71875,83025.71875,64009.42578125,83805.4921875,90631.4375,70773.2734375,49077.65234375,112335.5703125,92360.8828125,74432.0625,50275.76171875,90287.828125,37925.28515625,95674.6875,54190.328125,87128.0234375,61891.13671875,46825.15234375,49355.97265625,51984.92578125,36021.80859375,44534.1875,39754.484375,108095.78125,111841.0703125,60909.6328125,85575.0546875,34078.78125,62156.75,97178.859375,37126.234375,47088.5625,46811.8828125,47160.4375,63177.54296875,55008.078125,40370.66015625,67450.3046875,91314.7109375,55083.5234375,104409.375,72290.7265625,67648.734375,36154.02734375,83849.234375,46043.30859375,82923.96875,87639.609375,46209.5234375,44688.53515625,35800.5390625,35654.37890625,26241.447265625,89576.8515625,62473.71484375,58545.578125,30842.525390625,80963.9609375,33323.28515625,84757.1484375,32031.357421875,35541.57421875,46330.703125,113000.65625,48963.19140625,39983.9140625,76.21463775634766,23698.59375,113826.5546875,41931.90234375,92053.3359375,31361.58203125,45545.2265625,59375.31640625,56664.98046875,94591.4140625,85181.109375,97820.625,25222.57421875,66798.9375,60413.0859375,67246.5703125,76519.03125,99307.15625,50919.33203125,36019.76171875,29805.439453125,55598.44921875,101784.78125,42121.8828125,1086.392333984375,61574.11328125,84499.53125,55669.9140625,39785.3671875,67991.859375,122904.5234375,56600.921875,44822.05859375,36767.6015625,68116.359375,50897.4765625,97660.7109375,103978.125,40166.9296875,54332.734375,65185.32421875,39613.2890625,30566.69140625,82347.09375,111687.4765625,38923.26953125,21828.294921875,45386.98046875,25562.3203125,31946.302734375,120291.953125,69255.3671875,50684.08984375,98746.015625,60860.4296875,38952.12109375,25103.08984375,57152.828125,89942.8046875,64635.94140625,82815.9296875,51707.16015625,55360.73046875,59731.9609375,45098.11328125,60797.04296875,41422.2734375,34754.91796875,62654.77734375,45928.48828125,46616.59765625,83902.703125,33754.49609375,43599.23046875,51116.06640625,124959.5390625,79270.2734375,113908.78125,87038.0546875,84611.3515625,44654.453125,90868.8828125,72999.171875,80638.90625,75586.8984375,134438.78125,36250.3828125,67200.96875,50782.62109375,56398.96875,62187.54296875,88147.109375,24334.185546875,74472.5234375,55786.46875,76246.0859375,60440.3515625,47083.1640625,57073.16796875,46709.9140625,57074.76171875,46109.74609375,72384.625,60109.5234375,83206.5703125,68627.3984375,32527.04296875,65104.8828125,43459.41796875,68568.296875,69324.8671875,183.11463928222656,38188.4375,77628.9453125,46998.875,32078.30859375,52975.2734375,88336.671875,43613.99609375,37408.2109375,49324.03125,55765.71875,48798.55078125,66759.7421875,51500.171875,70121.4140625,57445.8359375,89105.515625,48966.3671875,46328.3984375,56659.328125,94659.21875,116278.78125,102633.78125,50726.29296875,102776.5,37231.05078125,45097.78515625,59021.55859375,59007.98046875,45063.8046875,49625.07421875,56806.02734375,93642.7890625,55059.09765625,91870.875,45050.98046875,54784.640625,58986.40625,106741.265625,38820.984375,38173.609375,37038.703125,86327.5,74313.2265625,39006.5703125,65403.59375,82876.5390625,70217.1953125,35896.6953125,24636.19921875,72757.3203125,50557.3359375,51617.95703125,53929.36328125,31452.68359375,85481.140625,50767.26953125,49830.66015625,77199.25,71654.453125,51924.96484375,113142.1875,42282.296875,55293.22265625,18440.71875,65156.0625,89473.4609375,86224.3828125,59220.16796875,79011.71875,38234.5234375,38624.9296875,42047.7890625,48699.66796875,76005.53125,104783.0859375,35148.8515625,52256.03515625,43415.734375,84512.8671875,48262.8203125,109101.703125,26381.49609375,20395.076171875,36096.78515625,46869.25,55458.546875,105096.7421875,64230.44921875,82855.21875,48754.19921875,49919.08203125,46052.37890625,121308.84375,66770.546875,42672.08203125,93316.9765625,47856.390625,57011.19921875,37798.12890625,74267.03125,77662.7890625,79670.2734375,48846.7890625,90705.2421875,50523.1015625,57678.8984375,42131.53125,74663.328125,27458.0078125,72896.2421875,65497.9375,84826.8125,74591.8984375,61760.6015625,57379.19140625,83687.0625,58123.28515625,115486.75,49882.08984375,103528.84375,34084.02734375,93278.203125,44047.5625,40038.6953125,69816.0546875,73342.734375,24432.69921875,83460.203125,48281.9375,57334.28515625,67220.1953125,76752.421875,70006.5625,50121.8515625,44157.03515625,59305.08203125,98811.1953125,76947.0703125,56957.63671875,55925.45703125,30815.98828125,46490.26953125,98632.4296875,37097.39453125,38896.8125,31623.177734375,83863.1875,85142.6171875,71700.921875,45019.53125,59205.12890625,28437.916015625,24092.69140625,57261.53125,32704.650390625,65537.2890625,69352.3203125,35719.8203125,40242.15625,47210.77734375,82264.8828125,76262.453125,76298.9765625,61084.109375,48484.05078125,70495.484375,51759.3828125,64298.78125,37826.48046875,43916.60546875,46387.265625,35961.875,36412.62890625,51505.265625,55037.89453125,91085.65625,55469.1953125,32680.07421875,63342.4609375,83549.2421875,95391.7890625,5580.931640625,82418.171875,40998.1484375,92444.546875,49944.87109375,79213.7265625,136841.515625,57111.7890625,58470.95703125,79798.6171875,85148.8828125,38530.8984375,78932.2890625,67232.4140625,50031.90625,37697.90234375,75978.7734375,36618.48828125,96897.5,89118.5,114019.890625,47319.8984375,62969.3828125,53606.51953125,26069.5390625,47875.22265625,48637.703125,56242.359375,80718.71875,68222.9140625,89769.4921875,57362.10546875,66857.8515625,44708.37890625,60194.55859375,27941.193359375,46584.08203125,56272.33203125,55949.02734375,69278.1875,47801.828125,72331.34375,69839.1171875,49279.98046875,89973.921875,114273.921875,51240.77734375,48120.4453125,66654.921875,41528.00390625,53458.1640625,52681.046875,41474.55078125,90491.203125,32098.3671875,64645.34375,75554.8515625,53095.43359375,81523.2734375,56495.48046875,22827.888671875,88769.0625,82417.203125,30530.478515625,90562.4609375,44857.3984375,105048.3046875,84300.625,102619.9375,38633.26953125,44150.74609375,44126.03125,53055.1171875,37547.33203125,65123.015625,93181.8671875,46271.50390625,64953.06640625,67390.625,15115.5224609375,41713.1015625,31550.767578125,42469.7890625,34965.87890625,79057.3125,50877.953125,115273.484375,80045.9765625,53104.703125,80034.9296875,58061.31640625,111591.328125,71381.78125,37874.03125,47509.890625,77655.4609375,35995.98828125,86762.96875,46572.94140625,61845.11328125,62925.04296875,49076.0,41842.29296875,74956.5078125,89266.0859375,52635.90625,38665.98046875,49693.37890625,46562.125,100239.9921875,60008.58984375,47375.84765625,40812.82421875,57157.28125,92039.1953125,55826.93359375,76178.7265625,40615.45703125,49021.609375,37236.03125,107911.1953125,99924.9765625,101007.0625,95456.609375,39634.90234375,55791.078125,90231.625,88683.609375,33510.6796875,100452.296875,20962.3359375,88075.34375,53446.484375,76496.78125,50167.76953125,67882.1953125,73909.7265625,74980.65625,60646.89453125,51942.7109375,96114.5546875,76099.34375,79514.078125,34212.1484375,79658.921875,49760.91796875,47356.50390625,39653.27734375,60427.5234375,108802.765625,54339.0078125,42850.3046875,48116.91796875,92737.328125,72963.9140625,56468.94140625,78720.1796875,41494.00390625,41295.88671875,55287.5703125,66298.2421875,81091.8828125,50497.73828125,64982.390625,86533.8671875,56028.46484375,50741.45703125,73916.671875,51049.76171875,46884.92578125,55383.08984375,34444.609375,36935.03125,94535.6640625,34675.6015625,77217.5625,28026.087890625,35662.73046875,60119.546875,41245.75390625,89907.7734375,31959.060546875,75063.6171875,91731.46875,50718.5,50245.11328125,46861.15625,64115.44140625,68818.171875,84963.8515625,37486.625,77586.0703125,66615.8671875,78232.65625,63612.68359375,36188.24609375,66380.5390625,53538.3046875,52656.06640625,42209.84375,49733.4375,45901.41796875,71485.1484375,61106.171875,25531.43359375,37443.39453125,44879.53515625,70064.765625,45751.43359375,48322.3828125,71353.6484375,39539.17578125,56019.73046875,44363.98046875,55894.47265625,75593.3984375,43060.17578125,27421.115234375,78727.015625,24804.0,27969.380859375,50385.33203125,48555.75,35992.58203125,77905.90625,42881.78515625,55299.38671875,50682.3203125,75493.9609375,55732.8828125,82893.40625,54298.75,93570.609375,106891.8125,85999.265625,56191.62890625,80160.7421875,45127.48046875,31101.1171875,50985.96484375,41982.40234375,51062.2734375,40525.66015625,135138.953125,59478.90625,51735.06640625,85392.9140625,78677.8203125,37306.06640625,70893.234375,97513.984375,73138.1328125,89098.4765625,34589.8515625,60926.80078125,51926.53125,66240.765625,102726.734375,44658.03125,71882.859375,41880.65625,40647.12890625,44736.80859375,39746.4453125,46501.74609375,55918.828125,56928.90625,51677.76953125,77514.421875,42585.14453125,36497.36328125,68469.125,87763.4921875,76137.9609375,41034.67578125,31244.607421875,65575.7578125,73597.2890625,20019.3671875,81026.7734375,57864.58984375,79564.6875,46484.73046875,41067.7265625,48290.2109375,64042.0078125,89513.4296875,50475.78515625,60134.41015625,95188.9453125,70647.234375,60935.5703125,82249.265625,55976.671875,86086.171875,41116.09375,38376.36328125,62036.94140625,80287.8203125,83960.578125,50772.66796875,52781.984375,116109.28125,33891.5703125,96618.71875,89152.78125,45133.3828125,64532.48046875,39363.15234375,77216.4609375,61825.79296875,73637.9765625,92295.65625,87378.2578125,94868.3046875,61442.1484375,52591.703125,64635.71875,74430.1875,59384.12109375,30847.1953125,46846.328125,59727.97265625,51888.24609375,76123.84375,92491.53125,86694.9921875,57674.1328125,133852.0625,30001.822265625,92031.9296875,50127.75390625,72172.2890625,54674.4765625,48120.83203125,62102.89453125,56572.23046875,70085.4453125,121622.1015625,27840.958984375,56241.34375,39431.03125,38495.8671875,58060.734375,67879.8359375,79935.34375,51351.76953125,92517.3046875,28630.630859375,46405.046875,56606.15625,30109.05078125,59054.6171875,47351.13671875,38513.9765625,58570.4921875,44413.78125,103036.6953125,87699.6328125,61786.2578125,36064.92578125,60605.66796875,48515.63671875,63482.29296875,44215.34765625,42339.55859375,89923.125,93933.8359375,52590.62109375,49478.96484375,71356.4453125,82911.7265625,52773.09765625,49835.5,41500.55859375,66852.8125,43486.17578125,41040.58984375,62914.9375,87569.1015625,50820.76953125,73618.0078125,49236.58203125,64773.515625,53253.62890625,105478.6953125,44702.9375,35399.578125,66842.828125,45071.94140625,49124.98046875,69460.6015625,62086.62109375,94799.3125,115240.484375,55480.29296875,60041.890625,81927.03125,53957.43359375,24829.001953125,73248.1484375,81549.65625,29654.728515625,45283.26171875,42935.3125,96486.609375,70294.1640625,74985.09375,85290.4609375,35646.54296875,32132.890625,77286.15625,84212.5703125,55744.26953125,50189.59375,54789.53515625,99658.21875,87565.6796875,38420.1328125,28154.08203125,35612.03125,76051.4375,49825.0859375,75098.6796875,34320.83203125,94044.78125,76658.1875,22027.8984375,45859.109375,86329.453125,34674.8515625,89159.5546875,85862.4453125,40777.4921875,42121.51953125,50568.40625,89453.0703125,62432.1484375,88222.3515625,31827.666015625,43005.66015625,44859.28515625,71794.3046875,42864.5625,102178.328125,43320.1796875,55785.38671875,61851.98828125,74561.4453125,48126.6171875,92706.859375,41805.19140625,87896.8203125,37787.7890625,54195.8515625,70508.6015625,38018.90234375,42125.984375,83153.0859375,35222.53515625,47852.453125,104853.0234375,41930.80078125,71343.03125,104285.3203125,88103.3671875,84956.890625,72953.1484375,64938.88671875,28431.349609375,90496.78125,73178.5234375,84728.5546875,48710.265625,57623.90234375,45912.5625,62807.7578125,44330.91015625,70400.734375,68949.3515625,89101.109375,51145.7421875,65920.8515625,39949.64453125,70506.390625,56687.47265625,39145.43359375,25978.67578125,50225.5703125,50303.296875,48211.15234375,29025.658203125,45685.19140625,51933.4921875,73580.1015625,28235.759765625,28208.625,33141.69921875,86139.9375,65720.2265625,67961.3984375,97894.3515625,82321.9375,50781.82421875,90913.9140625,31035.22265625,42869.09765625,40148.59375,52962.9453125,47346.9921875,71262.8046875,90573.5625,71733.7265625,27294.185546875,64985.0625,47489.296875,50790.94921875,80635.8515625,86591.7578125,52544.4140625,111634.4375,66153.3984375,30595.705078125,59177.5859375,94804.3046875,28045.19921875,33573.0078125,128499.390625,53218.6953125,89468.421875,73181.4921875,63962.234375,55035.828125,64411.55859375,53784.67578125,72545.140625,118605.9140625,100387.8046875,89991.4765625,105859.1015625,33728.35546875,70104.125,62122.6484375,97430.40625,58501.0546875,42599.2734375,50088.62890625,67581.1484375,40066.6484375,75553.1796875,40896.01953125,56585.60546875,52223.30078125,28946.591796875,55588.2109375,26724.39453125,83328.109375,44254.67578125,98246.109375,48356.90625,29596.208984375,49277.796875,55375.6875,89545.4375,75406.78125,66148.578125,43262.8359375,85475.6171875,47719.57421875,91721.5625,59258.26171875,71537.78125,83295.2421875,93349.6328125,61624.421875,74694.671875,92016.7265625,60843.26171875,53322.9921875,37309.9375,48006.58203125,90823.671875,57783.9140625,45899.0078125,79150.171875,49201.81640625,42668.984375,87971.84375,31524.396484375,44314.046875,49320.60546875,30519.619140625,117928.1953125,50672.66015625,30426.8125,84532.125,48255.421875,64648.625,82098.453125,50019.7265625,63149.67578125,47851.84765625,36087.74609375,59373.3125,48017.828125,63769.921875,43890.13671875,48752.3125,46692.71875,77297.7109375,74720.4609375,70194.921875,46261.0859375,40582.203125,35567.16796875,82049.140625,44456.63671875,50423.828125,53857.8984375,33512.98828125,75748.9140625,43833.30859375,68984.046875,30154.34765625,53006.8359375,39670.1015625,29642.30859375,41957.765625,66873.6328125,63015.28125,61331.44921875,51953.80859375,88410.125,91852.3671875,51872.02734375,92302.2109375,53118.89453125,59312.47265625,47853.08203125,83765.171875,30431.943359375,43110.53515625,61636.92578125,54481.3359375,86974.265625,29814.87109375,126211.34375,54125.9375,46478.28515625,41140.01953125,30025.853515625,47840.01953125,55813.55078125,81456.640625,63680.6953125,83399.5,49103.01171875,61016.65625,59737.01171875,55969.28515625,54971.0078125,54553.8515625,54115.0390625,26718.376953125,47803.7421875,54378.40625,104358.8515625,115352.4140625,49780.96875,59005.95703125,68635.40625,27340.83984375,56563.51171875,25058.474609375,42592.828125,89249.5546875,95991.734375,37634.69921875,35099.07421875,24347.328125,87179.1875,96826.421875,53769.74609375,77314.703125,59200.58984375,67677.75,56393.5859375,50072.31640625,58066.8984375,86102.71875,53409.9296875,42035.98828125,34201.80859375,76133.5859375,52621.01953125,94871.7109375,100424.265625,60413.62890625,70427.46875,56422.69921875,95912.015625,38026.85546875,43047.203125,57323.58203125,74627.7109375,92548.625,82709.1875,59019.58984375,46527.4921875,20439.0625,76584.6484375,48691.984375,34398.7734375,36073.0703125,98246.7421875,76598.4765625,99214.2890625,56388.65625,39386.65234375,45190.28125,49836.01953125,85807.6015625,85230.3828125,99116.9375,96566.234375,46605.62109375,80797.46875,88217.8046875,73276.4140625,34704.18359375,54587.23828125,83981.421875,61478.4921875,83277.796875,36516.984375,47127.91796875,45478.234375,51588.26953125,54367.1171875,90952.296875,38631.6484375,71662.5390625,86744.359375,87649.796875,56294.12890625,37315.41796875,38407.4453125,34086.49609375,53172.6640625,44398.15234375,44879.00390625,77795.3828125,47244.35546875,60409.00390625,83795.328125,73870.0078125,33760.12890625,71684.328125,30466.732421875,86001.7265625,48140.00390625,69276.0234375,50481.3515625,92017.5703125,102715.203125,111217.9609375,36550.84375,89927.3203125,97167.3125,64501.8046875,34704.9453125,52364.515625,54697.17578125,65285.5078125,46720.125,50011.28125,72039.4921875,32435.484375,84357.828125,71743.328125,52611.2421875,61356.953125,109246.0,79521.5078125,50848.8046875,54344.9921875,81724.4765625,27080.783203125,59714.3359375,80190.6015625,90458.625,58416.65625,47061.5859375,35027.05859375,46359.41796875,81838.1640625,73463.796875,39290.44140625,44950.42578125,62059.28125,59306.26171875,57019.08984375,55427.2578125,75565.6015625,41552.3203125,80160.0625,70183.1328125,97559.1171875,53472.59765625,93197.6328125,50779.41796875,71884.34375,47469.0,56412.33203125,56491.98828125,69715.1640625,118954.2734375,80114.3515625,118027.015625,35884.6953125,76756.6953125,47675.19921875,50480.73828125,95014.71875,84801.59375,83771.75,88128.0546875,75214.3828125,110912.0546875,51777.203125,48709.52734375,49989.5703125,30565.576171875,102153.4609375,63141.265625,53075.91015625,59120.7578125,58046.75390625,54774.41796875,96434.390625,85681.390625,42480.1640625,24077.291015625,38016.20703125,102263.078125,44233.17578125,67200.015625,46146.109375,39703.01953125,21701.982421875,54085.62890625,68493.8203125,57582.49609375,65384.14453125,70419.5234375,28763.84765625,80553.6328125,95484.3046875,59585.6171875,88216.9296875,26766.67578125,58784.91796875,47604.8828125,48080.21484375,70184.8203125,84007.984375,47562.6328125,75554.4765625,50708.59375,61190.51171875,51832.546875,70182.09375,57099.97265625,81126.4296875,112108.4921875,74588.78125,47697.9609375,74258.21875,56437.734375,89847.78125,58018.41796875,49620.4140625,84155.40625,30436.140625,79243.2421875,83356.1875,80051.640625,24408.48828125,50518.6640625,61575.61328125,31068.650390625,33952.96484375,28725.728515625,104796.984375,60753.12109375,130800.984375,58816.6484375,38920.45703125,47125.02734375,121797.5703125,58650.6328125,38011.1484375,67449.9375,145501.125,69619.9296875,76480.0546875,59056.27734375,44888.0390625,48603.23828125,85617.75,54601.390625,106762.0625,72448.1171875,98391.484375,30707.416015625,50672.9765625,61759.25390625,88767.4140625,55423.33203125,75700.9296875,69400.515625,84347.75,52045.0078125,38214.765625,89741.890625,93038.015625,66951.46875,37622.47265625,46489.1640625,55318.09375,79815.3125,40704.26953125,108549.28125,88630.9765625,63272.78125,55373.96484375,40164.78515625,84840.90625,32853.8671875,50332.52734375,58729.7421875,46922.12109375,72143.1015625,64159.703125,87216.7421875,38814.26953125,36756.69921875,45096.62890625,25265.14453125,65114.69921875,90498.46875,69603.640625,46999.61328125,69635.3515625,84837.09375,39209.67578125,88387.828125,58063.578125,63110.57421875,31022.734375,41517.171875,76231.125,65234.984375,50735.96875,118357.8515625,55100.171875,72176.9921875,52776.48046875,34850.38671875,67678.9453125,93800.9296875,102970.7421875,43335.78515625,29090.658203125,39926.75,59792.8359375,46433.484375,42702.62890625,60600.12109375,88834.9375,64308.87109375,70792.2421875,72164.0546875,50581.7734375,70168.921875,118086.0,41492.5703125,40246.1953125,57390.35546875,89724.25,82842.6015625,36815.4609375,75665.1484375,62445.4140625,38078.83203125,53664.375,59848.2265625,89871.4375,82095.7421875,77729.21875,104596.2578125,92439.9453125,52982.48828125,47645.9765625,63235.04296875,21648.3984375,32224.931640625,49910.36328125,50954.99609375,59922.203125,81661.390625,47977.13671875,42206.66015625,90365.5,87054.8203125,56657.0078125,73309.0546875,54964.8515625,34995.28125,101880.40625,72394.4375,91583.359375,38827.8671875,46069.9375,82563.671875,56138.38671875,54388.921875,44754.66015625,97196.890625,85567.859375,42512.61328125,77713.0703125,43053.49609375,52872.91015625,79397.34375,81063.84375,82089.4296875,89357.53125,38886.70703125,67362.703125,58705.88671875,135535.34375,58949.7421875,72118.953125,52855.3984375,33439.9375,34801.1875,78778.15625,49760.85546875,60406.7421875,47393.27734375,70638.6015625,44427.390625,45593.4296875,42727.734375,90653.546875,64539.24609375,31515.548828125,98817.4921875,48859.15625,67349.671875,63387.52734375,76520.0078125,39045.7109375,23697.34765625,52161.078125,55025.4453125,35185.4453125,57426.18359375,89309.890625,60466.5234375,48887.8671875,48008.640625,53556.07421875,42294.38671875,91264.046875,61019.90625,48606.57421875,72383.46875,132277.0,63409.03515625,103705.2890625,40148.39453125,34092.00390625,97827.9765625,61353.05859375,58394.88671875,40439.75,45719.2421875,110347.765625,58159.84375,77554.6796875,53336.1328125,52095.86328125,96131.9140625,41632.609375,75468.7421875,45723.67578125,86399.8203125,69076.859375,72499.234375,24881.923828125,39201.8359375,28589.306640625,44007.26953125,67647.8828125,40166.40234375,50852.4375,22582.533203125,72450.8515625,36392.16796875,84924.3125,39843.53125,98044.0078125,54047.51953125,72195.078125,61693.0546875,71225.7890625,33962.390625,32438.9609375,102148.09375,54129.22265625,67479.84375,128638.4140625,50534.296875,119228.34375,72932.0,65821.421875,70169.6328125,67014.8125,54502.69921875,90750.6640625,40535.55859375,10271.609375,64823.93359375,58606.26171875,63765.13671875,82598.46875,52352.35546875,58683.9609375,77666.6171875,40952.5625,68296.65625,37371.7890625,76995.03125,43921.48828125,46207.8515625,123493.21875,62155.7734375,52985.1484375,80035.59375,37010.94921875,85125.234375,23179.556640625,74757.71875,75289.0625,91189.3515625,118091.359375,73394.0546875,82936.3515625,68567.515625,37688.5703125,56350.3046875,37114.6796875,64163.21875,62770.21875,84636.203125,49232.0859375,55468.51953125,83606.171875,100541.28125,62798.0703125,27997.494140625,51055.94140625,62332.67578125,65325.125,94869.3515625,79936.15625,23331.748046875,94622.046875,101331.828125,122151.6640625,29031.017578125,55923.95703125,52150.0546875,65424.98828125,55693.9609375,67495.453125,36653.05859375,71960.90625,48277.99609375,50411.4375,105006.1171875,45927.67578125,62367.7734375,51679.19140625,52677.59375,69360.46875,47407.74609375,95238.6171875,57104.4140625,37248.23828125,67348.03125,41128.6640625,65197.58984375,75985.765625,40270.1953125,45675.265625,86291.3828125,87548.5234375,36059.77734375,29505.7734375,81456.8125,51412.12890625,40029.1640625,54537.2890625,49415.296875,59791.0234375,84075.1640625,67977.3046875,57279.70703125,53941.34765625,66354.21875,66325.109375,32452.060546875,65442.37890625,71534.3828125,39085.6640625,57974.83984375,41880.56640625,53603.63671875,52355.40234375,58580.64453125,45151.1328125,115712.0859375,44960.3203125,57188.53515625,47128.640625,76000.8984375,48564.640625,46845.95703125,67423.53125,52391.57421875,52031.265625,25852.79296875,41305.5234375,45489.2734375,31782.076171875,69120.78125,54405.10546875,41525.98828125,28625.54296875,62326.9453125,27446.62109375,48106.62109375,38010.70703125,53637.46484375,79395.0546875,78075.796875,66047.2265625,33583.265625,78386.0078125,50965.875,58205.70703125,56750.53515625,51636.734375,93758.84375,77985.5859375,53462.0,65222.73828125,82844.859375,50948.8984375,46518.203125,85469.296875,82143.6015625,43170.28515625,65723.46875,45563.48046875,85394.9140625,87050.0,31622.44140625,35638.25,105708.40625,31974.6640625,82972.5,76649.3359375,51331.8359375,41081.828125,29662.78515625,106848.7578125,31385.955078125,56245.140625,65230.40234375,84326.4140625,27307.251953125,42367.44921875,582.2954711914062,63601.5703125,80021.8515625,54395.94140625,37041.2578125,49411.66015625,39897.80859375,72942.046875,66900.21875,43892.2890625,82610.53125,62155.19921875,45171.671875,65380.29296875,60238.6796875,59783.8125,65628.7734375,77123.6953125,44502.3125,90323.2734375,42384.625,78985.1796875,103184.03125,37409.85546875,55964.6875,68564.1484375,40772.6484375,22793.029296875,93567.765625,77688.3203125,28169.58984375,99120.3046875,67771.09375,50315.21875,93522.3359375,85818.6328125,46071.39453125,96267.0078125,85184.8671875,27976.9609375,50839.55859375,31670.134765625,48251.62890625,54125.1875,67528.7890625,64138.50390625,21842.12890625,78434.0859375,59907.8671875,77042.734375,105423.1953125,79651.875,29835.04296875,86070.375,29729.470703125,58358.171875,91497.65625,46215.4921875,106599.6484375,86097.6015625,71619.578125,66710.8359375,50606.75,43345.27734375,66325.296875,52267.44140625,67268.3828125,85018.6875,66695.96875,80005.4296875,59093.15234375,44147.421875,43145.7109375,66249.8828125,52909.28125,25923.912109375,34633.44140625,75959.703125,75319.4375,92533.609375,59533.4921875,65503.46875,76368.0859375,85040.9140625,70650.6796875,100728.203125,54714.83203125,94724.84375,46729.90625,52739.80859375,75855.765625,58934.015625,38231.70703125,40903.26953125,41006.2890625,108362.0703125,54502.51953125,79081.375,29364.677734375,67238.390625,53826.6796875,70325.921875,55132.2109375,87341.078125,46352.71875,57937.921875,91366.7890625,58172.2890625,76699.7890625,35664.43359375,42124.73046875,91320.46875,66706.234375,52969.44921875,37120.69921875,44667.46484375,40159.2265625,42771.796875,103382.171875,50239.8359375,41844.1953125,51425.65625,64090.29296875,34402.53515625,78910.6015625,48477.65234375,65114.78515625,71825.234375,76960.8359375,33604.08203125,82676.515625,53946.1484375,77464.765625,37098.69921875,81560.4296875,68784.6796875,88678.2578125,70118.09375,37741.5,54407.13671875,43690.64453125,27997.078125,29213.53515625,50380.42578125,78904.0703125,85832.8828125,96913.390625,81024.5390625,112273.3359375,51718.78125,38060.21484375,46019.8984375,92215.28125,54045.76953125,58320.93359375,41723.16796875,74548.6171875,33943.3671875,71663.8515625,56664.44140625,68597.3984375,51966.33984375,57459.46875,46160.34765625,89227.328125,71699.203125,42842.84375,75849.1875,48505.15234375,60495.80859375,91748.140625,76217.8203125,47811.765625,85260.1328125,53499.75,87665.515625,92091.0546875,57596.328125,82901.09375,58483.66796875,30745.390625,60314.3046875,82619.2109375,51452.5390625,77909.4296875,64853.19140625,1369.8531494140625,99409.90625,67782.6171875,30210.833984375,78881.171875,67499.3515625,41931.57421875,82817.265625,46100.0234375,41474.0625,31695.125,63870.62109375,54867.53125,52539.76171875,70419.8828125,48009.41015625,93920.8203125,36095.7890625,74666.21875,39388.98046875,56785.4453125,42493.5234375,55400.21484375,43396.00390625,43554.6328125,47278.09375,34331.9609375,40415.9375,31683.318359375,88102.1640625,35858.40234375,95703.890625,77317.9453125,42617.25,77405.96875,87323.1953125,33808.76953125,89945.8359375,55370.31640625,59288.1328125,41673.68359375,73574.015625,33811.71875,34778.7421875,79626.4609375,37305.15625,76610.8515625,95279.171875,78100.625,84520.2265625,32085.205078125,44728.50390625,65193.66796875,34510.28125,80577.8828125,68198.734375,72281.6328125,54497.296875,67006.0546875,36354.3828125,80792.65625,102949.265625,36884.4140625,84516.6640625,90803.359375,94080.859375,36849.625,10268.095703125,54553.0546875,38758.87890625,100507.3125,74670.3515625,104433.640625,92941.546875,60532.8359375,38459.578125,94061.234375,99789.78125,39473.4296875,95443.375,70556.03125,20308.115234375,34597.78125,95197.609375,88233.953125,38108.1171875,53480.43359375,55872.6640625,90125.9375,50179.8671875,128215.6171875,32856.140625,97757.3203125,30798.048828125,109885.0078125,92077.0390625,48025.5859375,35098.5078125,64951.89453125,87169.53125,81203.5546875,88667.7578125,40148.15625,36955.59765625,63251.984375,80054.1796875,86157.0,18188.1484375,56424.7578125,47491.40625,47610.29296875,101073.8046875,74868.90625,60081.42578125,60066.20703125,57785.1484375,30842.376953125,90065.8359375,27861.08984375,59685.55859375,52455.44921875,49667.86328125,26444.529296875,83475.359375,79221.6328125,46022.20703125,38880.859375,28520.94921875,50010.51953125,40618.44140625,52480.375,91368.7421875,6616.2548828125,54782.19140625,84442.2421875,45977.21875,50441.87890625,60709.0703125,31367.2421875,76262.484375,36169.80859375,86822.875,95494.640625,78484.5703125,28680.58984375,64439.50390625,41134.8984375,22462.669921875,49815.08203125,78710.5078125,43570.578125,48535.30078125,38858.546875,40417.18359375,38886.38671875,38311.609375,45978.66015625,90769.484375,89052.3515625,82303.3359375,48861.26171875,56871.61328125,39821.95703125,38602.55078125,88707.6484375,41060.7890625,70207.453125,39148.9296875,48549.49609375,119826.2109375,84779.6015625,44332.33984375,32869.94921875,23167.341796875,40319.57421875,40707.49609375,55535.94921875,43418.53125,34859.9375,88576.2421875,93987.4140625,59901.28515625,32024.19921875,113835.8671875,130318.5,47190.2109375,72538.859375,47081.65625,86481.7109375,37594.04296875,64048.61328125,51329.53125,95904.0234375,94894.0703125,105639.0390625,69850.171875,45985.953125,34026.203125,69140.5078125,40729.6796875,36476.61328125,76901.4765625,36091.8515625,95735.5625,62367.984375,89655.78125,41841.61328125,69876.125,43356.0859375,50666.203125,94833.2734375,60690.3203125,57803.40234375,55277.84375,66317.109375,85392.453125,33175.98828125,37663.73046875,90632.4921875,46045.94140625,52895.03515625,33008.69140625,90106.953125,98100.7578125,78214.796875,59977.7109375,39427.65625,48755.06640625,74369.2421875,44856.76953125,73593.9921875,65525.98828125,23606.494140625,68344.59375,78543.1640625,60525.6171875,56550.83203125,63306.89453125,75387.0546875,60972.76171875,40153.640625,49720.953125,45404.68359375,77664.9453125,30856.021484375,37112.32421875,87235.0703125,94326.3359375,46768.5,45758.44140625,70669.9140625,56916.5390625,46958.109375,79974.3046875,48988.90625,87129.2734375,87598.9609375,85121.1171875,43438.36328125,45754.02734375,63375.16015625,55438.50390625,73843.875,49095.75,23922.849609375,37201.56640625,55927.2890625,55953.7890625,85985.2109375,81721.1796875,72520.3671875,118654.7421875,65688.9609375,48259.23046875,55459.29296875,82453.6875,49014.28515625,61684.80078125,88812.8046875,35630.40234375,101721.625,48077.37890625,26709.23046875,92785.484375,36254.8828125,53932.76953125,74493.046875,62356.0546875,80348.7890625,78355.0625,39118.21875,95832.5703125,82251.3203125,57682.41015625,58533.3515625,61199.70703125,87999.9453125,47641.5859375,69098.6953125,46573.72265625,34235.8515625,112712.2578125,84089.8828125,36556.44921875,76011.96875,55995.859375,85901.3515625,95671.5546875,45373.50390625,38966.828125,83175.109375,70705.7890625,86279.34375,63058.83984375,58550.72265625,34926.91015625,80079.2890625,37792.90234375,49250.19140625,57194.15234375,49050.515625,81019.4453125,56733.7734375,50272.28515625,22747.15625,66067.40625,30260.67578125,69399.34375,44781.859375,62475.23828125,82315.6015625,88969.4609375,70394.703125,91674.65625,100.78289794921875,45790.828125,52274.984375,24343.833984375,39191.921875,44013.29296875,69720.828125,26839.5078125,87706.7421875,54015.71484375,56489.2109375,84193.015625,60681.4453125,48865.71875,79204.75,78977.3671875,40307.80078125,82799.90625,25763.380859375,84202.1015625,39204.46484375,37374.984375,97771.1953125,34414.95703125,40637.94140625,88183.7421875,69639.2890625,24964.255859375,45608.57421875,75377.3203125,78918.7578125,44083.33203125,80791.9453125,56943.63671875,37730.30078125,71377.3828125,75693.6875,88688.4296875,34241.62109375,94495.0546875,26539.76171875,81489.5234375,45753.0859375,49749.3671875,84444.28125,84526.796875,38273.734375,98750.59375,86221.8671875,61574.48828125,75197.1328125,80857.7109375,42737.6484375,61967.60546875,41079.65625,87421.296875,53136.68359375,41082.64453125,95896.328125,67821.8828125,35983.18359375,31979.3359375,46608.5546875,61849.9375,53846.58984375,40666.234375,83944.5078125,72165.5625,40474.89453125,92848.359375,91163.53125,39932.43359375,71947.5234375,55737.015625,51239.98828125,45395.41796875,53185.20703125,27037.28125,35159.3984375,38598.64453125,39729.71875,97916.96875,41278.33203125,58059.52734375,39471.57421875,26643.912109375,68211.3984375,57685.3125,61116.296875,30231.2734375,50303.28515625,64936.21484375,18987.982421875,40374.953125,37600.9375,38009.31640625,48969.46484375,19699.8203125,55093.54296875,41186.2109375,85981.546875,32651.43359375,102167.2421875,45031.4375,43663.52734375,44030.0703125,80222.421875,97936.0546875,100925.90625,34153.03515625,38166.21484375,48899.40234375,42605.0703125,98461.015625,61256.359375,87686.8125,81009.6015625,68483.6171875,89577.375,28005.0390625,44681.95703125,27032.265625,98097.328125,102143.4921875,46006.12109375,47573.5390625,43467.94921875,88328.390625,67889.359375,58037.51953125,80382.859375,45381.0703125,64185.62890625,77283.40625,41646.6875,49135.5625,69512.4375,57759.01953125,46385.6015625,51198.70703125,64783.90234375,47242.15234375,87079.28125,70013.1640625,140847.90625,77209.1328125,55637.19140625,108917.9375,30493.8828125,103514.9765625,38324.44140625,49532.30859375,94864.6484375,71244.265625,72014.515625,64797.5859375,83623.859375,95761.6015625,51351.515625,51165.73046875,50178.734375,70440.953125,74564.78125,88736.578125,67362.46875,78959.21875,36219.67578125,47160.41796875,45852.078125,40532.4609375,42315.1328125,29852.861328125,30266.453125,47759.86328125,50755.71484375,70911.71875,39724.41015625,60612.0078125,77437.078125,106300.8671875,50554.328125,59500.41796875,72914.40625,30602.376953125,70812.765625,87562.2734375,37025.08203125,71747.90625,94046.96875,72252.859375,56697.27734375,69886.34375,23729.3984375,96511.5703125,36626.7734375,37453.58984375,48137.6015625,93218.3515625,56482.3984375,39525.296875,63982.68359375,52053.734375,96855.7578125,36707.8203125,94086.5078125,98547.0390625,62695.71875,54686.3125,94190.546875,62523.24609375,52517.6484375,85828.71875,59037.125,68363.28125,98253.9453125,45136.36328125,95445.5078125,108876.609375,42189.19921875,40865.46484375,81755.71875,45181.828125,72199.453125,70248.375,48953.11328125,37620.5390625,54820.28125,56051.390625,65985.2421875,78885.96875,58691.99609375,51220.71484375,66830.2890625,78564.21875,53412.91015625,33280.93359375,54000.48828125,49263.71875,96714.75,89143.8046875,46050.734375,98345.109375,36220.515625,97464.2265625,35028.67578125,32746.59765625,69897.640625,55733.625,70245.5390625,73769.7578125,33214.69921875,38712.3984375,65383.18359375,78288.5859375,59328.64453125,112676.7265625,53773.7265625,72578.5546875,67977.65625,38184.8671875,49465.9921875,79868.3984375,38328.6328125,83143.296875,33439.01171875,48497.0703125,65838.953125,67267.0234375,40129.22265625,39702.46875,34523.765625,31846.060546875,73733.203125,90393.046875,33236.7578125,53797.25390625,42899.734375,44621.96875,28784.890625,55966.4296875,80866.140625,47905.078125,34331.78125,72410.1328125,34985.66796875,52709.921875,72479.5390625,44840.265625,108293.4921875,83530.671875,87813.34375,54901.3203125,139872.203125,67542.3203125,61485.5703125,31977.7890625,54730.80078125,48482.55078125,65409.703125,53635.24609375,36238.890625,48137.296875,48949.1328125,71583.46875,64085.68359375,61957.05859375,55934.62890625,60577.23046875,100954.5390625,51783.1796875,39164.5625,92209.5,27980.255859375,70427.03125,58931.59375,76517.09375,68352.4765625,43997.515625,84753.671875,65651.828125,21643.53515625,74900.9375,43520.62109375,43749.19921875,93387.28125,63832.421875,33272.1484375,72072.4765625,36361.6015625,52378.68359375,55641.5234375,117066.4765625,61721.0,77473.4609375,55575.37109375,50890.9765625,49253.99609375,67592.03125,94424.703125,89235.3046875,63529.359375,44825.58203125,41717.58984375,56397.609375,45888.5234375,85548.15625,47238.73046875,96043.125,96053.0390625,46989.96484375,86958.6015625,99917.2578125,72009.4453125,90815.8125,26653.32421875,59663.97265625,29564.4140625,69139.6875,45856.22265625,27037.67578125,45958.6015625,56472.94140625,73464.96875,55423.5625,46022.59375,43031.04296875,73756.2578125,58731.65625,102112.7421875,55184.5625,50595.19140625,85799.0,82645.3515625,48167.8515625,60221.62890625,96483.515625,33418.98046875,93602.515625,69560.453125,44769.1484375,60142.94140625,46257.4765625,81759.2734375,49371.48828125,74930.8984375,63695.95703125,41090.02734375,56305.9453125,37719.7421875,54261.4140625,59523.2578125,92493.75,84382.6171875,60709.71875,42723.23828125,70183.140625,62450.3125,76886.7265625,58904.78515625,32045.08984375,26826.1015625,75257.984375,43580.8984375,60376.046875,55655.33984375,44605.6484375,88579.75,37709.59375,40678.1796875,71668.015625,72772.765625,84324.84375,63601.48046875,42998.328125,87001.640625,53964.98046875,84681.0078125,50278.984375,59916.37890625,59243.35546875,30968.541015625,50356.04296875,46672.61328125,25705.185546875,39152.1171875,77502.0625,29720.591796875,37840.828125,13623.3212890625,86004.0859375,33954.3828125,11783.376953125,100597.7578125,26044.912109375,89950.2734375,21229.607421875,48228.65234375,70135.9296875,40703.203125,52717.62890625,71720.328125,69509.96875,46134.7734375,90554.5703125,97803.0859375,59426.3125,67508.515625,52075.08984375,59154.26953125,36779.76171875,52399.01953125,70686.546875,36739.08203125,68329.6484375,44966.55078125,86834.9609375,69812.6953125,93365.515625,52143.609375,82152.5390625,35886.3671875,54779.4140625,60159.125,35507.66796875,81035.5625,66076.8046875,23325.04296875,45286.5,32176.322265625,29109.990234375,43935.30078125,88387.875,73957.28125,83366.2109375,88429.4296875,59031.58984375,56898.21484375,51499.49609375,57891.57421875,94080.03125,50752.79296875,51615.7109375,63638.28125,32916.6015625,41118.40625,35576.0546875,40586.00390625,70043.234375,80613.765625,51946.66796875,60980.01953125,78229.0078125,71919.0546875,36890.55859375,87782.2578125,65873.125,83876.4375,55046.17578125,92774.6328125,52966.37890625,85894.03125,41182.83984375,22830.033203125,80166.859375,60927.07421875,37052.0546875,85121.2421875,58468.984375,41536.44140625,58488.453125,40326.9375,27644.859375,19539.1640625,60483.0,61601.859375,26899.654296875,36004.53515625,64155.08984375,81554.7109375,63473.05859375,44060.10546875,50929.15234375,80462.3125,65850.5703125,69628.671875,70660.6796875,52846.6875,67737.4375,63876.8671875,41599.18359375,38993.18359375,16453.734375,89591.96875,74023.28125,84318.5859375,50371.34765625,85940.4375,39306.828125,47017.0,73631.5859375,47007.6171875,84020.34375,66452.1015625,107452.5546875,83159.3515625,91061.21875,40789.51953125,41516.59375,60210.5078125,94040.3046875,91679.3203125,93995.3828125,113107.5234375,40146.21484375,51697.28125,58873.8671875,95566.875,43534.85546875,48940.93359375,84958.890625,73792.359375,119150.046875,33013.07421875,54676.09765625,59922.8359375,37140.91796875,81159.8671875,91884.0234375,65657.8671875,159.0816192626953,48878.23046875,47143.13671875,73638.375,36200.74609375,73138.6171875,45154.99609375,52961.94921875,80388.0703125,35321.40234375,45741.49609375,59416.1171875,41290.6015625,47279.74609375,50742.19921875,49599.73828125,53248.95703125,88209.625,44577.55859375,82795.21875,68443.2578125,32752.0,85590.7265625,84015.6015625,36524.56640625,90184.328125,74858.546875,41778.88671875,37802.30859375,38379.15625,28315.298828125,50027.96875,25727.80859375,36886.7265625,24963.23046875,54894.609375,75632.2734375,105724.265625,68035.6640625,62744.03515625,55723.3515625,54495.14453125,49652.07421875,40879.23046875,78569.7109375,92874.0390625,67061.4609375,55319.65234375,71178.125,120450.3671875,36452.96484375,38768.79296875,35852.3828125,87793.515625,21263.494140625,27082.36328125,46178.015625,60046.140625,42255.53125,75273.875,52451.6484375,105962.7265625,106375.296875,88753.5078125,84735.625,49317.89453125,40139.2265625,46987.76171875,62379.12109375,96441.8359375,72869.8046875,27579.76171875,55458.93359375,35901.4765625,70627.3125,38181.35546875,30623.95703125,74951.78125,83330.609375,35212.78515625,69828.1015625,33914.765625,58880.77734375,62442.96875,31343.2578125,35733.7890625,88892.109375,26581.9921875,74332.0390625,46450.62109375,62957.2734375,53934.1328125,91420.2890625,48396.37109375,40354.41796875,36818.84765625,58006.08203125,95374.8828125,68996.578125,49803.48046875,26293.041015625,27502.830078125,91537.9609375,82913.9765625,63268.0703125,97003.46875,28182.41015625,76833.9453125,42128.703125,44653.0,80214.046875,41541.6171875,55378.54296875,78645.28125,71023.875,59965.0390625,55940.5,65233.8671875,65159.06640625,81342.0625,41672.0546875,49625.05078125,86198.6875,97381.5234375,31703.15625,78051.265625,39125.1484375,40386.01953125,79231.765625,38062.0859375,71945.6875,53358.72265625,77308.4296875,101420.0234375,93738.4296875,63703.0,49993.32421875,89006.515625,24516.333984375,49062.328125,88531.0625,41309.234375,61834.10546875,40431.52734375,82102.65625,109055.7109375,36140.19921875,49707.26953125,43687.40234375,92738.6796875,43671.98046875,42664.80859375,100859.3125,44860.31640625,25561.40625,106007.046875,59282.59375,63408.7578125,58739.98828125,101825.0,76716.53125,59667.16796875,83277.65625,55906.625,61531.80078125,38183.87890625,108596.7890625,118280.046875,64134.47265625,47521.09765625,38601.671875,54208.875,97899.4453125,66816.7890625,97313.21875,47799.55859375,45399.53125,49933.046875,70410.0,81732.609375,37704.6484375,42926.0078125,47903.06640625,48246.03515625,93815.6328125,69979.0078125,88789.3515625,38890.125,58295.13671875,53166.23828125,52612.6796875,53823.12109375,68476.0859375,57080.09375,74661.4296875,61302.24609375,88655.0859375,55371.3671875,49975.7734375,64740.66015625,94733.921875,40290.8515625,83996.2109375,34956.5,47444.4453125,49114.5390625,31952.83203125,110844.375,60575.3125,62775.1953125,30987.044921875,50863.359375,54979.43359375,48296.40234375,60575.26171875,35812.09375,87019.2890625,37623.06640625,42307.75390625,60903.6171875,86704.1328125,120016.8828125,30831.755859375,58697.30078125,37519.7734375,47702.2578125,70220.0703125,103656.046875,81564.828125,32522.701171875,44095.890625,113778.0078125,67637.703125,34092.81640625,41852.01953125,72642.3515625,41809.140625,35339.87109375,77879.015625,84589.484375,43316.46875,36087.65625,85405.2734375,79011.2109375,72551.9921875,39832.80859375,38030.21875,61635.48828125,35513.52734375,39082.875,28542.109375,33862.7265625,65566.25,106389.8046875,55116.8984375,46228.734375,90637.3515625,86096.2578125,68034.1484375,31278.884765625,95845.75,77692.5,51466.4375,34423.78515625,61664.90234375,54225.17578125,36636.0,94418.2421875,30200.287109375,55581.4453125,34421.875,30115.45703125,54833.23828125,46360.8359375,33448.16015625,85310.234375,48909.94140625,79021.609375,26744.2890625,70892.5625,54274.5703125,43022.43359375,82027.953125,74726.0546875,61589.19921875,77604.8671875,58248.8125,30461.90234375,113432.6484375,37639.1328125,100760.3359375,90423.6640625,72338.3984375,57018.19140625,58960.50390625,79785.7734375,44190.48046875,49372.40234375,28248.509765625,34611.86328125,81101.921875,91157.4375,33222.296875,60336.84375,40244.87109375,43570.16015625,60267.26953125,63614.546875,44001.14453125,44725.51953125,100992.8984375,86327.984375,55633.48046875,63450.83984375,33409.2109375,48532.8671875,64360.09375,46920.53515625,72974.234375,58131.68359375,77146.2578125,60518.8359375,38541.328125,111709.7734375,29014.13671875,40394.87890625,63717.1953125,30035.90625,72599.5546875,59118.3046875,77183.34375,58565.3515625,35892.41796875,58358.3046875,99912.3203125,60114.7734375,32362.64453125,45442.4296875,84212.984375,24313.876953125,85738.9765625,30328.8203125,51311.53515625,54185.81640625,27546.232421875,89553.78125,40445.64453125,85294.5703125,72615.171875,59354.24609375,59016.90234375,50752.74609375,55645.3203125,73115.2734375,39067.64453125,48449.90234375,47415.07421875,62203.5,70559.8359375,91461.78125,50453.12890625,52450.58203125,53049.03125,88857.3203125,53560.953125,89056.6640625,75587.3828125,76220.234375,80618.578125,79966.8671875,91581.703125,62712.1328125,89818.09375,56699.8125,74450.546875,43021.8515625,54826.67578125,37232.35546875,35439.27734375,96151.8828125,40626.703125,43961.26953125,95264.0390625,67431.0703125,68603.328125,24930.107421875,43061.89453125,64407.44140625,45840.26953125,61486.9921875,49312.203125,36882.29296875,38034.1484375,48138.09375,21553.365234375,33483.6328125,81754.0078125,48934.1171875,104764.1796875,71759.984375,81296.15625,64147.3046875,79919.671875,71128.1015625,38985.03515625,54156.83984375,40364.24609375,131335.484375,40682.6015625,23090.732421875,50940.30078125,64480.20703125,54215.1796875,70350.15625,54312.32421875,95055.8984375,69965.0,83913.5703125,51816.37890625,56178.62890625,50426.4375,20007.33984375,101180.3203125,106699.8984375,27453.3671875,35434.0,62700.421875,70174.9140625,77613.9765625,81389.5,53579.91015625,53652.4375,73171.0234375,88867.8671875,104901.09375,42044.84765625,50562.41796875,68634.0234375,86765.6875,44454.96484375,41882.1796875,97386.3515625,38315.5859375,49046.16796875,64299.328125,44335.421875,29361.966796875,100632.2109375,98215.3671875,54285.171875,23360.66015625,45403.28515625,54058.58984375,109856.8359375,96042.203125,55939.78125,47574.5078125,60678.91015625,83739.734375,57417.26171875,54285.5625,64459.6640625,37641.546875,47951.2578125,50930.6015625,40247.06640625,77217.6796875,76928.1640625,28679.078125,102729.0,39943.28515625,34824.9609375,42156.83203125,41112.48046875,41419.96875,54889.23046875,96656.7578125,79216.46875,68542.6875,52985.6484375,49409.65234375,33135.125,58689.25,121211.8515625,32321.162109375,92069.171875,20639.734375,38870.87890625,43630.48828125,83761.3828125,75414.65625,89670.875,57660.5546875,45426.859375,39835.89453125,59319.171875,33369.53125,82861.703125,35312.2421875,31571.611328125,48896.359375,51157.23828125,52741.07421875,41207.44921875,53897.79296875,75436.90625,80558.3125,42642.578125,29589.158203125,48283.01953125,54727.66796875,54798.65234375,82615.890625,46651.0703125,67128.8671875,69269.5390625,24884.685546875,42639.5078125,78083.90625,76418.265625,87010.3046875,31566.373046875,37920.1484375,91812.7890625,89012.5390625,25638.47265625,50455.53125,66582.5,68286.3671875,49197.78125,71850.7578125,34310.22265625,44523.109375,57125.4765625,47374.140625,50399.01171875,67957.5,52680.8515625,45384.3828125,44165.75390625,83906.0234375,42842.45703125,84007.3515625,109243.25,56198.3203125,65609.4296875,37403.9140625,82662.4765625,58888.7265625,101256.4453125,59280.89453125,62306.7109375,44689.14453125,51437.04296875,47512.3359375,108611.0625,90111.25,40994.0625,57244.37890625,119588.8125,37983.33203125,44568.44921875,50231.43359375,40311.58203125,60715.3125,71629.015625,51595.125,78943.4296875,25692.72265625,45936.5859375,36703.8046875,90025.1171875,104338.6328125,36925.26171875,36639.6328125,69436.59375,91486.6484375,84985.1640625,45079.24609375,43760.703125,49710.6953125,38984.57421875,32565.619140625,55976.59375,53925.73046875,68184.1796875,56330.73046875,48992.08984375,61987.16796875,59044.94140625,57327.7578125,80325.90625,55511.67578125,36141.7734375,92125.5703125,76013.9609375,30379.666015625,91825.7734375,71232.84375,48319.8828125,35586.2265625,56618.74609375,74920.890625,109195.0859375,70462.6796875,53761.28515625,101967.828125,79059.46875,44815.30859375,75262.3515625,56674.05859375,23382.078125,75564.2734375,79096.515625,67275.4921875,32311.068359375,80555.484375,35456.41015625,98188.03125,31598.744140625,117697.9609375,144043.921875,123827.640625,40869.96484375,31311.3515625,61815.3828125,26253.388671875,62848.08984375,86491.1171875,50229.015625,71882.8203125,35920.4453125,75277.8359375,67978.0546875,54230.49609375,125937.6875,85939.21875,100146.2421875,28540.5859375,79578.5078125,54450.328125,49177.2265625,32911.50390625,55545.53515625,117026.5078125,73965.5625,86714.0390625,75724.21875,83936.609375,72599.5546875,41685.77734375,74226.8671875,49331.70703125,44808.98046875,66949.6875,53069.1171875,87773.7421875,69826.125,42752.22265625,85663.1171875,112859.5234375,41399.6640625,49170.94140625,31946.111328125,41810.6875,63801.42578125,38591.0,63201.1328125,78005.3828125,73451.015625,40808.59765625,86190.2734375,55295.7734375,33562.74609375,65046.15625,69497.6484375,98277.9296875,24401.044921875,43604.25390625,44956.42578125,41654.03125,73204.9296875,73206.625,71956.484375,52371.9921875,58636.62890625,73733.2578125,89549.0078125,27721.583984375,102527.3046875,107595.1640625,45091.5703125,104705.234375,78835.9140625,30282.83984375,38950.83984375,52255.69140625,52916.1484375,33413.1484375,31740.314453125,53357.078125,59457.00390625,35655.53515625,93743.9609375,37478.55859375,63540.28125,31805.171875,65140.59375,37265.51171875,67638.3359375,50593.84375,73148.0234375,39109.5625,76776.5078125,38382.99609375,78308.1484375,71442.9609375,57991.32421875,54506.6640625,49229.13671875,79128.65625,46642.7265625,37726.60546875,28200.14453125,39519.8203125,30831.876953125,57726.01953125,66004.90625,80449.1953125,46083.71484375,80068.9453125,54525.55859375,62688.94140625,78274.8828125,45936.01953125,76752.65625,102281.0546875,55561.9609375,63102.9453125,38310.859375,51755.921875,96189.3046875,55113.0390625,78539.671875,41320.6796875,90403.0234375,99703.125,36022.97265625,34345.27734375,106472.421875,77603.1484375,51410.41796875,48154.578125,28238.744140625,55726.0703125,49437.17578125,44098.85546875,52841.2265625,46870.28515625,41756.73828125,81176.5546875,127304.109375,76105.4453125,46074.96875,42907.078125,46163.2421875,74686.2890625,102420.0234375,65466.6171875,83327.0234375,47066.4453125,51407.48046875,82741.0234375,65134.47265625,92227.53125,46554.62109375,52650.296875,13740.7021484375,49500.19921875,47676.44140625,80962.828125,42736.1875,51755.87109375,91939.984375,59165.77734375,37234.9609375,51235.2734375,84986.515625,75334.5546875,29256.517578125,68135.6328125,53413.89453125,66931.5625,70683.21875,41421.6640625,50464.7578125,29457.591796875,41459.59765625,75980.0,37258.58203125,102594.0390625,45101.4609375,39166.71484375,48348.3125,64592.33984375,51824.13671875,37933.1953125,42658.49609375,36860.3046875,51446.16015625,79169.234375,66523.609375,94937.7421875,41682.58984375,44392.8984375,96749.953125,86135.1640625,83874.328125,44191.65625,45992.77734375,89532.7421875,78767.96875,65476.53515625,33162.9453125,73944.984375,63765.44140625,51755.15625,81568.390625,107594.1796875,42741.39453125,91904.2734375,41036.78125,50399.40625,78907.65625,57308.2734375,104264.109375,63804.890625,33735.23046875,29659.373046875,18161.904296875,34268.9296875,63092.4296875,74257.2890625,19980.115234375,41517.3125,73643.453125,67347.25,70004.6015625,46009.96875,38459.8515625,103624.8359375,72899.75,36805.8828125,31392.41015625,95497.5703125,53243.08984375,41580.51953125,66371.6796875,76637.734375,45030.03125,89906.90625,42585.66015625,28707.841796875,35510.6328125,50341.8671875,26511.974609375,84329.46875,40045.64453125,30959.798828125,78048.8359375,45276.87109375,74870.625,85731.84375,51105.15234375,19510.857421875,62437.2265625,23029.41015625,54190.8515625,6514.38623046875,35621.59765625,72898.4296875,56289.671875,45588.15234375,86040.109375,34163.45703125,82766.484375,102833.4296875,70015.6015625,32726.552734375,48604.4375,57183.14453125,49741.82421875,39430.70703125,100276.5546875,46288.06640625,33925.13671875,57090.15234375,54185.8203125,64654.453125,39469.109375,91140.5078125,47637.16796875,43983.08984375,70843.0625,42551.78125,45752.8515625,63522.36328125,48374.3984375,97641.3515625,44283.703125,71920.6796875,78517.2734375,52423.44140625,44082.44921875,59151.1953125,83038.25,68381.0,37166.00390625,28255.796875,32546.16015625,45086.30078125,43812.09375,76967.921875,108838.28125,59542.4296875,38499.70703125,35517.828125,84100.7421875,78454.2421875,73013.796875,49764.375,101967.234375,85615.3203125,80020.765625,74354.09375,97776.734375,73365.2421875,54852.41796875,68303.9375,71579.8359375,49530.15234375,84290.0234375,34102.7265625,52262.09375,113219.296875,72540.9296875,40426.78125,86377.1328125,74078.421875,73800.140625,54416.49609375,98736.6328125,39210.453125,52017.52734375,82708.6484375,88452.484375,46363.09375,41589.3203125,107892.203125,59723.1953125,39563.796875,65981.0,70647.625,79371.6484375,29809.197265625,48441.421875,46481.55078125,93080.2890625,49184.63671875,89230.0859375,54532.30078125,73423.015625,55768.1796875,113981.2421875,33841.35546875,46203.90234375,63525.6796875,85526.53125,58070.921875,45215.49609375,60120.33984375,56672.18359375,43478.23828125,99843.703125,73374.234375,82894.6796875,32900.66015625,44126.87109375,56769.01171875,106295.625,52924.47265625,31744.44921875,50399.44140625,52668.96484375,89941.5,54959.46875,54125.1328125,71611.5078125,43610.90625,33815.5625,31320.53125,52285.76171875,48941.2421875,53916.19921875,56212.29296875,60007.43359375,59842.41015625,54568.9140625,20905.271484375,71833.7265625,35082.4296875,94718.9921875,89573.390625,54832.87109375,28612.75,43684.66015625,59187.87890625,78994.1875,37963.07421875,39615.99609375,18853.841796875,40154.09765625,71034.25,46938.45703125,23111.21484375,37923.6015625,69238.6015625,78878.5234375,42927.01171875,47113.4921875,70207.546875,56925.76953125,122517.0625,60926.33984375,64140.375,73903.6328125,39435.08203125,59707.2265625,89610.640625,94417.4140625,72803.1640625,83623.25,31048.349609375,72993.6953125,81874.046875,78023.3671875,94627.109375,84949.40625,58294.3515625,60302.34765625,116219.96875,92885.875,51359.1640625,38284.80859375,83207.1015625,56511.265625,31562.09375,63262.20703125,77723.6953125,42029.578125,49571.58203125,66444.921875,84908.1171875,66703.4375,70626.8828125,37330.31640625,50017.37890625,29375.720703125,83100.078125,58343.046875,63514.33203125,55590.546875,107119.3828125,44524.91015625,81381.3515625,40281.3046875,49931.80078125,89145.1640625,85954.765625,57949.93359375,79697.328125,58385.875,87579.1640625,43758.765625,61761.328125,42102.7265625,58316.953125,92320.1953125,52031.64453125,43189.35546875,71936.0234375,88582.0546875,50866.52734375,53207.546875,116049.125,24210.419921875,34629.4375,23774.853515625,60790.1875,48322.14453125,46016.97265625,91478.4375,59604.96875,42057.37890625,38765.12890625,40132.3828125,73351.5703125,45233.71484375,69897.0546875,67659.0703125,68844.1796875,34788.71484375,26548.73828125,63071.8671875,94979.0234375,33484.62890625,19464.861328125,17501.384765625,57339.48828125,48796.53125,71234.3515625,128652.4921875,44777.875,94196.5625,96214.5546875,40012.484375,110163.4609375,87629.7734375,48442.51953125,39261.8828125,85713.3828125,82687.4609375,59682.1171875,73382.65625,84577.578125,71521.3671875,107053.265625,54409.453125,66579.6796875,63344.703125,50633.33203125,124602.609375,145799.765625,97153.6796875,77611.4921875,47837.921875,42116.78515625,105111.703125,22099.72265625,83425.9921875,107007.8125,79962.265625,45072.68359375,64797.71875,22323.505859375,82710.1796875,45000.92578125,51065.3046875,39732.59375,79822.1484375,49789.98828125,58173.734375,62290.66796875,51235.97265625,87565.9453125,60823.8671875,21651.98828125,64599.6484375,92411.609375,64572.046875,29344.123046875,55732.3125,86383.46875,34404.53125,43090.8125,71313.953125,96465.421875,39115.8203125,85028.8984375,63895.203125,42739.6484375,70257.8671875,69229.7890625,80354.609375,88514.8125,58612.6875,58338.296875,51887.46875,54580.609375,47789.58984375,71530.1640625,72206.4921875,38726.3125,87369.8828125,45519.30078125,91789.5078125,70025.265625,40925.82421875,83947.7265625,56827.1953125,72133.6484375,92866.1171875,72947.953125,63979.91015625,90022.796875,72654.984375,38495.00390625,87122.9296875,22609.94921875,37375.9921875,72554.1875,74768.3828125,40938.06640625,46929.87890625,88173.5390625,89783.671875,47232.45703125,42267.1171875,60941.86328125,40449.03125,47647.41015625,30955.62890625,46568.73828125,40682.64453125,63685.33984375,44105.9296875,78051.109375,75860.484375,41874.2109375,65856.953125,36388.47265625,39480.390625,41081.89453125,75927.8671875,66587.71875,50070.43359375,101205.7890625,71631.5546875,35809.10546875,55038.11328125,45482.07421875,78978.0625,92786.7109375,31171.0703125,88640.9609375,40381.50390625,71011.171875,32972.859375,36439.55859375,70135.2265625,48487.26953125,33097.16015625,75365.3203125,76680.703125,45299.73828125,68206.453125,27973.4140625,36572.046875,63563.296875,59924.3984375,57245.78125,28353.736328125,67481.921875,47628.56640625,61557.92578125,85314.1328125,107837.0078125,76559.0859375,66103.1796875,53321.72265625,64995.9140625,78596.7265625,62570.0078125,52229.4921875,42917.95703125,37659.484375,66234.2578125,56344.6484375,45938.046875,42965.01171875,72619.2578125,60208.87890625,55916.15234375,93765.6484375,45186.171875,50890.3984375,44126.84765625,51786.51953125,61416.33984375,60465.57421875,38050.9765625,84030.1640625,61512.51953125,36904.75,45855.16796875,71818.109375,56254.09375,59665.96875,66302.859375,83774.53125,113420.1328125,60676.53125,49705.8515625,98158.921875,37485.91796875,37752.52734375,57087.4921875,83438.578125,31953.857421875,70297.234375,72468.3828125,76423.0625,35259.52734375,63342.640625,107015.9375,93450.1640625,30285.50390625,65114.69921875,78398.1875,88365.1953125,68806.7578125,92582.9296875,33691.3984375,80955.921875,29387.96875,114783.5078125,37688.97265625,78927.6015625,22676.275390625,48593.625,54042.4140625,75742.4453125,62257.12109375,52213.1015625,117173.875,59171.6640625,90711.75,43964.1015625,90615.09375,68649.8515625,44223.43359375,89350.953125,43145.73828125,32686.98828125,55270.0859375,38020.9453125,33944.47265625,49518.94921875,36982.9921875,79877.390625,86611.796875,49840.53125,34370.1640625,43690.08203125,91047.5703125,42409.6484375,113719.4375,56706.53125,60182.08203125,87336.453125,46224.2890625,57363.1328125,66961.0,49529.17578125,55725.0078125,108674.3046875,43405.61328125,94462.203125,42158.3125,87227.578125,30946.404296875,55724.61328125,38233.8203125,48337.7734375,70827.6328125,19790.109375,43453.4453125,53845.71875,57013.1640625,31315.291015625,35499.37109375,54098.84375,45332.21484375,40845.25,107093.7890625,55500.0078125,59301.35546875,45417.95703125,63180.546875,36585.5390625,64875.2421875,52476.19921875,56672.01171875,41120.06640625,39718.90234375,78551.28125,33365.62890625,49245.5859375,40992.55078125,71615.9140625,77451.5078125,36265.58984375,49697.9375,66160.5234375,22219.541015625,113187.9453125,61762.09765625,45770.8515625,71333.125,77239.25,43495.515625,42374.90625,30255.037109375,48122.09765625,120056.8359375,77279.1328125,82564.1640625,70736.1796875,56820.1171875,43771.3671875,92193.4140625,126406.65625,39315.234375,38621.6796875,85718.3203125,55469.296875,43575.2890625,76215.1953125,83017.8828125,93477.125,26998.67578125,66928.0234375,48906.48046875,50148.41015625,90586.109375,40390.9921875,79183.109375,44985.83203125,90709.1484375,22912.83203125,28171.716796875,80754.1875,53825.73828125,69417.53125,56528.98828125,37999.53125,50851.60546875,66958.03125,74641.7890625,81372.5859375,53207.12890625,120678.3125,89879.6015625,51141.625,69446.4921875,55923.56640625,48093.265625,87053.40625,82374.2734375,63307.07421875,34520.234375,99955.0625,54207.46875,101904.265625,67613.6015625,65346.25390625,57019.06640625,107093.984375,42702.62890625,49486.1171875,59007.0390625,40499.51171875,92362.46875,105059.2265625,42604.56640625,64240.859375,61819.04296875,133413.390625,55091.79296875,85181.5703125,68439.875,76129.4296875,74035.3515625,41372.5625,53118.78125,76017.9296875,95884.0703125,69386.59375,95751.1640625,21139.486328125,72033.96875,82151.3046875,58193.79296875,18478.34375,96041.46875,29966.48828125,75289.3515625,24670.6328125,74047.84375,64774.12109375,42330.796875,86115.6640625,54368.9453125,66106.1875,28605.416015625,87702.3671875,68248.546875,31803.8203125,83932.8203125,49852.21875,40474.14453125,43428.0859375,63082.30078125,64520.05078125,89069.8046875,25862.462890625,47253.37890625,45636.65625,66851.5234375,95937.7421875,46884.17578125,43954.8359375,60321.55859375,46614.90234375,52085.6328125,48031.140625,39167.69140625,94606.84375,67022.9453125,49725.015625,37588.30078125,77865.3671875,64729.66796875,74608.515625,89387.109375,73658.140625,30832.19921875,65713.5625,47109.0859375,88509.078125,42052.8984375,53957.765625,61080.72265625,35019.27734375,71669.828125,81823.2890625,57048.43359375,80719.8125,82323.078125,65451.96875,89518.546875,24066.294921875,38445.8671875,76202.1640625,68824.5234375,45446.3046875,63220.09765625,38944.2109375,34875.2578125,75292.3203125,43159.484375,68790.078125,69099.3515625,54807.71875,56567.05078125,83145.1328125,33536.85546875,64802.46875,54244.61328125,51256.51171875,85096.171875,27039.125,65289.02734375,91080.2578125,42529.33203125,45988.44140625,57656.91796875,58587.2734375,50940.13671875,41683.984375,46408.88671875,43425.578125,75385.578125,39139.0546875,49214.53515625,40154.37109375,42620.32421875,47505.578125,52862.0,32000.740234375,97149.7265625,45705.7421875,52131.9453125,66884.796875,36982.45703125,100662.3984375,99362.265625,68415.5703125,24946.25390625,51972.3671875,28186.08203125,80151.75,51272.77734375,63051.04296875,63931.8203125,32080.330078125,84264.4453125,23794.77734375,58193.19921875,45404.4921875,34935.09765625,49170.6640625,41391.265625,69935.109375,36410.8359375,70043.375,44047.46484375,52955.16796875,43851.109375,35754.22265625,22577.453125,65177.1953125,95980.0,31775.05859375,61870.46484375,56471.83203125,53040.69921875,37500.8359375,90142.3125,39908.8203125,20062.59375,51611.08203125,46345.99609375,88500.859375,93200.6015625,54589.921875,52951.79296875,98545.96875,78193.2265625,69047.6796875,80204.71875,52091.34375,56029.6640625,43113.58203125,48080.24609375,48519.2890625,93226.5390625,40661.28515625,47814.83984375,131030.6640625,71436.0078125,49166.4921875,81521.2578125,58965.67578125,70692.34375,56249.73828125,32331.083984375,88299.0,65153.82421875,69337.078125,58381.375,74165.765625,68736.9296875,52013.83984375,34036.34765625,79101.796875,58201.046875,30845.90234375,47875.53515625,91159.2578125,43134.7890625,89052.3515625,55439.4609375,135282.109375,78212.1796875,47423.5546875,99583.171875,62795.3125,82055.75,19898.46484375,49165.1328125,61460.78515625,92297.6015625,24795.369140625,44566.06640625,62989.45703125,69451.765625,76245.3046875,57823.2578125,44052.796875,87919.109375,89639.0546875,61501.8203125,57279.28125,60822.79296875,75078.296875,81716.46875,81850.6953125,50526.671875,64911.8671875,77003.6875,92924.546875,61742.28125,38016.2109375,37318.09765625,59668.83203125,67565.4609375,88418.03125,87563.0625,70580.3359375,53316.7578125,40866.734375,104128.0625,80303.6484375,38021.171875,58660.32421875,56526.703125,43536.61328125,50618.58203125,54668.6328125,47365.765625,47051.50390625,90105.65625,79846.7109375,77330.6640625,44756.9921875,66513.8125,34221.7578125,59004.05859375,71226.2421875,93424.4375,37808.95703125,72586.34375,32297.38671875,49397.5703125,76279.546875,109613.1015625,34559.53515625,73266.359375,50507.5390625,79610.4609375,85943.953125,37862.734375,81479.59375,51787.14453125,116091.671875,61036.68359375,28373.208984375,48681.8515625,92888.8828125,89462.03125,32502.181640625,86568.0859375,78337.9609375,51103.55859375,51181.17578125,71790.46875,50476.98046875,46386.9140625,50375.96484375,35777.0390625,41570.3125,37729.9375,76975.8984375,80352.2578125,34559.79296875,94404.53125,32964.07421875,79576.78125,74017.4140625,52472.03125,62955.34375,44619.66796875,61286.53125,62191.4765625,50776.73828125,50016.859375,68971.8671875,42647.1015625,47706.16015625,45942.37109375,46367.95703125,65210.44921875,33381.48828125,44622.6171875,55555.00390625,76706.15625,86487.34375,68080.203125,43482.10546875,82985.2109375,46792.70703125,59718.5,54810.05078125,57015.90234375,34710.41015625,98504.8515625,36673.30859375,44609.2109375,103960.9296875,99910.9921875,36754.3203125,94649.3359375,43242.36328125,84782.3359375,32069.0234375,38839.48046875,36003.7421875,59640.24609375,61912.9765625,42998.5859375,42438.78125,34264.4765625,43534.09765625,67544.9375,38021.12890625,109517.21875,85500.375,28769.236328125,93318.5625,90924.3984375,136301.9375,91291.421875,58636.03515625,60174.625,53260.30078125,80487.1015625,101442.78125,65275.953125,80376.84375,41663.50390625,41294.51953125,90263.5625,57997.9140625,48355.56640625,80037.875,43340.3515625,71553.671875,87470.0703125,79206.90625,84174.90625,42967.984375,110422.078125,44106.390625,52608.02734375,34041.09375,52754.2421875,94374.3046875,53449.33203125,62550.21484375,67016.1328125,36089.7109375,64220.2734375,42999.0625,75746.390625,69823.453125,82801.1484375,66223.328125,55145.73828125,51917.96484375,83439.0234375,22532.880859375,48286.359375,74650.9453125,65311.578125,41735.5546875,85699.8203125,40159.15234375,54667.23828125,61322.25390625,40477.9375,55092.01953125,84683.578125,72195.203125,90768.890625,48459.69921875,77688.765625,27592.5078125,45391.34375,61381.875,42932.03125,114483.5390625,75462.7578125,55198.62109375,53438.20703125,60019.125,66673.0078125,52435.109375,22656.33203125,42633.14453125,60133.2109375,49753.71875,34762.12890625,21560.09765625,67007.484375,42710.8359375,40899.34765625,65294.74609375,56127.62109375,39952.23046875,37944.97265625,23091.4765625,48019.5,95563.4609375,37009.65625,42875.2578125,102488.3671875,68365.9609375,47400.328125,26934.919921875,84308.65625,95908.109375,41410.14453125,48923.23828125,45041.125,98054.15625,92536.609375,59441.9453125,34770.1484375,51675.76171875,43537.9296875,49143.23828125,29958.84375,42685.87109375,72878.5,45698.85546875,22631.58203125,32303.703125,44941.578125,94673.359375,47284.62109375,39469.97265625,57436.66796875,66723.1796875,104353.171875,98480.4296875,71399.8125,62058.4375,55054.0625,88443.53125,71593.5078125,42522.5625,40869.2265625,14947.3232421875,24041.84765625,69725.6328125,60474.56640625,49153.78125,73648.859375,56684.8984375,33587.92578125,68357.9453125,70401.28125,37619.04296875,34108.65234375,91014.7578125,53871.796875,49487.8828125,42279.12109375,48294.890625,63631.0859375,113923.7734375,76250.703125,40772.52734375,87835.3046875,51872.5390625,90589.5625,90806.875,41420.2734375,49875.30078125,60878.76171875,79519.2734375,50063.9296875,70648.9296875,60391.4453125,91579.359375,80152.90625,84590.6640625,67926.734375,76510.7890625,75623.1171875,29545.955078125,60866.41015625,38096.12109375,51851.84375,75129.5859375,59610.21484375,58970.6171875,45341.72265625,28797.150390625,49455.6796875,24340.552734375,50942.95703125,46613.65234375,29048.501953125,50082.81640625,75865.9296875,55629.75390625,52370.25390625,52867.79296875,35644.52734375,48182.9375,29186.35546875,87891.2890625,79475.9140625,96948.9140625,106109.4921875,79104.6171875,72391.2109375,39050.296875,48376.640625,69939.3515625,28392.99609375,79423.453125,73436.53125,36508.62890625,39124.1171875,31406.333984375,64767.546875,53317.5859375,58112.125,41108.02734375,109748.1953125,31163.865234375,106805.8515625,85398.2578125,63531.796875,21301.484375,78511.859375,31869.197265625,21739.5703125,115270.578125,44850.265625,68464.0078125,78497.0390625,38189.984375,55231.64453125,34425.94140625,82020.375,45872.203125,25035.306640625,64201.59375,49634.89453125,39581.01953125,40518.7421875,58771.87109375,65402.00390625,87467.390625,68852.390625,70425.0,68376.671875,47763.5390625,59515.18359375,63483.3046875,53399.7265625,49604.8671875,80938.859375,44275.92578125,69887.5078125,43786.34765625,61049.24609375,63328.52734375,79142.71875,31456.58203125,83491.0390625,57296.69921875,87131.859375,57171.5,83570.4921875,66535.8984375,45573.921875,114406.25,79913.7734375,56193.92578125,79072.484375,57786.25390625,36384.0078125,54074.5625,46868.5234375,67723.84375,108793.7578125,81602.015625,52226.171875,64094.125,83728.8359375,46096.8203125,52819.16796875,35654.44921875,48094.94140625,94024.4140625,60706.08203125,74283.4609375,108495.3046875,72769.296875,28348.72265625,23794.916015625,97994.9375,35030.3828125,93249.2890625,38567.18359375,35728.890625,37746.41015625,86049.0,7363.126953125,36317.08984375,59896.95703125,40168.0625,37245.6015625,84938.5625,93208.1953125,83032.328125,47641.48046875,35683.58203125,29827.67578125,47447.2890625,86307.40625,106686.46875,31799.447265625,51237.65625,65130.77734375,92873.2109375,73488.5390625,68602.8671875,47987.58203125,67008.3828125,41589.546875,78139.921875,36917.20703125,92597.4765625,56594.8359375,58591.734375,68645.3828125,66693.546875,85701.640625,52314.90234375,72688.8359375,31672.451171875,46166.7578125,60918.28125,63330.88671875,33489.2734375,82447.578125,101521.9921875,34236.703125,79596.2578125,31741.24609375,145387.9375,79893.828125,39130.76171875,56660.34765625,47158.03515625,63833.9375,83722.796875,74771.75,86071.1484375,51595.37109375,28203.42578125,58304.9375,84845.34375,63024.5234375,77006.0234375,31032.4140625,111353.765625,108756.6171875,38879.22265625,108697.3984375,61574.25390625,55799.67578125,29633.958984375,73390.296875,66677.7890625,46339.51953125,34284.0078125,34018.42578125,47180.28125,56209.47265625,47053.1640625,48339.83984375,106602.09375,37003.65234375,66931.6875,64228.95703125,39411.24609375,34945.98828125,44134.8203125,32027.265625,89084.8125,54974.39453125,60046.94140625,86020.9609375,39325.4609375,34250.55859375,93970.2265625,41106.3125,81632.0390625,63742.21875,57334.48046875,62582.66015625,76120.890625,51493.328125,69107.9765625,95355.265625,96126.5390625,41672.03125,76866.1328125,64050.515625,63743.40625,48423.37890625,42371.0859375,79674.4453125,100932.1640625,30702.9765625,74026.6640625,49337.57421875,78468.15625,36423.06640625,68443.734375,37568.421875,76575.625,98841.2734375,74927.1328125,39391.0625,59624.53515625,98402.1640625,87321.890625,33852.62890625,40157.03515625,52810.8359375,85973.2578125,67136.671875,25193.603515625,118980.109375,28739.6953125,75348.34375,52174.52734375,50539.609375,102884.296875,30349.53125,39609.2890625,83968.5390625,46602.5625,49505.25,96293.3125,34318.72265625,51971.52734375,95375.9765625,43382.3359375,52119.765625,49255.6640625,40511.04296875,82689.4453125,120145.1953125,69697.0703125,65585.296875,25431.90625,65512.93359375,96221.4921875,57051.796875,82601.9609375,75405.2734375,59974.96875,82896.53125,46310.8125,39685.61328125,99413.7109375,28368.626953125,69439.4921875,95415.09375,50085.06640625,68536.7421875,51017.28515625,57459.42578125,55966.0546875,59830.70703125,46087.6640625,84816.5546875,68501.4375,38661.4140625,78569.9296875,93938.859375,79769.1875,79755.1875,79257.796875,85445.1875,129080.9140625,21685.517578125,83292.2890625,44638.3359375,47562.80078125,101756.078125,72065.609375,30955.978515625,45083.38671875,83366.5703125,34656.61328125,139325.1875,47586.76953125,54257.42578125,55216.1484375,88184.4375,39050.0390625,47012.43359375,37413.53515625,38124.87890625,67890.9453125,39434.59765625,65028.6796875,100638.515625,53352.8359375,32811.015625,23215.26953125,55373.75390625,40706.69140625,47516.328125,23339.1953125,32540.5703125,70734.8671875,48956.20703125,40328.1015625,86766.3515625,93309.7734375,70961.0390625,121229.3828125,63674.3203125,90604.9140625,79264.5625,58596.48046875,50844.18359375,101341.1796875,53191.99609375,49624.3515625,55581.1640625,67970.8203125,58216.86328125,68432.0703125,116350.125,107447.53125,48522.78515625,59313.87890625,95557.53125,54684.796875,61794.68359375,72737.640625,45785.421875,83189.3671875,68441.9609375,62308.046875,86260.3203125,76588.671875,66167.390625,84391.8828125,90638.640625,37803.17578125,82057.6171875,55517.0078125,65688.5,74025.6328125,58244.4375,36224.81640625,39816.0859375,53340.53515625,105363.2109375,58627.44921875,89083.34375,103236.09375,42322.96484375,57162.6484375,125843.125,46887.40234375,32163.1953125,79005.671875,71373.0546875,35049.09375,55602.96875,70178.3203125,93136.8125,106152.890625,77117.359375,52866.48046875,85549.3515625,58990.33984375,57913.0078125,67818.3671875,37450.859375,89138.515625,66076.84375,29954.634765625,69607.28125,54096.09375,64508.86328125,90704.6640625,80877.375,61854.33203125,65797.015625,84867.046875,49907.33203125,30168.7421875,64233.03125,73856.03125,75833.3046875,99171.7734375,54812.76953125,64715.30078125,89652.015625,93540.8203125,33400.90234375,84275.859375,83056.1953125,60584.59765625,68265.2890625,36271.81640625,44517.19140625,79579.3359375,23010.5390625,57120.37109375,60134.53515625,54647.41015625,35566.6328125,50510.84375,84491.65625,57533.20703125,47971.44921875,112723.90625,57994.82421875,39545.71484375,119792.25,31505.171875,57559.48046875,99236.0,81611.4765625,96929.953125,48485.8515625,88874.1953125,39128.4609375,37972.25390625,54677.671875,42358.7421875,33010.05859375,56681.51953125,53002.640625,45111.81640625,58712.109375,101720.59375,46337.24609375,78738.484375,138709.78125,69264.109375,32601.423828125,69634.9921875,102704.90625,76573.2109375,102492.046875,68969.6875,53177.77734375,31099.318359375,98211.8203125,55768.7578125,26686.85546875,37339.39453125,100102.96875,46527.91796875,33389.03515625,63341.453125,69442.859375,32596.083984375,74054.03125,35190.87109375,47666.35546875,69518.15625,39499.7890625,38326.90625,34848.4921875,54277.47265625,25049.19921875,40839.8359375,81889.796875,55370.0859375,60149.953125,83775.34375,62328.35546875,33098.30859375,83770.1640625,40321.18359375,36205.27734375,96582.5703125,26472.51953125,21825.97265625,74934.9296875,49632.59765625,63597.828125,43930.84375,84550.5546875,64652.0390625,68426.3046875,84032.8125,89025.1953125,42374.5390625,47535.03515625,82740.0390625,47749.87109375,47759.41796875,65748.4765625,66474.84375,101428.265625,46195.40625,57868.0703125,37178.984375,37577.015625,37381.6875,58982.796875,71429.953125,90261.6015625,35935.02734375,63381.51953125,57807.0,55635.80078125,43173.3125,93756.3125,67101.1015625,50896.5703125,76613.6171875,38367.60546875,79671.4453125,63519.65625,31821.33984375,58738.37109375,25065.212890625,43434.78125,59269.61328125,29642.59375,80014.3984375,42191.51953125,73530.328125,34689.8359375,85688.90625,69748.0703125,44216.0078125,70681.9921875,87121.25,81927.421875,33430.39453125,65423.609375,15211.9375,96375.6953125,64530.375,31214.119140625,77865.0546875,48918.49609375,106623.5625,96880.8828125,48076.7578125,66890.140625,69840.5390625,46599.56640625,87255.109375,23392.103515625,75159.59375,32794.3828125,60662.23046875,55812.1171875,69335.5078125,26170.669921875,37262.71875,83794.625,76139.8828125,72862.53125,104273.0703125,84883.6875,55645.08984375,114919.515625,60435.4921875,69550.9375,93913.796875,39276.7109375,107450.125,57212.3828125,98879.765625,57174.33984375,39854.1484375,41062.42578125,38880.2734375,36849.08984375,107743.96875,84523.9296875,43937.83984375,59273.5546875,86914.15625,71685.8671875,33302.62109375,75370.59375,83091.6328125,81315.8125,56324.91796875,67201.53125,34358.70703125,53929.1796875,63937.8359375,101865.5,33348.7109375,74465.0546875,122788.6640625,53563.0,70489.2890625,36882.7421875,36669.81640625,63726.12109375,50223.29296875,22063.974609375,42702.88671875,37322.359375,50414.3359375,77343.6015625,38074.19140625,52281.1640625,78924.5390625,34642.671875,55908.61328125,34404.12890625,44076.78515625,69495.703125,59449.49609375,68766.75,80665.2265625,91749.140625,67869.75,96961.5234375,83260.8671875,68456.171875,47710.48046875,57364.4921875,55067.50390625,37124.63671875,65140.6171875,44858.9453125,42297.02734375,40673.83984375,137046.578125,98854.828125,71494.8203125,17659.29296875,39852.890625,56018.91015625,37853.08203125,64139.2265625,92571.09375,25944.140625,98887.2265625,80298.9765625,54046.6796875,55893.328125,52760.484375,50169.48828125,29914.822265625,80394.7578125,48752.0390625,106793.9296875,51974.609375,79776.859375,56972.953125,53914.6015625,44517.0234375,72718.4296875,45880.609375,97625.5546875,47754.390625,49542.91015625,52694.01171875,40820.26171875,30723.025390625,81259.625,41931.0859375,42167.296875,70434.609375,54609.4140625,42841.33984375,53150.15625,57103.859375,93800.2578125,54071.9609375,67131.3984375,70262.7421875,34651.87890625,52782.38671875,34475.1796875,77165.4453125,35966.7890625,77841.9375,68043.75,50354.2109375,35567.53125,44624.69921875,70621.4609375,61004.80078125,74591.265625,67169.2265625,113691.0234375,79756.2109375,60699.421875,87576.0546875,106867.1875,57758.609375,65090.3046875,66489.09375,36671.97265625,98185.2265625,85793.3515625,51232.2578125,93026.84375,77998.65625,106380.0,28031.310546875,91872.390625,68873.625,95792.5625,46847.28515625,51079.01171875,74238.8515625,38420.99609375,66003.375,47722.4296875,52611.57421875,77944.296875,48517.51171875,68964.515625,90167.984375,109891.8984375,64717.5703125,49312.36328125,99754.8203125,81770.6484375,25010.455078125,64700.69140625,35700.41796875,51405.45703125,41456.41015625,44493.2109375,43129.69140625,51542.05859375,99803.734375,31996.8125,51181.86328125,87211.5859375,42419.92578125,40032.7890625,74204.0703125,25925.923828125,36544.7578125,35483.7734375,25754.123046875,79267.6484375,41441.953125,94364.6953125,69757.703125,49087.38671875,32973.671875,33186.34765625,56498.75390625,84526.7734375,24548.51171875,78097.828125'"
      ]
     },
     "execution_count": 119,
     "metadata": {},
     "output_type": "execute_result"
    }
   ],
   "source": [
    "%%time\n",
    "from sagemaker.predictor import csv_serializer\n",
    "# 创建 predictor\n",
    "xgb_predictor=sagemaker.predictor.RealTimePredictor(\n",
    "\"sagemaker-xgboost-2020-11-07-03-37-14-981\", # 这个名字就是上图中蓝⾊⽅框中endpoint的name\n",
    "sagemaker_session=sm_session,\n",
    "serializer=csv_serializer,\n",
    "content_type='csv')\n",
    "# 调⽤predictor的predict⽅法做推理\n",
    "# xgb_predictor.predict(X_valid.values[0]).decode('utf-8')\n",
    "xgb_predictor.predict(X_valid.values).decode('utf-8')"
   ]
  },
  {
   "cell_type": "code",
   "execution_count": 120,
   "metadata": {},
   "outputs": [
    {
     "name": "stderr",
     "output_type": "stream",
     "text": [
      "The endpoint attribute has been renamed in sagemaker>=2.\n",
      "See: https://sagemaker.readthedocs.io/en/stable/v2.html for details.\n"
     ]
    }
   ],
   "source": [
    "sagemaker.Session().delete_endpoint(xgb_predictor.endpoint)"
   ]
  },
  {
   "cell_type": "code",
   "execution_count": null,
   "metadata": {},
   "outputs": [],
   "source": []
  },
  {
   "cell_type": "code",
   "execution_count": null,
   "metadata": {},
   "outputs": [],
   "source": []
  }
 ],
 "metadata": {
  "kernelspec": {
   "display_name": "conda_python3",
   "language": "python",
   "name": "conda_python3"
  },
  "language_info": {
   "codemirror_mode": {
    "name": "ipython",
    "version": 3
   },
   "file_extension": ".py",
   "mimetype": "text/x-python",
   "name": "python",
   "nbconvert_exporter": "python",
   "pygments_lexer": "ipython3",
   "version": "3.6.10"
  }
 },
 "nbformat": 4,
 "nbformat_minor": 4
}
