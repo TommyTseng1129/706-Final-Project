{
 "cells": [
  {
   "cell_type": "code",
   "execution_count": 1,
   "metadata": {},
   "outputs": [],
   "source": [
    "import pandas as pd\n",
    "import os  \n",
    "import numpy as np\n",
    "import matplotlib.pyplot as plt\n",
    "import matplotlib\n",
    "import seaborn as sns"
   ]
  },
  {
   "cell_type": "code",
   "execution_count": 2,
   "metadata": {},
   "outputs": [
    {
     "name": "stdout",
     "output_type": "stream",
     "text": [
      "/Users/Reinhard\n"
     ]
    }
   ],
   "source": [
    "cwd = os.getcwd()\n",
    "print(cwd)"
   ]
  },
  {
   "cell_type": "code",
   "execution_count": 3,
   "metadata": {},
   "outputs": [],
   "source": [
    "df = pd.read_csv(\"/Users/Reinhard/Documents/Duke_Data Science/Fall 2020/702/Final Project/raw_haidian.csv\")"
   ]
  },
  {
   "cell_type": "code",
   "execution_count": 4,
   "metadata": {},
   "outputs": [
    {
     "data": {
      "text/plain": [
       "(72435, 11)"
      ]
     },
     "execution_count": 4,
     "metadata": {},
     "output_type": "execute_result"
    }
   ],
   "source": [
    "df.shape"
   ]
  },
  {
   "cell_type": "code",
   "execution_count": 10,
   "metadata": {},
   "outputs": [
    {
     "data": {
      "text/html": [
       "<div>\n",
       "<style scoped>\n",
       "    .dataframe tbody tr th:only-of-type {\n",
       "        vertical-align: middle;\n",
       "    }\n",
       "\n",
       "    .dataframe tbody tr th {\n",
       "        vertical-align: top;\n",
       "    }\n",
       "\n",
       "    .dataframe thead th {\n",
       "        text-align: right;\n",
       "    }\n",
       "</style>\n",
       "<table border=\"1\" class=\"dataframe\">\n",
       "  <thead>\n",
       "    <tr style=\"text-align: right;\">\n",
       "      <th></th>\n",
       "      <th>Unnamed: 0</th>\n",
       "      <th>Housing ID</th>\n",
       "      <th>Livable Area</th>\n",
       "      <th>Price/Square Meter</th>\n",
       "      <th>Price</th>\n",
       "      <th>Transaction Date</th>\n",
       "      <th>Year Built</th>\n",
       "      <th>Floor Plan</th>\n",
       "      <th>Facing Direction</th>\n",
       "      <th>Floor</th>\n",
       "      <th>Decoration</th>\n",
       "    </tr>\n",
       "  </thead>\n",
       "  <tbody>\n",
       "    <tr>\n",
       "      <th>0</th>\n",
       "      <td>1</td>\n",
       "      <td>中关村南大街甲3号 2室1厅 56.3平米</td>\n",
       "      <td>56.3平米</td>\n",
       "      <td>38544.0</td>\n",
       "      <td>217.0</td>\n",
       "      <td>2015-05-08</td>\n",
       "      <td>1965年建板楼</td>\n",
       "      <td>2室1厅</td>\n",
       "      <td>南 北</td>\n",
       "      <td>低楼层(共3层)</td>\n",
       "      <td>简装</td>\n",
       "    </tr>\n",
       "    <tr>\n",
       "      <th>1</th>\n",
       "      <td>2</td>\n",
       "      <td>中关村南大街甲3号 2室1厅 55.1平米</td>\n",
       "      <td>55.1平米</td>\n",
       "      <td>33667.0</td>\n",
       "      <td>185.5</td>\n",
       "      <td>2012-04-10</td>\n",
       "      <td>1965年建板楼</td>\n",
       "      <td>2室1厅</td>\n",
       "      <td>南 北</td>\n",
       "      <td>底层(共3层)</td>\n",
       "      <td>其他</td>\n",
       "    </tr>\n",
       "    <tr>\n",
       "      <th>2</th>\n",
       "      <td>3</td>\n",
       "      <td>民族大学南路19号院 2室1厅 70平米</td>\n",
       "      <td>70平米</td>\n",
       "      <td>91429.0</td>\n",
       "      <td>640.0</td>\n",
       "      <td>2019-04-19</td>\n",
       "      <td>1993年建板塔结合</td>\n",
       "      <td>2室1厅</td>\n",
       "      <td>南</td>\n",
       "      <td>中楼层(共15层)</td>\n",
       "      <td>简装</td>\n",
       "    </tr>\n",
       "    <tr>\n",
       "      <th>3</th>\n",
       "      <td>4</td>\n",
       "      <td>民族大学南路19号院 2室1厅 98.49平米</td>\n",
       "      <td>98.49平米</td>\n",
       "      <td>102752.0</td>\n",
       "      <td>1012.0</td>\n",
       "      <td>2019-04-07</td>\n",
       "      <td>2000年建塔楼</td>\n",
       "      <td>2室1厅</td>\n",
       "      <td>南</td>\n",
       "      <td>高楼层(共18层)</td>\n",
       "      <td>简装</td>\n",
       "    </tr>\n",
       "    <tr>\n",
       "      <th>4</th>\n",
       "      <td>5</td>\n",
       "      <td>民族大学南路19号院 2室1厅 60.7平米</td>\n",
       "      <td>60.7平米</td>\n",
       "      <td>98847.0</td>\n",
       "      <td>600.0</td>\n",
       "      <td>2019-02-22</td>\n",
       "      <td>1991年建板塔结合</td>\n",
       "      <td>2室1厅</td>\n",
       "      <td>南</td>\n",
       "      <td>高楼层(共16层)</td>\n",
       "      <td>其他</td>\n",
       "    </tr>\n",
       "  </tbody>\n",
       "</table>\n",
       "</div>"
      ],
      "text/plain": [
       "   Unnamed: 0               Housing ID Livable Area  Price/Square Meter  \\\n",
       "0           1    中关村南大街甲3号 2室1厅 56.3平米       56.3平米             38544.0   \n",
       "1           2    中关村南大街甲3号 2室1厅 55.1平米       55.1平米             33667.0   \n",
       "2           3     民族大学南路19号院 2室1厅 70平米         70平米             91429.0   \n",
       "3           4  民族大学南路19号院 2室1厅 98.49平米      98.49平米            102752.0   \n",
       "4           5   民族大学南路19号院 2室1厅 60.7平米       60.7平米             98847.0   \n",
       "\n",
       "    Price Transaction Date  Year Built Floor Plan Facing Direction      Floor  \\\n",
       "0   217.0       2015-05-08    1965年建板楼       2室1厅              南 北   低楼层(共3层)   \n",
       "1   185.5       2012-04-10    1965年建板楼       2室1厅              南 北    底层(共3层)   \n",
       "2   640.0       2019-04-19  1993年建板塔结合       2室1厅                南  中楼层(共15层)   \n",
       "3  1012.0       2019-04-07    2000年建塔楼       2室1厅                南  高楼层(共18层)   \n",
       "4   600.0       2019-02-22  1991年建板塔结合       2室1厅                南  高楼层(共16层)   \n",
       "\n",
       "  Decoration  \n",
       "0         简装  \n",
       "1         其他  \n",
       "2         简装  \n",
       "3         简装  \n",
       "4         其他  "
      ]
     },
     "execution_count": 10,
     "metadata": {},
     "output_type": "execute_result"
    }
   ],
   "source": [
    "df.head()"
   ]
  },
  {
   "cell_type": "code",
   "execution_count": 5,
   "metadata": {},
   "outputs": [
    {
     "data": {
      "text/plain": [
       "Index(['Unnamed: 0', 'Housing ID', 'Livable Area', 'Price/Square Meter',\n",
       "       'Price', 'Transaction Date', 'Year Built', 'Floor Plan',\n",
       "       'Facing Direction', 'Floor', 'Decoration'],\n",
       "      dtype='object')"
      ]
     },
     "execution_count": 5,
     "metadata": {},
     "output_type": "execute_result"
    }
   ],
   "source": [
    "df.columns"
   ]
  },
  {
   "cell_type": "code",
   "execution_count": 6,
   "metadata": {},
   "outputs": [
    {
     "data": {
      "text/plain": [
       "Unnamed: 0              int64\n",
       "Housing ID             object\n",
       "Livable Area           object\n",
       "Price/Square Meter    float64\n",
       "Price                 float64\n",
       "Transaction Date       object\n",
       "Year Built             object\n",
       "Floor Plan             object\n",
       "Facing Direction       object\n",
       "Floor                  object\n",
       "Decoration             object\n",
       "dtype: object"
      ]
     },
     "execution_count": 6,
     "metadata": {},
     "output_type": "execute_result"
    }
   ],
   "source": [
    "df.dtypes"
   ]
  },
  {
   "cell_type": "code",
   "execution_count": 7,
   "metadata": {},
   "outputs": [
    {
     "data": {
      "text/html": [
       "<div>\n",
       "<style scoped>\n",
       "    .dataframe tbody tr th:only-of-type {\n",
       "        vertical-align: middle;\n",
       "    }\n",
       "\n",
       "    .dataframe tbody tr th {\n",
       "        vertical-align: top;\n",
       "    }\n",
       "\n",
       "    .dataframe thead th {\n",
       "        text-align: right;\n",
       "    }\n",
       "</style>\n",
       "<table border=\"1\" class=\"dataframe\">\n",
       "  <thead>\n",
       "    <tr style=\"text-align: right;\">\n",
       "      <th></th>\n",
       "      <th>Unnamed: 0</th>\n",
       "      <th>Price/Square Meter</th>\n",
       "      <th>Price</th>\n",
       "    </tr>\n",
       "  </thead>\n",
       "  <tbody>\n",
       "    <tr>\n",
       "      <th>count</th>\n",
       "      <td>72435.000000</td>\n",
       "      <td>72435.000000</td>\n",
       "      <td>72435.000000</td>\n",
       "    </tr>\n",
       "    <tr>\n",
       "      <th>mean</th>\n",
       "      <td>36218.000000</td>\n",
       "      <td>62448.268903</td>\n",
       "      <td>482.152889</td>\n",
       "    </tr>\n",
       "    <tr>\n",
       "      <th>std</th>\n",
       "      <td>20910.327711</td>\n",
       "      <td>23194.602020</td>\n",
       "      <td>291.881944</td>\n",
       "    </tr>\n",
       "    <tr>\n",
       "      <th>min</th>\n",
       "      <td>1.000000</td>\n",
       "      <td>1.000000</td>\n",
       "      <td>0.100000</td>\n",
       "    </tr>\n",
       "    <tr>\n",
       "      <th>25%</th>\n",
       "      <td>18109.500000</td>\n",
       "      <td>44483.500000</td>\n",
       "      <td>297.000000</td>\n",
       "    </tr>\n",
       "    <tr>\n",
       "      <th>50%</th>\n",
       "      <td>36218.000000</td>\n",
       "      <td>59213.000000</td>\n",
       "      <td>417.800000</td>\n",
       "    </tr>\n",
       "    <tr>\n",
       "      <th>75%</th>\n",
       "      <td>54326.500000</td>\n",
       "      <td>79254.000000</td>\n",
       "      <td>580.000000</td>\n",
       "    </tr>\n",
       "    <tr>\n",
       "      <th>max</th>\n",
       "      <td>72435.000000</td>\n",
       "      <td>167984.000000</td>\n",
       "      <td>6365.000000</td>\n",
       "    </tr>\n",
       "  </tbody>\n",
       "</table>\n",
       "</div>"
      ],
      "text/plain": [
       "         Unnamed: 0  Price/Square Meter         Price\n",
       "count  72435.000000        72435.000000  72435.000000\n",
       "mean   36218.000000        62448.268903    482.152889\n",
       "std    20910.327711        23194.602020    291.881944\n",
       "min        1.000000            1.000000      0.100000\n",
       "25%    18109.500000        44483.500000    297.000000\n",
       "50%    36218.000000        59213.000000    417.800000\n",
       "75%    54326.500000        79254.000000    580.000000\n",
       "max    72435.000000       167984.000000   6365.000000"
      ]
     },
     "execution_count": 7,
     "metadata": {},
     "output_type": "execute_result"
    }
   ],
   "source": [
    "df.describe()"
   ]
  },
  {
   "cell_type": "code",
   "execution_count": 8,
   "metadata": {},
   "outputs": [
    {
     "data": {
      "text/plain": [
       "count      72435\n",
       "unique     10492\n",
       "top       63.1平米\n",
       "freq         323\n",
       "Name: Livable Area, dtype: object"
      ]
     },
     "execution_count": 8,
     "metadata": {},
     "output_type": "execute_result"
    }
   ],
   "source": [
    "df['Livable Area'].describe()"
   ]
  },
  {
   "cell_type": "code",
   "execution_count": 9,
   "metadata": {},
   "outputs": [
    {
     "data": {
      "text/plain": [
       "<matplotlib.axes._subplots.AxesSubplot at 0x7ff1a4369760>"
      ]
     },
     "execution_count": 9,
     "metadata": {},
     "output_type": "execute_result"
    },
    {
     "data": {
      "image/png": "[encoded data removed]",
      "text/plain": [
       "<Figure size 432x288 with 1 Axes>"
      ]
     },
     "metadata": {
      "needs_background": "light"
     },
     "output_type": "display_data"
    }
   ],
   "source": [
    "%matplotlib inline\n",
    "df.plot()"
   ]
  },
  {
   "cell_type": "code",
   "execution_count": null,
   "metadata": {},
   "outputs": [],
   "source": []
  }
 ],
 "metadata": {
  "kernelspec": {
   "display_name": "Python 3",
   "language": "python",
   "name": "python3"
  },
  "language_info": {
   "codemirror_mode": {
    "name": "ipython",
    "version": 3
   },
   "file_extension": ".py",
   "mimetype": "text/x-python",
   "name": "python",
   "nbconvert_exporter": "python",
   "pygments_lexer": "ipython3",
   "version": "3.8.3"
  }
 },
 "nbformat": 4,
 "nbformat_minor": 4
}
