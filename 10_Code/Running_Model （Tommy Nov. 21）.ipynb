{
 "cells": [
  {
   "cell_type": "code",
   "execution_count": 1,
   "metadata": {},
   "outputs": [],
   "source": [
    "import time\n",
    "import boto3\n",
    "import sagemaker\n",
    "import urllib\n",
    "import os\n",
    "import pandas as pd\n",
    "from sklearn.model_selection import train_test_split"
   ]
  },
  {
   "cell_type": "code",
   "execution_count": 2,
   "metadata": {},
   "outputs": [],
   "source": [
    "# 获取当前AWS region和notebook所绑定的role\n",
    "role = sagemaker.get_execution_role()\n",
    "region = boto3.Session().region_name"
   ]
  },
  {
   "cell_type": "code",
   "execution_count": 3,
   "metadata": {},
   "outputs": [],
   "source": [
    "# One has to set up a S3 bucket before running the code below\n",
    "bucket = 'tommy-lab'\n",
    "prefix = 'beijing-housing-data'"
   ]
  },
  {
   "cell_type": "code",
   "execution_count": 4,
   "metadata": {},
   "outputs": [
    {
     "name": "stdout",
     "output_type": "stream",
     "text": [
      "/home/ec2-user/SageMaker/706-Final-Project/10_Code\n"
     ]
    }
   ],
   "source": [
    "cwd = os.getcwd()\n",
    "print(cwd)"
   ]
  },
  {
   "cell_type": "code",
   "execution_count": 5,
   "metadata": {},
   "outputs": [],
   "source": [
    "X = pd.read_csv(\"/home/ec2-user/SageMaker/706-Final-Project/20_Cleaned_Data/prepared_data_tommy.csv\" )"
   ]
  },
  {
   "cell_type": "code",
   "execution_count": 6,
   "metadata": {},
   "outputs": [
    {
     "data": {
      "text/html": [
       "<div>\n",
       "<style scoped>\n",
       "    .dataframe tbody tr th:only-of-type {\n",
       "        vertical-align: middle;\n",
       "    }\n",
       "\n",
       "    .dataframe tbody tr th {\n",
       "        vertical-align: top;\n",
       "    }\n",
       "\n",
       "    .dataframe thead th {\n",
       "        text-align: right;\n",
       "    }\n",
       "</style>\n",
       "<table border=\"1\" class=\"dataframe\">\n",
       "  <thead>\n",
       "    <tr style=\"text-align: right;\">\n",
       "      <th></th>\n",
       "      <th>Price/Square Meter</th>\n",
       "      <th>Housing_ID</th>\n",
       "      <th>Community</th>\n",
       "      <th>Livable Area</th>\n",
       "      <th>Price</th>\n",
       "      <th>Year_Built</th>\n",
       "      <th>Facing_East</th>\n",
       "      <th>Facing_North</th>\n",
       "      <th>Facing_South</th>\n",
       "      <th>Facing_West</th>\n",
       "      <th>Decoration_Level</th>\n",
       "      <th>Floor_Level</th>\n",
       "      <th>Floor_Plan</th>\n",
       "    </tr>\n",
       "  </thead>\n",
       "  <tbody>\n",
       "    <tr>\n",
       "      <th>0</th>\n",
       "      <td>38544.0</td>\n",
       "      <td>1</td>\n",
       "      <td>中关村南大街甲3号 2室1厅 56.3平米</td>\n",
       "      <td>56.30</td>\n",
       "      <td>217.0</td>\n",
       "      <td>1965</td>\n",
       "      <td>0</td>\n",
       "      <td>0</td>\n",
       "      <td>1</td>\n",
       "      <td>0</td>\n",
       "      <td>1</td>\n",
       "      <td>2</td>\n",
       "      <td>1</td>\n",
       "    </tr>\n",
       "    <tr>\n",
       "      <th>1</th>\n",
       "      <td>33667.0</td>\n",
       "      <td>2</td>\n",
       "      <td>中关村南大街甲3号 2室1厅 55.1平米</td>\n",
       "      <td>55.10</td>\n",
       "      <td>185.5</td>\n",
       "      <td>1965</td>\n",
       "      <td>0</td>\n",
       "      <td>0</td>\n",
       "      <td>1</td>\n",
       "      <td>0</td>\n",
       "      <td>3</td>\n",
       "      <td>1</td>\n",
       "      <td>1</td>\n",
       "    </tr>\n",
       "    <tr>\n",
       "      <th>2</th>\n",
       "      <td>91429.0</td>\n",
       "      <td>3</td>\n",
       "      <td>民族大学南路19号院 2室1厅 70平米</td>\n",
       "      <td>70.00</td>\n",
       "      <td>640.0</td>\n",
       "      <td>1993</td>\n",
       "      <td>0</td>\n",
       "      <td>0</td>\n",
       "      <td>1</td>\n",
       "      <td>0</td>\n",
       "      <td>1</td>\n",
       "      <td>3</td>\n",
       "      <td>1</td>\n",
       "    </tr>\n",
       "    <tr>\n",
       "      <th>3</th>\n",
       "      <td>102752.0</td>\n",
       "      <td>4</td>\n",
       "      <td>民族大学南路19号院 2室1厅 98.49平米</td>\n",
       "      <td>98.49</td>\n",
       "      <td>1012.0</td>\n",
       "      <td>2000</td>\n",
       "      <td>0</td>\n",
       "      <td>0</td>\n",
       "      <td>1</td>\n",
       "      <td>0</td>\n",
       "      <td>1</td>\n",
       "      <td>4</td>\n",
       "      <td>1</td>\n",
       "    </tr>\n",
       "    <tr>\n",
       "      <th>4</th>\n",
       "      <td>98847.0</td>\n",
       "      <td>5</td>\n",
       "      <td>民族大学南路19号院 2室1厅 60.7平米</td>\n",
       "      <td>60.70</td>\n",
       "      <td>600.0</td>\n",
       "      <td>1991</td>\n",
       "      <td>0</td>\n",
       "      <td>0</td>\n",
       "      <td>1</td>\n",
       "      <td>0</td>\n",
       "      <td>3</td>\n",
       "      <td>4</td>\n",
       "      <td>1</td>\n",
       "    </tr>\n",
       "  </tbody>\n",
       "</table>\n",
       "</div>"
      ],
      "text/plain": [
       "   Price/Square Meter  Housing_ID                Community  Livable Area  \\\n",
       "0             38544.0           1    中关村南大街甲3号 2室1厅 56.3平米         56.30   \n",
       "1             33667.0           2    中关村南大街甲3号 2室1厅 55.1平米         55.10   \n",
       "2             91429.0           3     民族大学南路19号院 2室1厅 70平米         70.00   \n",
       "3            102752.0           4  民族大学南路19号院 2室1厅 98.49平米         98.49   \n",
       "4             98847.0           5   民族大学南路19号院 2室1厅 60.7平米         60.70   \n",
       "\n",
       "    Price  Year_Built  Facing_East  Facing_North  Facing_South  Facing_West  \\\n",
       "0   217.0        1965            0             0             1            0   \n",
       "1   185.5        1965            0             0             1            0   \n",
       "2   640.0        1993            0             0             1            0   \n",
       "3  1012.0        2000            0             0             1            0   \n",
       "4   600.0        1991            0             0             1            0   \n",
       "\n",
       "   Decoration_Level  Floor_Level  Floor_Plan  \n",
       "0                 1            2           1  \n",
       "1                 3            1           1  \n",
       "2                 1            3           1  \n",
       "3                 1            4           1  \n",
       "4                 3            4           1  "
      ]
     },
     "execution_count": 6,
     "metadata": {},
     "output_type": "execute_result"
    }
   ],
   "source": [
    "# 通过describe来对查看一下训练数据feature的构成和分布\n",
    "X.head()"
   ]
  },
  {
   "cell_type": "code",
   "execution_count": 7,
   "metadata": {},
   "outputs": [],
   "source": [
    "# Extract the column Price/Square Meter from X\n",
    "y = X['Price/Square Meter']"
   ]
  },
  {
   "cell_type": "code",
   "execution_count": 8,
   "metadata": {},
   "outputs": [
    {
     "data": {
      "text/plain": [
       "0     38544.0\n",
       "1     33667.0\n",
       "2     91429.0\n",
       "3    102752.0\n",
       "4     98847.0\n",
       "Name: Price/Square Meter, dtype: float64"
      ]
     },
     "execution_count": 8,
     "metadata": {},
     "output_type": "execute_result"
    }
   ],
   "source": [
    "y.head()"
   ]
  },
  {
   "cell_type": "code",
   "execution_count": 9,
   "metadata": {},
   "outputs": [],
   "source": [
    "# Drop the column Price/Square Meter in X\n",
    "X.drop(['Price/Square Meter'], axis=1, inplace=True)"
   ]
  },
  {
   "cell_type": "code",
   "execution_count": 10,
   "metadata": {},
   "outputs": [
    {
     "data": {
      "text/html": [
       "<div>\n",
       "<style scoped>\n",
       "    .dataframe tbody tr th:only-of-type {\n",
       "        vertical-align: middle;\n",
       "    }\n",
       "\n",
       "    .dataframe tbody tr th {\n",
       "        vertical-align: top;\n",
       "    }\n",
       "\n",
       "    .dataframe thead th {\n",
       "        text-align: right;\n",
       "    }\n",
       "</style>\n",
       "<table border=\"1\" class=\"dataframe\">\n",
       "  <thead>\n",
       "    <tr style=\"text-align: right;\">\n",
       "      <th></th>\n",
       "      <th>Housing_ID</th>\n",
       "      <th>Community</th>\n",
       "      <th>Livable Area</th>\n",
       "      <th>Price</th>\n",
       "      <th>Year_Built</th>\n",
       "      <th>Facing_East</th>\n",
       "      <th>Facing_North</th>\n",
       "      <th>Facing_South</th>\n",
       "      <th>Facing_West</th>\n",
       "      <th>Decoration_Level</th>\n",
       "      <th>Floor_Level</th>\n",
       "      <th>Floor_Plan</th>\n",
       "    </tr>\n",
       "  </thead>\n",
       "  <tbody>\n",
       "    <tr>\n",
       "      <th>0</th>\n",
       "      <td>1</td>\n",
       "      <td>中关村南大街甲3号 2室1厅 56.3平米</td>\n",
       "      <td>56.30</td>\n",
       "      <td>217.0</td>\n",
       "      <td>1965</td>\n",
       "      <td>0</td>\n",
       "      <td>0</td>\n",
       "      <td>1</td>\n",
       "      <td>0</td>\n",
       "      <td>1</td>\n",
       "      <td>2</td>\n",
       "      <td>1</td>\n",
       "    </tr>\n",
       "    <tr>\n",
       "      <th>1</th>\n",
       "      <td>2</td>\n",
       "      <td>中关村南大街甲3号 2室1厅 55.1平米</td>\n",
       "      <td>55.10</td>\n",
       "      <td>185.5</td>\n",
       "      <td>1965</td>\n",
       "      <td>0</td>\n",
       "      <td>0</td>\n",
       "      <td>1</td>\n",
       "      <td>0</td>\n",
       "      <td>3</td>\n",
       "      <td>1</td>\n",
       "      <td>1</td>\n",
       "    </tr>\n",
       "    <tr>\n",
       "      <th>2</th>\n",
       "      <td>3</td>\n",
       "      <td>民族大学南路19号院 2室1厅 70平米</td>\n",
       "      <td>70.00</td>\n",
       "      <td>640.0</td>\n",
       "      <td>1993</td>\n",
       "      <td>0</td>\n",
       "      <td>0</td>\n",
       "      <td>1</td>\n",
       "      <td>0</td>\n",
       "      <td>1</td>\n",
       "      <td>3</td>\n",
       "      <td>1</td>\n",
       "    </tr>\n",
       "    <tr>\n",
       "      <th>3</th>\n",
       "      <td>4</td>\n",
       "      <td>民族大学南路19号院 2室1厅 98.49平米</td>\n",
       "      <td>98.49</td>\n",
       "      <td>1012.0</td>\n",
       "      <td>2000</td>\n",
       "      <td>0</td>\n",
       "      <td>0</td>\n",
       "      <td>1</td>\n",
       "      <td>0</td>\n",
       "      <td>1</td>\n",
       "      <td>4</td>\n",
       "      <td>1</td>\n",
       "    </tr>\n",
       "    <tr>\n",
       "      <th>4</th>\n",
       "      <td>5</td>\n",
       "      <td>民族大学南路19号院 2室1厅 60.7平米</td>\n",
       "      <td>60.70</td>\n",
       "      <td>600.0</td>\n",
       "      <td>1991</td>\n",
       "      <td>0</td>\n",
       "      <td>0</td>\n",
       "      <td>1</td>\n",
       "      <td>0</td>\n",
       "      <td>3</td>\n",
       "      <td>4</td>\n",
       "      <td>1</td>\n",
       "    </tr>\n",
       "  </tbody>\n",
       "</table>\n",
       "</div>"
      ],
      "text/plain": [
       "   Housing_ID                Community  Livable Area   Price  Year_Built  \\\n",
       "0           1    中关村南大街甲3号 2室1厅 56.3平米         56.30   217.0        1965   \n",
       "1           2    中关村南大街甲3号 2室1厅 55.1平米         55.10   185.5        1965   \n",
       "2           3     民族大学南路19号院 2室1厅 70平米         70.00   640.0        1993   \n",
       "3           4  民族大学南路19号院 2室1厅 98.49平米         98.49  1012.0        2000   \n",
       "4           5   民族大学南路19号院 2室1厅 60.7平米         60.70   600.0        1991   \n",
       "\n",
       "   Facing_East  Facing_North  Facing_South  Facing_West  Decoration_Level  \\\n",
       "0            0             0             1            0                 1   \n",
       "1            0             0             1            0                 3   \n",
       "2            0             0             1            0                 1   \n",
       "3            0             0             1            0                 1   \n",
       "4            0             0             1            0                 3   \n",
       "\n",
       "   Floor_Level  Floor_Plan  \n",
       "0            2           1  \n",
       "1            1           1  \n",
       "2            3           1  \n",
       "3            4           1  \n",
       "4            4           1  "
      ]
     },
     "execution_count": 10,
     "metadata": {},
     "output_type": "execute_result"
    }
   ],
   "source": [
    "X.head()"
   ]
  },
  {
   "cell_type": "code",
   "execution_count": 11,
   "metadata": {},
   "outputs": [],
   "source": [
    "# 拆分原始训练数据为四份，X_train, X_valid, y_train, y_valid (We still have community name here)\n",
    "X_train_with_community, X_valid_with_community, y_train, y_valid = train_test_split(X, y, train_size=0.8, test_size=0.2, random_state=0)"
   ]
  },
  {
   "cell_type": "code",
   "execution_count": 12,
   "metadata": {},
   "outputs": [],
   "source": [
    "# Make a new X_train, y_train (without community name here)\n",
    "X_train = X_train_with_community.drop(columns = ['Community'])\n",
    "X_valid = X_valid_with_community.drop(columns = ['Community'])"
   ]
  },
  {
   "cell_type": "code",
   "execution_count": 13,
   "metadata": {},
   "outputs": [],
   "source": [
    "X_train_xgb= pd.concat([y_train,X_train], axis=1)\n",
    "X_train_xgb.to_csv('./X_train.csv',header=False,index=False)"
   ]
  },
  {
   "cell_type": "code",
   "execution_count": 14,
   "metadata": {},
   "outputs": [],
   "source": [
    "X_valid_xgb= pd.concat([y_valid,X_valid], axis=1)\n",
    "X_valid_xgb.to_csv('./X_valid.csv',header=False,index=False)"
   ]
  },
  {
   "cell_type": "code",
   "execution_count": 69,
   "metadata": {},
   "outputs": [],
   "source": [
    "X_valid_xgb_new= pd.concat([y_valid,X_valid_with_community], axis=1)"
   ]
  },
  {
   "cell_type": "code",
   "execution_count": 16,
   "metadata": {},
   "outputs": [
    {
     "data": {
      "text/plain": [
       "'s3://tommy-lab/beijing-housing-data/X_valid.csv'"
      ]
     },
     "execution_count": 16,
     "metadata": {},
     "output_type": "execute_result"
    }
   ],
   "source": [
    "sm_session = sagemaker.Session()\n",
    "train_data_location = 's3://{}/{}/{}'.format(bucket, prefix, 'train')\n",
    "validation_data_location = 's3://{}/{}/{}'.format(bucket, prefix, 'validation')\n",
    "sm_session.upload_data('./X_train.csv',bucket,prefix)\n",
    "sm_session.upload_data('./X_valid.csv',bucket,prefix)"
   ]
  },
  {
   "cell_type": "code",
   "execution_count": 17,
   "metadata": {},
   "outputs": [
    {
     "name": "stderr",
     "output_type": "stream",
     "text": [
      "The method get_image_uri has been renamed in sagemaker>=2.\n",
      "See: https://sagemaker.readthedocs.io/en/stable/v2.html for details.\n"
     ]
    }
   ],
   "source": [
    "# 我们使⽤SageMaker内置的XGBoost来训练，⾸先要获取这个算法的container\n",
    "from sagemaker.amazon.amazon_estimator import get_image_uri\n",
    "container = get_image_uri(region, 'xgboost', repo_version='0.90-2')"
   ]
  },
  {
   "cell_type": "code",
   "execution_count": 18,
   "metadata": {},
   "outputs": [],
   "source": [
    "# 设置算法超参\n",
    "hyperparameters = {\n",
    "\"max_depth\":\"5\",\n",
    "\"eta\":\"0.5\",\n",
    "\"early_stopping_rounds\":\"5\",\n",
    "\"eval_metric\":\"rmse\",\n",
    "\"num_round\":\"30\",\n",
    "\"objective\":\"reg:linear\"}"
   ]
  },
  {
   "cell_type": "code",
   "execution_count": 19,
   "metadata": {},
   "outputs": [],
   "source": [
    "# 训练使⽤哪种EC2实例来完成\n",
    "instance_type = 'ml.m4.xlarge'"
   ]
  },
  {
   "cell_type": "code",
   "execution_count": 20,
   "metadata": {},
   "outputs": [],
   "source": [
    "# 模型输出⽬录\n",
    "output_path = 's3://{}/{}/output'.format(bucket, prefix)"
   ]
  },
  {
   "cell_type": "code",
   "execution_count": 21,
   "metadata": {},
   "outputs": [],
   "source": [
    "# 训练输⼊数据的类型\n",
    "content_type = \"csv\""
   ]
  },
  {
   "cell_type": "code",
   "execution_count": 22,
   "metadata": {},
   "outputs": [
    {
     "name": "stdout",
     "output_type": "stream",
     "text": [
      "Training job xgb-housing-2020-11-23-04-03-40\n"
     ]
    }
   ],
   "source": [
    "# 设置训练任务的名字\n",
    "job_name = 'xgb-housing-' + time.strftime(\"%Y-%m-%d-%H-%M-%S\", time.gmtime())\n",
    "print(\"Training job\", job_name)"
   ]
  },
  {
   "cell_type": "code",
   "execution_count": 23,
   "metadata": {},
   "outputs": [],
   "source": [
    "# Use Managed Spot Training to lower training cost\n",
    "train_use_spot_instances = True\n",
    "train_max_run = 3600\n",
    "train_max_wait = 3600 if train_use_spot_instances else None\n",
    "checkpoint_s3_uri = ('s3://{}/{}/checkpoints/{}'.format(bucket, prefix,\n",
    "job_name)\n",
    "if train_use_spot_instances else None)"
   ]
  },
  {
   "cell_type": "code",
   "execution_count": 24,
   "metadata": {},
   "outputs": [
    {
     "name": "stderr",
     "output_type": "stream",
     "text": [
      "train_instance_count has been renamed in sagemaker>=2.\n",
      "See: https://sagemaker.readthedocs.io/en/stable/v2.html for details.\n",
      "train_instance_type has been renamed in sagemaker>=2.\n",
      "See: https://sagemaker.readthedocs.io/en/stable/v2.html for details.\n",
      "train_max_run has been renamed in sagemaker>=2.\n",
      "See: https://sagemaker.readthedocs.io/en/stable/v2.html for details.\n",
      "train_use_spot_instances has been renamed in sagemaker>=2.\n",
      "See: https://sagemaker.readthedocs.io/en/stable/v2.html for details.\n",
      "train_max_wait has been renamed in sagemaker>=2.\n",
      "See: https://sagemaker.readthedocs.io/en/stable/v2.html for details.\n",
      "train_volume_size has been renamed in sagemaker>=2.\n",
      "See: https://sagemaker.readthedocs.io/en/stable/v2.html for details.\n"
     ]
    }
   ],
   "source": [
    "# Initialize Estimators\n",
    "xgb = sagemaker.estimator.Estimator(container,\n",
    "role,\n",
    "hyperparameters=hyperparameters,\n",
    "train_instance_count=1,\n",
    "train_instance_type=instance_type,\n",
    "train_volume_size=5, # 5 GB\n",
    "output_path=output_path,\n",
    "sagemaker_session=sagemaker.Session(),\n",
    "train_use_spot_instances=train_use_spot_instances,\n",
    "train_max_run=train_max_run,\n",
    "train_max_wait=train_max_wait,\n",
    "checkpoint_s3_uri=checkpoint_s3_uri\n",
    ");"
   ]
  },
  {
   "cell_type": "code",
   "execution_count": 25,
   "metadata": {},
   "outputs": [
    {
     "name": "stderr",
     "output_type": "stream",
     "text": [
      "The class sagemaker.session.s3_input has been renamed in sagemaker>=2.\n",
      "See: https://sagemaker.readthedocs.io/en/stable/v2.html for details.\n",
      "The class sagemaker.session.s3_input has been renamed in sagemaker>=2.\n",
      "See: https://sagemaker.readthedocs.io/en/stable/v2.html for details.\n"
     ]
    }
   ],
   "source": [
    "# Configure the data channels\n",
    "train_data_location = 's3://{}/{}/{}'.format(bucket, prefix, 'X_train.csv')\n",
    "validation_data_location = 's3://{}/{}/{}'.format(bucket, prefix,\n",
    "'X_valid.csv')\n",
    "train_channel = sagemaker.session.s3_input(train_data_location,\n",
    "content_type='csv')\n",
    "valid_channel = sagemaker.session.s3_input(validation_data_location,\n",
    "content_type='csv')\n",
    "data_channels = {'train': train_channel, 'validation': valid_channel}"
   ]
  },
  {
   "cell_type": "code",
   "execution_count": 26,
   "metadata": {},
   "outputs": [
    {
     "name": "stdout",
     "output_type": "stream",
     "text": [
      "2020-11-23 04:03:42 Starting - Starting the training job...\n",
      "2020-11-23 04:03:44 Starting - Launching requested ML instances......\n",
      "2020-11-23 04:04:59 Starting - Preparing the instances for training.........\n",
      "2020-11-23 04:06:31 Downloading - Downloading input data...\n",
      "2020-11-23 04:07:12 Training - Downloading the training image...\n",
      "2020-11-23 04:07:32 Training - Training image download completed. Training in progress.\u001b[34mINFO:sagemaker-containers:Imported framework sagemaker_xgboost_container.training\u001b[0m\n",
      "\u001b[34mINFO:sagemaker-containers:Failed to parse hyperparameter eval_metric value rmse to Json.\u001b[0m\n",
      "\u001b[34mReturning the value itself\u001b[0m\n",
      "\u001b[34mINFO:sagemaker-containers:Failed to parse hyperparameter objective value reg:linear to Json.\u001b[0m\n",
      "\u001b[34mReturning the value itself\u001b[0m\n",
      "\u001b[34mINFO:sagemaker-containers:No GPUs detected (normal if no gpus installed)\u001b[0m\n",
      "\u001b[34mINFO:sagemaker_xgboost_container.training:Running XGBoost Sagemaker in algorithm mode\u001b[0m\n",
      "\u001b[34mINFO:root:Determined delimiter of CSV input is ','\u001b[0m\n",
      "\u001b[34mINFO:root:Determined delimiter of CSV input is ','\u001b[0m\n",
      "\u001b[34mINFO:root:Determined delimiter of CSV input is ','\u001b[0m\n",
      "\u001b[34m[04:07:35] 51908x11 matrix with 570988 entries loaded from /opt/ml/input/data/train?format=csv&label_column=0&delimiter=,\u001b[0m\n",
      "\u001b[34mINFO:root:Determined delimiter of CSV input is ','\u001b[0m\n",
      "\u001b[34m[04:07:35] 12978x11 matrix with 142758 entries loaded from /opt/ml/input/data/validation?format=csv&label_column=0&delimiter=,\u001b[0m\n",
      "\u001b[34mINFO:root:Single node training.\u001b[0m\n",
      "\u001b[34mINFO:root:Train matrix has 51908 rows\u001b[0m\n",
      "\u001b[34mINFO:root:Validation matrix has 12978 rows\u001b[0m\n",
      "\u001b[34m[04:07:35] WARNING: /workspace/src/objective/regression_obj.cu:152: reg:linear is now deprecated in favor of reg:squarederror.\u001b[0m\n",
      "\u001b[34m[0]#011train-rmse:33966.8#011validation-rmse:34207.6\u001b[0m\n",
      "\u001b[34m[1]#011train-rmse:17783.3#011validation-rmse:18038.5\u001b[0m\n",
      "\u001b[34m[2]#011train-rmse:9767.84#011validation-rmse:10032.9\u001b[0m\n",
      "\u001b[34m[3]#011train-rmse:5972.95#011validation-rmse:6325.5\u001b[0m\n",
      "\u001b[34m[4]#011train-rmse:4140.03#011validation-rmse:4446.95\u001b[0m\n",
      "\u001b[34m[5]#011train-rmse:3316.79#011validation-rmse:3604.04\u001b[0m\n",
      "\u001b[34m[6]#011train-rmse:3001.9#011validation-rmse:3213.22\u001b[0m\n",
      "\u001b[34m[7]#011train-rmse:2756.68#011validation-rmse:2954.59\u001b[0m\n",
      "\u001b[34m[8]#011train-rmse:2676.7#011validation-rmse:2854.4\u001b[0m\n",
      "\u001b[34m[9]#011train-rmse:2612.33#011validation-rmse:2789.47\u001b[0m\n",
      "\u001b[34m[10]#011train-rmse:2520.37#011validation-rmse:2705.9\u001b[0m\n",
      "\u001b[34m[11]#011train-rmse:2445.45#011validation-rmse:2618.25\u001b[0m\n",
      "\u001b[34m[12]#011train-rmse:2386.59#011validation-rmse:2557.56\u001b[0m\n",
      "\u001b[34m[13]#011train-rmse:2349.28#011validation-rmse:2520.87\u001b[0m\n",
      "\u001b[34m[14]#011train-rmse:2292.47#011validation-rmse:2458.64\u001b[0m\n",
      "\u001b[34m[15]#011train-rmse:2194.25#011validation-rmse:2360.09\u001b[0m\n",
      "\u001b[34m[16]#011train-rmse:2111.44#011validation-rmse:2280.97\u001b[0m\n",
      "\u001b[34m[17]#011train-rmse:2082.65#011validation-rmse:2248.58\u001b[0m\n",
      "\u001b[34m[18]#011train-rmse:2039.41#011validation-rmse:2196.47\u001b[0m\n",
      "\u001b[34m[19]#011train-rmse:1977.89#011validation-rmse:2142.44\u001b[0m\n",
      "\u001b[34m[20]#011train-rmse:1949.36#011validation-rmse:2111.89\u001b[0m\n",
      "\u001b[34m[21]#011train-rmse:1896.29#011validation-rmse:2070.13\u001b[0m\n",
      "\u001b[34m[22]#011train-rmse:1884.33#011validation-rmse:2060.81\u001b[0m\n",
      "\u001b[34m[23]#011train-rmse:1795.43#011validation-rmse:1980.45\u001b[0m\n",
      "\u001b[34m[24]#011train-rmse:1778.81#011validation-rmse:1955.72\u001b[0m\n",
      "\u001b[34m[25]#011train-rmse:1743.11#011validation-rmse:1923.56\u001b[0m\n",
      "\u001b[34m[26]#011train-rmse:1693.5#011validation-rmse:1875.31\u001b[0m\n",
      "\u001b[34m[27]#011train-rmse:1665.79#011validation-rmse:1850\u001b[0m\n",
      "\u001b[34m[28]#011train-rmse:1636.16#011validation-rmse:1818.69\u001b[0m\n",
      "\u001b[34m[29]#011train-rmse:1615.81#011validation-rmse:1800.99\u001b[0m\n",
      "\n",
      "2020-11-23 04:08:11 Uploading - Uploading generated training model\n",
      "2020-11-23 04:08:11 Completed - Training job completed\n",
      "Training seconds: 100\n",
      "Billable seconds: 47\n",
      "Managed Spot Training savings: 53.0%\n",
      "CPU times: user 570 ms, sys: 41 ms, total: 611 ms\n",
      "Wall time: 4min 42s\n"
     ]
    }
   ],
   "source": [
    "%%time\n",
    "# Use xgb.fit to train the regression model\n",
    "xgb.fit(inputs=data_channels, job_name=job_name, logs=True)"
   ]
  },
  {
   "cell_type": "code",
   "execution_count": 27,
   "metadata": {},
   "outputs": [
    {
     "name": "stdout",
     "output_type": "stream",
     "text": [
      ".............................................................................................................................................................................!\n",
      "!\n",
      "CPU times: user 929 ms, sys: 67.7 ms, total: 997 ms\n",
      "Wall time: 14min 36s\n"
     ]
    }
   ],
   "source": [
    "%%time\n",
    "from sagemaker.tuner import IntegerParameter, CategoricalParameter, ContinuousParameter, HyperparameterTuner\n",
    "\n",
    "hyperparameter_ranges = {'max_depth':IntegerParameter(1,10),\n",
    "                         'alpha': ContinuousParameter(0, 100),\n",
    "                         'min_child_weight': ContinuousParameter(1, 5),\n",
    "                         'eta': ContinuousParameter(0.2, 0.7),  \n",
    "                         'num_round': IntegerParameter(10,200)\n",
    "                         }\n",
    "\n",
    "objective_metric_name = 'validation:rmse'\n",
    "objective_type = 'Minimize'\n",
    "\n",
    "tuner = HyperparameterTuner(xgb,\n",
    "                            objective_metric_name,\n",
    "                            hyperparameter_ranges,\n",
    "                            max_jobs=3, # Set this to 10 or above depending upon budget & available time.\n",
    "                            max_parallel_jobs=1,\n",
    "                            objective_type=objective_type,\n",
    "                            early_stopping_type='Auto')\n",
    "\n",
    "tuner.fit(inputs=data_channels, include_cls_metadata=False)\n",
    "tuner.wait()"
   ]
  },
  {
   "cell_type": "code",
   "execution_count": 28,
   "metadata": {},
   "outputs": [
    {
     "name": "stdout",
     "output_type": "stream",
     "text": [
      "CPU times: user 68.1 ms, sys: 10.9 ms, total: 79 ms\n",
      "Wall time: 1.18 s\n"
     ]
    },
    {
     "data": {
      "text/plain": [
       "'Completed'"
      ]
     },
     "execution_count": 28,
     "metadata": {},
     "output_type": "execute_result"
    }
   ],
   "source": [
    "%%time\n",
    "boto3.client('sagemaker').describe_hyper_parameter_tuning_job(\n",
    "    HyperParameterTuningJobName=tuner.latest_tuning_job.job_name)['HyperParameterTuningJobStatus']"
   ]
  },
  {
   "cell_type": "code",
   "execution_count": 29,
   "metadata": {},
   "outputs": [
    {
     "name": "stdout",
     "output_type": "stream",
     "text": [
      "CPU times: user 25.2 ms, sys: 3.59 ms, total: 28.8 ms\n",
      "Wall time: 110 ms\n"
     ]
    },
    {
     "data": {
      "text/html": [
       "<div>\n",
       "<style scoped>\n",
       "    .dataframe tbody tr th:only-of-type {\n",
       "        vertical-align: middle;\n",
       "    }\n",
       "\n",
       "    .dataframe tbody tr th {\n",
       "        vertical-align: top;\n",
       "    }\n",
       "\n",
       "    .dataframe thead th {\n",
       "        text-align: right;\n",
       "    }\n",
       "</style>\n",
       "<table border=\"1\" class=\"dataframe\">\n",
       "  <thead>\n",
       "    <tr style=\"text-align: right;\">\n",
       "      <th></th>\n",
       "      <th>alpha</th>\n",
       "      <th>eta</th>\n",
       "      <th>max_depth</th>\n",
       "      <th>min_child_weight</th>\n",
       "      <th>num_round</th>\n",
       "      <th>TrainingJobName</th>\n",
       "      <th>TrainingJobStatus</th>\n",
       "      <th>FinalObjectiveValue</th>\n",
       "      <th>TrainingStartTime</th>\n",
       "      <th>TrainingEndTime</th>\n",
       "      <th>TrainingElapsedTimeSeconds</th>\n",
       "    </tr>\n",
       "  </thead>\n",
       "  <tbody>\n",
       "    <tr>\n",
       "      <th>1</th>\n",
       "      <td>95.724867</td>\n",
       "      <td>0.221732</td>\n",
       "      <td>8.0</td>\n",
       "      <td>1.815192</td>\n",
       "      <td>132.0</td>\n",
       "      <td>sagemaker-xgboost-201123-0408-002-db61b904</td>\n",
       "      <td>Completed</td>\n",
       "      <td>741.177979</td>\n",
       "      <td>2020-11-23 04:16:07+00:00</td>\n",
       "      <td>2020-11-23 04:17:27+00:00</td>\n",
       "      <td>80.0</td>\n",
       "    </tr>\n",
       "    <tr>\n",
       "      <th>2</th>\n",
       "      <td>34.629653</td>\n",
       "      <td>0.603258</td>\n",
       "      <td>7.0</td>\n",
       "      <td>2.478727</td>\n",
       "      <td>123.0</td>\n",
       "      <td>sagemaker-xgboost-201123-0408-001-5cb538f5</td>\n",
       "      <td>Completed</td>\n",
       "      <td>972.804016</td>\n",
       "      <td>2020-11-23 04:11:36+00:00</td>\n",
       "      <td>2020-11-23 04:12:57+00:00</td>\n",
       "      <td>81.0</td>\n",
       "    </tr>\n",
       "    <tr>\n",
       "      <th>0</th>\n",
       "      <td>51.244399</td>\n",
       "      <td>0.292533</td>\n",
       "      <td>5.0</td>\n",
       "      <td>1.014315</td>\n",
       "      <td>63.0</td>\n",
       "      <td>sagemaker-xgboost-201123-0408-003-9a4e966f</td>\n",
       "      <td>Completed</td>\n",
       "      <td>1242.050049</td>\n",
       "      <td>2020-11-23 04:20:59+00:00</td>\n",
       "      <td>2020-11-23 04:22:23+00:00</td>\n",
       "      <td>84.0</td>\n",
       "    </tr>\n",
       "  </tbody>\n",
       "</table>\n",
       "</div>"
      ],
      "text/plain": [
       "       alpha       eta  max_depth  min_child_weight  num_round  \\\n",
       "1  95.724867  0.221732        8.0          1.815192      132.0   \n",
       "2  34.629653  0.603258        7.0          2.478727      123.0   \n",
       "0  51.244399  0.292533        5.0          1.014315       63.0   \n",
       "\n",
       "                              TrainingJobName TrainingJobStatus  \\\n",
       "1  sagemaker-xgboost-201123-0408-002-db61b904         Completed   \n",
       "2  sagemaker-xgboost-201123-0408-001-5cb538f5         Completed   \n",
       "0  sagemaker-xgboost-201123-0408-003-9a4e966f         Completed   \n",
       "\n",
       "   FinalObjectiveValue         TrainingStartTime           TrainingEndTime  \\\n",
       "1           741.177979 2020-11-23 04:16:07+00:00 2020-11-23 04:17:27+00:00   \n",
       "2           972.804016 2020-11-23 04:11:36+00:00 2020-11-23 04:12:57+00:00   \n",
       "0          1242.050049 2020-11-23 04:20:59+00:00 2020-11-23 04:22:23+00:00   \n",
       "\n",
       "   TrainingElapsedTimeSeconds  \n",
       "1                        80.0  \n",
       "2                        81.0  \n",
       "0                        84.0  "
      ]
     },
     "execution_count": 29,
     "metadata": {},
     "output_type": "execute_result"
    }
   ],
   "source": [
    "%%time\n",
    "from pprint import pprint\n",
    "from sagemaker.analytics import HyperparameterTuningJobAnalytics\n",
    "\n",
    "tuner_analytics = HyperparameterTuningJobAnalytics(tuner.latest_tuning_job.name, sagemaker_session=sagemaker.Session())\n",
    "\n",
    "df_tuning_job_analytics = tuner_analytics.dataframe()\n",
    "\n",
    "# Sort the tuning job analytics by the final metrics value\n",
    "df_tuning_job_analytics.sort_values(\n",
    "    by=['FinalObjectiveValue'],\n",
    "    inplace=True,\n",
    "    ascending=False if tuner.objective_type == \"Maximize\" else True)\n",
    "\n",
    "# Show detailed analytics for the top 20 models\n",
    "df_tuning_job_analytics.head(20)"
   ]
  },
  {
   "cell_type": "code",
   "execution_count": 30,
   "metadata": {},
   "outputs": [],
   "source": [
    "attached_tuner = HyperparameterTuner.attach(tuner.latest_tuning_job.name, sagemaker_session=sagemaker.Session())\n",
    "best_training_job = attached_tuner.best_training_job()"
   ]
  },
  {
   "cell_type": "code",
   "execution_count": 31,
   "metadata": {},
   "outputs": [
    {
     "name": "stdout",
     "output_type": "stream",
     "text": [
      "\n",
      "2020-11-23 04:17:27 Starting - Preparing the instances for training\n",
      "2020-11-23 04:17:27 Downloading - Downloading input data\n",
      "2020-11-23 04:17:27 Training - Training image download completed. Training in progress.\n",
      "2020-11-23 04:17:27 Uploading - Uploading generated training model\n",
      "2020-11-23 04:17:27 Completed - Training job completed\n"
     ]
    }
   ],
   "source": [
    "from sagemaker.estimator import Estimator\n",
    "algo_estimator = Estimator.attach(best_training_job)\n",
    "\n",
    "best_algo_model = algo_estimator.create_model(env={'SAGEMAKER_DEFAULT_INVOCATIONS_ACCEPT':\"text/csv\"})"
   ]
  },
  {
   "cell_type": "code",
   "execution_count": 32,
   "metadata": {},
   "outputs": [
    {
     "name": "stdout",
     "output_type": "stream",
     "text": [
      "---------------!CPU times: user 253 ms, sys: 17.7 ms, total: 271 ms\n",
      "Wall time: 7min 32s\n"
     ]
    }
   ],
   "source": [
    "%%time\n",
    "# Model Deployment\n",
    "\n",
    "xgb_predictor = best_algo_model.deploy(initial_instance_count=1,\n",
    "                         instance_type='ml.m4.xlarge')\n"
   ]
  },
  {
   "cell_type": "code",
   "execution_count": 33,
   "metadata": {},
   "outputs": [
    {
     "name": "stderr",
     "output_type": "stream",
     "text": [
      "The class RealTimePredictor has been renamed in sagemaker>=2.\n",
      "See: https://sagemaker.readthedocs.io/en/stable/v2.html for details.\n",
      "content_type is a no-op in sagemaker>=2.\n",
      "See: https://sagemaker.readthedocs.io/en/stable/v2.html for details.\n",
      "The csv_serializer has been renamed in sagemaker>=2.\n",
      "See: https://sagemaker.readthedocs.io/en/stable/v2.html for details.\n"
     ]
    },
    {
     "name": "stdout",
     "output_type": "stream",
     "text": [
      "CPU times: user 210 ms, sys: 35 ms, total: 245 ms\n",
      "Wall time: 652 ms\n"
     ]
    }
   ],
   "source": [
    "%%time\n",
    "from sagemaker.predictor import csv_serializer\n",
    "# 创建 predictor\n",
    "xgb_predictor=sagemaker.predictor.RealTimePredictor(\n",
    "\"sagemaker-xgboost-2020-11-23-02-23-21-790\", # 这个名字就是上图中蓝⾊⽅框中endpoint的name\n",
    "sagemaker_session=sm_session,\n",
    "serializer=csv_serializer,\n",
    "content_type='csv')\n",
    "# 调⽤predictor的predict⽅法做推理\n",
    "# xgb_predictor.predict(X_valid.values[0]).decode('utf-8')\n",
    "result = xgb_predictor.predict(X_valid.values).decode('utf-8')"
   ]
  },
  {
   "cell_type": "code",
   "execution_count": 34,
   "metadata": {},
   "outputs": [
    {
     "data": {
      "text/plain": [
       "'41414.8984375,84222.7734375,56059.30078125,35239.60546875,94950.140625,36994.55078125,75662.9921875,24259.232421875,53908.078125,32403.01171875,92118.8828125,32364.123046875,55909.3046875,86653.0546875,52292.33984375,83056.0546875,86602.96875,47335.9453125,57139.359375,93570.71875,89859.9921875,47493.18359375,95569.6875,50101.765625,53596.83203125,29231.1640625,61927.5390625,51298.51171875,53246.44921875,79008.2734375,37306.3125,63863.66015625,31557.830078125,37582.125,49032.83984375,44282.9453125,57818.78125,75122.2265625,36303.94140625,76056.546875,96852.8359375,41466.6171875,106691.8515625,74812.4453125,39301.265625,82167.34375,45436.28125,48876.70703125,60752.515625,36953.43359375,46963.71875,50460.80859375,35814.96875,79786.5390625,74639.9453125,78976.6640625,51515.44921875,56732.15234375,89239.90625,80036.5703125,44483.43359375,30769.01171875,59806.5859375,61176.03515625,71254.7265625,67191.578125,42217.0625,83311.140625,57490.4453125,53242.10546875,34355.0234375,30408.353515625,49523.57421875,68464.6796875,60748.87890625,34877.80078125,54208.9375,58838.97265625,72379.3046875,56085.91796875,67257.234375,68992.703125,55484.00390625,52480.609375,24145.396484375,36865.4765625,59554.2265625,47950.88671875,82929.5546875,39748.921875,47967.70703125,84543.671875,108553.46875,70574.0,55147.02734375,43096.81640625,84303.3359375,61394.21875,80534.78125,89166.7578125,91339.90625,103598.8828125,57819.1875,92288.9609375,38793.0078125,77381.9765625,47886.95703125,66975.5859375,53248.328125,72234.8203125,82837.9609375,35826.53515625,67130.484375,63437.08984375,36700.44140625,53572.24609375,49774.20703125,74381.1640625,31984.25,53565.18359375,47335.9453125,32039.376953125,58652.5390625,64099.4140625,86238.078125,65316.8515625,81309.7734375,16188.90234375,49311.6328125,105663.90625,85031.7421875,72120.4296875,58592.3203125,51421.8828125,50399.2109375,17900.466796875,67780.96875,89387.71875,102217.8671875,46527.6953125,99119.0703125,40103.04296875,64781.1796875,58906.265625,107867.078125,68655.46875,50949.43359375,52425.40625,42658.46875,35491.0546875,37216.109375,49545.58203125,66730.71875,81793.1640625,47166.32421875,22450.830078125,64160.4765625,27295.30859375,35594.13671875,45387.10546875,142430.34375,49545.58203125,76655.4921875,61417.91796875,53712.3046875,50047.078125,52119.74609375,43870.078125,85948.609375,27076.890625,48321.05859375,68475.0625,66335.0625,80970.8125,41742.55859375,49095.7265625,52616.453125,94433.7734375,91131.7578125,42714.25390625,64480.5078125,64099.4140625,95262.5390625,49127.0546875,60456.33203125,38422.37890625,91046.4609375,38422.37890625,30365.484375,65774.2578125,88628.359375,50376.80078125,51253.0546875,44522.55078125,84203.9609375,80011.953125,58580.3046875,54036.6171875,34922.3046875,81199.46875,75847.7890625,49533.02734375,51134.84375,63902.78125,56282.79296875,59386.4453125,67952.953125,51405.56640625,109281.9296875,99766.6875,88371.25,75553.9140625,54335.6328125,49728.8359375,86308.6796875,60930.6328125,40750.0078125,76758.3359375,33120.57421875,60888.67578125,53164.51171875,66823.6328125,45857.01171875,41359.9296875,57454.2265625,60857.68359375,50381.734375,86826.2265625,95414.09375,78501.75,105040.8203125,90910.7890625,40934.27734375,47558.46875,38098.078125,56692.98828125,88045.828125,49899.66796875,71596.5390625,43418.5546875,48037.9296875,46851.0390625,64991.9375,41720.625,89919.1015625,90068.359375,30660.98828125,88785.953125,39324.42578125,32990.19140625,57018.35546875,21508.146484375,74384.9453125,54096.484375,93358.3671875,82226.40625,41068.20703125,85171.1171875,47324.74609375,32620.029296875,59457.19140625,54086.75,75066.8203125,52552.2109375,49858.546875,58454.5859375,48226.2734375,41053.15625,48321.05859375,38319.88671875,77889.375,90195.0625,33281.25,67186.3125,66006.5,117191.40625,45826.2109375,50047.078125,73590.828125,67152.3828125,39145.9375,105729.984375,96451.0703125,80255.15625,53537.01953125,42129.90625,42255.60546875,75584.3984375,91779.1484375,79405.359375,70394.3671875,83640.9140625,55636.328125,78516.515625,49787.69921875,51960.61328125,117013.3203125,97756.5703125,48321.05859375,78833.734375,49615.74609375,105225.4140625,78418.5078125,37016.06640625,43294.27734375,32973.75,44880.62890625,48968.36328125,75641.1875,54571.33203125,53596.83203125,91352.2578125,89398.84375,57856.75,26001.853515625,31978.51953125,27581.240234375,90416.71875,51855.375,82044.25,89340.4921875,52616.453125,49428.765625,95206.0859375,48932.90625,56346.1796875,68444.2734375,56389.08984375,79535.8046875,44903.7265625,66074.9296875,102129.28125,91218.9921875,40006.2734375,80071.640625,41734.3125,84839.6640625,94721.453125,77381.9765625,78337.8359375,45403.203125,45393.44921875,49428.765625,48028.62890625,70635.625,54347.85546875,68347.6484375,71742.9765625,115575.8515625,36491.1640625,70635.625,23937.7578125,45440.58203125,114604.8828125,92397.34375,46320.96875,42120.12890625,64947.46484375,72925.5859375,38734.53125,64089.67578125,31205.599609375,82941.1328125,85280.296875,44757.88671875,20893.09765625,38834.109375,56293.91796875,76797.4140625,51852.03125,52138.30859375,86490.5546875,25893.01953125,80255.15625,74587.8046875,50946.08984375,52119.74609375,39035.2578125,57250.859375,33828.5625,69694.328125,68191.3125,76066.578125,51496.6015625,38541.171875,42174.45703125,72838.25,59000.91796875,36037.1484375,80983.078125,44252.83984375,50589.7578125,31713.806640625,46412.99609375,46787.28125,50458.6328125,59513.22265625,91782.734375,82499.9921875,49239.16015625,56062.30078125,51952.578125,115482.6328125,82246.09375,47324.74609375,60497.72265625,43893.31640625,79217.515625,50376.80078125,44710.79296875,48325.67578125,58743.12890625,84543.671875,69915.515625,74363.4140625,36622.4765625,67097.515625,39091.76953125,44536.2421875,45693.3671875,60497.72265625,43991.85546875,85926.546875,102453.78125,78697.875,90719.0546875,43870.078125,54094.703125,84674.734375,58601.65625,35514.046875,61303.86328125,47455.265625,38988.44921875,44365.578125,57297.8125,25610.529296875,25155.61328125,39021.859375,34923.87109375,31981.318359375,80259.3125,64242.2890625,73308.125,38691.6171875,48226.9765625,87026.6328125,37800.828125,137713.96875,33116.93359375,67184.6328125,37174.50390625,43294.27734375,37891.2890625,42120.12890625,31095.69140625,35107.61328125,50852.4609375,52342.8125,38691.6171875,25321.1015625,18796.369140625,38179.44921875,93847.3203125,71992.921875,36276.19921875,26911.259765625,35844.03125,52955.3046875,40655.4453125,73254.8359375,56452.421875,66418.328125,30984.34375,25978.107421875,78582.7890625,40077.875,45865.05078125,30798.673828125,59386.4453125,63693.46875,43490.375,47264.5625,31596.96875,82505.8671875,80320.0,79172.453125,58012.99609375,94209.21875,42872.2109375,43154.84375,125958.0,59613.65625,75662.9921875,83679.5390625,47863.59765625,44505.4609375,103012.5234375,47558.46875,35055.8046875,45906.9140625,82057.328125,82508.5,37283.140625,36311.85546875,54544.41796875,66559.7890625,66859.421875,56116.33984375,68347.6484375,95988.1640625,55654.7265625,49552.3046875,49723.94140625,84522.25,44631.609375,65813.28125,35491.0546875,70372.796875,20703.376953125,72774.9921875,70517.46875,55690.03125,72925.5859375,61690.03125,83933.4921875,27513.28515625,40155.765625,43478.18359375,44661.1328125,41965.13671875,42036.39453125,55240.27734375,41708.38671875,63013.3828125,75269.921875,74885.6875,48139.6875,41253.84765625,24001.923828125,64693.84375,27156.771484375,58321.8203125,60636.99609375,39749.16796875,24528.189453125,54078.02734375,95090.390625,42381.95703125,35594.13671875,49224.2578125,35598.94140625,84217.0078125,117547.6484375,81879.171875,61901.3203125,35430.89453125,76695.3828125,107687.890625,52688.9375,60631.0,76138.390625,37666.51171875,70990.4609375,58557.76171875,69603.7109375,128831.7109375,58878.7421875,71253.4453125,80941.0625,89162.5703125,49514.66015625,62120.4296875,70618.6015625,73346.765625,84222.7734375,73526.6484375,66074.9296875,66311.1875,77391.4921875,104718.9140625,39381.03515625,57460.94921875,66928.359375,109288.0234375,91731.765625,36598.45703125,62416.05078125,79870.5703125,72129.46875,49626.28515625,52630.79296875,47495.64453125,44505.4609375,85639.3515625,65556.1953125,73960.484375,95679.265625,66268.2265625,57018.69140625,76092.0234375,73115.546875,42410.92578125,73608.59375,107628.0234375,65356.56640625,25590.888671875,92739.3671875,60908.640625,69190.8984375,58906.265625,125045.1328125,99119.0703125,77749.7734375,25806.05078125,65753.546875,30769.01171875,57096.55859375,48762.87109375,80907.71875,81627.890625,70308.4765625,59235.0078125,41833.83984375,48156.42578125,32402.203125,34692.96875,64053.46875,100038.921875,70640.75,67220.5078125,83050.328125,73994.734375,102317.65625,51966.6640625,46211.63671875,34799.37109375,62909.4296875,86084.8125,42410.92578125,86083.7265625,58868.01171875,43341.90625,50979.15625,50610.51953125,53717.12109375,46055.86328125,78880.015625,85620.3671875,109870.75,61280.91796875,57577.89453125,119894.5390625,54106.08203125,33835.890625,58743.12890625,23119.513671875,51547.1953125,53358.33984375,61034.23828125,56210.03515625,92627.2890625,74872.984375,83803.3125,106797.109375,21147.994140625,79172.453125,68217.1640625,42835.97265625,28893.6640625,91007.4921875,74754.6875,56732.15234375,56996.3515625,62185.1640625,16407.4140625,38706.30859375,47174.08203125,36182.8984375,62246.31640625,60518.15234375,49761.7890625,27851.009765625,33772.39453125,41700.23046875,48006.87890625,73259.421875,49626.28515625,22804.283203125,48731.91796875,21317.341796875,41283.00390625,44409.546875,67127.0703125,92288.9609375,104630.8359375,82840.7109375,20503.99609375,56816.75390625,60752.66796875,49812.390625,56174.234375,40417.29296875,50084.3203125,34903.671875,92083.8984375,45314.69140625,30080.3125,46269.7578125,91018.328125,45965.13671875,58743.12890625,33797.60546875,20219.791015625,63611.203125,83634.59375,48509.921875,84233.3828125,57495.12890625,55285.1953125,52744.78125,55285.1953125,51995.3828125,51547.1953125,47279.546875,60140.01953125,28030.9375,35304.4609375,51697.0,110518.7265625,49467.6796875,65085.37890625,24929.896484375,46943.85546875,89688.828125,135089.25,71627.1328125,78209.9921875,50145.7265625,40484.203125,45094.73046875,89343.984375,39771.9453125,58155.6328125,83168.4140625,59547.21875,52037.1953125,53595.890625,76997.984375,28778.953125,38307.23828125,88530.3515625,91018.328125,61901.3203125,92085.4375,123361.484375,63582.61328125,129827.265625,102959.6875,75847.078125,47942.7421875,42736.80078125,52296.62109375,106686.796875,70122.5234375,21986.67578125,76701.0625,34193.76171875,50460.80859375,39256.53515625,104718.9140625,68347.6484375,54129.76171875,37174.50390625,101586.2734375,120943.578125,68628.59375,46355.41015625,43982.49609375,112512.7734375,40872.58203125,41947.3359375,50399.2109375,32142.6328125,30968.845703125,71361.75,32854.05078125,85234.703125,53361.39453125,30932.03125,32027.568359375,63304.453125,75553.9140625,46055.86328125,40862.76953125,76570.8515625,63789.95703125,95127.90625,51408.77734375,96136.7265625,40688.09375,40610.78125,83268.296875,32311.69140625,92402.1875,11603.515625,34406.8203125,69935.375,69057.328125,104393.421875,94614.40625,65480.57421875,103121.0703125,97917.90625,46234.28515625,73396.328125,56282.79296875,42681.88671875,74848.2734375,103109.203125,91695.4140625,53059.38671875,43864.10546875,61227.83984375,81879.171875,96058.890625,54285.1953125,82646.8359375,72137.6953125,64880.9140625,45159.89453125,47407.15625,62896.8671875,42742.5546875,62896.8671875,75474.8515625,92336.8125,69595.21875,94550.015625,85488.609375,74403.6328125,88602.015625,76901.3984375,60260.453125,82088.6953125,50376.80078125,62867.97265625,64781.1796875,38073.3125,51094.125,88406.21875,46976.0,91026.53125,89247.3515625,59749.55859375,35918.703125,24661.44921875,37572.421875,39452.796875,43982.49609375,43864.10546875,30976.623046875,32776.625,93143.8046875,70914.1640625,53248.328125,80042.796875,115047.140625,82671.671875,45481.6875,52809.5546875,100662.859375,87496.6484375,94030.0078125,42615.859375,50774.48828125,17248.21875,41489.50390625,36334.12890625,83056.0546875,102652.6171875,51971.0,70722.0078125,83268.296875,82841.4296875,42146.109375,76645.6953125,55309.0703125,57935.76953125,49963.69140625,40906.8984375,76191.2421875,42163.65234375,78187.03125,78701.40625,33103.375,40210.359375,88199.5390625,63391.62890625,57966.58984375,64116.6328125,89343.984375,65245.1875,36656.84375,88214.953125,63146.953125,74812.4453125,88787.09375,35918.703125,46851.0390625,41070.72265625,30667.3203125,53226.00390625,29555.875,50388.1875,94722.0859375,65958.7890625,49065.59765625,45583.7734375,56389.08984375,67278.3515625,52707.5625,64369.2578125,49113.4296875,40006.19921875,45368.80078125,70193.3515625,93598.1328125,92586.1640625,49032.83984375,69305.140625,44709.21484375,33984.4609375,65085.37890625,43247.484375,75069.109375,36345.51953125,69497.6015625,69472.28125,60504.703125,48226.2734375,41737.08984375,65156.8359375,31995.353515625,45368.80078125,61658.55078125,109744.34375,24014.064453125,57935.76953125,50376.80078125,57856.75,43149.26953125,59386.78125,89152.875,72591.859375,51865.7421875,42777.125,64828.85546875,82730.8203125,47418.859375,89222.859375,35079.66796875,67148.984375,84543.671875,57776.45703125,31520.724609375,61361.57421875,68089.28125,50589.14453125,57018.35546875,90432.8359375,70396.296875,96458.4453125,21760.43359375,49774.20703125,80872.890625,82714.4765625,69076.3359375,50343.65234375,61182.765625,65927.8203125,65713.4296875,59689.5859375,45077.11328125,24645.064453125,52027.41015625,39240.03125,48321.05859375,89550.0390625,71741.5703125,76797.4140625,101261.3203125,47558.46875,84100.4609375,76841.53125,79812.671875,62838.78125,59796.76953125,106804.0078125,63494.18359375,70976.4453125,98872.859375,94755.7421875,47335.9453125,111130.40625,122385.0703125,36160.76953125,26866.9765625,39221.53515625,82128.2578125,96280.109375,64342.36328125,53712.3046875,50017.859375,54354.28125,40281.87109375,49626.28515625,68679.8046875,60278.515625,70106.296875,39091.76953125,42309.83203125,96499.5,38920.96875,66991.59375,48792.18359375,89854.671875,46211.63671875,42120.12890625,74754.6875,67467.53125,100068.59375,70420.4609375,51838.22265625,78336.390625,70547.2265625,56565.97265625,46055.86328125,37419.84765625,51967.4609375,65242.87109375,59371.31640625,60986.76953125,85956.8984375,35918.703125,108663.953125,35594.13671875,88406.21875,69076.3359375,64693.84375,33281.25,86866.8125,54086.75,53201.59765625,37174.50390625,89474.34375,41568.27734375,64440.40234375,77184.9609375,31290.27734375,26044.74609375,70541.1640625,60110.875,66687.046875,35594.13671875,43928.09765625,52119.74609375,32731.443359375,85439.359375,95574.5546875,38364.43359375,46824.83203125,40779.2578125,124864.03125,88248.96875,104940.84375,48156.42578125,52159.671875,82086.6171875,38500.6484375,85496.4296875,64258.71484375,57484.12109375,78465.109375,88760.921875,49043.22265625,50292.56640625,50399.2109375,49290.01171875,82644.3984375,31557.830078125,41594.54296875,24294.25,73713.1015625,90940.34375,27343.0859375,69331.15625,53167.50390625,71609.40625,64053.46875,86452.03125,41184.78515625,112324.5,50271.89453125,115680.546875,52646.26171875,76841.53125,107004.109375,61004.34375,35613.8671875,30912.86328125,87579.4296875,64812.59765625,23631.9140625,54639.6015625,62178.703125,40368.78515625,46394.1015625,93505.3359375,47868.77734375,70045.5859375,50295.49609375,41795.08203125,37371.73046875,73445.2578125,48036.27734375,87035.796875,80361.0390625,48016.4140625,78880.015625,91182.2265625,64258.71484375,39974.3515625,41833.83984375,21058.58203125,43442.859375,116069.9453125,80941.0625,70574.0,82389.078125,16827.642578125,2658.8896484375,91218.9921875,47896.4375,58022.4296875,63081.6796875,56236.81640625,89901.578125,43954.52734375,76493.25,49470.89453125,58179.1796875,24234.7578125,49787.69921875,90864.640625,85629.6015625,128277.109375,49381.48046875,77044.8671875,44405.50390625,73520.8515625,42865.26953125,135641.609375,90974.046875,40976.55859375,93186.3125,64089.67578125,125496.4765625,66637.8359375,25212.92578125,54845.875,36496.6015625,54014.7578125,57018.69140625,59967.19921875,91108.5703125,93379.2265625,45583.7734375,49886.35546875,88602.015625,98867.1640625,36496.6015625,82852.609375,95334.0625,59956.0625,42146.109375,67376.2265625,70490.0625,81274.8984375,50833.93359375,56286.33984375,37127.94140625,83168.4140625,49452.5703125,35569.375,95878.8984375,61912.40625,70914.1640625,39501.546875,38367.05078125,78337.8359375,73882.984375,54358.2421875,59554.2265625,59452.79296875,101242.6171875,94744.5859375,85304.1796875,63821.0390625,109318.203125,42905.11328125,81807.5234375,85375.40625,36935.72265625,38108.6796875,73044.5859375,69595.21875,91515.3203125,70635.625,29011.64453125,32850.703125,52119.74609375,58985.28125,71158.0859375,44304.4296875,50739.81640625,63789.95703125,46836.01953125,89102.96875,44880.62890625,133324.21875,46354.95703125,70306.5859375,47658.375,106006.0625,54580.203125,73837.65625,99040.5703125,38895.1640625,92470.28125,70122.6875,90348.953125,58813.98046875,41206.44921875,72223.8671875,68082.9375,99051.5390625,41253.84765625,52268.16015625,38541.171875,31611.3046875,50304.26953125,79785.453125,54057.33984375,51838.22265625,82095.34375,61017.8984375,101557.96875,56059.30078125,34692.09375,77570.796875,82623.2890625,56040.90234375,65774.2578125,76570.8515625,26507.697265625,29555.875,70568.6015625,67543.78125,60107.91796875,83172.828125,56018.08203125,87144.0390625,57570.875,87031.328125,32597.716796875,77184.9609375,107214.546875,58005.03125,76102.7265625,101963.859375,87450.3125,50421.98828125,48141.44921875,54057.33984375,76924.6484375,80983.078125,47335.9453125,32364.123046875,62895.77734375,102095.6875,76493.25,74281.40625,74389.3203125,44040.44921875,43309.83203125,54129.76171875,40808.34375,72532.234375,33797.60546875,53977.921875,61946.53515625,86683.0078125,42777.125,62895.77734375,49523.57421875,57219.97265625,40354.9375,64631.58984375,38574.6171875,47602.79296875,65085.37890625,71204.3203125,41177.35546875,56732.15234375,46736.90625,78687.5859375,77385.171875,41330.44921875,55172.74609375,72234.8203125,55548.859375,20488.52734375,107859.3359375,46337.96875,83315.2734375,87846.8515625,62564.6015625,77925.8125,50843.80859375,92486.7578125,69935.375,36710.76953125,31042.8203125,85275.5,76349.421875,31987.078125,49065.59765625,64739.98828125,67448.6015625,70750.8046875,82244.0703125,45276.40234375,67203.21875,71596.125,92494.6328125,53749.51953125,49249.15625,105892.4765625,66335.0625,83930.0546875,114564.5703125,65944.46875,57545.28515625,52280.89453125,119702.671875,22210.193359375,30318.880859375,37345.9453125,103755.3046875,65826.4140625,81415.5625,28013.1484375,66910.9375,77367.2265625,69712.4375,53738.45703125,30493.595703125,63312.2109375,59055.4296875,41454.2890625,52913.87109375,37582.125,94638.703125,62052.35546875,92280.1953125,89900.5703125,85184.890625,86140.4453125,70421.8359375,56581.20703125,42078.8046875,85487.1640625,84295.3828125,85414.2109375,74105.2421875,33036.56640625,47486.80078125,54335.6328125,96186.984375,54372.80078125,64479.83203125,60882.37109375,79405.359375,77035.1953125,50661.4921875,87452.8515625,61406.30859375,38832.1484375,44234.33984375,57295.52734375,49787.69921875,11838.83984375,80701.796875,35623.61328125,93111.78125,43938.9140625,33741.078125,49249.15625,60619.6171875,73667.765625,110121.2578125,38854.5,43886.46875,54339.125,70750.8046875,35439.45703125,64990.7109375,109127.15625,42466.80078125,66268.1171875,57484.12109375,83500.5078125,110307.5546875,25677.3828125,50498.17578125,54339.125,55451.84375,50776.43359375,41359.9296875,99329.1171875,75046.1484375,44812.49609375,53934.27734375,67972.796875,37313.44140625,71763.6015625,63978.17578125,74535.21875,53935.4140625,50776.43359375,89239.90625,49128.390625,86006.7890625,33797.60546875,86563.625,81053.34375,64035.69921875,54049.01171875,37152.0390625,96450.9375,41610.625,81787.0859375,77824.03125,66798.609375,63325.421875,42309.83203125,53818.48046875,42363.3671875,60778.734375,81755.0078125,50257.89453125,41116.9140625,52971.68359375,79422.578125,115924.6640625,68237.828125,80983.078125,50776.43359375,31892.97265625,71088.140625,41418.6171875,67257.234375,64566.85546875,60791.8359375,93450.9296875,49714.2734375,65190.05859375,88144.7421875,37297.7109375,66673.5390625,62808.6328125,103590.203125,104038.3359375,78577.5703125,70023.5859375,20828.626953125,35918.703125,60882.37109375,84247.2421875,55401.50390625,67008.4765625,47558.46875,34310.89453125,45094.0546875,89525.859375,40890.12890625,59925.296875,70277.8984375,75551.3046875,41947.3359375,82964.75,88846.7265625,88831.65625,35612.3671875,45234.24609375,40965.5859375,74683.90625,42798.03515625,87064.78125,43954.52734375,75277.0390625,27631.599609375,63336.0859375,90074.4609375,52839.01171875,60621.03515625,82373.5546875,39301.265625,90422.4296875,39805.3125,70490.0625,48226.9765625,38396.2109375,54014.7578125,51186.703125,113111.109375,60615.90234375,46545.45703125,68191.3125,60621.03515625,69521.3046875,43055.89453125,45556.10546875,91686.8828125,37266.6015625,96672.8671875,35081.890625,87060.3125,40034.8046875,58407.1484375,67736.046875,49523.57421875,33436.04296875,44262.19140625,42120.12890625,52480.609375,73555.6640625,90594.375,27952.837890625,52922.73046875,77824.03125,35918.703125,32799.81640625,80180.40625,60752.66796875,64828.85546875,82964.75,45094.0546875,92643.7109375,25103.6640625,45693.3671875,70420.4609375,46736.90625,72214.6015625,38780.34765625,69595.21875,73696.9296875,113838.8046875,61253.65625,50160.484375,57334.9140625,92726.015625,26151.666015625,70699.9453125,87455.9453125,82644.3984375,33299.16796875,31825.2109375,34872.6796875,95262.5390625,57539.03125,98263.2109375,33875.1953125,52405.65234375,89340.4921875,25424.484375,25629.376953125,66931.4453125,68154.78125,83538.1171875,68154.78125,58592.3203125,121975.96875,54339.125,64781.1796875,86853.90625,97623.3125,64718.6171875,35918.703125,87543.4453125,38126.234375,61371.546875,95531.515625,35918.703125,31758.1015625,56524.296875,37297.7109375,93790.4765625,83268.296875,45016.57421875,69595.21875,32867.7265625,52268.16015625,56074.85546875,69057.328125,37329.30078125,45214.8984375,27531.41015625,48458.5,64369.2578125,78677.8671875,74801.625,63906.29296875,73994.734375,58420.0078125,70838.546875,42835.97265625,33875.1953125,45158.76953125,84303.3359375,50376.80078125,91713.2265625,79666.0859375,55544.51171875,42562.03515625,73520.8515625,44421.90234375,73613.4296875,76072.546875,82671.671875,46244.2734375,80522.65625,93551.65625,83737.109375,46383.046875,29221.986328125,35918.703125,42742.5546875,85234.703125,66717.34375,92755.1015625,57006.921875,109201.1796875,90627.234375,43593.13671875,74215.890625,33036.56640625,67029.4921875,36094.7578125,42835.97265625,33343.9140625,30087.64453125,106426.75,33946.00390625,57966.58984375,54230.56640625,95818.1953125,42118.49609375,44246.22265625,95531.515625,53526.2734375,36160.76953125,38734.53125,99033.859375,50388.1875,55127.4296875,50184.640625,65944.46875,34643.234375,37098.26171875,73953.53125,38514.19921875,70475.796875,85234.703125,29989.12890625,61060.375,76177.703125,28938.86328125,43246.07421875,60737.93359375,96775.015625,40162.4453125,107534.78125,59592.3203125,66220.453125,33797.60546875,70579.359375,42615.859375,78991.5703125,68097.7265625,38312.24609375,78532.6875,51717.16015625,106054.703125,91253.53125,65837.2265625,36865.4765625,93906.421875,90068.359375,58293.609375,98947.3515625,38623.6796875,88639.4296875,20136.654296875,28612.99609375,60258.453125,49128.390625,57501.7890625,67536.3984375,69076.3359375,22560.146484375,68685.96875,89338.6640625,45693.3671875,89623.78125,73065.4375,43505.08984375,50795.57421875,41331.08984375,87613.3359375,35318.48828125,56040.90234375,26507.697265625,54096.484375,78963.34375,53891.88671875,59412.78125,56333.19921875,98650.796875,40077.875,26959.6015625,86129.7890625,83750.015625,57674.2421875,99828.828125,66953.140625,79405.359375,65076.3046875,83005.765625,79009.46875,83050.328125,29246.98046875,118138.09375,54339.125,86538.8203125,38734.53125,96206.953125,34154.85546875,46211.63671875,88368.5859375,66268.1171875,61294.90234375,45693.3671875,54358.2421875,57856.75,50792.5546875,48156.42578125,30588.783203125,49032.83984375,101371.3515625,47323.80859375,57230.203125,39020.5703125,82646.8359375,59453.1875,43146.03125,97917.90625,71318.8359375,87949.5703125,87180.515625,41466.6171875,35918.703125,54350.88671875,94142.3203125,58031.0703125,85280.296875,54503.48828125,65165.75,88434.5703125,59592.3203125,70409.6328125,45152.2265625,33331.1015625,63902.78125,33716.3515625,124972.8203125,69305.140625,48014.75390625,49939.55078125,73308.125,32850.703125,121064.5703125,86538.8203125,39653.64453125,48188.421875,62244.36328125,49032.83984375,67234.3359375,52525.02734375,74812.4453125,69346.6015625,69963.6875,50173.45703125,30493.595703125,56768.33984375,37452.34375,54094.703125,46055.86328125,49332.703125,74769.359375,64015.62890625,58489.97265625,74166.28125,65208.7109375,55707.59375,33933.359375,85032.25,74770.6875,66387.421875,44458.79296875,109919.96875,49884.15625,108116.2421875,60636.99609375,39091.76953125,23881.09375,45784.60546875,53363.13671875,34729.6328125,36746.66015625,51232.6484375,37725.875,59071.6875,73823.1640625,51345.49609375,96765.1875,40249.58984375,54427.30859375,22199.5546875,83641.5703125,91389.90625,35567.26953125,94738.8671875,48474.02734375,27596.587890625,78108.0546875,33728.3125,42469.7734375,63036.3046875,26237.45703125,53530.34765625,41070.72265625,62870.921875,49812.390625,47519.62890625,73346.765625,69855.8515625,60035.46484375,85049.6484375,111124.4609375,64053.46875,114648.296875,61104.90625,94030.0078125,77184.9609375,47419.80859375,73191.1015625,49026.8046875,42716.70703125,79439.2421875,62844.01171875,73016.4375,50803.03515625,29262.83984375,30637.40234375,87452.59375,38640.0703125,72240.5625,35594.13671875,63573.359375,33797.60546875,63582.26171875,88628.359375,85250.6171875,42736.80078125,97349.875,57832.57421875,64053.46875,60664.5,50796.98046875,101291.9765625,28435.5078125,49087.734375,44729.18359375,28934.87109375,69469.921875,85585.9609375,50237.2734375,39035.2578125,72257.796875,114579.71875,55124.109375,101894.21875,32866.203125,74856.3359375,65702.8125,28784.876953125,43341.90625,93120.9921875,58750.9140625,87764.7421875,60857.68359375,52739.95703125,57334.9140625,109045.453125,53541.38671875,39771.9453125,56016.21875,53993.296875,38691.6171875,37833.6796875,100038.921875,101909.9296875,73960.484375,74812.4453125,37296.86328125,90627.234375,91940.7890625,50114.6875,42174.45703125,76968.71875,94550.015625,67760.7890625,44742.41015625,56210.03515625,47486.80078125,95079.984375,31557.830078125,69947.5078125,49787.69921875,27020.1015625,82964.75,63932.359375,63304.453125,45363.7421875,39020.5703125,74215.890625,108388.421875,72080.8828125,67209.6953125,71369.25,50145.7265625,49303.640625,41477.66796875,38306.33984375,50072.40625,77461.71875,41330.44921875,25910.609375,38437.01953125,73128.8203125,38360.40625,91352.2578125,132355.578125,80685.1171875,71250.6015625,42548.61328125,39640.02734375,26649.93359375,36496.6015625,86822.5625,46055.86328125,57927.07421875,52425.40625,60832.62890625,48000.74609375,52087.04296875,8948.765625,69979.6484375,48772.0234375,87496.6484375,52555.43359375,53167.50390625,67460.7421875,47768.71875,27043.541015625,31611.3046875,64541.01171875,92658.3984375,49296.828125,49812.390625,42117.71875,84539.4375,31104.587890625,19061.181640625,64440.40234375,28114.767578125,25082.009765625,54486.4296875,73918.0546875,94230.7265625,78187.03125,57276.6953125,75646.8125,39301.265625,51089.875,79253.40625,105795.1015625,102342.0390625,51096.58203125,78888.859375,64660.66015625,101853.640625,45553.51953125,95429.53125,86822.5625,76924.6484375,89859.9921875,73688.4609375,55494.86328125,41310.66796875,83168.4140625,58843.69140625,101888.7578125,76984.5234375,37520.625,47012.37890625,35936.609375,32731.232421875,44835.16015625,43504.0,40710.23828125,30760.423828125,65153.40234375,114892.40625,57102.41796875,98302.1171875,70155.15625,36656.84375,51994.546875,56801.45703125,108685.140625,72531.46875,91352.2578125,41319.44921875,103856.765625,85028.703125,96666.421875,86538.8203125,84317.6953125,67863.1015625,35370.05859375,77812.0546875,97963.890625,35079.66796875,30512.513671875,33762.37890625,77184.9609375,47950.88671875,86475.359375,76080.84375,59770.80078125,60910.75390625,68726.8828125,106200.921875,79785.453125,22497.947265625,70216.078125,88772.6328125,35613.8671875,75558.8984375,63898.5,79755.0625,36865.4765625,49162.17578125,142822.984375,48340.80078125,102087.0703125,43720.9296875,92597.546875,38045.703125,59071.6875,47954.24609375,40916.73828125,99529.34375,45027.68359375,59689.5859375,66078.328125,68108.21875,38500.6484375,75605.3828125,97484.0546875,92550.4609375,53425.61328125,82878.90625,124936.734375,72882.0390625,83224.859375,43276.09765625,84296.765625,144780.90625,73671.234375,115395.6640625,51216.19921875,83315.2734375,35918.703125,53167.50390625,41466.6171875,51366.64453125,94204.125,83924.90625,69935.375,37169.49609375,79530.328125,35598.94140625,42770.69140625,67890.3984375,66078.328125,41753.53515625,134329.3125,45553.73828125,26842.447265625,81698.7890625,45436.28125,49781.8203125,88530.3515625,43747.02734375,46572.90625,72234.8203125,77628.640625,105226.1953125,39113.39453125,63081.6796875,37833.6796875,62973.48828125,88513.6953125,79346.9921875,52324.28125,81747.0078125,78577.5703125,66871.4140625,40162.4453125,75267.2265625,41451.68359375,49290.01171875,91537.4140625,57935.76953125,58843.7265625,77320.0703125,34872.6796875,48516.640625,64613.69921875,83050.328125,53640.52734375,43341.90625,87019.9140625,115412.34375,45048.21875,59770.80078125,97917.90625,58428.640625,49899.66796875,75077.3828125,100699.1015625,70635.625,64053.46875,39418.55859375,30710.75390625,54208.9375,58753.59765625,59386.4453125,54717.98828125,38675.78125,31124.626953125,40454.69140625,37127.94140625,37174.50390625,34930.9375,70421.8359375,60612.609375,62070.515625,60497.72265625,61102.55859375,76512.5546875,21760.43359375,19971.09765625,63026.44140625,41314.57421875,70574.0,79025.0234375,77605.875,39020.5703125,35355.20703125,36432.8359375,34640.546875,72925.5859375,51880.5703125,52280.89453125,105040.8203125,92283.8203125,71732.390625,62239.5703125,84093.890625,50776.43359375,50776.43359375,47514.5078125,34922.3046875,70838.546875,60612.609375,51717.16015625,41359.9296875,37323.421875,45836.07421875,61927.5390625,72522.171875,48693.5625,67881.515625,108653.0546875,60830.62890625,62312.53515625,52027.41015625,64260.6875,42824.96875,55639.67578125,116672.796875,73065.6015625,50796.98046875,79660.5234375,33156.6640625,103590.203125,73513.4140625,54422.00390625,66778.5,76016.0703125,91256.7890625,77218.859375,54750.6484375,65356.56640625,35918.703125,47315.015625,67468.7578125,30408.353515625,59386.78125,96014.140625,30821.4765625,97998.8359375,68154.78125,93565.8125,50986.28125,66078.328125,85349.734375,60005.5703125,82243.9609375,41013.87109375,61577.88671875,64407.53125,105791.703125,39021.859375,68409.6328125,56350.73828125,67789.4921875,44262.19140625,107597.1875,36491.1640625,91473.4375,70002.34375,42556.92578125,62730.234375,73721.9921875,83530.609375,62838.78125,45648.40234375,69184.8203125,69395.8125,103798.0390625,55623.234375,64036.6171875,92385.984375,24298.09765625,91779.1484375,30086.41015625,39301.265625,45152.2265625,73308.125,42857.0546875,37345.9453125,45368.80078125,82246.09375,51715.1484375,75046.1484375,37174.50390625,84413.171875,122555.828125,53977.921875,43870.078125,75678.265625,73967.171875,40136.4375,21345.494140625,50858.2734375,41574.4609375,54290.234375,102131.2109375,96441.84375,76901.3984375,76701.0625,58012.99609375,49256.890625,44910.01953125,36644.98828125,50343.65234375,67197.75,112108.4921875,54162.671875,112958.2265625,77049.0625,76072.546875,107768.203125,57939.6796875,60497.72265625,58750.9140625,33989.4453125,38480.93359375,32426.857421875,78215.15625,56317.97265625,85439.359375,101111.046875,109565.8203125,55109.55078125,40138.29296875,60632.6953125,53818.48046875,90120.9609375,75362.484375,35687.98046875,45862.3359375,70547.2265625,40330.87890625,39562.01953125,65899.109375,48036.27734375,53312.87109375,43341.90625,68028.515625,32220.158203125,55857.00390625,85184.890625,85078.3828125,42872.2109375,84413.171875,73874.1796875,102100.09375,78020.296875,41164.05078125,53187.45703125,55595.29296875,68726.8828125,25141.810546875,39145.9375,71704.8515625,37955.6953125,67498.265625,46079.06640625,55145.546875,42770.69140625,51405.56640625,35918.703125,68464.6796875,49716.1640625,73346.765625,115781.5625,51570.98828125,87357.3828125,80483.0,63898.5,53908.078125,102108.296875,41755.5859375,83168.4140625,87141.9453125,90256.0,86853.90625,61577.88671875,45553.51953125,105181.96875,71943.046875,42615.859375,46787.28125,70025.90625,56230.3203125,31678.837890625,46268.8359375,59386.78125,67240.703125,38176.8125,71542.2109375,37750.51953125,39212.55859375,60251.390625,60005.5703125,79052.15625,75019.6875,79813.5234375,72009.03125,69346.6015625,52119.74609375,43744.83203125,30289.36328125,20200.71875,64184.71875,38231.765625,64781.1796875,74381.1640625,100784.6796875,57018.35546875,102163.3359375,51770.09375,49426.76953125,59386.78125,83882.703125,75825.9296875,60930.6328125,21158.212890625,55030.28125,91018.328125,64260.6875,139172.375,70914.1640625,109840.5078125,108236.6484375,102711.7578125,41539.984375,45826.2109375,52617.8984375,103366.203125,29777.275390625,52322.5234375,47886.95703125,38734.53125,75298.9609375,52999.7421875,103283.4921875,76968.71875,46856.04296875,90635.6328125,56141.71875,44246.22265625,90490.703125,52840.02734375,54842.46875,51846.16796875,53363.13671875,54980.32421875,36160.76953125,80320.0,79045.9765625,114457.90625,52374.30078125,54555.53515625,46055.86328125,24755.20703125,50145.7265625,51097.02734375,67197.75,95988.1640625,50231.4921875,100599.5625,64782.0703125,75850.96875,45321.296875,74812.4453125,70541.1640625,99989.8046875,77155.8515625,65088.49609375,52143.515625,40139.0078125,94707.0859375,58630.75,51097.02734375,30637.84765625,67890.3984375,29539.10546875,54499.5859375,46682.47265625,73308.125,70459.0859375,71318.8359375,94892.0390625,86950.3984375,52940.64453125,37799.81640625,60930.6328125,95144.734375,55424.71484375,100561.8984375,79391.7734375,88368.5859375,73090.4140625,44266.95703125,86690.2109375,41594.54296875,86450.65625,70372.7265625,39301.265625,40779.2578125,86458.5234375,83132.265625,84752.9140625,66040.9609375,47335.9453125,85275.5,53363.13671875,49162.17578125,85445.765625,57939.6796875,53712.3046875,70003.4296875,42131.81640625,62896.8671875,62834.4765625,56394.6640625,58293.609375,79183.0703125,86822.5625,66687.046875,34355.0234375,59335.05859375,41082.42578125,82506.0703125,88387.3515625,30512.513671875,61927.5390625,54980.32421875,56036.45703125,54086.75,44536.2421875,54561.09765625,47558.421875,101963.859375,58235.94921875,115294.34375,63906.29296875,50135.71875,51697.0,37398.96484375,58369.05078125,52027.41015625,44654.40625,117908.3984375,85585.9609375,88948.34375,49181.02734375,42309.83203125,52310.4453125,86807.671875,74496.265625,76349.421875,90913.703125,77359.6015625,50795.57421875,85093.328125,61253.65625,60882.37109375,91731.765625,65530.3046875,40468.24609375,80391.2265625,56028.48046875,83833.3515625,70119.4140625,77876.8203125,42552.62890625,70517.46875,25610.529296875,92534.7890625,53738.45703125,42792.30859375,44757.88671875,5804.798828125,57276.6953125,90261.890625,58648.8515625,90120.3515625,87911.078125,65948.40625,54848.34375,68462.1484375,79172.453125,46869.51171875,46450.0,102369.4609375,54086.75,32731.232421875,60450.72265625,90627.234375,93812.015625,54663.8359375,44710.79296875,102226.96875,49253.02734375,72257.796875,56920.5078125,73994.734375,49181.02734375,31752.353515625,78741.609375,52955.3046875,59412.78125,88214.953125,111310.375,42120.12890625,66796.3125,71140.015625,103531.828125,45906.9140625,93684.1875,68130.6328125,55554.12109375,37817.2578125,53467.62109375,48125.5234375,91026.53125,56171.328125,47538.20703125,91124.5703125,75267.2265625,85738.78125,60088.921875,51097.02734375,50399.2109375,37313.44140625,61394.21875,67907.3671875,78708.015625,55972.6171875,53228.6875,57298.87890625,49626.28515625,84252.8515625,22518.474609375,65958.7890625,41847.5703125,86563.625,44027.08203125,58315.515625,76149.7421875,28444.640625,34957.6328125,78835.390625,22017.40625,56816.75390625,10935.421875,64126.90234375,47954.24609375,42653.3828125,51547.1953125,65944.46875,79425.8828125,45693.3671875,71794.3203125,77367.2265625,72234.8203125,34328.4921875,118399.140625,53596.83203125,46572.90625,53749.51953125,46355.41015625,109281.9296875,50539.91015625,73667.765625,76661.6328125,39702.6484375,84247.2421875,35514.046875,54933.078125,66140.609375,30222.779296875,84362.9609375,50000.609375,36143.0625,38367.05078125,48925.6484375,93938.3203125,69268.984375,67448.6015625,50109.16015625,49711.953125,40330.87890625,44027.08203125,52984.609375,92983.8984375,37786.21875,45454.1953125,43276.09765625,52280.89453125,81755.0078125,54354.28125,34784.72265625,80501.3046875,95267.390625,45990.05859375,78108.0546875,59113.234375,83056.0546875,47384.88671875,62545.41796875,77184.9609375,76654.7734375,70635.625,101791.6796875,106156.0546875,51836.6796875,79837.6875,98668.03125,40773.359375,70748.296875,82552.875,96280.109375,96206.953125,57018.69140625,89052.3125,57219.97265625,72766.015625,39596.69140625,94330.671875,135293.421875,53977.921875,41994.328125,41283.00390625,54096.484375,53312.87109375,54486.4296875,47644.6484375,48458.5,57927.07421875,61782.9609375,46692.58984375,57927.07421875,79422.578125,34211.453125,97189.0078125,106792.2421875,52739.95703125,32850.703125,112493.4140625,53717.12109375,78677.8671875,37174.50390625,37980.8359375,88353.7421875,40205.609375,96675.2265625,30628.28515625,25760.22265625,64171.6484375,64160.4765625,28914.37109375,34589.1484375,48932.90625,55595.29296875,55341.578125,63299.12109375,42152.875,82458.46875,39930.140625,40610.78125,87573.0859375,64211.0859375,58047.26953125,57608.5,41219.73828125,54372.296875,95206.0859375,14370.8935546875,46450.0,41574.4609375,63299.12109375,76283.453125,89502.75,51379.3671875,49523.57421875,72738.2890625,52412.0625,36507.5859375,42748.6640625,85205.2421875,73717.0078125,33698.890625,67097.515625,75945.8984375,89688.796875,64515.640625,65344.1328125,72399.390625,45061.16796875,126039.875,54173.52734375,107920.9609375,79613.6328125,90940.34375,83964.8046875,53132.83984375,59770.80078125,55079.6171875,58862.76953125,30467.86328125,38364.43359375,104734.7734375,71992.921875,30266.48828125,87093.8125,42637.8046875,44055.0546875,53537.01953125,77570.796875,56994.08984375,39679.15234375,39301.265625,39685.515625,47174.08203125,88168.0859375,73721.9921875,33683.26953125,33496.1328125,57422.52734375,106143.515625,87496.6484375,80180.40625,70025.90625,44731.859375,88787.09375,74844.3125,41510.484375,87613.3359375,68330.109375,47335.9453125,46682.47265625,82644.3984375,55027.90625,86792.7265625,69302.484375,37034.50390625,72164.703125,66268.1171875,52310.4453125,30969.748046875,90876.3125,66820.2421875,85738.78125,39064.0546875,54192.6640625,97630.6015625,42881.96875,42291.5390625,91182.2265625,49899.66796875,68802.234375,77570.796875,108647.421875,81144.0078125,75249.6171875,93157.6015625,102800.453125,49545.58203125,39743.125,37590.25,108895.921875,59266.5078125,47950.88671875,73395.5,25622.765625,82933.2109375,66203.3046875,83833.3515625,94985.03125,44541.16015625,97434.7265625,49626.28515625,25629.376953125,35882.28515625,73327.0390625,51228.01953125,64781.1796875,80348.3125,45187.91015625,73853.1484375,65482.1796875,53823.078125,60214.58203125,94859.375,71956.03125,75277.0390625,87957.1484375,38640.0703125,40228.4609375,89308.7890625,57242.09375,56077.4453125,39026.9765625,49162.17578125,103995.5234375,61549.93359375,38098.078125,72532.234375,51096.58203125,82644.3984375,51560.5078125,120970.734375,48293.03515625,38355.12890625,64053.46875,49533.02734375,44812.49609375,34120.6171875,46538.15234375,45523.24609375,27872.18359375,78224.84375,85275.5,101963.859375,81020.109375,51421.8828125,87027.203125,30538.00390625,36382.390625,95831.734375,86452.03125,57484.12109375,45469.35546875,90913.703125,48279.84375,93237.984375,121285.6640625,49545.58203125,53749.51953125,30295.8515625,51938.703125,49128.390625,53749.51953125,36887.3671875,91743.1640625,41259.26953125,103227.890625,35594.13671875,44800.05859375,101791.6796875,82671.671875,37761.5078125,94562.4921875,78254.1953125,61821.4765625,45151.91796875,93907.84375,51547.1953125,60992.9140625,43247.484375,64514.57421875,98154.265625,78350.9375,63952.45703125,64157.6640625,32039.376953125,58211.55859375,82878.90625,68240.484375,78695.796875,46963.71875,56293.91796875,39916.10546875,44266.95703125,60631.0,50803.03515625,69188.2421875,33973.1015625,78065.8359375,37266.6015625,58813.98046875,31655.15234375,51572.0625,25994.25,79372.09375,134993.484375,28005.666015625,85629.6015625,109255.515625,46682.47265625,78738.359375,81755.0078125,56581.20703125,86972.3515625,58924.0859375,47418.859375,38529.8125,47005.625,102317.65625,78753.25,88602.015625,104940.84375,21941.287109375,58743.12890625,48731.91796875,52696.7421875,49812.390625,50547.5859375,58339.26953125,34310.89453125,75605.3828125,33988.57421875,53767.37109375,47493.18359375,48830.0703125,25103.6640625,50160.484375,41708.93359375,124608.3125,119885.9375,36496.6015625,50133.08984375,54354.28125,96404.03125,106824.4921875,56849.73828125,58686.328125,83249.484375,79391.7734375,128457.5078125,41463.921875,76280.84375,98650.796875,57006.1484375,88712.9609375,76661.6328125,60475.73828125,79333.53125,33561.60546875,64828.85546875,91782.734375,29563.474609375,71743.3125,62580.64453125,82086.6171875,69292.8984375,88820.2265625,89312.015625,93586.421875,81170.984375,65228.8203125,99821.515625,111076.3828125,35079.66796875,98196.75,63435.609375,54899.39453125,100561.0234375,19971.09765625,52568.65625,46851.0390625,73359.1640625,39743.125,31940.525390625,106686.796875,58753.59765625,53572.24609375,42059.80859375,44880.62890625,88279.84375,73938.2578125,59055.4296875,41545.95703125,41253.84765625,41700.23046875,22003.498046875,35921.04296875,39091.76953125,57932.09765625,64242.2890625,37048.34765625,23718.197265625,62947.32421875,46640.54296875,80702.0078125,62339.27734375,57082.46875,39301.265625,55484.00390625,64566.85546875,43980.99609375,101853.640625,79660.5234375,80501.3046875,55137.51171875,73206.6015625,27020.1015625,61065.5859375,42548.61328125,91341.8125,28114.767578125,98348.0546875,85956.8984375,63497.4765625,38143.5390625,78991.5703125,91187.7265625,49858.546875,28914.37109375,47314.515625,60088.921875,96453.8984375,33272.30078125,54999.48828125,34122.171875,26151.666015625,77815.75,38920.96875,58020.33984375,52007.875,53201.59765625,75249.6171875,41673.05859375,79052.15625,55977.1640625,53246.44921875,75267.2265625,53596.83203125,74955.3671875,86126.421875,87636.6953125,52450.9765625,78516.515625,74126.2890625,101468.5546875,80936.0859375,38691.6171875,124393.8671875,67152.3828125,60798.86328125,38461.61328125,29745.326171875,93121.7734375,64326.87109375,69915.515625,94054.6875,46682.47265625,60711.33203125,57015.953125,62044.25390625,41792.1796875,53361.39453125,67984.390625,20625.525390625,51960.61328125,76008.5234375,26507.697265625,44579.40234375,49290.01171875,31139.376953125,86866.8125,39813.7265625,37817.2578125,45611.4140625,48766.33984375,40155.765625,30511.15234375,53418.875,56282.79296875,70394.3671875,78271.328125,40538.07421875,53312.87109375,56904.2890625,66268.1171875,89260.5625,50887.48828125,34355.0234375,71094.5546875,69963.6875,78337.8359375,46682.47265625,55595.29296875,67638.2890625,45990.05859375,35088.8125,76497.171875,72293.8671875,50145.7265625,49552.3046875,81755.0078125,31581.416015625,47519.62890625,102140.5078125,91782.734375,65356.56640625,91323.6875,39301.265625,32443.7109375,36807.52734375,21088.50390625,91234.625,31301.41796875,35085.05078125,16250.3349609375,74726.34375,45048.21875,82286.0,81985.2109375,65085.37890625,61858.45703125,33329.984375,54011.609375,44505.4609375,47558.46875,105225.4140625,95681.4375,34437.8828125,35623.61328125,50109.16015625,48932.90625,41371.83203125,50343.65234375,68475.0625,39813.7265625,55690.03125,57967.40625,34977.984375,38784.83984375,69595.21875,71232.7890625,49500.6171875,34491.2265625,45234.24609375,30324.7734375,59386.78125,38895.1640625,100572.515625,73849.0234375,82671.671875,64810.00390625,98526.4296875,86866.8125,42466.80078125,73667.765625,72532.234375,44835.16015625,50589.14453125,58601.65625,29505.677734375,66923.3125,55147.02734375,25841.783203125,95988.1640625,56835.3515625,50887.48828125,39020.5703125,49552.3046875,91341.8125,38480.93359375,47768.71875,34212.98828125,55275.8046875,31812.580078125,83622.78125,101557.96875,38070.15234375,64160.4765625,72234.8203125,72785.46875,34122.171875,48772.0234375,34142.05859375,101705.5234375,19081.154296875,107039.2578125,47896.4375,49963.69140625,75277.0390625,79785.453125,65305.69140625,29318.94140625,92034.9453125,70858.890625,48321.05859375,91346.2265625,84919.8203125,71742.9765625,64990.7109375,29499.548828125,23758.609375,50237.2734375,82295.78125,38367.05078125,58869.29296875,67138.8671875,78795.5234375,57695.88671875,39085.86328125,94981.5078125,140639.375,99481.3828125,111751.0859375,75018.171875,91782.734375,29362.044921875,102044.203125,84543.671875,91841.953125,50231.0703125,58539.1484375,59796.76953125,60612.609375,71804.4921875,26670.060546875,84646.5390625,96749.6484375,51181.4921875,78429.1875,42935.3046875,96411.703125,98668.03125,30912.86328125,37725.875,67127.0703125,52268.16015625,82730.8203125,64316.64453125,90757.5703125,22199.5546875,144786.78125,67498.265625,93508.171875,25841.783203125,44365.578125,37329.30078125,38461.61328125,40130.2734375,37243.87109375,67573.09375,36865.4765625,70358.1796875,98015.1171875,45434.92578125,61495.859375,147394.15625,85357.7265625,92523.671875,90135.8984375,25939.919921875,22797.337890625,33272.30078125,98103.0546875,62292.7890625,52487.640625,46394.1015625,101909.9296875,34355.0234375,78800.6953125,81415.5625,24650.392578125,72774.9921875,74738.8984375,40190.55859375,94171.59375,82659.0390625,94846.7890625,46450.0,53363.13671875,36935.72265625,67557.1484375,63437.08984375,87215.40625,42174.45703125,88913.859375,34916.09375,50501.91796875,80794.8984375,37225.2421875,103723.9375,79859.4140625,45368.80078125,64798.734375,87014.1640625,-1138.7855224609375,78429.1875,53762.25390625,69662.7890625,61490.359375,48184.78125,54580.203125,87312.515625,72532.234375,64369.2578125,43062.30078125,51216.19921875,25029.146484375,66731.4296875,78708.015625,83051.8828125,94751.4453125,38734.53125,61623.9609375,61570.56640625,107528.7265625,44055.0546875,50739.81640625,38363.1015625,66213.9765625,45083.9609375,53158.66796875,33343.9140625,48226.2734375,38795.859375,85164.0625,48293.03515625,69938.0234375,50309.78515625,61932.8984375,89933.609375,78868.484375,36859.05078125,73150.421875,80116.8671875,41054.3125,97998.8359375,55340.22265625,55893.4765625,73215.4609375,49428.765625,37799.81640625,34715.98828125,45214.8984375,62367.1328125,57966.58984375,71642.1796875,39651.51171875,104433.03125,23881.09375,49162.17578125,41833.83984375,38461.61328125,50376.80078125,69188.2421875,69057.328125,30266.48828125,51192.4609375,39749.16796875,33698.890625,57006.921875,80011.953125,40440.2890625,67871.4609375,30348.72265625,58268.171875,67209.6953125,50047.078125,79976.984375,41994.328125,91182.2265625,60664.5,64566.85546875,99962.5078125,33293.37109375,58448.375,61227.83984375,95443.8671875,69337.0625,30256.33984375,34715.98828125,49899.66796875,58448.375,94817.40625,92490.6953125,81755.0078125,76399.734375,81020.109375,34916.09375,36316.4453125,120342.9140625,21147.994140625,63906.29296875,41450.06640625,59386.78125,80491.421875,101791.6796875,106426.75,92121.2578125,80501.3046875,81664.0625,73770.3515625,42409.24609375,23172.80078125,107439.3203125,47407.15625,46231.48046875,53201.59765625,47715.640625,54544.41796875,49566.57421875,24145.396484375,32410.54296875,84187.84375,54339.125,33544.57421875,126724.84375,89900.5703125,57490.4453125,56961.78515625,23727.888671875,25525.859375,35660.359375,82508.5,58592.3203125,78243.7734375,63312.2109375,90975.59375,50145.7265625,79250.5078125,50376.80078125,35301.203125,59371.31640625,117772.8515625,67008.4765625,66519.0,47987.21875,48036.27734375,78656.296875,72175.5703125,32325.1875,111025.015625,82589.546875,41054.3125,74924.4609375,47329.8984375,107980.7890625,58024.19921875,90068.359375,94892.0390625,42634.3984375,40420.36328125,93801.765625,79439.2421875,35085.05078125,78429.1875,34406.8203125,55159.3359375,80667.3203125,50257.89453125,85478.5,63891.66015625,100559.1328125,54299.36328125,-9.794319152832031,70002.34375,52296.62109375,78820.1484375,20424.578125,74748.390625,45687.98046875,59585.09765625,58469.921875,66769.4453125,36491.1640625,86238.078125,69935.375,61101.98828125,48279.84375,32364.123046875,40311.0234375,51855.375,116230.53125,84187.84375,33774.40625,53983.39453125,66855.7890625,51745.98046875,64704.50390625,64099.4140625,54256.58203125,58906.265625,76570.8515625,18523.1875,87511.4375,34916.09375,64171.6484375,61530.6015625,69302.484375,89797.6953125,75908.1953125,44800.05859375,82227.015625,56552.76953125,73643.171875,49065.59765625,91464.8984375,119207.0859375,95334.0625,41028.98046875,31814.357421875,37645.66796875,76342.2265625,104306.40625,56160.2421875,35618.9921875,82730.8203125,53158.66796875,65109.99609375,57501.7890625,86966.9765625,47066.25390625,42381.95703125,54339.125,51717.16015625,35302.98046875,82933.2109375,82244.0703125,112190.125,86129.7890625,39743.125,145042.71875,28444.640625,86422.171875,76570.8515625,71512.6953125,52839.01171875,53734.82421875,41330.44921875,34355.0234375,51120.5625,70568.6015625,44266.95703125,31557.830078125,19091.072265625,101334.8671875,19688.298828125,38988.44921875,99766.6875,78833.734375,58457.14453125,36382.390625,95159.8046875,38489.4140625,99202.703125,89338.6640625,74229.9921875,58753.59765625,61577.88671875,57577.89453125,22466.798828125,54256.58203125,96647.546875,58120.1015625,42756.33203125,34001.890625,45276.40234375,31265.349609375,115341.3203125,69000.7421875,54943.4921875,87251.6484375,54639.6015625,56684.8984375,62166.734375,27243.3046875,63693.46875,94006.1953125,43671.53125,26842.447265625,96852.8359375,30764.884765625,32673.595703125,64991.9375,88958.703125,89933.609375,53148.59375,63081.6796875,6880.50634765625,62178.703125,57545.28515625,64211.0859375,90733.0,57695.88671875,45403.203125,24372.90625,51760.609375,82505.8671875,71596.5390625,35088.8125,60636.99609375,74400.34375,33409.30859375,56077.4453125,102905.109375,59710.3203125,93640.390625,55774.85546875,53565.18359375,31532.23828125,38906.40234375,67152.3828125,38307.23828125,16289.5390625,54094.703125,110092.8515625,58454.5859375,85956.8984375,49290.01171875,47954.24609375,61901.3203125,44149.82421875,106553.3359375,27631.599609375,64332.10546875,99407.8828125,45094.0546875,75315.5859375,58321.8203125,45454.1953125,77375.546875,79536.75,68154.78125,46787.28125,53201.59765625,69868.671875,46976.0,49812.390625,105812.265625,45387.10546875,28934.87109375,42658.46875,72080.8828125,69190.8984375,31167.515625,24339.888671875,58031.0703125,37854.1171875,138579.796875,48857.953125,38780.34765625,49761.7890625,74432.3203125,64456.96484375,23166.021484375,62044.25390625,30905.150390625,49095.7265625,69532.25,82714.4765625,45469.35546875,52610.35546875,118399.140625,62120.4296875,66953.140625,139641.34375,38287.6953125,38393.40625,39272.64453125,73688.4609375,84763.234375,47715.640625,75283.6328125,59071.6875,118017.40625,72399.390625,71429.921875,51093.25390625,43938.9140625,69642.90625,51223.9765625,38574.6171875,85185.75,36656.84375,86363.1171875,71596.5390625,99039.359375,61227.83984375,66268.1171875,75267.2265625,51223.9765625,81344.4921875,84501.015625,30637.84765625,123222.734375,56522.52734375,106034.1796875,53934.27734375,57295.52734375,66796.3125,83186.5859375,83925.0625,76392.53125,44709.21484375,57209.12890625,42409.24609375,3601.368896484375,30500.576171875,68191.3125,41376.91015625,35637.0859375,64015.62890625,55341.578125,36304.99609375,52037.1953125,35918.703125,78713.8828125,49065.59765625,79642.0234375,57422.52734375,83051.8828125,657.4681396484375,68724.6171875,60215.91796875,50343.65234375,89949.0625,11912.1181640625,79052.15625,64991.9375,92491.046875,38906.40234375,38396.2109375,39301.265625,87755.0703125,103891.171875,70693.796875,41784.46484375,35918.703125,74229.9921875,37034.50390625,39452.828125,42309.83203125,65581.328125,38675.78125,41784.828125,35224.48828125,41700.23046875,31535.03515625,78576.796875,41599.7890625,70122.5234375,44365.578125,78839.5390625,56967.94921875,79008.2734375,49146.625,75605.3828125,45770.4609375,60266.6328125,79742.3984375,98389.1328125,34763.59765625,74726.046875,35918.703125,36721.75390625,37252.9140625,91990.5,62416.05078125,72886.921875,87389.984375,103723.9375,75553.9140625,48096.0234375,38834.109375,52037.1953125,87800.0625,39508.17578125,70468.25,53717.12109375,56408.953125,38073.3125,72240.5625,103856.765625,36456.18359375,70031.96875,53931.8984375,69595.21875,55817.68359375,77184.9609375,47950.88671875,78656.296875,54427.30859375,68256.40625,51598.26953125,89118.5546875,51572.0625,56282.79296875,44541.16015625,37252.9140625,56293.91796875,58569.80078125,69521.3046875,73770.3515625,64035.69921875,51405.56640625,27585.556640625,112547.96875,30957.021484375,85910.0859375,95831.734375,92075.1015625,71429.921875,54422.00390625,23193.234375,71318.8359375,21050.109375,108896.5390625,85608.296875,37817.2578125,44353.64453125,37455.1875,74775.2734375,42120.12890625,76661.6328125,80744.21875,85078.3828125,55544.51171875,65113.44140625,85185.75,62065.85546875,33683.26953125,85357.7265625,31978.005859375,86517.1796875,34660.00390625,65304.9296875,70618.6015625,95991.25,88889.625,50257.89453125,52119.74609375,51923.08984375,54094.703125,35918.703125,47558.87109375,111581.5859375,99726.6875,50253.5859375,41784.46484375,49566.57421875,50001.2890625,82505.8671875,108061.03125,93280.453125,91779.1484375,27271.248046875,87957.1484375,51645.27734375,39562.01953125,96647.546875,97483.71875,50231.0703125,92031.265625,34238.66015625,91346.2265625,71794.3203125,81238.734375,48293.03515625,71794.3203125,93301.5234375,132624.578125,84758.46875,47896.4375,59796.76953125,59071.6875,63863.66015625,50488.89453125,117021.0078125,77797.03125,54347.85546875,96288.8046875,67240.703125,82174.390625,39432.4609375,85910.0859375,81415.5625,90023.5078125,91026.53125,42466.80078125,46211.63671875,52342.8125,61658.55078125,45387.10546875,79675.296875,34273.375,34273.375,62564.6015625,61901.3203125,64631.58984375,106792.2421875,65283.3359375,41333.0078125,82568.3125,42719.01953125,75363.8046875,58352.1328125,34238.66015625,101229.53125,88377.296875,69597.09375,33880.375,52739.95703125,74955.3671875,86550.15625,107746.828125,132253.890625,59454.94140625,49626.28515625,99444.8515625,98381.8828125,46234.28515625,82275.1171875,96658.6171875,47419.80859375,45368.80078125,30541.798828125,46976.0,34589.1484375,112211.5,41219.73828125,56082.78515625,24929.896484375,93785.96875,65417.78515625,79045.9765625,51570.98828125,45876.96875,45841.30859375,23718.197265625,69712.4375,84303.3359375,39749.16796875,86450.65625,101170.1484375,62244.36328125,114997.4140625,49892.890625,48696.2265625,14434.580078125,52739.95703125,44365.578125,79052.15625,75424.953125,59071.6875,123297.40625,42824.96875,34044.15234375,44149.82421875,65417.78515625,82568.3125,90230.953125,94846.7890625,41550.62890625,33424.5078125,45583.7734375,31609.5703125,42592.2421875,88787.09375,88045.828125,34684.60546875,31530.732421875,28071.306640625,68655.46875,81985.2109375,80744.21875,73098.4765625,86853.90625,85262.1953125,56028.48046875,49290.01171875,50085.2890625,40281.87109375,73526.6484375,43055.89453125,70396.296875,106055.1640625,90406.453125,63957.71875,59342.09375,55290.71875,48830.0703125,56082.78515625,99726.6875,70501.71875,59235.0078125,39452.828125,94230.7265625,49032.83984375,64332.10546875,39919.3203125,70976.4453125,41641.84375,122916.875,67240.703125,69190.8984375,83051.8828125,34111.015625,63013.3828125,66897.75,78817.0703125,67114.75,78687.5859375,91271.3359375,33272.30078125,38364.43359375,55159.3359375,87180.515625,67197.75,74726.34375,64514.57421875,55154.34765625,39996.19140625,28495.16796875,24259.232421875,89340.4921875,99003.96875,46450.0,103995.5234375,39021.859375,38541.171875,80483.0,49841.42578125,73609.46875,83462.890625,69090.6796875,59386.78125,29042.728515625,76128.671875,54486.4296875,54174.703125,25741.48046875,74400.34375,101963.859375,86129.8671875,51405.56640625,112493.4140625,68726.8828125,95691.28125,61253.65625,119747.8671875,68462.1484375,66268.2265625,65076.3046875,54106.08203125,44713.55078125,79405.359375,106055.1640625,33272.30078125,17315.498046875,94103.6328125,57577.89453125,37975.40625,57200.3359375,25082.009765625,65958.7890625,29231.1640625,82602.0390625,62870.921875,74738.8984375,54173.4375,97128.6953125,39233.01171875,59386.4453125,44001.74609375,60266.6328125,77035.1953125,104600.0078125,54726.16796875,74642.9375,24435.58203125,59386.78125,82568.3125,73119.1015625,74920.28125,51223.9765625,34219.85546875,105040.8203125,58179.1796875,87148.9375,53201.59765625,75641.1875,65948.40625,78501.75,58648.8515625,-365.3011779785156,30478.619140625,71956.03125,41938.671875,81441.9921875,48362.234375,61373.7109375,104433.03125,63906.29296875,57416.26171875,60450.72265625,59043.296875,56920.5078125,63693.46875,52986.390625,52324.31640625,85414.2109375,45272.46484375,40533.69140625,67525.7890625,47996.95703125,49249.15625,38500.6484375,64768.87890625,44986.2890625,39771.9453125,52620.20703125,90757.5703125,36305.0859375,85859.8359375,35594.13671875,39974.3515625,34115.625,111138.296875,78868.484375,58652.5390625,36338.16796875,87064.78125,32298.90625,47378.96484375,112807.4453125,55584.5625,113719.828125,83221.5234375,85414.2109375,139885.953125,38691.6171875,99122.546875,17151.041015625,103393.6640625,36357.375,60666.16796875,30648.8046875,44147.90234375,86083.7265625,90446.03125,90847.84375,44505.4609375,50610.51953125,44282.4140625,102108.296875,95140.6875,58670.58203125,37406.66015625,39272.59375,50803.03515625,47493.18359375,69546.8125,53158.66796875,100893.703125,39974.3515625,65934.125,106562.984375,93379.2265625,38544.58984375,46692.58984375,80444.2734375,79870.5703125,88381.65625,36940.03515625,38623.6796875,33692.453125,103326.0,85342.65625,82246.09375,101529.8828125,43953.33203125,54140.47265625,81053.34375,42159.8203125,67736.046875,94707.0859375,46066.24609375,71743.3125,76984.5234375,59788.1796875,18646.599609375,91323.6875,64798.734375,39893.42578125,79666.0859375,43336.1328125,95679.265625,61646.1015625,57791.02734375,67180.46875,53596.83203125,68781.15625,40779.2578125,75267.2265625,32101.955078125,57230.203125,35318.48828125,60137.3984375,55584.5625,40064.5546875,70897.8984375,67393.4921875,54575.05078125,59481.09765625,87452.59375,87573.0859375,38108.6796875,80791.546875,60140.01953125,91120.578125,48538.77734375,32867.7265625,56040.90234375,38500.6484375,36710.76953125,78429.1875,51228.01953125,53167.50390625,80491.421875,48254.94921875,43929.859375,43096.81640625,74812.4453125,38834.109375,52525.02734375,65442.8203125,46692.58984375,45372.64453125,67180.46875,47749.5703125,104938.2421875,84755.296875,56408.953125,76177.703125,140343.59375,30079.984375,61445.296875,31621.283203125,111099.921875,55857.00390625,41070.72265625,59339.58984375,32850.703125,100262.9140625,120542.1640625,47470.59765625,71094.5546875,108034.7734375,35305.21484375,35763.859375,33951.12890625,76283.453125,83258.7265625,33797.60546875,30166.78125,22804.283203125,90673.0859375,32799.81640625,38364.43359375,73671.234375,86450.65625,39651.51171875,48014.75390625,60778.734375,86458.5234375,39301.265625,53059.38671875,52480.609375,82964.75,48096.0234375,102488.1328125,58037.58984375,79400.6796875,22497.646484375,70618.6015625,44409.546875,85171.234375,101690.640625,51717.16015625,99305.296875,41599.7890625,58868.01171875,41641.96875,48280.265625,32586.88671875,45036.18359375,34220.8828125,29659.73828125,34635.5390625,34024.92578125,91935.0703125,38514.19921875,44775.7734375,34220.8828125,74812.4453125,37205.6796875,85955.0,51527.12109375,34154.85546875,47514.5078125,100038.921875,45251.32421875,39402.83984375,53749.51953125,23231.013671875,33343.9140625,67197.75,45556.10546875,70735.8046875,54845.875,45583.7734375,68347.6484375,28024.654296875,117561.578125,29550.865234375,91349.890625,49249.15625,51875.78515625,47455.265625,92299.0859375,108345.6484375,21875.13671875,39651.51171875,66412.015625,90143.2734375,25946.158203125,66166.78125,85541.8125,90673.0859375,64053.46875,88406.21875,57950.7890625,73555.6640625,32091.90234375,145435.6875,60170.4140625,62576.6953125,45583.7734375,100118.796875,69595.21875,100101.65625,54807.38671875,90896.15625,42777.125,37228.40234375,53611.82421875,50173.45703125,31893.00390625,70931.5546875,89065.8671875,54256.58203125,84050.703125,31557.830078125,69047.390625,62327.3125,45346.00390625,41317.58203125,47855.5078125,68464.6796875,113918.734375,90758.65625,70635.625,49162.17578125,48772.0234375,49656.765625,38433.89453125,72573.734375,53596.83203125,29609.474609375,55977.1640625,67649.90625,79333.7890625,39301.265625,67152.3828125,79755.0625,36490.3671875,60670.46875,39023.65625,45368.80078125,79666.0859375,74872.984375,35597.24609375,71970.75,59946.6015625,99199.703125,27043.8125,45616.6796875,23644.138671875,85390.390625,32506.666015625,81415.5625,42634.3984375,50239.2890625,64693.84375,29091.97265625,49626.28515625,52143.515625,63299.12109375,54152.87109375,34049.53515625,46851.0390625,71596.125,74468.6640625,70610.2421875,83751.6953125,22491.54296875,100800.3046875,102763.7265625,97998.8359375,68475.0625,57490.4453125,94892.0390625,43154.84375,87165.8203125,85234.703125,44071.4921875,137714.484375,64369.2578125,88948.34375,90586.171875,83622.78125,59088.74609375,39371.54296875,33345.1171875,107920.9609375,87611.5625,22249.330078125,43929.859375,79778.890625,72968.078125,77367.2265625,60737.93359375,86287.8203125,78254.1953125,58924.0859375,83407.171875,41897.59765625,73004.1640625,50314.71875,62243.8828125,45343.7578125,58120.1015625,39301.265625,50388.1875,82324.2421875,67521.7734375,79666.0859375,41477.66796875,82933.2109375,48124.83984375,45234.24609375,77815.75,56018.08203125,48096.0234375,96185.4140625,20135.90625,38179.44921875,100627.734375,48458.5,85859.8359375,59554.2265625,34628.0703125,70277.8984375,33013.80078125,49552.3046875,38780.34765625,54129.76171875,73849.0234375,64176.18359375,102392.7265625,21642.109375,78151.4765625,77815.75,52280.89453125,34049.53515625,86972.3515625,61373.7109375,91940.7890625,81953.046875,78045.375,84906.3515625,51685.8203125,80540.4609375,62461.76171875,92824.125,91464.8984375,56697.30859375,47896.4375,37980.25,107591.328125,56230.3203125,34406.8203125,68153.109375,42777.125,60837.5390625,120350.2890625,56028.48046875,134189.265625,39932.84765625,90120.3515625,60450.72265625,66418.328125,89152.875,103943.109375,61371.546875,108536.71875,67780.96875,70895.921875,40404.7265625,31857.76953125,48096.0234375,43881.96484375,92617.640625,51002.890625,55554.12109375,54580.203125,70122.5234375,44450.375,72591.859375,39562.01953125,69147.15625,35580.16796875,81291.9609375,80096.078125,55235.609375,52167.1796875,61227.83984375,56697.30859375,21300.302734375,67148.8359375,53717.12109375,35687.98046875,51186.703125,61623.9609375,103515.640625,91065.421875,102513.4765625,61371.828125,43671.53125,68937.3359375,60273.52734375,37722.20703125,44414.9609375,38898.9921875,97953.8046875,83050.328125,91200.9609375,70309.84375,36953.43359375,49290.01171875,78126.25,95159.8046875,55285.1953125,21345.494140625,39402.83984375,49021.875,42857.0546875,78731.2734375,28259.529296875,61927.5390625,41638.5234375,92106.140625,59400.7109375,88831.65625,41070.72265625,60376.3203125,49032.83984375,38544.58984375,53201.59765625,71627.1328125,92025.8671875,37371.73046875,47063.32421875,38691.6171875,74303.09375,63062.9921875,80007.484375,30232.83203125,57243.52734375,57880.69921875,56816.75390625,39679.15234375,23612.359375,65841.5546875,44266.95703125,13794.453125,39301.265625,40249.58984375,41045.1015625,79400.6796875,60993.17578125,92658.3984375,34142.05859375,30912.86328125,59386.78125,42291.5390625,47105.8203125,77385.171875,84771.859375,50890.98828125,99848.828125,51007.38671875,61711.72265625,97484.0546875,96453.8984375,85859.8359375,30637.84765625,24755.20703125,81401.421875,64660.66015625,40368.78515625,38500.6484375,71075.328125,50388.1875,49523.57421875,79180.59375,64805.5546875,66854.4296875,39679.15234375,59586.125,95079.984375,47824.19140625,77129.3828125,69603.7109375,38222.95703125,38691.6171875,45160.07421875,45214.8984375,117130.7421875,31187.966796875,39996.19140625,38834.109375,56581.20703125,95647.0,82246.09375,58369.05078125,79333.7890625,98327.8515625,69497.6015625,39919.3203125,98162.6875,46754.859375,67984.390625,54603.984375,65811.640625,64718.6171875,63768.703125,50548.69140625,40532.6953125,54842.46875,30408.353515625,28577.197265625,19433.087890625,77522.2890625,77385.171875,57285.546875,95791.0546875,52739.95703125,83400.6015625,50399.2109375,54078.02734375,83268.296875,48321.05859375,47868.77734375,49684.17578125,111638.6328125,27568.44140625,27631.599609375,53158.66796875,59088.74609375,37990.82421875,33535.5078125,86866.8125,63915.671875,85629.6015625,23102.580078125,72009.03125,69512.109375,78923.34375,44736.0859375,118195.078125,33157.28125,48096.0234375,60992.9140625,57695.11328125,88972.953125,36497.18359375,46703.828125,51071.23828125,43928.09765625,36436.953125,104367.640625,78741.609375,66203.3046875,50184.640625,65933.875,50687.88671875,85457.859375,57416.26171875,93684.1875,66933.953125,38918.421875,82889.71875,110728.140625,61684.8203125,35728.4140625,41028.98046875,102763.7265625,48141.44921875,36493.9375,33036.56640625,77994.4765625,76630.84375,44262.19140625,84217.0078125,77230.03125,39301.265625,123625.671875,79755.0625,53771.93359375,72785.46875,38581.69140625,38501.40625,111063.3359375,61311.8359375,84594.046875,38544.58984375,32620.029296875,91145.6953125,68937.3359375,56708.30078125,48538.77734375,54499.5859375,35973.48046875,79052.15625,86084.8125,33535.5078125,93847.3203125,52388.07421875,46055.86328125,67907.3671875,42410.92578125,32311.69140625,50979.15625,101557.96875,55636.328125,101705.5234375,55690.03125,60005.5703125,88371.25,43956.65625,27027.419921875,31535.03515625,64846.27734375,49185.91796875,63630.74609375,55367.98828125,100561.8984375,94332.8984375,77359.6015625,101557.96875,38206.6796875,37238.5703125,77068.8984375,78656.296875,92597.546875,41045.1015625,72069.6796875,92726.015625,29532.345703125,46520.58984375,73004.1640625,40823.25390625,68624.265625,81199.46875,99726.6875,32776.625,79169.6484375,38917.875,42905.11328125,52739.95703125,133799.671875,60612.609375,48096.0234375,62986.609375,81441.9921875,71576.8671875,24012.744140625,73717.0078125,67386.5703125,87511.4375,40155.765625,42634.3984375,67543.78125,106190.484375,62844.01171875,55087.8671875,94985.03125,118238.421875,76570.8515625,83234.8203125,59479.29296875,64839.11328125,52296.62109375,86490.5546875,35209.87890625,40571.640625,30266.48828125,39501.546875,50460.80859375,86016.046875,33797.60546875,80036.5703125,72151.1328125,46682.47265625,58835.66015625,54086.75,64250.40625,87371.9609375,44078.21484375,65316.8515625,73938.2578125,47896.4375,65242.87109375,24808.1640625,44382.36328125,50887.48828125,51855.375,60750.08203125,39324.42578125,88615.96875,45693.3671875,91782.734375,134482.671875,64035.69921875,38603.640625,46211.63671875,36432.8359375,90068.359375,35944.3671875,67197.75,51228.01953125,70184.6015625,114156.828125,40077.875,75457.125,72738.2890625,51366.64453125,42348.2734375,32388.482421875,66933.953125,51421.8828125,40454.69140625,70547.2265625,44001.74609375,65568.453125,32854.05078125,91594.0390625,54848.34375,82840.7109375,88387.3515625,4182.5712890625,86554.421875,55789.76171875,88100.0703125,79870.5703125,37389.71875,101356.6796875,42159.8203125,37127.94140625,120513.6015625,23881.09375,67197.75,51717.16015625,88933.375,80983.078125,38983.0625,52920.42578125,85234.703125,41330.44921875,87373.1796875,70176.1328125,59385.38671875,108236.6484375,73295.578125,82646.8359375,76913.109375,82036.7890625,32673.595703125,96647.546875,40533.69140625,73053.2265625,75847.7890625,56034.66015625,36865.4765625,64882.86328125,99276.7109375,57285.546875,45094.0546875,41098.21484375,46943.85546875,36631.65234375,94722.3984375,40368.78515625,54533.79296875,56040.90234375,69546.8125,59796.76953125,61017.8984375,86452.03125,74602.9140625,44282.4140625,85478.5,55724.5625,76984.5234375,30318.880859375,41849.8828125,60107.91796875,58448.375,37048.34765625,102488.1328125,86887.5078125,72924.8984375,35326.87890625,37292.51953125,40077.875,63193.96484375,49899.66796875,40916.73828125,30295.8515625,53346.88671875,49812.390625,32734.1484375,93914.546875,63299.12109375,46431.546875,55584.5625,80603.8046875,52007.875,31323.30078125,77749.7734375,88817.6640625,90540.2578125,51852.03125,72325.546875,80907.71875,78355.75,56954.31640625,65344.1328125,37313.44140625,67460.7421875,86598.59375,73282.4296875,65384.94921875,88634.4140625,33989.4453125,50537.01953125,63893.30078125,86563.625,101634.28125,39212.55859375,102632.6484375,67206.59375,77375.546875,24273.353515625,91779.1484375,67736.046875,101371.3515625,110165.0546875,75457.125,36484.125,49394.03515625,89574.015625,66983.8828125,43507.5625,52477.93359375,42118.49609375,66213.9765625,69184.8203125,91320.890625,92523.6328125,121996.421875,30544.65234375,51717.16015625,53167.50390625,69110.2421875,78829.140625,44803.6875,32127.5390625,55636.328125,51952.578125,38367.05078125,36202.43359375,85629.6015625,43149.26953125,90074.4609375,33192.63671875,41070.72265625,77367.2265625,57102.41796875,75315.5859375,76340.625,69521.3046875,41039.03125,36538.27734375,41527.6796875,80916.3359375,43744.83203125,68477.84375,42381.95703125,43247.484375,89843.734375,45343.7578125,82508.5,83924.90625,52037.1953125,40139.0078125,72257.796875,50231.0703125,66687.046875,52296.62109375,38691.6171875,40538.07421875,61507.4609375,97484.0546875,38214.66015625,26166.419921875,61242.03515625,76717.4140625,96165.953125,93186.3125,79381.7421875,63146.953125,71100.09375,102100.09375,83050.328125,91464.8984375,55317.40234375,36865.4765625,30544.65234375,98764.734375,50979.15625,44249.953125,51836.6796875,73167.0859375,69329.6875,62518.6484375,42428.95703125,120342.9140625,90883.7109375,40249.58984375,43507.5625,105836.109375,68028.515625,40255.46875,93683.5,110383.875,81990.3203125,73004.1640625,82338.1484375,58556.02734375,91990.5,73713.1015625,39596.69140625,45346.00390625,17970.125,73592.3125,83407.171875,77815.75,58020.33984375,76654.7734375,37098.26171875,77195.6171875,50160.484375,49065.59765625,77049.0625,47987.21875,76074.984375,74303.09375,48808.3359375,100806.6953125,26866.9765625,21062.65234375,56055.0234375,90864.640625,83400.6015625,79870.5703125,74519.765625,58469.921875,48293.03515625,31258.87109375,89797.6953125,93515.828125,20360.509765625,78676.8359375,92965.1328125,58740.50390625,43478.18359375,56389.08984375,57295.52734375,59055.4296875,55468.48828125,100572.515625,76968.71875,23427.66796875,44882.46875,20158.837890625,82840.7109375,54094.703125,41477.66796875,112957.3046875,34598.171875,67141.3359375,39679.15234375,107214.546875,74400.34375,74351.828125,91990.5,42151.73046875,53335.29296875,70420.4609375,45083.9609375,70031.96875,81415.5625,46976.0,65417.78515625,123297.40625,38363.80078125,70421.8359375,44409.546875,86129.7890625,84701.796875,36336.4765625,54358.2421875,17986.1796875,88074.6015625,41955.05078125,81238.734375,62755.9140625,31600.7578125,58020.33984375,64053.46875,77702.6328125,50803.03515625,76092.0234375,46198.89453125,23749.55859375,77799.59375,41053.15625,63686.296875,40710.23828125,34437.8828125,45862.3359375,53418.875,48089.56640625,38360.40625,31655.15234375,57297.8125,63864.25390625,42036.39453125,80966.0859375,76968.71875,43504.0,60296.30859375,43505.08984375,59055.4296875,56362.203125,70872.2265625,40688.09375,91731.765625,39562.01953125,95940.8984375,54585.47265625,84758.46875,51071.23828125,44648.7890625,48808.3359375,66456.71875,53201.59765625,34044.53515625,71817.2734375,81755.0078125,121454.2734375,88252.1640625,34807.60546875,89308.7890625,67736.046875,74206.2265625,42634.3984375,75153.2578125,85049.6484375,67186.3125,37272.19921875,38514.19921875,56452.421875,52071.08984375,51875.78515625,82481.9375,51232.6484375,50231.59375,62142.4765625,93967.609375,34193.76171875,40077.875,45403.203125,53361.39453125,52037.1953125,67660.734375,44775.7734375,38656.9296875,36314.86328125,69349.4921875,62044.25390625,42824.96875,41875.8828125,83265.6171875,59617.56640625,35608.2265625,45693.3671875,62461.76171875,31678.837890625,73335.1875,101131.765625,59528.859375,55909.3046875,83172.828125,43881.96484375,81238.734375,36094.625,62052.35546875,53626.4140625,19688.298828125,51717.16015625,65826.4140625,49781.8203125,47896.4375,52525.02734375,56082.78515625,32101.955078125,50887.48828125,52425.40625,27408.416015625,41599.7890625,34640.546875,51838.22265625,26816.8046875,39740.7734375,39301.265625,86816.7578125,88628.359375,73098.484375,96404.03125,49845.82421875,43670.84765625,53908.078125,36464.3359375,47715.640625,28504.521484375,57932.09765625,108896.5390625,62178.703125,43504.0,47193.98828125,73308.125,122471.03125,48850.6796875,45583.7734375,90460.5078125,73609.46875,66270.3203125,103856.765625,69595.21875,82508.5,34273.375,44266.95703125,90254.9453125,89574.015625,34194.7265625,41550.62890625,62166.734375,36865.4765625,50498.17578125,22860.849609375,32298.90625,75363.8046875,45542.265625,60470.4140625,42779.921875,76901.3984375,70367.1015625,71204.3203125,28934.87109375,41784.46484375,52027.41015625,49224.2578125,58743.12890625,58906.265625,79722.3671875,67240.703125,48034.4921875,96966.1796875,64781.1796875,36935.72265625,82281.2734375,30396.71484375,56082.78515625,78677.8671875,79673.8671875,54561.09765625,67470.3984375,35224.48828125,70765.609375,78868.484375,48340.80078125,92597.546875,87403.0390625,47806.89453125,31978.005859375,71088.140625,79838.9140625,49728.8359375,86126.421875,44149.82421875,38073.3125,67726.078125,95596.8828125,27581.240234375,63844.58984375,30918.349609375,84763.234375,98872.859375,82324.2421875,65813.28125,52839.01171875,48028.62890625,65385.01171875,53717.12109375,92658.3984375,57094.08984375,96749.6484375,40353.53515625,50717.8046875,64991.9375,33698.890625,54800.55859375,21516.794921875,40415.85546875,48096.0234375,85910.0859375,83260.078125,77408.6953125,25029.146484375,71554.796875,38489.4140625,45488.70703125,36826.2578125,83731.296875,33123.8046875,41053.15625,56317.97265625,80259.3125,60038.0078125,57154.11328125,98374.8828125,37906.87109375,56566.29296875,100559.1328125,91182.2265625,42857.0546875,78556.6171875,77499.53125,78247.1171875,36755.56640625,97483.9296875,77461.71875,52268.16015625,45806.80078125,42036.39453125,56210.03515625,78820.1484375,92760.234375,47768.23046875,85786.7890625,84755.296875,66798.609375,53158.66796875,47174.08203125,60163.51953125,101894.9296875,71520.09375,116283.75,59400.7109375,63147.1484375,56517.578125,28661.59765625,95490.921875,59335.05859375,36357.375,50399.2109375,85082.1875,72009.03125,81459.875,78593.5859375,47538.20703125,52525.02734375,77195.6171875,37496.41015625,80994.5546875,49065.59765625,32122.994140625,69801.4453125,52132.76953125,98109.5703125,83159.4453125,32888.5859375,49728.8359375,87573.0859375,62730.234375,106721.703125,70174.953125,78868.484375,78703.96875,95561.109375,79785.453125,41849.8828125,75148.703125,55723.48828125,93640.390625,60010.01171875,42872.2109375,43928.09765625,81664.0625,58648.8515625,95681.4375,99737.6796875,57632.46484375,94209.21875,73613.4296875,116448.6953125,32293.28125,20081.40234375,50739.81640625,94073.5234375,83924.90625,59689.5859375,94638.703125,50257.89453125,42723.2265625,68089.28125,48124.83984375,83910.953125,41424.6796875,49026.8046875,36968.484375,45152.2265625,23166.021484375,100279.140625,75312.3828125,106054.703125,69188.2421875,44812.49609375,46490.8125,39062.03515625,79400.6796875,42017.13671875,45156.46875,52119.74609375,52425.40625,52893.8125,52374.30078125,70216.078125,77235.640625,73938.2578125,38381.12890625,41330.44921875,63891.66015625,66731.4296875,38834.109375,60736.19921875,82644.3984375,42865.26953125,37655.38671875,43744.83203125,87778.1484375,61858.28125,94892.0390625,72738.2890625,88368.5859375,42101.21484375,39603.234375,44055.0546875,42045.1015625,67197.75,59320.8828125,25629.376953125,35623.61328125,79052.15625,38500.6484375,53712.3046875,78791.0234375,46527.6953125,83924.90625,60266.6328125,35613.8671875,42556.92578125,55817.68359375,67197.75,67468.7578125,59523.87890625,69395.8125,55772.9609375,90718.765625,82644.3984375,54069.21875,50803.03515625,69047.390625,956.4146118164062,106055.1640625,72983.2421875,39701.9453125,88747.921875,91906.15625,56986.80859375,49249.15625,68381.09375,99003.96875,58869.29296875,34955.484375,31893.00390625,66074.9296875,52984.609375,31535.03515625,86016.046875,44115.3515625,60993.17578125,12112.005859375,44071.4921875,74639.9453125,115615.375,34635.5390625,65850.9609375,50304.26953125,48226.9765625,54770.171875,40548.23828125,53720.99609375,91250.03125,47956.9453125,81879.171875,83964.8046875,81793.1640625,93647.9921875,51366.64453125,34120.6171875,37799.81640625,34001.890625,95818.1953125,63219.28125,54485.625,33599.140625,61371.546875,50257.89453125,65283.3359375,79573.8515625,50852.4609375,50381.71484375,3659.714599609375,65646.7109375,94581.0859375,83997.328125,82841.4296875,58293.609375,34122.171875,52425.40625,36218.9140625,51547.1953125,64371.1015625,80320.0,52766.40625,51190.8359375,67134.15625,80901.8984375,42872.2109375,67389.1875,95647.0,101963.859375,83056.0546875,110171.3984375,80320.0,37329.30078125,50017.859375,31513.82421875,45589.12890625,48920.37890625,58743.12890625,40113.5859375,72622.09375,31881.63671875,64991.9375,54002.63671875,55774.85546875,61947.87890625,63811.66796875,47012.37890625,26842.447265625,80936.3984375,50173.45703125,46285.4921875,92280.859375,64945.31640625,47335.9453125,25668.13671875,50343.65234375,60615.90234375,35743.8359375,85049.6484375,76065.453125,52425.40625,73346.765625,49816.84765625,74667.0703125,61445.296875,67521.7734375,47418.859375,34509.203125,62065.85546875,98310.015625,54255.23828125,53214.4140625,50488.89453125,57632.46484375,64440.40234375,38691.6171875,95206.0859375,57276.80078125,74872.984375,72223.8671875,69801.4453125,63121.19921875,72532.234375,65895.4609375,87518.5625,49812.390625,99305.296875,132624.578125,37313.44140625,45016.57421875,54147.71875,113568.6328125,61793.97265625,35637.0859375,47956.9453125,47538.20703125,96751.2109375,91018.328125,84381.2890625,69595.21875,54703.33984375,41641.96875,41069.93359375,41349.98828125,90875.8046875,71100.09375,84296.765625,56552.76953125,80480.921875,36089.7734375,88045.828125,90940.34375,89152.875,25026.22265625,28074.96875,72738.2890625,52616.453125,43866.828125,108944.3984375,78741.609375,38461.61328125,65774.2578125,46892.484375,46851.0390625,45368.80078125,66006.5,51405.56640625,62545.41796875,95679.265625,106506.0390625,56765.65625,95991.25,68330.109375,83137.3359375,60005.5703125,41393.94921875,64810.00390625,126848.9921875,33996.578125,93145.7578125,35594.13671875,35120.98828125,78820.1484375,42120.12890625,97894.375,45321.296875,56581.20703125,60713.25390625,57219.97265625,62416.05078125,49787.69921875,44147.90234375,73770.3515625,81647.5390625,30697.625,173.01451110839844,47558.87109375,104393.421875,41947.3359375,56028.48046875,93708.8828125,73484.2109375,83714.7265625,55544.51171875,53965.12109375,144751.4375,47335.9453125,85573.921875,27952.837890625,122429.609375,91182.2265625,86470.3046875,118259.8203125,45469.35546875,42716.70703125,83634.59375,37205.6796875,50776.43359375,62327.3125,62576.6953125,79666.0859375,49128.390625,58743.12890625,39020.5703125,67389.3203125,59043.296875,85262.1953125,80314.09375,57018.35546875,87053.4140625,104630.9453125,74363.4140625,86866.8125,58580.3046875,59796.76953125,87435.8046875,63950.5078125,25450.60546875,66855.7890625,90019.6171875,64332.10546875,83159.4453125,48516.640625,33087.125,133481.734375,50776.43359375,50160.484375,40138.29296875,69405.78125,77195.6171875,32626.84375,50843.80859375,91026.53125,74602.9140625,55709.83203125,58906.265625,86792.7265625,39447.1796875,48597.4140625,42163.65234375,65702.8125,32580.19140625,97845.78125,116952.7421875,81053.34375,51697.0,55200.390625,35612.3671875,93505.3359375,53242.10546875,57209.12890625,76968.71875,82659.0390625,83930.453125,119129.5,35612.3671875,65481.0703125,47950.88671875,37655.38671875,41792.1796875,58861.71875,105836.109375,46150.578125,77320.0703125,81825.90625,57219.97265625,78493.71875,94985.03125,78685.875,42824.96875,38054.87109375,68191.3125,78429.1875,103995.5234375,81398.9453125,62973.48828125,52630.79296875,40468.24609375,60376.3203125,51560.5078125,49394.03515625,69579.921875,54980.32421875,65948.40625,127826.5078125,57936.98046875,42036.39453125,31557.830078125,80667.3203125,44055.0546875,92280.1953125,92212.6484375,78327.296875,64160.4765625,90122.28125,62896.8671875,41053.15625,36865.4765625,36464.3359375,61294.90234375,54347.85546875,38035.75390625,103741.8671875,49812.390625,55782.5234375,35514.046875,86593.171875,51715.1484375,95403.6875,78452.734375,85608.296875,34355.0234375,80540.4609375,32731.443359375,94209.21875,32446.09375,46234.28515625,102342.0390625,52517.3828125,47950.88671875,88513.6953125,76138.390625,32244.462890625,60296.30859375,40533.69140625,75967.03125,73688.4609375,58924.0859375,49626.28515625,63891.0859375,53346.88671875,28083.78515625,33813.02734375,89711.75,73520.8515625,91915.5234375,84501.015625,52893.8125,43341.90625,81915.140625,123070.40625,94111.09375,51889.9375,81754.890625,66897.75,79644.5078125,50454.99609375,39035.2578125,43505.08984375,47193.98828125,49523.57421875,85649.046875,76349.421875,98122.625,52166.9765625,36464.3359375,45784.60546875,64007.359375,61242.03515625,91182.2265625,58457.14453125,77749.7734375,53924.8359375,46269.7578125,53749.51953125,87764.7421875,54074.17578125,49812.390625,74620.3671875,80255.15625,96775.015625,20488.52734375,108536.71875,57240.3984375,27773.783203125,17178.509765625,52955.3046875,83234.8203125,87518.5625,40412.18359375,12076.6767578125,60636.390625,66604.265625,38779.78515625,76645.6953125,54011.609375,94563.734375,94158.5234375,65085.37890625,90913.703125,39625.5390625,57276.80078125,87496.6484375,49290.01171875,75553.9140625,70025.90625,62455.6875,62403.8984375,50802.140625,54011.609375,49224.2578125,64781.1796875,74126.2890625,49523.57421875,42756.33203125,88377.296875,64991.9375,35416.140625,53059.38671875,37833.6796875,52487.640625,102044.0703125,23585.962890625,31752.353515625,48226.2734375,67148.8359375,70722.0078125,31258.87109375,62461.76171875,82128.2578125,91695.4140625,45160.07421875,25277.642578125,50132.4453125,69349.4921875,38603.640625,67197.75,38363.80078125,103785.0078125,46108.85546875,85234.703125,82508.5,54096.484375,38364.43359375,82481.9375,70036.6640625,46266.515625,105443.1328125,78923.34375,54664.87109375,63811.66796875,66798.609375,102711.7578125,4358.529296875,48884.78125,60450.72265625,103893.265625,77242.8203125,59335.05859375,51855.375,108274.921875,47174.08203125,91263.6796875,52922.73046875,45693.3671875,37419.84765625,71818.7109375,36143.0625,37127.94140625,64309.0234375,46703.9296875,46943.62890625,95298.390625,74303.71875,23195.908203125,35728.4140625,103590.203125,54980.32421875,70122.6875,95742.078125,30714.388671875,54651.0625,30968.845703125,92280.1953125,93505.3359375,91841.953125,88368.5859375,42371.50390625,41947.3359375,103878.53125,98106.90625,104630.8359375,114460.3671875,26926.033203125,78254.1953125,84543.671875,87911.078125,38691.6171875,122126.90625,42716.70703125,82268.0703125,70306.5859375,36807.52734375,77235.640625,33587.3984375,96596.625,35139.0,72249.546875,73085.5625,83538.1171875,90813.9296875,49787.69921875,67460.7421875,62947.32421875,78516.515625,85049.6484375,80244.1171875,33855.96875,72669.015625,87496.6484375,68409.6328125,49290.01171875,99305.296875,55149.31640625,90261.890625,47193.98828125,100561.8984375,56954.31640625,43928.09765625,50380.15234375,45156.46875,45083.9921875,53242.10546875,53167.50390625,69545.9921875,90459.4453125,47956.9453125,82227.015625,79405.359375,101963.859375,61104.90625,89181.296875,38342.9375,48516.640625,77049.7734375,65837.2265625,36484.125,85414.2109375,81452.0390625,65568.453125,129407.2890625,79960.9375,117121.765625,102905.109375,60288.6484375,50887.48828125,39129.77734375,22213.55859375,40205.609375,134067.125,61373.7109375,74639.9453125,73084.2578125,26798.564453125,64947.46484375,45276.40234375,37323.421875,56047.0,69935.375,53201.234375,76290.46875,48226.9765625,51855.375,99695.59375,86866.8125,68756.5625,73132.6171875,81664.0625,115924.6640625,89933.609375,91604.1796875,56934.83984375,40136.4375,74632.46875,63013.3828125,60663.91015625,94856.1640625,90143.2734375,88406.21875,58005.03125,64316.64453125,49211.68359375,47806.89453125,73308.125,97409.578125,51223.9765625,62178.703125,77808.375,43928.09765625,91002.390625,58339.26953125,60615.90234375,77184.9609375,56524.296875,41270.66015625,69603.7109375,89688.796875,23597.353515625,93208.1953125,44071.4921875,86550.15625,52119.74609375,43341.90625,88694.84375,48170.90625,38364.43359375,70872.2265625,48188.421875,23881.09375,71804.4921875,66355.40625,67557.1484375,38533.390625,58345.23828125,71842.0546875,45094.0546875,35623.61328125,61947.87890625,94111.09375,41967.015625,33813.02734375,87755.0703125,67203.21875,77602.7578125,43336.1328125,37371.21484375,54106.08203125,36586.62109375,80320.0,50231.0703125,31476.56640625,68922.8828125,9171.4599609375,41331.08984375,43149.26953125,81868.2421875,62230.203125,75646.8125,79966.8046875,87957.1484375,58271.1796875,41403.27734375,46851.0390625,24538.21875,46911.27734375,54049.01171875,65442.8203125,136956.46875,77359.6015625,49290.01171875,102079.9140625,59710.3203125,25479.6015625,58843.69140625,73004.1640625,73346.765625,57149.953125,71179.234375,36786.12109375,44246.22265625,102982.4453125,76280.84375,37341.3515625,59055.4296875,61001.3046875,99003.96875,84883.3359375,55584.5625,47020.90625,84271.09375,25151.69921875,54002.63671875,68696.7265625,36334.12890625,56708.30078125,98327.8515625,32426.857421875,28938.86328125,94148.0625,42782.2265625,52453.38671875,47012.37890625,94638.703125,53487.546875,41641.96875,62378.33203125,27322.099609375,73161.8984375,106978.3359375,85793.65625,40872.69921875,37431.5,51435.3515625,24393.14453125,57006.921875,83691.5703125,52884.61328125,84883.3359375,91065.421875,107439.3203125,93906.421875,85357.7265625,58653.75390625,74468.6640625,47420.09375,53158.66796875,87615.265625,54230.56640625,125171.5703125,92627.2890625,82086.6171875,67029.4921875,49812.390625,40353.53515625,50776.43359375,24047.556640625,76968.71875,107328.8671875,45481.6875,81239.4140625,35003.51953125,56765.65625,50251.9375,47335.9453125,33698.890625,49787.69921875,79702.546875,138247.75,67240.703125,41053.15625,92739.3671875,83929.4296875,56507.6015625,92280.859375,43032.13671875,66166.78125,87518.5625,93464.5859375,54663.8359375,90225.890625,53541.38671875,51097.02734375,74801.625,63176.23828125,42383.37109375,74966.703125,38367.05078125,73150.421875,54580.203125,74229.9921875,35305.21484375,64422.046875,90449.3828125,114500.0390625,49032.83984375,75605.3828125,41330.44921875,67197.75,62896.8671875,57502.74609375,48096.0234375,47105.8203125,51192.4609375,70895.921875,63901.17578125,70372.796875,100132.4296875,43389.734375,92532.984375,56581.20703125,51216.19921875,58110.453125,73171.3046875,59796.76953125,76984.5234375,98759.0390625,33835.890625,21088.50390625,45912.5,87289.6328125,114660.6796875,49249.15625,80667.7734375,42477.0390625,10890.6181640625,102800.453125,78050.0859375,82941.1328125,47493.18359375,59796.76953125,101642.8125,43034.1015625,96775.015625,92225.3515625,78753.25,57776.45703125,46865.12109375,38179.44921875,35355.20703125,104803.921875,94332.8984375,44483.43359375,39743.125,51093.25390625,39605.734375,60752.66796875,38307.23828125,50047.078125,87289.6328125,116357.21875,65344.1328125,24012.744140625,29838.736328125,70719.140625,111171.875,49545.58203125,37224.21875,57791.02734375,37371.73046875,91065.421875,55451.84375,62545.41796875,60163.51953125,70868.4453125,82864.921875,44409.546875,73688.4609375,76758.3359375,82646.8359375,52027.41015625,31900.25,76016.0703125,28464.234375,83902.4296875,85336.0546875,53220.75390625,72968.078125,36786.12109375,38489.4140625,42513.3125,73105.984375,52159.671875,97239.71875,68477.84375,23849.07421875,42756.33203125,98872.859375,63146.953125,38073.3125,92288.9609375,53358.33984375,28435.5078125,42692.1484375,53158.66796875,59719.0234375,54152.87109375,53242.10546875,59335.05859375,101363.90625,52388.07421875,64377.1640625,60763.3984375,109808.046875,73874.1796875,96935.3828125,49523.57421875,31037.861328125,54832.8125,48753.8359375,91042.2578125,91622.4140625,29694.474609375,60497.72265625,62367.1328125,55639.67578125,69532.25,31978.51953125,84763.234375,60737.93359375,70421.8359375,44365.578125,45368.80078125,88074.6015625,55015.0234375,39301.265625,62896.8671875,109781.390625,46175.4375,37398.96484375,28914.37109375,34220.8828125,76177.703125,44505.4609375,52739.95703125,71992.921875,43100.1484375,69779.953125,47606.625,53572.24609375,40933.73046875,128457.5078125,54255.23828125,44045.67578125,60548.62109375,72532.234375,23277.044921875,103571.0703125,46836.02734375,111025.015625,73205.53125,82644.3984375,38312.35546875,39062.03515625,64116.6328125,89001.734375,42742.5546875,71132.828125,102763.7265625,89024.703125,76016.0703125,97239.71875,29381.154296875,37329.30078125,81990.3203125,87884.265625,53148.59375,57980.515625,55651.16015625,37457.7421875,57966.58984375,59860.65234375,27171.49609375,53541.38671875,33855.96875,78991.5703125,33345.1171875,32850.703125,58024.19921875,79342.96875,58835.66015625,66687.046875,74770.6875,66988.59375,92288.9609375,32179.154296875,87452.59375,86967.78125,84271.09375,70309.84375,24778.611328125,96512.1796875,114488.453125,83314.3046875,66856.1171875,64126.90234375,50145.7265625,24630.115234375,47116.16796875,50184.640625,32731.232421875,72305.0390625,36464.3359375,78255.8203125,35073.828125,51190.8359375,57018.35546875,82084.8359375,37243.4453125,79045.9765625,21793.35546875,38592.52734375,113539.109375,98753.0703125,19484.662109375,85608.296875,54933.078125,53710.0,67796.2421875,96966.1796875,52118.5625,76342.2265625,54335.6328125,72137.6953125,57966.58984375,50776.43359375,38793.0078125,65713.4296875,41938.671875,61196.86328125,77410.4296875,37761.5078125,60450.72265625,54130.85546875,47956.9453125,47768.71875,118712.1796875,34049.53515625,17988.083984375,70025.90625,48980.2890625,47096.82421875,68333.3671875,38094.05078125,73878.359375,53242.10546875,66261.9765625,40194.42578125,75180.875,25042.73828125,38917.875,66975.5859375,93570.71875,87064.78125,61533.58203125,44477.84765625,62082.2265625,50776.43359375,41550.62890625,32206.7890625,117888.4609375,49174.39453125,84362.9609375,49253.02734375,74981.640625,55709.83203125,48238.13671875,51232.6484375,64798.734375,37678.93359375,89901.09375,31318.75390625,22188.298828125,33989.4453125,103227.890625,35326.87890625,85342.65625,33313.93359375,108258.0625,61649.43359375,70367.1015625,36757.8359375,44262.19140625,88645.0625,98913.359375,92288.9609375,47384.88671875,45395.34765625,60737.93359375,39156.5859375,36334.12890625,34120.6171875,41079.9609375,49523.57421875,77179.3046875,90425.65625,93196.8046875,34310.89453125,95317.390625,25439.828125,89340.4921875,83585.3515625,29744.6640625,62527.2890625,53965.12109375,68988.1015625,74769.359375,139087.0625,82371.546875,66387.421875,32511.171875,86470.3046875,36436.953125,42572.453125,61394.21875,51711.9921875,53201.59765625,74747.2109375,52616.453125,48321.05859375,98267.4765625,59939.71875,51758.109375,42592.2421875,90673.0859375,64342.36328125,87518.5625,62838.78125,58012.99609375,47066.25390625,29487.689453125,70547.2265625,88682.421875,73609.46875,88806.5625,114309.140625,59071.6875,52071.08984375,72532.234375,58569.80078125,51007.38671875,50684.953125,56565.97265625,80941.0625,44948.17578125,56293.91796875,44071.4921875,83050.328125,55690.03125,55729.08984375,65109.99609375,23881.09375,69497.6015625,83400.6015625,126419.046875,58369.05078125,96485.1875,71576.8671875,85649.046875,49189.96484375,36335.21875,52324.28125,67363.28125,50239.2890625,36935.72265625,44729.984375,111063.3359375,57018.69140625,92225.3515625,33268.90625,105417.5859375,112833.4921875,75825.9296875,60778.578125,62364.48046875,61445.296875,61856.26171875,35763.859375,34993.375,39651.51171875,56784.921875,29810.623046875,78493.71875,111333.3203125,86287.8203125,65850.9609375,40353.53515625,48594.0859375,54350.88671875,92998.7890625,58985.28125,74871.1796875,56047.0,57230.203125,49656.66015625,69814.3984375,52419.7265625,48746.87109375,78923.34375,85738.78125,54335.6328125,85700.7890625,28661.59765625,61901.3203125,35279.578125,43379.8671875,54339.125,88602.015625,56761.8203125,44731.859375,61394.21875,48458.5,72983.2421875,52159.671875,24650.392578125,82730.8203125,73688.4609375,40459.6328125,88373.75,59465.484375,75605.3828125,95679.265625,81879.171875,98526.4296875,37225.2421875,82396.59375,44282.4140625,42292.05859375,59710.3203125,100049.8046875,50253.5859375,67286.6015625,89181.296875,65482.1796875,43938.9140625,21228.048828125,87543.4453125,49899.66796875,74292.1875,41463.921875,69963.6875,42290.41796875,33973.1015625,38501.40625,64956.546875,72080.8828125,52617.8984375,98852.15625,85948.609375,49032.83984375,42473.26953125,77049.0625,39432.4609375,46736.90625,39043.62109375,40872.58203125,44306.10546875,59479.29296875,55544.51171875,43505.08984375,40890.12890625,40130.2734375,98650.796875,105264.8046875,107723.421875,69305.140625,86538.8203125,41053.15625,57501.7890625,55200.390625,36408.96875,42872.2109375,46246.53515625,64810.00390625,75662.9921875,89574.015625,31037.861328125,67470.3984375,33797.60546875,77155.8515625,32220.158203125,119493.90625,58293.609375,99821.515625,80036.5703125,103593.125,47283.08203125,37431.30078125,62721.3828125,63891.0859375,97295.75,22337.869140625,33036.56640625,41143.7890625,50026.51953125,36643.1015625,73520.8515625,23581.298828125,49858.84375,78337.8359375,57049.375,80376.8046875,50776.43359375,80491.421875,30190.798828125,41918.3515625,64407.53125,62166.734375,36707.234375,90446.03125,51421.8828125,38691.6171875,93186.3125,49714.2734375,68191.3125,59040.90234375,70119.4140625,93953.1640625,38461.61328125,52159.671875,54486.4296875,39301.265625,59386.78125,68922.8828125,47700.5,51094.125,62131.2890625,74812.4453125,64781.1796875,106797.109375,79268.21875,42036.39453125,47335.9453125,47166.32421875,105892.4765625,70277.8984375,63831.12109375,54106.08203125,84867.9765625,49656.66015625,32213.376953125,67470.3984375,47558.5234375,58020.33984375,61519.8671875,37828.140625,62178.703125,50072.40625,48696.2265625,78254.1953125,94423.6640625,70277.8984375,42280.5234375,79864.15625,37266.6015625,101909.6171875,87238.6484375,62844.01171875,79152.9609375,34220.8828125,56731.4375,52071.08984375,38422.37890625,40468.24609375,31752.353515625,119012.125,85618.75,68947.6015625,90864.640625,79976.984375,27043.8125,60214.58203125,20801.015625,58005.03125,59689.5859375,30544.65234375,87039.2421875,101878.0234375,87911.078125,50231.0703125,74303.09375,48787.05078125,91515.3203125,53346.88671875,95189.234375,58469.921875,45583.7734375,29794.734375,74166.28125,80064.28125,69241.765625,36528.734375,76968.71875,82086.6171875,88288.03125,80116.8671875,57820.7734375,87799.1640625,72557.34375,72330.078125,69618.546875,26771.341796875,55584.5625,94581.0859375,95698.5546875,100559.1328125,44736.0859375,103856.765625,46856.04296875,13780.61328125,60107.91796875,37802.265625,52324.31640625,38780.34765625,79574.7890625,114889.421875,70976.4453125,33561.60546875,34684.89453125,46019.7578125,53977.921875,47335.9453125,102142.5859375,82281.2734375,107439.3203125,71255.8828125,102488.1328125,81057.28125,71709.484375,65936.0390625,33880.375,77044.8671875,66991.59375,59233.70703125,46836.01953125,77942.71875,65958.1015625,75847.7890625,93342.0546875,47324.74609375,49939.55078125,39113.39453125,70249.171875,81239.4140625,32213.376953125,53059.38671875,25668.13671875,115621.9296875,100572.515625,32854.05078125,52687.16015625,64013.578125,69190.8984375,36865.4765625,27568.44140625,49937.6015625,69938.0234375,35439.45703125,44812.49609375,36442.54296875,36528.734375,41594.54296875,84763.234375,36119.9609375,107146.6796875,38591.13671875,41897.59765625,52646.26171875,74683.90625,83436.421875,69244.5625,65004.48828125,1174.1072998046875,91068.0625,57856.75,96165.953125,33855.96875,37174.50390625,57006.1484375,47519.62890625,90122.28125,87641.3203125,74400.34375,38793.78125,47116.16796875,44709.21484375,87613.3359375,52037.1953125,41297.66015625,37083.62890625,60107.91796875,43744.83203125,98302.1171875,67736.046875,92288.9609375,130667.25,39596.69140625,67393.6953125,45110.26171875,74726.34375,82840.7109375,79642.0234375,78756.2734375,37098.26171875,66511.171875,45094.0546875,33173.44921875,64991.9375,38441.125,75783.3828125,43943.17578125,42466.80078125,43022.3359375,54106.08203125,35355.20703125,63906.29296875,44071.4921875,58494.44140625,49249.15625,29499.548828125,75018.171875,45276.40234375,95767.7734375,67726.078125,63026.44140625,39070.83984375,78646.046875,66933.953125,101261.5234375,43504.0,40024.34765625,94006.1953125,52884.61328125,54230.56640625,57490.4453125,61406.30859375,53495.76171875,46851.0390625,69255.703125,85738.78125,81990.3203125,88321.6875,67644.2265625,43294.27734375,42371.50390625,40281.87109375,46450.0,45094.0546875,88406.21875,73984.96875,78340.2109375,68154.78125,37272.19921875,79329.390625,32657.30078125,68958.609375,42151.73046875,53767.37109375,82370.171875,67448.6015625,67234.3359375,26151.666015625,104433.03125,60763.3984375,75605.3828125,60811.421875,61923.515625,41673.796875,101113.484375,48193.21484375,89065.8671875,43341.90625,72186.8046875,131243.546875,101963.859375,41310.66796875,57711.8515625,95193.421875,94738.8671875,46963.71875,75150.2109375,93027.546875,42879.51953125,55198.359375,93402.625,86450.65625,24645.064453125,84013.4375,47335.9453125,32500.0546875,44536.2421875,37426.390625,87739.390625,34640.546875,44729.18359375,53207.12890625,50132.4453125,93647.9921875,49594.0546875,54486.4296875,62870.65625,80376.8046875,108296.7578125,49290.01171875,88772.6328125,42411.546875,90189.1484375,42163.65234375,48188.421875,58838.97265625,51952.578125,41477.66796875,49812.390625,34187.87890625,74265.1328125,55800.23046875,47324.74609375,54848.34375,77385.171875,87517.9375,63915.671875,68624.265625,64768.87890625,52296.62109375,86822.5625,82275.1171875,40178.66796875,36651.74609375,38780.34765625,59454.94140625,90594.375,25698.373046875,94614.2890625,112108.4921875,54354.28125,62576.6953125,46175.4375,82407.859375,67736.046875,83925.0625,35918.703125,51855.375,38364.43359375,87776.3203125,30423.376953125,50610.51953125,74904.1328125,89239.90625,44180.89453125,42792.30859375,55145.546875,42381.95703125,97465.0234375,65190.05859375,83720.203125,60140.01953125,49761.7890625,54130.85546875,41640.52734375,110744.875,31978.51953125,85078.3828125,108747.3046875,60260.453125,81739.46875,23644.05078125,77717.953125,48768.66796875,115961.796875,42592.2421875,62375.609375,31420.828125,127925.2265625,51717.16015625,90021.7890625,19387.814453125,55451.84375,22105.498046875,91116.5,34961.765625,86238.078125,64435.9453125,45669.4609375,42792.30859375,107673.734375,73090.4140625,67470.3984375,59689.5859375,87455.9453125,70309.84375,37799.81640625,49249.15625,120593.6953125,31147.015625,68464.6796875,53361.39453125,48000.74609375,66933.953125,78817.0703125,132879.78125,21410.44921875,38935.16015625,54130.85546875,71837.1796875,63494.18359375,32530.30859375,59946.6015625,46976.0,67543.8203125,58020.33984375,73512.421875,72231.4296875,50399.2109375,72486.5,52756.72265625,49523.57421875,129653.2421875,59385.38671875,106079.015625,37980.8359375,31650.53515625,47062.88671875,115239.46875,88639.4296875,67524.96875,92731.75,52986.390625,88473.046875,44407.9921875,79335.140625,57219.97265625,55636.328125,77359.6015625,71378.609375,102488.1328125,81238.734375,27683.986328125,81825.90625,110773.453125,116339.3515625,54704.55859375,43113.875,54335.6328125,46755.2734375,62057.6171875,55857.00390625,30610.349609375,29499.76953125,61299.1640625,55636.328125,57144.97265625,55145.546875,73727.2734375,67660.734375,49128.390625,70699.9453125,33125.85546875,82113.1328125,35687.98046875,82281.2734375,44775.7734375,58743.8046875,83627.0390625,56395.2734375,47335.9453125,112958.2265625,58686.328125,54567.57421875,74733.03125,24720.94921875,50268.29296875,48172.33984375,84362.9609375,68108.21875,58037.58984375,42673.80859375,74738.8984375,40136.4375,48597.4140625,57149.953125,108201.3046875,42792.30859375,54347.85546875,66482.71875,74101.1015625,76067.515625,34198.8359375,66268.1171875,70619.984375,65774.2578125,99119.0703125,55584.5625,46450.0,24145.396484375,55817.68359375,91990.5,28612.99609375,145435.6875,90937.03125,93551.65625,37224.21875,92280.1953125,106295.8125,46755.2734375,96876.8828125,32640.55859375,96693.71875,79813.5234375,62378.33203125,47193.98828125,96243.171875,40933.73046875,46175.4375,67780.96875,43593.13671875,76092.0234375,41784.828125,37174.50390625,144889.765625,74105.2421875,91065.421875,81070.484375,99593.703125,49500.6171875,51103.3515625,120246.5078125,107214.546875,51103.3515625,86987.34375,94704.7265625,35623.61328125,21760.43359375,52037.1953125,47725.3828125,105608.9296875,38035.75390625,58906.265625,44149.82421875,91116.5,56340.40234375,91118.953125,52984.609375,74772.21875,40162.4453125,83221.5234375,65385.01171875,73671.234375,55124.109375,51232.6484375,45760.4765625,96450.9375,79666.0859375,60636.390625,44149.82421875,52396.6015625,52143.515625,85027.9609375,79812.671875,54499.5859375,82505.8671875,41594.54296875,42615.859375,78920.46875,99334.484375,38574.6171875,65753.546875,67134.15625,103421.5625,86021.6796875,88441.6328125,48696.2265625,68937.3359375,83381.546875,36910.0078125,47113.66015625,32867.9375,64035.69921875,62243.8828125,48188.421875,78582.7890625,69241.765625,74775.2734375,86238.078125,91906.15625,76968.71875,56395.2734375,24216.375,86363.1171875,72661.0546875,80794.8984375,82044.25,72381.046875,57460.94921875,32213.376953125,82505.328125,63312.2109375,62364.48046875,49470.89453125,80701.796875,108274.921875,66798.609375,45152.2265625,84632.5078125,48325.67578125,46648.87890625,62730.234375,40355.8671875,92862.171875,80180.40625,108788.6640625,49552.3046875,52119.74609375,59796.76953125,54081.63671875,85910.0859375,42334.1796875,53399.70703125,51852.03125,71146.9140625,46683.75,66511.171875,84755.296875,46640.54296875,106450.734375,28828.8515625,101642.8125,79642.0234375,60483.9140625,58838.97265625,40695.1484375,51697.0,60005.5703125,77367.2265625,72567.9296875,94467.953125,84700.1875,92867.4296875,74962.15625,97360.5546875,103228.140625,110450.0625,82512.234375,68655.46875,79057.1171875,74962.15625,68837.5625,70295.8203125,69469.921875,76342.2265625,60107.91796875,57219.97265625,52805.65625,46856.04296875,94620.4140625,64437.6796875,36311.85546875,78247.1171875,28074.96875,49514.66015625,82499.9921875,29898.09375,90975.59375,24929.896484375,37283.140625,51022.30078125,22120.236328125,38360.40625,33641.9140625,42410.92578125,111254.4296875,43670.84765625,41778.2265625,52143.515625,92658.3984375,43671.53125,87949.5703125,38489.4140625,66413.890625,53891.88671875,66511.171875,39806.46875,69179.0546875,110368.46875,46094.79296875,33923.2578125,100629.4765625,44536.2421875,104736.2421875,62559.43359375,56074.85546875,52310.4453125,74962.15625,56040.90234375,31812.580078125,32293.28125,34589.1484375,64134.109375,50887.48828125,17579.43359375,108585.671875,42222.37890625,55285.1953125,24310.8046875,92665.7734375,62755.9140625,27606.689453125,48746.87109375,34044.53515625,47323.80859375,41918.3515625,51366.64453125,85082.1875,107428.0390625,74772.21875,95569.6875,69750.5234375,35396.9140625,70931.5546875,70602.21875,34122.171875,29604.587890625,50114.6875,36755.56640625,73643.171875,40417.29296875,97433.875,107173.140625,85445.765625,109565.8203125,44035.78515625,42634.3984375,45906.9140625,36094.625,42756.33203125,59585.09765625,75441.953125,25760.22265625,45583.7734375,50388.1875,66166.78125,81199.46875,57006.921875,56708.30078125,36940.03515625,51606.734375,63304.453125,62545.41796875,79976.984375,56176.9453125,65316.8515625,78247.1171875,34463.55859375,41685.65234375,36279.76953125,54074.17578125,91229.9296875,66953.140625,95206.0859375,58262.90234375,48089.56640625,79172.453125,62947.32421875,63693.46875,33036.56640625,90768.8203125,49963.53125,117505.7421875,90420.2421875,51496.6015625,60986.76953125,64805.5546875,77094.375,53201.59765625,49781.8203125,23910.955078125,73065.4375,47602.79296875,72531.46875,79405.359375,75362.484375,44544.12109375,82817.828125,98477.4765625,60636.390625,38986.84375,88093.7734375,128757.7734375,46572.90625,24112.91015625,60670.46875,82574.6953125,55468.48828125,82619.640625,65826.4140625,58031.0703125,63026.44140625,83761.8046875,56507.6015625,76182.234375,70216.078125,59946.6015625,52132.76953125,45836.07421875,113580.8125,24012.744140625,83137.3359375,75529.5390625,109536.25,73016.4375,32973.75,73171.3046875,99039.359375,56282.79296875,70155.15625,65846.2421875,64846.27734375,87542.953125,58448.375,69329.6875,31814.357421875,30970.2734375,58433.94140625,27043.541015625,68815.609375,59088.74609375,49354.42578125,37800.828125,58906.265625,50001.2890625,72214.6015625,38073.3125,52285.19921875,77248.828125,45841.30859375,33797.60546875,31825.2109375,69405.78125,51697.0,79183.0703125,52413.3984375,72852.5234375,97821.1796875,55817.68359375,66559.7890625,55873.2578125,70887.328125,109679.4453125,44483.43359375,130786.3125,66456.71875,46066.24609375,69579.921875,65757.2578125,91935.0703125,87435.8046875,84343.6484375,62125.17578125,87373.1796875,43833.77734375,56522.52734375,48693.5625,54848.34375,33683.26953125,64882.86328125,33679.4453125,62015.96484375,86538.8203125,47012.37890625,89957.859375,37205.6796875,56293.91796875,59386.78125,73346.765625,78958.6328125,31242.94140625,63811.66796875,116140.4375,53187.45703125,60497.72265625,80747.3515625,46450.0,61176.03515625,82894.140625,45785.859375,31611.3046875,38533.390625,49980.30078125,42398.140625,89859.9921875,62545.41796875,47418.859375,18559.841796875,58759.26171875,54353.79296875,70748.296875,90913.703125,67661.6875,64015.62890625,28886.427734375,69595.21875,44703.80859375,26507.697265625,61253.65625,69938.0234375,113891.375,111025.015625,21158.212890625,85234.703125,32646.087890625,87367.578125,72935.2890625,29555.875,47730.44140625,26929.23046875,74726.34375,66268.1171875,59586.125,108290.375,77068.8984375,71704.8515625,45387.10546875,69241.765625,39679.15234375,51547.1953125,45393.44921875,78162.7421875,37243.87109375,63906.29296875,40353.53515625,70176.1328125,86534.0390625,75942.8359375,46657.11328125,43628.58203125,95331.7890625,89992.0625,27826.08203125,34684.89453125,33698.890625,62643.30859375,49249.15625,71842.0546875,51190.8359375,85955.0,70122.6875,88406.21875,45826.2109375,79253.40625,47283.08203125,75662.9921875,79512.6015625,43879.53515625,105972.1484375,57856.75,51995.3828125,79481.421875,60750.08203125,33562.92578125,59479.29296875,17383.259765625,61089.27734375,56581.20703125,79255.1796875,49505.0390625,66268.1171875,53895.33203125,71627.1328125,26005.78125,81020.109375,94467.953125,32867.7265625,83259.40625,63789.95703125,61658.55078125,63036.3046875,45295.23828125,49714.2734375,81355.5625,71261.0,123249.015625,64013.578125,63059.4765625,44055.0546875,78254.1953125,63853.23828125,46836.02734375,73721.9921875,49886.35546875,35918.703125,52119.74609375,88712.9609375,33647.75390625,40927.9296875,55340.22265625,43757.4453125,132313.390625,84674.734375,55924.02734375,78418.5078125,42448.87890625,87161.2578125,33698.890625,73335.1875,78731.2734375,40533.69140625,74046.2734375,95207.4296875,103960.953125,85239.734375,95746.4140625,76149.0078125,54094.703125,27140.859375,69497.6015625,53148.59375,49508.96484375,84637.2734375,51366.64453125,37098.26171875,67257.234375,63671.5625,38457.75390625,71266.953125,102763.7265625,83544.1640625,53720.99609375,32293.28125,47116.16796875,88831.609375,45295.23828125,101052.0234375,34355.0234375,81278.9609375,45016.57421875,50231.59375,76467.5625,37457.7421875,76138.390625,67197.75,60663.91015625,83694.875,37900.98046875,67240.703125,78116.1796875,85809.0625,67470.3984375,20564.810546875,42748.6640625,92097.2578125,91182.2265625,54130.85546875,83216.28125,37833.6796875,84222.7734375,53541.38671875,32731.443359375,84998.75,33087.125,17803.599609375,88913.859375,60170.4140625,78868.484375,97403.6640625,38900.61328125,53021.0390625,108888.5390625,27568.44140625,94433.7734375,41079.9609375,52143.515625,85649.046875,43929.859375,91640.203125,54299.36328125,61623.9609375,61034.23828125,44800.05859375,37817.2578125,41216.4921875,54485.625,128971.0546875,102090.4453125,40823.25390625,81451.2109375,70640.75,49875.36328125,56282.79296875,55872.078125,65208.7109375,59601.70703125,40532.6953125,73938.2578125,85948.609375,64781.1796875,79976.984375,36545.515625,37313.44140625,45784.60546875,57939.6796875,49032.83984375,47896.4375,42777.125,66687.046875,83168.4140625,35844.03125,60450.72265625,62246.31640625,65757.2578125,103785.0078125,56849.73828125,37392.1953125,62201.0078125,78593.5859375,86762.015625,58489.97265625,62622.1953125,48193.21484375,87800.0625,81067.75,89181.296875,83135.21875,96441.84375,41143.7890625,87064.78125,31752.353515625,70914.1640625,60612.609375,68739.1953125,30529.748046875,67778.3984375,37074.05859375,66503.2421875,23581.298828125,28914.37109375,54339.125,49162.17578125,54014.7578125,57484.12109375,82246.09375,90673.0859375,70998.8203125,75553.9140625,55639.67578125,95878.8984375,49508.96484375,40927.9296875,72851.1171875,85302.5546875,79400.6796875,57659.859375,67064.7578125,82574.6953125,42466.80078125,26313.298828125,39301.265625,33272.30078125,62533.609375,51103.3515625,32657.30078125,49761.7890625,47558.46875,58469.921875,85950.0,45411.23046875,75136.1171875,44880.62890625,35209.87890625,32867.7265625,86346.78125,95206.0859375,35594.13671875,78727.9140625,112315.6875,34219.85546875,47012.37890625,27185.697265625,39301.265625,60663.91015625,38691.6171875,75075.78125,83714.7265625,40730.81640625,45160.07421875,69512.109375,47514.5078125,33989.4453125,37174.50390625,56195.71875,78844.7734375,73167.0859375,43341.90625,32867.7265625,102505.015625,85629.6015625,110126.8671875,46211.63671875,55548.859375,33544.57421875,56522.52734375,50546.8125,41849.8828125,62887.296875,71158.0859375,38541.171875,49816.84765625,41525.16015625,93906.421875,50257.89453125,121697.53125,54499.5859375,30396.71484375,57539.03125,85441.6875,116068.0,126405.234375,88074.6015625,79439.2421875,84873.8125,51072.49609375,49963.53125,52805.65625,88272.4453125,30318.880859375,86273.203125,27534.09765625,51889.03125,35637.0859375,26205.134765625,45151.91796875,50803.03515625,63207.3828125,64126.90234375,96290.3515625,30058.9765625,80186.90625,102706.140625,55977.1640625,69595.21875,94467.953125,90000.7265625,64260.6875,87957.1484375,74602.9140625,54014.7578125,56581.20703125,49528.76171875,45110.26171875,61394.21875,24900.025390625,122085.3984375,73044.5859375,72531.46875,105078.8515625,37817.2578125,24589.0625,40006.2734375,52285.19921875,25932.41015625,85275.5,106695.8046875,35514.24609375,79535.8046875,60295.21875,45616.6796875,52425.40625,82499.9921875,50251.9375,45906.9140625,28938.86328125,41844.31640625,139156.234375,45589.12890625,41070.72265625,71158.0859375,23485.365234375,48049.98046875,59607.1328125,49845.82421875,89308.7890625,97239.71875,118465.4296875,42716.70703125,68409.6328125,96907.1328125,38573.7265625,83243.3828125,89239.90625,44886.94921875,42151.73046875,44405.50390625,59554.2265625,35918.703125,111195.3984375,36436.953125,76758.3359375,60589.328125,54575.05078125,46851.0390625,24852.6953125,28655.201171875,55198.359375,43507.5625,84233.3828125,44729.18359375,100457.3359375,52920.42578125,79870.5703125,31881.63671875,108634.2890625,64282.03125,81386.703125,104734.7734375,58906.265625,45542.265625,38441.125,71548.0859375,39501.546875,45077.11328125,82036.7890625,56293.91796875,36316.4453125,123441.6015625,91464.8984375,81128.765625,99119.0703125,55690.03125,88892.4296875,73926.9453125,49500.6171875,42466.80078125,42824.96875,58906.265625,24397.31640625,67543.8203125,47886.95703125,58878.7421875,46450.0,50026.51953125,89338.6640625,60532.7421875,87641.3203125,99958.5,35743.8359375,44483.43359375,63013.3828125,108601.2265625,54585.47265625,64176.18359375,110171.3984375,133345.21875,88652.6953125,103125.796875,56055.0234375,41297.66015625,113553.6328125,116399.03125,41872.6328125,66286.265625,79722.3671875,31556.65625,82644.3984375,52119.74609375,62659.6953125,104577.6328125,85390.390625,63932.359375,75362.484375,51223.9765625,80483.0,78958.6328125,65043.2421875,47335.9453125,77162.5625,106792.6953125,105211.9140625,86452.03125,53288.3515625,105309.2421875,33828.5625,51379.3671875,31092.9140625,56708.30078125,82275.1171875,83964.8046875,101900.6953125,72532.234375,78582.7890625,103694.5703125,31019.271484375,75784.7578125,74620.3671875,64882.86328125,75605.3828125,94892.0390625,61394.21875,62730.234375,36887.3671875,57966.58984375,20488.52734375,44035.78515625,28809.2890625,36067.8828125,84539.4375,43870.078125,80116.8671875,42381.95703125,66519.0,41876.44921875,32293.28125,72738.2890625,59948.33984375,36000.6171875,33855.96875,31037.861328125,66869.6953125,50887.48828125,59493.26171875,87708.6640625,48156.42578125,35598.94140625,50084.3203125,102108.296875,105596.2890625,87530.265625,48000.74609375,46648.87890625,36538.27734375,69546.8125,84303.3359375,57865.1796875,55623.234375,84271.09375,61371.828125,60107.91796875,99305.296875,49127.0546875,65356.56640625,24778.611328125,72421.1171875,40533.69140625,52616.453125,87634.125,80747.3515625,41477.66796875,86308.6796875,41700.23046875,65568.453125,48509.921875,35722.44140625,84395.3984375,49787.69921875,60798.86328125,67448.6015625,26538.798828125,43938.9140625,71870.1328125,37854.1171875,70459.0859375,63902.78125,46856.04296875,55584.5625,41491.9296875,97222.09375,38179.44921875,65362.35546875,43093.4609375,40655.4453125,73823.1640625,46963.71875,87139.2109375,83656.484375,61946.53515625,76497.171875,48830.0703125,72545.9765625,37773.19921875,73016.4375,86787.4765625,89343.984375,43055.89453125,67191.578125,23492.53515625,40440.2890625,53712.3046875,78224.84375,45387.10546875,49212.91015625,56731.4375,41525.16015625,92374.859375,66301.5,79642.0234375,46648.87890625,97584.40625,98267.4765625,90122.015625,58878.7421875,108326.65625,60058.42578125,87660.484375,82967.84375,54750.6484375,46824.83203125,88434.703125,80810.0078125,56333.19921875,53935.4140625,80491.421875,123520.9140625,43938.9140625,82338.1484375,37423.546875,35289.90625,79976.984375,57250.859375,37833.6796875,70769.2734375,74920.28125,94204.125,40417.29296875,38780.34765625,63013.3828125,72330.078125,59585.09765625,77704.4453125,67644.2265625,92755.1015625,57935.76953125,101690.640625,55654.7265625,43929.859375,81238.734375,97917.90625,92280.859375,30628.28515625,46313.85546875,108898.1171875,35216.96484375,39301.265625,63953.5546875,35918.703125,39129.77734375,40412.18359375,44409.546875,69099.6953125,40906.8984375,32364.123046875,43636.65625,64704.50390625,47793.484375,96425.1875,83246.4453125,42872.2109375,55484.00390625,36577.92578125,66268.1171875,45083.9609375,65109.99609375,100699.1015625,57577.89453125,96568.4453125,62461.76171875,112724.6171875,99033.859375,45411.23046875,50589.14453125,30958.990234375,77438.5234375,72544.828125,66078.328125,95047.96875,99119.0703125,84867.9765625,50109.16015625,86238.078125,50687.88671875,63915.671875,50114.6875,80007.484375,77040.4375,67240.703125,54230.56640625,46963.71875,54002.63671875,78920.46875,91182.2265625,42048.59765625,85823.1796875,133740.671875,91695.4140625,40542.86328125,79755.0625,58262.90234375,99576.46875,45324.421875,35216.796875,74772.21875,53148.59375,39043.62109375,49065.59765625,97121.796875,55636.328125,32646.087890625,80941.0625,89152.875,83622.78125,55217.65625,38574.6171875,32850.703125,95767.7734375,61001.3046875,40113.5859375,63541.55078125,73926.9453125,80870.96875,88847.765625,50727.41796875,87180.515625,60163.51953125,27585.556640625,91271.90625,49174.39453125,47062.88671875,35618.9921875,56389.08984375,52039.90234375,84395.296875,73259.421875,64781.1796875,98753.0703125,74101.1015625,57219.97265625,53055.2890625,31987.078125,92035.796875,43341.90625,67902.671875,39805.3125,64828.85546875,37906.87109375,54603.984375,51854.36328125,87289.6328125,71075.328125,101894.21875,36464.3359375,98703.5859375,35687.98046875,106797.109375,49841.42578125,41708.93359375,26856.171875,102521.8203125,43442.859375,49812.390625,52071.08984375,39743.125,49032.83984375,40750.0078125,92964.4453125,82964.75,54129.76171875,47990.73046875,62204.23046875,90876.2421875,72785.46875,28219.619140625,59822.5,66519.0,62378.33203125,74683.90625,47725.3828125,68462.1484375,82730.8203125,44306.10546875,69886.1796875,65680.9921875,54130.85546875,88948.34375,55159.3359375,39129.77734375,57577.89453125,29661.91015625,44505.4609375,28938.86328125,62120.4296875,83218.3515625,83849.3828125,61130.22265625,60807.1328125,25321.1015625,42381.95703125,30325.4296875,54664.87109375,36075.05078125,47896.4375,76128.671875,79870.5703125,26687.3359375,36290.6484375,68108.21875,64947.46484375,58433.94140625,30408.353515625,82793.7421875,42935.3046875,38691.6171875,31095.69140625,84284.625,80534.78125,69099.6953125,84607.2734375,35918.703125,78696.7578125,59385.38671875,22020.673828125,107077.875,56524.296875,38500.6484375,69090.6796875,37313.44140625,49886.35546875,45690.5234375,80941.0625,36037.1484375,22466.798828125,41543.61328125,75584.3984375,54862.6640625,68756.5625,70501.71875,59479.29296875,83056.0546875,71232.7890625,53530.34765625,48571.0703125,24844.11328125,64176.18359375,101371.3515625,48876.70703125,109679.4453125,87085.6171875,30871.49609375,35302.98046875,51465.04296875,78844.7734375,55584.5625,62015.96484375,88742.984375,92550.4609375,32448.0546875,44282.4140625,50605.53125,51379.3671875,103856.765625,73308.125,57824.859375,40538.07421875,80114.5859375,43227.359375,55198.359375,54221.8203125,77320.0703125,61868.578125,73823.1640625,107068.7578125,63325.421875,59788.1796875,59335.05859375,46450.0,64369.2578125,57276.80078125,49714.2734375,37229.8515625,66268.1171875,24929.896484375,33120.57421875,77697.9453125,83315.2734375,49714.2734375,36887.3671875,30872.12890625,86084.8125,47886.95703125,41594.54296875,84100.4609375,26313.298828125,105407.796875,37582.125,49127.0546875,61101.98828125,53541.38671875,80667.3203125,71743.3125,41539.984375,34111.015625,66140.609375,25555.87109375,93379.2265625,72330.078125,67467.53125,66144.484375,50774.48828125,65299.7734375,66687.046875,37224.21875,96876.8828125,23245.896484375,35644.3515625,49845.82421875,21147.994140625,81459.875,50776.43359375,63455.72265625,115638.6953125,41594.54296875,55198.359375,33343.9140625,35766.68359375,82802.96875,64503.70703125,64099.4140625,66923.3125,37371.73046875,80491.421875,80008.984375,88831.609375,64947.46484375,87764.7421875,57262.88671875,31678.837890625,45160.07421875,39301.265625,41967.015625,38189.6328125,103589.9140625,78254.1953125,31265.349609375,32426.857421875,32867.7265625,60621.03515625,59043.83203125,39064.0546875,64945.31640625,41330.44921875,42011.39453125,54106.08203125,69469.921875,33173.44921875,89224.125,50257.89453125,75075.78125,110744.875,88122.078125,69512.109375,98668.03125,65242.87109375,24512.220703125,76968.71875,40113.5859375,33544.57421875,78429.1875,69305.140625,29555.875,78292.2109375,72532.234375,59554.2265625,53220.75390625,49065.59765625,88321.6875,34363.03125,82281.2734375,82730.8203125,35370.05859375,54174.703125,52616.453125,54339.1328125,63932.359375,64326.87109375,80500.7265625,57018.69140625,67166.21875,83997.7265625,56920.5078125,50539.91015625,81355.5625,51072.49609375,67240.703125,109674.8046875,66268.1171875,89312.015625,54503.48828125,49224.2578125,65704.7109375,28030.9375,49845.82421875,71627.1328125,94790.65625,50652.7578125,98947.3515625,93586.421875,105921.34375,61380.41015625,69329.6875,48262.89453125,99848.828125,69497.6015625,84763.234375,55269.27734375,107131.1171875,63687.96875,50068.75,37263.296875,50145.7265625,87389.984375,53547.75,57592.25,77824.03125,72522.171875,57221.04296875,66268.1171875,78698.890625,76645.6953125,71266.953125,58835.66015625,47493.18359375,97631.875,104393.421875,57094.08984375,32220.158203125,38691.6171875,30579.26953125,54845.875,28259.529296875,56581.20703125,62844.01171875,97483.71875,98652.7578125,79685.3125,51951.76953125,83925.0625,54556.30078125,101575.5390625,55585.18359375,46520.58984375,61371.546875,82228.046875,57682.62890625,131593.25,64437.6796875,71089.515625,52292.33984375,102341.34375,93301.5234375,26151.666015625,51923.08984375,20604.1875,36304.99609375,77385.171875,83967.46875,52248.046875,58433.94140625,71992.921875,78697.875,86456.171875,50652.7578125,42548.61328125,37538.2109375,96165.953125,51707.73046875,66928.765625,89378.3828125,27534.09765625,70914.1640625,42552.62890625,97881.0546875,102149.328125,58652.5390625,34001.890625,95206.0859375,81355.5625,47681.89453125,64554.3828125,29884.98828125,81787.0859375,73688.4609375,96765.1875,70394.3671875,37799.81640625,73484.2109375,55972.6171875,44835.16015625,84723.9296875,45417.03125,30544.65234375,70511.1875,25419.076171875,40773.359375,47954.24609375,99885.359375,93907.484375,64947.46484375,96206.953125,67209.6953125,66639.78125,62375.609375,78577.53125,85649.046875,63864.25390625,41947.3359375,65450.67578125,95193.421875,38381.12890625,60908.640625,142078.546875,40064.5546875,38988.44921875,64739.98828125,108258.0625,29675.4140625,86550.15625,70719.140625,41349.98828125,56524.296875,57539.03125,45094.0546875,49716.1640625,64973.06640625,51887.68359375,70943.9453125,61237.30859375,45787.8203125,103381.5,74519.765625,99033.859375,78556.6171875,58835.66015625,56062.30078125,36037.1484375,86458.5234375,65344.1328125,99481.3828125,58813.98046875,75847.078125,104038.3359375,92739.3671875,81192.0859375,27851.009765625,84233.3828125,37016.06640625,87900.203125,50132.4453125,41599.7890625,77359.6015625,88831.609375,39651.51171875,50343.65234375,60107.91796875,22138.412109375,51923.08984375,28856.515625,38780.34765625,41053.15625,30717.685546875,77890.9921875,47335.9453125,107700.90625,57149.953125,30697.625,58930.75,84050.703125,58843.7265625,62375.609375,63584.921875,20855.01953125,37068.97265625,73205.53125,49761.7890625,93019.484375,86480.1015625,38640.0703125,95691.28125,45693.3671875,80994.5546875,54339.125,39062.03515625,36871.01171875,38367.05078125,78991.5703125,73270.6171875,33774.40625,91382.6796875,57276.6953125,73191.1015625,43866.828125,73609.46875,51366.64453125,78045.375,48766.33984375,55451.84375,69184.8203125,34807.60546875,84543.671875,135357.65625,34122.171875,70490.0625,73878.5546875,37174.50390625,105128.7109375,41331.08984375,47055.9765625,55636.328125,88449.59375,73888.9375,83559.296875,30791.701171875,61082.0,39771.9453125,41477.66796875,82589.546875,53717.12109375,72080.8828125,69979.6484375,28147.93359375,90694.0,127.6068344116211,78868.484375,60497.72265625,60908.640625,69076.3359375,76074.984375,21664.74609375,54096.484375,62838.78125,74772.21875,59385.38671875,63687.96875,68696.7265625,43055.89453125,82493.5703125,62178.703125,63541.55078125,46187.515625,83832.3046875,84433.5859375,92665.7734375,46736.90625,33409.30859375,65958.7890625,98764.734375,10861.6494140625,55468.48828125,73233.875,2139.52587890625,52453.38671875,65933.875,58339.26953125,50776.43359375,28090.111328125,55636.328125,44986.2890625,66519.0,76661.6328125,55451.84375,33036.56640625,85629.6015625,53720.99609375,36464.3359375,102029.703125,46682.47265625,53975.31640625,72882.0390625,46468.83984375,52959.8125,58494.44140625,78162.0859375,47125.37109375,42381.95703125,79250.5078125,36316.4453125,81280.15625,30803.7265625,32295.54296875,41568.27734375,95679.265625,45770.4609375,45906.9140625,44266.95703125,46175.4375,63906.29296875,58592.3203125,81355.5625,44812.49609375,33973.1015625,61258.8046875,34355.0234375,86238.078125,106434.578125,82549.7578125,53717.12109375,89880.4296875,38367.05078125,5664.77490234375,56522.52734375,20543.70703125,31301.41796875,103504.2578125,87630.9140625,50776.43359375,52037.1953125,37190.53125,54980.32421875,67076.9921875,67234.3359375,126321.7890625,56714.86328125,78835.390625,43276.09765625,81462.6171875,52159.671875,40359.19921875,38541.171875,84203.9609375,74801.625,51852.03125,36484.125,52280.89453125,29573.59375,51960.61328125,114303.9296875,79172.453125,63105.515625,82088.6953125,50460.80859375,66268.1171875,47558.87109375,69969.53125,51190.8359375,83339.640625,45094.0546875,19688.298828125,78340.2109375,62178.703125,85447.109375,35918.703125,53158.66796875,67119.2421875,84780.171875,101148.7265625,51594.2109375,82878.90625,65850.9609375,82044.25,60615.90234375,46787.28125,79870.5703125,53823.078125,48016.4140625,47633.47265625,58235.94921875,58999.890625,63092.1796875,43671.69140625,23108.8984375,74519.765625,32867.7265625,77794.390625,63589.45703125,87373.1796875,50811.4609375,93768.203125,30256.33984375,88772.6328125,54499.5859375,87610.4296875,47558.87109375,78577.53125,65672.15625,40933.73046875,56761.8203125,68756.5625,83997.7265625,86452.03125,109744.34375,100120.2109375,69244.5625,92486.7578125,55651.16015625,87778.1484375,80320.0,48226.2734375,63013.3828125,55240.27734375,53361.39453125,32293.28125,86967.78125,82396.59375,19978.13671875,83784.421875,73613.4296875,54230.56640625,86084.8125,61273.94140625,52143.515625,75911.6171875,33013.80078125,33712.39453125,89929.796875,74314.5078125,42477.0390625,128787.2421875,69603.7109375,107867.078125,48188.421875,75018.171875,82458.46875,54335.6328125,23981.595703125,33446.0,87452.8515625,115372.15625,37817.2578125,42653.3828125,38108.6796875,101557.96875,87764.7421875,43294.27734375,66511.171875,41330.44921875,85125.3125,104393.421875,61793.97265625,52616.453125,78695.796875,55079.6171875,29678.4296875,86816.7578125,60752.515625,46520.58984375,78687.5859375,55774.85546875,73217.296875,27707.955078125,113679.703125,95940.8203125,50776.43359375,62844.01171875,69532.25,85711.0078125,51717.16015625,78430.078125,76997.984375,41938.671875,88074.6015625,58999.890625,57102.41796875,79090.671875,54339.125,45094.0546875,66268.1171875,111865.375,49528.76171875,39272.59375,36044.46484375,75457.125,67736.046875,46468.83984375,25831.705078125,57856.75,66815.2421875,53610.1953125,88214.953125,63932.359375,105810.359375,33657.5625,88530.3515625,114625.3125,56452.96875,66798.609375,47055.9765625,52119.74609375,72151.1328125,52707.5625,57417.8671875,86987.34375,62416.05078125,78247.1171875,29267.404296875,37313.44140625,56047.0,74006.296875,64945.31640625,61684.8203125,41070.72265625,85478.5,73671.234375,102163.3359375,45693.3671875,56282.79296875,91065.421875,62961.04296875,53712.3046875,46856.04296875,45214.8984375,87139.2109375,59055.4296875,38691.6171875,43593.13671875,51711.9921875,82840.7109375,92280.859375,113148.9453125,101817.03125,45464.984375,83172.828125,44556.0625,78648.90625,55217.65625,70517.46875,48321.05859375,42634.3984375,69579.921875,103131.4375,60631.0,93861.0703125,41143.7890625,93261.1953125,67011.7578125,42045.1015625,50114.6875,71842.0546875,56174.234375,50610.51953125,73667.765625,73770.3515625,37389.71875,54290.234375,87450.3125,26205.134765625,104209.7734375,45234.24609375,55636.328125,66798.609375,92523.671875,52119.74609375,53738.45703125,71992.921875,54256.58203125,35362.640625,117594.2734375,48322.375,99142.890625,53977.921875,65556.1953125,20625.525390625,45077.11328125,69595.21875,39035.2578125,57055.35546875,54567.57421875,53935.4140625,18190.9296875,53158.76953125,90068.359375,64480.5078125,72983.2421875,21932.037109375,55690.03125,69801.4453125,91990.5,61280.91796875,82458.46875,57295.52734375,51465.04296875,83622.78125,76465.25,36538.27734375,67138.8671875,89118.5546875,52027.41015625,48262.89453125,90913.703125,100982.203125,84926.6484375,57966.58984375,55269.27734375,52388.07421875,27571.04296875,79613.6328125,42777.125,57776.45703125,43636.65625,59113.234375,103363.0625,90288.203125,52037.1953125,67286.6015625,56282.79296875,31029.126953125,49174.39453125,62956.01171875,46211.63671875,84050.703125,98263.2109375,56524.296875,69814.3984375,47193.98828125,58592.3203125,31987.078125,74596.359375,58652.5390625,83907.515625,100417.375,79052.15625,41833.83984375,91218.9921875,46787.28125,44040.44921875,35871.69921875,51952.578125,41054.3125,51677.05859375,76797.4140625,60631.0,86238.078125,64052.97265625,69603.7109375,33880.375,49728.8359375,73346.765625,46019.7578125,74775.2734375,42750.71875,48516.640625,35918.703125,89757.96875,35702.11328125,56524.296875,34784.72265625,49812.390625,46851.0390625,102763.7265625,58433.94140625,73445.2578125,42563.94921875,73249.578125,30058.9765625,68475.0625,69299.296875,37083.9453125,70119.4140625,40249.58984375,71008.2109375,19688.298828125,68191.3125,47105.8203125,67197.75,46244.2734375,67180.46875,33709.08984375,73105.984375,6433.53369140625,42222.37890625,122232.8828125,67952.953125,88836.671875,61445.296875,75069.109375,41967.015625,66917.9140625,107790.140625,137903.015625,74967.203125,82281.2734375,93562.5390625,37297.7109375,81238.734375,54255.23828125,33698.890625,30348.72265625,37906.87109375,39020.5703125,23125.3125,54354.28125,47229.484375,70394.3671875,49046.65625,48980.2890625,71576.8671875,54129.76171875,93801.765625,40454.69140625,49523.57421875,49224.2578125,64441.328125,57149.953125,95206.0859375,76968.71875,72838.25,83833.171875,54575.05078125,81713.09375,52166.9765625,41792.1796875,88913.859375,75150.2109375,45475.2734375,54372.296875,101117.59375,55977.1640625,64798.734375,65680.9921875,50309.78515625,45836.07421875,68409.6328125,45368.80078125,41734.3125,82644.3984375,74432.3203125,100619.625,42163.65234375,78868.484375,48876.70703125,43911.35546875,80116.8671875,52159.671875,40468.24609375,62844.01171875,67889.0234375,71627.1328125,94467.953125,87312.515625,47283.08203125,80907.359375,32426.857421875,50887.48828125,55285.1953125,78493.71875,81344.4921875,53738.45703125,34692.96875,103593.125,56055.0234375,43478.18359375,49523.57421875,36075.05078125,92491.046875,90490.703125,52119.74609375,86822.5625,37725.875,72367.8359375,49239.16015625,33184.56640625,91686.8828125,67203.21875,48321.05859375,30930.22265625,101480.3984375,50381.71484375,75711.53125,112111.3125,53771.93359375,71158.0859375,50109.16015625,30266.48828125,44365.578125,50072.40625,52480.609375,78697.875,39501.546875,89411.5390625,77717.953125,97094.40625,37016.06640625,98927.734375,64250.40625,79346.9921875,43247.484375,39546.73828125,91440.9453125,104122.78125,58753.59765625,43720.9296875,76968.71875,49095.7265625,63864.25390625,52940.64453125,34187.87890625,63063.80078125,37906.87109375,49211.68359375,52839.01171875,56336.1328125,73286.7421875,66309.484375,60747.0,62131.2890625,61868.578125,32673.595703125,46337.96875,71204.3203125,38393.40625,46819.9921875,94482.3515625,46892.484375,102129.28125,55817.71875,60110.875,42935.3046875,91341.0234375,84069.96875,37186.74609375,41462.328125,61253.65625,72790.96875,88250.0234375,75416.8359375,35570.84765625,105021.53125,91250.03125,60497.72265625,30898.376953125,35318.48828125,78162.0859375,55548.859375,58592.3203125,33123.8046875,35613.8671875,54130.85546875,23864.462890625,39679.15234375,84573.6015625,82890.390625,36279.76953125,47493.18359375,29573.044921875,59689.5859375,68937.3359375,52630.79296875,34509.203125,69302.0,36464.3359375,75474.8515625,99251.1953125,43341.90625,80255.15625,61841.6328125,81441.9921875,41849.8828125,50251.9375,56181.0703125,37306.3125,26270.453125,39452.828125,60288.6484375,110368.1875,78687.5859375,52348.4765625,87738.1953125,68409.6328125,49812.390625,48925.6484375,64514.57421875,52616.453125,85859.8359375,43504.0,35918.703125,82338.1484375,57443.6953125,41143.7890625,27935.16796875,31557.830078125,43578.18359375,79775.6875,37169.49609375,62838.78125,79417.265625,51952.578125,45454.1953125,41847.05078125,76526.3046875,64947.46484375,27513.28515625,57865.1796875,51391.046875,69047.390625,69472.28125,94393.1484375,39600.234375,74754.6875,44992.08984375,51367.69140625,36757.8359375,71870.1328125,93111.78125,54917.14453125,37263.296875,86338.421875,63180.859375,62243.8828125,51216.19921875,70858.890625,61380.41015625,74468.6640625,51960.61328125,54301.671875,88889.625,124936.734375,10009.052734375,69625.9921875,52027.41015625,34310.89453125,60752.515625,34364.171875,41994.328125,56195.71875,47863.59765625,115007.1171875,82615.125,63497.4765625,53572.24609375,20342.482421875,92280.859375,20710.595703125,109662.21875,37750.51953125,44951.26953125,64426.91796875,83947.953125,82852.609375,47005.625,79152.9609375,47418.859375,63789.95703125,47335.9453125,56535.12109375,59585.09765625,31420.828125,31600.7578125,21147.994140625,74812.4453125,82354.25,51218.7890625,79530.328125,63898.5,38526.5234375,39805.3125,52687.16015625,41297.66015625,110450.0625,29840.810546875,88437.40625,47545.10546875,59607.1328125,31180.3671875,59010.9140625,85608.296875,77242.8203125,91940.7890625,55800.23046875,102287.1328125,49095.7265625,55341.578125,73627.2421875,51097.02734375,64656.328125,53167.50390625,45354.44921875,66855.7890625,79644.5078125,57018.69140625,37234.52734375,28376.5,39137.43359375,28589.119140625,77749.7734375,53495.76171875,59481.09765625,39371.54296875,57865.1796875,41947.3359375,44953.77734375,68732.15625,43956.65625,103180.328125,37056.32421875,95698.5546875,82373.5546875,36784.41015625,44281.54296875,109402.5234375,88743.2890625,65004.48828125,48193.21484375,23644.138671875,104439.609375,51408.77734375,50145.7265625,86287.8203125,50237.2734375,79052.15625,42349.625,35079.66796875,47324.74609375,88913.859375,80540.4609375,50160.484375,33683.26953125,54312.28125,58589.125,54347.85546875,66928.765625,66253.0625,28959.35546875,86756.5390625,67784.09375,115050.5625,88540.890625,54567.57421875,51758.109375,45368.80078125,65879.5234375,81755.0078125,77381.9765625,54848.34375,51697.0,40786.88671875,86902.875,33923.2578125,63497.4765625,81864.203125,58457.14453125,77367.2265625,25841.783203125,63325.421875,105040.8203125,49290.01171875,51717.16015625,81380.90625,48920.37890625,26856.171875,42634.3984375,73717.0078125,60993.17578125,61299.1640625,64880.9140625,101963.859375,49552.3046875,46911.27734375,54106.08203125,45024.57421875,43504.0,19595.369140625,44757.4765625,45475.2734375,36786.12109375,86550.15625,21468.056640625,64242.2890625,66519.0,113650.3359375,49500.6171875,73770.3515625,39301.265625,49899.66796875,31609.5703125,91478.828125,66213.5625,88042.6484375,71429.921875,51586.5078125,79346.9921875,93027.546875,101909.6171875,50890.98828125,96647.546875,94433.7734375,51002.890625,127828.5390625,99779.71875,89617.0703125,86452.03125,99745.34375,31751.36328125,19030.93359375,60798.86328125,41418.6171875,68617.015625,66988.59375,90816.0546875,51216.19921875,52687.16015625,47863.59765625,43954.52734375,112211.5,36887.3671875,67660.734375,37947.16796875,101690.640625,43291.859375,49937.6015625,35491.0546875,107039.2578125,52805.65625,29609.2421875,26747.431640625,76138.390625,44262.19140625,77359.6015625,89711.75,45454.1953125,50979.15625,40249.58984375,79391.7734375,51923.08984375,58795.10546875,45048.21875,46682.47265625,45826.2109375,93953.1640625,23302.689453125,88772.6328125,41070.72265625,88602.015625,57527.5234375,42562.03515625,28259.529296875,66144.484375,82568.3125,67152.3828125,62158.078125,53547.75,83122.0859375,52613.4140625,48073.5234375,96165.953125,41330.44921875,24822.134765625,75362.484375,87371.9609375,40006.2734375,107039.2578125,80114.5859375,37345.9453125,62838.78125,89929.796875,56055.0234375,33104.73046875,64260.6875,70490.0625,46755.2734375,65841.5546875,93708.8828125,56389.08984375,38780.34765625,56996.3515625,104141.9453125,48458.5,35918.703125,50002.01953125,31881.63671875,50278.44921875,27631.599609375,83849.3828125,53201.59765625,36316.4453125,106462.9765625,88214.953125,45428.53515625,42792.078125,83679.5390625,51065.21484375,76687.3828125,97821.3828125,62896.8671875,33683.26953125,47012.37890625,65362.35546875,30500.576171875,19590.38671875,80320.0,45925.19140625,48193.21484375,65344.1328125,61371.828125,94751.15625,48048.5703125,44282.4140625,41350.22265625,52204.73046875,83056.0546875,85910.0859375,55124.109375,51717.16015625,71842.0546875,43929.859375,63435.609375,52119.74609375,56839.98046875,96499.5,45368.80078125,33535.5078125,61490.359375,74772.21875,48070.59765625,89901.09375,58345.23828125,45160.07421875,33123.8046875,71817.2734375,67736.046875,83679.5390625,88773.21875,59385.38671875,101586.2734375,68696.7265625,45395.34765625,111310.375,75474.8515625,51224.1875,60402.91015625,111748.0234375,87571.0,64258.71484375,64990.7109375,48920.37890625,73994.734375,42634.3984375,43675.3203125,78187.03125,49482.47265625,100572.515625,29555.875,70805.2109375,37345.9453125,89919.1015625,30955.65625,41045.1015625,35598.94140625,66871.4140625,39452.828125,58448.375,54580.203125,73926.9453125,85078.3828125,60296.30859375,39301.265625,36464.3359375,59320.8828125,76237.046875,30292.083984375,59822.5,55690.03125,57242.09375,94141.4609375,106260.578125,120465.421875,30771.681640625,49523.57421875,40006.2734375,82113.1328125,52119.74609375,70582.1015625,66558.4296875,49523.57421875,51379.3671875,31167.515625,57295.52734375,67393.4921875,44180.89453125,85738.78125,85582.3515625,74587.8046875,49127.0546875,65085.37890625,47283.08203125,50295.49609375,51855.375,43247.484375,34648.66796875,37174.50390625,82084.8359375,88817.6640625,69595.21875,40354.9375,84763.234375,61309.94921875,23631.66015625,120183.9140625,38363.1015625,101363.90625,53762.25390625,85793.65625,84763.234375,39926.98046875,48124.83984375,26842.447265625,66988.59375,31748.158203125,106034.1796875,75267.2265625,107166.6796875,85357.7265625,65085.37890625,64230.53125,45693.3671875,56761.8359375,82227.015625,90446.03125,54890.97265625,80180.40625,87772.8125,40890.12890625,37906.87109375,45061.16796875,36303.94140625,75358.8984375,73721.9921875,50539.91015625,22370.951171875,74772.21875,41708.24609375,77021.3515625,67104.1796875,53541.38671875,93563.46875,28626.83984375,96907.1328125,71642.1796875,45475.2734375,44071.4921875,111754.1328125,70914.1640625,41539.984375,72924.8984375,53059.38671875,53201.59765625,93200.7421875,64230.53125,37704.41015625,69595.21875,57966.58984375,49728.8359375,109256.96875,35216.4609375,74531.6796875,36786.12109375,48768.66796875,80791.546875,59335.05859375,64791.08203125,72240.5625,64258.71484375,23941.89453125,54864.88671875,60752.515625,103509.015625,111078.9453125,32206.7890625,86565.2109375,32102.169921875,45077.11328125,69337.0625,83221.5234375,81755.0078125,71837.1796875,76924.6484375,87064.78125,95742.078125,35637.0859375,57454.2265625,73926.9453125,79045.9765625,38682.328125,90561.3125,61282.2109375,83929.4296875,64515.640625,54014.7578125,71576.453125,30912.86328125,92288.9609375,71174.078125,48950.0703125,50803.03515625,39974.3515625,70469.34375,27648.34765625,130408.25,30821.4765625,85483.953125,80313.609375,79183.0703125,66144.484375,44483.43359375,57727.078125,67890.3984375,66387.421875,60235.515625,72785.46875,31393.625,51852.03125,85912.25,76781.3125,87289.6328125,59071.6875,31127.080078125,69915.515625,89688.796875,31752.353515625,88602.015625,90288.203125,8841.029296875,73308.125,36279.76953125,38623.6796875,42748.6640625,3434.246826171875,58211.55859375,36956.95703125,42634.3984375,51216.19921875,44001.74609375,46963.71875,26249.560546875,107039.2578125,42120.12890625,49290.01171875,86083.7265625,56802.9453125,64258.71484375,41070.72265625,62730.234375,63497.4765625,70308.4765625,40548.23828125,55723.48828125,52143.515625,57824.859375,51547.1953125,98495.65625,51072.49609375,46539.0078125,54427.30859375,53158.66796875,88800.4765625,62730.234375,52413.3984375,71948.6796875,87660.484375,31758.1015625,73933.3203125,87452.8515625,107768.234375,98383.65625,57923.7890625,110869.2421875,31758.1015625,73445.2578125,44696.9140625,32640.55859375,46683.75,48089.56640625,88645.0625,83168.4140625,38578.6015625,82128.2578125,46019.7578125,74942.21875,74384.9453125,41466.6171875,61927.5390625,80036.5703125,77617.296875,55027.90625,96807.1328125,35918.703125,73073.109375,34635.5390625,23290.685546875,77359.6015625,126411.453125,50231.0703125,104515.7734375,54255.23828125,76913.109375,74738.8984375,79642.0234375,44886.3359375,75662.9921875,140644.390625,62913.63671875,31905.12109375,48644.65234375,87496.6484375,49552.3046875,77717.953125,92438.015625,83634.59375,23340.98046875,76128.671875,52839.01171875,86456.171875,37216.109375,54256.58203125,89048.5234375,47896.4375,68756.5625,37622.203125,75665.9609375,63181.49609375,33899.0859375,68937.3359375,34040.4921875,40627.015625,64756.1328125,64441.328125,52696.7421875,76532.015625,58750.9140625,41330.44921875,34135.1328125,72240.5625,52739.95703125,36037.140625,72234.8203125,101155.4140625,66301.5,47229.484375,84368.5859375,23712.658203125,35918.703125,67127.0703125,79268.21875,30511.15234375,36644.98828125,78701.40625,68462.1484375,68617.015625,49290.01171875,54499.5859375,64422.046875,80008.984375,74664.9921875,86538.8203125,51057.0625,78404.015625,57682.62890625,98526.4296875,38108.6796875,40006.19921875,62375.609375,92149.3203125,84047.7734375,53855.14453125,58630.75,49065.59765625,39893.42578125,67141.3359375,40113.5859375,67148.984375,44953.77734375,112315.6875,51967.4609375,76501.671875,40006.2734375,36755.56640625,30426.8671875,41054.3125,71261.0,60260.453125,73823.1640625,52739.95703125,19752.056640625,71804.4921875,98692.7578125,61406.30859375,57460.94921875,60882.37109375,94817.40625,22706.076171875,43974.76171875,37992.51171875,69956.3046875,56408.953125,32364.810546875,96723.3203125,33262.0,37205.6796875,81755.0078125,39297.0859375,93790.4765625,77084.953125,73770.3515625,55198.359375,72766.015625,42017.13671875,67152.3828125,72591.859375,73013.8828125,49026.8046875,58930.75,44729.984375,52159.671875,36656.84375,40006.2734375,91447.140625,68852.4140625,104209.7734375,82237.046875,76349.421875,59335.05859375,52616.453125,71174.078125,59412.78125,65741.3125,92760.234375,52323.5859375,83168.4140625,53908.078125,47602.79296875,57484.12109375,67902.671875,46055.86328125,124013.953125,42163.65234375,48226.9765625,36974.79296875,50652.7578125,76838.8828125,33011.234375,72650.3046875,88645.0625,28849.390625,82639.9921875,40688.09375,40354.9375,83056.0546875,109747.6953125,45110.26171875,89024.703125,53312.87109375,61102.55859375,58420.1328125,56389.08984375,53312.87109375,53712.3046875,35918.703125,42477.0390625,77359.6015625,74812.4453125,84252.8515625,71837.1796875,58489.97265625,43363.72265625,41331.08984375,48474.02734375,30660.642578125,50887.48828125,65713.4296875,32220.158203125,78687.5859375,91713.2265625,73994.734375,61632.4140625,47283.08203125,88093.7734375,59102.45703125,60089.3046875,69188.2421875,58769.515625,95261.6015625,64369.2578125,92177.7109375,45160.07421875,66245.4375,69835.9296875,68330.109375,49594.0546875,55030.28125,37932.515625,93563.46875,39035.2578125,76871.171875,62321.8515625,57295.52734375,41477.66796875,133925.921875,82878.90625,99766.6875,54503.48828125,58155.6328125,86016.046875,52477.93359375,102319.421875,81589.84375,49514.66015625,66428.640625,53547.75,104306.40625,39023.2734375,81280.15625,38108.6796875,80501.3046875,81053.34375,76074.984375,93907.484375,43414.4765625,75362.65625,44033.15625,72330.078125,82505.328125,90517.984375,99276.7109375,31779.06640625,61102.55859375,55623.234375,41477.66796875,67524.96875,41599.7890625,52748.8203125,33587.3984375,67660.734375,67141.3359375,76016.0703125,77698.796875,82730.8203125,86769.2265625,77000.484375,39562.01953125,57682.62890625,48070.59765625,53596.83203125,71204.3203125,79166.8359375,87573.0859375,59412.78125,49684.17578125,49500.6171875,66796.3125,25549.947265625,21750.673828125,76570.8515625,35611.82421875,137117.90625,66355.40625,45293.453125,87755.0703125,60266.6328125,54567.57421875,58985.28125,42120.12890625,49812.390625,65484.10546875,72532.234375,33698.890625,41737.08984375,25494.62890625,103739.8984375,58494.44140625,59386.78125,26507.697265625,70222.0390625,45110.26171875,91519.6484375,60170.4140625,57276.80078125,62348.01171875,40113.5859375,91725.4609375,120893.4453125,95406.453125,83260.078125,70914.1640625,76570.8515625,54086.75,48188.421875,89808.03125,42120.12890625,90122.28125,43938.9140625,104924.7421875,102488.1328125,63915.671875,85895.40625,60861.75,99039.359375,31160.705078125,48772.0234375,78687.5859375,53246.44921875,32850.703125,20158.837890625,79785.453125,101113.484375,124770.65625,81388.9375,98668.03125,67127.0703125,3398.57666015625,69521.3046875,66268.1171875,74519.765625,53158.66796875,45583.7734375,29246.98046875,58020.33984375,23628.044921875,52159.671875,98103.0546875,40138.29296875,65029.40234375,39743.125,37371.73046875,22756.037109375,66144.21875,89999.359375,77195.6171875,105812.265625,85357.7265625,83967.46875,37119.16015625,102081.0078125,96336.5234375,54800.55859375,60636.99609375,59494.16796875,38457.75390625,32530.30859375,51228.01953125,50295.49609375,32118.7734375,36182.8984375,82354.25,32905.625,92803.9765625,147975.515625,47715.640625,74587.8046875,27935.16796875,66144.484375,71429.921875,36910.0078125,49032.83984375,68154.78125,52616.453125,59481.09765625,49065.59765625,65417.78515625,50084.3203125,90896.15625,43442.859375,38842.51953125,59386.78125,61280.91796875,30660.98828125,35918.703125,42634.3984375,102085.3203125,63978.17578125,38541.171875,76851.1015625,107297.21875,53610.1953125,34364.171875,40726.62890625,53143.171875,42466.80078125,108915.25,79574.7890625,48279.84375,101705.5234375,36782.7578125,33082.10546875,65435.7578125,42935.3046875,74214.5078125,52984.609375,37174.50390625,76006.5,32867.7265625,74535.21875,53924.8359375,86657.28125,50109.16015625,73721.9921875,87496.6484375,88449.59375,45403.203125,79405.359375,98264.515625,51253.0546875,78656.296875,66303.7890625,80255.15625,69121.53125,41489.50390625,85031.7421875,31032.29296875,53720.99609375,67197.75,41333.0078125,62327.3125,62178.703125,120823.671875,102493.0546875,87636.6953125,87800.0625,84187.84375,61927.5390625,49043.22265625,44306.10546875,75945.8984375,90120.9609375,89166.7578125,64260.6875,54106.08203125,85948.609375,71146.9140625,59386.78125,47644.6484375,38640.0703125,48096.0234375,50380.15234375,21508.146484375,35279.578125,88321.6875,102203.8671875,52487.640625,45549.79296875,42255.60546875,88645.0625,64943.4453125,47147.40234375,23492.53515625,60763.3984375,27354.240234375,53055.2890625,106462.546875,48156.42578125,90635.6328125,28479.990234375,21158.212890625,82281.2734375,60243.23828125,81757.5625,37923.640625,66871.4140625,82961.875,31532.23828125,73823.1640625,78187.03125,73327.0390625,65958.7890625,90162.046875,93708.8828125,68352.7109375,65362.90234375,81754.890625,33969.0703125,30296.57421875,48125.5234375,76493.25,86563.625,38906.40234375,139396.546875,23758.609375,30512.513671875,57018.69140625,48036.27734375,81886.3828125,94605.734375,63901.17578125,66778.5,102342.0390625,95988.1640625,79400.6796875,64917.89453125,77375.546875,30266.48828125,58110.453125,78516.515625,58037.58984375,108865.9921875,108572.234375,81380.90625,85342.65625,37833.6796875,37016.06640625,84362.9609375,40823.25390625,70618.6015625,38066.08984375,68905.46875,95988.1640625,83007.09375,24650.392578125,105128.7109375,82246.09375,55147.02734375,50802.140625,68462.1484375,62416.05078125,49253.02734375,54580.203125,64945.31640625,62844.01171875,85738.78125,102549.453125,23415.904296875,78593.5859375,66687.046875,54002.63671875,51366.64453125,32867.7265625,33393.80859375,50084.3203125,70646.2734375,56452.421875,73346.765625,30324.7734375,98267.4765625,68217.1640625,45836.07421875,42340.32421875,29042.728515625,116143.625,78677.8671875,64437.6796875,83389.734375,85882.2578125,44019.01171875,66855.7890625,93586.421875,87457.390625,75474.8515625,33973.1015625,28335.798828125,80534.78125,60908.640625,78516.515625,32511.171875,83389.734375,74869.4921875,77794.390625,60935.8125,47658.375,78656.296875,35594.13671875,78773.125,42203.13671875,100038.921875,71842.0546875,49728.8359375,88430.2890625,32039.376953125,78593.5859375,47558.46875,49426.76953125,49684.17578125,56389.08984375,81953.046875,78800.6953125,41101.140625,124608.3125,90910.7890625,113635.8125,66413.890625,101853.640625,80491.421875,51269.70703125,29810.623046875,73004.1640625,30648.8046875,41403.27734375,74754.6875,53965.12109375,95262.5390625,59386.78125,79642.0234375,93200.7421875,56930.1171875,48156.42578125,85439.359375,100236.84375,40532.6953125,49812.390625,55401.50390625,49523.57421875,49296.828125,31529.765625,123963.9765625,63753.28125,39435.703125,21628.546875,54086.75,69963.6875,39301.265625,121663.171875,26538.798828125,90694.0,33262.33984375,84022.4453125,74535.21875,109766.890625,67257.234375,65085.37890625,21986.67578125,36622.4765625,60960.20703125,105225.4140625,54014.7578125,105892.6015625,92442.109375,47896.4375,72009.03125,92643.7109375,86450.65625,49162.17578125,75605.3828125,40916.73828125,49615.74609375,64943.4453125,98054.796875,67197.75,78187.03125,70976.4453125,44507.96484375,70895.921875,57539.03125,32364.5625,31609.5703125,63497.4765625,68347.6484375,33285.8671875,65753.546875,41253.84765625,67198.6328125,42792.078125,135281.734375,46640.54296875,41918.3515625,30628.28515625,79707.2265625,68837.5625,44999.62109375,79025.0234375,75018.171875,107035.6796875,54608.8125,21102.921875,9934.318359375,62142.4765625,55124.109375,130765.625,51594.2109375,83056.0546875,52204.73046875,31242.94140625,55654.7265625,63932.359375,42163.65234375,64423.87109375,49939.55078125,79493.0546875,36432.8359375,44246.22265625,33683.26953125,57490.4453125,67393.6953125,53975.31640625,37306.3125,50610.51953125,58670.58203125,121291.8671875,102217.8671875,41617.10546875,53214.4140625,76280.84375,75178.3203125,73754.6640625,57577.89453125,53717.12109375,28626.83984375,66140.609375,30087.64453125,28784.876953125,27895.23046875,125964.3515625,40688.09375,55147.02734375,79813.5234375,28074.96875,60830.62890625,76645.6953125,88602.59375,81836.0390625,36684.640625,94637.1640625,50589.7578125,62856.1328125,40750.0078125,78187.03125,108350.328125,38682.328125,38675.78125,78501.75,44407.9921875,36432.8359375,48096.0234375,60278.515625,55817.68359375,49032.83984375,58209.48046875,101580.7890625,76065.453125,48238.13671875,56452.421875,53059.38671875,42556.92578125,73823.1640625,58592.3203125,23402.228515625,48611.66796875,38895.1640625,32551.140625,58868.01171875,56174.234375,58670.8984375,23456.134765625,90517.984375,60335.046875,91915.5234375,91018.328125,67468.7578125,55159.3359375,22129.61328125,84381.2890625,52027.41015625,73882.984375,35594.13671875,79008.2734375,58339.26953125,58648.8515625,35598.94140625,74676.6171875,39181.2890625,49470.89453125,37704.41015625,112763.0390625,87452.59375,57018.69140625,55636.328125,36656.84375,37457.33203125,75267.2265625,34135.1328125,23140.81640625,48089.56640625,68409.6328125,78429.1875,39132.04296875,108019.8359375,80491.421875,46044.4609375,89696.9453125,64326.87109375,38691.6171875,33813.02734375,74772.21875,89166.7578125,60808.5,62461.76171875,50173.45703125,56849.73828125,83656.890625,33704.4765625,88288.03125,79960.9375,53288.3515625,54086.75,33728.3125,77385.171875,88846.7265625,41571.546875,43113.875,30396.71484375,64794.9765625,39771.9453125,71140.015625,79335.140625,75945.8984375,48696.2265625,39993.1640625,74738.8984375,72532.234375,41594.54296875,39023.65625,61927.5390625,28114.767578125,75707.140625,97207.4140625,30296.57421875,44871.19140625,88972.953125,26005.78125,45048.21875,69512.109375,33996.578125,69190.8984375,40136.4375,81355.5625,19061.181640625,58020.33984375,59788.1796875,65299.7734375,46175.4375,93332.1796875,40862.76953125,76655.4921875,36300.08984375,81199.46875,88071.625,88285.53125,77815.75,49902.40234375,26496.724609375,92011.8359375,69188.2421875,88315.8125,68937.3359375,31167.515625,51697.0,57055.35546875,92313.8515625,45114.8046875,60663.91015625,91804.1484375,89843.734375,66568.8515625,33797.60546875,30648.8046875,96503.21875,48696.2265625,61938.109375,48193.21484375,46963.71875,34022.34765625,65452.82421875,54580.203125,79530.328125,87511.4375,43650.44921875,48096.0234375,41955.05078125,78415.4296875,48089.56640625,35085.05078125,44204.3125,47658.375,49174.39453125,75551.3046875,100417.375,82281.2734375,55636.328125,86335.578125,63059.4765625,58593.13671875,13951.1845703125,45583.7734375,48696.2265625,86657.28125,68958.609375,53312.87109375,47012.37890625,93340.8671875,47602.79296875,64991.9375,42137.39453125,38917.875,47493.18359375,85357.3671875,79283.28125,62378.33203125,42120.12890625,49113.4296875,65043.2421875,23644.138671875,36935.72265625,79530.328125,50145.7265625,85948.609375,46211.63671875,80893.828125,38779.78515625,84032.3828125,30408.353515625,61394.21875,40808.34375,36276.19921875,37252.9140625,62327.3125,55595.29296875,23485.365234375,61858.45703125,48096.0234375,46736.90625,108877.4296875,64126.90234375,46244.2734375,25978.107421875,79172.453125,68409.6328125,50589.14453125,38068.65625,46963.71875,34122.171875,44040.44921875,52310.4453125,69603.7109375,43113.875,62178.703125,46606.9609375,41527.6796875,121907.609375,32287.3515625,37157.046875,132624.578125,76661.6328125,83998.4375,102763.7265625,71704.8515625,86511.21875,60450.72265625,70619.984375,53604.2734375,98403.3125,86852.1953125,53059.38671875,91990.5,30285.21484375,32626.84375,50774.48828125,50000.609375,22220.779296875,42756.33203125,88251.3203125,49514.66015625,44027.08203125,74921.8515625,68947.6015625,31914.162109375,64369.2578125,37645.66796875,65344.1328125,36545.515625,62961.04296875,39007.02734375,93683.5,33409.30859375,72531.46875,100159.078125,51186.703125,88785.953125,73396.328125,90005.3359375,67736.046875,67536.3984375,76997.984375,69935.375,57102.41796875,65837.2265625,40077.875,73233.875,65649.2890625,42466.80078125,47193.98828125,83656.484375,65672.15625,75784.7578125,48769.3125,92010.53125,78708.015625,39749.16796875,43122.3828125,32426.857421875,41847.05078125,57592.25,35613.8671875,51852.03125,54402.0625,66456.71875,31857.76953125,93790.4765625,93200.7421875,59758.5546875,94877.0078125,118594.921875,81886.3828125,60163.51953125,58031.0703125,52292.33984375,53201.59765625,85342.65625,87764.7421875,63435.609375,49858.546875,42604.0390625,33827.87109375,65837.2265625,49523.57421875,86363.1171875,74105.2421875,37098.26171875,51951.76953125,80036.5703125,71232.7890625,63146.953125,50684.953125,26323.6796875,64053.46875,63497.4765625,99958.5,69268.984375,30803.7265625,97953.8046875,63299.12109375,62178.703125,105309.2421875,47602.79296875,4816.91552734375,77408.6953125,83172.828125,82639.9921875,98173.6640625,56040.90234375,112957.3046875,30648.8046875,74676.6171875,37243.87109375,126472.90625,89617.0703125,116078.9375,47475.59375,52805.65625,45343.7578125,72790.96875,9238.97265625,46055.86328125,73717.0078125,75662.9921875,48193.21484375,114075.390625,58753.59765625,69532.25,54949.08203125,43928.09765625,78516.515625,59250.98828125,29257.890625,42385.1640625,23631.66015625,58868.01171875,104209.7734375,90288.203125,105072.40625,63391.62890625,27090.84765625,83268.296875,87778.1484375,72137.6953125,76655.4921875,71970.75,76797.4140625,56346.1796875,41283.00390625,54639.6015625,61577.88671875,47890.69140625,109662.21875,65993.078125,28815.31640625,88283.46875,37083.62890625,54499.5859375,86602.96875,24136.599609375,42120.12890625,77242.8203125,101261.5234375,45295.23828125,22921.646484375,45354.44921875,46507.609375,28959.35546875,93640.390625,38363.80078125,40710.23828125,102085.3203125,55584.5625,69090.6796875,28865.791015625,89696.9453125,46682.47265625,40484.203125,59788.1796875,79439.2421875,41574.4609375,25914.39453125,39062.03515625,75458.546875,73810.296875,60606.2265625,50739.81640625,55977.1640625,37083.62890625,34115.625,86174.8046875,92978.703125,37306.3125,61976.77734375,70122.6875,72257.796875,42030.39453125,48226.2734375,40454.69140625,105225.4140625,23477.611328125,39584.70703125,66456.71875,44149.82421875,78323.2578125,103723.9375,32549.828125,47700.5,79169.6484375,37117.14453125,54285.1953125,84763.234375,41079.9609375,77540.5546875,63081.6796875,49883.7109375,38500.6484375,67076.9921875,81915.140625,78382.390625,41994.328125,64230.53125,85859.8359375,71318.8359375,51223.9765625,49290.01171875,68685.96875,45589.12890625,49407.3671875,45214.8984375,44881.31640625,16855.11328125,32887.08203125,53187.45703125,69662.7890625,62730.234375,80534.78125,47681.89453125,101642.8125,38760.90625,103303.2109375,37225.2421875,58235.94921875,58722.3671875,66144.21875,38691.6171875,91187.7265625,58170.828125,49980.30078125,86987.34375,53749.51953125,31655.15234375,47868.77734375,40990.09375,44055.0546875,47324.74609375,63219.6640625,45862.3359375,36886.82421875,48226.9765625,96672.8671875,31159.599609375,108895.921875,59586.125,50887.48828125,81879.171875,87579.4296875,72925.5859375,90023.5078125,77044.8671875,51089.875,83622.78125,55198.359375,94204.125,61394.21875,81589.84375,55178.97265625,99142.890625,40190.55859375,11548.4892578125,52374.30078125,57577.89453125,57935.76953125,68154.78125,25631.228515625,39930.140625,93464.328125,82506.0703125,90459.4453125,66213.5625,61507.4609375,37538.2109375,26196.8515625,98154.265625,55893.4765625,87180.515625,79435.515625,51960.61328125,57880.69921875,72240.5625,83074.5,31129.78515625,72151.1328125,60794.2734375,77889.375,78844.7734375,71204.3203125,3649.441162109375,79169.6484375,71943.046875,55548.859375,44666.45703125,70193.3515625,68028.515625,58498.078125,38500.6484375,78292.2109375,54162.671875,45048.21875,92610.921875,56522.52734375,51120.5625,65826.4140625,36276.19921875,78757.375,33612.33984375,55924.02734375,92106.140625,41967.015625,72925.5859375,74924.4609375,50739.81640625,46285.4921875,100385.7109375,54499.5859375,77208.7421875,41418.6171875,33683.26953125,49394.03515625,58037.58984375,109270.78125,62044.25390625,67197.75,53518.046875,50776.43359375,101014.0625,67257.234375,81755.0078125,53059.38671875,80744.21875,58750.9140625,80314.09375,81278.9609375,60296.30859375,94614.2890625,84294.21875,42351.59765625,47125.37109375,44522.55078125,94978.109375,111282.2421875,59371.31640625,36994.55078125,70158.515625,36820.78125,65826.4140625,58557.76171875,85087.109375,49508.96484375,76177.703125,53734.82421875,77438.5234375,38793.78125,69808.984375,32500.0546875,58899.5234375,82602.0390625,83051.8828125,79642.0234375,80491.421875,61082.0,36537.55859375,33599.140625,51232.6484375,43956.65625,104697.8984375,39452.828125,86363.1171875,73512.421875,38834.109375,103381.5,44489.9453125,34872.6796875,33741.078125,36119.9609375,39371.54296875,63915.671875,90459.4453125,52480.609375,25688.91796875,47283.08203125,76057.75,76630.84375,46285.4921875,28561.916015625,61349.484375,72601.9453125,38591.13671875,61841.6328125,34406.8203125,88285.53125,74060.328125,79642.0234375,78687.5859375,78209.9921875,33973.1015625,69625.9921875,118993.1875,58556.02734375,64832.46875,68347.6484375,68347.6484375,55953.55078125,95527.34375,37520.625,63992.875,44003.53515625,83218.3515625,53977.19140625,30158.849609375,70646.2734375,87738.1953125,60670.46875,32673.595703125,49812.390625,91065.421875,54485.625,35623.61328125,53549.28515625,85457.484375,82392.625,42932.09375,79666.0859375,71653.6484375,106034.1796875,37152.0390625,56389.08984375,49523.57421875,50000.609375,67907.3671875,38126.234375,44220.97265625,61101.98828125,42935.3046875,70605.53125,56282.79296875,68464.6796875,93812.015625,33632.87109375,63391.62890625,87660.484375,65304.9296875,121697.6171875,40655.4453125,35918.703125,54580.203125,37956.1796875,20561.603515625,45187.91015625,56552.76953125,92490.6953125,107881.625,37068.97265625,44282.9453125,87161.2578125,41019.73828125,79275.0390625,58906.265625,58020.33984375,67186.3125,93145.7578125,78757.375,37903.24609375,36303.94140625,73346.765625,73044.5859375,105813.2578125,59758.34375,65899.109375,50652.7578125,59689.5859375,40655.4453125,81739.46875,83938.3984375,76430.15625,46527.6953125,69241.765625,92374.859375,101557.96875,71189.6875,34534.3203125,38364.43359375,57219.97265625,70158.515625,53201.59765625,28005.666015625,107565.2890625,89389.0625,36456.18359375,27804.755859375,58987.07421875,25139.603515625,78811.8359375,91104.4296875,82878.90625,59860.65234375,44382.36328125,75180.875,61623.9609375,40610.78125,71596.5390625,38364.43359375,24929.896484375,29609.2421875,79335.140625,82090.7265625,31050.3828125,100239.890625,46450.0,91018.328125,63891.0859375,75825.9296875,33564.796875,70568.4921875,25453.94921875,78817.9609375,36119.9609375,85447.109375,63906.29296875,57674.2421875,61533.58203125,34087.2734375,77359.6015625,49224.2578125,90420.2421875,32293.28125,76661.6328125,91268.828125,69497.6015625,41947.3359375,38984.41015625,99644.5546875,60251.390625,43341.90625,72175.5703125,50237.2734375,35944.3671875,49890.84765625,82295.78125,47569.2890625,34640.546875,55178.97265625,58448.375,54485.625,104393.421875,37773.19921875,51089.875,58769.515625,26006.33203125,88958.703125,54230.56640625,71094.5546875,101014.0625,37371.73046875,49181.02734375,58740.50390625,85900.546875,50979.15625,102226.96875,112067.1953125,51880.5703125,49065.59765625,90432.8359375,54567.57421875,47335.9453125,66923.3125,34355.0234375,82281.2734375,127631.2109375,41594.54296875,89166.7578125,90068.359375,85234.703125,54842.46875,54230.56640625,36918.34765625,86126.421875,90733.0,66687.046875,65422.03515625,31767.66796875,85487.1640625,30886.076171875,26097.3125,78464.015625,101901.46875,58539.1484375,143753.640625,25994.25,58339.26953125,87332.6796875,87613.3359375,48474.02734375,35671.4765625,41477.66796875,21456.599609375,36887.3671875,96136.7265625,76128.671875,128971.0546875,75066.8203125,63915.671875,47842.05078125,30628.28515625,57416.26171875,46776.51953125,45060.625,37932.515625,72924.8984375,52450.9765625,48073.5234375,47886.95703125,90594.375,77094.375,60450.72265625,64656.328125,70158.515625,63176.23828125,45160.07421875,86116.625,57967.40625,124827.2578125,70867.5703125,36865.05078125,46787.28125,89181.296875,54057.33984375,80756.4765625,32179.154296875,91935.0703125,24755.20703125,50257.89453125,85986.0859375,29285.603515625,31104.587890625,51096.58203125,34111.015625,20301.111328125,40103.04296875,48980.2890625,50309.78515625,60808.5,121633.1875,47768.71875,90000.7265625,72790.96875,28013.1484375,49500.6171875,83807.7578125,31825.2109375,70858.890625,80444.2734375,42209.12890625,51281.37890625,85171.234375,39233.01171875,48711.21875,63589.45703125,60636.390625,75052.0,50169.921875,49523.57421875,54567.57421875,57006.921875,79045.9765625,70122.6875,20472.47265625,51887.68359375,39070.83984375,47335.9453125,40610.78125,73308.125,90375.0234375,47061.48046875,85052.2734375,78976.6640625,82088.6953125,110856.0234375,93379.2265625,45083.9921875,33875.1953125,39371.54296875,58020.33984375,56377.5078125,72781.296875,64781.1796875,71992.921875,70358.1796875,56047.0,47493.18359375,46244.2734375,64099.4140625,91694.3125,28192.234375,85910.0859375,53762.25390625,101705.5234375,64812.59765625,91108.5703125,80537.0390625,26250.24609375,83243.3828125,52296.62109375,39926.98046875,79960.9375,84030.484375,75150.2109375,71596.125,26452.5703125,108377.03125,82144.4609375,46211.63671875,62044.25390625,66869.6953125,58648.8515625,92212.6484375,95206.0859375,50887.48828125,28074.96875,50001.2890625,62576.6953125,69779.953125,89341.3671875,79960.9375,70582.1015625,80857.8828125,56336.1328125,23988.25390625,91127.0703125,145941.140625,97512.625,32295.54296875,83315.2734375,77084.953125,30438.50390625,60504.703125,73308.125,77381.9765625,47644.6484375,40024.34765625,103588.1875,41491.9296875,100846.5703125,26616.244140625,63915.671875,43766.30859375,53021.0390625,38500.6484375,83050.328125,54739.91796875,75249.6171875,107509.9921875,58652.5390625,34355.0234375,88313.4375,52616.453125,83627.0390625,111078.9453125,57422.52734375,131860.03125,98477.4765625,40538.07421875,47578.26953125,37426.390625,82090.7265625,136769.25,32511.171875,48509.921875,54575.05078125,47147.40234375,76435.265625,101063.484375,53823.078125,78888.859375,78045.375,93027.546875,51547.1953125,45214.8984375,67863.1015625,64052.97265625,58012.99609375,91694.3125,55584.5625,25447.30859375,103481.171875,49523.57421875,107761.359375,43478.18359375,102131.2109375,51952.578125,86456.171875,23644.138671875,91120.578125,63299.12109375,90695.4375,50776.43359375,60534.74609375,92627.2890625,59010.9140625,38367.05078125,29912.970703125,39223.36328125,75945.8984375,52027.41015625,50237.2734375,34660.00390625,89065.8671875,45346.00390625,53187.45703125,47335.9453125,85910.0859375,34856.9296875,60747.0,38500.6484375,38871.09765625,76867.53125,30972.83203125,48210.1484375,45094.0546875,45857.01171875,41477.66796875,65165.75,41039.03125,47951.15234375,64846.27734375,27343.0859375,39256.47265625,57422.52734375,57149.953125,58369.05078125,90068.359375,87593.1640625,28938.86328125,41778.2265625,79172.453125,79823.2109375,40484.203125,24145.396484375,42146.109375,58262.90234375,85948.609375,70619.984375,102633.921875,88093.7734375,59503.1484375,24146.95703125,69226.5390625,60164.453125,57276.6953125,37669.24609375,91101.4921875,36037.1484375,35491.0546875,77808.375,66732.8359375,40934.27734375,69532.25,64407.53125,33599.140625,57695.11328125,79887.7421875,30511.15234375,50610.51953125,109256.96875,81415.5625,89999.359375,79419.625,88645.0625,67521.7734375,83925.0625,64798.734375,83925.0625,87776.3203125,51685.8203125,23637.720703125,60278.515625,97153.5078125,39272.59375,86174.8046875,55198.359375,59689.5859375,52616.453125,60167.5390625,85439.359375,38691.6171875,57592.25,27568.44140625,102680.4140625,46682.47265625,82964.75,71445.21875,59454.94140625,36182.8984375,65299.7734375,78868.484375,60278.515625,86363.046875,94608.9375,71261.0,31427.826171875,49858.546875,24929.896484375,58759.26171875,101154.125,47420.09375,49032.83984375,85302.5546875,76867.53125,54140.47265625,53921.5859375,99274.828125,40786.88671875,100416.9140625,53158.66796875,58743.12890625,46819.9921875,41102.015625,61918.2421875,32728.26953125,42236.8046875,52616.453125,38906.40234375,36994.55078125,72217.9140625,22018.240234375,41349.98828125,37051.12109375,71378.609375,26687.3359375,42258.73828125,68089.28125,66855.7890625,85478.5,56761.8203125,41359.9296875,62178.703125,40249.58984375,90350.921875,88283.46875,54290.234375,45368.80078125,54980.32421875,93145.7578125,66038.1640625,94557.84375,40390.5234375,58906.265625,66166.78125,59534.93359375,38231.765625,108770.875,51923.08984375,43247.484375,50381.734375,97539.703125,63891.0859375,47824.19140625,83400.6015625,56350.73828125,72137.6953125,38108.6796875,41070.72265625,22551.650390625,63497.4765625,66040.9609375,47005.625,95679.265625,41755.5859375,60584.06640625,97222.09375,75474.8515625,69855.8515625,56566.29296875,81825.90625,132341.65625,58750.9140625,121023.9609375,41792.1796875,80483.0,51228.01953125,55930.56640625,68958.609375,35598.94140625,40773.359375,50380.15234375,69057.328125,88602.015625,51547.1953125,63437.08984375,92771.3359375,37127.94140625,55953.55078125,116399.03125,96426.4453125,89392.5,58753.59765625,87064.78125,57295.52734375,49626.28515625,54703.33984375,99295.109375,54639.6015625,87161.2578125,61527.62109375,95839.6640625,36784.41015625,40368.78515625,74105.2421875,93027.546875,95818.1953125,110377.484375,39091.76953125,72628.9453125,73960.484375,63176.23828125,64332.10546875,95831.734375,58759.26171875,96461.234375,54720.95703125,74747.2109375,45251.32421875,69579.921875,38760.90625,51369.73046875,49552.3046875,77889.375,58639.6875,85110.53125,58869.29296875,36382.390625,63325.421875,75136.1171875,17178.509765625,61394.21875,55873.2578125,66746.1328125,36641.51171875,31655.15234375,45234.24609375,58407.1484375,82619.640625,82602.0390625,51228.01953125,55800.23046875,97953.8046875,72790.96875,53823.078125,52280.89453125,64326.87109375,48124.83984375,66303.7890625,90876.3125,41813.796875,101955.453125,49787.69921875,81933.0546875,27935.16796875,67902.671875,54842.46875,33535.5078125,51190.8359375,60890.71484375,54162.671875,71140.015625,45693.3671875,56133.87109375,43671.53125,45556.10546875,70635.625,99444.8515625,24236.33203125,69595.21875,80893.0703125,90167.90625,45048.21875,57695.11328125,39651.51171875,65085.37890625,34598.171875,57297.8125,44505.4609375,58589.125,36622.4765625,70586.6796875,35315.88671875,88712.9609375,31411.140625,88787.09375,106434.578125,73004.1640625,48073.5234375,82565.1015625,57936.98046875,59822.5,61821.4765625,73926.9453125,38383.15234375,67180.46875,76493.25,60621.03515625,34900.76953125,98947.3515625,60612.609375,36625.7890625,71512.6953125,44957.5859375,57727.078125,59689.5859375,113553.6328125,89152.875,78696.7578125,49723.94140625,53891.88671875,57577.89453125,87755.0703125,61208.2421875,42255.60546875,94985.03125,101642.8125,60798.86328125,54754.85546875,111078.9453125,44407.9921875,41477.66796875,99040.1875,51002.890625,46450.0,70420.4609375,81020.109375,51715.1484375,86308.6796875,40136.4375,96280.109375,51181.4921875,73696.9296875,35224.48828125,46094.79296875,41283.00390625,92313.8515625,78522.71875,59157.5,44071.4921875,37906.87109375,37710.59375,41224.97265625,63932.359375,52616.453125,77320.0703125,46434.97265625,37306.3125,78859.5234375,93538.421875,76552.5,54014.7578125,47951.15234375,72009.03125,54402.0625,58020.33984375,89933.609375,37431.5,101853.640625,82644.3984375,46545.45703125,42716.70703125,85171.234375,84798.0234375,65283.3359375,38179.44921875,78522.71875,23749.55859375,110924.671875,58315.515625,66988.59375,37015.68359375,76191.2421875,92643.7109375,36974.79296875,40368.78515625,58448.375,89901.09375,56333.19921875,113957.296875,98264.515625,56251.41796875,52007.875,67902.671875,103878.53125,38340.82421875,64258.71484375,78991.5703125,71837.1796875,58489.97265625,72766.015625,47942.7421875,62545.41796875,57497.53515625,63898.5,43294.27734375,56954.31640625,61445.296875,83246.4453125,90449.3828125,66137.578125,80872.890625,63811.66796875,53158.66796875,49500.6171875,76997.984375,115009.125,48768.66796875,47896.4375,35079.66796875,37833.6796875,69744.6015625,93464.5859375,64991.9375,107057.921875,48830.0703125,31900.806640625,96610.8515625,48772.0234375,55734.75,64828.85546875,80413.5546875,77970.421875,75482.1640625,58750.9140625,55149.31640625,70277.8984375,70867.5703125,42174.45703125,73308.125,57102.41796875,82371.546875,54980.32421875,39132.58984375,52374.30078125,70748.296875,68958.609375,56309.73828125,92035.796875,35918.703125,83087.8203125,58448.375,55595.29296875,55709.83203125,53908.078125,23881.09375,51994.546875,40034.8046875,90919.2109375,26205.134765625,93019.484375,62339.27734375,85793.140625,76182.75,56731.4375,48509.921875,38714.81640625,54014.7578125,53952.078125,82281.2734375,62378.33203125,33343.9140625,67736.046875,71542.2109375,57149.953125,36195.49609375,65717.7890625,39743.125,82512.234375,24793.857421875,46032.0078125,100897.578125,99481.3828125,36058.1484375,45077.11328125,54663.8359375,21707.5625,68295.4765625,28612.99609375,30710.75390625,77881.3515625,66796.3125,88948.34375,24236.33203125,71656.625,44654.40625,40933.73046875,59418.76171875,69188.2421875,58293.609375,24275.166015625,38691.6171875,65826.4140625,64947.46484375,54086.75,60163.51953125,51366.64453125,39301.265625,23477.611328125,53361.39453125,101149.109375,77084.953125,66336.3671875,105264.8046875,62870.65625,43937.23046875,102521.8203125,38364.43359375,42777.125,51711.9921875,47633.47265625,76532.015625,56849.73828125,76555.109375,109433.0625,60830.62890625,61927.5390625,73933.3203125,74602.9140625,86455.9375,89152.875,39007.02734375,66471.796875,59948.33984375,39806.46875,38832.1484375,111268.578125,41947.3359375,45160.07421875,21206.1953125,37127.94140625,73132.6171875,42931.4296875,52037.1953125,66637.8359375,120970.734375,81131.5,84247.2421875,54199.5,44450.375,49162.17578125,98267.4765625,51769.265625,78920.46875,67389.1875,83548.828125,61101.98828125,31340.525390625,75787.140625,69047.390625,74770.6875,51057.0625,70990.4609375,52268.16015625,34589.1484375,53934.27734375,52342.8125,49523.57421875,61841.6328125,80011.953125,116771.796875,93342.0546875,68696.7265625,60497.72265625,95691.28125,73308.125,53565.18359375,84413.171875,90288.203125,74738.8984375,104122.78125,51115.63671875,53530.34765625,55281.984375,74400.34375,41349.98828125,41330.44921875,46211.63671875,40139.0078125,64440.40234375,29697.62890625,70547.2265625,63693.46875,106898.28125,93515.828125,29550.865234375,54173.52734375,91973.3203125,25082.009765625,74955.3671875,64171.6484375,43744.83203125,86593.171875,60278.515625,66048.53125,46211.63671875,35918.703125,33813.02734375,52616.453125,98381.8828125,46394.1015625,79400.6796875,13113.8291015625,61623.9609375,25029.146484375,80791.546875,117697.96875,55240.27734375,64258.71484375,45343.7578125,77230.03125,47868.77734375,68347.6484375,55709.83203125,49939.55078125,70420.4609375,41264.29296875,48731.91796875,74848.2734375,36276.19921875,62947.32421875,43032.13671875,33996.578125,42309.83203125,17170.251953125,73601.8828125,37216.109375,77717.953125,80255.15625,64832.46875,104938.2421875,76493.25,83803.3125,44986.2890625,69742.1875,54833.875,85031.7421875,32220.158203125,70976.4453125,90068.359375,88270.2109375,42236.8046875,49963.69140625,46032.0078125,44500.875,48000.74609375,30905.150390625,75662.9921875,44409.3984375,44939.1484375,57096.55859375,41568.27734375,95047.96875,131243.546875,65156.8359375,90068.359375,40281.87109375,68739.1953125,71266.953125,41897.59765625,33120.57421875,69076.3359375,59379.921875,79045.9765625,51697.0,78556.6171875,65826.4140625,42756.33203125,84050.703125,67448.6015625,123323.984375,57006.1484375,51560.5078125,38578.6015625,104268.28125,68347.6484375,57285.546875,32523.650390625,31557.830078125,59386.4453125,54575.05078125,35918.703125,61034.23828125,39272.59375,50890.98828125,61472.234375,41641.84375,38489.4140625,91692.640625,36075.05078125,88093.7734375,41947.3359375,25939.919921875,54372.296875,40038.17578125,41700.23046875,42835.97265625,83265.3359375,41424.6796875,36622.4765625,40194.42578125,45553.51953125,40404.7265625,40872.58203125,140519.3125,44880.62890625,56271.8359375,36058.1484375,42174.45703125,52159.671875,49030.34375,54255.23828125,59400.7109375,46231.48046875,37576.71484375,44266.95703125,127236.8515625,55359.375,37292.51953125,91906.15625,33192.63671875,69947.5078125,82128.2578125,76984.5234375,86196.3046875,50072.40625,53246.44921875,62892.078125,37048.34765625,28798.05859375,38779.78515625,57527.5234375,83407.171875,98381.8828125,92212.6484375,103785.0078125,138247.75,75315.5859375,51435.3515625,85342.65625,58209.48046875,79673.8671875,58985.28125,50343.65234375,38691.6171875,36119.9609375,105853.3203125,75150.2109375,47886.95703125,14912.7119140625,53169.8125,71992.921875,39562.01953125,51717.16015625,114488.453125,78464.015625,68409.6328125,68958.609375,31488.083984375,32573.3203125,81344.4921875,42258.73828125,42255.60546875,61034.23828125,72532.234375,35918.703125,32927.59375,79785.453125,41994.328125,45417.03125,104753.28125,50002.01953125,78577.53125,41527.6796875,74962.15625,69579.921875,65305.69140625,30637.84765625,78909.7734375,34364.171875,58315.515625,44147.90234375,30637.40234375,95679.265625,83050.328125,67393.6953125,57276.80078125,65299.7734375,36538.27734375,86139.5390625,86422.171875,79966.8046875,40281.87109375,71158.0859375,4479.46875,93236.34375,26105.01953125,36160.76953125,74885.6875,47229.484375,65902.9296875,62555.09765625,79673.8671875,12575.73046875,45094.0546875,83221.5234375,36894.29296875,41840.4375,84247.2421875,68726.8828125,43717.50390625,41045.1015625,36162.53515625,96336.5234375,124236.2109375,79439.2421875,85282.53125,57880.69921875,33424.5078125,50803.03515625,33813.02734375,44729.984375,85950.0,42163.65234375,37313.44140625,103131.4375,87373.1796875,79439.2421875,44306.10546875,28261.7109375,57539.03125,41875.8828125,77044.8671875,32082.904296875,23358.0703125,77242.8203125,73882.984375,38691.6171875,31318.75390625,93801.765625,64350.0625,45481.6875,77601.7734375,44999.62109375,30658.6484375,116385.6171875,45160.07421875,50776.43359375,69742.1875,71704.8515625,31382.12109375,66519.0,47063.32421875,66456.71875,83627.0390625,65385.01171875,37891.2890625,58262.90234375,91352.2578125,43870.078125,22397.390625,49713.85546875,37034.50390625,81043.7421875,65085.37890625,34044.15234375,88067.96875,51745.98046875,97157.6640625,55424.71484375,104515.7734375,89246.6171875,100159.078125,41617.4453125,79253.40625,59481.09765625,67180.46875,75662.9921875,110051.421875,84763.234375,48141.44921875,45876.96875,58686.328125,47644.6484375,78337.8359375,38363.1015625,82715.8828125,60296.30859375,38364.43359375,58906.265625,96280.109375,70158.515625,54339.125,82244.0703125,42410.92578125,41202.8125,47514.5078125,106324.109375,67498.265625,87911.078125,58906.265625,88321.6875,54354.28125,26926.033203125,46640.54296875,86787.4765625,82407.859375,27631.599609375,37766.08203125,70490.0625,83907.515625,38574.6171875,51875.78515625,74774.5625,36029.8828125,53532.12890625,38834.109375,77970.421875,60631.0,66854.4296875,31095.69140625,68813.453125'"
      ]
     },
     "execution_count": 34,
     "metadata": {},
     "output_type": "execute_result"
    }
   ],
   "source": [
    "result"
   ]
  },
  {
   "cell_type": "code",
   "execution_count": 48,
   "metadata": {},
   "outputs": [
    {
     "data": {
      "text/plain": [
       "34949    10号名邸 3室2厅 205.98平米\n",
       "Name: Community, dtype: object"
      ]
     },
     "execution_count": 48,
     "metadata": {},
     "output_type": "execute_result"
    }
   ],
   "source": [
    "X_valid_xgb_new['Community'][:1]"
   ]
  },
  {
   "cell_type": "code",
   "execution_count": 70,
   "metadata": {
    "scrolled": true
   },
   "outputs": [],
   "source": [
    "result2 = result.split(',')\n",
    "result_list = []\n",
    "\n",
    "for i in result2:\n",
    "    i = round(float(i),2)\n",
    "    result_list.append(i)\n",
    "\n",
    "X_valid_xgb_new['Prediction'] = result_list\n",
    "X_valid_xgb_new['Error'] = abs(X_valid_xgb_new['Price/Square Meter'] - X_valid_xgb_new['Prediction'])\n",
    "\n",
    "X_valid_xgb_new['Community'] = X_valid_xgb_new['Community'].str.split(pat = ' ')\n",
    "\n",
    "first30 = X_valid_xgb_new.head(10000)"
   ]
  },
  {
   "cell_type": "code",
   "execution_count": 71,
   "metadata": {},
   "outputs": [],
   "source": [
    "for j in range(len(first30['Community'])):\n",
    "\n",
    "    first30['Community'].iloc[j] = first30['Community'].iloc[j][0]"
   ]
  },
  {
   "cell_type": "code",
   "execution_count": 72,
   "metadata": {},
   "outputs": [],
   "source": [
    "first30 = first30.rename(columns = {'Livable Area': 'Livable_Area'})"
   ]
  },
  {
   "cell_type": "code",
   "execution_count": 73,
   "metadata": {},
   "outputs": [],
   "source": [
    "import ipywidgets as widgets\n",
    "from IPython.display import display\n",
    "import seaborn as sns\n",
    "import matplotlib.pyplot as plt\n",
    "\n",
    "\n",
    "# ALL_1 = 'ALL (Livable Area)'\n",
    "# ALL_2 = 'ALL (Decoration Level)'\n",
    "# ALL_3 = 'ALL (Year Built)'\n",
    "ALL_4 = 'ALL (Community)'\n",
    "ALL_5 = 'ALL (Floor Plan)'\n",
    "\n",
    "# def unique_sorted_values_plus_Livable_Area(array):\n",
    "#     unique = array.unique().tolist()\n",
    "#     unique.sort()\n",
    "#     unique.insert(0, ALL_1)\n",
    "#     return unique\n",
    "\n",
    "def unique_sorted_values_plus_Community(array):\n",
    "    unique = array.unique().tolist()\n",
    "    unique.sort()\n",
    "    unique.insert(0, ALL_4)\n",
    "    return unique\n",
    "\n",
    "def unique_sorted_values_plus_Floor_Plan(array):\n",
    "    unique = array.unique().tolist()\n",
    "    unique.sort()\n",
    "    unique.insert(0, ALL_5)\n",
    "    return unique\n",
    "\n",
    "\n",
    "\n",
    "\n",
    "output = widgets.Output()\n",
    "plot_output = widgets.Output()\n",
    "\n",
    "# dropdown_Livable_Area = widgets.Dropdown(options = unique_sorted_values_plus_Livable_Area(first30.Livable_Area))\n",
    "dropdown_Community = widgets.Dropdown(options = unique_sorted_values_plus_Community(first30.Community))\n",
    "dropdown_Floor_Plan = widgets.Dropdown(options = unique_sorted_values_plus_Floor_Plan(first30.Floor_Plan))\n",
    "\n",
    "\n",
    "def common_filtering(Community, Floor_Plan):\n",
    "    output.clear_output()\n",
    "    plot_output.clear_output()\n",
    "    \n",
    "    if (Community == ALL_4) & (Floor_Plan == ALL_5) :\n",
    "        common_filter = first30\n",
    "    elif (Community == ALL_4):\n",
    "        common_filter = first30[first30.Floor_Plan == Floor_Plan]\n",
    "    elif (Floor_Plan == ALL_5):\n",
    "        common_filter = first30[first30.Community == Community]\n",
    "    else:\n",
    "        common_filter = first30[(first30.Community == Community) & \n",
    "                                  (first30.Floor_Plan == Floor_Plan)]\n",
    "    \n",
    "    with output:\n",
    "        display(common_filter)\n",
    "        \n",
    "    with plot_output:\n",
    "        sns.kdeplot(common_filter['Price/Square Meter'], shade=True)\n",
    "        plt.show()\n",
    "    \n",
    "        \n",
    "def dropdown_Community_eventhandler(change):\n",
    "    common_filtering(change.new, dropdown_Floor_Plan.value)\n",
    "    \n",
    "def dropdown_Floor_Plan_eventhandler(change):\n",
    "    common_filtering(dropdown_Community.value, change.new)\n",
    "    \n",
    "dropdown_Community.observe(dropdown_Community_eventhandler, names='value')\n",
    "dropdown_Floor_Plan.observe(dropdown_Floor_Plan_eventhandler, names='value')"
   ]
  },
  {
   "cell_type": "code",
   "execution_count": 74,
   "metadata": {},
   "outputs": [
    {
     "data": {
      "application/vnd.jupyter.widget-view+json": {
       "model_id": "4d5e098c0d954ebf94127c828bcc21c2",
       "version_major": 2,
       "version_minor": 0
      },
      "text/plain": [
       "VBox(children=(HBox(children=(Dropdown(options=('ALL (Community)', '10号名邸', '621小区', '七彩华园', '七省办', '七贤村', '万地…"
      ]
     },
     "metadata": {},
     "output_type": "display_data"
    }
   ],
   "source": [
    "item_layout = widgets.Layout(margin='0 0 50px 0')\n",
    "input_widgets = widgets.HBox([dropdown_Community, dropdown_Floor_Plan],layout=item_layout)\n",
    "\n",
    "tab = widgets.Tab([output, plot_output])\n",
    "tab.set_title(0, 'Dataset Exploration')\n",
    "tab.set_title(1, 'KDE Plot')\n",
    "\n",
    "dashboard = widgets.VBox([input_widgets, tab])\n",
    "display(dashboard)"
   ]
  },
  {
   "cell_type": "code",
   "execution_count": null,
   "metadata": {},
   "outputs": [],
   "source": []
  },
  {
   "cell_type": "code",
   "execution_count": null,
   "metadata": {},
   "outputs": [],
   "source": [
    "# sagemaker.Session().delete_endpoint(xgb_predictor.endpoint)"
   ]
  },
  {
   "cell_type": "code",
   "execution_count": null,
   "metadata": {},
   "outputs": [],
   "source": []
  }
 ],
 "metadata": {
  "kernelspec": {
   "display_name": "conda_python3",
   "language": "python",
   "name": "conda_python3"
  },
  "language_info": {
   "codemirror_mode": {
    "name": "ipython",
    "version": 3
   },
   "file_extension": ".py",
   "mimetype": "text/x-python",
   "name": "python",
   "nbconvert_exporter": "python",
   "pygments_lexer": "ipython3",
   "version": "3.6.10"
  }
 },
 "nbformat": 4,
 "nbformat_minor": 4
}
