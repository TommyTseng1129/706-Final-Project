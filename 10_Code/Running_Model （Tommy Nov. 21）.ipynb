{
 "cells": [
  {
   "cell_type": "code",
   "execution_count": 1,
   "metadata": {},
   "outputs": [],
   "source": [
    "import time\n",
    "import boto3\n",
    "import sagemaker\n",
    "import urllib\n",
    "import os\n",
    "import pandas as pd\n",
    "from sklearn.model_selection import train_test_split"
   ]
  },
  {
   "cell_type": "code",
   "execution_count": 2,
   "metadata": {},
   "outputs": [],
   "source": [
    "# 获取当前AWS region和notebook所绑定的role\n",
    "role = sagemaker.get_execution_role()\n",
    "region = boto3.Session().region_name"
   ]
  },
  {
   "cell_type": "code",
   "execution_count": 3,
   "metadata": {},
   "outputs": [],
   "source": [
    "# One has to set up a S3 bucket before running the code below\n",
    "bucket = 'tommy-lab'\n",
    "prefix = 'beijing-housing-data'"
   ]
  },
  {
   "cell_type": "code",
   "execution_count": 4,
   "metadata": {},
   "outputs": [
    {
     "name": "stdout",
     "output_type": "stream",
     "text": [
      "/home/ec2-user/SageMaker/706-Final-Project/10_Code\n"
     ]
    }
   ],
   "source": [
    "cwd = os.getcwd()\n",
    "print(cwd)"
   ]
  },
  {
   "cell_type": "code",
   "execution_count": 5,
   "metadata": {},
   "outputs": [],
   "source": [
    "X = pd.read_csv(\"/home/ec2-user/SageMaker/706-Final-Project/20_Cleaned_Data/prepared_data_tommy.csv\" )"
   ]
  },
  {
   "cell_type": "code",
   "execution_count": 6,
   "metadata": {},
   "outputs": [],
   "source": [
    "# # 可以使用 SageMaker session 来上传下载数据，这里把S3的训练数据下载到当前目录\n",
    "# sm_session = sagemaker.Session()\n",
    "# sm_session.download_data(\"./\", bucket, prefix + 'train.csv')\n",
    "# sm_session.download_data(\"./\", bucket, prefix + 'test.csv')"
   ]
  },
  {
   "cell_type": "code",
   "execution_count": 7,
   "metadata": {},
   "outputs": [
    {
     "data": {
      "text/html": [
       "<div>\n",
       "<style scoped>\n",
       "    .dataframe tbody tr th:only-of-type {\n",
       "        vertical-align: middle;\n",
       "    }\n",
       "\n",
       "    .dataframe tbody tr th {\n",
       "        vertical-align: top;\n",
       "    }\n",
       "\n",
       "    .dataframe thead th {\n",
       "        text-align: right;\n",
       "    }\n",
       "</style>\n",
       "<table border=\"1\" class=\"dataframe\">\n",
       "  <thead>\n",
       "    <tr style=\"text-align: right;\">\n",
       "      <th></th>\n",
       "      <th>Price/Square Meter</th>\n",
       "      <th>Housing_ID</th>\n",
       "      <th>Community</th>\n",
       "      <th>Livable Area</th>\n",
       "      <th>Price</th>\n",
       "      <th>Year_Built</th>\n",
       "      <th>Facing_East</th>\n",
       "      <th>Facing_North</th>\n",
       "      <th>Facing_South</th>\n",
       "      <th>Facing_West</th>\n",
       "      <th>Decoration_Level</th>\n",
       "      <th>Floor_Level</th>\n",
       "      <th>Floor_Plan</th>\n",
       "    </tr>\n",
       "  </thead>\n",
       "  <tbody>\n",
       "    <tr>\n",
       "      <th>0</th>\n",
       "      <td>38544.0</td>\n",
       "      <td>1</td>\n",
       "      <td>中关村南大街甲3号 2室1厅 56.3平米</td>\n",
       "      <td>56.30</td>\n",
       "      <td>217.0</td>\n",
       "      <td>1965</td>\n",
       "      <td>0</td>\n",
       "      <td>0</td>\n",
       "      <td>1</td>\n",
       "      <td>0</td>\n",
       "      <td>1</td>\n",
       "      <td>2</td>\n",
       "      <td>1</td>\n",
       "    </tr>\n",
       "    <tr>\n",
       "      <th>1</th>\n",
       "      <td>33667.0</td>\n",
       "      <td>2</td>\n",
       "      <td>中关村南大街甲3号 2室1厅 55.1平米</td>\n",
       "      <td>55.10</td>\n",
       "      <td>185.5</td>\n",
       "      <td>1965</td>\n",
       "      <td>0</td>\n",
       "      <td>0</td>\n",
       "      <td>1</td>\n",
       "      <td>0</td>\n",
       "      <td>3</td>\n",
       "      <td>1</td>\n",
       "      <td>1</td>\n",
       "    </tr>\n",
       "    <tr>\n",
       "      <th>2</th>\n",
       "      <td>91429.0</td>\n",
       "      <td>3</td>\n",
       "      <td>民族大学南路19号院 2室1厅 70平米</td>\n",
       "      <td>70.00</td>\n",
       "      <td>640.0</td>\n",
       "      <td>1993</td>\n",
       "      <td>0</td>\n",
       "      <td>0</td>\n",
       "      <td>1</td>\n",
       "      <td>0</td>\n",
       "      <td>1</td>\n",
       "      <td>3</td>\n",
       "      <td>1</td>\n",
       "    </tr>\n",
       "    <tr>\n",
       "      <th>3</th>\n",
       "      <td>102752.0</td>\n",
       "      <td>4</td>\n",
       "      <td>民族大学南路19号院 2室1厅 98.49平米</td>\n",
       "      <td>98.49</td>\n",
       "      <td>1012.0</td>\n",
       "      <td>2000</td>\n",
       "      <td>0</td>\n",
       "      <td>0</td>\n",
       "      <td>1</td>\n",
       "      <td>0</td>\n",
       "      <td>1</td>\n",
       "      <td>4</td>\n",
       "      <td>1</td>\n",
       "    </tr>\n",
       "    <tr>\n",
       "      <th>4</th>\n",
       "      <td>98847.0</td>\n",
       "      <td>5</td>\n",
       "      <td>民族大学南路19号院 2室1厅 60.7平米</td>\n",
       "      <td>60.70</td>\n",
       "      <td>600.0</td>\n",
       "      <td>1991</td>\n",
       "      <td>0</td>\n",
       "      <td>0</td>\n",
       "      <td>1</td>\n",
       "      <td>0</td>\n",
       "      <td>3</td>\n",
       "      <td>4</td>\n",
       "      <td>1</td>\n",
       "    </tr>\n",
       "  </tbody>\n",
       "</table>\n",
       "</div>"
      ],
      "text/plain": [
       "   Price/Square Meter  Housing_ID                Community  Livable Area  \\\n",
       "0             38544.0           1    中关村南大街甲3号 2室1厅 56.3平米         56.30   \n",
       "1             33667.0           2    中关村南大街甲3号 2室1厅 55.1平米         55.10   \n",
       "2             91429.0           3     民族大学南路19号院 2室1厅 70平米         70.00   \n",
       "3            102752.0           4  民族大学南路19号院 2室1厅 98.49平米         98.49   \n",
       "4             98847.0           5   民族大学南路19号院 2室1厅 60.7平米         60.70   \n",
       "\n",
       "    Price  Year_Built  Facing_East  Facing_North  Facing_South  Facing_West  \\\n",
       "0   217.0        1965            0             0             1            0   \n",
       "1   185.5        1965            0             0             1            0   \n",
       "2   640.0        1993            0             0             1            0   \n",
       "3  1012.0        2000            0             0             1            0   \n",
       "4   600.0        1991            0             0             1            0   \n",
       "\n",
       "   Decoration_Level  Floor_Level  Floor_Plan  \n",
       "0                 1            2           1  \n",
       "1                 3            1           1  \n",
       "2                 1            3           1  \n",
       "3                 1            4           1  \n",
       "4                 3            4           1  "
      ]
     },
     "execution_count": 7,
     "metadata": {},
     "output_type": "execute_result"
    }
   ],
   "source": [
    "# 通过describe来对查看一下训练数据feature的构成和分布\n",
    "X.head()"
   ]
  },
  {
   "cell_type": "code",
   "execution_count": 8,
   "metadata": {},
   "outputs": [],
   "source": [
    "# Extract the column Price/Square Meter from X\n",
    "y = X['Price/Square Meter']"
   ]
  },
  {
   "cell_type": "code",
   "execution_count": 9,
   "metadata": {},
   "outputs": [
    {
     "data": {
      "text/plain": [
       "0     38544.0\n",
       "1     33667.0\n",
       "2     91429.0\n",
       "3    102752.0\n",
       "4     98847.0\n",
       "Name: Price/Square Meter, dtype: float64"
      ]
     },
     "execution_count": 9,
     "metadata": {},
     "output_type": "execute_result"
    }
   ],
   "source": [
    "y.head()"
   ]
  },
  {
   "cell_type": "code",
   "execution_count": 10,
   "metadata": {},
   "outputs": [],
   "source": [
    "# Drop the column Price/Square Meter in X\n",
    "X.drop(['Price/Square Meter'], axis=1, inplace=True)"
   ]
  },
  {
   "cell_type": "code",
   "execution_count": 11,
   "metadata": {},
   "outputs": [
    {
     "data": {
      "text/html": [
       "<div>\n",
       "<style scoped>\n",
       "    .dataframe tbody tr th:only-of-type {\n",
       "        vertical-align: middle;\n",
       "    }\n",
       "\n",
       "    .dataframe tbody tr th {\n",
       "        vertical-align: top;\n",
       "    }\n",
       "\n",
       "    .dataframe thead th {\n",
       "        text-align: right;\n",
       "    }\n",
       "</style>\n",
       "<table border=\"1\" class=\"dataframe\">\n",
       "  <thead>\n",
       "    <tr style=\"text-align: right;\">\n",
       "      <th></th>\n",
       "      <th>Housing_ID</th>\n",
       "      <th>Community</th>\n",
       "      <th>Livable Area</th>\n",
       "      <th>Price</th>\n",
       "      <th>Year_Built</th>\n",
       "      <th>Facing_East</th>\n",
       "      <th>Facing_North</th>\n",
       "      <th>Facing_South</th>\n",
       "      <th>Facing_West</th>\n",
       "      <th>Decoration_Level</th>\n",
       "      <th>Floor_Level</th>\n",
       "      <th>Floor_Plan</th>\n",
       "    </tr>\n",
       "  </thead>\n",
       "  <tbody>\n",
       "    <tr>\n",
       "      <th>0</th>\n",
       "      <td>1</td>\n",
       "      <td>中关村南大街甲3号 2室1厅 56.3平米</td>\n",
       "      <td>56.30</td>\n",
       "      <td>217.0</td>\n",
       "      <td>1965</td>\n",
       "      <td>0</td>\n",
       "      <td>0</td>\n",
       "      <td>1</td>\n",
       "      <td>0</td>\n",
       "      <td>1</td>\n",
       "      <td>2</td>\n",
       "      <td>1</td>\n",
       "    </tr>\n",
       "    <tr>\n",
       "      <th>1</th>\n",
       "      <td>2</td>\n",
       "      <td>中关村南大街甲3号 2室1厅 55.1平米</td>\n",
       "      <td>55.10</td>\n",
       "      <td>185.5</td>\n",
       "      <td>1965</td>\n",
       "      <td>0</td>\n",
       "      <td>0</td>\n",
       "      <td>1</td>\n",
       "      <td>0</td>\n",
       "      <td>3</td>\n",
       "      <td>1</td>\n",
       "      <td>1</td>\n",
       "    </tr>\n",
       "    <tr>\n",
       "      <th>2</th>\n",
       "      <td>3</td>\n",
       "      <td>民族大学南路19号院 2室1厅 70平米</td>\n",
       "      <td>70.00</td>\n",
       "      <td>640.0</td>\n",
       "      <td>1993</td>\n",
       "      <td>0</td>\n",
       "      <td>0</td>\n",
       "      <td>1</td>\n",
       "      <td>0</td>\n",
       "      <td>1</td>\n",
       "      <td>3</td>\n",
       "      <td>1</td>\n",
       "    </tr>\n",
       "    <tr>\n",
       "      <th>3</th>\n",
       "      <td>4</td>\n",
       "      <td>民族大学南路19号院 2室1厅 98.49平米</td>\n",
       "      <td>98.49</td>\n",
       "      <td>1012.0</td>\n",
       "      <td>2000</td>\n",
       "      <td>0</td>\n",
       "      <td>0</td>\n",
       "      <td>1</td>\n",
       "      <td>0</td>\n",
       "      <td>1</td>\n",
       "      <td>4</td>\n",
       "      <td>1</td>\n",
       "    </tr>\n",
       "    <tr>\n",
       "      <th>4</th>\n",
       "      <td>5</td>\n",
       "      <td>民族大学南路19号院 2室1厅 60.7平米</td>\n",
       "      <td>60.70</td>\n",
       "      <td>600.0</td>\n",
       "      <td>1991</td>\n",
       "      <td>0</td>\n",
       "      <td>0</td>\n",
       "      <td>1</td>\n",
       "      <td>0</td>\n",
       "      <td>3</td>\n",
       "      <td>4</td>\n",
       "      <td>1</td>\n",
       "    </tr>\n",
       "  </tbody>\n",
       "</table>\n",
       "</div>"
      ],
      "text/plain": [
       "   Housing_ID                Community  Livable Area   Price  Year_Built  \\\n",
       "0           1    中关村南大街甲3号 2室1厅 56.3平米         56.30   217.0        1965   \n",
       "1           2    中关村南大街甲3号 2室1厅 55.1平米         55.10   185.5        1965   \n",
       "2           3     民族大学南路19号院 2室1厅 70平米         70.00   640.0        1993   \n",
       "3           4  民族大学南路19号院 2室1厅 98.49平米         98.49  1012.0        2000   \n",
       "4           5   民族大学南路19号院 2室1厅 60.7平米         60.70   600.0        1991   \n",
       "\n",
       "   Facing_East  Facing_North  Facing_South  Facing_West  Decoration_Level  \\\n",
       "0            0             0             1            0                 1   \n",
       "1            0             0             1            0                 3   \n",
       "2            0             0             1            0                 1   \n",
       "3            0             0             1            0                 1   \n",
       "4            0             0             1            0                 3   \n",
       "\n",
       "   Floor_Level  Floor_Plan  \n",
       "0            2           1  \n",
       "1            1           1  \n",
       "2            3           1  \n",
       "3            4           1  \n",
       "4            4           1  "
      ]
     },
     "execution_count": 11,
     "metadata": {},
     "output_type": "execute_result"
    }
   ],
   "source": [
    "X.head()"
   ]
  },
  {
   "cell_type": "code",
   "execution_count": 12,
   "metadata": {},
   "outputs": [],
   "source": [
    "# 拆分原始训练数据为四份，X_train, X_valid, y_train, y_valid (We still have community name here)\n",
    "X_train_with_community, X_valid_with_community, y_train, y_valid = train_test_split(X, y, train_size=0.8, test_size=0.2, random_state=0)"
   ]
  },
  {
   "cell_type": "code",
   "execution_count": 13,
   "metadata": {},
   "outputs": [],
   "source": [
    "# Make a new X_train, y_train (without community name here)\n",
    "X_train = X_train_with_community.drop(columns = ['Community'])\n",
    "X_valid = X_valid_with_community.drop(columns = ['Community'])"
   ]
  },
  {
   "cell_type": "code",
   "execution_count": 14,
   "metadata": {},
   "outputs": [],
   "source": [
    "X_train_xgb= pd.concat([y_train,X_train], axis=1)\n",
    "X_train_xgb.to_csv('./X_train.csv',header=False,index=False)"
   ]
  },
  {
   "cell_type": "code",
   "execution_count": 15,
   "metadata": {},
   "outputs": [],
   "source": [
    "X_valid_xgb= pd.concat([y_valid,X_valid], axis=1)\n",
    "X_valid_xgb.to_csv('./X_valid.csv',header=False,index=False)"
   ]
  },
  {
   "cell_type": "code",
   "execution_count": 16,
   "metadata": {},
   "outputs": [],
   "source": [
    "X_valid_xgb_new= pd.concat([y_valid,X_valid_with_community], axis=1)"
   ]
  },
  {
   "cell_type": "code",
   "execution_count": 17,
   "metadata": {},
   "outputs": [
    {
     "data": {
      "text/plain": [
       "'s3://tommy-lab/beijing-housing-data/X_valid.csv'"
      ]
     },
     "execution_count": 17,
     "metadata": {},
     "output_type": "execute_result"
    }
   ],
   "source": [
    "sm_session = sagemaker.Session()\n",
    "train_data_location = 's3://{}/{}/{}'.format(bucket, prefix, 'train')\n",
    "validation_data_location = 's3://{}/{}/{}'.format(bucket, prefix, 'validation')\n",
    "sm_session.upload_data('./X_train.csv',bucket,prefix)\n",
    "sm_session.upload_data('./X_valid.csv',bucket,prefix)"
   ]
  },
  {
   "cell_type": "code",
   "execution_count": 18,
   "metadata": {},
   "outputs": [
    {
     "name": "stderr",
     "output_type": "stream",
     "text": [
      "The method get_image_uri has been renamed in sagemaker>=2.\n",
      "See: https://sagemaker.readthedocs.io/en/stable/v2.html for details.\n"
     ]
    }
   ],
   "source": [
    "# 我们使⽤SageMaker内置的XGBoost来训练，⾸先要获取这个算法的container\n",
    "from sagemaker.amazon.amazon_estimator import get_image_uri\n",
    "container = get_image_uri(region, 'xgboost', repo_version='0.90-2')"
   ]
  },
  {
   "cell_type": "code",
   "execution_count": 19,
   "metadata": {},
   "outputs": [],
   "source": [
    "# 设置算法超参\n",
    "hyperparameters = {\n",
    "\"max_depth\":\"5\",\n",
    "\"eta\":\"0.5\",\n",
    "\"early_stopping_rounds\":\"5\",\n",
    "\"eval_metric\":\"rmse\",\n",
    "\"num_round\":\"30\",\n",
    "\"objective\":\"reg:linear\"}"
   ]
  },
  {
   "cell_type": "code",
   "execution_count": 20,
   "metadata": {},
   "outputs": [],
   "source": [
    "# 训练使⽤哪种EC2实例来完成\n",
    "instance_type = 'ml.m4.xlarge'"
   ]
  },
  {
   "cell_type": "code",
   "execution_count": 21,
   "metadata": {},
   "outputs": [],
   "source": [
    "# 模型输出⽬录\n",
    "output_path = 's3://{}/{}/output'.format(bucket, prefix)"
   ]
  },
  {
   "cell_type": "code",
   "execution_count": 22,
   "metadata": {},
   "outputs": [],
   "source": [
    "# 训练输⼊数据的类型\n",
    "content_type = \"csv\""
   ]
  },
  {
   "cell_type": "code",
   "execution_count": 23,
   "metadata": {},
   "outputs": [
    {
     "name": "stdout",
     "output_type": "stream",
     "text": [
      "Training job xgb-housing-2020-11-21-15-18-31\n"
     ]
    }
   ],
   "source": [
    "# 设置训练任务的名字\n",
    "job_name = 'xgb-housing-' + time.strftime(\"%Y-%m-%d-%H-%M-%S\", time.gmtime())\n",
    "print(\"Training job\", job_name)"
   ]
  },
  {
   "cell_type": "code",
   "execution_count": 24,
   "metadata": {},
   "outputs": [],
   "source": [
    "# 借助 Managed Spot Training 功能，⼤幅降低训练成本\n",
    "train_use_spot_instances = True\n",
    "train_max_run = 3600\n",
    "train_max_wait = 3600 if train_use_spot_instances else None\n",
    "checkpoint_s3_uri = ('s3://{}/{}/checkpoints/{}'.format(bucket, prefix,\n",
    "job_name)\n",
    "if train_use_spot_instances else None)"
   ]
  },
  {
   "cell_type": "code",
   "execution_count": 25,
   "metadata": {},
   "outputs": [
    {
     "name": "stderr",
     "output_type": "stream",
     "text": [
      "train_instance_count has been renamed in sagemaker>=2.\n",
      "See: https://sagemaker.readthedocs.io/en/stable/v2.html for details.\n",
      "train_instance_type has been renamed in sagemaker>=2.\n",
      "See: https://sagemaker.readthedocs.io/en/stable/v2.html for details.\n",
      "train_max_run has been renamed in sagemaker>=2.\n",
      "See: https://sagemaker.readthedocs.io/en/stable/v2.html for details.\n",
      "train_use_spot_instances has been renamed in sagemaker>=2.\n",
      "See: https://sagemaker.readthedocs.io/en/stable/v2.html for details.\n",
      "train_max_wait has been renamed in sagemaker>=2.\n",
      "See: https://sagemaker.readthedocs.io/en/stable/v2.html for details.\n",
      "train_volume_size has been renamed in sagemaker>=2.\n",
      "See: https://sagemaker.readthedocs.io/en/stable/v2.html for details.\n"
     ]
    }
   ],
   "source": [
    "# 在SageMaker⾥的使⽤任何算法来训练都要先⽣成⼀个 estimator 对象\n",
    "xgb = sagemaker.estimator.Estimator(container,\n",
    "role,\n",
    "hyperparameters=hyperparameters,\n",
    "train_instance_count=1,\n",
    "train_instance_type=instance_type,\n",
    "train_volume_size=5, # 5 GB\n",
    "output_path=output_path,\n",
    "sagemaker_session=sagemaker.Session(),\n",
    "train_use_spot_instances=train_use_spot_instances,\n",
    "train_max_run=train_max_run,\n",
    "train_max_wait=train_max_wait,\n",
    "checkpoint_s3_uri=checkpoint_s3_uri\n",
    ");"
   ]
  },
  {
   "cell_type": "code",
   "execution_count": 26,
   "metadata": {},
   "outputs": [
    {
     "name": "stderr",
     "output_type": "stream",
     "text": [
      "The class sagemaker.session.s3_input has been renamed in sagemaker>=2.\n",
      "See: https://sagemaker.readthedocs.io/en/stable/v2.html for details.\n",
      "The class sagemaker.session.s3_input has been renamed in sagemaker>=2.\n",
      "See: https://sagemaker.readthedocs.io/en/stable/v2.html for details.\n"
     ]
    }
   ],
   "source": [
    "# 设置训练数据的 data channel\n",
    "train_data_location = 's3://{}/{}/{}'.format(bucket, prefix, 'X_train.csv')\n",
    "validation_data_location = 's3://{}/{}/{}'.format(bucket, prefix,\n",
    "'X_valid.csv')\n",
    "train_channel = sagemaker.session.s3_input(train_data_location,\n",
    "content_type='csv')\n",
    "valid_channel = sagemaker.session.s3_input(validation_data_location,\n",
    "content_type='csv')\n",
    "data_channels = {'train': train_channel, 'validation': valid_channel}"
   ]
  },
  {
   "cell_type": "code",
   "execution_count": 27,
   "metadata": {},
   "outputs": [
    {
     "name": "stdout",
     "output_type": "stream",
     "text": [
      "2020-11-21 15:18:33 Starting - Starting the training job...\n",
      "2020-11-21 15:18:34 Starting - Launching requested ML instances.........\n",
      "2020-11-21 15:20:06 Starting - Preparing the instances for training......\n",
      "2020-11-21 15:21:25 Downloading - Downloading input data...\n",
      "2020-11-21 15:21:53 Training - Downloading the training image...\n",
      "2020-11-21 15:22:33 Uploading - Uploading generated training model\n",
      "2020-11-21 15:22:33 Completed - Training job completed\n",
      "\u001b[34mINFO:sagemaker-containers:Imported framework sagemaker_xgboost_container.training\u001b[0m\n",
      "\u001b[34mINFO:sagemaker-containers:Failed to parse hyperparameter eval_metric value rmse to Json.\u001b[0m\n",
      "\u001b[34mReturning the value itself\u001b[0m\n",
      "\u001b[34mINFO:sagemaker-containers:Failed to parse hyperparameter objective value reg:linear to Json.\u001b[0m\n",
      "\u001b[34mReturning the value itself\u001b[0m\n",
      "\u001b[34mINFO:sagemaker-containers:No GPUs detected (normal if no gpus installed)\u001b[0m\n",
      "\u001b[34mINFO:sagemaker_xgboost_container.training:Running XGBoost Sagemaker in algorithm mode\u001b[0m\n",
      "\u001b[34mINFO:root:Determined delimiter of CSV input is ','\u001b[0m\n",
      "\u001b[34mINFO:root:Determined delimiter of CSV input is ','\u001b[0m\n",
      "\u001b[34mINFO:root:Determined delimiter of CSV input is ','\u001b[0m\n",
      "\u001b[34m[15:22:22] 51908x11 matrix with 570988 entries loaded from /opt/ml/input/data/train?format=csv&label_column=0&delimiter=,\u001b[0m\n",
      "\u001b[34mINFO:root:Determined delimiter of CSV input is ','\u001b[0m\n",
      "\u001b[34m[15:22:22] 12978x11 matrix with 142758 entries loaded from /opt/ml/input/data/validation?format=csv&label_column=0&delimiter=,\u001b[0m\n",
      "\u001b[34mINFO:root:Single node training.\u001b[0m\n",
      "\u001b[34mINFO:root:Train matrix has 51908 rows\u001b[0m\n",
      "\u001b[34mINFO:root:Validation matrix has 12978 rows\u001b[0m\n",
      "\u001b[34m[15:22:22] WARNING: /workspace/src/objective/regression_obj.cu:152: reg:linear is now deprecated in favor of reg:squarederror.\u001b[0m\n",
      "\u001b[34m[0]#011train-rmse:33966.8#011validation-rmse:34207.6\u001b[0m\n",
      "\u001b[34m[1]#011train-rmse:17783.3#011validation-rmse:18038.5\u001b[0m\n",
      "\u001b[34m[2]#011train-rmse:9767.84#011validation-rmse:10032.9\u001b[0m\n",
      "\u001b[34m[3]#011train-rmse:5972.95#011validation-rmse:6325.5\u001b[0m\n",
      "\u001b[34m[4]#011train-rmse:4140.03#011validation-rmse:4446.95\u001b[0m\n",
      "\u001b[34m[5]#011train-rmse:3316.79#011validation-rmse:3604.04\u001b[0m\n",
      "\u001b[34m[6]#011train-rmse:3001.9#011validation-rmse:3213.22\u001b[0m\n",
      "\u001b[34m[7]#011train-rmse:2756.68#011validation-rmse:2954.59\u001b[0m\n",
      "\u001b[34m[8]#011train-rmse:2676.7#011validation-rmse:2854.4\u001b[0m\n",
      "\u001b[34m[9]#011train-rmse:2612.33#011validation-rmse:2789.47\u001b[0m\n",
      "\u001b[34m[10]#011train-rmse:2520.37#011validation-rmse:2705.9\u001b[0m\n",
      "\u001b[34m[11]#011train-rmse:2445.45#011validation-rmse:2618.25\u001b[0m\n",
      "\u001b[34m[12]#011train-rmse:2386.59#011validation-rmse:2557.56\u001b[0m\n",
      "\u001b[34m[13]#011train-rmse:2349.28#011validation-rmse:2520.87\u001b[0m\n",
      "\u001b[34m[14]#011train-rmse:2292.47#011validation-rmse:2458.64\u001b[0m\n",
      "\u001b[34m[15]#011train-rmse:2194.25#011validation-rmse:2360.09\u001b[0m\n",
      "\u001b[34m[16]#011train-rmse:2111.44#011validation-rmse:2280.97\u001b[0m\n",
      "\u001b[34m[17]#011train-rmse:2082.65#011validation-rmse:2248.58\u001b[0m\n",
      "\u001b[34m[18]#011train-rmse:2039.41#011validation-rmse:2196.47\u001b[0m\n",
      "\u001b[34m[19]#011train-rmse:1977.89#011validation-rmse:2142.44\u001b[0m\n",
      "\u001b[34m[20]#011train-rmse:1949.36#011validation-rmse:2111.89\u001b[0m\n",
      "\u001b[34m[21]#011train-rmse:1896.29#011validation-rmse:2070.13\u001b[0m\n",
      "\u001b[34m[22]#011train-rmse:1884.33#011validation-rmse:2060.81\u001b[0m\n",
      "\u001b[34m[23]#011train-rmse:1795.43#011validation-rmse:1980.45\u001b[0m\n",
      "\u001b[34m[24]#011train-rmse:1778.81#011validation-rmse:1955.72\u001b[0m\n",
      "\u001b[34m[25]#011train-rmse:1743.11#011validation-rmse:1923.56\u001b[0m\n",
      "\u001b[34m[26]#011train-rmse:1693.5#011validation-rmse:1875.31\u001b[0m\n",
      "\u001b[34m[27]#011train-rmse:1665.79#011validation-rmse:1850\u001b[0m\n",
      "\u001b[34m[28]#011train-rmse:1636.16#011validation-rmse:1818.69\u001b[0m\n",
      "\u001b[34m[29]#011train-rmse:1615.81#011validation-rmse:1800.99\u001b[0m\n",
      "Training seconds: 68\n",
      "Billable seconds: 27\n",
      "Managed Spot Training savings: 60.3%\n",
      "CPU times: user 469 ms, sys: 20.6 ms, total: 489 ms\n",
      "Wall time: 4min 12s\n"
     ]
    }
   ],
   "source": [
    "%%time\n",
    "# 调⽤ fit 来训练\n",
    "xgb.fit(inputs=data_channels, job_name=job_name, logs=True)"
   ]
  },
  {
   "cell_type": "code",
   "execution_count": 28,
   "metadata": {},
   "outputs": [
    {
     "name": "stdout",
     "output_type": "stream",
     "text": [
      "...................................................................................................................................................................!\n",
      "!\n",
      "CPU times: user 772 ms, sys: 66.7 ms, total: 838 ms\n",
      "Wall time: 13min 45s\n"
     ]
    }
   ],
   "source": [
    "%%time\n",
    "from sagemaker.tuner import IntegerParameter, CategoricalParameter, ContinuousParameter, HyperparameterTuner\n",
    "\n",
    "# xgb = sagemaker.estimator.Estimator(container,\n",
    "#                                     role=sagemaker.get_execution_role(), \n",
    "#                                     instance_count= 1, # make sure you have limit set for these instances\n",
    "#                                     instance_type='ml.m4.xlarge', \n",
    "#                                     output_path='s3://{}/{}/output'.format(bucket, prefix),\n",
    "#                                     sagemaker_session=sagemaker.Session())\n",
    "\n",
    "# # # 设置算法超参\n",
    "# # hyperparameters = {\n",
    "# # \"max_depth\":\"5\",\n",
    "# # \"eta\":\"0.5\",\n",
    "# # \"early_stopping_rounds\":\"5\",\n",
    "# # \"eval_metric\":\"rmse\",\n",
    "# # \"num_round\":\"30\"\n",
    "# # \"objective\"=\"reg:linear\",\n",
    "# }\n",
    "\n",
    "\n",
    "hyperparameter_ranges = {'max_depth':IntegerParameter(1,10),\n",
    "                         'alpha': ContinuousParameter(0, 100),\n",
    "                         'min_child_weight': ContinuousParameter(1, 5),\n",
    "                         'eta': ContinuousParameter(0.2, 0.7),  \n",
    "                         'num_round': IntegerParameter(10,200)\n",
    "                         }\n",
    "\n",
    "\n",
    "objective_metric_name = 'validation:rmse'\n",
    "objective_type = 'Minimize'\n",
    "\n",
    "tuner = HyperparameterTuner(xgb,\n",
    "                            objective_metric_name,\n",
    "                            hyperparameter_ranges,\n",
    "                            max_jobs=3, # Set this to 10 or above depending upon budget & available time.\n",
    "                            max_parallel_jobs=1,\n",
    "                            objective_type=objective_type,\n",
    "                            early_stopping_type='Auto')\n",
    "\n",
    "tuner.fit(inputs=data_channels, include_cls_metadata=False)\n",
    "tuner.wait()"
   ]
  },
  {
   "cell_type": "code",
   "execution_count": 29,
   "metadata": {},
   "outputs": [
    {
     "name": "stdout",
     "output_type": "stream",
     "text": [
      "CPU times: user 63.1 ms, sys: 3.56 ms, total: 66.6 ms\n",
      "Wall time: 1.14 s\n"
     ]
    },
    {
     "data": {
      "text/plain": [
       "'Completed'"
      ]
     },
     "execution_count": 29,
     "metadata": {},
     "output_type": "execute_result"
    }
   ],
   "source": [
    "%%time\n",
    "boto3.client('sagemaker').describe_hyper_parameter_tuning_job(\n",
    "    HyperParameterTuningJobName=tuner.latest_tuning_job.job_name)['HyperParameterTuningJobStatus']"
   ]
  },
  {
   "cell_type": "code",
   "execution_count": 30,
   "metadata": {},
   "outputs": [
    {
     "name": "stdout",
     "output_type": "stream",
     "text": [
      "CPU times: user 25.6 ms, sys: 0 ns, total: 25.6 ms\n",
      "Wall time: 88.6 ms\n"
     ]
    },
    {
     "data": {
      "text/html": [
       "<div>\n",
       "<style scoped>\n",
       "    .dataframe tbody tr th:only-of-type {\n",
       "        vertical-align: middle;\n",
       "    }\n",
       "\n",
       "    .dataframe tbody tr th {\n",
       "        vertical-align: top;\n",
       "    }\n",
       "\n",
       "    .dataframe thead th {\n",
       "        text-align: right;\n",
       "    }\n",
       "</style>\n",
       "<table border=\"1\" class=\"dataframe\">\n",
       "  <thead>\n",
       "    <tr style=\"text-align: right;\">\n",
       "      <th></th>\n",
       "      <th>alpha</th>\n",
       "      <th>eta</th>\n",
       "      <th>max_depth</th>\n",
       "      <th>min_child_weight</th>\n",
       "      <th>num_round</th>\n",
       "      <th>TrainingJobName</th>\n",
       "      <th>TrainingJobStatus</th>\n",
       "      <th>FinalObjectiveValue</th>\n",
       "      <th>TrainingStartTime</th>\n",
       "      <th>TrainingEndTime</th>\n",
       "      <th>TrainingElapsedTimeSeconds</th>\n",
       "    </tr>\n",
       "  </thead>\n",
       "  <tbody>\n",
       "    <tr>\n",
       "      <th>0</th>\n",
       "      <td>3.642550</td>\n",
       "      <td>0.608976</td>\n",
       "      <td>8.0</td>\n",
       "      <td>4.653224</td>\n",
       "      <td>90.0</td>\n",
       "      <td>sagemaker-xgboost-201121-1522-003-54778498</td>\n",
       "      <td>Completed</td>\n",
       "      <td>961.213989</td>\n",
       "      <td>2020-11-21 15:34:32+00:00</td>\n",
       "      <td>2020-11-21 15:35:53+00:00</td>\n",
       "      <td>81.0</td>\n",
       "    </tr>\n",
       "    <tr>\n",
       "      <th>2</th>\n",
       "      <td>13.800875</td>\n",
       "      <td>0.591418</td>\n",
       "      <td>3.0</td>\n",
       "      <td>4.386295</td>\n",
       "      <td>194.0</td>\n",
       "      <td>sagemaker-xgboost-201121-1522-001-4e394c4b</td>\n",
       "      <td>Completed</td>\n",
       "      <td>1186.500000</td>\n",
       "      <td>2020-11-21 15:25:26+00:00</td>\n",
       "      <td>2020-11-21 15:26:50+00:00</td>\n",
       "      <td>84.0</td>\n",
       "    </tr>\n",
       "    <tr>\n",
       "      <th>1</th>\n",
       "      <td>74.896090</td>\n",
       "      <td>0.209893</td>\n",
       "      <td>4.0</td>\n",
       "      <td>3.722760</td>\n",
       "      <td>10.0</td>\n",
       "      <td>sagemaker-xgboost-201121-1522-002-08cecf97</td>\n",
       "      <td>Completed</td>\n",
       "      <td>8359.639648</td>\n",
       "      <td>2020-11-21 15:30:05+00:00</td>\n",
       "      <td>2020-11-21 15:31:57+00:00</td>\n",
       "      <td>112.0</td>\n",
       "    </tr>\n",
       "  </tbody>\n",
       "</table>\n",
       "</div>"
      ],
      "text/plain": [
       "       alpha       eta  max_depth  min_child_weight  num_round  \\\n",
       "0   3.642550  0.608976        8.0          4.653224       90.0   \n",
       "2  13.800875  0.591418        3.0          4.386295      194.0   \n",
       "1  74.896090  0.209893        4.0          3.722760       10.0   \n",
       "\n",
       "                              TrainingJobName TrainingJobStatus  \\\n",
       "0  sagemaker-xgboost-201121-1522-003-54778498         Completed   \n",
       "2  sagemaker-xgboost-201121-1522-001-4e394c4b         Completed   \n",
       "1  sagemaker-xgboost-201121-1522-002-08cecf97         Completed   \n",
       "\n",
       "   FinalObjectiveValue         TrainingStartTime           TrainingEndTime  \\\n",
       "0           961.213989 2020-11-21 15:34:32+00:00 2020-11-21 15:35:53+00:00   \n",
       "2          1186.500000 2020-11-21 15:25:26+00:00 2020-11-21 15:26:50+00:00   \n",
       "1          8359.639648 2020-11-21 15:30:05+00:00 2020-11-21 15:31:57+00:00   \n",
       "\n",
       "   TrainingElapsedTimeSeconds  \n",
       "0                        81.0  \n",
       "2                        84.0  \n",
       "1                       112.0  "
      ]
     },
     "execution_count": 30,
     "metadata": {},
     "output_type": "execute_result"
    }
   ],
   "source": [
    "%%time\n",
    "from pprint import pprint\n",
    "from sagemaker.analytics import HyperparameterTuningJobAnalytics\n",
    "\n",
    "tuner_analytics = HyperparameterTuningJobAnalytics(tuner.latest_tuning_job.name, sagemaker_session=sagemaker.Session())\n",
    "\n",
    "df_tuning_job_analytics = tuner_analytics.dataframe()\n",
    "\n",
    "# Sort the tuning job analytics by the final metrics value\n",
    "df_tuning_job_analytics.sort_values(\n",
    "    by=['FinalObjectiveValue'],\n",
    "    inplace=True,\n",
    "    ascending=False if tuner.objective_type == \"Maximize\" else True)\n",
    "\n",
    "# Show detailed analytics for the top 20 models\n",
    "df_tuning_job_analytics.head(20)"
   ]
  },
  {
   "cell_type": "code",
   "execution_count": 31,
   "metadata": {},
   "outputs": [],
   "source": [
    "attached_tuner = HyperparameterTuner.attach(tuner.latest_tuning_job.name, sagemaker_session=sagemaker.Session())\n",
    "best_training_job = attached_tuner.best_training_job()"
   ]
  },
  {
   "cell_type": "code",
   "execution_count": 32,
   "metadata": {},
   "outputs": [
    {
     "name": "stdout",
     "output_type": "stream",
     "text": [
      "\n",
      "2020-11-21 15:35:53 Starting - Preparing the instances for training\n",
      "2020-11-21 15:35:53 Downloading - Downloading input data\n",
      "2020-11-21 15:35:53 Training - Training image download completed. Training in progress.\n",
      "2020-11-21 15:35:53 Uploading - Uploading generated training model\n",
      "2020-11-21 15:35:53 Completed - Training job completed\n"
     ]
    }
   ],
   "source": [
    "from sagemaker.estimator import Estimator\n",
    "algo_estimator = Estimator.attach(best_training_job)\n",
    "\n",
    "best_algo_model = algo_estimator.create_model(env={'SAGEMAKER_DEFAULT_INVOCATIONS_ACCEPT':\"text/csv\"})"
   ]
  },
  {
   "cell_type": "code",
   "execution_count": 33,
   "metadata": {},
   "outputs": [],
   "source": [
    "# %%time\n",
    "# batch_output = \"s3://{}/{}/batch-out/\".format(bucket,prefix)\n",
    "# batch_input = \"s3://{}/{}/batch-in/{}\".format(bucket,prefix,batch_X_file)\n",
    "\n",
    "# xgb_transformer = best_algo_model.transformer(instance_count=1,\n",
    "#                                        instance_type='ml.m4.xlarge',\n",
    "#                                        strategy='MultiRecord',\n",
    "#                                        assemble_with='Line',\n",
    "#                                        output_path=batch_output)\n",
    "\n",
    "\n",
    "# xgb_transformer.transform(data=batch_input,\n",
    "#                          data_type='S3Prefix',\n",
    "#                          content_type='text/csv',\n",
    "#                          split_type='Line')\n",
    "# xgb_transformer.wait(logs=False)"
   ]
  },
  {
   "cell_type": "code",
   "execution_count": 34,
   "metadata": {},
   "outputs": [
    {
     "name": "stdout",
     "output_type": "stream",
     "text": [
      "-----------------!CPU times: user 247 ms, sys: 24.5 ms, total: 272 ms\n",
      "Wall time: 8min 32s\n"
     ]
    }
   ],
   "source": [
    "%%time\n",
    "# 部署模型\n",
    "\n",
    "xgb_predictor = best_algo_model.deploy(initial_instance_count=1,\n",
    "                         instance_type='ml.m4.xlarge')\n"
   ]
  },
  {
   "cell_type": "code",
   "execution_count": 38,
   "metadata": {},
   "outputs": [
    {
     "name": "stderr",
     "output_type": "stream",
     "text": [
      "The class RealTimePredictor has been renamed in sagemaker>=2.\n",
      "See: https://sagemaker.readthedocs.io/en/stable/v2.html for details.\n",
      "content_type is a no-op in sagemaker>=2.\n",
      "See: https://sagemaker.readthedocs.io/en/stable/v2.html for details.\n",
      "The csv_serializer has been renamed in sagemaker>=2.\n",
      "See: https://sagemaker.readthedocs.io/en/stable/v2.html for details.\n"
     ]
    },
    {
     "name": "stdout",
     "output_type": "stream",
     "text": [
      "CPU times: user 194 ms, sys: 46.2 ms, total: 241 ms\n",
      "Wall time: 1.79 s\n"
     ]
    }
   ],
   "source": [
    "%%time\n",
    "from sagemaker.predictor import csv_serializer\n",
    "# 创建 predictor\n",
    "xgb_predictor=sagemaker.predictor.RealTimePredictor(\n",
    "\"sagemaker-xgboost-2020-11-21-15-36-33-324\", # 这个名字就是上图中蓝⾊⽅框中endpoint的name\n",
    "sagemaker_session=sm_session,\n",
    "serializer=csv_serializer,\n",
    "content_type='csv')\n",
    "# 调⽤predictor的predict⽅法做推理\n",
    "# xgb_predictor.predict(X_valid.values[0]).decode('utf-8')\n",
    "result = xgb_predictor.predict(X_valid.values).decode('utf-8')"
   ]
  },
  {
   "cell_type": "code",
   "execution_count": 39,
   "metadata": {},
   "outputs": [
    {
     "data": {
      "text/plain": [
       "'40483.71484375,84208.0390625,56475.28515625,35975.60546875,97039.484375,36734.41015625,74010.96875,24873.30859375,53419.92578125,32178.546875,92192.640625,31349.822265625,56541.5859375,87494.265625,52567.1328125,83786.515625,86705.4375,48659.921875,58426.70703125,94004.25,89481.40625,46570.7421875,95850.953125,49214.17578125,53198.8359375,27878.3203125,61974.50390625,50743.8203125,53932.95703125,79878.90625,37489.40625,63547.96875,31332.427734375,38281.07421875,47605.125,45016.1796875,57973.83984375,76577.03125,36640.23828125,75101.3984375,96339.3984375,40156.80859375,106859.7109375,73965.828125,40538.8671875,83593.6640625,46014.94140625,50924.85546875,59770.18359375,35464.6875,48074.125,50701.125,36654.453125,79902.8203125,72701.53125,77428.375,52734.15234375,56700.6953125,90189.75,81199.21875,44422.75,30930.365234375,61225.4296875,60904.08984375,71477.8046875,67138.5390625,39478.3515625,84289.21875,59260.69140625,54426.79296875,34744.41015625,30739.0859375,48388.7890625,67659.1640625,60010.47265625,34676.94140625,53362.9375,60059.28125,72047.2265625,57948.875,68680.6328125,69713.0546875,55403.63671875,54487.66015625,24629.818359375,36987.47265625,60387.0390625,48349.125,82665.1015625,39159.25390625,47624.19921875,84442.1640625,109962.84375,70759.5390625,55160.89453125,43206.1171875,85010.171875,62730.1953125,78966.484375,90210.71875,91098.109375,105089.2109375,59545.46484375,93531.3515625,37280.00390625,75679.078125,48056.1171875,68433.296875,53039.47265625,72659.109375,83167.640625,35834.30078125,65547.4921875,61950.5078125,35630.8515625,54674.10546875,50673.12890625,73955.875,32060.611328125,53622.65234375,48488.3359375,32898.31640625,57645.046875,63589.85546875,88387.8984375,65162.41796875,81154.015625,16871.783203125,49889.1640625,105608.28125,85751.7109375,72417.9765625,56827.0859375,50535.671875,50030.01953125,18130.10546875,68309.734375,86330.203125,102158.0234375,46216.171875,99296.1953125,39829.78125,63435.640625,59239.51171875,106998.71875,70421.2109375,50468.3671875,50667.87109375,43124.9453125,35237.66796875,37503.52734375,48207.08984375,67766.609375,81152.375,47173.515625,21930.68359375,64676.87109375,28951.541015625,36111.0625,45710.2578125,143651.4375,49405.61328125,74493.96875,61763.84375,51864.48046875,49320.99609375,51779.59765625,43760.609375,85137.640625,29475.013671875,45445.46484375,65554.0078125,66878.0,80958.6015625,42915.08203125,49397.6640625,51689.1953125,94458.2734375,89956.21875,43182.0,66068.0078125,63634.80078125,95920.609375,49907.33984375,60047.140625,38184.6640625,91353.7890625,38349.5234375,30162.482421875,65616.96875,86103.1015625,50841.95703125,50220.7734375,44307.95703125,82590.6484375,81285.3828125,59001.75390625,52614.73828125,35496.27734375,80832.2109375,76247.1796875,49564.765625,52102.32421875,62994.21484375,56235.28125,60187.21484375,69682.6484375,51140.74609375,110258.3984375,98896.6328125,87942.0859375,73884.7265625,53625.9453125,50962.9140625,86067.7734375,60394.4375,41165.79296875,77119.546875,32716.4296875,60442.6796875,51604.96484375,67148.4375,45354.05859375,40742.4921875,56765.8046875,61416.87109375,49545.19140625,86674.21875,95041.921875,79528.3125,104033.0703125,91673.234375,40855.5078125,46269.6015625,38157.89453125,56632.2265625,87722.828125,49473.48046875,69968.625,44529.8828125,48356.4765625,47825.2578125,67101.0546875,41945.60546875,93023.75,90711.1484375,29645.10546875,87822.5234375,37234.91796875,33648.19140625,56060.78125,21177.939453125,73553.8125,55386.50390625,93070.0625,82063.5703125,40315.875,87279.8046875,46535.71875,33269.08984375,59246.97265625,54998.0078125,75592.8671875,53389.84375,50939.89453125,57826.89453125,48260.18359375,40189.23828125,47306.35546875,37847.109375,77315.4453125,90220.8125,33822.34765625,67898.140625,66511.0078125,125261.75,46793.1875,49727.6640625,74501.1171875,66596.8203125,39334.19140625,106783.984375,96675.2421875,80118.015625,53895.953125,41855.88671875,41858.91796875,75750.609375,89844.9296875,80706.203125,70108.8046875,81584.171875,56188.1953125,79335.1015625,50018.94921875,52570.015625,114007.6640625,97707.5703125,48866.94921875,79359.7578125,49495.859375,101752.375,78512.2109375,36657.2578125,43256.44140625,34637.19921875,46236.76171875,48588.79296875,76151.1640625,54612.48828125,53193.07421875,91211.3203125,90390.578125,56234.1640625,25978.896484375,31701.962890625,27816.125,89977.140625,52295.78515625,81356.3828125,90007.671875,53938.078125,49749.78125,93906.734375,49662.87890625,55992.33203125,69014.171875,59038.421875,78961.8203125,45333.0859375,66164.3828125,103370.5703125,91686.4140625,39901.62109375,80578.375,42000.3515625,84398.4375,94056.34375,74338.4375,77198.3046875,44951.11328125,45718.55078125,49859.3203125,47641.234375,70194.1875,55838.73828125,70569.71875,72782.7109375,115968.0234375,36906.9296875,70847.2890625,25839.64453125,46075.59375,114998.7734375,94304.3828125,45265.15234375,41546.65234375,63715.890625,72514.3671875,38169.1875,64546.51171875,29378.673828125,81759.734375,84210.0,44423.26953125,20212.33984375,39013.87890625,56725.265625,76528.6015625,52577.73046875,51155.34765625,87303.703125,26510.849609375,79677.0703125,75500.109375,51835.1328125,53186.7890625,39701.390625,57384.7265625,33749.44140625,66033.453125,67342.421875,76825.765625,53101.74609375,38985.63671875,41987.73828125,73050.2890625,58137.92578125,37018.31640625,81064.71875,43268.62890625,51323.25,30951.734375,46350.90234375,47195.37890625,53371.5703125,59232.09375,93047.9140625,81567.4765625,49197.7578125,57575.97265625,50410.4296875,114410.0078125,82301.984375,45838.8125,60042.20703125,43103.8046875,85682.59375,50444.0078125,44950.703125,47990.72265625,58833.94140625,85400.0703125,69287.4140625,74358.0390625,36317.2109375,67935.671875,39488.60546875,45534.63671875,46853.421875,61797.44921875,43935.50390625,82863.28125,98427.0546875,76409.40625,91504.0,43187.65234375,53591.4453125,84862.8046875,59301.0703125,34771.41796875,60651.98828125,47648.8359375,39320.93359375,43856.84765625,56434.546875,24613.32421875,24271.53515625,38856.27734375,36473.84375,32970.56640625,80361.8046875,65144.828125,75434.671875,37664.7421875,49793.54296875,87548.453125,38587.90625,141133.125,34256.94921875,70341.5,36178.73828125,44356.8671875,37298.0546875,42006.63671875,30850.6953125,35815.57421875,50595.73828125,52674.97265625,39170.26953125,25154.294921875,18850.751953125,37940.53125,94755.4921875,72424.296875,36032.13671875,27164.21484375,36304.26171875,54477.703125,41511.37890625,71491.15625,57143.6796875,67283.5625,29191.630859375,25411.474609375,79690.8359375,40466.52734375,46377.44140625,31917.056640625,60305.67578125,63547.90625,43152.6328125,47536.35546875,31610.630859375,82223.4921875,78961.875,78715.0,58652.53125,94479.59375,43605.87109375,41450.9375,126212.1796875,59459.54296875,73756.1875,83678.734375,46952.265625,45055.37109375,106696.2890625,47536.10546875,34940.2890625,46066.31640625,83564.6484375,79406.0703125,37055.03515625,35814.95703125,55285.62890625,66611.0390625,68172.96875,56813.66796875,67290.3046875,98882.890625,55580.86328125,49767.21875,48316.0078125,81979.078125,43995.12109375,66368.6015625,35396.046875,71226.28125,19513.630859375,72930.8984375,69989.5078125,55874.1875,72968.9296875,61362.765625,85015.3359375,26451.56640625,40856.4140625,42380.8515625,45476.15234375,42673.81640625,41801.52734375,56228.5,41217.875,62723.98828125,73672.625,75078.3828125,48181.96484375,43294.734375,24841.865234375,63994.7265625,26465.150390625,58794.94140625,62148.76953125,40503.4375,23159.00390625,51908.7265625,95373.34375,41809.8515625,36058.73046875,50286.9140625,33667.25,85032.3515625,118388.0859375,82305.484375,63581.48046875,36587.796875,77273.4609375,105049.828125,52213.703125,59467.578125,75985.1796875,38255.515625,72347.359375,58431.515625,69633.0078125,133250.6875,59606.92578125,70851.140625,81764.9609375,91310.4609375,47628.37890625,59621.765625,68619.7578125,74248.265625,83804.0078125,73189.53125,66147.8828125,66826.1875,76294.0,103344.84375,40607.84375,58074.71875,68009.3984375,108120.171875,93341.0625,36811.796875,62764.25,79287.875,72642.78125,48862.12890625,50382.37890625,45658.33984375,45144.21484375,84552.8125,65623.734375,72089.3984375,94064.6328125,67220.5703125,56363.265625,73815.40625,73192.9921875,42808.61328125,72888.65625,107293.9375,66287.09375,26205.080078125,91252.6484375,61111.0625,68165.140625,59767.51171875,125123.6875,97690.5546875,78176.4296875,24698.4140625,64545.8125,31957.62109375,57978.73828125,49196.0,81234.0390625,76090.4921875,71046.6953125,60248.82421875,41708.96875,47661.43359375,31711.806640625,34291.01953125,63786.2890625,98884.59375,70852.296875,66682.1640625,81790.0,74975.1953125,100238.7421875,52164.4921875,46723.2578125,35619.1328125,62982.6171875,86988.984375,44715.1015625,85603.1796875,58718.82421875,45802.16015625,50557.06640625,50484.41796875,54487.80078125,45851.85546875,80452.8828125,86500.625,106928.4453125,62416.78125,56852.8828125,122445.8671875,54957.921875,34653.44921875,57682.72265625,23127.75390625,52095.43359375,53447.25390625,62910.0,56763.58203125,92168.3359375,75119.71875,84040.4921875,105969.0625,20608.40625,79258.8984375,68094.84375,43481.375,24787.92578125,90819.75,74497.5546875,56659.3359375,56898.83203125,58782.3125,19144.421875,38596.875,46798.9453125,37164.5234375,59851.0,59627.6796875,48780.72265625,26999.76171875,33560.421875,42135.3125,48223.09765625,74609.78125,47762.3515625,22267.623046875,48427.45703125,22165.12890625,40450.91796875,43778.8125,68835.125,93645.6015625,102820.015625,82881.125,20199.73046875,57605.4609375,60500.984375,50115.046875,54023.3671875,39988.875,49971.73828125,34512.13671875,93363.140625,48692.671875,29087.359375,46706.6484375,90049.5078125,47066.3984375,59504.828125,33653.0859375,19359.068359375,57636.3671875,83754.6796875,48951.3203125,84102.671875,58011.79296875,55560.6328125,52140.44140625,55272.30859375,52320.1015625,51704.484375,54937.45703125,61855.31640625,28748.943359375,35661.23046875,51514.296875,110989.3671875,49271.05078125,63098.26171875,25791.80859375,46940.21875,89753.8046875,128397.8671875,70855.2890625,79051.34375,49986.53515625,40974.36328125,44967.75390625,88743.5859375,40226.55859375,56758.8515625,82788.3359375,58817.32421875,52296.25,54789.0703125,77152.765625,28279.625,38712.82421875,90438.9453125,88952.3046875,62613.8515625,92590.1953125,123638.46875,64256.4296875,132523.15625,102913.3828125,75144.28125,48796.84375,41768.84375,51015.3046875,108100.3984375,68752.90625,22267.486328125,77339.2890625,34968.94921875,51326.15625,37043.546875,104536.890625,67831.0625,54179.2734375,36661.32421875,101719.3828125,121746.859375,68079.2265625,46238.75,44290.26953125,116561.78125,41586.25390625,41640.68359375,51144.78125,32739.140625,30598.76171875,71432.7109375,33848.96875,85735.703125,52296.828125,29761.35546875,32721.375,61559.984375,74016.4609375,47179.5703125,39601.7890625,76885.1640625,64525.1796875,94503.734375,52249.94921875,95405.3203125,42443.75,40131.30859375,83339.703125,32025.703125,93858.625,9462.0810546875,34998.73046875,68915.0703125,67262.6015625,106400.9921875,95491.1640625,65612.8828125,105897.4296875,98449.546875,45871.39453125,72222.484375,56355.57421875,42868.5859375,75906.28125,104093.8203125,90113.9375,53224.11328125,43608.9609375,61543.5625,80742.3984375,96284.328125,53633.78515625,83105.1953125,70749.4453125,64627.83984375,43990.90625,48246.640625,63096.91015625,43665.21875,62632.53515625,76070.7265625,92173.6328125,66516.9296875,95850.8125,85106.3203125,73700.71875,87791.8671875,76257.671875,59900.19140625,81622.328125,51282.84375,63906.59765625,63348.44921875,37518.359375,49705.04296875,88576.890625,47266.66796875,90624.5546875,89645.3984375,58910.6171875,35090.58203125,25115.591796875,38510.046875,37741.60546875,44385.578125,43533.79296875,31154.994140625,32943.390625,93399.34375,70770.3125,53105.88671875,79418.2265625,118077.0703125,81227.2890625,45479.78125,52570.8046875,101742.3828125,87972.3828125,96121.40625,43026.34375,50597.41015625,17762.8515625,40596.9453125,35601.74609375,82278.1953125,101539.4296875,59214.46484375,70477.9765625,83112.9609375,85583.7734375,41799.9375,76426.15625,55421.12109375,56560.35546875,49962.8671875,41561.55859375,75036.9453125,43330.1015625,78929.96875,79109.8203125,33088.09765625,39676.36328125,90076.2421875,64119.58984375,57592.62109375,64527.37109375,88718.984375,64621.703125,37329.66796875,89719.0,64519.89453125,74512.0859375,89388.8828125,37014.6484375,48677.7890625,40743.9921875,29697.55859375,54508.68359375,29962.275390625,50282.0,94486.125,67115.6875,47608.2109375,45815.71484375,58900.5859375,68036.140625,51301.90234375,64264.25,45759.140625,38535.28125,45075.16015625,69926.453125,95350.4609375,93098.9140625,48941.265625,69012.8046875,45205.60546875,33271.18359375,63479.06640625,43604.73828125,74674.0390625,35604.390625,69650.125,67752.5234375,62146.37890625,47814.17578125,41352.109375,66029.453125,32738.86328125,45351.140625,61001.22265625,113548.3359375,22800.5546875,56419.375,50607.8671875,56020.08203125,42022.359375,59416.42578125,85790.4296875,71270.546875,51383.0625,43464.91796875,65655.625,81342.84375,47336.3046875,90088.75,35345.4765625,69360.1171875,84441.265625,57425.24609375,33038.6796875,61699.2421875,65598.140625,48654.78125,57292.5703125,92181.5625,71613.578125,95476.7734375,20374.30078125,49231.41015625,81286.3828125,83351.2578125,70154.3203125,49304.39453125,56124.75,63079.5390625,65793.140625,61228.52734375,44557.1875,25123.900390625,51364.30078125,39334.43359375,47845.96484375,89802.375,71859.34375,75898.390625,101897.5625,47018.359375,85175.9765625,76102.421875,79064.1015625,64501.74609375,60632.16796875,109666.3359375,64314.83203125,70253.8671875,97924.6875,96456.71875,48401.83203125,113539.7734375,123066.25,35191.203125,28117.06640625,39979.40234375,83479.6875,93897.5,62839.86328125,52742.98828125,49690.9375,54610.8984375,38478.34765625,49786.3203125,69603.046875,60770.8046875,69583.46875,40894.9140625,41425.49609375,97172.7734375,41026.41015625,67624.921875,48567.04296875,89344.015625,45887.234375,42576.57421875,75097.0078125,67874.109375,96600.0234375,70374.6328125,53035.4453125,79260.796875,71663.46875,56993.16015625,46292.03515625,38301.68359375,52089.89453125,65184.22265625,59377.39453125,60281.44140625,85550.4609375,35248.51953125,108823.390625,35257.4140625,87877.3046875,69159.3125,64008.1796875,33841.86328125,86315.1328125,54609.56640625,53798.34765625,36187.80078125,90158.25,41568.6953125,65030.80859375,78517.0,31144.5859375,26332.220703125,69820.09375,59880.828125,65362.94140625,35304.0703125,42991.9609375,52013.7578125,33522.18359375,83200.7421875,94396.4453125,37556.26171875,46004.703125,39975.44140625,127690.296875,88259.203125,105242.765625,47855.72265625,51945.33203125,81138.6640625,38733.5625,84109.171875,65346.77734375,55789.57421875,79150.875,88836.109375,49185.64453125,51354.1171875,51019.34765625,49813.1640625,83075.3671875,31852.51171875,42517.6015625,24825.41015625,73620.7890625,90046.8828125,27152.0,68734.5625,51871.015625,70844.5,63892.5859375,86246.8984375,39584.68359375,119342.203125,50824.5390625,117676.0703125,52371.84765625,76105.8359375,106131.0703125,61350.81640625,35443.1796875,31341.734375,85751.40625,67205.859375,23888.87890625,54444.46484375,62038.01953125,39253.4375,47631.46484375,91771.2421875,48603.71875,70648.875,50370.8828125,43086.15234375,38562.328125,73466.6015625,48720.94921875,86321.7265625,80616.609375,48765.9765625,81768.5,88869.75,63780.64453125,41450.62109375,40483.953125,22547.841796875,42840.8359375,115775.4765625,80990.875,70138.4140625,82707.15625,15277.978515625,1835.2581787109375,92356.0078125,48234.83203125,58604.765625,63487.26953125,57104.77734375,90724.3203125,44119.0859375,78621.7734375,49284.9375,57819.1796875,23671.52734375,49545.84375,92626.75,86409.03125,129040.6796875,49106.9453125,79281.1015625,44253.23046875,72669.5078125,41411.16015625,135096.328125,98534.1640625,39974.5703125,92892.3515625,65339.1171875,129589.6484375,67741.8359375,26352.953125,54260.9375,36931.96875,54160.60546875,56333.73828125,62381.94140625,92690.078125,91282.2890625,46036.53515625,51196.47265625,89964.09375,99384.296875,35982.6328125,82335.2734375,95051.1015625,59365.625,42340.26953125,66799.8125,70004.7734375,82213.9140625,50325.44140625,57256.390625,37571.65234375,81608.90625,49388.3515625,34884.6875,94281.671875,62522.28125,70320.078125,38568.9765625,37531.78125,77738.2421875,73896.2734375,53058.859375,59270.71484375,60400.09375,100696.1484375,97532.5625,85415.921875,64448.19921875,108716.1953125,41523.87109375,81151.34375,85660.9140625,37377.4453125,37407.13671875,73258.6796875,69895.0390625,90407.3515625,71259.7890625,28547.095703125,33113.46875,51039.94140625,57265.390625,71459.125,47949.13671875,50730.34765625,64414.95703125,47189.4921875,89023.78125,45915.14453125,124598.6484375,45518.46484375,69371.0703125,47670.4609375,106972.15625,53983.71875,71325.40625,96946.640625,37679.3203125,92804.6328125,73055.6171875,87520.5234375,58685.15234375,42090.53515625,73242.53125,69680.34375,97948.390625,42311.66796875,49920.33203125,38431.4453125,31193.88671875,52576.6640625,79413.625,52493.71484375,52021.76171875,82898.8828125,60453.82421875,103986.15625,56701.07421875,35482.078125,75324.4453125,81864.7109375,56699.65234375,65589.484375,75972.984375,27658.15625,29403.751953125,69482.515625,69040.4921875,60165.40234375,83069.203125,55672.79296875,85705.1328125,56857.6875,91887.7421875,39398.2109375,78428.8359375,108108.640625,59566.49609375,77262.765625,100458.625,88220.8046875,51981.7109375,48937.76171875,52734.765625,78338.4140625,80551.3125,49244.70703125,31154.595703125,64312.67578125,101610.203125,78451.171875,74290.671875,73015.140625,43466.9375,43968.19921875,54189.84765625,41576.9609375,72891.2578125,33931.1875,54461.91015625,62088.34375,86894.21875,43555.75,64010.38671875,49734.46484375,56540.8125,40698.69140625,64012.421875,39187.65234375,47218.74609375,62544.859375,70184.7890625,44072.94140625,56969.85546875,47522.64453125,78486.3984375,76901.109375,41015.16796875,53946.63671875,72464.21875,56417.5546875,20125.908203125,109643.6796875,46330.94921875,82540.0390625,87603.59375,62515.58984375,77078.0078125,51078.86328125,93835.859375,69061.8359375,36006.6796875,29695.29296875,85089.7734375,74117.5,31950.654296875,47869.94140625,65943.03125,67740.65625,68730.1328125,82415.6796875,46030.375,66455.2265625,70693.1796875,91730.7734375,54557.3046875,50439.33984375,104984.6796875,65843.1640625,84250.4765625,113137.3515625,65798.84375,56509.8828125,52217.36328125,118616.640625,20716.41796875,29532.478515625,37869.484375,104371.609375,67426.53125,80617.234375,27138.376953125,65280.60546875,77930.90625,70213.2578125,52594.18359375,30015.88671875,60302.53125,58790.13671875,41744.8125,53032.44921875,37665.328125,96516.515625,63831.58984375,91153.3515625,88487.1484375,85010.3125,86323.1171875,69590.703125,56072.0078125,41278.00390625,86808.3828125,84703.8828125,86115.1640625,73590.765625,33151.46875,50264.8828125,54500.1875,95048.6484375,53852.90234375,64182.68359375,61154.703125,81152.6953125,76239.78125,49620.52734375,87551.6875,59399.92578125,37793.84375,43896.921875,57368.8203125,49148.203125,10451.2255859375,81180.09375,35201.75,89877.4375,43717.05859375,32091.197265625,50235.00390625,59250.3359375,75786.5859375,109908.953125,39650.65625,42356.1484375,53704.48046875,68065.8046875,35818.58203125,65150.9375,108641.640625,42566.03515625,67065.8828125,55591.390625,83284.7265625,109879.3125,28584.91796875,49660.9609375,55043.91796875,55781.98828125,51292.94921875,40752.55859375,92658.2734375,72278.625,45260.83203125,55444.96875,67314.8984375,37534.9921875,70229.3515625,63509.42578125,73899.9921875,54742.3984375,50843.171875,88783.7890625,48209.59765625,85358.859375,32627.859375,85648.21875,80604.09375,64902.53125,55230.44140625,37421.61328125,96547.21875,41550.03125,82011.09375,77147.5,67984.6953125,62796.2265625,41843.16015625,53226.49609375,42805.68359375,60947.84765625,81650.4296875,49950.55859375,41675.77734375,49865.21875,80059.0390625,116533.5546875,73890.2109375,79222.7890625,50875.71875,29516.296875,68969.375,40191.44921875,69308.65625,67303.609375,61137.85546875,92319.1328125,49874.03515625,65278.25,88443.1171875,36698.91796875,66440.0625,62907.59375,106823.0703125,106423.2578125,79244.1953125,69949.9765625,20805.068359375,35638.04296875,61221.234375,83135.828125,55012.828125,67416.359375,44737.140625,34605.95703125,45098.24609375,89684.078125,40717.11328125,59883.76953125,69508.0390625,72574.8984375,42426.6484375,82763.953125,87696.28125,91726.6328125,34863.69921875,44599.875,40477.4375,75115.8046875,42710.71875,86969.8984375,44320.2578125,75344.6875,29529.73046875,61946.10546875,90472.2421875,52391.1640625,59962.609375,82021.796875,42194.42578125,90112.6953125,39886.015625,69463.921875,49347.51953125,38459.41796875,54502.984375,51607.19921875,113023.578125,60439.30078125,45652.68359375,67342.421875,58729.48828125,68447.109375,43813.765625,45725.8046875,93068.6875,36665.41796875,97652.5703125,35361.03125,87428.90625,38434.51953125,59035.359375,68175.640625,49740.37109375,34028.578125,43323.58203125,42559.484375,54533.296875,70602.7265625,88939.5078125,27458.9921875,53840.56640625,77164.59375,37030.26953125,33415.35546875,78932.890625,60630.68359375,66531.6875,82755.9921875,44705.390625,91916.0625,26501.306640625,46355.0859375,70198.5234375,47466.00390625,71894.140625,38675.44921875,68332.96875,74756.0625,109080.7109375,58809.95703125,50199.77734375,58335.625,92555.125,27535.49609375,71891.609375,87257.8515625,83084.5234375,33540.23828125,33091.0390625,33859.24609375,95412.734375,57861.6953125,97707.78125,34500.9921875,53099.08984375,91160.7109375,23547.998046875,25953.22265625,65264.0546875,68048.640625,84233.34375,68321.9453125,57472.13671875,123187.5625,56018.21484375,63286.00390625,87773.25,98055.4296875,64615.6953125,35525.48046875,90266.0,37991.17578125,61354.3203125,96314.453125,36736.15234375,31598.37890625,56952.12109375,36904.875,93956.4609375,82503.5625,46019.703125,69028.7109375,32601.513671875,49914.375,56417.0,68324.5390625,37217.44921875,45398.64453125,27694.6171875,48734.9609375,64128.58984375,79566.2890625,74405.96875,64178.7421875,75974.1015625,56868.18359375,71077.78125,42965.734375,33306.44921875,45248.4921875,87007.7421875,50522.7421875,94087.2890625,79713.484375,56264.6796875,42244.81640625,72846.75,43415.640625,75179.53125,76433.9609375,81924.953125,46549.4140625,77206.546875,95227.359375,84587.21875,46213.60546875,29529.06640625,36731.53515625,43981.21875,85592.90625,65333.75390625,90822.234375,59660.00390625,106369.1328125,90772.0390625,42933.1875,72956.15625,32165.880859375,68240.109375,35735.29296875,43144.78125,34335.3828125,29039.4296875,108034.1875,34696.92578125,57342.890625,53651.83984375,95441.046875,41583.48828125,44313.140625,95618.4765625,54679.0,34775.859375,38580.67578125,98149.8515625,50904.09765625,54465.3984375,51238.01171875,66200.9921875,35118.50390625,36600.359375,74008.3671875,38253.53515625,70387.390625,85412.9296875,29021.734375,60457.90234375,77907.9453125,28218.49609375,43652.921875,59675.91015625,99859.171875,40608.07421875,108475.984375,59666.88671875,66645.5234375,33907.359375,69312.3046875,43947.37890625,78179.2265625,67161.828125,37843.9296875,77095.390625,51228.77734375,104652.375,90338.3125,67744.9453125,37230.54296875,97447.9765625,86409.4140625,58533.91015625,96507.2578125,40084.87890625,89587.78125,21207.904296875,29020.69921875,60158.03515625,48588.01171875,57894.5625,69358.71875,70274.0234375,21372.427734375,68344.9375,89636.0703125,45729.09765625,89323.6796875,72290.6015625,42787.70703125,50035.19921875,42463.6875,87732.4453125,35570.9765625,56691.390625,28090.1328125,55004.26953125,76468.5703125,53005.25390625,60076.32421875,57128.41015625,98958.171875,38823.04296875,25557.244140625,85996.40625,84636.6796875,57624.12890625,99666.3828125,67072.734375,78026.7109375,65051.9296875,83154.5390625,79820.328125,82208.625,29365.55078125,120432.1640625,55320.22265625,86760.171875,38225.55859375,98895.0234375,33765.80859375,46712.10546875,88101.6953125,65230.01953125,63022.24609375,47011.5546875,51659.265625,56638.80078125,51632.10546875,47973.1640625,30645.099609375,47716.0625,99851.8125,46905.0,56980.28125,39502.328125,83767.7734375,59329.015625,43197.1796875,98939.859375,71624.9296875,88950.8828125,86445.765625,40401.05078125,37553.1640625,53936.09375,96167.546875,58248.44921875,83697.0234375,53877.41796875,62445.74609375,89450.375,60222.5078125,71331.3671875,47601.8828125,34059.17578125,62982.78515625,34721.859375,123073.359375,68915.8046875,48651.4140625,48609.55078125,74663.578125,33598.0390625,122334.46875,86521.90625,39217.67578125,48453.15234375,60908.5,48891.5703125,63172.234375,52869.52734375,73555.140625,69455.3203125,71190.90625,50675.8984375,30466.357421875,57277.703125,38341.765625,53038.3671875,46297.796875,48591.640625,74784.953125,63743.16015625,58172.4375,72691.0859375,64656.234375,55881.04296875,35845.26171875,86285.78125,75826.796875,65801.546875,43643.15625,109143.46875,51008.3828125,113164.078125,59143.33203125,39763.16015625,22619.87109375,46275.39453125,53062.67578125,35824.90625,36373.69140625,51666.484375,36676.421875,59885.21484375,73975.8515625,53012.03125,96489.65625,40238.59765625,54765.05859375,21905.064453125,86703.8125,90773.0,36912.9921875,95476.8359375,49167.3828125,26847.48828125,77955.5078125,35105.98828125,43046.359375,63839.5,26429.04296875,53425.86328125,40829.14453125,63163.67578125,49450.875,48263.15234375,74004.6484375,69876.4375,60295.9375,86590.8125,108655.078125,66330.609375,114029.53125,61814.2734375,95104.4140625,79185.75,47784.99609375,72639.96875,49856.671875,43320.33203125,79848.875,59572.38671875,72627.53125,50591.59375,28752.45703125,30981.322265625,87276.3984375,37834.16015625,71534.1640625,36289.6796875,65028.1796875,34008.94921875,63145.13671875,85992.875,85672.625,41036.3359375,97824.3203125,57254.8125,63890.359375,61139.19140625,50196.97265625,100367.8828125,28405.732421875,50636.99609375,44610.55078125,29356.185546875,66766.78125,85922.1953125,50521.77734375,39578.48828125,74687.5078125,115413.546875,56137.125,98927.578125,33110.953125,74155.65625,67423.703125,28648.93359375,46062.42578125,95311.8984375,58912.82421875,86094.859375,61418.046875,53046.1171875,58557.1875,109408.6953125,54330.15234375,40667.546875,55522.0546875,54448.5703125,39445.703125,38269.0546875,98457.6484375,97687.3671875,71765.8046875,73262.71875,37340.609375,91338.9609375,93234.90625,49651.12890625,42615.46875,78157.59375,93341.265625,66873.4453125,44554.4296875,56351.31640625,50889.59375,96147.7890625,32214.3671875,68722.4453125,49208.1171875,28508.078125,82492.078125,63760.67578125,61606.84375,45547.95703125,38988.64453125,72707.203125,105716.390625,70009.640625,68843.0546875,69263.2578125,49573.44921875,50367.6953125,41601.9140625,37945.67578125,49399.84765625,77638.3828125,40671.2421875,25771.673828125,38040.0546875,72179.21875,38340.86328125,92686.1640625,129966.359375,82874.53125,72639.375,41171.93359375,37924.4375,26991.078125,36044.85546875,86100.359375,44872.85546875,58843.8515625,54151.80859375,61083.1171875,47251.9375,53062.8671875,10064.173828125,69632.859375,48411.41015625,87097.0078125,52258.5234375,53269.24609375,66421.4921875,45093.25390625,27757.251953125,31475.556640625,67329.5,95306.984375,49091.02734375,50721.22265625,42103.13671875,85382.8515625,31757.05859375,17394.857421875,65642.703125,26277.328125,26010.3046875,53267.94921875,72849.7890625,92546.359375,79389.875,58351.88671875,75295.640625,40351.484375,50905.375,79355.5703125,110092.6875,97724.0625,50424.39453125,78788.5703125,66099.234375,106381.3984375,47027.4609375,95229.5390625,85058.1328125,79174.125,89985.125,76416.1015625,55127.18359375,42493.83984375,82186.203125,58584.6484375,102098.140625,76748.2109375,37707.84765625,45754.9609375,35872.109375,32232.013671875,46310.2421875,43306.11328125,39905.69140625,30730.203125,65669.6640625,114327.1484375,54719.07421875,98698.46875,71316.3125,37293.1953125,51689.14453125,59653.26171875,110271.9140625,72614.7890625,91880.4140625,40174.1015625,100490.859375,84588.1015625,97460.84375,87598.0078125,84071.8203125,67811.8828125,35517.1171875,77994.1171875,97843.8203125,35394.8671875,29811.267578125,33424.0546875,79097.8515625,47329.53515625,87709.9921875,75189.9375,59861.4296875,60254.38671875,67760.53125,111650.515625,80008.6796875,22641.951171875,69407.71875,89328.0703125,36484.5078125,77085.015625,65246.41015625,78822.1796875,36593.5390625,48477.1640625,142128.828125,48857.16015625,101116.1015625,43524.88671875,92380.5390625,37063.34375,59414.89453125,47629.23046875,40503.54296875,100875.5,43054.73828125,60825.546875,66533.3828125,66848.1484375,38067.11328125,75401.6328125,97376.8125,92889.28125,53463.58984375,81542.5546875,124321.390625,71062.6015625,84443.1640625,43440.80078125,85163.953125,146556.078125,73683.0234375,110508.625,51598.44140625,83464.9921875,37022.19140625,53140.8125,40528.99609375,51603.04296875,93087.171875,82800.03125,68697.765625,38197.23828125,81876.0078125,35119.6328125,43640.58203125,67287.8203125,66662.875,39583.65234375,135267.328125,46224.34765625,28443.716796875,82635.46875,45645.703125,51241.12109375,89514.390625,42851.19140625,46814.53515625,73631.578125,78290.171875,102015.484375,38078.65234375,61689.5,38144.78515625,61630.58203125,88036.796875,79876.390625,51696.28125,83203.609375,78839.6484375,67438.640625,40539.20703125,73004.171875,39740.921875,49187.98828125,90199.9375,58480.375,55600.08984375,78666.8125,34095.1328125,48470.703125,65229.125,83370.671875,53788.4375,43090.30078125,87136.9140625,116858.84375,44062.88671875,59588.68359375,99145.2421875,58591.296875,49481.984375,74410.8671875,99232.7109375,71171.3046875,63492.31640625,38642.83984375,31462.1640625,54216.23828125,61081.69921875,59736.078125,53874.125,39235.80859375,31932.36328125,41420.69140625,36589.81640625,36200.2421875,35198.0234375,70746.078125,59948.4921875,61613.12109375,60734.00390625,60367.55859375,77243.3203125,21854.71875,18748.96484375,61808.8515625,41874.2421875,70274.171875,78916.375,77157.6015625,39517.7734375,34462.9375,35746.55859375,34350.4453125,72527.21875,52519.890625,51683.60546875,103921.296875,92185.2109375,71088.09375,62653.44921875,84519.09375,50092.65625,51458.34375,48137.28125,35486.09375,69937.375,60114.01171875,50887.99609375,41774.3046875,37274.9921875,45603.6328125,61684.35546875,72659.4921875,48727.40625,70078.40625,106744.09375,61315.10546875,62865.41015625,51339.03515625,63879.5703125,42865.296875,57478.0078125,115074.625,71327.421875,49936.140625,78869.140625,32866.30859375,103106.546875,74496.53125,55498.09765625,68436.6796875,74666.875,91654.34375,76731.890625,56176.8984375,64937.71484375,37292.1171875,47463.87109375,67509.6953125,30512.830078125,59683.34765625,96835.71875,31392.740234375,98336.8203125,68006.4765625,91460.171875,51551.6953125,65911.5546875,85046.6484375,58893.08203125,82215.6484375,41508.78515625,62652.07421875,66108.0625,108496.578125,38525.2265625,68337.0546875,56285.96875,70294.8046875,43644.96875,107381.9609375,36792.29296875,93571.109375,73177.984375,42101.41796875,62950.55078125,74728.90625,82416.515625,64204.6953125,44813.6640625,68601.578125,70042.5859375,103619.4375,54920.12890625,65034.9296875,92627.9375,25009.455078125,92893.4140625,30587.173828125,41173.8984375,46805.25,71293.359375,43612.31640625,37248.01171875,44592.91796875,81549.5859375,51881.47265625,72343.640625,36690.47265625,82165.03125,125361.3515625,54871.79296875,43618.7421875,77629.5703125,73935.734375,40666.0234375,20573.13671875,51626.796875,40958.1171875,54305.8125,102381.375,97598.1328125,76441.3046875,76920.078125,57774.71875,49684.8671875,45877.82421875,36320.0625,50645.15625,66850.6640625,114430.6015625,54683.46484375,114834.5546875,78482.2265625,77806.296875,108867.6015625,57680.453125,61768.7890625,58599.125,33475.703125,38063.3203125,33667.1796875,72420.625,57500.890625,84693.6015625,100416.296875,111988.703125,55943.375,40577.96484375,61045.6640625,53093.57421875,88991.796875,71497.3984375,35889.59375,45262.5234375,69969.7890625,40911.44921875,40564.1640625,64846.26953125,48301.859375,53519.73828125,45164.49609375,66379.390625,32774.37109375,56702.8125,85110.7734375,83401.515625,43217.34375,82085.234375,74111.609375,103864.0078125,77118.3671875,40297.27734375,53780.390625,56274.69140625,69247.296875,26454.669921875,39220.15625,70210.3046875,37664.890625,69607.6875,46556.97265625,57029.2734375,42669.94140625,51376.76171875,36273.41015625,68279.953125,50579.6640625,74032.5703125,117451.65625,52551.6796875,87396.234375,79113.796875,63621.68359375,54905.33984375,102395.515625,42146.5625,82747.390625,87641.6484375,91583.140625,87145.203125,62255.70703125,46990.73828125,105422.203125,71245.375,42380.42578125,47193.40625,67667.6640625,54622.45703125,32928.6171875,47951.24609375,60623.671875,65656.046875,40018.6796875,71086.0,38455.1796875,39145.8515625,60418.75390625,58302.33984375,80767.359375,75808.640625,82542.484375,71690.1015625,69727.9921875,53054.6328125,43525.125,30287.47265625,19648.044921875,64418.96484375,39169.18359375,62818.359375,74128.0703125,101728.03125,57587.8984375,102455.265625,52210.265625,48114.0390625,59060.9765625,83654.28125,75636.375,62021.40234375,21386.6640625,54632.62109375,89282.890625,62679.40234375,139165.53125,69572.390625,118019.1484375,107800.9375,101391.390625,42641.26953125,46866.92578125,52757.703125,106533.7890625,28881.98828125,52085.078125,48509.40234375,38814.84765625,75545.671875,52545.64453125,104562.3359375,77836.4375,46384.09765625,90222.453125,57848.7734375,44255.94140625,87761.2109375,53389.7265625,55123.94921875,51999.890625,53074.55859375,55069.85546875,36665.20703125,80399.5546875,78552.671875,114499.7890625,53196.9453125,55173.83203125,47145.18359375,23322.419921875,50252.47265625,53377.9375,68235.09375,97109.703125,50232.39453125,99174.40625,63852.2265625,75319.7734375,44006.06640625,73890.59375,69754.5859375,97315.5078125,75843.859375,66418.6015625,51499.40625,40635.30859375,96221.5859375,60653.93359375,52756.34765625,29261.716796875,67486.78125,27664.099609375,54416.02734375,46543.609375,74179.2890625,69638.796875,71410.21875,95440.2109375,86268.2578125,52286.3359375,36382.734375,61226.0546875,94682.53125,57145.7890625,95971.8515625,80514.2890625,88504.40625,72989.6171875,44874.625,85542.1015625,42314.5625,85959.2109375,67448.8125,41472.79296875,39952.6171875,85750.1875,82732.53125,82909.671875,68080.1484375,48310.6484375,81512.9921875,53483.34765625,50002.41796875,83311.40625,58077.46484375,51850.66015625,71088.515625,44221.515625,63055.83203125,61801.21484375,56761.0234375,58533.12109375,80491.0703125,85349.9375,66218.609375,34503.3671875,60460.71875,40943.64453125,82712.7265625,88570.8125,30631.796875,61543.73046875,54992.16015625,53886.5390625,55081.734375,46229.41796875,55001.44140625,48781.9296875,102753.421875,58199.6015625,114271.671875,64224.203125,52782.39453125,52083.046875,37517.34375,59496.99609375,51564.078125,44501.83984375,118977.96875,85390.0,90380.421875,50553.81640625,42760.01171875,53299.7421875,87517.09375,73140.5234375,76735.9609375,91439.96875,76718.1875,50967.7578125,85725.0390625,58183.6875,60270.87109375,93568.4453125,66087.1953125,39660.77734375,80439.5859375,55464.796875,86352.3046875,68528.7890625,78964.8046875,41854.64453125,70074.546875,22910.8515625,84971.046875,54540.671875,41279.0859375,44895.0390625,6198.49072265625,58338.48046875,90958.2734375,58729.046875,91503.203125,86622.3125,67161.453125,54569.44921875,67522.0390625,79357.171875,46557.75390625,45051.69140625,102347.90625,55434.046875,32171.841796875,60077.16015625,90775.1328125,93891.5859375,54660.66015625,45002.390625,101366.5,49198.78515625,74789.2265625,55859.5078125,75709.125,49594.625,31204.787109375,79470.34375,53664.984375,58918.23828125,89746.984375,109756.515625,42650.96875,66945.1796875,70916.546875,108718.9609375,45677.578125,91242.9453125,67567.7890625,56105.00390625,37875.734375,53209.37890625,49001.375,90531.0703125,57229.90234375,46929.21875,93671.5078125,74751.1015625,87062.984375,58923.48046875,53227.49609375,50770.36328125,37896.69921875,62907.87109375,69344.8515625,73690.7734375,55703.71484375,52529.46484375,57324.44140625,48755.0234375,83887.75,22545.509765625,67249.28125,41807.57421875,85564.296875,44624.76953125,58665.453125,75729.921875,28696.474609375,35486.5546875,80302.2421875,21724.07421875,57405.37109375,8071.5361328125,62480.05078125,48050.234375,43302.25390625,52461.9375,66219.125,79901.7421875,46124.2421875,69468.6953125,77867.9765625,72258.5234375,34539.9609375,115432.8359375,53318.9140625,47117.015625,54859.26171875,45836.37109375,116780.8125,50441.734375,73458.359375,77588.0703125,40481.6015625,83467.0390625,34029.15625,55546.53515625,67727.2265625,29571.6796875,83278.1953125,50245.15234375,35329.3671875,37497.875,49853.4296875,93061.625,69483.3671875,67077.6875,48551.75390625,51055.04296875,40924.10546875,44627.35546875,53063.7421875,92749.1875,36971.28125,45060.03515625,43221.4921875,51394.39453125,81089.6328125,54886.97265625,34858.55078125,80854.3828125,94046.3359375,44408.609375,78391.15625,59749.37109375,83644.15625,47689.04296875,62499.0625,78254.171875,76362.5390625,70906.6015625,102144.2578125,103845.9140625,50964.9296875,79033.8671875,97454.390625,40763.34375,70526.703125,80009.8671875,96053.484375,97917.8671875,56362.68359375,88326.6015625,57182.1484375,71920.6640625,39393.15625,94584.3203125,139221.875,55337.71484375,40877.61328125,40250.2265625,55124.1015625,53593.140625,53459.10546875,47643.1015625,49460.22265625,57813.35546875,63475.6953125,46597.8203125,58137.9921875,78905.2421875,33646.3984375,99221.171875,108414.2265625,53031.921875,34296.5234375,110930.9609375,53800.91796875,79988.9765625,37145.015625,37857.44140625,89645.7109375,40273.6953125,92976.890625,28122.193359375,25300.646484375,63448.5390625,65630.0859375,28781.98828125,34910.50390625,48920.02734375,56906.56640625,54517.6640625,62093.60546875,41932.578125,82258.9140625,38774.2734375,40304.0234375,86973.5625,64078.3984375,58105.22265625,57206.96875,42808.19921875,54715.34765625,95156.3046875,15225.5751953125,44614.00390625,41187.84765625,63047.59765625,75447.1796875,87310.5390625,52246.58203125,48805.41015625,72288.4296875,54415.41796875,37029.22265625,41825.33984375,85901.2265625,73337.6875,33903.9375,67438.0546875,75441.078125,87818.0859375,65566.9453125,65620.6015625,72847.5625,45783.96875,131490.578125,54733.65234375,109707.5859375,79834.765625,90103.9609375,84621.8828125,53242.78515625,60726.15625,52921.99609375,57584.6171875,29732.40234375,37102.12890625,104636.828125,71463.4296875,29675.37890625,85856.1640625,43658.44921875,44874.98046875,53792.12109375,77086.984375,57057.359375,39697.38671875,41498.03125,38190.67578125,46616.0703125,86504.5390625,74449.515625,33955.84765625,33586.81640625,57286.4609375,107103.4453125,87477.9921875,79135.5234375,68653.46875,44105.61328125,89211.640625,69277.7421875,41407.515625,87862.859375,68893.9765625,49086.109375,45899.0625,83973.15625,54263.96875,86996.3203125,69999.7578125,36406.39453125,72227.8984375,63979.21875,52713.14453125,31130.361328125,93174.8359375,69131.9921875,86961.5703125,38555.7890625,45396.1875,97980.046875,42485.2890625,42200.05078125,90184.015625,49081.56640625,68760.703125,76312.484375,110386.7890625,81389.5859375,73039.9921875,94220.7734375,104117.5234375,47879.2578125,40191.5625,37781.4140625,109122.4453125,58669.88671875,47076.75,72236.171875,25833.27734375,82040.6875,64992.890625,84506.7109375,97245.1171875,43621.28515625,97502.2890625,48876.875,25697.7421875,37545.73046875,70989.703125,51158.58984375,63429.91015625,79146.9375,45680.42578125,75699.453125,64663.08203125,54148.89453125,59598.16015625,93571.515625,73340.671875,75704.5234375,88974.9140625,37114.765625,40109.98828125,88993.2265625,58195.0859375,55351.15234375,39832.1328125,50383.375,102066.40625,60977.40234375,38092.89453125,73118.4375,50478.07421875,82771.484375,50483.109375,122338.0234375,46698.1171875,40370.2890625,63297.30078125,49576.73828125,45054.48046875,31397.251953125,46180.80859375,44335.50390625,26335.5390625,76414.7578125,81746.171875,100899.5234375,83149.2265625,50661.91015625,86347.453125,30319.458984375,37240.6875,96292.7890625,86749.2421875,55245.59375,46811.0078125,92127.2265625,48963.44921875,92175.7890625,122968.984375,49419.71484375,53511.1171875,28971.81640625,52461.46484375,48268.1640625,53396.265625,36882.578125,93063.2421875,40995.546875,104677.9140625,36278.62890625,44070.24609375,99482.765625,81941.5234375,37658.671875,92724.15625,78250.8515625,60570.37890625,45324.0,94043.0390625,52988.796875,61655.52734375,44126.8828125,64102.015625,99375.3671875,77905.78125,65406.80859375,64175.41796875,33259.91796875,59360.1796875,81279.203125,67414.6328125,78154.9765625,47651.54296875,57128.16796875,40044.1875,44855.12109375,59626.1015625,49932.68359375,69886.234375,31787.08203125,77286.484375,37273.40234375,58446.05078125,33054.03125,51808.2890625,26451.79296875,81078.265625,137985.328125,27904.845703125,84880.546875,112257.046875,46127.16015625,78955.328125,82760.6484375,54345.7578125,87169.390625,59774.953125,47440.8125,38723.375,47127.39453125,101994.0859375,78446.875,88299.3671875,105500.2890625,23204.638671875,58694.1640625,49435.00390625,53214.87109375,50650.69921875,50888.2578125,57344.99609375,33987.80078125,76795.640625,34630.5546875,54213.70703125,46701.203125,47999.82421875,26088.845703125,50412.4296875,40789.31640625,123741.71875,111121.1015625,36336.45703125,49828.296875,55184.265625,96806.1796875,111081.3046875,54459.203125,57136.49609375,83452.453125,80312.6171875,138114.90625,43921.0,75432.484375,97816.6796875,55936.2890625,90208.0703125,77577.71875,60295.76171875,79603.59375,33974.02734375,66225.953125,93090.59375,30008.8671875,72265.625,61674.1953125,80877.7265625,67610.7265625,90836.75,88884.0234375,94367.1875,83049.8515625,65115.52734375,101055.84375,110665.1875,35181.08203125,95751.7578125,62587.79296875,55134.375,100832.21875,18446.48046875,52430.625,47464.453125,72907.171875,40201.23828125,32766.470703125,108068.390625,60669.09375,53991.44921875,42230.15625,45381.67578125,85792.3515625,73827.515625,58865.91796875,41195.2421875,41115.75,42084.31640625,21434.017578125,36388.15625,39649.20703125,58852.9453125,64975.828125,36164.90234375,24323.96875,63505.58984375,47097.3359375,78811.078125,62938.85546875,59078.40625,42182.21484375,54979.52734375,66219.0,44538.765625,102325.3125,79583.3046875,81142.234375,54917.46875,74216.1640625,28181.0078125,62037.734375,41401.96875,93317.125,26593.599609375,98295.3203125,84520.4609375,62898.69921875,38334.99609375,78302.7421875,91788.1171875,50607.41015625,29138.5625,46441.24609375,59722.58203125,94767.5234375,33800.24609375,54715.03125,35122.07421875,27814.22265625,78400.21875,41026.41015625,57140.265625,52535.1640625,53030.15234375,74475.2890625,41220.96484375,80663.421875,55503.4375,53392.3984375,74719.890625,53610.35546875,73969.6328125,86621.1953125,87539.46875,52325.84375,78913.25,73076.7109375,98447.65625,77619.1171875,39336.109375,122770.265625,68071.5078125,60313.578125,38994.47265625,27750.4453125,91671.125,64951.734375,70867.5078125,91181.21875,46978.24609375,61015.40625,56786.63671875,61991.78515625,42342.77734375,52905.859375,69060.7265625,20643.650390625,50600.9375,76279.1484375,26751.908203125,44099.73828125,49860.14453125,29996.2109375,86412.2109375,40799.43359375,38199.05078125,45262.84375,47416.0546875,40881.6796875,30307.646484375,54277.2890625,54868.59375,69876.015625,77657.671875,41040.2890625,53444.31640625,58737.11328125,64673.328125,89306.546875,51338.54296875,35622.1640625,70097.2109375,71977.7265625,77785.578125,46775.453125,56003.2109375,68088.8046875,44816.953125,35874.92578125,74593.609375,71573.234375,49564.1953125,49793.125,81343.3125,32427.916015625,49285.74609375,102729.5,92404.2734375,64655.92578125,92040.96875,40766.68359375,31833.275390625,36478.46484375,21389.46484375,89449.8359375,31457.482421875,35613.95703125,12939.814453125,75708.7890625,44489.9921875,82061.40625,78532.34375,63610.50390625,60844.36328125,34767.98828125,53048.984375,45524.24609375,47995.00390625,101987.0703125,96169.8671875,35575.34375,34442.41015625,48443.91015625,49838.109375,40477.37890625,51349.57421875,64845.578125,40581.1328125,56194.11328125,57023.8828125,35310.37109375,38875.99609375,67273.046875,70461.15625,50118.51953125,34872.80859375,44567.2421875,29741.90625,59939.1875,38081.046875,98640.796875,73512.4609375,81184.53125,63841.3359375,98465.125,86584.6328125,43516.91796875,73851.78125,73168.34375,45954.38671875,49362.63671875,59433.64453125,28555.05859375,66516.765625,55191.36328125,25309.830078125,96743.3515625,56014.7890625,50686.49609375,39614.8828125,48250.28125,93044.25,38589.94140625,45735.8359375,34944.50390625,54371.61328125,31939.984375,83573.953125,101882.6328125,38070.65625,63866.36328125,71790.703125,73856.8671875,34899.03125,48310.02734375,34596.0234375,101530.40625,17889.505859375,105952.84375,47776.32421875,49557.1875,75996.3984375,81441.375,65100.1015625,29559.96484375,86757.28125,69605.8203125,47763.40625,93385.5234375,83981.15625,72433.21875,65676.28125,29302.5546875,23950.28125,50407.69921875,82278.5625,37972.26171875,58986.71484375,66831.4375,77799.171875,57987.73046875,39123.671875,97100.4609375,142127.859375,96497.9453125,111410.9609375,75361.828125,90942.59375,29696.5625,102450.25,85407.4375,91419.8984375,50941.61328125,59235.171875,59399.50390625,58856.5,72745.6796875,27155.865234375,83012.203125,96414.7421875,50886.47265625,78113.109375,41380.24609375,97040.6171875,98273.1796875,31129.34375,36691.89453125,67720.078125,50584.37109375,83420.7734375,63312.07421875,91194.6015625,22020.271484375,141463.703125,69737.9296875,93263.8671875,26342.4921875,43878.01953125,36684.12890625,38299.671875,40060.27734375,38018.65234375,67878.2265625,37058.390625,69005.09375,90143.0234375,43835.4140625,60458.671875,148626.125,83159.4765625,91540.59375,89522.203125,26791.642578125,22996.732421875,32473.71484375,99886.9453125,63394.80859375,52240.328125,47313.89453125,97260.9453125,34619.44921875,78317.6640625,81495.890625,23785.01171875,72275.0703125,74574.2265625,41184.2109375,98595.25,85491.5859375,95807.375,47075.1015625,52952.140625,37387.484375,67014.2578125,61688.09375,86806.4140625,41865.546875,89940.1796875,34879.55859375,50997.58984375,80801.578125,38240.53125,105059.9453125,83254.265625,45682.4921875,66020.265625,85519.6171875,572.4083862304688,77653.8359375,54446.91796875,69765.7421875,62708.421875,47011.68359375,54694.36328125,88528.7109375,72719.53125,64266.4296875,45327.33203125,51813.40234375,25310.080078125,66698.890625,74656.171875,83618.203125,96697.8046875,38102.96875,60101.24609375,63573.2109375,107926.1875,45392.7734375,50943.5234375,39451.17578125,64793.875,44942.56640625,53408.20703125,34807.48046875,48754.5,39817.94921875,85233.0078125,49298.99609375,71198.15625,49808.48828125,61792.1328125,87669.53125,77880.2578125,36503.89453125,74341.6953125,80149.4609375,39641.515625,100749.7421875,54988.515625,55250.34765625,70713.1484375,49757.73828125,36364.828125,34765.0625,45220.55859375,62241.3203125,56732.10546875,70552.6171875,40599.76953125,103710.25,22696.873046875,50223.6875,40410.203125,38155.62890625,50668.30078125,69500.5859375,68742.8515625,30305.880859375,51556.921875,39122.51171875,33274.4140625,59876.61328125,80325.7109375,40448.9765625,70610.4765625,30431.228515625,59073.82421875,67893.546875,49229.1328125,80351.6484375,40526.453125,88138.3359375,61157.2421875,67782.0625,99655.015625,34245.80859375,57821.41796875,61662.18359375,96729.53125,70217.171875,30927.11328125,34796.7109375,50178.5078125,58112.6875,96195.15625,93142.2421875,81925.7734375,75635.125,81813.171875,34185.328125,36569.015625,118758.2421875,20744.130859375,65153.796875,42127.4765625,58606.4453125,80801.28125,100792.5859375,105860.3828125,95877.453125,81769.8671875,81915.5,74275.5390625,40756.16015625,23455.544921875,104999.9296875,48086.55859375,46577.8125,52791.578125,47342.01171875,55641.7421875,48074.28125,23755.580078125,33605.58984375,81874.046875,55664.234375,34407.33203125,127703.3125,89069.8984375,58425.3984375,56190.4453125,23938.748046875,26172.94921875,34625.2265625,80971.0390625,57636.26953125,78695.4765625,60662.25,90921.390625,49751.24609375,80497.1484375,50869.84375,35291.16796875,59103.2890625,118219.953125,66005.71875,65966.765625,49035.07421875,48090.0078125,77761.8984375,72103.03125,33108.8515625,109946.2109375,81484.859375,39750.71875,74210.015625,47391.171875,106700.1640625,58538.8359375,90972.8046875,95050.09375,43060.11328125,41481.42578125,95024.109375,79045.3046875,37413.76953125,77729.3125,34018.47265625,55243.1171875,80228.5,49861.0078125,85259.0546875,62297.64453125,99298.5078125,53857.84375,340.9020690917969,71540.5234375,52227.015625,78083.046875,21195.435546875,73636.0234375,45461.37890625,58065.92578125,55750.4609375,67293.921875,36606.1953125,85360.1796875,68684.6796875,61913.86328125,48609.9453125,31439.984375,39711.63671875,50909.109375,116647.296875,83447.0703125,33012.19921875,52595.22265625,65977.6015625,51310.4140625,63977.28515625,64974.46484375,54963.99609375,59050.90234375,75174.65625,19076.318359375,87533.0078125,34177.55078125,63518.72265625,60805.99609375,70879.75,89299.6328125,74402.8046875,44293.65625,80452.296875,56176.16015625,73687.6015625,46909.5,92105.125,119103.484375,93839.078125,38599.28515625,32266.98828125,38235.1796875,76223.8671875,103041.0234375,55178.71875,35249.921875,82929.53125,53198.50390625,64671.25,57894.96875,87344.890625,46460.4765625,41191.32421875,53211.65234375,50991.859375,33643.30078125,82541.1015625,82418.6875,112824.0703125,85530.7265625,39263.9375,144311.515625,29505.134765625,87043.890625,74931.3046875,74627.1796875,52029.1328125,53111.95703125,39735.33203125,33876.3671875,51889.98046875,71127.328125,43751.17578125,31769.640625,19436.03125,102104.484375,19393.890625,39657.5703125,99263.859375,79264.2109375,60155.88671875,37240.98828125,95391.796875,38857.21875,98186.2890625,89033.7265625,74911.53125,60669.51171875,62360.2734375,56227.15234375,23217.78125,54439.79296875,96957.1640625,59054.5859375,44587.3359375,33955.13671875,45604.75390625,32737.3125,114476.734375,68949.46875,54460.0,88676.75,55262.9375,56478.2109375,62134.09375,27743.5703125,63987.17578125,94334.7890625,45355.9375,28064.9140625,97705.6953125,30506.572265625,32744.025390625,66640.8671875,93472.65625,87806.9921875,53363.71484375,62960.296875,8562.6279296875,61985.87109375,56127.76171875,63039.32421875,91070.71875,57830.4453125,45735.94921875,24735.990234375,50324.5546875,83064.2421875,73302.546875,35014.71875,59464.18359375,74968.109375,34384.765625,55313.46875,100571.3671875,59549.0078125,94939.5,54869.1953125,54531.2890625,31629.189453125,37696.09375,67229.234375,38724.66796875,18356.466796875,54237.3515625,112186.0625,57806.66796875,84997.5703125,50184.2109375,47707.66796875,62767.08984375,43702.7265625,106871.203125,29959.251953125,65402.66015625,98588.2109375,46867.6328125,76006.484375,58816.23828125,44521.37109375,77297.296875,81117.75,68242.8046875,47351.703125,53008.1953125,68072.765625,47186.00390625,50061.625,104454.0078125,45732.51171875,29021.54296875,43066.44921875,71772.40625,68994.4609375,30588.939453125,23089.259765625,57805.08984375,37716.67578125,140925.390625,49344.109375,38869.421875,50320.2109375,74573.2421875,63344.4453125,22425.46484375,61094.13671875,30245.076171875,48005.78515625,68791.953125,82070.6953125,46811.0078125,52287.890625,114877.2578125,59084.5859375,68293.984375,140019.53125,39126.19140625,37721.28515625,38642.16015625,74971.921875,84775.375,48024.8828125,76308.59375,60230.55859375,117790.1015625,72786.421875,71064.2578125,50607.515625,43186.23828125,70141.6484375,50649.73046875,38234.62109375,87910.2265625,37157.98046875,86842.7421875,70144.1953125,99177.8984375,61668.59375,63595.98828125,75151.8125,50845.37890625,83042.8203125,83942.1796875,29942.328125,125070.6015625,56230.03515625,105740.7890625,55058.4921875,57315.83984375,68032.7578125,83937.9140625,84322.328125,75757.828125,45390.1171875,56912.1953125,42020.62109375,2050.495849609375,32852.45703125,67541.390625,43479.84375,35210.0625,64323.4921875,54958.40625,35696.35546875,52385.90625,36821.0390625,78890.03125,46320.7578125,78506.75,57362.35546875,84935.3984375,-16.967363357543945,68754.078125,59847.60546875,49570.28125,89777.46875,16391.96875,81097.078125,67016.5390625,93352.984375,37751.265625,37570.9453125,40817.77734375,87289.4609375,103499.3046875,68723.6875,40725.921875,36169.7109375,74653.578125,36538.58984375,41628.96875,44062.2109375,68731.203125,38571.20703125,39288.390625,36234.6640625,42069.33203125,30807.6796875,76874.5234375,41046.41796875,68642.625,43191.59375,82789.21875,57324.65234375,79659.875,48390.4453125,75702.15625,46184.265625,61347.15625,79217.546875,97676.8125,33427.55859375,73121.6328125,35940.52734375,36751.671875,37534.12109375,93036.2578125,62807.1015625,71323.6484375,89007.046875,105293.421875,73102.4375,47444.1953125,38648.21484375,51916.25390625,88184.8828125,41068.578125,71057.1328125,54901.76171875,56655.25390625,37505.6640625,69569.84375,101537.8515625,35897.71875,69850.5859375,51308.70703125,67772.296875,56116.30859375,78530.6171875,47369.24609375,77158.3125,56499.6171875,66765.0625,52422.27734375,89154.28125,51266.83984375,56269.37890625,43767.18359375,37806.203125,56636.87890625,58968.1328125,67406.328125,75245.3515625,65177.1953125,50953.421875,28790.716796875,113795.46875,29739.33984375,84113.7734375,96150.890625,91602.0234375,71147.2890625,55679.78515625,23110.94140625,71395.6328125,22210.66015625,109072.796875,83903.2265625,40153.33203125,44094.0546875,37545.171875,70691.3125,42516.17578125,77453.6796875,79813.875,83076.09375,56665.921875,74676.3828125,86539.1328125,59321.578125,33303.3203125,82280.5390625,33090.80859375,87249.796875,35582.609375,66324.703125,69058.1953125,98252.6015625,87846.015625,50446.90234375,52788.3984375,52625.56640625,53368.33203125,35660.6484375,46876.28515625,112011.4140625,99989.9765625,50457.09765625,40606.8828125,49103.390625,51361.10546875,81974.4921875,108717.109375,93104.9296875,91281.0078125,28412.236328125,86879.53125,51682.078125,40534.265625,96424.0625,97969.65625,50805.546875,92604.6953125,34730.0703125,93996.046875,68828.578125,82319.7421875,47483.54296875,69682.8515625,93042.59375,134527.09375,83739.7265625,48307.125,60011.46875,59688.6875,63067.62109375,50620.23046875,115995.6953125,78183.2421875,55550.43359375,101045.2578125,65345.19140625,81900.28125,40189.765625,85349.5625,81140.2421875,90220.40625,89476.515625,43409.0390625,46711.26171875,52585.00390625,61427.96875,45729.1875,79982.828125,36499.0859375,36072.31640625,63888.6328125,63893.69921875,63391.93359375,108376.59375,66207.5078125,40628.75,80928.578125,41472.73828125,72545.78125,59578.87109375,33687.546875,102638.1796875,89513.828125,67905.9453125,33353.30078125,53047.19921875,74600.7890625,86137.7890625,108697.109375,133779.546875,57917.57421875,47842.4296875,99635.9296875,96635.1875,45526.5078125,84181.703125,94445.546875,47816.3671875,45654.64453125,30829.01171875,47310.94140625,35150.3515625,107354.3046875,41549.5546875,55348.96875,24909.376953125,94007.75,67242.078125,78686.1015625,52055.265625,45600.25390625,44608.6796875,24298.548828125,70221.625,87324.71875,40495.85546875,85932.2109375,99514.71875,60833.953125,113811.2890625,49233.234375,47727.328125,14526.7763671875,52928.9296875,44130.0546875,80039.3828125,79025.265625,60090.4609375,121012.1015625,41424.6796875,34942.921875,44996.76171875,66855.1796875,82965.140625,90112.4921875,95892.71875,41970.90625,33698.19140625,45351.75390625,30749.52734375,42782.2265625,89080.4921875,88436.25,35273.1953125,32094.19921875,28430.2421875,70403.140625,78532.34375,81607.4921875,71716.53125,87690.4453125,85129.7109375,55464.796875,49026.21875,49462.0390625,39458.15234375,73372.5078125,43663.73046875,71236.390625,104466.046875,89049.125,65027.625,56499.21875,55257.88671875,47858.0078125,55441.96875,100781.75,70175.015625,59252.40625,38061.3671875,92466.328125,48765.7421875,65343.1484375,39365.06640625,70383.7890625,41252.765625,119405.578125,65851.0234375,68488.2265625,83857.65625,34662.35546875,63245.390625,65375.9296875,77657.0,70161.25,78612.0078125,90724.6484375,32230.67578125,38467.3203125,55313.37890625,85841.9296875,65750.1796875,77917.859375,65050.55078125,55705.59765625,39689.43359375,28934.6015625,24854.0078125,91035.1484375,98527.5390625,44870.71875,99245.8125,38944.6328125,37881.59375,79117.390625,50904.59765625,73136.1953125,80679.734375,69696.1328125,59006.5859375,29062.30078125,75538.25,52682.53125,54307.1953125,26012.83203125,75547.7578125,100457.15625,83963.890625,51273.90234375,110159.1171875,68960.2421875,95455.0390625,58273.5703125,119666.265625,67829.53125,66833.5625,66085.6796875,54435.4296875,43260.72265625,80735.5859375,106308.8984375,32468.6484375,15751.2197265625,95570.0625,57572.46484375,38031.33203125,59107.30078125,25768.748046875,67787.53125,29512.771484375,82177.921875,63375.77734375,75972.21875,52902.96484375,100119.8828125,39816.24609375,59450.0390625,43706.34375,61746.53515625,76299.6640625,102563.1796875,54628.4296875,75050.6015625,25648.556640625,59394.26171875,79961.0546875,72210.109375,75016.21875,51571.31640625,34390.9921875,104849.8359375,57444.984375,90077.515625,53302.0234375,76870.0234375,67167.828125,79658.6640625,57709.84375,-486.47100830078125,31607.623046875,72921.71875,42514.76953125,81218.5390625,52999.8359375,60084.15234375,104085.7421875,64234.7578125,56060.37109375,62193.9453125,59083.71875,58239.66015625,64332.5859375,51393.84765625,51949.3125,85502.1640625,45382.2421875,40559.93359375,69182.4140625,47787.3828125,49342.28515625,38177.94921875,64276.7734375,46104.6875,40236.73046875,52574.0546875,89880.125,37219.6875,85897.5546875,35462.40234375,40596.34765625,34180.9921875,110681.3125,77621.8671875,58482.77734375,37568.44921875,86785.2890625,32455.060546875,47590.98046875,111809.7578125,55219.0546875,115116.09375,83092.34375,85924.1484375,141317.5,38633.10546875,100460.8828125,15623.6953125,103106.5546875,37659.15234375,60789.18359375,29918.07421875,42765.03125,85742.3671875,89531.6015625,90162.0625,45562.171875,50883.37890625,46884.1484375,101888.0625,95166.703125,58962.65625,36180.48828125,37714.7421875,50500.5234375,46319.2109375,67691.0234375,53689.6171875,100123.3828125,41772.10546875,63523.66796875,108229.8515625,92769.3359375,37992.66015625,46244.2421875,78813.1640625,80440.1953125,87891.796875,35969.0546875,39987.33203125,34659.70703125,102469.109375,85977.5625,81579.8671875,103889.671875,44020.77734375,54285.765625,80492.4375,41388.61328125,67394.3671875,96044.2421875,47305.57421875,72273.1484375,77551.9296875,58823.92578125,18554.466796875,92057.8515625,65354.203125,40056.5625,78383.34375,42315.1875,94064.6328125,60028.03515625,58582.6953125,67263.2890625,53920.359375,63519.64453125,39901.91796875,74922.109375,31511.8046875,56303.08203125,35556.89453125,60350.20703125,55885.1171875,40112.81640625,70994.96875,67268.828125,55195.31640625,59434.75,88231.890625,88301.296875,37486.20703125,81855.703125,59469.0546875,91925.265625,47938.65625,32072.6796875,56392.76171875,38887.7109375,36989.5078125,80135.484375,51274.5,51709.8046875,81028.5625,50066.09375,43425.4921875,43334.765625,74479.2109375,39106.546875,52859.8515625,65909.703125,47057.46875,47455.9140625,66556.5234375,48553.6875,106644.8359375,84831.1796875,56616.21484375,77000.75,142486.0,30724.14453125,62653.37890625,28923.38671875,113875.3359375,56281.73046875,41605.234375,59752.24609375,33950.09375,101309.5234375,122241.2734375,45603.01171875,71218.9375,105549.1640625,35210.72265625,37514.296875,33542.83984375,75728.1640625,81811.9609375,33687.5078125,28734.408203125,22151.806640625,89973.3515625,33121.67578125,38238.1796875,75262.0390625,86229.1015625,39596.67578125,48548.2421875,60789.09375,85636.90625,40799.4453125,53389.79296875,53695.22265625,82542.390625,47310.73046875,102564.328125,58103.390625,79791.9296875,21388.85546875,68598.7734375,44875.54296875,84750.4609375,98783.796875,52248.28125,98599.3671875,41691.73046875,58962.8046875,42328.31640625,47945.30078125,33180.20703125,45321.375,34860.61328125,28719.447265625,35448.20703125,33595.0703125,91695.6796875,38489.84765625,43926.65625,34952.71875,73747.8828125,38204.46875,85842.75,53268.25390625,34315.07421875,47935.70703125,98224.5546875,44490.1328125,41469.1953125,53491.19921875,23143.37109375,34323.31640625,66110.53125,45025.40234375,72408.4921875,55328.98828125,46195.89453125,69379.71875,27583.236328125,116597.3515625,29861.365234375,90772.1484375,48979.18359375,52135.69921875,46068.5078125,91666.2265625,106049.765625,22667.13671875,39364.4453125,64931.6953125,87879.5859375,24309.478515625,66742.53125,83693.921875,89970.4921875,64074.1484375,88010.65625,58863.81640625,72191.71875,32730.59375,146462.515625,60710.74609375,63161.87109375,45906.2265625,101266.953125,67805.21875,99678.828125,55897.41796875,89878.3984375,43083.06640625,36951.296875,53743.859375,49653.359375,32055.568359375,71879.03125,89580.234375,55022.328125,86201.359375,31552.517578125,67412.484375,61154.671875,44911.48046875,40803.796875,46580.20703125,68032.0703125,115558.9375,91501.59375,70935.140625,48203.0390625,48811.04296875,50024.72265625,37723.66015625,72208.171875,52952.12890625,29661.169921875,55595.41796875,68870.515625,81452.2421875,40476.48046875,66978.6953125,81453.2109375,36219.58203125,59965.625,40347.92578125,45939.328125,77164.6484375,75417.6640625,35959.8359375,71875.8828125,59669.96875,99590.2890625,27426.705078125,46198.89453125,23705.51953125,85929.5546875,34003.109375,81485.96875,43634.83203125,50762.08203125,64616.21875,29440.859375,49402.3203125,53255.37109375,63280.734375,54413.2265625,33579.74609375,47723.75,71706.8125,73723.1171875,69658.421875,83514.4765625,23442.173828125,100239.2578125,104366.84375,98185.2890625,65150.34765625,58889.83203125,95080.25,40506.8515625,87151.03125,85455.453125,42766.84765625,138022.046875,64247.2265625,90315.984375,88928.5546875,83469.09375,57005.671875,39727.3359375,33324.98828125,108063.953125,86598.375,21326.84375,44201.7890625,80279.625,72386.921875,78393.8671875,60244.73828125,86332.5546875,77689.7578125,59793.7421875,81608.03125,42174.41015625,75096.25,50238.4375,62598.2578125,45860.51953125,58114.94140625,41730.53125,50469.66796875,81194.7109375,68782.90625,80658.828125,41766.51171875,82747.5546875,50647.01171875,44252.28125,78367.9453125,55407.31640625,48038.4609375,96778.6328125,20030.87109375,37542.87890625,99172.1953125,48751.7734375,85270.1484375,58635.16796875,34335.6953125,70042.2109375,32742.0546875,48729.48828125,38641.171875,55346.15234375,73464.3828125,64563.390625,101996.671875,21046.705078125,76620.3828125,78805.984375,52401.27734375,33714.75,87128.5703125,59620.125,92197.7578125,80801.125,78771.296875,82697.8828125,53045.703125,82653.2734375,62062.8125,92550.53125,91463.8046875,55987.58203125,47439.57421875,37844.59375,105341.1015625,57151.015625,34888.96875,67604.1796875,43222.140625,61009.55078125,120353.5,56387.6484375,135382.25,39699.29296875,90107.0859375,60517.95703125,67534.265625,87117.90625,106719.34375,63204.6796875,109639.65625,67266.2109375,71046.1953125,40978.14453125,32298.55078125,47543.109375,43780.0234375,89244.1796875,51264.54296875,56300.5078125,54263.25,68756.7578125,44646.6484375,71935.0234375,40703.46875,71431.953125,34946.83984375,81331.34375,79951.46875,53859.52734375,54904.640625,60783.5859375,55969.59375,21329.380859375,68635.734375,54264.73046875,35547.1015625,51789.41796875,61114.94921875,103427.1640625,91132.3125,103439.203125,61797.92578125,45383.09375,66392.8359375,62234.34765625,36060.3046875,44714.2890625,37193.234375,99675.859375,83686.1640625,89539.59375,67217.0625,36639.41796875,48060.08203125,76535.4375,95548.5703125,54959.453125,21599.3671875,40012.96484375,49343.71484375,43300.48828125,77361.96875,27898.365234375,62343.46484375,40155.15625,90841.265625,59076.0859375,92007.9453125,40663.24609375,60140.125,48075.79296875,37940.12109375,52837.78515625,70730.8984375,92745.90625,38430.96875,47077.48828125,38618.7265625,74162.65625,63523.05078125,79959.1328125,30947.609375,58230.2265625,57750.40625,57115.0625,39981.2265625,23898.125,67402.203125,44286.5,12174.15234375,42138.8828125,39756.6484375,40798.2734375,80720.3203125,61031.046875,94479.796875,34622.6796875,31287.265625,59598.8359375,42667.2578125,47573.640625,76262.7109375,84129.4765625,48902.31640625,99758.0078125,51526.00390625,63382.20703125,97170.3984375,94847.046875,86654.3359375,29739.048828125,24036.9453125,82899.703125,64091.8125,40376.9921875,37540.8984375,71263.5234375,51178.18359375,51007.63671875,77417.7109375,67036.75,65957.0390625,40433.3515625,58850.75,95690.09375,47187.375,77308.6015625,70480.4296875,40485.6875,37617.28515625,44972.19140625,45392.515625,117900.0390625,30240.169921875,39730.26171875,38863.078125,56017.859375,95645.0234375,81507.265625,59461.9765625,81414.5546875,97530.234375,69216.46875,41629.67578125,97061.1015625,47490.2421875,69986.3515625,51624.98046875,65710.1015625,64619.90625,63498.9296875,49971.00390625,40757.3984375,55793.59375,30403.8203125,30579.69140625,19169.94921875,77168.0546875,76883.046875,57414.15234375,97244.2890625,53088.75,84329.15625,51149.2421875,53930.1328125,83159.625,46393.3125,46989.5703125,47696.49609375,114075.359375,28877.4296875,29975.365234375,53673.50390625,59793.03515625,38974.51171875,33622.34765625,86421.3671875,65859.328125,86258.4765625,23071.685546875,72490.609375,68767.75,78903.421875,43938.7890625,119429.859375,31431.458984375,47268.0546875,61759.5625,58645.66796875,88154.5859375,35282.1953125,50705.078125,49777.4921875,43590.65625,36542.7734375,106368.34375,78776.3984375,65711.203125,49797.140625,65789.8671875,51619.45703125,86466.875,56441.22265625,92289.296875,67522.1640625,38485.06640625,79988.734375,109994.765625,61579.64453125,34793.5390625,39257.20703125,104225.234375,48849.515625,37284.08984375,32581.943359375,78249.4453125,77038.65625,43823.2421875,84891.7265625,76483.296875,42260.484375,126976.15625,79561.609375,53558.1875,73798.8359375,39765.44921875,38246.28515625,111265.1796875,61635.28515625,81637.359375,37963.0390625,33256.39453125,90099.109375,65950.9296875,55962.1640625,47921.22265625,55196.5078125,36116.02734375,81095.28125,87336.4375,33867.9140625,93774.4375,54205.44921875,46151.94140625,70544.2421875,45398.9921875,31533.185546875,50589.09765625,99243.703125,56856.9140625,103488.8671875,56181.7421875,58833.22265625,87870.6015625,43430.18359375,26835.279296875,31172.955078125,65047.6953125,49174.7578125,64193.1171875,55656.34375,98898.1328125,95281.4609375,78088.5234375,101276.4296875,37812.30078125,37973.78515625,76708.5859375,78485.0859375,91472.75,39716.10546875,72614.6328125,93458.171875,28971.087890625,47087.89453125,73873.7890625,41861.25,67725.9140625,81023.5234375,100431.96875,31446.595703125,79352.375,40197.4140625,41561.68359375,52614.265625,127269.34375,60197.55859375,46967.09375,63397.25,81203.7734375,71822.65625,23720.43359375,72101.9609375,69517.2734375,86003.875,40582.09375,44031.640625,69035.9453125,107501.34375,61998.98828125,52237.69140625,95398.1875,122065.3984375,75115.203125,82804.890625,61592.21484375,64595.60546875,52288.265625,86343.5390625,35166.171875,43531.0859375,29116.80078125,38715.41796875,50660.03125,86448.28125,33595.26171875,81142.8984375,71821.4921875,45938.76171875,58891.9921875,54988.85546875,62498.84375,87849.2421875,45259.8046875,66284.7734375,74482.0625,48297.97265625,64783.1875,22989.974609375,43921.4453125,50726.125,51870.671875,61462.49609375,37240.6796875,89391.203125,47318.33984375,92790.8125,135841.375,64304.76953125,38874.51953125,48145.8046875,36437.0625,89440.9921875,34658.38671875,66696.609375,54190.125,71704.7421875,112801.0625,40532.12890625,75287.8984375,72122.859375,52066.48828125,43221.97265625,32211.515625,67088.0546875,50696.86328125,42103.33984375,72296.796875,43058.05859375,64411.828125,34417.16796875,90350.8125,54263.4453125,83039.40625,88922.625,5472.13818359375,87769.6171875,54379.515625,86749.84375,80789.3046875,37823.5,100514.34375,41883.046875,36432.609375,122018.21875,23139.93359375,67657.9296875,50599.05859375,86769.8671875,80472.3828125,39141.71484375,52252.6171875,85558.125,39716.61328125,88804.328125,70246.40625,59425.8046875,108282.8125,71402.4296875,82176.8359375,77530.7109375,82438.2265625,32503.83203125,96906.125,39448.01171875,71527.46875,74300.46875,55425.578125,36894.62109375,64774.6875,101632.1875,57738.55078125,45783.48828125,40947.2890625,47138.65625,37247.49609375,94494.9140625,40258.88671875,54468.46484375,56750.34765625,68031.7734375,58324.0,61107.7421875,86852.21875,74396.828125,46884.1484375,85221.6328125,55422.4296875,77238.4921875,30508.740234375,41698.12109375,58950.28515625,57929.6953125,36210.92578125,102330.9140625,86741.3671875,72887.09375,35359.19921875,34939.39453125,41318.078125,61596.41015625,49669.99609375,40270.375,29576.337890625,52808.80859375,49668.3125,33381.8046875,93376.953125,63391.3125,44666.1796875,56213.81640625,81411.515625,52389.8046875,30869.890625,78045.4453125,87879.5859375,91067.6015625,52826.5078125,73022.609375,81387.703125,78778.875,57343.3515625,65465.35546875,36670.4296875,66212.640625,86355.5546875,74655.40625,64606.23046875,88270.484375,33414.9765625,51990.34375,64944.92578125,85480.515625,98513.1484375,39323.234375,101210.5390625,67757.328125,76660.1484375,24817.158203125,91611.296875,70291.0859375,99859.4140625,109247.75,73355.9140625,35084.046875,49102.96484375,88945.46875,65812.3359375,43230.04296875,52817.234375,41480.0,64978.671875,68592.421875,90060.203125,93170.9296875,121199.328125,31651.541015625,52441.69921875,53479.69921875,69990.0859375,80012.359375,46825.96875,31849.509765625,56251.88671875,51026.44140625,37526.9140625,34194.4453125,87653.1171875,42611.0625,88612.671875,32180.943359375,40438.359375,77204.8984375,58439.74609375,75628.703125,75777.9765625,68974.9609375,40510.41796875,36736.359375,40993.125,82572.421875,44198.515625,68801.953125,41886.42578125,42456.51171875,90776.7578125,46179.66015625,80598.984375,83063.1640625,51997.84765625,39712.23828125,74301.8828125,49994.8515625,66202.421875,50935.359375,39188.0859375,42483.453125,61564.58203125,97485.484375,38466.50390625,26982.966796875,60960.33203125,77679.078125,94623.640625,94102.6328125,78549.6796875,65132.43359375,70946.15625,103166.78125,83481.328125,90201.1484375,55596.8359375,36922.34765625,30773.99609375,102270.8046875,50692.91015625,43521.87109375,50947.58984375,73359.1640625,69131.6328125,61841.421875,41222.98046875,122292.1484375,91599.828125,39832.5625,43681.94921875,105379.3984375,67623.4609375,40962.79296875,94273.0,110788.6796875,81141.6328125,73203.15625,82656.8828125,58829.69921875,90934.328125,73154.5859375,40132.28125,46318.53515625,18562.41796875,73128.1171875,81403.671875,78295.3515625,58920.37109375,76042.6640625,35255.49609375,77807.875,49988.72265625,45398.8984375,78313.125,46264.53515625,77481.59375,72029.46875,48893.15625,100744.59375,28095.041015625,20453.734375,56156.8984375,92709.59375,83814.7109375,80999.7890625,74538.1328125,56772.203125,48478.12890625,31139.939453125,89141.765625,93082.515625,20251.478515625,76764.3984375,92500.6953125,60229.44921875,42568.2265625,58125.4140625,57675.73828125,58828.7109375,54522.62890625,97020.8359375,76376.734375,20185.650390625,45322.71484375,20182.56640625,82780.3359375,53549.3046875,40948.94921875,106690.34375,34347.5078125,67504.2265625,40286.2109375,108077.0703125,75537.0703125,73804.046875,90233.671875,42334.515625,50305.89453125,69088.515625,44485.60546875,69842.59375,82949.5546875,47153.3203125,66931.7890625,120273.84375,38502.109375,70691.6796875,44881.17578125,88303.0625,85402.1484375,35237.1875,52525.4765625,17901.41796875,88868.34375,40457.625,80742.109375,64027.87109375,31432.9765625,57377.765625,63961.90234375,78102.5703125,49954.6875,73547.6328125,46387.02734375,23627.404296875,77139.421875,41835.64453125,63493.04296875,39415.67578125,35416.37890625,45781.4375,53033.38671875,47494.0625,39068.37890625,30801.025390625,56937.7890625,64230.2890625,41185.48828125,80324.4921875,77921.171875,44365.5390625,60832.67578125,42954.375,58837.69140625,55920.90234375,70895.1484375,44118.90625,91402.765625,40398.35546875,97194.515625,52698.453125,83671.921875,49531.6328125,43966.40234375,49950.8671875,65809.234375,52572.8828125,34543.55078125,71776.3671875,80990.640625,118747.0625,91821.2109375,34319.49609375,89523.9921875,68147.34375,72985.3828125,43791.94921875,73984.328125,86652.65625,68312.3046875,37593.4140625,38249.62890625,57425.3515625,51105.1328125,52145.74609375,84490.125,51554.27734375,51320.8828125,61662.6328125,94786.1875,35013.2890625,40542.8046875,46186.0234375,52333.125,51822.28515625,68130.140625,45321.0625,38835.1171875,34680.08203125,69385.2734375,60931.73046875,41624.98828125,41204.05078125,83737.15625,61361.140625,35227.3359375,46756.05078125,61600.8515625,32916.67578125,73108.515625,100113.484375,58178.9765625,55103.9921875,82343.25,43997.0859375,80987.953125,35817.3671875,63558.546875,54030.828125,20033.546875,52162.13671875,67719.421875,49995.60546875,48128.515625,52870.32421875,55265.93359375,31419.392578125,51928.94140625,51338.78125,27578.083984375,41567.44140625,34353.47265625,52980.72265625,27956.669921875,41115.39453125,40866.6015625,86605.2734375,86142.125,74127.6953125,95929.1328125,50322.75,42182.9609375,54424.91015625,36199.2265625,47588.15625,29384.49609375,58807.1328125,109104.3046875,60894.375,43921.08984375,48767.6796875,74772.515625,121902.0703125,49901.57421875,46206.31640625,90249.5625,73040.1484375,67121.34375,103781.671875,68282.171875,81342.4375,35795.1484375,43451.6875,87977.7734375,88914.9140625,33587.77734375,41721.7265625,61832.99609375,36309.01171875,51010.2578125,23261.46484375,31959.455078125,73261.0546875,45869.82421875,58897.69921875,41938.7265625,76266.1328125,69839.1640625,70886.0703125,27310.55078125,40959.0390625,51580.19140625,49691.02734375,58419.8359375,59804.80078125,78293.1640625,65968.1484375,47319.3203125,97814.1796875,62766.87890625,37389.3046875,80432.5234375,29755.1796875,55801.1953125,79462.703125,80687.8046875,54348.87109375,69103.375,37008.9375,71612.265625,77288.328125,49063.2421875,92375.71875,89725.7265625,48204.234375,32791.19921875,69901.0703125,80205.6171875,50175.3203125,86660.0078125,42890.5859375,37524.27734375,67900.0234375,99144.171875,27664.962890625,63830.15234375,32070.29296875,84972.0390625,98912.9609375,81219.984375,66611.3359375,52422.38671875,49302.49609375,63408.44140625,53989.64453125,92472.84375,57595.40625,96542.8203125,39760.0,51000.87890625,66944.6484375,34523.64453125,55058.6953125,22998.86328125,38359.58203125,47868.1171875,84393.1328125,82649.734375,77937.2109375,24623.017578125,72351.015625,39456.984375,45747.4921875,37607.21484375,83932.65625,33452.6484375,41475.80078125,57419.24609375,80540.7734375,60866.23828125,57291.03125,98127.5625,38562.67578125,56553.859375,99976.0078125,90508.6328125,43004.9609375,78261.921875,77257.5546875,80645.875,36691.66015625,97016.265625,77783.1015625,50498.55078125,46069.4453125,40715.42578125,56822.328125,78057.25,93146.4296875,47684.1171875,83730.9296875,83220.4921875,67215.1953125,54069.3671875,46560.7265625,59808.76171875,102163.3515625,71617.8828125,117595.8125,58770.38671875,64155.30078125,55166.12890625,27793.490234375,98985.8984375,58858.8828125,37602.4375,51191.16015625,84420.46875,72751.8203125,80765.9140625,78655.5390625,47581.61328125,53233.40625,76872.0234375,36942.0234375,81313.0859375,46098.671875,29579.08984375,69707.8828125,51543.2265625,97944.6796875,84520.015625,32267.29296875,50457.50390625,88343.671875,62388.93359375,103519.765625,71067.0078125,76803.8359375,76780.265625,95590.84375,79452.609375,41443.56640625,75246.6484375,55407.91015625,94642.71875,59657.8046875,43888.625,43510.78515625,83161.125,57113.5078125,96768.2890625,99830.765625,57027.28515625,93910.6484375,74162.1484375,118272.6171875,33012.12109375,21511.12109375,50933.8125,94662.59375,83009.1640625,61417.63671875,95255.6484375,50106.24609375,41825.4609375,67822.03125,49503.5625,83872.8984375,43684.92578125,50052.25390625,36545.3828125,45413.20703125,21791.81640625,97678.03125,75651.1953125,106517.0234375,70907.8984375,45254.9453125,46595.73828125,38978.9609375,79669.5078125,42887.9140625,44075.57421875,51667.6171875,53323.21484375,52037.68359375,51878.82421875,69273.046875,75990.171875,74512.8203125,37093.18359375,41261.046875,62455.109375,65188.9375,38582.8671875,58461.5546875,83786.234375,42131.46875,38479.9453125,43339.89453125,87025.03125,59770.6875,95056.8046875,72191.5859375,88529.75,42056.9765625,33698.7734375,44749.953125,42594.40625,68824.703125,59692.91015625,25445.619140625,36217.87890625,80682.2890625,38311.296875,51270.5,79597.1796875,46884.20703125,81423.9609375,60790.453125,35394.203125,41953.75390625,56394.81640625,67803.421875,67607.1875,60784.26171875,70283.1953125,55875.1328125,91697.46875,84385.65625,52966.4140625,49395.32421875,67075.65625,1843.062255859375,105155.1796875,70988.46875,39985.86328125,90922.25,91310.9140625,57508.3125,50505.5078125,67219.890625,98286.3984375,58821.0078125,35614.015625,32893.2578125,65325.0859375,52828.41796875,30779.955078125,85175.140625,43180.2109375,61836.39453125,13506.7109375,43482.73828125,73519.9140625,117429.15625,36338.671875,65596.8046875,51386.28515625,49362.94921875,54109.6875,39929.66796875,53798.640625,91854.046875,48797.75,80622.6640625,84396.5859375,81125.3359375,95437.2421875,51373.46484375,32633.943359375,36313.5703125,33912.43359375,96005.28125,57684.5390625,53573.38671875,34718.9765625,60764.6875,50376.03515625,66313.4296875,81928.71875,50570.51953125,50245.67578125,3286.6142578125,66788.7265625,94603.390625,83342.421875,84000.515625,58355.73828125,34113.3203125,52790.30078125,35300.5546875,52094.48828125,63908.37109375,80384.109375,53847.26171875,50383.1875,67471.28125,81593.9453125,43519.98046875,69008.9140625,97014.40625,100296.5859375,81513.234375,112696.6953125,79233.765625,37425.71484375,49531.03125,32455.4453125,48962.1328125,48665.42578125,57793.2890625,40377.453125,71864.40625,32307.267578125,66280.046875,54408.27734375,56446.96875,61053.80859375,62817.84375,45750.109375,28064.9140625,81890.7109375,49665.15234375,45764.2265625,94067.75,64736.79296875,48719.74609375,26861.90234375,50445.7578125,61673.265625,35509.296875,87232.5546875,75653.515625,54550.81640625,73483.9453125,50173.74609375,76012.2734375,62695.78515625,68453.640625,47848.8984375,35004.36328125,59443.20703125,103533.65625,55548.66796875,62774.5703125,50652.8046875,56969.828125,64967.66015625,38896.4609375,92901.8203125,57333.18359375,75346.40625,73014.453125,69499.2734375,64149.34765625,72264.7578125,66149.9921875,87290.6171875,50375.49609375,102516.28125,129308.671875,37504.42578125,45885.796875,55169.98046875,117729.65625,61749.4765625,35315.52734375,48694.03125,47094.62890625,95244.5625,89815.9609375,85360.59375,69059.53125,54015.71484375,41604.49609375,40448.078125,41965.06640625,90648.8359375,71380.984375,84616.3046875,56159.33203125,79939.453125,35469.40625,89414.3984375,90114.1640625,86581.2109375,25091.04296875,28309.294921875,72187.3125,53486.15625,42752.42578125,106918.3515625,78468.171875,39121.7109375,66487.28125,47287.76953125,46625.6171875,44617.9140625,66210.2578125,50787.83984375,60460.62890625,93756.2578125,108398.1640625,56755.1015625,97791.1328125,68021.4375,83319.4140625,58857.1796875,42145.578125,64454.5703125,126146.8671875,33462.51171875,94149.640625,35182.90625,35428.0,78522.4453125,42582.98046875,98457.65625,43909.78515625,56112.66796875,60207.234375,56690.95703125,62325.23046875,49554.99609375,43862.50390625,74078.0390625,81758.6953125,30418.791015625,489.2387390136719,47287.30859375,108503.3984375,41805.58203125,55997.421875,95269.640625,73610.625,82554.9921875,56262.09375,54522.23046875,144110.859375,48436.84765625,84697.96875,29076.95703125,122051.3984375,92742.796875,86281.1171875,117870.828125,47299.27734375,42656.4140625,85202.6015625,38400.2734375,51278.16796875,59736.34375,62073.1328125,78552.5078125,48179.48828125,59689.0546875,39007.74609375,68068.421875,59157.015625,85065.7109375,82450.1953125,55942.4609375,87206.890625,104842.734375,74122.109375,86233.2578125,58961.29296875,58426.35546875,84195.5703125,64270.5703125,26547.88671875,65495.671875,90073.375,64464.60546875,84073.640625,47908.85546875,34075.17578125,132609.265625,51172.76953125,50209.87890625,41293.96875,72122.1171875,76431.8515625,33110.96875,50973.7421875,90223.96875,74291.7421875,55364.9140625,59135.26953125,86426.890625,40345.7109375,48979.2421875,42010.203125,67897.953125,31686.880859375,96927.578125,117746.5859375,80195.828125,51490.35546875,55577.46484375,35298.53515625,92471.7890625,54339.55078125,57081.30078125,76343.2578125,85256.6328125,82282.2421875,109574.5703125,35218.16015625,79297.8984375,47317.32421875,38551.30078125,42235.12890625,60192.32421875,104885.59375,46032.44921875,77705.703125,79891.1484375,56647.453125,78578.3828125,95939.375,78849.4765625,43128.828125,38305.96875,67488.71875,78295.2421875,99723.75,81983.4609375,61837.203125,49877.63671875,40048.39453125,60226.4375,51024.7734375,49978.17578125,68689.390625,55505.08203125,66135.125,128853.2421875,58240.90234375,41364.5546875,31091.205078125,80168.796875,44459.73046875,90556.8828125,91734.109375,77678.0859375,64612.8046875,90198.046875,60528.015625,41463.63671875,36590.21484375,36135.04296875,63087.3203125,55648.5859375,38129.9296875,104981.515625,50006.04296875,58332.26953125,34043.45703125,88313.0546875,51930.43359375,94018.71875,76607.1328125,86361.4453125,34336.296875,82056.796875,32891.47265625,95170.8046875,31354.25,46216.25,98542.2734375,52529.4296875,47333.578125,87422.9609375,76400.984375,31394.44140625,59363.1484375,40416.73046875,74295.9609375,74949.3125,59003.18359375,47891.68359375,64180.46875,53143.0546875,28387.458984375,32943.3359375,88282.1171875,72551.8359375,91850.65625,83976.6015625,52197.79296875,46044.48046875,81908.0390625,121258.234375,96534.609375,51822.28515625,81822.65625,65872.75,81423.3203125,50048.1640625,39356.4921875,42902.50390625,48411.62109375,50565.90625,84490.484375,73917.6015625,92353.9453125,55142.59375,36266.0390625,46280.67578125,66002.625,60960.33203125,89182.3203125,59702.859375,77511.0234375,53680.61328125,46809.37109375,53821.296875,86395.3515625,54204.65234375,49749.25,76187.2109375,79400.9375,99499.375,19854.625,110049.34375,58550.4921875,28107.34375,17438.609375,54341.421875,82929.1640625,87748.375,42076.03125,10878.3134765625,61206.140625,66876.6015625,38046.66015625,75182.3125,53308.83203125,91661.5625,95860.2421875,63847.33203125,92372.953125,39602.63671875,56962.70703125,87297.21875,48976.46484375,72933.6796875,67471.765625,61405.15625,62850.234375,51181.1171875,53033.828125,49156.6796875,64439.71875,74133.671875,47929.3359375,44582.04296875,87934.8984375,66153.984375,35140.6328125,52914.296875,38393.5859375,52953.55078125,104609.4765625,25091.359375,31277.185546875,49090.078125,68904.1328125,71772.953125,31976.82421875,62837.82421875,84174.03125,92451.890625,44490.21484375,25506.416015625,51043.55078125,69518.5078125,38813.16796875,67941.8828125,38476.8046875,104300.7265625,45609.08203125,84689.453125,80724.2890625,55035.45703125,37062.81640625,83955.2734375,69661.9140625,47509.66796875,106345.515625,80501.3828125,56094.51171875,62753.953125,67833.234375,99523.703125,5614.5087890625,48465.87890625,60577.5,106387.296875,76960.4609375,59726.21484375,50942.62109375,110267.859375,47440.359375,91962.875,52639.97265625,46363.9453125,37941.765625,73587.7578125,35245.51171875,35972.58203125,65174.140625,47906.5,47228.83203125,95757.0703125,73065.4921875,24217.779296875,36547.26171875,104091.1953125,55355.76953125,69426.5859375,95338.125,31439.86328125,55885.8984375,31333.849609375,90956.625,92560.7109375,91116.1640625,88509.6171875,41808.23828125,42690.51953125,103919.171875,97919.25,102329.703125,113848.0625,26136.423828125,78671.8125,84984.8046875,86704.0078125,37714.81640625,123935.6484375,42115.8125,79050.0234375,69911.3046875,36480.87890625,76063.796875,33626.08203125,98270.6484375,34781.328125,71571.2890625,73335.3515625,84618.6875,89240.265625,50491.546875,66339.109375,62962.734375,79975.9140625,87349.7265625,80269.4765625,33180.89453125,75197.9453125,87802.9375,68734.7421875,48177.68359375,100312.375,55954.62890625,90555.1015625,48183.9140625,96645.671875,57307.05078125,43610.90234375,50353.33203125,44889.5703125,45235.22265625,53797.4921875,52752.59765625,69183.8671875,89963.7265625,48817.11328125,80360.84375,79015.0859375,100604.578125,61390.5078125,87732.9921875,37584.87109375,48082.13671875,75409.265625,67250.859375,35053.125,85194.0078125,86836.7109375,64231.43359375,132599.34375,80780.6796875,119851.5078125,100745.8125,60439.328125,50705.73828125,39560.53125,21169.53125,40376.41015625,143432.921875,59627.7265625,73355.0546875,73910.4609375,28113.369140625,65867.2421875,45969.98828125,37248.71484375,56654.47265625,68469.1171875,54820.296875,75088.671875,49752.6328125,51588.1484375,99698.5,85954.1484375,68429.4921875,74898.5859375,81552.8125,115651.578125,87714.15625,91096.5703125,56515.39453125,40746.515625,76222.640625,61526.65234375,61645.90234375,95882.4296875,87888.7421875,88878.328125,60651.2109375,66613.4765625,49481.1328125,48517.46484375,74239.7109375,98447.1484375,50802.1640625,61987.57421875,76858.7734375,42886.08203125,91494.5546875,56496.2421875,60320.359375,79402.0859375,56573.00390625,41297.828125,68113.234375,88813.765625,23492.76171875,92809.984375,43271.5390625,85975.3359375,50962.7109375,43397.0,87758.3984375,46651.41015625,37604.40234375,71214.234375,48289.1015625,23557.3671875,72896.8515625,65177.9140625,66768.5625,39174.78125,58076.6484375,70372.125,45683.296875,34373.56640625,60578.0078125,96119.8515625,41169.6796875,33654.55078125,86947.8671875,65959.2578125,77543.5625,42284.671875,37324.25,54681.0234375,37021.5625,80370.6953125,50828.88671875,30837.478515625,68758.171875,10501.63671875,42318.90234375,42749.8125,81566.2421875,63197.1328125,73644.2578125,80485.640625,86761.6640625,58380.01953125,41971.99609375,47372.41796875,25415.53125,46813.2890625,55017.51171875,64346.6875,142592.75,77033.0,48988.640625,103665.6484375,59551.51953125,26271.189453125,58161.04296875,73369.5390625,75553.546875,57407.1484375,70585.0,36931.38671875,43738.71875,101053.8359375,75178.296875,37213.3671875,58397.2421875,60775.234375,96877.8828125,85880.71875,54518.23828125,45623.48046875,82668.21875,25455.1171875,54900.15625,68051.8203125,37192.07421875,57006.5234375,97547.9375,32895.6015625,27824.0546875,96740.21875,42581.41015625,52245.046875,45732.9375,94426.03125,53018.78515625,41923.4140625,65061.59765625,26822.642578125,73147.8984375,107194.46875,87060.703125,41091.0859375,38066.84375,51259.09765625,24973.654296875,59873.39453125,84470.2109375,53264.12890625,86032.265625,92496.875,104741.40625,97448.015625,84206.578125,59079.16015625,73748.890625,46040.8828125,53478.3125,88561.359375,54188.6328125,124830.6796875,91852.4921875,81163.703125,68255.2421875,49351.5234375,38491.2421875,50930.0703125,23136.29296875,76731.671875,108736.328125,45520.08203125,82890.03125,35007.25390625,57257.71875,50009.7265625,48762.21875,33269.05859375,49835.28125,81990.2734375,139544.09375,65214.296875,40179.83203125,94600.375,84746.078125,55890.88671875,93048.5390625,43003.5625,66672.546875,88748.234375,93584.1171875,55949.25,91132.15625,53564.28515625,52938.33984375,73862.890625,62032.44921875,44043.56640625,71174.453125,37353.375,74483.2890625,54090.30859375,74742.828125,35274.33984375,65865.21875,91551.890625,116859.921875,50450.04296875,75766.1640625,39706.0859375,66430.2421875,62519.66015625,56842.2890625,48094.61328125,47133.3828125,51869.171875,72366.03125,62799.4375,70286.578125,100696.34375,44505.625,92083.6328125,57711.89453125,51514.34375,57199.8984375,74759.921875,59615.06640625,77105.6484375,100566.09375,35773.234375,21593.935546875,46441.0625,87903.1484375,118204.125,48978.046875,83406.640625,44296.7265625,10240.595703125,104069.65625,77799.2421875,81752.171875,46689.30078125,59802.859375,102641.6484375,43431.015625,98484.515625,91338.234375,78942.9375,57673.98828125,45956.5078125,37407.4921875,34793.4140625,99770.484375,93224.921875,43914.66015625,39107.515625,50411.19140625,39492.69140625,60933.203125,38659.26171875,49161.1328125,88876.65625,117293.6328125,66032.15625,24306.75,29262.92578125,69873.28125,103176.8671875,49372.3125,37729.8046875,56786.75390625,38427.97265625,90057.9296875,55849.55078125,61784.8203125,60491.93359375,71509.84375,85729.6640625,45469.11328125,75369.8515625,76599.1171875,82393.6875,51589.34375,28645.494140625,75050.8671875,27763.794921875,82214.1484375,84727.5625,53599.33984375,72081.234375,37833.05078125,39350.6953125,42251.51171875,72620.0546875,52183.9453125,98689.2109375,68841.6640625,24088.72265625,44665.140625,99219.0703125,64899.7265625,37519.4609375,92523.71875,53737.1171875,29400.19140625,42092.2265625,53772.7421875,60083.88671875,56288.41796875,54416.30859375,59166.25390625,100019.0078125,53417.421875,67393.375,61102.37109375,110082.9375,73945.3671875,99047.8984375,49257.625,31376.6015625,54770.73828125,49134.46484375,89743.9453125,90302.546875,29273.81640625,60595.11328125,62326.7734375,57328.07421875,69590.1953125,32010.423828125,84702.46875,59632.875,70602.7734375,43188.60546875,46017.6484375,88597.6953125,53701.2890625,40865.91796875,62621.75390625,108894.84375,45913.91015625,37373.62890625,29411.73828125,34704.484375,77198.671875,45678.37890625,52719.33984375,71987.234375,43375.390625,70089.7734375,45281.5703125,51057.53515625,40042.1328125,130732.4375,55087.66796875,44894.56640625,61629.85546875,73688.140625,23371.728515625,108476.203125,47437.703125,112045.078125,72582.4375,84166.53125,38512.74609375,39288.4296875,65065.421875,89551.9765625,44215.9921875,72129.2109375,105584.8046875,87986.1171875,75171.6171875,98551.3984375,29552.009765625,37137.34375,81537.984375,89683.75,53419.39453125,56663.99609375,55798.1875,37968.9296875,56915.10546875,59659.1484375,26351.408203125,54422.01953125,33187.140625,79444.875,33589.01953125,33053.34765625,58744.05078125,79077.421875,58484.0,67802.7421875,75464.8359375,67646.875,93646.28125,33189.51171875,87582.7265625,87637.15625,85515.3671875,68567.0078125,23399.83203125,96533.09375,114558.9921875,82913.5078125,68456.03125,62730.3984375,49864.96484375,26130.7421875,48637.49609375,51285.125,32199.951171875,72486.15625,36463.359375,77044.28125,34446.50390625,49460.58203125,57311.9609375,82926.5859375,37878.078125,78573.234375,21330.5859375,40040.97265625,110292.5859375,98275.515625,20088.0859375,83721.5546875,55094.2109375,53419.91796875,68124.5078125,97288.546875,52117.46875,76466.9609375,53855.265625,70721.953125,56744.1796875,51165.47265625,37189.93359375,65662.8125,43008.2890625,60950.04296875,75529.0,38275.21875,61173.0625,55898.3828125,48829.69140625,46224.93359375,125865.6796875,33437.4140625,17729.57421875,68522.7890625,48725.75390625,47733.79296875,68046.4140625,35775.859375,72171.3125,53886.5703125,60263.5546875,40466.1796875,75300.5859375,24445.126953125,39220.84765625,69958.234375,93508.0703125,86890.3984375,62669.78515625,44268.19921875,61893.046875,50835.6484375,41528.765625,31433.21484375,115442.5390625,48929.79296875,84727.421875,49083.01171875,76374.28125,55147.0078125,48181.37890625,51380.3515625,66526.6875,37510.30078125,88300.796875,31883.720703125,22184.49609375,33435.40234375,106622.671875,36433.76953125,84467.9609375,33564.82421875,106036.9609375,61612.8515625,70337.625,36783.75390625,43326.23046875,89058.1171875,99351.3828125,92943.765625,47113.0859375,45517.26171875,60100.26953125,36214.59765625,37699.234375,32062.7578125,40578.8046875,50534.83203125,75563.9765625,91548.7109375,95859.34375,34593.5078125,95079.1484375,25149.4765625,88504.3984375,82592.265625,33602.3984375,64844.12109375,55232.296875,67679.75,74789.0546875,141499.859375,82246.1640625,65908.1484375,32498.810546875,86868.328125,36673.44140625,42840.921875,62664.35546875,51938.171875,54001.41796875,74305.8125,52657.50390625,47410.7890625,97641.53125,58853.30859375,51737.9921875,43025.3359375,90103.9765625,63127.68359375,88823.1171875,64329.94140625,58657.78125,47705.34765625,28727.544921875,71875.1796875,88722.6953125,73510.625,88943.390625,113583.0390625,59194.87109375,51105.0,72250.2890625,59685.08984375,51512.0390625,51172.0078125,56460.3203125,80052.6015625,44190.7421875,56599.7265625,42520.8125,82302.828125,56157.46875,55233.6484375,64853.640625,23986.859375,69730.59375,83853.78125,126605.7578125,59650.203125,97733.3984375,71676.828125,84814.8671875,47897.58203125,36333.9375,51821.77734375,67584.3125,50045.56640625,37128.6328125,45587.71484375,108558.359375,56092.92578125,92181.546875,33638.87109375,106752.0078125,111695.59375,76052.34375,62467.6328125,62064.60546875,62342.0859375,63147.8515625,39001.72265625,35372.86328125,39766.96875,56015.5078125,29922.28515625,77966.1953125,113028.484375,86335.765625,65243.05078125,38836.1484375,49476.22265625,53541.21875,91632.703125,58374.484375,75848.3203125,57689.3984375,56752.12109375,52062.9296875,69621.515625,51302.03515625,48916.98046875,79694.3515625,86988.109375,53600.77734375,86220.7265625,28318.521484375,63364.26171875,35623.3515625,43974.64453125,54499.8359375,89207.140625,55794.1875,43936.421875,62511.36328125,49351.796875,71129.6015625,52467.11328125,25070.361328125,83581.6328125,74968.53125,39858.49609375,86248.078125,62613.27734375,75610.578125,95262.890625,80741.4453125,98457.6875,38070.09375,81321.125,46383.96875,41873.62890625,59155.1796875,100529.203125,49943.6171875,67117.9375,89344.34375,65451.44921875,44613.67578125,20542.275390625,89288.3125,49043.69140625,74739.3359375,44070.1796875,71019.1484375,42308.8515625,33480.3125,38395.32421875,66297.0,70392.5546875,52485.8515625,97551.4921875,84614.875,47606.8515625,42008.71484375,78428.21875,39793.1484375,47645.1953125,39211.7734375,41210.85546875,44176.828125,60282.23046875,56484.0859375,43111.01171875,39753.28515625,40241.16015625,98103.5859375,108012.109375,110280.4375,68915.8046875,86715.765625,40185.4375,57466.5546875,56659.44140625,35686.6796875,43812.1953125,46126.625,64441.1171875,73642.8359375,89507.6015625,31376.6015625,69588.5078125,33423.2265625,75838.6796875,32449.189453125,117140.609375,59303.3671875,99981.8125,82044.515625,103439.0,46850.47265625,36511.12109375,62819.87109375,63818.5703125,98803.1640625,23068.57421875,33186.46875,43131.546875,49372.62109375,36843.99609375,72383.640625,24019.2890625,49324.0,77269.4453125,56889.8203125,80541.0,50858.265625,79210.59375,30172.6484375,41687.97265625,63575.94140625,62033.0546875,37914.72265625,90696.0703125,51264.234375,37583.1796875,93771.359375,51312.15625,67328.1171875,59204.30859375,68581.453125,94870.1015625,38267.21875,52492.04296875,52792.5546875,40706.828125,59702.9140625,68960.40625,48833.5,50127.7734375,63867.4609375,73878.59375,63785.44140625,106438.2890625,77371.1171875,41506.07421875,48312.62109375,47478.33984375,104494.5078125,70238.34375,63272.79296875,54529.5,84920.5078125,51442.7578125,32187.748046875,68348.8828125,47863.9453125,57300.7265625,61238.28125,39079.94140625,61990.61328125,49186.2734375,48841.421875,77976.0234375,93839.546875,70167.6171875,42428.49609375,80787.3046875,37987.36328125,100959.4140625,85757.5703125,63982.05859375,77350.4140625,34614.83984375,56319.29296875,51525.95703125,38527.01171875,40099.421875,30904.865234375,113755.4765625,84112.9296875,67936.84375,92640.9453125,79699.5625,26697.001953125,59427.0,21035.201171875,59279.38671875,60433.20703125,31912.2734375,86231.5703125,100938.03125,86907.8359375,50847.58203125,73691.578125,49649.671875,90720.78125,52755.875,94628.3984375,56603.1328125,46022.421875,28370.515625,72946.359375,80541.984375,67834.3515625,35026.19140625,76044.8046875,81017.0625,85648.2265625,80091.25,58333.4296875,86861.40625,71235.9765625,72638.7265625,70015.09375,27111.837890625,54851.31640625,94999.2421875,94226.234375,99244.921875,45376.85546875,104013.59375,47258.1953125,13293.5009765625,59848.84375,38601.23828125,51699.02734375,40035.5,81601.875,114705.6015625,72328.5625,33640.53515625,36177.58203125,46308.37109375,55703.9375,48287.875,101522.296875,81821.4453125,104832.140625,68189.609375,102256.1875,82660.1875,74558.8125,66643.1796875,32958.359375,77500.8671875,67526.28125,60417.5390625,47204.9453125,78225.0625,67013.375,75659.2265625,94139.1328125,46185.6875,50496.19921875,41261.15625,70237.21875,83124.1171875,31793.46484375,52856.11328125,23503.166015625,114496.9296875,96971.796875,34551.7421875,52559.46875,63671.34375,68156.6484375,36875.3046875,28758.982421875,50425.12109375,70911.5546875,35222.36328125,44254.359375,36409.72265625,35684.828125,41726.65625,85339.1328125,36706.828125,106133.3671875,38117.0390625,42152.09375,53067.89453125,75475.3828125,82411.640625,68504.234375,62229.1171875,994.1434936523438,90902.3828125,56302.93359375,96606.5859375,33161.51171875,36785.328125,55997.25390625,49266.45703125,88781.1640625,86479.4375,75582.921875,39028.921875,47223.3984375,45355.609375,87161.765625,51473.78515625,40035.5625,37030.953125,60028.9375,43525.125,99173.8125,68073.328125,93623.296875,132712.453125,39472.5078125,68372.3828125,44965.62890625,77818.59375,84252.453125,79837.109375,79458.2578125,36682.3828125,66717.7109375,45028.72265625,33476.28515625,68701.0078125,38251.4609375,76174.375,44286.984375,42504.98046875,42191.28125,54647.421875,35045.4140625,64320.51953125,43488.90234375,58209.4765625,48783.71484375,28839.03125,74014.953125,45833.3359375,96395.6015625,66446.9921875,62045.5703125,37961.70703125,79368.6171875,67356.1484375,99325.7421875,44021.76953125,40760.63671875,95086.2421875,52767.76953125,54192.87109375,58281.6796875,60503.01953125,52549.59765625,47536.828125,69744.46875,85487.0859375,81389.078125,89743.3515625,69067.0859375,43360.87890625,41715.26171875,39439.55859375,46308.6484375,44696.37109375,86556.640625,74524.390625,79373.96875,67719.0390625,37416.703125,77267.9296875,33624.21484375,67733.5078125,42515.6171875,54770.62890625,84553.84375,67397.0234375,64240.453125,26621.576171875,104654.53125,61199.08203125,75717.046875,60720.01171875,60702.49609375,41758.82421875,100654.984375,47814.75,90546.671875,45828.71484375,70979.921875,129802.421875,100594.1015625,42059.68359375,58304.64453125,95674.328125,96143.8828125,47280.140625,74899.8125,90181.5703125,43093.05078125,55344.94921875,95283.328125,85741.2578125,25008.783203125,82142.5703125,49277.3984375,32550.31640625,44782.765625,38247.9609375,87358.65625,34071.14453125,43998.94140625,52927.2890625,50707.8046875,95470.7109375,50272.3046875,53493.49609375,62035.046875,79261.25,108992.5625,50211.88671875,89043.203125,43092.1015625,91097.671875,42593.9609375,48454.05078125,59613.45703125,51586.22265625,41217.43359375,49984.125,33103.40234375,75393.5390625,57414.859375,46221.4765625,54658.0859375,76933.7734375,87619.78125,65740.828125,65305.0078125,64767.2265625,51256.40625,86176.9296875,83497.375,41809.0703125,35994.046875,38560.89453125,58181.0390625,89864.375,26333.33984375,95280.234375,113728.578125,54407.91015625,63692.5625,45708.453125,82142.8984375,68054.15625,82323.796875,37036.05078125,51937.71484375,38014.046875,88884.09375,30344.57421875,50613.5703125,73836.5546875,89615.3515625,43667.41015625,41380.7109375,57215.03125,41369.23046875,99779.5234375,65616.3125,83024.21875,58585.73046875,49358.20703125,52833.75,42177.0703125,109454.0078125,32302.927734375,84160.2421875,108855.9921875,60133.68359375,79045.0234375,26323.521484375,76054.8046875,50355.734375,115465.046875,42770.71875,62154.1484375,30927.359375,127601.75,51032.68359375,91707.1328125,18934.013671875,56000.24609375,27411.38671875,90952.7421875,34187.453125,88083.5625,66169.1796875,43736.25,41275.00390625,105792.9609375,73357.0390625,68217.5390625,61304.0859375,86056.0546875,68815.59375,36307.75,48864.3671875,124983.5234375,30612.466796875,70740.15625,51745.66015625,47415.6640625,67371.9765625,77838.4453125,131103.28125,21237.279296875,40181.90625,55864.04296875,74403.5390625,62290.26953125,33200.375,60800.54296875,47173.0859375,67393.953125,57506.01171875,75776.3359375,72900.296875,51002.2421875,74021.5390625,54416.66796875,48512.28515625,133307.15625,59395.7109375,106113.96875,37835.515625,31505.27734375,46762.73828125,112210.125,89876.234375,67864.453125,94234.40625,50753.38671875,88631.8828125,44324.84375,79622.9921875,55472.3359375,56726.1640625,78269.3203125,72342.5,101939.4375,82057.03125,27300.1640625,80919.7578125,110209.5078125,116621.8203125,59111.6953125,43450.13671875,53881.9765625,47358.40234375,61998.484375,56120.546875,30931.806640625,28174.15625,61271.32421875,55849.46875,56343.33203125,56737.85546875,74093.234375,69091.78125,48441.03125,71006.4921875,32566.072265625,81481.171875,35891.5625,81694.703125,44515.9140625,58967.31640625,84372.7890625,56416.2734375,48236.046875,113647.078125,57146.84765625,56340.75,73363.9296875,24843.763671875,50042.44140625,48849.44140625,84880.671875,67304.90625,58201.10546875,41600.30078125,75678.703125,40548.48046875,48275.34375,57501.41015625,109678.9921875,40771.18359375,55626.328125,71389.4765625,74237.5859375,75326.078125,34573.04296875,63553.640625,67355.15625,65661.296875,100660.6875,56234.87109375,45579.98046875,24502.66015625,55412.85546875,92814.78125,28321.927734375,147416.890625,92233.5546875,96172.078125,37015.171875,90681.5546875,103894.3671875,46806.9375,96491.015625,32866.4921875,96098.171875,79029.171875,62006.4921875,47137.0390625,96868.1875,40974.6171875,46279.359375,67185.2734375,42730.875,74846.390625,41151.34375,36425.671875,138029.96875,72749.703125,91431.6484375,84473.21875,100362.671875,50265.08984375,51652.70703125,118336.1484375,108086.2265625,51609.9921875,87669.78125,94325.59375,35824.7265625,19953.3515625,51367.35546875,47622.43359375,106418.2109375,37901.1796875,59804.3046875,44860.41796875,90823.6484375,56006.62890625,88352.2421875,53278.27734375,75539.8125,40336.17578125,83250.90625,64178.70703125,73640.875,56445.859375,51996.79296875,45855.328125,99359.640625,78815.28125,59779.70703125,43435.1796875,53853.3671875,52309.84765625,84694.9609375,80159.015625,54777.17578125,81740.25,42103.1171875,43693.73828125,80313.1015625,100105.53125,39381.2421875,64828.4609375,67950.0078125,101989.25,85133.5546875,89362.828125,48011.453125,67428.75,83659.15625,37490.6640625,47727.58203125,32551.599609375,65099.1328125,62602.6484375,48379.74609375,79090.203125,68226.734375,71543.1953125,88088.3984375,88455.1015625,76497.53125,55635.26171875,23410.9921875,86962.40625,75193.484375,81362.8359375,83168.8984375,72642.421875,57887.07421875,31918.353515625,82825.640625,60603.734375,63052.92578125,50314.1875,80045.5859375,108945.78125,66941.1640625,47623.53515625,86842.53125,48017.37890625,47575.828125,62800.8671875,40691.90234375,93274.421875,80199.390625,112520.71875,49756.87109375,51748.390625,59047.9921875,54813.07421875,84471.265625,42202.83984375,53143.6640625,53631.15234375,70172.8203125,46678.0078125,66865.0,85095.2734375,48159.6015625,106374.8125,28950.310546875,102431.421875,79841.0390625,60918.8359375,59232.95703125,40193.078125,51894.4375,58221.57421875,78500.7734375,71063.5,93093.2578125,83941.046875,93329.7109375,73987.96875,98798.390625,98432.6875,108322.3515625,82516.2578125,69730.7265625,77599.609375,74239.640625,67642.921875,70829.5859375,68929.609375,75439.546875,60203.9375,56753.52734375,53612.4609375,46465.6875,94107.78125,64294.91796875,36044.40234375,79148.375,28031.30078125,48899.640625,80949.03125,27693.07421875,91525.8515625,24914.490234375,37255.1484375,53202.65625,22410.01171875,39097.90625,33182.77734375,43767.58984375,112613.5859375,43488.03125,42682.28515625,51522.53125,95317.328125,45366.2421875,88813.3125,39437.87109375,66556.640625,53961.5625,67179.3203125,42158.7734375,69003.9765625,108329.53125,45295.54296875,33565.40625,102883.4375,44728.66796875,105575.4609375,61790.703125,57023.34375,52931.640625,74227.2578125,57348.72265625,31939.984375,33122.546875,35092.76953125,63946.30859375,51624.1875,18180.294921875,109376.390625,42086.08203125,55263.15625,24627.62890625,91806.3671875,64486.234375,27966.9375,48770.51171875,34825.48046875,47715.8828125,42097.30078125,51176.84375,83552.0078125,107558.453125,75444.703125,96161.2578125,69165.6640625,35085.87890625,73574.1953125,70274.53125,35366.296875,30802.76171875,49141.1484375,36927.77734375,72975.125,39987.83984375,96735.1015625,107673.1171875,83477.6015625,109780.46875,42970.59375,44074.64453125,46742.94140625,38626.76171875,43751.35546875,58989.91015625,74961.7265625,25610.35546875,46365.421875,51565.53125,67139.9140625,80864.46875,59788.7421875,57384.40625,36329.265625,51742.5078125,61456.55078125,60581.47265625,79783.1328125,55416.11328125,71621.2890625,79165.6328125,34635.78515625,41758.67578125,37545.08203125,54896.70703125,92685.640625,68619.125,95830.2578125,58544.6875,46547.08203125,79120.625,64048.8203125,64860.7109375,32341.69140625,89426.4921875,49426.8671875,117096.4609375,90394.765625,52480.27734375,58844.15234375,67899.421875,78364.5546875,52156.2109375,50068.77734375,23693.32421875,72850.1328125,47393.5390625,72968.0234375,79757.8046875,72120.6953125,44687.9375,86182.765625,97908.9140625,60159.11328125,38371.07421875,87685.5625,132245.640625,47147.171875,24017.455078125,60253.6875,82714.0546875,55745.4296875,83427.5546875,67069.2421875,58144.4921875,61892.28125,83535.5703125,56938.6328125,77024.765625,69975.4453125,59794.578125,50720.5546875,46783.0078125,113493.9453125,24426.015625,84003.21875,77094.6953125,108559.2109375,72648.1484375,33821.01171875,74906.5390625,100916.09375,54695.0234375,71508.2109375,65709.3359375,65034.62890625,86989.6015625,58095.2734375,68195.6953125,32129.98046875,30719.6015625,59465.74609375,26614.966796875,69729.4296875,58278.05078125,50024.125,38173.109375,60602.03125,49660.11328125,72403.546875,37703.80078125,50964.62109375,76963.921875,44611.078125,33565.3203125,32781.20703125,71734.5234375,51716.8828125,79812.0,52550.48046875,72140.359375,97240.671875,55716.96484375,65502.6484375,56899.14453125,69040.3125,110140.9375,45219.4765625,133073.5,65289.76953125,46140.99609375,69322.125,65526.89453125,91803.546875,84445.9375,84756.828125,61153.35546875,86941.0546875,44567.43359375,56980.34765625,48822.70703125,55349.34765625,34644.19140625,67311.5703125,32020.203125,62570.39453125,86776.125,47029.98828125,91005.3671875,38334.46875,56603.84765625,60536.9921875,73340.28125,77828.7578125,31700.837890625,62230.01953125,116618.234375,53795.12890625,60158.01953125,81883.3125,45044.73046875,61281.5390625,82823.4609375,46311.0546875,31722.763671875,38840.41796875,49158.91796875,41364.43359375,90352.4140625,59584.90625,47685.3671875,18152.2734375,59248.82421875,53239.06640625,70858.7109375,91753.453125,67663.7265625,64763.57421875,27814.02734375,68135.140625,45577.05859375,27999.013671875,58653.07421875,71656.640625,115291.8828125,112040.6171875,21400.03515625,86072.7890625,33524.6484375,87002.2734375,73463.703125,30083.603515625,47522.03515625,26575.802734375,76021.546875,64973.78515625,59289.53515625,107426.875,76699.609375,70313.6796875,47470.0546875,67745.8984375,40453.19921875,52926.9453125,45236.92578125,78011.65625,37774.37109375,65407.109375,39757.27734375,70969.515625,85317.59375,76372.2890625,46584.5234375,42996.33984375,95304.859375,90500.359375,27206.177734375,36092.06640625,34023.00390625,63552.2421875,50641.421875,71628.21875,51075.9296875,85818.9609375,69602.3984375,88383.8984375,45313.078125,79862.5546875,46929.77734375,74112.03125,79681.7265625,41142.28515625,107456.8125,56896.63671875,52571.11328125,78928.34375,62115.84375,33275.66015625,59804.91015625,15872.6845703125,60370.02734375,54168.0703125,81235.9296875,50018.90625,64790.09375,53329.65234375,70779.625,28020.7734375,81789.21875,93056.015625,32353.3984375,83801.5859375,63571.1015625,62108.4765625,62259.640625,46879.79296875,51090.35546875,80978.53125,72109.515625,123639.1953125,63576.76953125,62692.1640625,43771.05859375,78294.625,64004.30078125,47579.7421875,74397.109375,51080.33984375,36321.609375,51626.15625,92586.03125,33450.390625,38854.5078125,55891.8125,43617.046875,131614.890625,84750.8359375,55281.9453125,78865.3984375,42241.7421875,88800.9765625,34750.8828125,73029.078125,78662.578125,39447.05859375,72954.0703125,95520.0078125,103763.3984375,84978.7578125,96845.46875,76031.359375,52953.99609375,27513.244140625,69776.3828125,53351.2109375,48406.34375,84453.578125,51431.08203125,36677.16796875,69011.1015625,63497.09765625,38977.703125,74595.125,103658.6796875,83638.96875,53679.125,31128.36328125,49254.1875,88704.8203125,46635.07421875,99177.8046875,35395.27734375,80609.2578125,45536.07421875,50598.7890625,77805.875,37616.765625,76241.8984375,68889.2109375,61217.02734375,83145.0546875,38125.44921875,65854.03125,77792.765625,86931.6015625,67869.0,20838.044921875,42299.94140625,91454.375,91689.0,53860.76953125,83876.5859375,38677.96484375,84202.6640625,54627.765625,33633.28125,84864.8515625,33986.0,18305.244140625,90015.296875,60750.2421875,77305.265625,95185.1484375,38414.9921875,52891.30078125,108331.734375,28950.837890625,93812.953125,40686.171875,52309.8046875,84962.46875,44203.76953125,91044.8828125,54386.30859375,60018.55078125,63210.3359375,44345.90625,38439.421875,40671.95703125,54916.91015625,125420.984375,103169.1796875,41836.703125,81763.5625,71337.2734375,49464.7890625,55726.890625,60133.66015625,65542.015625,60155.828125,39783.28515625,74456.7890625,85124.734375,62904.11328125,81029.3359375,36094.734375,37610.67578125,45355.97265625,58087.6484375,49041.03125,48297.97265625,43440.65234375,65563.8515625,82817.90625,36616.4765625,60595.53125,60282.26171875,65274.71484375,104335.84375,54459.328125,37446.6015625,61709.2265625,79435.1796875,85852.515625,58689.99609375,60324.16796875,48444.41796875,87667.4375,82410.6640625,87602.09375,83904.90625,94767.7109375,42470.87890625,85657.5078125,31041.044921875,69925.390625,59632.625,70944.8671875,30821.8125,63981.71875,36377.125,65383.11328125,24164.23828125,29229.34375,54539.6953125,48789.09765625,54461.39453125,55728.359375,81607.734375,90416.15625,70738.40625,73707.8203125,56705.47265625,94638.9140625,48454.91796875,38836.55078125,73063.7421875,87840.7734375,81120.40625,55682.39453125,68060.4921875,82926.140625,42612.3125,26810.232421875,39483.91796875,33909.5234375,62871.26953125,50963.45703125,33687.453125,49383.90625,45305.15625,56354.83203125,87042.2890625,45613.8359375,76667.1015625,45373.58984375,34918.16796875,33207.9609375,86244.875,93651.6015625,35362.2734375,78666.3515625,107586.1171875,34196.55859375,46314.96484375,26399.830078125,41506.14453125,59976.5078125,38381.02734375,72348.71875,82102.09375,40253.22265625,44705.7890625,70087.65625,48647.6328125,35109.70703125,35918.63671875,57102.2265625,79665.15625,73498.1953125,45121.07421875,33075.33203125,103958.578125,87233.9296875,115438.9921875,45984.6640625,56254.7734375,34132.87109375,56118.0859375,51064.61328125,41458.578125,64288.109375,71793.484375,37583.703125,49906.71484375,40225.67578125,97444.484375,50356.42578125,119046.4609375,55297.4296875,30368.39453125,57922.50390625,83380.2265625,115530.203125,126260.265625,90639.8046875,79175.5234375,85817.1015625,51538.6640625,49965.5234375,53101.48046875,91128.53125,30107.369140625,84666.828125,26731.52734375,51569.640625,35413.328125,27271.556640625,45349.703125,51226.70703125,62946.71484375,63585.984375,96535.6640625,27520.732421875,80957.6328125,101643.9453125,55523.27734375,67273.046875,93132.59375,90121.546875,65874.9609375,86819.921875,74200.4140625,54963.4765625,55973.2421875,49415.25390625,44051.84765625,62500.9140625,25368.587890625,120700.2109375,74081.484375,73847.75,110535.4296875,39435.9921875,24619.689453125,39901.7109375,51307.34765625,25982.0234375,82582.484375,108286.84375,36093.4453125,78850.3203125,60679.125,46093.31640625,53403.3828125,82935.4453125,50307.01953125,46389.421875,28260.484375,41464.2109375,142752.3125,48008.9140625,41401.32421875,69864.09375,23226.90234375,47690.26171875,58495.99609375,50142.21484375,89393.2734375,97167.2109375,120723.125,43320.33203125,68897.3359375,94375.6484375,38747.56640625,84968.859375,88697.1796875,44377.5703125,43455.6875,44350.8671875,60722.1875,36315.83203125,112357.7109375,35615.90625,77740.0625,61536.2109375,54900.32421875,47856.87890625,25241.630859375,28811.40234375,55185.96875,42549.57421875,85022.8984375,44819.1875,100006.921875,53777.2421875,79402.375,32259.9375,109730.640625,64816.25,81568.75,105272.0625,59139.59375,45928.609375,37826.02734375,72255.2109375,38404.59375,44479.55859375,82392.484375,56354.4765625,35936.453125,126001.25,91341.765625,78698.0859375,99484.3671875,56921.46484375,88412.7421875,73938.34375,50038.84375,43441.35546875,43138.52734375,59124.42578125,23968.310546875,67782.84375,48640.93359375,59914.04296875,46527.5390625,48672.51171875,87795.2265625,59927.43359375,86744.1953125,101175.546875,35101.05859375,45244.36328125,64137.484375,106063.2734375,53166.7890625,64382.2265625,117633.3828125,132969.625,88022.8828125,98681.2734375,56064.2109375,40043.94140625,110409.8984375,116180.9609375,41057.2109375,66033.8515625,78504.5625,31351.05859375,84096.9296875,53078.109375,63862.73828125,106781.265625,85325.578125,63843.62109375,71605.015625,50356.26171875,79107.7890625,77996.703125,63945.671875,47950.26953125,75864.09375,107294.9140625,107875.328125,86461.71875,53937.06640625,104839.78125,34878.671875,52244.91796875,29424.892578125,55942.5078125,84630.984375,84293.21875,99980.125,73195.109375,78612.640625,104318.3828125,30661.42578125,76824.1328125,76245.40625,65546.3125,76872.6875,92876.6015625,62515.67578125,62357.82421875,36870.33203125,56824.45703125,19330.921875,43348.76171875,28155.150390625,36393.11328125,84876.65625,44263.64453125,80111.390625,41598.1015625,65641.296875,42804.671875,32991.37890625,72120.4609375,61399.69140625,37468.3828125,33187.25390625,31299.35546875,66872.7109375,51309.37890625,59705.921875,90442.9453125,47984.515625,32717.271484375,49936.171875,102491.1015625,104567.2890625,88261.6640625,47438.90625,47196.1953125,36348.60546875,67835.96875,86094.2421875,59660.8671875,54618.12109375,84105.09375,60865.33203125,60468.125,102877.3515625,50170.37109375,64142.4296875,21670.818359375,70765.59375,40496.0625,53303.93359375,88181.953125,81640.6796875,42854.0078125,86888.7421875,42141.71484375,63686.68359375,48245.8984375,36082.43359375,83432.953125,49831.890625,60512.50390625,67057.4921875,27912.265625,43135.49609375,71218.5,38132.7421875,70384.2109375,64379.9140625,46990.6484375,55805.23828125,40610.17578125,98007.9375,37488.8359375,65854.890625,41609.75390625,40817.4609375,74433.1171875,47112.82421875,89170.6796875,83800.5234375,61781.5078125,74583.3984375,48076.2421875,71233.3671875,37556.7109375,72752.40625,86849.640625,90099.1484375,44615.1953125,67242.9609375,23230.912109375,40761.09375,52639.19140625,77737.203125,45824.60546875,49551.9375,56257.68359375,40575.44140625,94603.296875,67851.3125,79292.375,46879.07421875,101834.359375,97643.2109375,88985.7421875,59583.44921875,109773.703125,63050.5078125,88963.46875,82505.2734375,56210.54296875,45964.8359375,90290.9609375,79362.3203125,57115.4921875,54122.12890625,80223.96875,121751.9140625,44711.5625,83273.484375,37966.51953125,34670.4921875,79665.84375,57537.75,38047.359375,72048.8046875,75608.1953125,93180.53125,40004.3203125,39395.30078125,62394.5546875,72875.875,58036.2578125,78035.3046875,67723.625,94658.28125,58496.48046875,101958.6171875,55622.12890625,43441.81640625,80834.984375,97285.25,92993.1796875,27863.94140625,42593.30078125,114593.34375,34213.625,40155.09375,64213.9765625,36784.3203125,38715.06640625,41993.2578125,44007.76953125,69258.5,40864.79296875,31349.822265625,43083.0078125,63678.22265625,48364.79296875,96740.21875,83198.6328125,43074.953125,56414.8046875,37899.1640625,65418.8828125,44910.796875,64681.63671875,100822.2265625,57435.2109375,95487.8046875,61575.21875,110547.3515625,98603.1015625,45902.65234375,49276.22265625,30930.658203125,79633.0078125,72002.9765625,66295.53125,95990.4296875,98975.6640625,84829.9375,48443.34765625,87446.5546875,53167.84375,66069.671875,51098.24609375,79985.6796875,76120.0546875,65851.0234375,53962.984375,47293.29296875,54285.3125,80035.625,90504.671875,42482.3828125,86243.0390625,132875.421875,93141.0625,40879.05078125,81173.5703125,58504.42578125,99397.15625,46098.16796875,35310.625,75037.28125,53131.8515625,38956.28125,48209.7265625,96658.15625,56952.97265625,32799.46875,81147.0234375,86309.1484375,83686.3046875,57007.5234375,39249.1328125,32865.0078125,95240.703125,60764.33984375,39870.6015625,63549.0,73861.453125,77416.2265625,89112.9921875,50953.8046875,85876.1015625,59572.4375,28010.4296875,90484.7890625,49632.73828125,47468.04296875,35622.8828125,58283.7578125,51529.25,84426.71875,73902.234375,63264.2421875,99610.375,74406.7734375,55803.37890625,53524.42578125,32267.6328125,90593.078125,44081.28515625,69474.3203125,38392.375,64853.2578125,38624.3203125,51933.6015625,52659.83984375,89556.1328125,71328.890625,99779.421875,35931.22265625,100042.4921875,35592.67578125,105506.546875,49418.1796875,41086.203125,27072.27734375,101894.0390625,43663.9765625,51298.08203125,51604.3984375,40191.5625,48027.078125,41165.73828125,94170.640625,82918.6484375,55649.67578125,46617.82421875,60837.5,90242.640625,74651.734375,27767.56640625,59673.05078125,65643.5625,61995.11328125,75005.9765625,47571.109375,67651.1484375,82718.7578125,44453.83984375,69902.2890625,66071.640625,53397.26171875,89208.875,55000.8671875,38725.1015625,56388.01171875,28704.001953125,44670.828125,27675.134765625,59335.9921875,81212.0703125,85107.9140625,60313.1015625,60550.36328125,25427.5703125,41185.6015625,28556.205078125,56734.8671875,35853.265625,47717.76171875,76332.671875,80182.5625,26680.958984375,33664.1796875,67171.3984375,64602.76171875,59306.671875,29918.525390625,82242.3515625,42207.8203125,37740.07421875,30117.76171875,82263.078125,76862.265625,70597.703125,87347.8359375,35329.2265625,80445.8203125,59371.70703125,22349.470703125,108530.5390625,57897.27734375,38767.953125,70214.8828125,37638.61328125,50490.703125,46587.84765625,81860.3203125,37018.31640625,23668.4453125,41830.65234375,76373.7734375,54365.83984375,68620.9375,70718.0703125,59635.5078125,83686.8125,70380.6328125,53456.12890625,47843.83203125,24151.470703125,64152.7578125,100407.3515625,50136.34375,110110.4921875,86679.0625,28395.380859375,34979.16015625,50977.8359375,78874.1484375,55555.640625,62031.6015625,86723.9296875,94050.75,29234.263671875,46915.53515625,49128.1015625,52600.17578125,100967.9765625,72390.25,56349.44140625,42030.703125,80687.109375,42260.43359375,55620.69140625,53596.625,75374.6953125,62754.02734375,73808.4296875,105017.4765625,64658.48828125,59024.609375,58708.94140625,45478.1171875,63251.59375,57332.63671875,50703.09765625,37274.8125,65247.0390625,25073.513671875,32347.05078125,78780.609375,83124.7109375,51103.80859375,36856.19921875,30941.041015625,86424.234375,48170.8984375,42096.05078125,85435.1875,26547.544921875,106292.4296875,37241.8046875,50583.94921875,62314.6640625,53862.73046875,81269.875,72274.6015625,43584.59765625,33576.21484375,67104.09375,26111.828125,92082.9453125,72387.53125,67089.3828125,66271.0625,50119.05859375,67263.6875,65865.6484375,38052.68359375,95438.328125,23119.6875,35669.6796875,48451.8359375,20658.919921875,81335.734375,50988.5546875,61819.14453125,114284.7890625,42785.84765625,55104.3984375,34659.28515625,34860.86328125,83327.2265625,64780.9296875,63931.66796875,67698.671875,38042.21875,80799.5625,78901.921875,88470.96875,65117.72265625,88020.78125,57976.43359375,33019.27734375,44358.26171875,41856.86328125,41249.82421875,38318.32421875,104743.8515625,77121.828125,32497.97265625,32949.43359375,33198.80859375,59967.625,59218.99609375,38888.8046875,64724.6171875,39724.59765625,42435.19140625,54684.25,69128.1484375,33396.80859375,90394.2578125,50314.48046875,71243.546875,109408.21875,89571.921875,68702.515625,97336.84375,65141.81640625,24519.259765625,76421.78125,39458.546875,33666.171875,77134.25,68739.78125,30111.267578125,79116.609375,72773.1484375,58496.12109375,53582.73046875,48285.76171875,89794.3359375,34782.59375,80701.4296875,83115.421875,35475.1640625,54430.265625,53345.8125,46583.0078125,63109.28125,65245.890625,80989.03125,57101.1875,70966.9609375,84360.375,55378.53125,50216.828125,79955.1953125,50761.296875,65371.66015625,106799.9453125,65326.12109375,89247.296875,54164.84765625,49778.171875,65954.8359375,28211.81640625,48981.890625,70792.4296875,94940.15625,50455.0078125,99667.0703125,94577.703125,104865.2421875,62218.92578125,68769.2265625,48385.50390625,99462.9140625,69423.90625,84893.0546875,55933.55859375,108908.890625,64033.0234375,50097.22265625,36108.07421875,49409.05078125,88936.2890625,53931.94921875,57439.640625,77147.5,71525.921875,59158.25390625,65325.09765625,80280.515625,75510.09375,73201.8671875,58396.45703125,46440.47265625,101215.109375,105883.84375,57775.8046875,32390.236328125,38935.796875,29280.490234375,54764.83984375,27436.4765625,57385.671875,63376.48046875,98123.109375,97644.1796875,78489.015625,53050.140625,82786.09375,54700.015625,103873.421875,56104.45703125,46469.98046875,63225.58203125,79792.03125,57894.96484375,131960.28125,64281.46484375,69264.5546875,52887.30859375,101459.5,95113.765625,26958.6875,52958.5546875,20982.12109375,35497.61328125,76949.15625,83702.6328125,51833.0625,59945.30859375,71376.3203125,78380.6171875,87325.1953125,49734.01171875,41173.375,37765.28515625,96129.90625,52368.7578125,65113.28515625,88911.03125,25550.79296875,70049.3125,41714.29296875,96443.71875,106896.484375,58417.4453125,33424.12109375,90989.0703125,82014.6328125,49661.0,65718.2734375,29414.455078125,82183.5859375,75016.515625,97812.5234375,69430.34375,36558.10546875,74279.1953125,55913.76171875,46707.7734375,84412.2109375,45161.01171875,31364.8515625,73186.125,26683.765625,40129.44140625,47448.5546875,98592.4921875,95275.0390625,65869.953125,95078.5234375,68659.7734375,66964.5625,62185.3359375,79352.5625,84651.0859375,63711.2734375,42754.33984375,65785.90625,95244.7890625,37128.359375,61152.04296875,142518.90625,39615.8671875,39614.7109375,64057.81640625,105859.828125,30518.22265625,86047.765625,70459.1875,42560.5703125,57131.7109375,57857.34765625,46700.51171875,49928.4140625,65519.7265625,51596.1171875,73098.640625,61943.265625,47156.42578125,102789.15625,74594.34375,100112.109375,79863.0625,57607.4609375,56840.90625,36571.99609375,84719.0,65487.5234375,96233.4609375,58516.64453125,74608.28125,104209.484375,93614.7109375,78023.7578125,26615.978515625,85942.6875,36671.41796875,87377.7265625,51911.203125,40612.15234375,76833.6171875,88489.703125,39003.16796875,50302.77734375,60695.59765625,23038.6796875,52327.2421875,29630.64453125,39368.625,41433.15625,30973.56640625,75781.84375,48169.59375,108149.4609375,57746.94921875,30804.943359375,57787.11328125,86372.9765625,56412.15625,62016.03515625,63524.109375,20973.734375,36301.359375,72277.4140625,48965.625,98882.0,85936.6796875,37923.75,94192.9921875,45484.140625,80192.5078125,52780.72265625,39297.5078125,37586.5390625,37070.48046875,78311.203125,72393.9921875,32639.966796875,90824.5,58275.03125,73020.6484375,42683.55859375,73714.484375,51552.91796875,78871.390625,47455.93359375,55824.07421875,68364.8125,34774.2265625,85072.703125,132328.46875,34537.234375,69503.265625,73470.203125,36900.70703125,106962.625,42977.1171875,47835.9296875,56367.84375,88419.4375,76120.09375,84473.59375,28814.173828125,61536.828125,40763.26953125,41111.4140625,82753.28125,54475.99609375,70455.0234375,69737.890625,27703.103515625,92645.875,1184.275146484375,78110.171875,61761.2734375,60857.4453125,69923.8046875,77498.4765625,22574.390625,53941.5078125,64500.203125,75380.03125,59798.25390625,64029.76171875,64980.3359375,43674.25,88680.0390625,60629.29296875,63460.203125,46827.125,83196.328125,86696.1875,92110.765625,47485.8671875,33023.62109375,67318.4609375,95162.03125,11361.18359375,55249.58984375,71297.3828125,889.2792358398438,49246.18359375,66165.5234375,57449.17578125,50981.52734375,26947.40234375,56254.21875,46365.9140625,65644.0546875,76868.265625,54640.68359375,33314.83984375,87442.40625,53690.19140625,35732.953125,102410.2890625,46511.640625,54737.40625,71065.5390625,46031.00390625,51709.55859375,57918.73046875,76895.484375,47023.15234375,41270.52734375,80328.1796875,35745.23046875,82281.203125,32694.001953125,30762.16796875,39827.55859375,95702.5546875,45950.83984375,46092.3046875,42917.53125,46311.80078125,63853.70703125,57445.015625,81782.140625,44590.92578125,31936.8671875,61216.1328125,34782.30078125,86365.421875,107127.484375,80008.171875,53989.64453125,88827.5234375,37608.3984375,5137.02099609375,56421.4375,20573.017578125,31910.015625,102232.859375,87695.234375,51319.796875,52568.34375,37426.89453125,55511.80078125,67046.3828125,64558.171875,122352.484375,57620.953125,80302.2421875,43415.375,81861.6171875,52083.4140625,40584.03515625,39000.5546875,83374.8203125,72570.21875,52178.1953125,35213.3046875,52081.82421875,28966.904296875,50379.1328125,119016.34375,79679.2421875,63818.25,81830.390625,50644.078125,65455.52734375,45581.37890625,69456.765625,50682.734375,84343.03125,46048.71875,19703.55078125,79722.59375,63714.8046875,85478.125,34526.375,53686.7890625,63533.24609375,82693.5625,104724.7890625,51861.68359375,83111.3125,65309.8203125,81280.984375,60627.44921875,47139.1796875,80815.0078125,54129.6796875,48795.69140625,48042.7890625,57002.0,58811.4765625,65560.1484375,42781.33984375,24732.6796875,74397.234375,31843.529296875,78137.9921875,61872.1953125,89126.671875,52148.15234375,93385.0390625,29311.671875,88833.90625,54694.4609375,88726.96875,46778.49609375,79027.171875,65904.4921875,40276.65234375,55636.83203125,68412.0859375,84474.21875,86908.1875,113810.6953125,99522.734375,69746.234375,93158.0,56650.95703125,86970.0625,79229.96875,48742.05859375,61500.9140625,56315.75,53140.0078125,31014.845703125,87694.078125,81318.3203125,21325.033203125,83391.1953125,74242.3046875,54343.046875,86448.546875,59541.7890625,53214.7421875,76506.578125,32400.40234375,32783.94140625,91222.359375,77482.484375,44098.31640625,125049.4609375,69719.40625,108316.3203125,48375.07421875,74464.9453125,83610.0625,53530.8203125,24432.91015625,33255.359375,86779.421875,122708.5078125,38178.51171875,42970.14453125,37276.20703125,103447.1875,87689.9921875,43913.36328125,67179.3203125,40863.52734375,86549.40625,105686.1796875,61828.03515625,52882.3203125,75890.5078125,55916.06640625,29665.9453125,86307.484375,60119.8125,46902.46484375,77527.953125,56442.73046875,72462.3125,28193.25390625,113139.03125,94356.3828125,51232.421875,63520.44921875,69103.140625,86550.1171875,50732.36328125,79487.171875,76139.7890625,42346.79296875,87736.21875,59038.30859375,57860.99609375,79357.765625,54477.48828125,45788.05078125,65519.2265625,112186.2734375,47327.6796875,38350.84765625,36799.6328125,75242.25,70444.5703125,46250.05078125,25802.234375,56177.8125,65897.984375,54170.80859375,88611.890625,63491.71875,109071.796875,35042.0390625,90261.0546875,115201.5625,55949.1015625,67566.1484375,47996.18359375,52504.28125,71804.4140625,51322.20703125,57618.2421875,87367.0,62662.734375,78490.71875,30154.431640625,37349.88671875,56862.57421875,72960.796875,64192.28125,61776.375,40747.0390625,85951.953125,73736.265625,102925.8359375,45897.5625,55616.6796875,89976.78125,64449.140625,52583.88671875,46451.109375,44941.875,88208.8828125,58700.9296875,39258.1640625,43408.5625,52278.078125,82823.7421875,91044.265625,112668.2734375,101338.2734375,46909.64453125,81944.3046875,44347.8828125,80941.109375,57007.5234375,70234.390625,46870.31640625,42482.796875,69006.703125,100792.9609375,58322.57421875,99392.078125,42659.046875,94356.875,67822.734375,42757.91015625,51097.578125,71392.3359375,56317.87109375,50715.70703125,73743.328125,74793.1171875,38200.81640625,54755.32421875,86892.4921875,27041.828125,105012.5390625,44599.875,56719.984375,67041.546875,93177.390625,51929.30859375,53231.71875,71449.09375,55054.2265625,38000.61328125,118626.390625,47266.1171875,99617.5859375,54933.0390625,65718.78125,21130.693359375,45138.5625,66562.1171875,39823.6875,59002.7734375,53807.9453125,54126.55078125,16880.208984375,53249.671875,88385.734375,65969.1796875,71687.3828125,22392.455078125,56188.19140625,70466.4375,91219.5,61609.6875,83587.1875,57530.01171875,51150.1484375,83223.2578125,77532.3515625,36298.37109375,66446.9921875,89169.25,51585.10546875,48504.625,90765.21875,99413.296875,82900.375,57615.66796875,54646.51953125,53600.203125,27284.859375,79304.515625,43243.27734375,57765.16015625,43497.34375,59760.15234375,102837.375,90211.3203125,51896.60546875,67380.5,55190.84375,31872.294921875,49487.05078125,63620.890625,48207.3671875,84360.28125,97482.0625,57420.0,69865.4453125,48736.87109375,57045.2421875,32004.248046875,73090.8125,58530.20703125,84987.3046875,101953.8359375,80688.15625,40432.953125,92606.5703125,46540.93359375,43219.9453125,35958.4375,51631.48046875,41960.2890625,53397.015625,76652.7734375,59474.5390625,87444.140625,64605.58984375,67469.1796875,33479.87109375,50258.0390625,72587.6328125,46954.16796875,70146.078125,43101.44921875,47893.49609375,36222.41796875,89026.4765625,35484.69140625,56816.3828125,35167.7890625,49946.7578125,47455.3125,104141.703125,59165.05078125,73882.0078125,39683.80078125,71444.8359375,29345.994140625,65476.69921875,68753.984375,37408.921875,68816.046875,39860.08203125,68486.21875,19614.646484375,67864.53125,46800.15234375,67192.8203125,46444.6953125,67218.9609375,34072.46484375,71764.6328125,6563.28125,41484.0078125,123828.546875,69027.15625,86793.6328125,62636.75390625,74420.125,41133.87109375,67597.0234375,114912.5390625,140521.640625,73980.296875,80287.4140625,94401.4140625,37212.46484375,81906.4296875,53941.30078125,33938.53125,29060.755859375,38797.09375,39486.70703125,20159.666015625,53648.57421875,47552.5390625,70093.734375,50302.6875,48839.359375,71770.296875,55008.7890625,92638.3046875,42104.75,50449.37890625,50282.4921875,64587.40234375,57725.2578125,91856.3515625,77229.125,73820.671875,84265.390625,54507.53125,79382.4140625,53173.09765625,43144.53515625,89148.84375,75153.515625,46211.3671875,54675.453125,100642.3515625,55414.71484375,66202.6875,65470.15234375,50763.8671875,45724.23046875,68737.921875,44369.24609375,41190.55078125,83066.2890625,73381.578125,96465.875,43233.375,77667.625,49559.8515625,44788.13671875,80007.53125,52348.2109375,40070.20703125,63374.75,66944.9375,70716.4296875,92850.46875,86986.75,47159.88671875,81367.140625,32573.89453125,51661.4765625,55272.30859375,78370.3046875,82796.03125,53240.87109375,34841.01171875,103439.0,56224.234375,42259.88671875,49464.78125,35595.859375,93536.4453125,87883.1953125,51629.5859375,86174.53125,36743.38671875,72683.890625,49898.921875,31905.388671875,92772.359375,66445.6328125,47791.84375,30896.078125,101927.6796875,50006.80859375,76191.421875,114601.03125,54298.83203125,71796.2421875,50516.48828125,30414.1640625,43663.05078125,48876.38671875,54009.10546875,78645.0859375,38647.26953125,91723.9296875,77095.0625,98346.4375,36833.8671875,100499.1484375,63584.26171875,79680.8984375,43509.80859375,38216.2734375,92102.671875,103953.0078125,60610.515625,44276.3046875,76234.0625,47968.6171875,63696.3671875,52311.6015625,34009.9140625,69192.0234375,38948.40625,49588.0703125,52563.30078125,55994.76953125,72835.9921875,66086.5078125,60243.21875,63331.15625,62388.6484375,32753.87109375,47042.08203125,70889.6875,37812.59765625,47687.3203125,94285.4921875,46631.33984375,102531.640625,54436.6875,59186.5078125,42129.7578125,89586.640625,88386.4296875,37876.63671875,41618.08203125,58895.84765625,73881.875,87092.84375,76533.6015625,36226.98828125,105961.7890625,90026.703125,61526.05859375,30871.607421875,34773.75390625,76113.609375,55992.1875,57179.26171875,32071.423828125,35925.01953125,55745.08984375,25161.998046875,40429.6015625,83219.953125,82322.6640625,36660.6953125,46440.47265625,28815.654296875,60162.68359375,66726.359375,50127.3359375,34970.41015625,67530.6796875,36560.28515625,76451.4921875,98529.78125,46281.44921875,79692.515625,60734.4921875,78786.9296875,41426.97265625,50152.6953125,56340.2421875,37805.26171875,31420.32421875,40184.6875,60970.328125,111047.65625,78601.1953125,51836.875,87890.5078125,68895.75,49834.0625,50325.78125,64346.07421875,53298.7265625,86975.3125,44299.34765625,37340.31640625,82195.0,58696.33203125,42869.203125,29342.78125,32075.61328125,44523.25390625,79300.46875,37518.9140625,64488.62890625,80903.0546875,51393.90234375,45072.890625,40546.57421875,80573.4921875,64778.51171875,26948.0625,59815.1796875,51044.0078125,67928.9375,68167.1796875,93451.2734375,40185.4375,74777.609375,46317.9453125,49926.30078125,37138.37109375,70762.0390625,88886.7890625,54472.7265625,36417.24609375,84482.3984375,61321.93359375,62430.58984375,51605.41796875,68742.2265625,61422.265625,73461.8359375,50272.6328125,53452.78515625,87202.4296875,124173.96875,10701.9453125,71205.6875,51181.34375,34281.16015625,61216.640625,34172.140625,40613.7734375,58258.65625,46906.421875,118296.5703125,81225.6875,62441.94140625,51836.36328125,19524.955078125,94843.2109375,19300.642578125,106271.234375,38578.71484375,43164.0625,65232.78515625,83179.7421875,82265.9140625,46837.32421875,77974.515625,48495.84765625,65834.4375,48645.76171875,57503.69140625,58920.11328125,31183.181640625,30550.013671875,20830.55078125,74612.578125,84199.5390625,51954.1484375,81989.3828125,62887.81640625,38557.33203125,39937.48828125,52544.88671875,40075.42578125,109073.0078125,31043.193359375,87987.2421875,48102.52734375,58496.25,30680.7265625,59405.8671875,85013.9921875,77654.3125,93262.0234375,56371.546875,102331.8046875,49477.2421875,54932.11328125,73886.0703125,53213.7109375,63684.515625,51744.9921875,44398.82421875,65994.7421875,80365.1875,56050.66796875,37877.09765625,28855.3515625,39781.4296875,27821.44140625,77066.8671875,52483.6015625,58911.5,39654.22265625,59952.43359375,42829.51953125,43972.95703125,67233.2734375,43589.12890625,102566.78125,38965.875,97064.3125,82255.1328125,36307.7734375,43400.6328125,107986.6484375,90183.4375,63679.09765625,48414.41796875,23833.7109375,103616.4140625,52162.60546875,50106.68359375,86233.21875,50675.1015625,81038.890625,42067.703125,35181.08203125,45839.78515625,89872.1875,80592.3125,50107.08203125,34362.19921875,53975.54296875,57620.75,55560.390625,64055.671875,62864.73828125,28568.96484375,87791.28125,67668.6796875,109863.6484375,88520.703125,55899.76171875,51617.8046875,44404.64453125,66163.9140625,81428.9921875,74856.859375,55117.2265625,51640.609375,40487.25,87994.796875,33565.40625,62953.37109375,82689.6328125,59402.85546875,79645.1171875,25996.908203125,65284.52734375,103205.6640625,49032.6953125,50901.7109375,80070.140625,49019.2890625,27786.57421875,43429.92578125,73378.515625,60757.7734375,61102.0703125,66035.40625,100850.8515625,49173.65625,47534.30859375,55075.79296875,44720.96875,43703.5390625,19432.70703125,44333.68359375,46013.453125,36918.93359375,86132.890625,21652.974609375,67127.0546875,65816.0625,115640.7578125,50071.3359375,74152.65625,41457.875,50214.08203125,30759.7734375,91896.2109375,65086.07421875,87426.328125,71037.59375,51897.4296875,79664.71875,91653.5859375,102615.0859375,49917.05859375,96400.5078125,94492.4453125,51479.16015625,127831.296875,102964.34375,89004.5234375,85707.484375,100301.96875,31562.7109375,17187.791015625,60322.55859375,40307.20703125,68497.828125,67526.8828125,90159.375,51829.75,52518.55078125,47848.578125,44633.72265625,106784.28125,37385.9921875,68719.546875,36103.48046875,98632.34375,43290.1796875,50839.3359375,35339.73828125,108609.890625,51787.7421875,29552.4296875,27259.6484375,76380.421875,43490.78515625,77137.1875,88838.8125,44835.2265625,50600.984375,39462.0234375,79902.125,52667.8828125,58757.0078125,44759.734375,46612.90625,46142.6171875,95647.015625,23402.623046875,88821.7734375,40586.76953125,89875.6328125,58494.734375,42902.54296875,27745.12890625,65377.88671875,80822.78125,67497.0703125,63304.55859375,53884.52734375,80905.9921875,49506.46875,48495.12109375,97686.34375,40854.140625,23254.6953125,71067.421875,87889.6171875,40332.41015625,108030.09375,80847.5859375,37475.48828125,64134.09765625,89870.6328125,56113.6484375,33203.109375,64129.6015625,71570.671875,48130.01953125,67060.734375,95873.171875,58101.7109375,38872.8984375,64821.3515625,103559.5078125,49861.82421875,36447.95703125,49860.578125,32293.728515625,48558.08203125,27659.603515625,85363.390625,53007.2890625,36025.7734375,104326.46875,89779.984375,46706.59765625,42646.13671875,82753.8359375,51351.21875,76442.6796875,101371.1796875,61963.3671875,34011.04296875,47150.55078125,65878.796875,32848.1796875,19256.189453125,79328.6640625,44241.79296875,48381.6796875,65165.0234375,61431.02734375,92472.9609375,49266.8515625,46977.6015625,42087.1796875,52652.8359375,83703.0859375,84807.3828125,56171.69140625,51091.70703125,70282.578125,44659.14453125,62146.453125,52777.59375,58066.1328125,97155.59375,44373.14453125,34039.52734375,61999.59765625,75451.515625,50036.77734375,88370.515625,58051.40625,46007.10546875,32627.095703125,72112.34375,67549.8359375,83447.1796875,89444.03125,59780.76171875,101267.453125,67989.6015625,45523.25,109401.3984375,76286.4296875,52667.05859375,58994.84375,112943.3046875,88912.9296875,62892.109375,64178.46875,48244.1796875,75094.5390625,43045.9921875,45940.73828125,78838.3671875,48036.921875,96925.15625,30203.53125,70753.6328125,37476.68359375,92163.3125,31278.853515625,40512.078125,34125.66796875,66947.78125,40138.5859375,59390.87109375,53951.6640625,73552.7578125,84166.3828125,59890.62890625,42210.5390625,36196.4765625,59897.3515625,76001.28125,31296.669921875,60199.625,55901.63671875,58134.4453125,93721.421875,109625.28125,121091.5625,30979.1328125,49451.34375,40755.19140625,83721.6796875,51760.7734375,70440.578125,66602.78125,47577.42578125,52507.69140625,30344.765625,57366.5703125,67403.1484375,43467.46484375,87059.328125,83256.2265625,78017.671875,49700.7578125,63393.0546875,46435.89453125,50256.3125,51325.74609375,43818.65234375,35538.734375,37092.53515625,82347.0546875,87929.9453125,68229.1015625,40631.6953125,83971.84375,60325.50390625,23520.564453125,120970.171875,38729.02734375,99982.6328125,53969.71484375,86710.0625,86639.8671875,38553.58984375,49428.4140625,27319.1875,65946.2109375,31590.125,104806.59375,75121.0703125,106511.375,83247.8828125,63198.95703125,62796.82421875,46999.45703125,59512.37109375,80569.0703125,89818.8203125,56337.58984375,79040.5390625,83747.421875,39649.609375,38408.0546875,44477.40234375,36640.23828125,74576.8046875,74650.828125,49677.05078125,21550.38671875,75307.8984375,42140.09375,77800.734375,66824.5,54572.86328125,92332.7109375,28008.921875,94108.84375,72161.90625,45996.78125,43424.44921875,113365.4296875,70406.7109375,43580.13671875,74811.8671875,53060.25390625,52905.81640625,94442.4453125,62839.14453125,36820.89453125,67426.0546875,58046.15234375,50624.2734375,110687.765625,34626.625,76242.953125,37296.69140625,49485.33984375,80803.96875,58858.8828125,59120.234375,69829.0703125,61863.99609375,24586.61328125,55475.2578125,60946.28515625,103576.3515625,111207.6015625,31676.748046875,81894.4140625,31793.720703125,44613.9375,67368.0703125,83278.1640625,80898.40625,73645.2890625,78204.4921875,86388.484375,95767.6328125,35003.9140625,56795.49609375,73984.3515625,79859.1484375,38328.05078125,89876.8203125,60681.23046875,84745.5078125,64084.05078125,54969.94140625,70302.5234375,29922.255859375,93488.625,69947.359375,47108.89453125,51121.51953125,39139.75390625,70070.0546875,27576.62109375,128254.2578125,32039.416015625,84894.59375,77769.84375,79804.328125,66047.96875,44514.7421875,57918.6171875,67587.75,66068.46875,59977.40234375,74519.625,32039.1015625,52707.89453125,85448.953125,76970.8359375,87988.4921875,59639.1796875,31026.9765625,70309.75,89288.65625,31041.044921875,86809.1953125,90866.7109375,8358.515625,71624.7890625,36687.828125,40791.15625,40931.39453125,2355.5556640625,58571.1484375,36163.07421875,44453.6875,51800.18359375,42636.66015625,47683.953125,27334.52734375,105952.84375,42057.5546875,49839.43359375,85652.7109375,56761.578125,62728.30859375,40588.75390625,63138.5625,62842.15234375,70570.6484375,40104.63671875,55398.7578125,51728.890625,56368.546875,52172.9296875,98804.375,50605.62890625,48034.16796875,53093.734375,53626.109375,92479.890625,63394.01171875,52529.44921875,72208.0078125,88538.75,31795.966796875,73126.625,86996.0546875,108466.453125,98542.09375,59134.1171875,110247.8515625,31384.333984375,73261.078125,44704.4375,32517.205078125,46606.35546875,47782.6015625,88247.1484375,83467.4765625,37011.59765625,84246.734375,46303.94921875,77209.921875,73589.1015625,40401.05078125,61825.69140625,82150.828125,77543.2421875,55450.66796875,92111.1171875,36578.0078125,72698.6171875,36280.828125,23842.607421875,77157.8515625,123418.2265625,50793.6328125,102500.4765625,53825.83984375,77286.3984375,74873.7109375,80532.171875,45244.12890625,73747.6796875,143982.25,61540.4140625,33098.57421875,48403.9453125,87001.171875,49757.6015625,76255.9921875,93263.234375,84368.234375,22058.982421875,75662.4765625,52525.8671875,89148.5390625,38117.2890625,54939.78125,87613.3671875,48265.0703125,69072.0703125,37933.390625,76238.5859375,63133.56640625,35212.93359375,68006.7265625,33356.57421875,37950.7578125,64899.31640625,64260.7578125,53195.09765625,76380.2109375,59368.6328125,39808.15625,33450.32421875,72344.5546875,52962.53515625,35111.546875,73567.1328125,103799.953125,68022.7734375,47398.6875,83525.4453125,24041.986328125,36524.9375,67600.984375,77325.84375,29178.921875,36267.14453125,79326.6640625,67553.9609375,69507.78125,49635.9296875,55024.40625,65699.5625,78924.1328125,74736.5,87049.2421875,50346.578125,78181.546875,58361.70703125,99378.9609375,37459.95703125,39540.7265625,62517.23828125,92577.28125,86639.546875,53064.359375,60236.80078125,47467.30859375,39655.27734375,67514.90625,39659.3984375,69205.109375,43982.62109375,107481.6875,51996.84765625,77853.8046875,40481.515625,36676.90625,29558.212890625,40422.61328125,70905.1953125,60026.828125,73185.7109375,53223.96484375,18889.9140625,72715.8046875,98491.0,59499.7421875,57950.734375,60500.55859375,95069.8671875,22671.29296875,44152.5234375,36611.44140625,67727.8671875,56560.3359375,31666.583984375,95292.8515625,32666.90625,37879.2890625,83336.8359375,39763.984375,94946.8046875,75739.0390625,75168.9765625,55596.58984375,72266.1875,42070.19140625,68023.0078125,71513.625,73897.8125,49830.32421875,59150.046875,45725.4375,52292.9453125,37293.1953125,39450.08984375,88959.5234375,68343.3203125,104523.6875,79839.234375,76647.390625,58589.2109375,51117.1953125,70086.4453125,58900.37890625,65315.046875,93305.5703125,53069.5703125,82621.0390625,54295.94921875,47240.8203125,55454.69921875,68509.890625,46250.40234375,122126.1328125,41858.87890625,48799.8203125,36908.2109375,50793.88671875,79031.7734375,33549.625,73113.84375,89052.7578125,29899.04296875,82233.9921875,42908.20703125,40244.5703125,83758.375,106799.8125,44663.7578125,88273.796875,53289.703125,60341.21484375,59139.12890625,57617.2421875,53306.98046875,52667.55859375,37367.34765625,43764.36328125,77223.625,73244.5390625,83662.9921875,73542.203125,59012.984375,41621.5703125,42432.046875,49765.80859375,31024.1328125,52035.609375,66060.5,33117.8203125,78347.9921875,94384.40625,74914.890625,63470.74609375,46003.59765625,87895.703125,58572.66015625,60851.31640625,69979.9296875,58206.48828125,98980.15625,64264.25,94042.09375,45744.0234375,66047.2109375,69122.3125,67817.46875,50199.95703125,55623.42578125,38223.19140625,93270.8125,39259.67578125,75692.6796875,61774.703125,57488.87109375,42061.6484375,133781.3125,82254.4140625,100283.7109375,53388.3125,57141.2578125,86442.0390625,52877.98046875,102508.828125,80590.9765625,48930.6640625,65006.20703125,54424.73046875,102960.265625,38555.1171875,82030.7734375,37422.76171875,82124.78125,82004.25,77512.890625,95047.828125,44614.41015625,75677.125,43201.3046875,71558.78125,82087.4375,88842.3203125,101337.4609375,31698.12890625,60069.18359375,55030.421875,41574.91796875,67983.21875,42021.90234375,52279.59765625,32915.828125,68696.0859375,67495.859375,74782.890625,78513.7734375,82873.265625,88198.5234375,75990.609375,40428.0234375,58497.0546875,50158.37109375,53015.4765625,70603.546875,79984.8984375,87576.0546875,58720.58203125,47371.1953125,50322.90625,66745.390625,26128.95703125,22163.546875,76309.7421875,35775.33203125,135136.1875,65176.6953125,45451.953125,88625.59375,61767.6796875,54302.8515625,57520.32421875,42129.1328125,49998.0078125,65306.2578125,71750.96875,33132.34375,41164.59375,25631.58203125,104683.1796875,58065.97265625,61012.38671875,28251.763671875,68780.109375,45292.83984375,90951.921875,61099.12109375,56739.86328125,62124.9609375,39873.4453125,92126.9765625,115892.84375,96173.90625,82870.5859375,69890.234375,76308.546875,55197.703125,48637.33203125,88537.7109375,42633.77734375,90164.578125,43482.6953125,106605.3671875,102492.2265625,66931.3359375,85317.71875,60051.56640625,99937.953125,31108.087890625,47693.015625,76214.3515625,53395.76171875,34244.08203125,19823.599609375,79930.4453125,100548.4375,120250.953125,82780.1796875,96716.34375,68470.9453125,3706.6337890625,69395.03125,64836.8203125,74535.375,53565.0703125,45453.7421875,29285.083984375,57016.4921875,24525.17578125,51838.91015625,99787.7578125,40777.828125,64693.421875,40474.68359375,38558.5859375,23733.830078125,65358.55078125,89080.8125,77841.5,104938.3828125,84561.7734375,82742.1953125,36424.859375,102244.4765625,98116.6953125,55261.87109375,62452.7265625,59333.60546875,38981.03515625,32977.578125,50830.03125,51181.703125,32351.255859375,35989.62890625,84183.890625,31969.2109375,93905.109375,147327.84375,47932.76953125,77120.796875,29349.9453125,66054.1328125,71510.59375,36626.61328125,47507.43359375,67910.6171875,53333.13671875,57709.16015625,47251.05859375,66942.0859375,49745.9453125,89560.734375,43146.26171875,39199.51953125,60269.4921875,62057.109375,30382.119140625,35694.41796875,42795.7578125,99804.8984375,63497.6796875,38426.67578125,75274.9453125,106917.8515625,54076.41796875,33723.28125,40140.78125,54983.30859375,43513.03125,107364.21875,80891.8203125,49179.671875,103978.2109375,36333.31640625,33478.3046875,64254.72265625,42182.6875,75767.3359375,53127.1875,36681.3203125,75560.46875,32198.53515625,73272.828125,53815.1875,86634.578125,48350.2109375,75083.9140625,87981.5390625,88775.53125,44943.90234375,80448.0078125,98278.2109375,50200.765625,77481.703125,66568.296875,79491.6171875,69403.6796875,41633.1953125,84172.7109375,31096.515625,54001.9375,67492.0703125,40847.390625,60966.6328125,61521.1875,121884.9375,99615.1640625,88421.90625,87650.3046875,79591.625,62104.45703125,50048.4765625,45137.828125,75765.9453125,90061.1796875,89680.953125,64136.62109375,54819.4609375,85509.4140625,71876.625,59650.79296875,47924.65234375,37832.38671875,47393.0390625,50866.49609375,20321.9296875,35778.83984375,90115.5078125,101912.15625,53433.77734375,42486.57421875,42248.109375,88966.984375,65244.73828125,48247.375,23501.578125,60682.40234375,27169.89453125,51936.17578125,104333.4765625,47711.9765625,90195.34375,28843.193359375,21795.58984375,81656.1796875,58399.57421875,83295.6640625,37304.890625,67549.5546875,83468.78125,30995.33984375,73676.359375,78119.5234375,70762.578125,66392.7890625,90197.0703125,95770.453125,70434.3984375,64883.78125,83056.125,34888.03515625,29295.96484375,48936.52734375,78176.015625,85951.6015625,37703.76171875,138898.421875,21786.63671875,30630.30859375,56216.9140625,46975.84375,81028.5390625,95449.53125,63225.1640625,68429.1796875,98720.7421875,97403.0859375,79717.28125,65109.578125,76864.703125,28697.4765625,57004.32421875,77645.5546875,58213.92578125,106238.2890625,105957.640625,79416.2578125,85397.0546875,38300.33203125,37355.546875,84777.453125,42221.0546875,68080.09375,37823.5234375,68158.015625,98252.3828125,84721.546875,23877.455078125,101705.484375,81616.9609375,53952.015625,51058.8203125,67885.40625,62307.37890625,49046.28125,54666.35546875,64744.8984375,63369.70703125,85955.125,113659.140625,23595.580078125,78755.21875,65026.03515625,54382.12109375,51341.109375,31858.10546875,33968.15234375,50955.7890625,71272.6875,57523.15234375,74269.2421875,29589.103515625,98174.0859375,66831.5,46783.0078125,45530.7265625,28996.583984375,118067.859375,79521.4453125,63917.41015625,77794.8359375,86311.9765625,43304.74609375,65876.34375,94199.3828125,87598.5859375,76098.140625,33154.10546875,28665.6015625,81953.671875,61215.2890625,78731.4296875,32487.609375,79038.1015625,71845.65625,78301.234375,60107.66796875,47884.28515625,76791.15625,34965.4296875,77669.453125,42657.84375,98395.09375,71632.0,50837.2421875,84562.40625,32898.31640625,77983.84375,48091.13671875,49735.55859375,47403.9375,56974.6640625,83337.75,78009.828125,44330.65625,124120.484375,92371.4453125,113560.3515625,65916.3203125,102437.6015625,80867.2578125,52451.70703125,29443.544921875,73248.7109375,30527.63671875,41537.72265625,76580.8046875,53750.88671875,96382.1171875,58405.48828125,78767.96875,96556.4765625,57266.07421875,47525.73828125,84693.6015625,101011.65625,40521.46484375,49866.18359375,54962.9609375,48890.45703125,49276.38671875,31619.671875,124587.890625,64086.04296875,38931.56640625,20241.4609375,55585.1484375,71528.28125,41459.52734375,119842.296875,26574.087890625,92606.609375,32496.03515625,86025.5234375,73874.71875,110263.3203125,69191.3984375,63807.140625,22392.662109375,36634.34375,61341.0234375,106952.9609375,54253.828125,104021.5625,91033.7109375,48147.9765625,72755.6796875,92274.375,85733.3046875,48333.734375,74956.5625,40572.578125,49377.05078125,66843.5390625,97657.171875,66782.890625,79203.2578125,71621.3671875,43591.29296875,72218.5234375,57907.77734375,32419.23046875,31234.455078125,62997.421875,69796.203125,33398.109375,63625.65234375,42241.78125,68137.1796875,42697.58984375,133394.390625,47070.2734375,42511.84765625,28604.13671875,79131.8359375,67295.7890625,46138.63671875,79527.625,75371.3046875,107249.4921875,55496.7109375,20449.724609375,12401.3896484375,62360.41015625,56275.73046875,128673.984375,51671.9375,83629.453125,52625.54296875,31736.2734375,55656.671875,63760.67578125,42251.8515625,63421.703125,48757.83984375,80570.3515625,36280.375,44522.34765625,33878.7265625,58390.984375,68375.0234375,54710.47265625,37110.95703125,50755.20703125,58471.66796875,122868.53125,101847.6328125,41066.91015625,53114.3203125,74731.9609375,73869.515625,73342.2109375,56351.421875,54730.6796875,28153.18359375,66863.75,28015.70703125,28871.853515625,27593.26171875,125710.5703125,39545.78515625,55386.17578125,77060.71875,27591.87890625,61175.234375,75244.015625,89350.3046875,81516.7109375,35878.12109375,96514.453125,51259.34375,62566.6171875,41125.45703125,78766.015625,110179.109375,39610.2265625,38571.20703125,78473.625,43296.9921875,36360.41015625,47412.578125,59332.6484375,55728.734375,48707.48046875,58214.109375,102460.6796875,76331.2578125,46427.23046875,58188.0625,53592.25390625,42472.88671875,74381.1171875,56747.05859375,23463.1796875,50445.5,38509.48828125,33796.99609375,58792.9921875,54352.66796875,58173.05859375,22765.73046875,88867.140625,61443.11328125,91475.0703125,91530.421875,66441.8046875,55412.25,23439.34765625,84341.3828125,51594.2578125,73810.703125,35267.6640625,79860.0078125,57453.3515625,57763.16796875,35196.5390625,75016.578125,39443.7109375,50669.27734375,37584.66796875,113807.484375,87915.078125,57305.3203125,56082.2578125,37293.1953125,37125.74609375,75650.2734375,33834.23828125,23378.712890625,47212.734375,68614.953125,78363.359375,39459.7734375,106764.234375,80333.1796875,45781.44140625,90854.9921875,64978.35546875,37449.01171875,33767.73828125,74919.3203125,89967.234375,59588.41796875,62283.05859375,50448.12109375,54281.015625,83865.296875,33671.3984375,85876.28125,80718.3515625,53912.51953125,54483.7109375,35330.0859375,76753.84375,89162.0390625,41849.28515625,42942.3359375,29586.287109375,65237.1640625,40863.1015625,70884.2734375,80013.9921875,75791.578125,48669.19140625,41474.0234375,76370.9375,72883.6796875,42799.30078125,39842.3671875,61758.70703125,25856.626953125,76342.21875,98628.34375,29107.0234375,46197.33203125,86454.5390625,25963.60546875,44257.5546875,68400.03125,34745.46875,68743.75,40528.38671875,81842.25,19019.2578125,57157.078125,59219.05859375,65418.984375,46574.46484375,93571.28125,40096.6484375,74822.484375,35727.140625,80237.1484375,88925.96875,87224.4921875,79415.546875,51828.22265625,26586.16015625,92339.59375,71530.296875,88730.9296875,67972.359375,30410.109375,52219.45703125,56407.86328125,92186.890625,41569.4765625,60372.9453125,93157.765625,90480.0078125,65140.8203125,33435.80859375,29408.75,97513.875,48867.234375,61100.62890625,48295.6953125,47635.75,33579.1484375,65209.60546875,54224.81640625,81876.0078125,88463.8515625,44750.06640625,46830.90625,40482.4140625,79296.4609375,47056.3828125,35825.05078125,45210.2734375,47524.0703125,48937.09375,72333.46875,101923.6640625,81247.15625,56754.6015625,85276.421875,63519.83203125,58246.85546875,12240.947265625,46526.82421875,47814.44921875,86279.7578125,67646.7578125,53378.26171875,45728.515625,90021.6875,47488.78515625,66514.53125,43024.7734375,39824.5390625,46720.5390625,85414.1015625,79129.2421875,64474.90234375,42564.36328125,48689.76953125,63604.37890625,24135.876953125,37377.4453125,81509.3984375,49300.15234375,85136.15625,46654.140625,83014.609375,37385.6640625,84140.5234375,30662.521484375,62097.79296875,42186.60546875,35664.16015625,37397.046875,60918.16015625,56054.98046875,24775.0625,60854.671875,47888.01171875,46966.26171875,111105.28125,65800.7578125,46435.71484375,25342.8046875,79126.65625,68324.0078125,51028.703125,37483.99609375,47014.92578125,34017.3671875,42949.41796875,53166.75,70116.84375,42942.3359375,64395.1328125,46749.8984375,41068.609375,121264.1796875,32101.84765625,36672.15234375,134075.28125,77784.125,83512.59375,104786.0703125,70884.1796875,85316.53125,60602.73046875,72442.53125,53802.6484375,95938.109375,88511.7265625,53378.62109375,93109.546875,30015.02734375,33118.33984375,49269.93359375,50275.875,21281.43359375,45302.0703125,88491.0078125,47749.8828125,44393.87109375,75392.890625,68834.84375,32698.1796875,64241.88671875,38031.53515625,65399.6171875,38475.19140625,64102.82421875,39689.2578125,93653.1171875,34019.4296875,73791.3671875,100547.53125,51653.12109375,89199.765625,73614.7109375,88199.625,67518.609375,69012.546875,76378.921875,69072.015625,55336.8359375,67288.90625,39800.7890625,71373.4921875,64922.3828125,43364.703125,47199.734375,83496.75,65638.7578125,74704.8046875,49499.32421875,96550.4375,76380.578125,38701.5,42148.1328125,32814.3046875,41191.30859375,57445.7578125,35985.59375,52815.375,53787.83984375,65597.6953125,31828.33984375,94203.0625,95468.234375,60489.93359375,95409.4140625,119998.0703125,81112.46875,59839.65625,58359.34765625,52149.4921875,52355.69140625,85363.3828125,87752.2265625,63960.828125,50443.67578125,45631.28125,35284.296875,67154.71875,49746.67578125,86576.65625,72829.3046875,35514.2109375,52576.28125,80803.4921875,70607.8046875,64350.109375,51153.875,27812.3046875,63821.38671875,62807.77734375,99472.703125,69450.2890625,32519.48828125,98671.6640625,62951.59375,63532.97265625,106270.984375,47364.6640625,4260.3349609375,76993.8984375,82488.0859375,82884.3515625,96706.15625,57424.52734375,108255.7734375,30735.25390625,75048.703125,37555.08984375,124874.0859375,88946.3046875,118418.625,47974.33203125,53380.17578125,45876.55078125,74252.53125,7189.25048828125,46167.67578125,72837.421875,74116.0390625,48798.80078125,114756.5703125,60076.8515625,68395.6796875,55855.96875,43192.51953125,77799.46875,61790.31640625,28712.19140625,41746.12890625,23730.2421875,58976.0,104471.2265625,91189.6953125,108431.6640625,63836.68359375,27062.24609375,83577.09375,89419.671875,71309.9453125,74711.796875,72145.671875,75404.65625,55936.0703125,39774.3359375,53944.984375,62091.99609375,46996.18359375,107093.1015625,65222.78515625,31584.091796875,87748.2734375,39308.4609375,55013.02734375,86702.09375,23390.119140625,41913.5546875,75747.9921875,100520.1171875,46827.26953125,24253.251953125,43812.0546875,44786.58984375,28146.60546875,94229.5546875,38640.36328125,40116.6953125,99809.203125,55688.6796875,69205.296875,29169.46875,91388.328125,45912.94140625,41265.796875,59338.390625,79210.6328125,42581.33203125,25241.205078125,38255.3359375,74604.0078125,74585.9609375,60778.91796875,50623.9453125,55518.671875,37520.98828125,34196.25,85333.015625,93339.0078125,37381.55078125,63892.19140625,71380.140625,74802.09375,44443.3828125,47529.921875,41420.69140625,105213.34375,23291.359375,38686.17578125,65476.484375,43270.73828125,79789.7890625,102790.203125,32832.03125,47549.35546875,79350.890625,38205.59765625,53603.5546875,85045.125,40280.27734375,78540.9453125,61552.78515625,49541.5546875,38036.95703125,65917.8125,81368.7265625,78133.015625,41325.1015625,62194.36328125,86032.5234375,69915.5859375,51836.70703125,49514.9921875,68437.65625,47981.2578125,50249.3125,45369.80078125,45291.49609375,16965.93359375,32079.265625,53510.48828125,69140.0234375,62245.04296875,76384.625,49677.828125,105667.4921875,37992.72265625,105438.9140625,38075.85546875,56631.2421875,58524.796875,64821.24609375,37832.6640625,91105.5625,56686.74609375,50089.765625,85789.046875,53825.98828125,30638.333984375,47153.22265625,42599.3046875,45109.046875,45912.88671875,62160.1015625,45250.3125,36958.45703125,48799.8203125,99178.6640625,31464.685546875,108585.7890625,59467.16796875,51385.08203125,80756.953125,85966.7578125,72620.1171875,90240.578125,79216.1953125,50535.3046875,83629.6171875,55512.8984375,93152.5078125,62839.69140625,81815.4609375,56571.765625,99197.4765625,41162.02734375,12577.06640625,51695.0703125,57007.390625,57136.02734375,68907.6171875,28065.615234375,39765.4453125,96848.546875,83710.9140625,90004.265625,65345.7734375,61637.46875,37627.1953125,26721.080078125,98646.9921875,54908.6015625,86554.046875,79399.25,53202.109375,57823.56640625,72337.4765625,85344.6171875,35391.4765625,72796.9375,61046.16015625,77316.2109375,78717.8515625,70118.328125,2303.919677734375,79275.8984375,71550.90625,56161.94140625,44326.95703125,69928.53125,65355.12890625,58857.31640625,38756.9921875,79165.4765625,54921.296875,44514.25,94241.25,56261.67578125,50072.80859375,67257.25,35706.671875,79946.4296875,32734.646484375,53874.70703125,90801.84375,41722.9921875,72939.0703125,74739.015625,50672.43359375,46656.265625,101853.9609375,55039.6953125,78156.21875,40185.875,34856.08203125,49887.9609375,58373.7109375,106024.8046875,61281.8984375,68652.859375,51533.91796875,51064.609375,98446.9375,67517.5078125,84276.96875,53482.44921875,81319.25,59238.19921875,82318.84375,80346.8828125,61405.78125,93812.3515625,86322.9296875,43831.515625,46464.83203125,44843.1484375,95013.90625,109603.5703125,60539.73046875,35871.21875,71431.5546875,36201.0546875,68041.265625,58724.75390625,81147.203125,49166.49609375,77147.4765625,53166.8671875,79550.59375,40089.484375,69667.9140625,33002.9921875,59275.95703125,82077.9375,82526.25,78517.6328125,80340.8125,60718.9921875,38721.83203125,34473.046875,51392.6171875,43885.28125,104260.53125,39288.4375,87993.015625,73543.640625,38960.93359375,102165.5546875,44124.2890625,33821.6328125,32590.677734375,36620.875,39347.296875,66069.671875,89430.8046875,54002.6484375,26961.3203125,46865.38671875,74743.5078125,77022.421875,45923.51171875,30427.96484375,60748.00390625,72945.5390625,37736.7109375,61133.953125,33897.9453125,89075.0234375,72603.6875,78730.984375,76327.6328125,78702.453125,32606.041015625,71233.4453125,119611.8046875,57904.75390625,64325.4609375,66969.515625,66959.53125,55692.0,95782.7890625,38418.65625,64076.7421875,43899.2109375,80571.4140625,54542.76171875,29445.623046875,69982.03125,87718.6875,60846.36328125,32603.896484375,49539.5546875,91441.46875,52427.27734375,34817.921875,52504.109375,85475.2578125,81495.359375,42660.19140625,78560.4375,71151.328125,103531.46875,37810.375,59011.0390625,49159.39453125,50284.96875,68567.8984375,38463.43359375,44474.80078125,62807.53125,42549.95703125,70296.4453125,54587.12890625,70994.765625,94612.3828125,34500.83203125,62542.06640625,90295.796875,65409.6484375,121473.3203125,41243.8046875,35602.86328125,54043.43359375,37599.31640625,20388.826171875,45512.22265625,56836.08203125,93024.1953125,109028.53125,36845.37890625,44992.56640625,89063.453125,39926.3046875,80133.796875,59812.46484375,57293.96484375,68359.5078125,92412.453125,80261.390625,38007.375,35437.16015625,72891.453125,72814.296875,105783.90625,60015.41015625,64878.078125,50827.26953125,61616.97265625,41796.31640625,78035.921875,85482.171875,80630.359375,46417.5390625,67946.25,93541.7109375,99243.703125,71001.1953125,34969.05078125,37810.21875,56618.20703125,70780.515625,53300.04296875,27704.072265625,104992.4609375,89503.9453125,36725.40234375,29689.900390625,57310.22265625,24867.943359375,79570.703125,91615.6953125,82981.765625,59089.78125,43196.6484375,73867.1015625,59918.0546875,40284.56640625,71976.7109375,37595.21484375,26111.359375,29552.4296875,79653.40625,83195.0546875,31133.619140625,100994.2734375,47075.1015625,90421.265625,65507.0546875,75370.0625,33685.88671875,70116.3125,25659.1796875,78071.1328125,35465.00390625,84980.1796875,64059.93359375,58079.75390625,62848.98046875,35404.8203125,77015.53125,49614.89453125,90609.8359375,31198.25,77577.3828125,91371.203125,69748.3984375,41781.796875,39660.8203125,102744.2890625,60634.51953125,45104.9609375,71646.3125,50650.43359375,34186.578125,48733.66015625,82028.8046875,48428.26171875,34315.9921875,55725.453125,56793.23828125,53323.4296875,106669.15625,39013.94921875,51074.203125,58041.4609375,25607.78125,89820.8046875,54155.73828125,70560.5234375,99511.796875,38290.96875,50492.6875,59623.46875,86194.453125,50604.49609375,101939.3671875,110506.03125,52433.421875,45206.9453125,91830.5859375,53890.37109375,48560.640625,68122.390625,34336.296875,80956.8359375,125664.8125,41716.25,90420.5859375,89672.1953125,84706.1875,55450.2109375,54000.578125,37701.60546875,86420.7890625,90189.1484375,64290.4375,65864.4296875,30266.798828125,86879.59375,30123.015625,26528.345703125,78054.3125,99647.09375,59527.69921875,147244.59375,26645.4140625,57433.4609375,88383.3359375,87015.4375,49433.72265625,35211.796875,42005.15625,20887.365234375,36894.9609375,94630.40625,77494.8046875,126302.09375,74980.984375,67065.90625,49548.01953125,28146.982421875,56594.85546875,48116.1328125,44359.84765625,37653.78125,72819.5078125,52155.65625,46938.36328125,48507.00390625,90050.6640625,77514.40625,60631.2578125,63993.109375,70765.9296875,61343.6953125,44774.953125,85571.6953125,57223.25390625,118486.203125,70351.875,36833.70703125,47050.33203125,88965.4609375,53164.921875,80488.3984375,33212.2734375,92262.734375,23096.091796875,50226.54296875,86329.1328125,28675.912109375,31842.82421875,50408.0859375,34517.39453125,20465.46484375,41000.1171875,49343.5703125,49838.14453125,59586.6875,120207.84375,45730.8046875,90315.4609375,71873.046875,27405.845703125,50070.921875,82919.71875,32902.29296875,68931.171875,78929.8359375,42924.265625,53161.375,84378.578125,39869.49609375,49473.6328125,62000.16796875,60220.0390625,78115.8046875,50405.69921875,48654.91015625,53856.73828125,59763.375,79785.9296875,71966.8828125,20661.001953125,51517.11328125,37913.6328125,47027.5234375,40277.88671875,75123.2734375,89938.7109375,48299.52734375,87609.0546875,80284.3125,81596.90625,114232.0234375,93383.5390625,45428.10546875,33054.98046875,39700.3984375,58294.7890625,54761.328125,72432.8046875,63371.99609375,70816.609375,69255.140625,56645.34375,46101.56640625,46526.38671875,64715.9765625,93342.515625,28703.384765625,85718.296875,54380.26953125,102584.484375,67977.7578125,91839.140625,79922.40625,25493.03515625,85190.9296875,52546.19921875,39220.234375,80498.6328125,84051.125,75767.84375,71532.0390625,25814.875,109201.34375,83669.4921875,44769.05078125,60978.1640625,67415.5625,58554.109375,92485.4921875,97197.8515625,50977.51953125,27499.830078125,50951.7421875,63360.9765625,69050.859375,87825.7421875,80390.828125,69725.1015625,81647.7890625,55966.234375,24336.544921875,80688.2109375,152470.875,99697.9375,31090.611328125,82647.234375,77485.6796875,32072.607421875,62692.56640625,71656.375,76410.984375,47469.42578125,40819.359375,105471.0,42148.921875,100306.734375,26860.751953125,64109.1015625,43578.0859375,53328.7578125,39097.99609375,82319.0703125,54751.171875,75023.9375,106540.7578125,58932.765625,35209.54296875,86687.5703125,53178.421875,84379.8125,110580.328125,57458.4609375,132437.359375,98675.09375,41701.09765625,47846.765625,38081.109375,83538.8203125,130097.8203125,32499.185546875,49281.14453125,54833.02734375,47845.82421875,80068.421875,100112.8671875,53544.29296875,80137.859375,78773.953125,92225.9765625,52528.86328125,44943.2421875,67544.125,62603.24609375,57949.58203125,93037.25,55761.38671875,25233.51953125,103652.890625,50037.59765625,107799.9453125,42443.10546875,101051.0625,50999.5625,87122.4140625,24916.1796875,92977.2578125,62327.734375,89219.125,50846.18359375,59498.05078125,92817.546875,59343.70703125,37436.9609375,30162.197265625,40021.49609375,74344.171875,50794.3046875,50319.64453125,35547.96484375,90385.8671875,45468.6640625,54036.78515625,48463.05078125,85519.1953125,35179.5390625,60247.90234375,39067.05078125,38670.98046875,76067.3125,30895.087890625,45250.875,46063.203125,46381.62890625,41571.9140625,65673.234375,40647.296875,48392.38671875,65043.0625,27442.955078125,39960.4765625,57457.1171875,57037.03515625,59483.12109375,86376.1953125,85996.0546875,27781.37109375,42200.70703125,78845.7890625,80062.2265625,40975.4765625,24432.787109375,42324.5546875,58984.00390625,85523.1484375,67293.8984375,101649.359375,89679.1640625,57886.1015625,24436.234375,69726.6171875,61327.87890625,58221.86328125,37881.734375,91983.2578125,35922.42578125,35225.14453125,79196.265625,64987.4921875,40655.9609375,69029.8828125,65378.71484375,34399.02734375,58571.578125,79326.5703125,29067.962890625,50007.48828125,113852.3515625,82578.9921875,89025.109375,78067.1875,89414.1484375,67173.3203125,82513.671875,65900.8984375,84922.0,89458.578125,51764.359375,23835.18359375,60247.1875,95484.6875,39071.43359375,85869.0078125,55115.07421875,61029.25390625,53550.46875,60674.5625,84722.4921875,37608.1328125,57465.234375,28636.544921875,103067.515625,46303.5625,82322.984375,70804.28125,58078.265625,36298.91015625,65999.34375,78377.359375,60758.98046875,88548.9921875,95527.9140625,70880.296875,32523.06640625,50715.3828125,24781.2890625,58897.015625,100477.28125,47427.02734375,48878.4609375,84524.6015625,76238.3984375,54125.1171875,53596.265625,100460.6875,40218.0,100799.2578125,54228.265625,59305.65234375,47253.921875,38783.4140625,62660.85546875,32728.173828125,42638.2578125,53379.49609375,37696.09375,35719.59765625,74714.921875,22547.841796875,42073.8984375,37560.03515625,71384.46875,26944.02734375,42458.1171875,67146.796875,65288.84375,85651.8671875,54490.28515625,40740.203125,61378.81640625,39786.05078125,89581.375,88233.375,54429.2890625,45025.375,55371.390625,92818.90625,65028.7265625,92125.2265625,42565.58203125,58526.31640625,67193.40625,57963.17578125,37968.31640625,108847.4375,52602.609375,43057.11328125,49261.671875,97656.9296875,63866.61328125,47144.3671875,83964.75,56359.00390625,71828.71875,37755.90234375,40929.25390625,22782.90625,62749.8984375,67885.578125,47091.96875,96127.9296875,44321.91796875,58648.02734375,96791.7890625,75855.9765625,69737.0859375,54917.53515625,80643.8515625,131088.265625,59408.70703125,111039.7578125,41103.640625,79470.1875,51111.33984375,56022.046875,67445.5703125,34950.828125,40713.625,50337.9140625,68424.0625,89064.765625,52169.86328125,62043.08203125,93835.5703125,37176.8359375,56061.51171875,116423.5859375,97988.3828125,90091.6796875,60338.64453125,86334.734375,57681.0078125,47602.01171875,53722.9296875,99398.84375,55235.93359375,86748.15625,60625.8359375,97596.1484375,35764.6640625,40391.28515625,73392.2578125,90507.421875,96012.046875,111826.28125,39476.77734375,74702.46875,71022.0390625,61285.9375,65155.92578125,96612.9296875,58822.5625,99154.6484375,55561.7578125,74449.140625,44413.3515625,68918.265625,38465.25390625,51682.6171875,49518.73046875,76219.65625,57872.83984375,84370.4921875,59259.15625,35969.48828125,64233.8828125,76199.5234375,17274.806640625,63253.62109375,56568.16796875,68411.3125,37164.55859375,32402.087890625,45052.3671875,59044.0546875,83459.3984375,82334.34375,50429.25,56852.1171875,98698.234375,71283.8984375,54128.3125,52188.828125,64667.1796875,49941.73046875,66267.1875,91071.9921875,41027.95703125,102396.4921875,50033.86328125,82509.5,29306.962890625,69479.4921875,55258.27734375,34248.109375,50388.703125,61037.5078125,54947.58984375,70704.3828125,46684.51171875,53470.03125,45116.203125,45619.96484375,70997.3359375,99679.3671875,23916.517578125,69453.6953125,82001.0703125,89012.234375,45577.90234375,57330.453125,39852.96484375,63030.1640625,34452.09765625,56589.5703125,45185.3359375,57624.65234375,37199.4375,68750.4921875,35549.8984375,91903.0546875,30666.666015625,89052.4921875,106305.828125,73468.75,48275.21484375,81819.78125,58213.56640625,60161.80078125,60606.125,73801.6875,38529.71875,66653.921875,78907.765625,59963.7890625,34751.92578125,100455.3984375,60087.1640625,35335.93359375,74763.609375,45247.125,57920.21875,60694.703125,113755.171875,87061.3046875,80035.6640625,49890.80078125,53942.95703125,57419.22265625,87328.921875,58827.85546875,41951.5,95778.6875,102641.6484375,60936.6640625,55150.91796875,111513.3046875,44221.19140625,42102.89453125,99256.3671875,51338.25,44485.3203125,69188.71875,81270.8203125,51879.984375,86066.765625,40831.26953125,94505.7265625,51690.48046875,73789.09375,36543.6484375,45422.26953125,39697.33203125,91622.9453125,77268.421875,59228.76171875,42503.109375,38356.49609375,37301.87890625,41457.8984375,63443.1640625,52531.09375,77707.796875,46581.63671875,37099.0546875,81293.3046875,96768.96875,77040.875,54353.52734375,47786.96875,72840.875,54604.39453125,57264.546875,87386.4453125,37720.48046875,106159.4296875,84323.890625,47063.1015625,42604.609375,84865.3203125,84409.1953125,67013.953125,37714.34375,76690.171875,24287.3203125,113687.8203125,58746.2109375,67020.9296875,36902.12890625,74235.921875,91699.9765625,37073.8359375,40565.6953125,59331.5234375,88814.109375,57018.7890625,113495.203125,98387.7734375,56648.30859375,52282.6328125,69471.703125,104594.90625,41815.53125,63091.58203125,79354.4453125,73791.5234375,58150.9296875,72316.34375,48682.7734375,61398.0234375,56812.30078125,63840.8984375,43618.02734375,57707.890625,62051.6875,82954.1640625,90904.2890625,65410.984375,81638.390625,62951.26171875,53559.66796875,50222.640625,76184.40625,114095.796875,50979.98046875,47863.81640625,35383.86328125,38269.55859375,68673.4375,93802.125,66413.296875,108924.5703125,48835.3984375,30912.966796875,97347.4375,48632.69140625,55214.0078125,66694.921875,80187.421875,76327.6875,74808.171875,59497.890625,55525.64453125,70144.9921875,70701.6953125,42325.35546875,72454.046875,55392.7265625,82471.2265625,54915.68359375,38571.9140625,52145.08203125,70887.40625,68086.6953125,55140.6328125,89563.65625,36786.2265625,81598.984375,57622.5,56543.5546875,54876.60546875,54305.1796875,24297.958984375,52426.63671875,38400.1328125,91408.4609375,26470.166015625,96623.765625,63755.45703125,84531.0546875,78005.828125,56213.734375,49289.1640625,39426.0390625,54667.07421875,56982.99609375,81218.2421875,62599.953125,34924.0,69706.9921875,71144.3203125,56783.11328125,36290.26171875,64883.04296875,38655.05078125,82827.9921875,25771.06640625,45582.328125,98713.0859375,96684.1171875,35689.66015625,45322.41796875,55995.125,21266.97265625,68369.359375,27993.76953125,31303.796875,77234.8359375,67536.625,89382.9609375,23730.5625,72244.0546875,44173.12109375,41574.3671875,58888.40625,69500.5859375,58516.3046875,24943.9609375,39312.7265625,67766.6953125,65060.6953125,54994.5703125,60457.9140625,51334.41796875,39705.0390625,23509.283203125,51891.72265625,99296.453125,77092.0390625,66996.390625,104258.015625,62408.08203125,43410.8203125,102966.9921875,37322.1015625,42447.44140625,52049.890625,48359.5390625,74325.890625,57114.62890625,76816.3671875,107702.3125,60524.55078125,61560.84375,74607.4765625,74024.4765625,83193.3046875,86562.21875,39467.375,66008.15625,62126.91015625,41825.421875,38398.5078125,107896.8046875,42791.8515625,45237.87109375,21515.70703125,36900.8828125,74335.328125,43848.2734375,52284.80078125,68406.203125,121094.828125,81225.640625,84942.9375,53029.41796875,44694.48046875,47841.43359375,98158.6796875,51596.66796875,79694.1875,70422.25,85603.65625,62815.16015625,30474.572265625,78474.4375,67288.6640625,75707.125,50318.3203125,71176.84375,50504.62109375,34845.25390625,55003.0546875,52204.01953125,50105.0625,60905.0390625,81326.9140625,118445.125,93886.625,65030.05078125,61387.6953125,95483.8046875,75044.328125,53779.515625,81120.6796875,90225.7578125,74560.6328125,103777.328125,54780.828125,52195.19140625,54750.70703125,75783.140625,43033.2734375,40027.29296875,46085.6875,40178.171875,65401.80859375,30904.560546875,72962.9375,63561.84765625,108033.4453125,93391.1953125,29924.6875,53580.65234375,93347.4375,25587.53515625,73087.1171875,63753.98046875,43522.7265625,85621.390625,60012.8359375,66565.3984375,46997.390625,37130.91015625,33767.73828125,52574.67578125,96502.0703125,47349.27734375,80449.1484375,11152.1513671875,60467.2734375,25270.875,80707.234375,116694.34375,55503.75,64716.3359375,45756.84765625,75179.8359375,48214.5703125,70121.484375,55744.8203125,48341.18359375,69128.7890625,41211.5625,49165.99609375,73674.2890625,36056.04296875,62968.71484375,43116.69140625,34361.70703125,42177.92578125,17333.65234375,73614.7890625,37280.33203125,77274.671875,79363.7265625,64239.5546875,104730.65625,78897.4140625,84121.8359375,46168.046875,68040.9453125,54792.3515625,84790.9765625,31544.943359375,70360.78125,89116.8046875,89044.203125,41331.703125,48093.6796875,45624.10546875,43385.17578125,47619.53125,30460.41015625,74220.6640625,46006.54296875,44825.50390625,58197.78515625,39740.7109375,94772.2578125,129802.421875,66348.625,86948.5546875,39985.72265625,71530.09375,75591.3203125,42319.109375,32556.923828125,71334.1484375,60066.59375,79878.203125,51646.84375,78748.6484375,66487.4765625,44955.59765625,84800.5078125,67645.734375,118636.796875,56188.41796875,50502.1015625,38097.25,107241.9609375,69678.21875,57409.47265625,31732.66796875,32217.416015625,59946.76171875,54278.10546875,36786.2265625,63538.16796875,39256.609375,49172.75390625,62018.83984375,41395.5625,39482.80078125,91251.21875,35693.69140625,87874.7265625,42490.7421875,26964.791015625,53689.61328125,41426.1171875,42056.640625,42458.16015625,83395.078125,43395.4375,36863.5625,40031.74609375,47072.09375,40841.87109375,41316.16015625,132703.078125,45753.91796875,54547.609375,35659.71484375,42673.48828125,51857.68359375,49938.10546875,54255.58203125,59009.39453125,47647.0625,37035.765625,44721.44140625,121896.7421875,55864.48046875,34939.39453125,88712.34375,32293.259765625,70122.046875,84157.2734375,76360.2421875,86429.828125,49506.13671875,53682.46484375,54957.55859375,36169.52734375,28780.927734375,39153.90625,58483.64453125,81607.15625,96153.09375,94262.1640625,104291.25,139270.1875,76237.8125,51264.07421875,85989.3828125,57071.09765625,79953.7421875,57788.01171875,49901.46484375,38330.78125,36309.19140625,107709.7890625,75917.625,48597.16015625,15204.0205078125,54165.2109375,73773.671875,39987.6328125,51344.41015625,112958.7578125,78563.75,69045.796875,68110.140625,30898.556640625,32163.462890625,82291.9375,43061.4609375,43423.9140625,62202.921875,74533.9140625,37658.0625,31926.138671875,81178.1328125,41341.1484375,45191.0,101125.765625,49668.75390625,79296.8359375,41031.453125,73840.4140625,68949.9375,65192.046875,30518.443359375,80348.8984375,34422.984375,58664.63671875,42775.984375,30998.806640625,94093.4609375,82065.1875,69095.578125,57156.0546875,66288.7421875,37066.140625,85913.5859375,85975.0625,79837.6484375,40116.49609375,72094.3046875,2606.965576171875,95134.40625,26349.1484375,35143.8828125,72936.7421875,47669.04296875,66596.765625,61924.6015625,80977.2265625,14669.5732421875,46481.42578125,83290.046875,37610.92578125,43497.2890625,84063.8515625,67422.5390625,43700.75,41085.20703125,35913.87890625,99080.765625,124228.046875,79499.8046875,83372.71875,57775.30859375,33791.78125,51354.67578125,32971.5703125,45778.47265625,88900.828125,41965.109375,37082.35546875,98494.0234375,88893.3828125,79734.8359375,44653.7578125,28259.701171875,58236.61328125,40361.4609375,78847.8359375,32388.451171875,23784.49609375,78552.1953125,74525.25,38675.4375,31883.720703125,91951.4140625,64297.9375,45454.515625,75498.796875,46304.203125,29024.2421875,114494.1015625,46187.1796875,51545.390625,69298.90625,70736.09375,31357.814453125,65851.8671875,45873.03515625,64691.43359375,84400.8984375,64372.3515625,37442.34375,58486.53125,92180.90625,43750.29296875,22426.212890625,49754.95703125,36582.55859375,83704.7734375,62933.3046875,35095.046875,88298.015625,51296.9609375,97131.1015625,56840.09375,102094.1953125,89923.03125,101053.78125,41793.984375,80117.6484375,58260.1953125,67079.734375,73036.53125,107670.5546875,83908.78125,48950.98828125,46795.41015625,57761.77734375,47826.80859375,78404.9375,39371.859375,82265.8125,61661.94140625,38120.5234375,58747.13671875,94184.96875,70782.046875,54527.0234375,82409.7109375,43131.9609375,40786.34375,48819.76171875,106122.2265625,69416.2421875,85988.21875,59999.265625,89966.984375,54381.73046875,27268.876953125,47215.99609375,86920.546875,82141.4140625,27645.1953125,37499.15625,69868.125,86162.2890625,38299.859375,52404.72265625,73155.6640625,35528.9765625,53331.2265625,38568.125,76599.734375,59069.94140625,66927.2890625,30460.501953125,68517.8203125'"
      ]
     },
     "execution_count": 39,
     "metadata": {},
     "output_type": "execute_result"
    }
   ],
   "source": [
    "result"
   ]
  },
  {
   "cell_type": "code",
   "execution_count": 51,
   "metadata": {
    "scrolled": true
   },
   "outputs": [],
   "source": [
    "result2 = result.split(',')\n",
    "result_list = []\n",
    "\n",
    "for i in result2:\n",
    "    i = round(float(i),2)\n",
    "    result_list.append(i)\n",
    "\n",
    "X_valid_xgb_new['Prediction'] = result_list\n",
    "X_valid_xgb_new['Error'] = abs(X_valid_xgb_new['Price/Square Meter'] - X_valid_xgb_new['Prediction'])\n",
    "\n",
    "first30 = X_valid_xgb_new.head(1000)"
   ]
  },
  {
   "cell_type": "code",
   "execution_count": 52,
   "metadata": {},
   "outputs": [],
   "source": [
    "first30 = first30.rename(columns = {'Livable Area': 'Livable_Area'})"
   ]
  },
  {
   "cell_type": "code",
   "execution_count": 63,
   "metadata": {},
   "outputs": [],
   "source": [
    "import ipywidgets as widgets\n",
    "from IPython.display import display\n",
    "import seaborn as sns\n",
    "import matplotlib.pyplot as plt\n",
    "\n",
    "\n",
    "# ALL_1 = 'ALL (Livable Area)'\n",
    "ALL_2 = 'ALL (Decoration Level)'\n",
    "ALL_3 = 'ALL (Year Built)'\n",
    "\n",
    "# def unique_sorted_values_plus_Livable_Area(array):\n",
    "#     unique = array.unique().tolist()\n",
    "#     unique.sort()\n",
    "#     unique.insert(0, ALL_1)\n",
    "#     return unique\n",
    "\n",
    "def unique_sorted_values_plus_Decoration_Level(array):\n",
    "    unique = array.unique().tolist()\n",
    "    unique.sort()\n",
    "    unique.insert(0, ALL_2)\n",
    "    return unique\n",
    "\n",
    "def unique_sorted_values_plus_Year_Built(array):\n",
    "    unique = array.unique().tolist()\n",
    "    unique.sort()\n",
    "    unique.insert(0, ALL_3)\n",
    "    return unique\n",
    "\n",
    "\n",
    "output = widgets.Output()\n",
    "plot_output = widgets.Output()\n",
    "\n",
    "# dropdown_Livable_Area = widgets.Dropdown(options = unique_sorted_values_plus_Livable_Area(first30.Livable_Area))\n",
    "dropdown_Decoration_Level = widgets.Dropdown(options = unique_sorted_values_plus_Decoration_Level(first30.Decoration_Level))\n",
    "dropdown_Year_Built = widgets.Dropdown(options = unique_sorted_values_plus_Year_Built(first30.Year_Built))\n",
    "\n",
    "\n",
    "def common_filtering(Year_Built, Decoration_Level):\n",
    "    output.clear_output()\n",
    "    plot_output.clear_output()\n",
    "    \n",
    "    if (Decoration_Level == ALL_2) & (Year_Built == ALL_3) :\n",
    "        common_filter = first30\n",
    "    elif (Decoration_Level == ALL_2):\n",
    "        common_filter = first30[first30.Year_Built == Year_Built]\n",
    "    elif (Year_Built == ALL_3):\n",
    "        common_filter = first30[first30.Decoration_Level == Decoration_Level]\n",
    "    else:\n",
    "        common_filter = first30[(first30.Decoration_Level == Decoration_Level) & \n",
    "                                  (first30.Year_Built == Year_Built)]\n",
    "    \n",
    "    with output:\n",
    "        display(common_filter)\n",
    "        \n",
    "    with plot_output:\n",
    "        sns.kdeplot(common_filter['Price/Square Meter'], shade=True)\n",
    "        plt.show()\n",
    "    \n",
    "        \n",
    "def dropdown_Year_Built_eventhandler(change):\n",
    "    common_filtering(change.new, dropdown_Decoration_Level.value)\n",
    "    \n",
    "def dropdown_Decoration_Level_eventhandler(change):\n",
    "    common_filtering(dropdown_Year_Built.value, change.new)\n",
    "    \n",
    "dropdown_Year_Built.observe(dropdown_Year_Built_eventhandler, names='value')\n",
    "dropdown_Decoration_Level.observe(dropdown_Decoration_Level_eventhandler, names='value')"
   ]
  },
  {
   "cell_type": "code",
   "execution_count": 69,
   "metadata": {},
   "outputs": [
    {
     "data": {
      "application/vnd.jupyter.widget-view+json": {
       "model_id": "6cbada24e59347e2b00776459f6bafad",
       "version_major": 2,
       "version_minor": 0
      },
      "text/plain": [
       "VBox(children=(HBox(children=(Dropdown(index=17, options=('ALL (Year Built)', 1954, 1960, 1963, 1964, 1967, 19…"
      ]
     },
     "metadata": {},
     "output_type": "display_data"
    }
   ],
   "source": [
    "item_layout = widgets.Layout(margin='0 0 50px 0')\n",
    "input_widgets = widgets.HBox([dropdown_Year_Built, dropdown_Decoration_Level],layout=item_layout)\n",
    "\n",
    "tab = widgets.Tab([output, plot_output])\n",
    "tab.set_title(0, 'Dataset Exploration')\n",
    "tab.set_title(1, 'KDE Plot')\n",
    "\n",
    "dashboard = widgets.VBox([input_widgets, tab])\n",
    "display(dashboard)"
   ]
  },
  {
   "cell_type": "code",
   "execution_count": null,
   "metadata": {},
   "outputs": [],
   "source": []
  },
  {
   "cell_type": "code",
   "execution_count": null,
   "metadata": {},
   "outputs": [],
   "source": [
    "# sagemaker.Session().delete_endpoint(xgb_predictor.endpoint)"
   ]
  },
  {
   "cell_type": "code",
   "execution_count": null,
   "metadata": {},
   "outputs": [],
   "source": []
  }
 ],
 "metadata": {
  "kernelspec": {
   "display_name": "conda_python3",
   "language": "python",
   "name": "conda_python3"
  },
  "language_info": {
   "codemirror_mode": {
    "name": "ipython",
    "version": 3
   },
   "file_extension": ".py",
   "mimetype": "text/x-python",
   "name": "python",
   "nbconvert_exporter": "python",
   "pygments_lexer": "ipython3",
   "version": "3.6.10"
  }
 },
 "nbformat": 4,
 "nbformat_minor": 4
}
