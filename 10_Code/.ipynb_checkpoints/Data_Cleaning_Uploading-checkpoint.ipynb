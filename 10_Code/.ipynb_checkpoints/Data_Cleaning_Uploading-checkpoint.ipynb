{
 "cells": [
  {
   "cell_type": "code",
   "execution_count": 1,
   "metadata": {},
   "outputs": [],
   "source": [
    "import pandas as pd\n",
    "import os  \n",
    "import numpy as np\n",
    "import matplotlib.pyplot as plt\n",
    "import matplotlib\n",
    "import seaborn as sns"
   ]
  },
  {
   "cell_type": "code",
   "execution_count": 2,
   "metadata": {},
   "outputs": [
    {
     "name": "stdout",
     "output_type": "stream",
     "text": [
      "/Users/lin-chuntseng/Desktop\n"
     ]
    }
   ],
   "source": [
    "cwd = os.getcwd()\n",
    "print(cwd)"
   ]
  },
  {
   "cell_type": "code",
   "execution_count": 269,
   "metadata": {},
   "outputs": [],
   "source": [
    "df = pd.read_csv(\"/Users/lin-chuntseng/Desktop/raw_haidian.csv\")"
   ]
  },
  {
   "cell_type": "code",
   "execution_count": 270,
   "metadata": {
    "scrolled": true
   },
   "outputs": [],
   "source": [
    "df = df.rename(columns={\"Transaction Date\": \"Date\", \"Housing ID\": \"Community\", \"Unnamed: 0\": 'Housing_ID'})"
   ]
  },
  {
   "cell_type": "code",
   "execution_count": 271,
   "metadata": {},
   "outputs": [
    {
     "data": {
      "text/plain": [
       "(72435, 11)"
      ]
     },
     "execution_count": 271,
     "metadata": {},
     "output_type": "execute_result"
    }
   ],
   "source": [
    "# Original size of the dataframe\n",
    "df.shape"
   ]
  },
  {
   "cell_type": "code",
   "execution_count": 272,
   "metadata": {},
   "outputs": [
    {
     "data": {
      "text/plain": [
       "Index(['Housing_ID', 'Community', 'Livable Area', 'Price/Square Meter',\n",
       "       'Price', 'Date', 'Year Built', 'Floor Plan', 'Facing Direction',\n",
       "       'Floor', 'Decoration'],\n",
       "      dtype='object')"
      ]
     },
     "execution_count": 272,
     "metadata": {},
     "output_type": "execute_result"
    }
   ],
   "source": [
    "df.columns"
   ]
  },
  {
   "cell_type": "code",
   "execution_count": 273,
   "metadata": {},
   "outputs": [],
   "source": [
    "# Livable Area convert into float\n",
    "\n",
    "df['Livable Area'] = df['Livable Area'].astype('str').str[:-2]"
   ]
  },
  {
   "cell_type": "code",
   "execution_count": 274,
   "metadata": {},
   "outputs": [],
   "source": [
    "# Keep the first 4 digits for 'Year Built' \n",
    "df['Year Built'] = df['Year Built'].astype('str').str[0:4]"
   ]
  },
  {
   "cell_type": "code",
   "execution_count": 275,
   "metadata": {},
   "outputs": [],
   "source": [
    "# Convert dtype of Transaction Date\n",
    "df['Date'] = pd.to_datetime(df.Date)"
   ]
  },
  {
   "cell_type": "code",
   "execution_count": 276,
   "metadata": {},
   "outputs": [],
   "source": [
    "# Create a new column for keeping the first character of Facing Direction\n",
    "df['Facing Direction2'] = df['Facing Direction'].astype('str').str[0:1]"
   ]
  },
  {
   "cell_type": "code",
   "execution_count": 277,
   "metadata": {},
   "outputs": [],
   "source": [
    "df = pd.get_dummies(df,columns=['Facing Direction2'])"
   ]
  },
  {
   "cell_type": "code",
   "execution_count": 278,
   "metadata": {},
   "outputs": [
    {
     "data": {
      "text/plain": [
       "(72364, 17)"
      ]
     },
     "execution_count": 278,
     "metadata": {},
     "output_type": "execute_result"
    }
   ],
   "source": [
    "# Drop missing rows for facing direction2 (dropped 71 rows)\n",
    "df2 = df[(df['Facing Direction2_n'] != 1) & (df['Facing Direction2_暂'] != 1)]\n",
    "df2.shape"
   ]
  },
  {
   "cell_type": "code",
   "execution_count": 279,
   "metadata": {},
   "outputs": [],
   "source": [
    "# Drop unnecessary columns for facing direction2_n and facing direction2_暂\n",
    "df2 = df2.drop(columns=[\"Facing Direction2_n\", \"Facing Direction2_暂\"])"
   ]
  },
  {
   "cell_type": "code",
   "execution_count": 281,
   "metadata": {},
   "outputs": [
    {
     "data": {
      "text/html": [
       "<div>\n",
       "<style scoped>\n",
       "    .dataframe tbody tr th:only-of-type {\n",
       "        vertical-align: middle;\n",
       "    }\n",
       "\n",
       "    .dataframe tbody tr th {\n",
       "        vertical-align: top;\n",
       "    }\n",
       "\n",
       "    .dataframe thead th {\n",
       "        text-align: right;\n",
       "    }\n",
       "</style>\n",
       "<table border=\"1\" class=\"dataframe\">\n",
       "  <thead>\n",
       "    <tr style=\"text-align: right;\">\n",
       "      <th></th>\n",
       "      <th>Housing_ID</th>\n",
       "      <th>Community</th>\n",
       "      <th>Livable Area</th>\n",
       "      <th>Price/Square Meter</th>\n",
       "      <th>Price</th>\n",
       "      <th>Date</th>\n",
       "      <th>Year Built</th>\n",
       "      <th>Floor Plan</th>\n",
       "      <th>Facing Direction</th>\n",
       "      <th>Floor</th>\n",
       "      <th>Decoration</th>\n",
       "      <th>Facing Direction2_东</th>\n",
       "      <th>Facing Direction2_北</th>\n",
       "      <th>Facing Direction2_南</th>\n",
       "      <th>Facing Direction2_西</th>\n",
       "    </tr>\n",
       "  </thead>\n",
       "  <tbody>\n",
       "    <tr>\n",
       "      <th>0</th>\n",
       "      <td>1</td>\n",
       "      <td>中关村南大街甲3号 2室1厅 56.3平米</td>\n",
       "      <td>56.3</td>\n",
       "      <td>38544.0</td>\n",
       "      <td>217.0</td>\n",
       "      <td>2015-05-08</td>\n",
       "      <td>1965</td>\n",
       "      <td>2室1厅</td>\n",
       "      <td>南 北</td>\n",
       "      <td>低楼层(共3层)</td>\n",
       "      <td>简装</td>\n",
       "      <td>0</td>\n",
       "      <td>0</td>\n",
       "      <td>1</td>\n",
       "      <td>0</td>\n",
       "    </tr>\n",
       "    <tr>\n",
       "      <th>1</th>\n",
       "      <td>2</td>\n",
       "      <td>中关村南大街甲3号 2室1厅 55.1平米</td>\n",
       "      <td>55.1</td>\n",
       "      <td>33667.0</td>\n",
       "      <td>185.5</td>\n",
       "      <td>2012-04-10</td>\n",
       "      <td>1965</td>\n",
       "      <td>2室1厅</td>\n",
       "      <td>南 北</td>\n",
       "      <td>底层(共3层)</td>\n",
       "      <td>其他</td>\n",
       "      <td>0</td>\n",
       "      <td>0</td>\n",
       "      <td>1</td>\n",
       "      <td>0</td>\n",
       "    </tr>\n",
       "    <tr>\n",
       "      <th>2</th>\n",
       "      <td>3</td>\n",
       "      <td>民族大学南路19号院 2室1厅 70平米</td>\n",
       "      <td>70</td>\n",
       "      <td>91429.0</td>\n",
       "      <td>640.0</td>\n",
       "      <td>2019-04-19</td>\n",
       "      <td>1993</td>\n",
       "      <td>2室1厅</td>\n",
       "      <td>南</td>\n",
       "      <td>中楼层(共15层)</td>\n",
       "      <td>简装</td>\n",
       "      <td>0</td>\n",
       "      <td>0</td>\n",
       "      <td>1</td>\n",
       "      <td>0</td>\n",
       "    </tr>\n",
       "    <tr>\n",
       "      <th>3</th>\n",
       "      <td>4</td>\n",
       "      <td>民族大学南路19号院 2室1厅 98.49平米</td>\n",
       "      <td>98.49</td>\n",
       "      <td>102752.0</td>\n",
       "      <td>1012.0</td>\n",
       "      <td>2019-04-07</td>\n",
       "      <td>2000</td>\n",
       "      <td>2室1厅</td>\n",
       "      <td>南</td>\n",
       "      <td>高楼层(共18层)</td>\n",
       "      <td>简装</td>\n",
       "      <td>0</td>\n",
       "      <td>0</td>\n",
       "      <td>1</td>\n",
       "      <td>0</td>\n",
       "    </tr>\n",
       "    <tr>\n",
       "      <th>4</th>\n",
       "      <td>5</td>\n",
       "      <td>民族大学南路19号院 2室1厅 60.7平米</td>\n",
       "      <td>60.7</td>\n",
       "      <td>98847.0</td>\n",
       "      <td>600.0</td>\n",
       "      <td>2019-02-22</td>\n",
       "      <td>1991</td>\n",
       "      <td>2室1厅</td>\n",
       "      <td>南</td>\n",
       "      <td>高楼层(共16层)</td>\n",
       "      <td>其他</td>\n",
       "      <td>0</td>\n",
       "      <td>0</td>\n",
       "      <td>1</td>\n",
       "      <td>0</td>\n",
       "    </tr>\n",
       "  </tbody>\n",
       "</table>\n",
       "</div>"
      ],
      "text/plain": [
       "   Housing_ID                Community Livable Area  Price/Square Meter  \\\n",
       "0           1    中关村南大街甲3号 2室1厅 56.3平米         56.3             38544.0   \n",
       "1           2    中关村南大街甲3号 2室1厅 55.1平米         55.1             33667.0   \n",
       "2           3     民族大学南路19号院 2室1厅 70平米           70             91429.0   \n",
       "3           4  民族大学南路19号院 2室1厅 98.49平米        98.49            102752.0   \n",
       "4           5   民族大学南路19号院 2室1厅 60.7平米         60.7             98847.0   \n",
       "\n",
       "    Price       Date Year Built Floor Plan Facing Direction      Floor  \\\n",
       "0   217.0 2015-05-08       1965       2室1厅              南 北   低楼层(共3层)   \n",
       "1   185.5 2012-04-10       1965       2室1厅              南 北    底层(共3层)   \n",
       "2   640.0 2019-04-19       1993       2室1厅                南  中楼层(共15层)   \n",
       "3  1012.0 2019-04-07       2000       2室1厅                南  高楼层(共18层)   \n",
       "4   600.0 2019-02-22       1991       2室1厅                南  高楼层(共16层)   \n",
       "\n",
       "  Decoration  Facing Direction2_东  Facing Direction2_北  Facing Direction2_南  \\\n",
       "0         简装                    0                    0                    1   \n",
       "1         其他                    0                    0                    1   \n",
       "2         简装                    0                    0                    1   \n",
       "3         简装                    0                    0                    1   \n",
       "4         其他                    0                    0                    1   \n",
       "\n",
       "   Facing Direction2_西  \n",
       "0                    0  \n",
       "1                    0  \n",
       "2                    0  \n",
       "3                    0  \n",
       "4                    0  "
      ]
     },
     "execution_count": 281,
     "metadata": {},
     "output_type": "execute_result"
    }
   ],
   "source": [
    "df2.head()"
   ]
  },
  {
   "cell_type": "code",
   "execution_count": 282,
   "metadata": {},
   "outputs": [],
   "source": [
    "df2['Decoration2'] = df2['Decoration'].astype('str')"
   ]
  },
  {
   "cell_type": "code",
   "execution_count": 283,
   "metadata": {
    "scrolled": true
   },
   "outputs": [
    {
     "data": {
      "text/plain": [
       "0        1\n",
       "1        3\n",
       "2        1\n",
       "3        1\n",
       "4        3\n",
       "        ..\n",
       "72430    3\n",
       "72431    3\n",
       "72432    3\n",
       "72433    3\n",
       "72434    3\n",
       "Name: Decoration2, Length: 72364, dtype: int64"
      ]
     },
     "execution_count": 283,
     "metadata": {},
     "output_type": "execute_result"
    }
   ],
   "source": [
    "# Encode Decoration into categorical variables\n",
    "# 毛坯 = 0，简装 = 1， 精装 = 2，  其他 = 3 (we need to drop 暂无信息)\n",
    "df2.loc[df2['Decoration2'] == '毛坯' , 'Decoration2'] = '0'\n",
    "df2.loc[df2['Decoration2'] == '简装' , 'Decoration2'] = '1'\n",
    "df2.loc[df2['Decoration2'] == '精装' , 'Decoration2'] = '2'\n",
    "df2.loc[df2['Decoration2'] == '其他' , 'Decoration2'] = '3'\n",
    "df2.loc[df2['Decoration2'] == '暂无信息' , 'Decoration2'] = '4'\n",
    "df2['Decoration2'].astype('int')"
   ]
  },
  {
   "cell_type": "code",
   "execution_count": 286,
   "metadata": {},
   "outputs": [
    {
     "data": {
      "text/plain": [
       "(69486, 16)"
      ]
     },
     "execution_count": 286,
     "metadata": {},
     "output_type": "execute_result"
    }
   ],
   "source": [
    "# Drop missing rows for facing decoration2 (dropped 2940 rows)\n",
    "df3 = df2[df2['Decoration2'] != '4']\n",
    "df3.shape"
   ]
  },
  {
   "cell_type": "code",
   "execution_count": 288,
   "metadata": {},
   "outputs": [],
   "source": [
    "df3_copy = df3.copy()\n",
    "df3_copy['Floor2'] = df3_copy['Floor'].astype('str').str[0:1]"
   ]
  },
  {
   "cell_type": "code",
   "execution_count": 290,
   "metadata": {},
   "outputs": [
    {
     "data": {
      "text/plain": [
       "0        2\n",
       "1        1\n",
       "2        3\n",
       "3        4\n",
       "4        4\n",
       "        ..\n",
       "72430    1\n",
       "72431    2\n",
       "72432    5\n",
       "72433    3\n",
       "72434    3\n",
       "Name: Floor2, Length: 69486, dtype: int64"
      ]
     },
     "execution_count": 290,
     "metadata": {},
     "output_type": "execute_result"
    }
   ],
   "source": [
    "# Encode Floor into categorical variables\n",
    "# 地 = 0，底 = 1， 低 = 2，  中 = 3, 高 = 4，顶 = 5，未 = 7 (we need to drop 7)\n",
    "df3_copy.loc[df3_copy['Floor2'] == '地' , 'Floor2'] = '0'\n",
    "df3_copy.loc[df3_copy['Floor2'] == '底' , 'Floor2'] = '1'\n",
    "df3_copy.loc[df3_copy['Floor2'] == '低' , 'Floor2'] = '2'\n",
    "df3_copy.loc[df3_copy['Floor2'] == '中' , 'Floor2'] = '3'\n",
    "df3_copy.loc[df3_copy['Floor2'] == '高' , 'Floor2'] = '4'\n",
    "df3_copy.loc[df3_copy['Floor2'] == '顶' , 'Floor2'] = '5'\n",
    "df3_copy.loc[df3_copy['Floor2'] == '暂' , 'Floor2'] = '6'\n",
    "df3_copy.loc[df3_copy['Floor2'] == '未' , 'Floor2'] = '7'\n",
    "\n",
    "df3_copy['Floor2'].astype('int')"
   ]
  },
  {
   "cell_type": "code",
   "execution_count": 291,
   "metadata": {},
   "outputs": [
    {
     "data": {
      "text/plain": [
       "3    26268\n",
       "4    13977\n",
       "2    13447\n",
       "5     8630\n",
       "1     6617\n",
       "0      365\n",
       "7      182\n",
       "Name: Floor2, dtype: int64"
      ]
     },
     "execution_count": 291,
     "metadata": {},
     "output_type": "execute_result"
    }
   ],
   "source": [
    "df3_copy['Floor2'].value_counts()"
   ]
  },
  {
   "cell_type": "code",
   "execution_count": 292,
   "metadata": {
    "scrolled": true
   },
   "outputs": [
    {
     "data": {
      "text/plain": [
       "(69304, 17)"
      ]
     },
     "execution_count": 292,
     "metadata": {},
     "output_type": "execute_result"
    }
   ],
   "source": [
    "# Drop missing rows for Floor2(dropped 182 rows)\n",
    "df4 = df3_copy[df3_copy['Floor2'] != '7']\n",
    "\n",
    "df4.shape"
   ]
  },
  {
   "cell_type": "code",
   "execution_count": 296,
   "metadata": {
    "scrolled": true
   },
   "outputs": [
    {
     "data": {
      "text/plain": [
       "Index(['Housing_ID', 'Community', 'Livable Area', 'Price/Square Meter',\n",
       "       'Price', 'Date', 'Year Built', 'Floor Plan', 'Facing Direction',\n",
       "       'Floor', 'Decoration', 'Facing Direction2_东', 'Facing Direction2_北',\n",
       "       'Facing Direction2_南', 'Facing Direction2_西', 'Decoration2', 'Floor2'],\n",
       "      dtype='object')"
      ]
     },
     "execution_count": 296,
     "metadata": {},
     "output_type": "execute_result"
    }
   ],
   "source": [
    "df4.columns"
   ]
  },
  {
   "cell_type": "code",
   "execution_count": 297,
   "metadata": {},
   "outputs": [
    {
     "data": {
      "text/html": [
       "<div>\n",
       "<style scoped>\n",
       "    .dataframe tbody tr th:only-of-type {\n",
       "        vertical-align: middle;\n",
       "    }\n",
       "\n",
       "    .dataframe tbody tr th {\n",
       "        vertical-align: top;\n",
       "    }\n",
       "\n",
       "    .dataframe thead th {\n",
       "        text-align: right;\n",
       "    }\n",
       "</style>\n",
       "<table border=\"1\" class=\"dataframe\">\n",
       "  <thead>\n",
       "    <tr style=\"text-align: right;\">\n",
       "      <th></th>\n",
       "      <th>Housing_ID</th>\n",
       "      <th>Community</th>\n",
       "      <th>Livable Area</th>\n",
       "      <th>Price/Square Meter</th>\n",
       "      <th>Price</th>\n",
       "      <th>Date</th>\n",
       "      <th>Year Built</th>\n",
       "      <th>Floor Plan</th>\n",
       "      <th>Facing Direction</th>\n",
       "      <th>Floor</th>\n",
       "      <th>Decoration</th>\n",
       "      <th>Facing Direction2_东</th>\n",
       "      <th>Facing Direction2_北</th>\n",
       "      <th>Facing Direction2_南</th>\n",
       "      <th>Facing Direction2_西</th>\n",
       "      <th>Decoration2</th>\n",
       "      <th>Floor2</th>\n",
       "    </tr>\n",
       "  </thead>\n",
       "  <tbody>\n",
       "    <tr>\n",
       "      <th>0</th>\n",
       "      <td>1</td>\n",
       "      <td>中关村南大街甲3号 2室1厅 56.3平米</td>\n",
       "      <td>56.3</td>\n",
       "      <td>38544.0</td>\n",
       "      <td>217.0</td>\n",
       "      <td>2015-05-08</td>\n",
       "      <td>1965</td>\n",
       "      <td>2室1厅</td>\n",
       "      <td>南 北</td>\n",
       "      <td>低楼层(共3层)</td>\n",
       "      <td>简装</td>\n",
       "      <td>0</td>\n",
       "      <td>0</td>\n",
       "      <td>1</td>\n",
       "      <td>0</td>\n",
       "      <td>1</td>\n",
       "      <td>2</td>\n",
       "    </tr>\n",
       "    <tr>\n",
       "      <th>1</th>\n",
       "      <td>2</td>\n",
       "      <td>中关村南大街甲3号 2室1厅 55.1平米</td>\n",
       "      <td>55.1</td>\n",
       "      <td>33667.0</td>\n",
       "      <td>185.5</td>\n",
       "      <td>2012-04-10</td>\n",
       "      <td>1965</td>\n",
       "      <td>2室1厅</td>\n",
       "      <td>南 北</td>\n",
       "      <td>底层(共3层)</td>\n",
       "      <td>其他</td>\n",
       "      <td>0</td>\n",
       "      <td>0</td>\n",
       "      <td>1</td>\n",
       "      <td>0</td>\n",
       "      <td>3</td>\n",
       "      <td>1</td>\n",
       "    </tr>\n",
       "    <tr>\n",
       "      <th>2</th>\n",
       "      <td>3</td>\n",
       "      <td>民族大学南路19号院 2室1厅 70平米</td>\n",
       "      <td>70</td>\n",
       "      <td>91429.0</td>\n",
       "      <td>640.0</td>\n",
       "      <td>2019-04-19</td>\n",
       "      <td>1993</td>\n",
       "      <td>2室1厅</td>\n",
       "      <td>南</td>\n",
       "      <td>中楼层(共15层)</td>\n",
       "      <td>简装</td>\n",
       "      <td>0</td>\n",
       "      <td>0</td>\n",
       "      <td>1</td>\n",
       "      <td>0</td>\n",
       "      <td>1</td>\n",
       "      <td>3</td>\n",
       "    </tr>\n",
       "    <tr>\n",
       "      <th>3</th>\n",
       "      <td>4</td>\n",
       "      <td>民族大学南路19号院 2室1厅 98.49平米</td>\n",
       "      <td>98.49</td>\n",
       "      <td>102752.0</td>\n",
       "      <td>1012.0</td>\n",
       "      <td>2019-04-07</td>\n",
       "      <td>2000</td>\n",
       "      <td>2室1厅</td>\n",
       "      <td>南</td>\n",
       "      <td>高楼层(共18层)</td>\n",
       "      <td>简装</td>\n",
       "      <td>0</td>\n",
       "      <td>0</td>\n",
       "      <td>1</td>\n",
       "      <td>0</td>\n",
       "      <td>1</td>\n",
       "      <td>4</td>\n",
       "    </tr>\n",
       "    <tr>\n",
       "      <th>4</th>\n",
       "      <td>5</td>\n",
       "      <td>民族大学南路19号院 2室1厅 60.7平米</td>\n",
       "      <td>60.7</td>\n",
       "      <td>98847.0</td>\n",
       "      <td>600.0</td>\n",
       "      <td>2019-02-22</td>\n",
       "      <td>1991</td>\n",
       "      <td>2室1厅</td>\n",
       "      <td>南</td>\n",
       "      <td>高楼层(共16层)</td>\n",
       "      <td>其他</td>\n",
       "      <td>0</td>\n",
       "      <td>0</td>\n",
       "      <td>1</td>\n",
       "      <td>0</td>\n",
       "      <td>3</td>\n",
       "      <td>4</td>\n",
       "    </tr>\n",
       "  </tbody>\n",
       "</table>\n",
       "</div>"
      ],
      "text/plain": [
       "   Housing_ID                Community Livable Area  Price/Square Meter  \\\n",
       "0           1    中关村南大街甲3号 2室1厅 56.3平米         56.3             38544.0   \n",
       "1           2    中关村南大街甲3号 2室1厅 55.1平米         55.1             33667.0   \n",
       "2           3     民族大学南路19号院 2室1厅 70平米           70             91429.0   \n",
       "3           4  民族大学南路19号院 2室1厅 98.49平米        98.49            102752.0   \n",
       "4           5   民族大学南路19号院 2室1厅 60.7平米         60.7             98847.0   \n",
       "\n",
       "    Price       Date Year Built Floor Plan Facing Direction      Floor  \\\n",
       "0   217.0 2015-05-08       1965       2室1厅              南 北   低楼层(共3层)   \n",
       "1   185.5 2012-04-10       1965       2室1厅              南 北    底层(共3层)   \n",
       "2   640.0 2019-04-19       1993       2室1厅                南  中楼层(共15层)   \n",
       "3  1012.0 2019-04-07       2000       2室1厅                南  高楼层(共18层)   \n",
       "4   600.0 2019-02-22       1991       2室1厅                南  高楼层(共16层)   \n",
       "\n",
       "  Decoration  Facing Direction2_东  Facing Direction2_北  Facing Direction2_南  \\\n",
       "0         简装                    0                    0                    1   \n",
       "1         其他                    0                    0                    1   \n",
       "2         简装                    0                    0                    1   \n",
       "3         简装                    0                    0                    1   \n",
       "4         其他                    0                    0                    1   \n",
       "\n",
       "   Facing Direction2_西 Decoration2 Floor2  \n",
       "0                    0           1      2  \n",
       "1                    0           3      1  \n",
       "2                    0           1      3  \n",
       "3                    0           1      4  \n",
       "4                    0           3      4  "
      ]
     },
     "execution_count": 297,
     "metadata": {},
     "output_type": "execute_result"
    }
   ],
   "source": [
    "df4.head(3)"
   ]
  },
  {
   "cell_type": "code",
   "execution_count": 298,
   "metadata": {},
   "outputs": [],
   "source": [
    "necessary_col = ['Housing_ID', 'Livable Area', 'Price/Square Meter','Price', 'Date', 'Year Built','Facing Direction2_东', 'Facing Direction2_北','Facing Direction2_南', 'Facing Direction2_西', 'Decoration2', 'Floor2']\n",
    "final_df = df4[necessary_col]    \n",
    "    "
   ]
  },
  {
   "cell_type": "code",
   "execution_count": 303,
   "metadata": {},
   "outputs": [],
   "source": [
    "final_df = final_df.rename(columns={\"Facing Direction2_东\": \"Facing_East\", \"Facing Direction2_北\": \"Facing_North\", \"Facing Direction2_南\": 'Facing_South', \"Facing Direction2_西\": 'Facing_West', \"Decoration2\": 'Decoration_Level', \"Floor2\": 'Floor_Level'})\n",
    "\n"
   ]
  },
  {
   "cell_type": "code",
   "execution_count": 305,
   "metadata": {},
   "outputs": [
    {
     "data": {
      "text/html": [
       "<div>\n",
       "<style scoped>\n",
       "    .dataframe tbody tr th:only-of-type {\n",
       "        vertical-align: middle;\n",
       "    }\n",
       "\n",
       "    .dataframe tbody tr th {\n",
       "        vertical-align: top;\n",
       "    }\n",
       "\n",
       "    .dataframe thead th {\n",
       "        text-align: right;\n",
       "    }\n",
       "</style>\n",
       "<table border=\"1\" class=\"dataframe\">\n",
       "  <thead>\n",
       "    <tr style=\"text-align: right;\">\n",
       "      <th></th>\n",
       "      <th>Housing_ID</th>\n",
       "      <th>Livable Area</th>\n",
       "      <th>Price/Square Meter</th>\n",
       "      <th>Price</th>\n",
       "      <th>Date</th>\n",
       "      <th>Year Built</th>\n",
       "      <th>Facing_East</th>\n",
       "      <th>Facing_North</th>\n",
       "      <th>Facing_South</th>\n",
       "      <th>Facing_West</th>\n",
       "      <th>Decoration_Level</th>\n",
       "      <th>Floor_Level</th>\n",
       "    </tr>\n",
       "  </thead>\n",
       "  <tbody>\n",
       "    <tr>\n",
       "      <th>62205</th>\n",
       "      <td>62206</td>\n",
       "      <td>41.6</td>\n",
       "      <td>86539.0</td>\n",
       "      <td>360.0</td>\n",
       "      <td>2017-11-26</td>\n",
       "      <td>1993</td>\n",
       "      <td>1</td>\n",
       "      <td>0</td>\n",
       "      <td>0</td>\n",
       "      <td>0</td>\n",
       "      <td>2</td>\n",
       "      <td>4</td>\n",
       "    </tr>\n",
       "    <tr>\n",
       "      <th>18534</th>\n",
       "      <td>18535</td>\n",
       "      <td>53.06</td>\n",
       "      <td>32040.0</td>\n",
       "      <td>170.0</td>\n",
       "      <td>2014-07-30</td>\n",
       "      <td>2010</td>\n",
       "      <td>1</td>\n",
       "      <td>0</td>\n",
       "      <td>0</td>\n",
       "      <td>0</td>\n",
       "      <td>2</td>\n",
       "      <td>4</td>\n",
       "    </tr>\n",
       "    <tr>\n",
       "      <th>35709</th>\n",
       "      <td>35710</td>\n",
       "      <td>42.8</td>\n",
       "      <td>62617.0</td>\n",
       "      <td>268.0</td>\n",
       "      <td>2015-11-15</td>\n",
       "      <td>1989</td>\n",
       "      <td>0</td>\n",
       "      <td>0</td>\n",
       "      <td>1</td>\n",
       "      <td>0</td>\n",
       "      <td>1</td>\n",
       "      <td>4</td>\n",
       "    </tr>\n",
       "    <tr>\n",
       "      <th>66032</th>\n",
       "      <td>66033</td>\n",
       "      <td>58.8</td>\n",
       "      <td>102892.0</td>\n",
       "      <td>605.0</td>\n",
       "      <td>2017-04-06</td>\n",
       "      <td>1992</td>\n",
       "      <td>0</td>\n",
       "      <td>0</td>\n",
       "      <td>1</td>\n",
       "      <td>0</td>\n",
       "      <td>2</td>\n",
       "      <td>2</td>\n",
       "    </tr>\n",
       "    <tr>\n",
       "      <th>28190</th>\n",
       "      <td>28191</td>\n",
       "      <td>67.9</td>\n",
       "      <td>79529.0</td>\n",
       "      <td>540.0</td>\n",
       "      <td>2019-04-14</td>\n",
       "      <td>1998</td>\n",
       "      <td>0</td>\n",
       "      <td>0</td>\n",
       "      <td>1</td>\n",
       "      <td>0</td>\n",
       "      <td>1</td>\n",
       "      <td>3</td>\n",
       "    </tr>\n",
       "    <tr>\n",
       "      <th>41844</th>\n",
       "      <td>41845</td>\n",
       "      <td>223.81</td>\n",
       "      <td>33869.0</td>\n",
       "      <td>758.0</td>\n",
       "      <td>2012-12-07</td>\n",
       "      <td>2008</td>\n",
       "      <td>0</td>\n",
       "      <td>0</td>\n",
       "      <td>1</td>\n",
       "      <td>0</td>\n",
       "      <td>3</td>\n",
       "      <td>3</td>\n",
       "    </tr>\n",
       "    <tr>\n",
       "      <th>32025</th>\n",
       "      <td>32026</td>\n",
       "      <td>73.8</td>\n",
       "      <td>48374.0</td>\n",
       "      <td>357.0</td>\n",
       "      <td>2013-01-14</td>\n",
       "      <td>1997</td>\n",
       "      <td>0</td>\n",
       "      <td>0</td>\n",
       "      <td>1</td>\n",
       "      <td>0</td>\n",
       "      <td>3</td>\n",
       "      <td>2</td>\n",
       "    </tr>\n",
       "    <tr>\n",
       "      <th>29347</th>\n",
       "      <td>29348</td>\n",
       "      <td>84.43</td>\n",
       "      <td>74619.0</td>\n",
       "      <td>630.0</td>\n",
       "      <td>2018-03-03</td>\n",
       "      <td>2003</td>\n",
       "      <td>1</td>\n",
       "      <td>0</td>\n",
       "      <td>0</td>\n",
       "      <td>0</td>\n",
       "      <td>2</td>\n",
       "      <td>3</td>\n",
       "    </tr>\n",
       "    <tr>\n",
       "      <th>19977</th>\n",
       "      <td>19978</td>\n",
       "      <td>84</td>\n",
       "      <td>56310.0</td>\n",
       "      <td>473.0</td>\n",
       "      <td>2015-07-24</td>\n",
       "      <td>1990</td>\n",
       "      <td>0</td>\n",
       "      <td>0</td>\n",
       "      <td>1</td>\n",
       "      <td>0</td>\n",
       "      <td>1</td>\n",
       "      <td>4</td>\n",
       "    </tr>\n",
       "    <tr>\n",
       "      <th>1963</th>\n",
       "      <td>1964</td>\n",
       "      <td>54.4</td>\n",
       "      <td>56802.0</td>\n",
       "      <td>309.0</td>\n",
       "      <td>2018-01-14</td>\n",
       "      <td>1984</td>\n",
       "      <td>0</td>\n",
       "      <td>0</td>\n",
       "      <td>1</td>\n",
       "      <td>0</td>\n",
       "      <td>0</td>\n",
       "      <td>2</td>\n",
       "    </tr>\n",
       "    <tr>\n",
       "      <th>30067</th>\n",
       "      <td>30068</td>\n",
       "      <td>125.51</td>\n",
       "      <td>54817.0</td>\n",
       "      <td>688.0</td>\n",
       "      <td>2015-12-06</td>\n",
       "      <td>2002</td>\n",
       "      <td>1</td>\n",
       "      <td>0</td>\n",
       "      <td>0</td>\n",
       "      <td>0</td>\n",
       "      <td>2</td>\n",
       "      <td>3</td>\n",
       "    </tr>\n",
       "    <tr>\n",
       "      <th>48783</th>\n",
       "      <td>48784</td>\n",
       "      <td>61.4</td>\n",
       "      <td>44789.0</td>\n",
       "      <td>275.0</td>\n",
       "      <td>2013-06-01</td>\n",
       "      <td>1990</td>\n",
       "      <td>0</td>\n",
       "      <td>0</td>\n",
       "      <td>1</td>\n",
       "      <td>0</td>\n",
       "      <td>3</td>\n",
       "      <td>3</td>\n",
       "    </tr>\n",
       "    <tr>\n",
       "      <th>23423</th>\n",
       "      <td>23424</td>\n",
       "      <td>92.78</td>\n",
       "      <td>79759.0</td>\n",
       "      <td>740.0</td>\n",
       "      <td>2018-07-08</td>\n",
       "      <td>1998</td>\n",
       "      <td>0</td>\n",
       "      <td>0</td>\n",
       "      <td>1</td>\n",
       "      <td>0</td>\n",
       "      <td>1</td>\n",
       "      <td>2</td>\n",
       "    </tr>\n",
       "    <tr>\n",
       "      <th>59046</th>\n",
       "      <td>59047</td>\n",
       "      <td>85.2</td>\n",
       "      <td>67489.0</td>\n",
       "      <td>575.0</td>\n",
       "      <td>2016-11-30</td>\n",
       "      <td>1993</td>\n",
       "      <td>0</td>\n",
       "      <td>0</td>\n",
       "      <td>1</td>\n",
       "      <td>0</td>\n",
       "      <td>2</td>\n",
       "      <td>4</td>\n",
       "    </tr>\n",
       "    <tr>\n",
       "      <th>59958</th>\n",
       "      <td>59959</td>\n",
       "      <td>60.6</td>\n",
       "      <td>61222.0</td>\n",
       "      <td>371.0</td>\n",
       "      <td>2016-06-28</td>\n",
       "      <td>1996</td>\n",
       "      <td>1</td>\n",
       "      <td>0</td>\n",
       "      <td>0</td>\n",
       "      <td>0</td>\n",
       "      <td>2</td>\n",
       "      <td>4</td>\n",
       "    </tr>\n",
       "  </tbody>\n",
       "</table>\n",
       "</div>"
      ],
      "text/plain": [
       "       Housing_ID Livable Area  Price/Square Meter  Price       Date  \\\n",
       "62205       62206         41.6             86539.0  360.0 2017-11-26   \n",
       "18534       18535        53.06             32040.0  170.0 2014-07-30   \n",
       "35709       35710         42.8             62617.0  268.0 2015-11-15   \n",
       "66032       66033         58.8            102892.0  605.0 2017-04-06   \n",
       "28190       28191         67.9             79529.0  540.0 2019-04-14   \n",
       "41844       41845       223.81             33869.0  758.0 2012-12-07   \n",
       "32025       32026         73.8             48374.0  357.0 2013-01-14   \n",
       "29347       29348        84.43             74619.0  630.0 2018-03-03   \n",
       "19977       19978           84             56310.0  473.0 2015-07-24   \n",
       "1963         1964         54.4             56802.0  309.0 2018-01-14   \n",
       "30067       30068       125.51             54817.0  688.0 2015-12-06   \n",
       "48783       48784         61.4             44789.0  275.0 2013-06-01   \n",
       "23423       23424        92.78             79759.0  740.0 2018-07-08   \n",
       "59046       59047         85.2             67489.0  575.0 2016-11-30   \n",
       "59958       59959         60.6             61222.0  371.0 2016-06-28   \n",
       "\n",
       "      Year Built  Facing_East  Facing_North  Facing_South  Facing_West  \\\n",
       "62205       1993            1             0             0            0   \n",
       "18534       2010            1             0             0            0   \n",
       "35709       1989            0             0             1            0   \n",
       "66032       1992            0             0             1            0   \n",
       "28190       1998            0             0             1            0   \n",
       "41844       2008            0             0             1            0   \n",
       "32025       1997            0             0             1            0   \n",
       "29347       2003            1             0             0            0   \n",
       "19977       1990            0             0             1            0   \n",
       "1963        1984            0             0             1            0   \n",
       "30067       2002            1             0             0            0   \n",
       "48783       1990            0             0             1            0   \n",
       "23423       1998            0             0             1            0   \n",
       "59046       1993            0             0             1            0   \n",
       "59958       1996            1             0             0            0   \n",
       "\n",
       "      Decoration_Level Floor_Level  \n",
       "62205                2           4  \n",
       "18534                2           4  \n",
       "35709                1           4  \n",
       "66032                2           2  \n",
       "28190                1           3  \n",
       "41844                3           3  \n",
       "32025                3           2  \n",
       "29347                2           3  \n",
       "19977                1           4  \n",
       "1963                 0           2  \n",
       "30067                2           3  \n",
       "48783                3           3  \n",
       "23423                1           2  \n",
       "59046                2           4  \n",
       "59958                2           4  "
      ]
     },
     "execution_count": 305,
     "metadata": {},
     "output_type": "execute_result"
    }
   ],
   "source": [
    "final_df.sample(15)"
   ]
  },
  {
   "cell_type": "code",
   "execution_count": 310,
   "metadata": {},
   "outputs": [],
   "source": [
    "# get a list of columns\n",
    "cols = list(final_df)\n",
    "# move the column to head of list using index, pop and insert\n",
    "cols.insert(0, cols.pop(cols.index('Price/Square Meter')))\n",
    "cols\n",
    "\n",
    "\n",
    "# Move the response variable to left-most\n",
    "final_df2 = final_df[cols]"
   ]
  },
  {
   "cell_type": "code",
   "execution_count": 1,
   "metadata": {},
   "outputs": [
    {
     "ename": "NameError",
     "evalue": "name 'final_df2' is not defined",
     "output_type": "error",
     "traceback": [
      "\u001b[0;31m---------------------------------------------------------------------------\u001b[0m",
      "\u001b[0;31mNameError\u001b[0m                                 Traceback (most recent call last)",
      "\u001b[0;32m<ipython-input-1-35cd3ea59c7a>\u001b[0m in \u001b[0;36m<module>\u001b[0;34m\u001b[0m\n\u001b[0;32m----> 1\u001b[0;31m \u001b[0mfinal_df2\u001b[0m\u001b[0;34m.\u001b[0m\u001b[0mto_csv\u001b[0m\u001b[0;34m(\u001b[0m\u001b[0;34m\"prepared_data.csv\"\u001b[0m\u001b[0;34m,\u001b[0m \u001b[0msep\u001b[0m\u001b[0;34m=\u001b[0m\u001b[0;34m','\u001b[0m\u001b[0;34m,\u001b[0m \u001b[0mindex\u001b[0m\u001b[0;34m=\u001b[0m\u001b[0;32mFalse\u001b[0m\u001b[0;34m)\u001b[0m\u001b[0;34m\u001b[0m\u001b[0;34m\u001b[0m\u001b[0m\n\u001b[0m",
      "\u001b[0;31mNameError\u001b[0m: name 'final_df2' is not defined"
     ]
    }
   ],
   "source": [
    "final_df2.to_csv(\"prepared_data.csv\", sep=',', index=False)"
   ]
  },
  {
   "cell_type": "code",
   "execution_count": null,
   "metadata": {},
   "outputs": [],
   "source": []
  },
  {
   "cell_type": "code",
   "execution_count": 313,
   "metadata": {},
   "outputs": [],
   "source": [
    "from sklearn.model_selection import train_test_split\n",
    "train, test_and_validate = train_test_split(final_df2, test_size=0.2, random_state=42)"
   ]
  },
  {
   "cell_type": "code",
   "execution_count": 314,
   "metadata": {},
   "outputs": [],
   "source": [
    "test, validate = train_test_split(test_and_validate, test_size=0.5, random_state=42)"
   ]
  },
  {
   "cell_type": "code",
   "execution_count": 315,
   "metadata": {},
   "outputs": [
    {
     "name": "stdout",
     "output_type": "stream",
     "text": [
      "(55443, 12)\n",
      "(6930, 12)\n",
      "(6931, 12)\n"
     ]
    }
   ],
   "source": [
    "print(train.shape)\n",
    "print(test.shape)\n",
    "print(validate.shape)"
   ]
  },
  {
   "cell_type": "code",
   "execution_count": 324,
   "metadata": {},
   "outputs": [
    {
     "name": "stdout",
     "output_type": "stream",
     "text": [
      "50000.0     68\n",
      "100000.0    40\n",
      "60000.0     29\n",
      "80000.0     25\n",
      "90910.0     25\n",
      "            ..\n",
      "63910.0      1\n",
      "25048.0      1\n",
      "62889.0      1\n",
      "71050.0      1\n",
      "19453.0      1\n",
      "Name: Price/Square Meter, Length: 38159, dtype: int64\n"
     ]
    }
   ],
   "source": [
    "# 随机抽样的部分可能有问题，后面再回来检查\n",
    "print(train['Price/Square Meter'].value_counts())"
   ]
  },
  {
   "cell_type": "code",
   "execution_count": 318,
   "metadata": {},
   "outputs": [
    {
     "name": "stdout",
     "output_type": "stream",
     "text": [
      "50000.0     9\n",
      "80000.0     6\n",
      "60000.0     5\n",
      "41997.0     4\n",
      "45455.0     4\n",
      "           ..\n",
      "88908.0     1\n",
      "66844.0     1\n",
      "42672.0     1\n",
      "60409.0     1\n",
      "102400.0    1\n",
      "Name: Price/Square Meter, Length: 6505, dtype: int64\n"
     ]
    }
   ],
   "source": [
    "print(test['Price/Square Meter'].value_counts())"
   ]
  },
  {
   "cell_type": "code",
   "execution_count": 319,
   "metadata": {},
   "outputs": [
    {
     "name": "stdout",
     "output_type": "stream",
     "text": [
      "50000.0    8\n",
      "39635.0    4\n",
      "49100.0    4\n",
      "66667.0    4\n",
      "43528.0    3\n",
      "          ..\n",
      "36996.0    1\n",
      "58109.0    1\n",
      "52342.0    1\n",
      "54965.0    1\n",
      "2.0        1\n",
      "Name: Price/Square Meter, Length: 6548, dtype: int64\n"
     ]
    }
   ],
   "source": [
    "print(validate['Price/Square Meter'].value_counts())"
   ]
  },
  {
   "cell_type": "code",
   "execution_count": 325,
   "metadata": {},
   "outputs": [],
   "source": [
    "# Export train, test, validation df into .csv files\n",
    "\n",
    "train.to_csv(r'/Users/lin-chuntseng/Desktop/housing_training_dataset.csv', index = False, header = False)\n",
    "test.to_csv(r'/Users/lin-chuntseng/Desktop/housing_testing_dataset.csv', index = False, header = False)\n",
    "validate.to_csv(r'/Users/lin-chuntseng/Desktop/housing_validation_dataset.csv', index = False, header = False)"
   ]
  },
  {
   "cell_type": "code",
   "execution_count": null,
   "metadata": {},
   "outputs": [],
   "source": [
    "bucket=''\n",
    "\n",
    "prefix='lab3'\n",
    "\n",
    "train_file='housing_training_dataset.csv'\n",
    "test_file='housing_testing_dataset.csv'\n",
    "validate_file='housing_validation_dataset.csv'\n",
    "\n",
    "import os\n",
    "\n",
    "s3_resource = boto3.Session().resource('s3')\n",
    "\n",
    "def upload_s3_csv(filename, folder, dataframe):\n",
    "    csv_buffer = io.StringIO()\n",
    "    dataframe.to_csv(csv_buffer, header=False, index=False)\n",
    "    s3_resource.Bucket(bucket).Object(os.path.join(prefix, folder, filename)).put(Body=csv_buffer.getvalue())"
   ]
  },
  {
   "cell_type": "code",
   "execution_count": null,
   "metadata": {},
   "outputs": [],
   "source": [
    "upload_s3_csv(train_file, 'train', train)\n",
    "upload_s3_csv(test_file, 'test', test)\n",
    "upload_s3_csv(validate_file, 'validate', validate)"
   ]
  },
  {
   "cell_type": "code",
   "execution_count": null,
   "metadata": {},
   "outputs": [],
   "source": []
  },
  {
   "cell_type": "code",
   "execution_count": 1,
   "metadata": {},
   "outputs": [
    {
     "name": "stdout",
     "output_type": "stream",
     "text": [
      "Requirement already satisfied: boto3 in /home/ec2-user/anaconda3/envs/python3/lib/python3.6/site-packages (1.15.16)\n",
      "Requirement already satisfied: awscli in /home/ec2-user/anaconda3/envs/python3/lib/python3.6/site-packages (1.18.157)\n",
      "Requirement already satisfied: botocore<1.19.0,>=1.18.16 in /home/ec2-user/anaconda3/envs/python3/lib/python3.6/site-packages (from boto3) (1.18.16)\n",
      "Requirement already satisfied: jmespath<1.0.0,>=0.7.1 in /home/ec2-user/anaconda3/envs/python3/lib/python3.6/site-packages (from boto3) (0.10.0)\n",
      "Requirement already satisfied: s3transfer<0.4.0,>=0.3.0 in /home/ec2-user/anaconda3/envs/python3/lib/python3.6/site-packages (from boto3) (0.3.3)\n",
      "Requirement already satisfied: PyYAML<5.4,>=3.10; python_version != \"3.4\" in /home/ec2-user/anaconda3/envs/python3/lib/python3.6/site-packages (from awscli) (5.3.1)\n",
      "Requirement already satisfied: colorama<0.4.4,>=0.2.5; python_version != \"3.4\" in /home/ec2-user/anaconda3/envs/python3/lib/python3.6/site-packages (from awscli) (0.4.3)\n",
      "Requirement already satisfied: docutils<0.16,>=0.10 in /home/ec2-user/anaconda3/envs/python3/lib/python3.6/site-packages (from awscli) (0.15.2)\n",
      "Requirement already satisfied: rsa<=4.5.0,>=3.1.2; python_version != \"3.4\" in /home/ec2-user/anaconda3/envs/python3/lib/python3.6/site-packages (from awscli) (4.5)\n",
      "Requirement already satisfied: python-dateutil<3.0.0,>=2.1 in /home/ec2-user/anaconda3/envs/python3/lib/python3.6/site-packages (from botocore<1.19.0,>=1.18.16->boto3) (2.8.1)\n",
      "Requirement already satisfied: urllib3<1.26,>=1.20; python_version != \"3.4\" in /home/ec2-user/anaconda3/envs/python3/lib/python3.6/site-packages (from botocore<1.19.0,>=1.18.16->boto3) (1.25.10)\n",
      "Requirement already satisfied: pyasn1>=0.1.3 in /home/ec2-user/anaconda3/envs/python3/lib/python3.6/site-packages (from rsa<=4.5.0,>=3.1.2; python_version != \"3.4\"->awscli) (0.4.8)\n",
      "Requirement already satisfied: six>=1.5 in /home/ec2-user/anaconda3/envs/python3/lib/python3.6/site-packages (from python-dateutil<3.0.0,>=2.1->botocore<1.19.0,>=1.18.16->boto3) (1.14.0)\n",
      "\u001b[33mWARNING: You are using pip version 20.0.2; however, version 20.2.4 is available.\n",
      "You should consider upgrading via the '/home/ec2-user/anaconda3/envs/python3/bin/python -m pip install --upgrade pip' command.\u001b[0m\n",
      "Note: you may need to restart the kernel to use updated packages.\n"
     ]
    }
   ],
   "source": [
    "pip install boto3 awscli"
   ]
  },
  {
   "cell_type": "code",
   "execution_count": 2,
   "metadata": {},
   "outputs": [
    {
     "name": "stdout",
     "output_type": "stream",
     "text": [
      "haidianhousing\n",
      "sagemaker-studio-774975782106-2chr2iygtx2\n",
      "sagemaker-studio-us-east-1-774975782106\n"
     ]
    }
   ],
   "source": [
    "import boto3\n",
    "\n",
    "# Let's use Amazon S3\n",
    "s3 = boto3.resource('s3')\n",
    "# Print out bucket names\n",
    "for bucket in s3.buckets.all():\n",
    "    print(bucket.name)"
   ]
  },
  {
   "cell_type": "code",
   "execution_count": 3,
   "metadata": {},
   "outputs": [],
   "source": [
    "import os\n",
    "import numpy as np\n",
    "import pandas as pd\n",
    "\n",
    "from sklearn.datasets import load_boston\n",
    "import sklearn.model_selection"
   ]
  },
  {
   "cell_type": "code",
   "execution_count": 4,
   "metadata": {},
   "outputs": [],
   "source": [
    "import sagemaker\n",
    "from sagemaker import get_execution_role\n",
    "from sagemaker.amazon.amazon_estimator import get_image_uri\n",
    "from sagemaker.predictor import csv_serializer\n",
    "\n",
    "session = sagemaker.Session()\n",
    "role = get_execution_role"
   ]
  },
  {
   "cell_type": "code",
   "execution_count": 6,
   "metadata": {},
   "outputs": [],
   "source": [
    "import pandas as pd\n",
    "from sagemaker import get_execution_role\n",
    "\n",
    "role = get_execution_role()\n",
    "bucket='haidianhousing'\n",
    "data_key = 'housing_training_dataset.csv'\n",
    "data_location = 's3://{}/{}'.format(bucket, data_key)\n",
    "\n",
    "training_housing = pd.read_csv(data_location)"
   ]
  },
  {
   "cell_type": "code",
   "execution_count": 7,
   "metadata": {},
   "outputs": [
    {
     "data": {
      "text/html": [
       "<div>\n",
       "<style scoped>\n",
       "    .dataframe tbody tr th:only-of-type {\n",
       "        vertical-align: middle;\n",
       "    }\n",
       "\n",
       "    .dataframe tbody tr th {\n",
       "        vertical-align: top;\n",
       "    }\n",
       "\n",
       "    .dataframe thead th {\n",
       "        text-align: right;\n",
       "    }\n",
       "</style>\n",
       "<table border=\"1\" class=\"dataframe\">\n",
       "  <thead>\n",
       "    <tr style=\"text-align: right;\">\n",
       "      <th></th>\n",
       "      <th>Price/Square Meter</th>\n",
       "      <th>Housing_ID</th>\n",
       "      <th>Livable Area</th>\n",
       "      <th>Price</th>\n",
       "      <th>Date</th>\n",
       "      <th>Facing_East</th>\n",
       "      <th>Facing_North</th>\n",
       "      <th>Facing_South</th>\n",
       "      <th>Facing_West</th>\n",
       "      <th>Decoration_Level</th>\n",
       "      <th>Floor_Level</th>\n",
       "    </tr>\n",
       "  </thead>\n",
       "  <tbody>\n",
       "    <tr>\n",
       "      <th>0</th>\n",
       "      <td>107750.0</td>\n",
       "      <td>35176</td>\n",
       "      <td>40.00</td>\n",
       "      <td>431.0</td>\n",
       "      <td>2018-11-04</td>\n",
       "      <td>0</td>\n",
       "      <td>0</td>\n",
       "      <td>1</td>\n",
       "      <td>0</td>\n",
       "      <td>2</td>\n",
       "      <td>1</td>\n",
       "    </tr>\n",
       "    <tr>\n",
       "      <th>1</th>\n",
       "      <td>39485.0</td>\n",
       "      <td>50534</td>\n",
       "      <td>96.24</td>\n",
       "      <td>380.0</td>\n",
       "      <td>2014-09-22</td>\n",
       "      <td>0</td>\n",
       "      <td>0</td>\n",
       "      <td>1</td>\n",
       "      <td>0</td>\n",
       "      <td>2</td>\n",
       "      <td>2</td>\n",
       "    </tr>\n",
       "    <tr>\n",
       "      <th>2</th>\n",
       "      <td>66130.0</td>\n",
       "      <td>54157</td>\n",
       "      <td>62.00</td>\n",
       "      <td>410.0</td>\n",
       "      <td>2016-08-31</td>\n",
       "      <td>1</td>\n",
       "      <td>0</td>\n",
       "      <td>0</td>\n",
       "      <td>0</td>\n",
       "      <td>1</td>\n",
       "      <td>4</td>\n",
       "    </tr>\n",
       "    <tr>\n",
       "      <th>3</th>\n",
       "      <td>55461.0</td>\n",
       "      <td>32909</td>\n",
       "      <td>58.60</td>\n",
       "      <td>325.0</td>\n",
       "      <td>2013-05-21</td>\n",
       "      <td>0</td>\n",
       "      <td>0</td>\n",
       "      <td>1</td>\n",
       "      <td>0</td>\n",
       "      <td>3</td>\n",
       "      <td>1</td>\n",
       "    </tr>\n",
       "    <tr>\n",
       "      <th>4</th>\n",
       "      <td>45725.0</td>\n",
       "      <td>45008</td>\n",
       "      <td>77.42</td>\n",
       "      <td>354.0</td>\n",
       "      <td>2016-08-30</td>\n",
       "      <td>0</td>\n",
       "      <td>0</td>\n",
       "      <td>1</td>\n",
       "      <td>0</td>\n",
       "      <td>2</td>\n",
       "      <td>3</td>\n",
       "    </tr>\n",
       "  </tbody>\n",
       "</table>\n",
       "</div>"
      ],
      "text/plain": [
       "   Price/Square Meter  Housing_ID  Livable Area  Price        Date  \\\n",
       "0            107750.0       35176         40.00  431.0  2018-11-04   \n",
       "1             39485.0       50534         96.24  380.0  2014-09-22   \n",
       "2             66130.0       54157         62.00  410.0  2016-08-31   \n",
       "3             55461.0       32909         58.60  325.0  2013-05-21   \n",
       "4             45725.0       45008         77.42  354.0  2016-08-30   \n",
       "\n",
       "   Facing_East  Facing_North  Facing_South  Facing_West  Decoration_Level  \\\n",
       "0            0             0             1            0                 2   \n",
       "1            0             0             1            0                 2   \n",
       "2            1             0             0            0                 1   \n",
       "3            0             0             1            0                 3   \n",
       "4            0             0             1            0                 2   \n",
       "\n",
       "   Floor_Level  \n",
       "0            1  \n",
       "1            2  \n",
       "2            4  \n",
       "3            1  \n",
       "4            3  "
      ]
     },
     "execution_count": 7,
     "metadata": {},
     "output_type": "execute_result"
    }
   ],
   "source": [
    "training_housing.head()"
   ]
  },
  {
   "cell_type": "code",
   "execution_count": null,
   "metadata": {},
   "outputs": [],
   "source": [
    "from sagemaker.image_uris import retrieve\n",
    "container = retrieve('xgboost',boto3.Session().region_name,'1.0-1')\n"
   ]
  },
  {
   "cell_type": "code",
   "execution_count": null,
   "metadata": {},
   "outputs": [],
   "source": [
    "hyperparams={\"num_round\":\"42\",\n",
    "             \"eval_metric\": \"rmse\",\n",
    "             \"objective\": \"reg:linear\"}"
   ]
  },
  {
   "cell_type": "code",
   "execution_count": null,
   "metadata": {},
   "outputs": [],
   "source": [
    "import sagemaker\n",
    "s3_output_location=\"s3://{}/{}/output/\".format(bucket,prefix)\n",
    "xgb_model=sagemaker.estimator.Estimator(container,\n",
    "                                       sagemaker.get_execution_role(),\n",
    "                                       instance_count=1,\n",
    "                                       instance_type='ml.m4.xlarge',\n",
    "                                       output_path=s3_output_location,\n",
    "                                        hyperparameters=hyperparams,\n",
    "                                        sagemaker_session=sagemaker.Session())"
   ]
  },
  {
   "cell_type": "code",
   "execution_count": null,
   "metadata": {},
   "outputs": [],
   "source": [
    "train_channel = sagemaker.inputs.TrainingInput(\n",
    "    \"s3://{}/{}/train/\".format(bucket,prefix,train_file),\n",
    "    content_type='text/csv')\n",
    "\n",
    "validate_channel = sagemaker.inputs.TrainingInput(\n",
    "    \"s3://{}/{}/validate/\".format(bucket,prefix,validate_file),\n",
    "    content_type='text/csv')\n",
    "\n",
    "data_channels = {'train': train_channel, 'validation': validate_channel}"
   ]
  },
  {
   "cell_type": "code",
   "execution_count": null,
   "metadata": {},
   "outputs": [],
   "source": [
    "xgb_model.fit(inputs=data_channels, logs=False)"
   ]
  },
  {
   "cell_type": "code",
   "execution_count": null,
   "metadata": {},
   "outputs": [],
   "source": []
  }
 ],
 "metadata": {
  "kernelspec": {
   "display_name": "Python 3",
   "language": "python",
   "name": "python3"
  },
  "language_info": {
   "codemirror_mode": {
    "name": "ipython",
    "version": 3
   },
   "file_extension": ".py",
   "mimetype": "text/x-python",
   "name": "python",
   "nbconvert_exporter": "python",
   "pygments_lexer": "ipython3",
   "version": "3.8.3"
  }
 },
 "nbformat": 4,
 "nbformat_minor": 4
}
