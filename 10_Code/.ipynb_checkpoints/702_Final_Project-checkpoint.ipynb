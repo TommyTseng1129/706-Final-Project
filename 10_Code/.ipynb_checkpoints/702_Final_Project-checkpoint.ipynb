{
 "cells": [
  {
   "cell_type": "code",
   "execution_count": 138,
   "metadata": {},
   "outputs": [],
   "source": [
    "import pandas as pd\n",
    "import os  \n",
    "import numpy as np\n",
    "import matplotlib.pyplot as plt\n",
    "import matplotlib\n",
    "import seaborn as sns"
   ]
  },
  {
   "cell_type": "code",
   "execution_count": 139,
   "metadata": {},
   "outputs": [
    {
     "name": "stdout",
     "output_type": "stream",
     "text": [
      "/Users/Reinhard/706-Final-Project\n"
     ]
    }
   ],
   "source": [
    "cwd = os.getcwd()\n",
    "print(cwd)"
   ]
  },
  {
   "cell_type": "code",
   "execution_count": 97,
   "metadata": {},
   "outputs": [
    {
     "name": "stdout",
     "output_type": "stream",
     "text": [
      "/Users/Reinhard/706-Final-Project\n"
     ]
    }
   ],
   "source": [
    "os.chdir('/Users/Reinhard/706-Final-Project')#更改路径，''里面为更改的路径\n",
    " \n",
    "print(os.getcwd())#显示当前路径"
   ]
  },
  {
   "cell_type": "code",
   "execution_count": 98,
   "metadata": {},
   "outputs": [],
   "source": [
    "df = pd.read_csv(\"./00_Source_Data/raw_haidian.csv\")"
   ]
  },
  {
   "cell_type": "code",
   "execution_count": 99,
   "metadata": {
    "scrolled": true
   },
   "outputs": [],
   "source": [
    "df = df.rename(columns={\"Transaction Date\": \"Date\", \"Housing ID\": \"Community\", \"Unnamed: 0\": 'Housing_ID'})"
   ]
  },
  {
   "cell_type": "code",
   "execution_count": 100,
   "metadata": {},
   "outputs": [
    {
     "data": {
      "text/plain": [
       "(72435, 11)"
      ]
     },
     "execution_count": 100,
     "metadata": {},
     "output_type": "execute_result"
    }
   ],
   "source": [
    "# Original size of the dataframe\n",
    "df.shape"
   ]
  },
  {
   "cell_type": "code",
   "execution_count": 101,
   "metadata": {},
   "outputs": [
    {
     "data": {
      "text/plain": [
       "Index(['Housing_ID', 'Community', 'Livable Area', 'Price/Square Meter',\n",
       "       'Price', 'Date', 'Year Built', 'Floor Plan', 'Facing Direction',\n",
       "       'Floor', 'Decoration'],\n",
       "      dtype='object')"
      ]
     },
     "execution_count": 101,
     "metadata": {},
     "output_type": "execute_result"
    }
   ],
   "source": [
    "df.columns"
   ]
  },
  {
   "cell_type": "code",
   "execution_count": 102,
   "metadata": {},
   "outputs": [],
   "source": [
    "# Livable Area convert into float\n",
    "\n",
    "df['Livable Area'] = df['Livable Area'].astype('str').str[:-2]"
   ]
  },
  {
   "cell_type": "code",
   "execution_count": 103,
   "metadata": {},
   "outputs": [],
   "source": [
    "# Keep the first 4 digits for 'Year Built' \n",
    "df['Year Built'] = df['Year Built'].astype('str').str[0:4]"
   ]
  },
  {
   "cell_type": "code",
   "execution_count": 104,
   "metadata": {},
   "outputs": [],
   "source": [
    "# Convert dtype of Transaction Date\n",
    "df['Date'] = pd.to_datetime(df.Date)"
   ]
  },
  {
   "cell_type": "code",
   "execution_count": 105,
   "metadata": {},
   "outputs": [],
   "source": [
    "# Create a new column for keeping the first character of Facing Direction\n",
    "df['Facing Direction2'] = df['Facing Direction'].astype('str').str[0:1]"
   ]
  },
  {
   "cell_type": "code",
   "execution_count": 106,
   "metadata": {},
   "outputs": [],
   "source": [
    "df = pd.get_dummies(df,columns=['Facing Direction2'])"
   ]
  },
  {
   "cell_type": "code",
   "execution_count": 107,
   "metadata": {},
   "outputs": [
    {
     "data": {
      "text/plain": [
       "(72364, 17)"
      ]
     },
     "execution_count": 107,
     "metadata": {},
     "output_type": "execute_result"
    }
   ],
   "source": [
    "# Drop missing rows for facing direction2 (dropped 71 rows)\n",
    "df2 = df[(df['Facing Direction2_n'] != 1) & (df['Facing Direction2_暂'] != 1)]\n",
    "df2.shape"
   ]
  },
  {
   "cell_type": "code",
   "execution_count": 108,
   "metadata": {},
   "outputs": [],
   "source": [
    "# Drop unnecessary columns for facing direction2_n and facing direction2_暂\n",
    "df2 = df2.drop(columns=[\"Facing Direction2_n\", \"Facing Direction2_暂\"])"
   ]
  },
  {
   "cell_type": "code",
   "execution_count": 109,
   "metadata": {},
   "outputs": [
    {
     "data": {
      "text/html": [
       "<div>\n",
       "<style scoped>\n",
       "    .dataframe tbody tr th:only-of-type {\n",
       "        vertical-align: middle;\n",
       "    }\n",
       "\n",
       "    .dataframe tbody tr th {\n",
       "        vertical-align: top;\n",
       "    }\n",
       "\n",
       "    .dataframe thead th {\n",
       "        text-align: right;\n",
       "    }\n",
       "</style>\n",
       "<table border=\"1\" class=\"dataframe\">\n",
       "  <thead>\n",
       "    <tr style=\"text-align: right;\">\n",
       "      <th></th>\n",
       "      <th>Housing_ID</th>\n",
       "      <th>Community</th>\n",
       "      <th>Livable Area</th>\n",
       "      <th>Price/Square Meter</th>\n",
       "      <th>Price</th>\n",
       "      <th>Date</th>\n",
       "      <th>Year Built</th>\n",
       "      <th>Floor Plan</th>\n",
       "      <th>Facing Direction</th>\n",
       "      <th>Floor</th>\n",
       "      <th>Decoration</th>\n",
       "      <th>Facing Direction2_东</th>\n",
       "      <th>Facing Direction2_北</th>\n",
       "      <th>Facing Direction2_南</th>\n",
       "      <th>Facing Direction2_西</th>\n",
       "    </tr>\n",
       "  </thead>\n",
       "  <tbody>\n",
       "    <tr>\n",
       "      <th>0</th>\n",
       "      <td>1</td>\n",
       "      <td>中关村南大街甲3号 2室1厅 56.3平米</td>\n",
       "      <td>56.3</td>\n",
       "      <td>38544.0</td>\n",
       "      <td>217.0</td>\n",
       "      <td>2015-05-08</td>\n",
       "      <td>1965</td>\n",
       "      <td>2室1厅</td>\n",
       "      <td>南 北</td>\n",
       "      <td>低楼层(共3层)</td>\n",
       "      <td>简装</td>\n",
       "      <td>0</td>\n",
       "      <td>0</td>\n",
       "      <td>1</td>\n",
       "      <td>0</td>\n",
       "    </tr>\n",
       "    <tr>\n",
       "      <th>1</th>\n",
       "      <td>2</td>\n",
       "      <td>中关村南大街甲3号 2室1厅 55.1平米</td>\n",
       "      <td>55.1</td>\n",
       "      <td>33667.0</td>\n",
       "      <td>185.5</td>\n",
       "      <td>2012-04-10</td>\n",
       "      <td>1965</td>\n",
       "      <td>2室1厅</td>\n",
       "      <td>南 北</td>\n",
       "      <td>底层(共3层)</td>\n",
       "      <td>其他</td>\n",
       "      <td>0</td>\n",
       "      <td>0</td>\n",
       "      <td>1</td>\n",
       "      <td>0</td>\n",
       "    </tr>\n",
       "    <tr>\n",
       "      <th>2</th>\n",
       "      <td>3</td>\n",
       "      <td>民族大学南路19号院 2室1厅 70平米</td>\n",
       "      <td>70</td>\n",
       "      <td>91429.0</td>\n",
       "      <td>640.0</td>\n",
       "      <td>2019-04-19</td>\n",
       "      <td>1993</td>\n",
       "      <td>2室1厅</td>\n",
       "      <td>南</td>\n",
       "      <td>中楼层(共15层)</td>\n",
       "      <td>简装</td>\n",
       "      <td>0</td>\n",
       "      <td>0</td>\n",
       "      <td>1</td>\n",
       "      <td>0</td>\n",
       "    </tr>\n",
       "    <tr>\n",
       "      <th>3</th>\n",
       "      <td>4</td>\n",
       "      <td>民族大学南路19号院 2室1厅 98.49平米</td>\n",
       "      <td>98.49</td>\n",
       "      <td>102752.0</td>\n",
       "      <td>1012.0</td>\n",
       "      <td>2019-04-07</td>\n",
       "      <td>2000</td>\n",
       "      <td>2室1厅</td>\n",
       "      <td>南</td>\n",
       "      <td>高楼层(共18层)</td>\n",
       "      <td>简装</td>\n",
       "      <td>0</td>\n",
       "      <td>0</td>\n",
       "      <td>1</td>\n",
       "      <td>0</td>\n",
       "    </tr>\n",
       "    <tr>\n",
       "      <th>4</th>\n",
       "      <td>5</td>\n",
       "      <td>民族大学南路19号院 2室1厅 60.7平米</td>\n",
       "      <td>60.7</td>\n",
       "      <td>98847.0</td>\n",
       "      <td>600.0</td>\n",
       "      <td>2019-02-22</td>\n",
       "      <td>1991</td>\n",
       "      <td>2室1厅</td>\n",
       "      <td>南</td>\n",
       "      <td>高楼层(共16层)</td>\n",
       "      <td>其他</td>\n",
       "      <td>0</td>\n",
       "      <td>0</td>\n",
       "      <td>1</td>\n",
       "      <td>0</td>\n",
       "    </tr>\n",
       "  </tbody>\n",
       "</table>\n",
       "</div>"
      ],
      "text/plain": [
       "   Housing_ID                Community Livable Area  Price/Square Meter  \\\n",
       "0           1    中关村南大街甲3号 2室1厅 56.3平米         56.3             38544.0   \n",
       "1           2    中关村南大街甲3号 2室1厅 55.1平米         55.1             33667.0   \n",
       "2           3     民族大学南路19号院 2室1厅 70平米           70             91429.0   \n",
       "3           4  民族大学南路19号院 2室1厅 98.49平米        98.49            102752.0   \n",
       "4           5   民族大学南路19号院 2室1厅 60.7平米         60.7             98847.0   \n",
       "\n",
       "    Price       Date Year Built Floor Plan Facing Direction      Floor  \\\n",
       "0   217.0 2015-05-08       1965       2室1厅              南 北   低楼层(共3层)   \n",
       "1   185.5 2012-04-10       1965       2室1厅              南 北    底层(共3层)   \n",
       "2   640.0 2019-04-19       1993       2室1厅                南  中楼层(共15层)   \n",
       "3  1012.0 2019-04-07       2000       2室1厅                南  高楼层(共18层)   \n",
       "4   600.0 2019-02-22       1991       2室1厅                南  高楼层(共16层)   \n",
       "\n",
       "  Decoration  Facing Direction2_东  Facing Direction2_北  Facing Direction2_南  \\\n",
       "0         简装                    0                    0                    1   \n",
       "1         其他                    0                    0                    1   \n",
       "2         简装                    0                    0                    1   \n",
       "3         简装                    0                    0                    1   \n",
       "4         其他                    0                    0                    1   \n",
       "\n",
       "   Facing Direction2_西  \n",
       "0                    0  \n",
       "1                    0  \n",
       "2                    0  \n",
       "3                    0  \n",
       "4                    0  "
      ]
     },
     "execution_count": 109,
     "metadata": {},
     "output_type": "execute_result"
    }
   ],
   "source": [
    "df2.head()"
   ]
  },
  {
   "cell_type": "code",
   "execution_count": 110,
   "metadata": {},
   "outputs": [],
   "source": [
    "df2['Decoration2'] = df2['Decoration'].astype('str')"
   ]
  },
  {
   "cell_type": "code",
   "execution_count": 111,
   "metadata": {
    "scrolled": true
   },
   "outputs": [
    {
     "data": {
      "text/plain": [
       "0        1\n",
       "1        3\n",
       "2        1\n",
       "3        1\n",
       "4        3\n",
       "        ..\n",
       "72430    3\n",
       "72431    3\n",
       "72432    3\n",
       "72433    3\n",
       "72434    3\n",
       "Name: Decoration2, Length: 72364, dtype: int64"
      ]
     },
     "execution_count": 111,
     "metadata": {},
     "output_type": "execute_result"
    }
   ],
   "source": [
    "# Encode Decoration into categorical variables\n",
    "# 毛坯 = 0，简装 = 1， 精装 = 2，  其他 = 3 (we need to drop 暂无信息)\n",
    "df2.loc[df2['Decoration2'] == '毛坯' , 'Decoration2'] = '0'\n",
    "df2.loc[df2['Decoration2'] == '简装' , 'Decoration2'] = '1'\n",
    "df2.loc[df2['Decoration2'] == '精装' , 'Decoration2'] = '2'\n",
    "df2.loc[df2['Decoration2'] == '其他' , 'Decoration2'] = '3'\n",
    "df2.loc[df2['Decoration2'] == '暂无信息' , 'Decoration2'] = '4'\n",
    "df2['Decoration2'].astype('int')"
   ]
  },
  {
   "cell_type": "code",
   "execution_count": 112,
   "metadata": {},
   "outputs": [
    {
     "data": {
      "text/plain": [
       "(69486, 16)"
      ]
     },
     "execution_count": 112,
     "metadata": {},
     "output_type": "execute_result"
    }
   ],
   "source": [
    "# Drop missing rows for facing decoration2 (dropped 2940 rows)\n",
    "df3 = df2[df2['Decoration2'] != '4']\n",
    "df3.shape"
   ]
  },
  {
   "cell_type": "code",
   "execution_count": 113,
   "metadata": {},
   "outputs": [],
   "source": [
    "df3_copy = df3.copy()\n",
    "df3_copy['Floor2'] = df3_copy['Floor'].astype('str').str[0:1]"
   ]
  },
  {
   "cell_type": "code",
   "execution_count": 114,
   "metadata": {},
   "outputs": [
    {
     "data": {
      "text/plain": [
       "0        2\n",
       "1        1\n",
       "2        3\n",
       "3        4\n",
       "4        4\n",
       "        ..\n",
       "72430    1\n",
       "72431    2\n",
       "72432    5\n",
       "72433    3\n",
       "72434    3\n",
       "Name: Floor2, Length: 69486, dtype: int64"
      ]
     },
     "execution_count": 114,
     "metadata": {},
     "output_type": "execute_result"
    }
   ],
   "source": [
    "# Encode Floor into categorical variables\n",
    "# 地 = 0，底 = 1， 低 = 2，  中 = 3, 高 = 4，顶 = 5，未 = 7 (we need to drop 7)\n",
    "df3_copy.loc[df3_copy['Floor2'] == '地' , 'Floor2'] = '0'\n",
    "df3_copy.loc[df3_copy['Floor2'] == '底' , 'Floor2'] = '1'\n",
    "df3_copy.loc[df3_copy['Floor2'] == '低' , 'Floor2'] = '2'\n",
    "df3_copy.loc[df3_copy['Floor2'] == '中' , 'Floor2'] = '3'\n",
    "df3_copy.loc[df3_copy['Floor2'] == '高' , 'Floor2'] = '4'\n",
    "df3_copy.loc[df3_copy['Floor2'] == '顶' , 'Floor2'] = '5'\n",
    "df3_copy.loc[df3_copy['Floor2'] == '暂' , 'Floor2'] = '6'\n",
    "df3_copy.loc[df3_copy['Floor2'] == '未' , 'Floor2'] = '7'\n",
    "\n",
    "df3_copy['Floor2'].astype('int')"
   ]
  },
  {
   "cell_type": "code",
   "execution_count": 115,
   "metadata": {},
   "outputs": [
    {
     "data": {
      "text/plain": [
       "3    26268\n",
       "4    13977\n",
       "2    13447\n",
       "5     8630\n",
       "1     6617\n",
       "0      365\n",
       "7      182\n",
       "Name: Floor2, dtype: int64"
      ]
     },
     "execution_count": 115,
     "metadata": {},
     "output_type": "execute_result"
    }
   ],
   "source": [
    "df3_copy['Floor2'].value_counts()"
   ]
  },
  {
   "cell_type": "code",
   "execution_count": 116,
   "metadata": {
    "scrolled": true
   },
   "outputs": [
    {
     "data": {
      "text/plain": [
       "(69304, 17)"
      ]
     },
     "execution_count": 116,
     "metadata": {},
     "output_type": "execute_result"
    }
   ],
   "source": [
    "# Drop missing rows for Floor2(dropped 182 rows)\n",
    "df4 = df3_copy[df3_copy['Floor2'] != '7']\n",
    "\n",
    "df4.shape"
   ]
  },
  {
   "cell_type": "code",
   "execution_count": 117,
   "metadata": {
    "scrolled": true
   },
   "outputs": [
    {
     "data": {
      "text/plain": [
       "Index(['Housing_ID', 'Community', 'Livable Area', 'Price/Square Meter',\n",
       "       'Price', 'Date', 'Year Built', 'Floor Plan', 'Facing Direction',\n",
       "       'Floor', 'Decoration', 'Facing Direction2_东', 'Facing Direction2_北',\n",
       "       'Facing Direction2_南', 'Facing Direction2_西', 'Decoration2', 'Floor2'],\n",
       "      dtype='object')"
      ]
     },
     "execution_count": 117,
     "metadata": {},
     "output_type": "execute_result"
    }
   ],
   "source": [
    "df4.columns"
   ]
  },
  {
   "cell_type": "code",
   "execution_count": 118,
   "metadata": {},
   "outputs": [
    {
     "data": {
      "text/html": [
       "<div>\n",
       "<style scoped>\n",
       "    .dataframe tbody tr th:only-of-type {\n",
       "        vertical-align: middle;\n",
       "    }\n",
       "\n",
       "    .dataframe tbody tr th {\n",
       "        vertical-align: top;\n",
       "    }\n",
       "\n",
       "    .dataframe thead th {\n",
       "        text-align: right;\n",
       "    }\n",
       "</style>\n",
       "<table border=\"1\" class=\"dataframe\">\n",
       "  <thead>\n",
       "    <tr style=\"text-align: right;\">\n",
       "      <th></th>\n",
       "      <th>Housing_ID</th>\n",
       "      <th>Community</th>\n",
       "      <th>Livable Area</th>\n",
       "      <th>Price/Square Meter</th>\n",
       "      <th>Price</th>\n",
       "      <th>Date</th>\n",
       "      <th>Year Built</th>\n",
       "      <th>Floor Plan</th>\n",
       "      <th>Facing Direction</th>\n",
       "      <th>Floor</th>\n",
       "      <th>Decoration</th>\n",
       "      <th>Facing Direction2_东</th>\n",
       "      <th>Facing Direction2_北</th>\n",
       "      <th>Facing Direction2_南</th>\n",
       "      <th>Facing Direction2_西</th>\n",
       "      <th>Decoration2</th>\n",
       "      <th>Floor2</th>\n",
       "    </tr>\n",
       "  </thead>\n",
       "  <tbody>\n",
       "    <tr>\n",
       "      <th>0</th>\n",
       "      <td>1</td>\n",
       "      <td>中关村南大街甲3号 2室1厅 56.3平米</td>\n",
       "      <td>56.3</td>\n",
       "      <td>38544.0</td>\n",
       "      <td>217.0</td>\n",
       "      <td>2015-05-08</td>\n",
       "      <td>1965</td>\n",
       "      <td>2室1厅</td>\n",
       "      <td>南 北</td>\n",
       "      <td>低楼层(共3层)</td>\n",
       "      <td>简装</td>\n",
       "      <td>0</td>\n",
       "      <td>0</td>\n",
       "      <td>1</td>\n",
       "      <td>0</td>\n",
       "      <td>1</td>\n",
       "      <td>2</td>\n",
       "    </tr>\n",
       "    <tr>\n",
       "      <th>1</th>\n",
       "      <td>2</td>\n",
       "      <td>中关村南大街甲3号 2室1厅 55.1平米</td>\n",
       "      <td>55.1</td>\n",
       "      <td>33667.0</td>\n",
       "      <td>185.5</td>\n",
       "      <td>2012-04-10</td>\n",
       "      <td>1965</td>\n",
       "      <td>2室1厅</td>\n",
       "      <td>南 北</td>\n",
       "      <td>底层(共3层)</td>\n",
       "      <td>其他</td>\n",
       "      <td>0</td>\n",
       "      <td>0</td>\n",
       "      <td>1</td>\n",
       "      <td>0</td>\n",
       "      <td>3</td>\n",
       "      <td>1</td>\n",
       "    </tr>\n",
       "    <tr>\n",
       "      <th>2</th>\n",
       "      <td>3</td>\n",
       "      <td>民族大学南路19号院 2室1厅 70平米</td>\n",
       "      <td>70</td>\n",
       "      <td>91429.0</td>\n",
       "      <td>640.0</td>\n",
       "      <td>2019-04-19</td>\n",
       "      <td>1993</td>\n",
       "      <td>2室1厅</td>\n",
       "      <td>南</td>\n",
       "      <td>中楼层(共15层)</td>\n",
       "      <td>简装</td>\n",
       "      <td>0</td>\n",
       "      <td>0</td>\n",
       "      <td>1</td>\n",
       "      <td>0</td>\n",
       "      <td>1</td>\n",
       "      <td>3</td>\n",
       "    </tr>\n",
       "  </tbody>\n",
       "</table>\n",
       "</div>"
      ],
      "text/plain": [
       "   Housing_ID              Community Livable Area  Price/Square Meter  Price  \\\n",
       "0           1  中关村南大街甲3号 2室1厅 56.3平米         56.3             38544.0  217.0   \n",
       "1           2  中关村南大街甲3号 2室1厅 55.1平米         55.1             33667.0  185.5   \n",
       "2           3   民族大学南路19号院 2室1厅 70平米           70             91429.0  640.0   \n",
       "\n",
       "        Date Year Built Floor Plan Facing Direction      Floor Decoration  \\\n",
       "0 2015-05-08       1965       2室1厅              南 北   低楼层(共3层)         简装   \n",
       "1 2012-04-10       1965       2室1厅              南 北    底层(共3层)         其他   \n",
       "2 2019-04-19       1993       2室1厅                南  中楼层(共15层)         简装   \n",
       "\n",
       "   Facing Direction2_东  Facing Direction2_北  Facing Direction2_南  \\\n",
       "0                    0                    0                    1   \n",
       "1                    0                    0                    1   \n",
       "2                    0                    0                    1   \n",
       "\n",
       "   Facing Direction2_西 Decoration2 Floor2  \n",
       "0                    0           1      2  \n",
       "1                    0           3      1  \n",
       "2                    0           1      3  "
      ]
     },
     "execution_count": 118,
     "metadata": {},
     "output_type": "execute_result"
    }
   ],
   "source": [
    "df4.head(3)"
   ]
  },
  {
   "cell_type": "code",
   "execution_count": 119,
   "metadata": {},
   "outputs": [],
   "source": [
    "necessary_col = ['Housing_ID', 'Livable Area', 'Price/Square Meter','Price', 'Date', 'Year Built','Facing Direction2_东', 'Facing Direction2_北','Facing Direction2_南', 'Facing Direction2_西', 'Decoration2', 'Floor2']\n",
    "final_df = df4[necessary_col]    \n",
    "    "
   ]
  },
  {
   "cell_type": "code",
   "execution_count": 120,
   "metadata": {},
   "outputs": [],
   "source": [
    "final_df = final_df.rename(columns={\"Facing Direction2_东\": \"Facing_East\", \"Facing Direction2_北\": \"Facing_North\", \"Facing Direction2_南\": 'Facing_South', \"Facing Direction2_西\": 'Facing_West', \"Decoration2\": 'Decoration_Level', \"Floor2\": 'Floor_Level'})\n",
    "\n"
   ]
  },
  {
   "cell_type": "code",
   "execution_count": 121,
   "metadata": {},
   "outputs": [
    {
     "data": {
      "text/html": [
       "<div>\n",
       "<style scoped>\n",
       "    .dataframe tbody tr th:only-of-type {\n",
       "        vertical-align: middle;\n",
       "    }\n",
       "\n",
       "    .dataframe tbody tr th {\n",
       "        vertical-align: top;\n",
       "    }\n",
       "\n",
       "    .dataframe thead th {\n",
       "        text-align: right;\n",
       "    }\n",
       "</style>\n",
       "<table border=\"1\" class=\"dataframe\">\n",
       "  <thead>\n",
       "    <tr style=\"text-align: right;\">\n",
       "      <th></th>\n",
       "      <th>Housing_ID</th>\n",
       "      <th>Livable Area</th>\n",
       "      <th>Price/Square Meter</th>\n",
       "      <th>Price</th>\n",
       "      <th>Date</th>\n",
       "      <th>Year Built</th>\n",
       "      <th>Facing_East</th>\n",
       "      <th>Facing_North</th>\n",
       "      <th>Facing_South</th>\n",
       "      <th>Facing_West</th>\n",
       "      <th>Decoration_Level</th>\n",
       "      <th>Floor_Level</th>\n",
       "    </tr>\n",
       "  </thead>\n",
       "  <tbody>\n",
       "    <tr>\n",
       "      <th>63883</th>\n",
       "      <td>63884</td>\n",
       "      <td>46.4</td>\n",
       "      <td>124354.0</td>\n",
       "      <td>577.0</td>\n",
       "      <td>2016-07-29</td>\n",
       "      <td>2004</td>\n",
       "      <td>0</td>\n",
       "      <td>1</td>\n",
       "      <td>0</td>\n",
       "      <td>0</td>\n",
       "      <td>3</td>\n",
       "      <td>4</td>\n",
       "    </tr>\n",
       "    <tr>\n",
       "      <th>49615</th>\n",
       "      <td>49616</td>\n",
       "      <td>56.4</td>\n",
       "      <td>92199.0</td>\n",
       "      <td>520.0</td>\n",
       "      <td>2016-09-29</td>\n",
       "      <td>1981</td>\n",
       "      <td>0</td>\n",
       "      <td>0</td>\n",
       "      <td>1</td>\n",
       "      <td>0</td>\n",
       "      <td>1</td>\n",
       "      <td>5</td>\n",
       "    </tr>\n",
       "    <tr>\n",
       "      <th>54635</th>\n",
       "      <td>54636</td>\n",
       "      <td>49.74</td>\n",
       "      <td>50262.0</td>\n",
       "      <td>250.0</td>\n",
       "      <td>2018-01-31</td>\n",
       "      <td>2005</td>\n",
       "      <td>0</td>\n",
       "      <td>0</td>\n",
       "      <td>1</td>\n",
       "      <td>0</td>\n",
       "      <td>1</td>\n",
       "      <td>5</td>\n",
       "    </tr>\n",
       "    <tr>\n",
       "      <th>23365</th>\n",
       "      <td>23366</td>\n",
       "      <td>126.08</td>\n",
       "      <td>20384.0</td>\n",
       "      <td>257.0</td>\n",
       "      <td>2012-10-31</td>\n",
       "      <td>2002</td>\n",
       "      <td>1</td>\n",
       "      <td>0</td>\n",
       "      <td>0</td>\n",
       "      <td>0</td>\n",
       "      <td>3</td>\n",
       "      <td>4</td>\n",
       "    </tr>\n",
       "    <tr>\n",
       "      <th>48716</th>\n",
       "      <td>48717</td>\n",
       "      <td>45.1</td>\n",
       "      <td>39912.0</td>\n",
       "      <td>180.0</td>\n",
       "      <td>2015-03-28</td>\n",
       "      <td>1990</td>\n",
       "      <td>1</td>\n",
       "      <td>0</td>\n",
       "      <td>0</td>\n",
       "      <td>0</td>\n",
       "      <td>1</td>\n",
       "      <td>3</td>\n",
       "    </tr>\n",
       "    <tr>\n",
       "      <th>33282</th>\n",
       "      <td>33283</td>\n",
       "      <td>73.6</td>\n",
       "      <td>95789.0</td>\n",
       "      <td>705.0</td>\n",
       "      <td>2017-02-23</td>\n",
       "      <td>1986</td>\n",
       "      <td>0</td>\n",
       "      <td>0</td>\n",
       "      <td>1</td>\n",
       "      <td>0</td>\n",
       "      <td>2</td>\n",
       "      <td>1</td>\n",
       "    </tr>\n",
       "    <tr>\n",
       "      <th>1086</th>\n",
       "      <td>1087</td>\n",
       "      <td>86.4</td>\n",
       "      <td>49422.0</td>\n",
       "      <td>427.0</td>\n",
       "      <td>2016-09-12</td>\n",
       "      <td>1996</td>\n",
       "      <td>0</td>\n",
       "      <td>0</td>\n",
       "      <td>0</td>\n",
       "      <td>1</td>\n",
       "      <td>1</td>\n",
       "      <td>2</td>\n",
       "    </tr>\n",
       "    <tr>\n",
       "      <th>26016</th>\n",
       "      <td>26017</td>\n",
       "      <td>40.6</td>\n",
       "      <td>56158.0</td>\n",
       "      <td>228.0</td>\n",
       "      <td>2013-06-03</td>\n",
       "      <td>1988</td>\n",
       "      <td>0</td>\n",
       "      <td>0</td>\n",
       "      <td>1</td>\n",
       "      <td>0</td>\n",
       "      <td>3</td>\n",
       "      <td>4</td>\n",
       "    </tr>\n",
       "    <tr>\n",
       "      <th>7914</th>\n",
       "      <td>7915</td>\n",
       "      <td>108.99</td>\n",
       "      <td>39637.0</td>\n",
       "      <td>432.0</td>\n",
       "      <td>2013-08-14</td>\n",
       "      <td>2005</td>\n",
       "      <td>0</td>\n",
       "      <td>0</td>\n",
       "      <td>1</td>\n",
       "      <td>0</td>\n",
       "      <td>3</td>\n",
       "      <td>4</td>\n",
       "    </tr>\n",
       "    <tr>\n",
       "      <th>18369</th>\n",
       "      <td>18370</td>\n",
       "      <td>128.25</td>\n",
       "      <td>47954.0</td>\n",
       "      <td>615.0</td>\n",
       "      <td>2016-07-26</td>\n",
       "      <td>2000</td>\n",
       "      <td>0</td>\n",
       "      <td>0</td>\n",
       "      <td>0</td>\n",
       "      <td>1</td>\n",
       "      <td>1</td>\n",
       "      <td>4</td>\n",
       "    </tr>\n",
       "    <tr>\n",
       "      <th>22471</th>\n",
       "      <td>22472</td>\n",
       "      <td>89</td>\n",
       "      <td>73933.0</td>\n",
       "      <td>658.0</td>\n",
       "      <td>2016-09-14</td>\n",
       "      <td>2012</td>\n",
       "      <td>0</td>\n",
       "      <td>0</td>\n",
       "      <td>1</td>\n",
       "      <td>0</td>\n",
       "      <td>2</td>\n",
       "      <td>3</td>\n",
       "    </tr>\n",
       "    <tr>\n",
       "      <th>17740</th>\n",
       "      <td>17741</td>\n",
       "      <td>115.2</td>\n",
       "      <td>32726.0</td>\n",
       "      <td>377.0</td>\n",
       "      <td>2015-08-23</td>\n",
       "      <td>塔楼</td>\n",
       "      <td>1</td>\n",
       "      <td>0</td>\n",
       "      <td>0</td>\n",
       "      <td>0</td>\n",
       "      <td>1</td>\n",
       "      <td>4</td>\n",
       "    </tr>\n",
       "    <tr>\n",
       "      <th>69108</th>\n",
       "      <td>69109</td>\n",
       "      <td>70.3</td>\n",
       "      <td>93884.0</td>\n",
       "      <td>660.0</td>\n",
       "      <td>2016-10-23</td>\n",
       "      <td>1994</td>\n",
       "      <td>0</td>\n",
       "      <td>0</td>\n",
       "      <td>1</td>\n",
       "      <td>0</td>\n",
       "      <td>1</td>\n",
       "      <td>3</td>\n",
       "    </tr>\n",
       "    <tr>\n",
       "      <th>2482</th>\n",
       "      <td>2483</td>\n",
       "      <td>138.18</td>\n",
       "      <td>25330.0</td>\n",
       "      <td>350.0</td>\n",
       "      <td>2012-10-27</td>\n",
       "      <td>2008</td>\n",
       "      <td>0</td>\n",
       "      <td>0</td>\n",
       "      <td>1</td>\n",
       "      <td>0</td>\n",
       "      <td>3</td>\n",
       "      <td>4</td>\n",
       "    </tr>\n",
       "    <tr>\n",
       "      <th>42613</th>\n",
       "      <td>42614</td>\n",
       "      <td>59.42</td>\n",
       "      <td>85830.0</td>\n",
       "      <td>510.0</td>\n",
       "      <td>2018-09-28</td>\n",
       "      <td>1997</td>\n",
       "      <td>0</td>\n",
       "      <td>0</td>\n",
       "      <td>1</td>\n",
       "      <td>0</td>\n",
       "      <td>2</td>\n",
       "      <td>3</td>\n",
       "    </tr>\n",
       "  </tbody>\n",
       "</table>\n",
       "</div>"
      ],
      "text/plain": [
       "       Housing_ID Livable Area  Price/Square Meter  Price       Date  \\\n",
       "63883       63884         46.4            124354.0  577.0 2016-07-29   \n",
       "49615       49616         56.4             92199.0  520.0 2016-09-29   \n",
       "54635       54636        49.74             50262.0  250.0 2018-01-31   \n",
       "23365       23366       126.08             20384.0  257.0 2012-10-31   \n",
       "48716       48717         45.1             39912.0  180.0 2015-03-28   \n",
       "33282       33283         73.6             95789.0  705.0 2017-02-23   \n",
       "1086         1087         86.4             49422.0  427.0 2016-09-12   \n",
       "26016       26017         40.6             56158.0  228.0 2013-06-03   \n",
       "7914         7915       108.99             39637.0  432.0 2013-08-14   \n",
       "18369       18370       128.25             47954.0  615.0 2016-07-26   \n",
       "22471       22472           89             73933.0  658.0 2016-09-14   \n",
       "17740       17741        115.2             32726.0  377.0 2015-08-23   \n",
       "69108       69109         70.3             93884.0  660.0 2016-10-23   \n",
       "2482         2483       138.18             25330.0  350.0 2012-10-27   \n",
       "42613       42614        59.42             85830.0  510.0 2018-09-28   \n",
       "\n",
       "      Year Built  Facing_East  Facing_North  Facing_South  Facing_West  \\\n",
       "63883       2004            0             1             0            0   \n",
       "49615       1981            0             0             1            0   \n",
       "54635       2005            0             0             1            0   \n",
       "23365       2002            1             0             0            0   \n",
       "48716       1990            1             0             0            0   \n",
       "33282       1986            0             0             1            0   \n",
       "1086        1996            0             0             0            1   \n",
       "26016       1988            0             0             1            0   \n",
       "7914        2005            0             0             1            0   \n",
       "18369       2000            0             0             0            1   \n",
       "22471       2012            0             0             1            0   \n",
       "17740         塔楼            1             0             0            0   \n",
       "69108       1994            0             0             1            0   \n",
       "2482        2008            0             0             1            0   \n",
       "42613       1997            0             0             1            0   \n",
       "\n",
       "      Decoration_Level Floor_Level  \n",
       "63883                3           4  \n",
       "49615                1           5  \n",
       "54635                1           5  \n",
       "23365                3           4  \n",
       "48716                1           3  \n",
       "33282                2           1  \n",
       "1086                 1           2  \n",
       "26016                3           4  \n",
       "7914                 3           4  \n",
       "18369                1           4  \n",
       "22471                2           3  \n",
       "17740                1           4  \n",
       "69108                1           3  \n",
       "2482                 3           4  \n",
       "42613                2           3  "
      ]
     },
     "execution_count": 121,
     "metadata": {},
     "output_type": "execute_result"
    }
   ],
   "source": [
    "final_df.sample(15)"
   ]
  },
  {
   "cell_type": "code",
   "execution_count": 122,
   "metadata": {},
   "outputs": [
    {
     "data": {
      "text/plain": [
       "['Price/Square Meter',\n",
       " 'Housing_ID',\n",
       " 'Livable Area',\n",
       " 'Price',\n",
       " 'Date',\n",
       " 'Year Built',\n",
       " 'Facing_East',\n",
       " 'Facing_North',\n",
       " 'Facing_South',\n",
       " 'Facing_West',\n",
       " 'Decoration_Level',\n",
       " 'Floor_Level']"
      ]
     },
     "execution_count": 122,
     "metadata": {},
     "output_type": "execute_result"
    }
   ],
   "source": [
    "# get a list of columns\n",
    "cols = list(final_df)\n",
    "# move the column to head of list using index, pop and insert\n",
    "cols.insert(0, cols.pop(cols.index('Price/Square Meter')))\n",
    "cols"
   ]
  },
  {
   "cell_type": "code",
   "execution_count": 123,
   "metadata": {},
   "outputs": [],
   "source": [
    "pre_data = final_df[cols]"
   ]
  },
  {
   "cell_type": "code",
   "execution_count": 124,
   "metadata": {},
   "outputs": [
    {
     "data": {
      "text/plain": [
       "Price/Square Meter           float64\n",
       "Housing_ID                     int64\n",
       "Livable Area                  object\n",
       "Price                        float64\n",
       "Date                  datetime64[ns]\n",
       "Year Built                    object\n",
       "Facing_East                    uint8\n",
       "Facing_North                   uint8\n",
       "Facing_South                   uint8\n",
       "Facing_West                    uint8\n",
       "Decoration_Level              object\n",
       "Floor_Level                   object\n",
       "dtype: object"
      ]
     },
     "execution_count": 124,
     "metadata": {},
     "output_type": "execute_result"
    }
   ],
   "source": [
    "pre_data.dtypes"
   ]
  },
  {
   "cell_type": "code",
   "execution_count": 125,
   "metadata": {},
   "outputs": [
    {
     "data": {
      "text/html": [
       "<div>\n",
       "<style scoped>\n",
       "    .dataframe tbody tr th:only-of-type {\n",
       "        vertical-align: middle;\n",
       "    }\n",
       "\n",
       "    .dataframe tbody tr th {\n",
       "        vertical-align: top;\n",
       "    }\n",
       "\n",
       "    .dataframe thead th {\n",
       "        text-align: right;\n",
       "    }\n",
       "</style>\n",
       "<table border=\"1\" class=\"dataframe\">\n",
       "  <thead>\n",
       "    <tr style=\"text-align: right;\">\n",
       "      <th></th>\n",
       "      <th>Price/Square Meter</th>\n",
       "      <th>Housing_ID</th>\n",
       "      <th>Livable Area</th>\n",
       "      <th>Price</th>\n",
       "      <th>Date</th>\n",
       "      <th>Year Built</th>\n",
       "      <th>Facing_East</th>\n",
       "      <th>Facing_North</th>\n",
       "      <th>Facing_South</th>\n",
       "      <th>Facing_West</th>\n",
       "      <th>Decoration_Level</th>\n",
       "      <th>Floor_Level</th>\n",
       "    </tr>\n",
       "  </thead>\n",
       "  <tbody>\n",
       "    <tr>\n",
       "      <th>0</th>\n",
       "      <td>38544.0</td>\n",
       "      <td>1</td>\n",
       "      <td>56.3</td>\n",
       "      <td>217.0</td>\n",
       "      <td>2015-05-08</td>\n",
       "      <td>1965</td>\n",
       "      <td>0</td>\n",
       "      <td>0</td>\n",
       "      <td>1</td>\n",
       "      <td>0</td>\n",
       "      <td>1</td>\n",
       "      <td>2</td>\n",
       "    </tr>\n",
       "    <tr>\n",
       "      <th>1</th>\n",
       "      <td>33667.0</td>\n",
       "      <td>2</td>\n",
       "      <td>55.1</td>\n",
       "      <td>185.5</td>\n",
       "      <td>2012-04-10</td>\n",
       "      <td>1965</td>\n",
       "      <td>0</td>\n",
       "      <td>0</td>\n",
       "      <td>1</td>\n",
       "      <td>0</td>\n",
       "      <td>3</td>\n",
       "      <td>1</td>\n",
       "    </tr>\n",
       "    <tr>\n",
       "      <th>2</th>\n",
       "      <td>91429.0</td>\n",
       "      <td>3</td>\n",
       "      <td>70</td>\n",
       "      <td>640.0</td>\n",
       "      <td>2019-04-19</td>\n",
       "      <td>1993</td>\n",
       "      <td>0</td>\n",
       "      <td>0</td>\n",
       "      <td>1</td>\n",
       "      <td>0</td>\n",
       "      <td>1</td>\n",
       "      <td>3</td>\n",
       "    </tr>\n",
       "    <tr>\n",
       "      <th>3</th>\n",
       "      <td>102752.0</td>\n",
       "      <td>4</td>\n",
       "      <td>98.49</td>\n",
       "      <td>1012.0</td>\n",
       "      <td>2019-04-07</td>\n",
       "      <td>2000</td>\n",
       "      <td>0</td>\n",
       "      <td>0</td>\n",
       "      <td>1</td>\n",
       "      <td>0</td>\n",
       "      <td>1</td>\n",
       "      <td>4</td>\n",
       "    </tr>\n",
       "    <tr>\n",
       "      <th>4</th>\n",
       "      <td>98847.0</td>\n",
       "      <td>5</td>\n",
       "      <td>60.7</td>\n",
       "      <td>600.0</td>\n",
       "      <td>2019-02-22</td>\n",
       "      <td>1991</td>\n",
       "      <td>0</td>\n",
       "      <td>0</td>\n",
       "      <td>1</td>\n",
       "      <td>0</td>\n",
       "      <td>3</td>\n",
       "      <td>4</td>\n",
       "    </tr>\n",
       "  </tbody>\n",
       "</table>\n",
       "</div>"
      ],
      "text/plain": [
       "   Price/Square Meter  Housing_ID Livable Area   Price       Date Year Built  \\\n",
       "0             38544.0           1         56.3   217.0 2015-05-08       1965   \n",
       "1             33667.0           2         55.1   185.5 2012-04-10       1965   \n",
       "2             91429.0           3           70   640.0 2019-04-19       1993   \n",
       "3            102752.0           4        98.49  1012.0 2019-04-07       2000   \n",
       "4             98847.0           5         60.7   600.0 2019-02-22       1991   \n",
       "\n",
       "   Facing_East  Facing_North  Facing_South  Facing_West Decoration_Level  \\\n",
       "0            0             0             1            0                1   \n",
       "1            0             0             1            0                3   \n",
       "2            0             0             1            0                1   \n",
       "3            0             0             1            0                1   \n",
       "4            0             0             1            0                3   \n",
       "\n",
       "  Floor_Level  \n",
       "0           2  \n",
       "1           1  \n",
       "2           3  \n",
       "3           4  \n",
       "4           4  "
      ]
     },
     "execution_count": 125,
     "metadata": {},
     "output_type": "execute_result"
    }
   ],
   "source": [
    "pre_data.head()"
   ]
  },
  {
   "cell_type": "code",
   "execution_count": 126,
   "metadata": {},
   "outputs": [],
   "source": [
    "pre_data['Livable Area'] = pre_data['Livable Area'].astype('float64')"
   ]
  },
  {
   "cell_type": "code",
   "execution_count": 127,
   "metadata": {},
   "outputs": [
    {
     "data": {
      "text/plain": [
       "Price/Square Meter           float64\n",
       "Housing_ID                     int64\n",
       "Livable Area                 float64\n",
       "Price                        float64\n",
       "Date                  datetime64[ns]\n",
       "Year Built                    object\n",
       "Facing_East                    uint8\n",
       "Facing_North                   uint8\n",
       "Facing_South                   uint8\n",
       "Facing_West                    uint8\n",
       "Decoration_Level              object\n",
       "Floor_Level                   object\n",
       "dtype: object"
      ]
     },
     "execution_count": 127,
     "metadata": {},
     "output_type": "execute_result"
    }
   ],
   "source": [
    "pre_data.dtypes"
   ]
  },
  {
   "cell_type": "code",
   "execution_count": 128,
   "metadata": {},
   "outputs": [],
   "source": [
    "pre_data['Decoration_Level'] = pre_data['Decoration_Level'].astype('int64')"
   ]
  },
  {
   "cell_type": "code",
   "execution_count": 129,
   "metadata": {},
   "outputs": [],
   "source": [
    "pre_data['Floor_Level'] = pre_data['Floor_Level'].astype('int64')"
   ]
  },
  {
   "cell_type": "code",
   "execution_count": 130,
   "metadata": {},
   "outputs": [],
   "source": [
    "pre_data['Facing_East'] = pre_data['Facing_East'].astype('int64')"
   ]
  },
  {
   "cell_type": "code",
   "execution_count": 131,
   "metadata": {},
   "outputs": [],
   "source": [
    "pre_data['Facing_North'] = pre_data['Facing_North'].astype('int64')"
   ]
  },
  {
   "cell_type": "code",
   "execution_count": 132,
   "metadata": {},
   "outputs": [],
   "source": [
    "pre_data['Facing_South'] = pre_data['Facing_South'].astype('int64')"
   ]
  },
  {
   "cell_type": "code",
   "execution_count": 133,
   "metadata": {},
   "outputs": [],
   "source": [
    "pre_data['Facing_West'] = pre_data['Facing_West'].astype('int64')"
   ]
  },
  {
   "cell_type": "code",
   "execution_count": 134,
   "metadata": {},
   "outputs": [
    {
     "data": {
      "text/plain": [
       "Price/Square Meter           float64\n",
       "Housing_ID                     int64\n",
       "Livable Area                 float64\n",
       "Price                        float64\n",
       "Date                  datetime64[ns]\n",
       "Year Built                    object\n",
       "Facing_East                    int64\n",
       "Facing_North                   int64\n",
       "Facing_South                   int64\n",
       "Facing_West                    int64\n",
       "Decoration_Level               int64\n",
       "Floor_Level                    int64\n",
       "dtype: object"
      ]
     },
     "execution_count": 134,
     "metadata": {},
     "output_type": "execute_result"
    }
   ],
   "source": [
    "pre_data.dtypes"
   ]
  },
  {
   "cell_type": "code",
   "execution_count": 135,
   "metadata": {},
   "outputs": [],
   "source": [
    "pre_data = pre_data.drop(['Date', 'Year Built'], axis=1)"
   ]
  },
  {
   "cell_type": "code",
   "execution_count": 136,
   "metadata": {},
   "outputs": [
    {
     "data": {
      "text/plain": [
       "Price/Square Meter    float64\n",
       "Housing_ID              int64\n",
       "Livable Area          float64\n",
       "Price                 float64\n",
       "Facing_East             int64\n",
       "Facing_North            int64\n",
       "Facing_South            int64\n",
       "Facing_West             int64\n",
       "Decoration_Level        int64\n",
       "Floor_Level             int64\n",
       "dtype: object"
      ]
     },
     "execution_count": 136,
     "metadata": {},
     "output_type": "execute_result"
    }
   ],
   "source": [
    "pre_data.dtypes"
   ]
  },
  {
   "cell_type": "code",
   "execution_count": 137,
   "metadata": {},
   "outputs": [],
   "source": [
    "pre_data.to_csv(\"prepared_data.csv\", sep=',' ,index=False)"
   ]
  },
  {
   "cell_type": "code",
   "execution_count": null,
   "metadata": {},
   "outputs": [],
   "source": []
  },
  {
   "cell_type": "code",
   "execution_count": null,
   "metadata": {},
   "outputs": [],
   "source": [
    "# Move the response variable to left-most\n",
    "final_df2 = pre_data"
   ]
  },
  {
   "cell_type": "code",
   "execution_count": 37,
   "metadata": {},
   "outputs": [],
   "source": [
    "final_df2.to_csv(\"prepared_data.csv\", sep=',', header=None,index=False)"
   ]
  },
  {
   "cell_type": "code",
   "execution_count": null,
   "metadata": {},
   "outputs": [],
   "source": []
  },
  {
   "cell_type": "code",
   "execution_count": 313,
   "metadata": {},
   "outputs": [],
   "source": [
    "from sklearn.model_selection import train_test_split\n",
    "train, test_and_validate = train_test_split(final_df2, test_size=0.2, random_state=42)"
   ]
  },
  {
   "cell_type": "code",
   "execution_count": 314,
   "metadata": {},
   "outputs": [],
   "source": [
    "test, validate = train_test_split(test_and_validate, test_size=0.5, random_state=42)"
   ]
  },
  {
   "cell_type": "code",
   "execution_count": 315,
   "metadata": {},
   "outputs": [
    {
     "name": "stdout",
     "output_type": "stream",
     "text": [
      "(55443, 12)\n",
      "(6930, 12)\n",
      "(6931, 12)\n"
     ]
    }
   ],
   "source": [
    "print(train.shape)\n",
    "print(test.shape)\n",
    "print(validate.shape)"
   ]
  },
  {
   "cell_type": "code",
   "execution_count": 324,
   "metadata": {},
   "outputs": [
    {
     "name": "stdout",
     "output_type": "stream",
     "text": [
      "50000.0     68\n",
      "100000.0    40\n",
      "60000.0     29\n",
      "80000.0     25\n",
      "90910.0     25\n",
      "            ..\n",
      "63910.0      1\n",
      "25048.0      1\n",
      "62889.0      1\n",
      "71050.0      1\n",
      "19453.0      1\n",
      "Name: Price/Square Meter, Length: 38159, dtype: int64\n"
     ]
    }
   ],
   "source": [
    "# 随机抽样的部分可能有问题，后面再回来检查\n",
    "print(train['Price/Square Meter'].value_counts())"
   ]
  },
  {
   "cell_type": "code",
   "execution_count": 318,
   "metadata": {},
   "outputs": [
    {
     "name": "stdout",
     "output_type": "stream",
     "text": [
      "50000.0     9\n",
      "80000.0     6\n",
      "60000.0     5\n",
      "41997.0     4\n",
      "45455.0     4\n",
      "           ..\n",
      "88908.0     1\n",
      "66844.0     1\n",
      "42672.0     1\n",
      "60409.0     1\n",
      "102400.0    1\n",
      "Name: Price/Square Meter, Length: 6505, dtype: int64\n"
     ]
    }
   ],
   "source": [
    "print(test['Price/Square Meter'].value_counts())"
   ]
  },
  {
   "cell_type": "code",
   "execution_count": 319,
   "metadata": {},
   "outputs": [
    {
     "name": "stdout",
     "output_type": "stream",
     "text": [
      "50000.0    8\n",
      "39635.0    4\n",
      "49100.0    4\n",
      "66667.0    4\n",
      "43528.0    3\n",
      "          ..\n",
      "36996.0    1\n",
      "58109.0    1\n",
      "52342.0    1\n",
      "54965.0    1\n",
      "2.0        1\n",
      "Name: Price/Square Meter, Length: 6548, dtype: int64\n"
     ]
    }
   ],
   "source": [
    "print(validate['Price/Square Meter'].value_counts())"
   ]
  },
  {
   "cell_type": "code",
   "execution_count": 325,
   "metadata": {},
   "outputs": [],
   "source": [
    "# Export train, test, validation df into .csv files\n",
    "\n",
    "train.to_csv(r'/Users/lin-chuntseng/Desktop/housing_training_dataset.csv', index = False, header = False)\n",
    "test.to_csv(r'/Users/lin-chuntseng/Desktop/housing_testing_dataset.csv', index = False, header = False)\n",
    "validate.to_csv(r'/Users/lin-chuntseng/Desktop/housing_validation_dataset.csv', index = False, header = False)"
   ]
  },
  {
   "cell_type": "code",
   "execution_count": null,
   "metadata": {},
   "outputs": [],
   "source": [
    "bucket=''\n",
    "\n",
    "prefix='lab3'\n",
    "\n",
    "train_file='housing_training_dataset.csv'\n",
    "test_file='housing_testing_dataset.csv'\n",
    "validate_file='housing_validation_dataset.csv'\n",
    "\n",
    "import os\n",
    "\n",
    "s3_resource = boto3.Session().resource('s3')\n",
    "\n",
    "def upload_s3_csv(filename, folder, dataframe):\n",
    "    csv_buffer = io.StringIO()\n",
    "    dataframe.to_csv(csv_buffer, header=False, index=False)\n",
    "    s3_resource.Bucket(bucket).Object(os.path.join(prefix, folder, filename)).put(Body=csv_buffer.getvalue())"
   ]
  },
  {
   "cell_type": "code",
   "execution_count": null,
   "metadata": {},
   "outputs": [],
   "source": [
    "upload_s3_csv(train_file, 'train', train)\n",
    "upload_s3_csv(test_file, 'test', test)\n",
    "upload_s3_csv(validate_file, 'validate', validate)"
   ]
  },
  {
   "cell_type": "code",
   "execution_count": null,
   "metadata": {},
   "outputs": [],
   "source": []
  },
  {
   "cell_type": "code",
   "execution_count": 1,
   "metadata": {},
   "outputs": [
    {
     "name": "stdout",
     "output_type": "stream",
     "text": [
      "Requirement already satisfied: boto3 in /home/ec2-user/anaconda3/envs/python3/lib/python3.6/site-packages (1.15.16)\n",
      "Requirement already satisfied: awscli in /home/ec2-user/anaconda3/envs/python3/lib/python3.6/site-packages (1.18.157)\n",
      "Requirement already satisfied: botocore<1.19.0,>=1.18.16 in /home/ec2-user/anaconda3/envs/python3/lib/python3.6/site-packages (from boto3) (1.18.16)\n",
      "Requirement already satisfied: jmespath<1.0.0,>=0.7.1 in /home/ec2-user/anaconda3/envs/python3/lib/python3.6/site-packages (from boto3) (0.10.0)\n",
      "Requirement already satisfied: s3transfer<0.4.0,>=0.3.0 in /home/ec2-user/anaconda3/envs/python3/lib/python3.6/site-packages (from boto3) (0.3.3)\n",
      "Requirement already satisfied: PyYAML<5.4,>=3.10; python_version != \"3.4\" in /home/ec2-user/anaconda3/envs/python3/lib/python3.6/site-packages (from awscli) (5.3.1)\n",
      "Requirement already satisfied: colorama<0.4.4,>=0.2.5; python_version != \"3.4\" in /home/ec2-user/anaconda3/envs/python3/lib/python3.6/site-packages (from awscli) (0.4.3)\n",
      "Requirement already satisfied: docutils<0.16,>=0.10 in /home/ec2-user/anaconda3/envs/python3/lib/python3.6/site-packages (from awscli) (0.15.2)\n",
      "Requirement already satisfied: rsa<=4.5.0,>=3.1.2; python_version != \"3.4\" in /home/ec2-user/anaconda3/envs/python3/lib/python3.6/site-packages (from awscli) (4.5)\n",
      "Requirement already satisfied: python-dateutil<3.0.0,>=2.1 in /home/ec2-user/anaconda3/envs/python3/lib/python3.6/site-packages (from botocore<1.19.0,>=1.18.16->boto3) (2.8.1)\n",
      "Requirement already satisfied: urllib3<1.26,>=1.20; python_version != \"3.4\" in /home/ec2-user/anaconda3/envs/python3/lib/python3.6/site-packages (from botocore<1.19.0,>=1.18.16->boto3) (1.25.10)\n",
      "Requirement already satisfied: pyasn1>=0.1.3 in /home/ec2-user/anaconda3/envs/python3/lib/python3.6/site-packages (from rsa<=4.5.0,>=3.1.2; python_version != \"3.4\"->awscli) (0.4.8)\n",
      "Requirement already satisfied: six>=1.5 in /home/ec2-user/anaconda3/envs/python3/lib/python3.6/site-packages (from python-dateutil<3.0.0,>=2.1->botocore<1.19.0,>=1.18.16->boto3) (1.14.0)\n",
      "\u001b[33mWARNING: You are using pip version 20.0.2; however, version 20.2.4 is available.\n",
      "You should consider upgrading via the '/home/ec2-user/anaconda3/envs/python3/bin/python -m pip install --upgrade pip' command.\u001b[0m\n",
      "Note: you may need to restart the kernel to use updated packages.\n"
     ]
    }
   ],
   "source": [
    "pip install boto3 awscli"
   ]
  },
  {
   "cell_type": "code",
   "execution_count": 2,
   "metadata": {},
   "outputs": [
    {
     "name": "stdout",
     "output_type": "stream",
     "text": [
      "haidianhousing\n",
      "sagemaker-studio-774975782106-2chr2iygtx2\n",
      "sagemaker-studio-us-east-1-774975782106\n"
     ]
    }
   ],
   "source": [
    "import boto3\n",
    "\n",
    "# Let's use Amazon S3\n",
    "s3 = boto3.resource('s3')\n",
    "# Print out bucket names\n",
    "for bucket in s3.buckets.all():\n",
    "    print(bucket.name)"
   ]
  },
  {
   "cell_type": "code",
   "execution_count": 3,
   "metadata": {},
   "outputs": [],
   "source": [
    "import os\n",
    "import numpy as np\n",
    "import pandas as pd\n",
    "\n",
    "from sklearn.datasets import load_boston\n",
    "import sklearn.model_selection"
   ]
  },
  {
   "cell_type": "code",
   "execution_count": 4,
   "metadata": {},
   "outputs": [],
   "source": [
    "import sagemaker\n",
    "from sagemaker import get_execution_role\n",
    "from sagemaker.amazon.amazon_estimator import get_image_uri\n",
    "from sagemaker.predictor import csv_serializer\n",
    "\n",
    "session = sagemaker.Session()\n",
    "role = get_execution_role"
   ]
  },
  {
   "cell_type": "code",
   "execution_count": 6,
   "metadata": {},
   "outputs": [],
   "source": [
    "import pandas as pd\n",
    "from sagemaker import get_execution_role\n",
    "\n",
    "role = get_execution_role()\n",
    "bucket='haidianhousing'\n",
    "data_key = 'housing_training_dataset.csv'\n",
    "data_location = 's3://{}/{}'.format(bucket, data_key)\n",
    "\n",
    "training_housing = pd.read_csv(data_location)"
   ]
  },
  {
   "cell_type": "code",
   "execution_count": 7,
   "metadata": {},
   "outputs": [
    {
     "data": {
      "text/html": [
       "<div>\n",
       "<style scoped>\n",
       "    .dataframe tbody tr th:only-of-type {\n",
       "        vertical-align: middle;\n",
       "    }\n",
       "\n",
       "    .dataframe tbody tr th {\n",
       "        vertical-align: top;\n",
       "    }\n",
       "\n",
       "    .dataframe thead th {\n",
       "        text-align: right;\n",
       "    }\n",
       "</style>\n",
       "<table border=\"1\" class=\"dataframe\">\n",
       "  <thead>\n",
       "    <tr style=\"text-align: right;\">\n",
       "      <th></th>\n",
       "      <th>Price/Square Meter</th>\n",
       "      <th>Housing_ID</th>\n",
       "      <th>Livable Area</th>\n",
       "      <th>Price</th>\n",
       "      <th>Date</th>\n",
       "      <th>Facing_East</th>\n",
       "      <th>Facing_North</th>\n",
       "      <th>Facing_South</th>\n",
       "      <th>Facing_West</th>\n",
       "      <th>Decoration_Level</th>\n",
       "      <th>Floor_Level</th>\n",
       "    </tr>\n",
       "  </thead>\n",
       "  <tbody>\n",
       "    <tr>\n",
       "      <th>0</th>\n",
       "      <td>107750.0</td>\n",
       "      <td>35176</td>\n",
       "      <td>40.00</td>\n",
       "      <td>431.0</td>\n",
       "      <td>2018-11-04</td>\n",
       "      <td>0</td>\n",
       "      <td>0</td>\n",
       "      <td>1</td>\n",
       "      <td>0</td>\n",
       "      <td>2</td>\n",
       "      <td>1</td>\n",
       "    </tr>\n",
       "    <tr>\n",
       "      <th>1</th>\n",
       "      <td>39485.0</td>\n",
       "      <td>50534</td>\n",
       "      <td>96.24</td>\n",
       "      <td>380.0</td>\n",
       "      <td>2014-09-22</td>\n",
       "      <td>0</td>\n",
       "      <td>0</td>\n",
       "      <td>1</td>\n",
       "      <td>0</td>\n",
       "      <td>2</td>\n",
       "      <td>2</td>\n",
       "    </tr>\n",
       "    <tr>\n",
       "      <th>2</th>\n",
       "      <td>66130.0</td>\n",
       "      <td>54157</td>\n",
       "      <td>62.00</td>\n",
       "      <td>410.0</td>\n",
       "      <td>2016-08-31</td>\n",
       "      <td>1</td>\n",
       "      <td>0</td>\n",
       "      <td>0</td>\n",
       "      <td>0</td>\n",
       "      <td>1</td>\n",
       "      <td>4</td>\n",
       "    </tr>\n",
       "    <tr>\n",
       "      <th>3</th>\n",
       "      <td>55461.0</td>\n",
       "      <td>32909</td>\n",
       "      <td>58.60</td>\n",
       "      <td>325.0</td>\n",
       "      <td>2013-05-21</td>\n",
       "      <td>0</td>\n",
       "      <td>0</td>\n",
       "      <td>1</td>\n",
       "      <td>0</td>\n",
       "      <td>3</td>\n",
       "      <td>1</td>\n",
       "    </tr>\n",
       "    <tr>\n",
       "      <th>4</th>\n",
       "      <td>45725.0</td>\n",
       "      <td>45008</td>\n",
       "      <td>77.42</td>\n",
       "      <td>354.0</td>\n",
       "      <td>2016-08-30</td>\n",
       "      <td>0</td>\n",
       "      <td>0</td>\n",
       "      <td>1</td>\n",
       "      <td>0</td>\n",
       "      <td>2</td>\n",
       "      <td>3</td>\n",
       "    </tr>\n",
       "  </tbody>\n",
       "</table>\n",
       "</div>"
      ],
      "text/plain": [
       "   Price/Square Meter  Housing_ID  Livable Area  Price        Date  \\\n",
       "0            107750.0       35176         40.00  431.0  2018-11-04   \n",
       "1             39485.0       50534         96.24  380.0  2014-09-22   \n",
       "2             66130.0       54157         62.00  410.0  2016-08-31   \n",
       "3             55461.0       32909         58.60  325.0  2013-05-21   \n",
       "4             45725.0       45008         77.42  354.0  2016-08-30   \n",
       "\n",
       "   Facing_East  Facing_North  Facing_South  Facing_West  Decoration_Level  \\\n",
       "0            0             0             1            0                 2   \n",
       "1            0             0             1            0                 2   \n",
       "2            1             0             0            0                 1   \n",
       "3            0             0             1            0                 3   \n",
       "4            0             0             1            0                 2   \n",
       "\n",
       "   Floor_Level  \n",
       "0            1  \n",
       "1            2  \n",
       "2            4  \n",
       "3            1  \n",
       "4            3  "
      ]
     },
     "execution_count": 7,
     "metadata": {},
     "output_type": "execute_result"
    }
   ],
   "source": [
    "training_housing.head()"
   ]
  },
  {
   "cell_type": "code",
   "execution_count": null,
   "metadata": {},
   "outputs": [],
   "source": [
    "from sagemaker.image_uris import retrieve\n",
    "container = retrieve('xgboost',boto3.Session().region_name,'1.0-1')\n"
   ]
  },
  {
   "cell_type": "code",
   "execution_count": null,
   "metadata": {},
   "outputs": [],
   "source": [
    "hyperparams={\"num_round\":\"42\",\n",
    "             \"eval_metric\": \"rmse\",\n",
    "             \"objective\": \"reg:linear\"}"
   ]
  },
  {
   "cell_type": "code",
   "execution_count": null,
   "metadata": {},
   "outputs": [],
   "source": [
    "import sagemaker\n",
    "s3_output_location=\"s3://{}/{}/output/\".format(bucket,prefix)\n",
    "xgb_model=sagemaker.estimator.Estimator(container,\n",
    "                                       sagemaker.get_execution_role(),\n",
    "                                       instance_count=1,\n",
    "                                       instance_type='ml.m4.xlarge',\n",
    "                                       output_path=s3_output_location,\n",
    "                                        hyperparameters=hyperparams,\n",
    "                                        sagemaker_session=sagemaker.Session())"
   ]
  },
  {
   "cell_type": "code",
   "execution_count": null,
   "metadata": {},
   "outputs": [],
   "source": [
    "train_channel = sagemaker.inputs.TrainingInput(\n",
    "    \"s3://{}/{}/train/\".format(bucket,prefix,train_file),\n",
    "    content_type='text/csv')\n",
    "\n",
    "validate_channel = sagemaker.inputs.TrainingInput(\n",
    "    \"s3://{}/{}/validate/\".format(bucket,prefix,validate_file),\n",
    "    content_type='text/csv')\n",
    "\n",
    "data_channels = {'train': train_channel, 'validation': validate_channel}"
   ]
  },
  {
   "cell_type": "code",
   "execution_count": null,
   "metadata": {},
   "outputs": [],
   "source": [
    "xgb_model.fit(inputs=data_channels, logs=False)"
   ]
  },
  {
   "cell_type": "code",
   "execution_count": null,
   "metadata": {},
   "outputs": [],
   "source": []
  }
 ],
 "metadata": {
  "kernelspec": {
   "display_name": "Python 3",
   "language": "python",
   "name": "python3"
  },
  "language_info": {
   "codemirror_mode": {
    "name": "ipython",
    "version": 3
   },
   "file_extension": ".py",
   "mimetype": "text/x-python",
   "name": "python",
   "nbconvert_exporter": "python",
   "pygments_lexer": "ipython3",
   "version": "3.8.3"
  }
 },
 "nbformat": 4,
 "nbformat_minor": 4
}
