{
 "cells": [
  {
   "cell_type": "code",
   "execution_count": 40,
   "metadata": {},
   "outputs": [],
   "source": [
    "import time\n",
    "import boto3\n",
    "import sagemaker\n",
    "import urllib\n",
    "import os\n",
    "import pandas as pd\n",
    "from sklearn.model_selection import train_test_split"
   ]
  },
  {
   "cell_type": "code",
   "execution_count": 41,
   "metadata": {},
   "outputs": [
    {
     "name": "stdout",
     "output_type": "stream",
     "text": [
      "/home/ec2-user/SageMaker/706-Final-Project/10_Code\n"
     ]
    }
   ],
   "source": [
    "cwd = os.getcwd()\n",
    "print(cwd)"
   ]
  },
  {
   "cell_type": "code",
   "execution_count": 42,
   "metadata": {},
   "outputs": [],
   "source": [
    "# os.chdir('/Users/Reinhard')#更改路径，''里面为更改的路径\n",
    " \n",
    "# print(os.getcwd())#显示当前路径"
   ]
  },
  {
   "cell_type": "code",
   "execution_count": 43,
   "metadata": {},
   "outputs": [
    {
     "name": "stdout",
     "output_type": "stream",
     "text": [
      "make_bucket: housing-lab\n"
     ]
    }
   ],
   "source": [
    "! aws s3 mb s3://housing-lab"
   ]
  },
  {
   "cell_type": "code",
   "execution_count": 44,
   "metadata": {},
   "outputs": [
    {
     "name": "stdout",
     "output_type": "stream",
     "text": [
      "2020-11-19 01:15:48 elasticbeanstalk-us-east-1-774975782106\n",
      "2020-10-26 01:38:51 haidianhousing\n",
      "2020-10-28 02:20:59 housing-lab\n"
     ]
    }
   ],
   "source": [
    "!aws s3 ls"
   ]
  },
  {
   "cell_type": "code",
   "execution_count": 45,
   "metadata": {},
   "outputs": [
    {
     "name": "stdout",
     "output_type": "stream",
     "text": [
      "remove_bucket: elasticbeanstalk-us-east-1-774975782106\n"
     ]
    }
   ],
   "source": [
    "!aws s3 rb s3://elasticbeanstalk-us-east-1-774975782106 --force"
   ]
  },
  {
   "cell_type": "code",
   "execution_count": 46,
   "metadata": {},
   "outputs": [
    {
     "name": "stdout",
     "output_type": "stream",
     "text": [
      "2020-10-26 01:38:51 haidianhousing\n",
      "2020-10-28 02:20:59 housing-lab\n"
     ]
    }
   ],
   "source": [
    "!aws s3 ls"
   ]
  },
  {
   "cell_type": "code",
   "execution_count": 47,
   "metadata": {},
   "outputs": [
    {
     "name": "stdout",
     "output_type": "stream",
     "text": [
      "      Name                    Value             Type    Location\n",
      "      ----                    -----             ----    --------\n",
      "   profile                <not set>             None    None\n",
      "access_key     ****************ZPF4         iam-role    \n",
      "secret_key     ****************/LN/         iam-role    \n",
      "    region                us-east-1      config-file    ~/.aws/config\n"
     ]
    }
   ],
   "source": [
    "! aws configure list"
   ]
  },
  {
   "cell_type": "code",
   "execution_count": 48,
   "metadata": {},
   "outputs": [],
   "source": [
    "# 获取当前AWS region和notebook所绑定的role\n",
    "role = sagemaker.get_execution_role()\n",
    "region = boto3.Session().region_name"
   ]
  },
  {
   "cell_type": "code",
   "execution_count": 49,
   "metadata": {},
   "outputs": [],
   "source": [
    "# 设置数据存放的桶和工作目录\n",
    "bucket = 'housing-lab'\n",
    "prefix = 'ori-data'"
   ]
  },
  {
   "cell_type": "code",
   "execution_count": 50,
   "metadata": {},
   "outputs": [],
   "source": [
    "X = pd.read_csv(\"/home/ec2-user/SageMaker/706-Final-Project/20_Cleaned_Data/prepared_data.csv\" )"
   ]
  },
  {
   "cell_type": "code",
   "execution_count": 51,
   "metadata": {},
   "outputs": [],
   "source": [
    "# # 可以使用 SageMaker session 来上传下载数据，这里把S3的训练数据下载到当前目录\n",
    "# sm_session = sagemaker.Session()\n",
    "# sm_session.download_data(\"./\", bucket, prefix + 'train.csv')\n",
    "# sm_session.download_data(\"./\", bucket, prefix + 'test.csv')"
   ]
  },
  {
   "cell_type": "code",
   "execution_count": 52,
   "metadata": {},
   "outputs": [
    {
     "data": {
      "text/html": [
       "<div>\n",
       "<style scoped>\n",
       "    .dataframe tbody tr th:only-of-type {\n",
       "        vertical-align: middle;\n",
       "    }\n",
       "\n",
       "    .dataframe tbody tr th {\n",
       "        vertical-align: top;\n",
       "    }\n",
       "\n",
       "    .dataframe thead th {\n",
       "        text-align: right;\n",
       "    }\n",
       "</style>\n",
       "<table border=\"1\" class=\"dataframe\">\n",
       "  <thead>\n",
       "    <tr style=\"text-align: right;\">\n",
       "      <th></th>\n",
       "      <th>Price/Square Meter</th>\n",
       "      <th>Housing_ID</th>\n",
       "      <th>Livable Area</th>\n",
       "      <th>Price</th>\n",
       "      <th>Facing_East</th>\n",
       "      <th>Facing_North</th>\n",
       "      <th>Facing_South</th>\n",
       "      <th>Facing_West</th>\n",
       "      <th>Decoration_Level</th>\n",
       "      <th>Floor_Level</th>\n",
       "    </tr>\n",
       "  </thead>\n",
       "  <tbody>\n",
       "    <tr>\n",
       "      <th>0</th>\n",
       "      <td>38544.0</td>\n",
       "      <td>1</td>\n",
       "      <td>56.30</td>\n",
       "      <td>217.0</td>\n",
       "      <td>0</td>\n",
       "      <td>0</td>\n",
       "      <td>1</td>\n",
       "      <td>0</td>\n",
       "      <td>1</td>\n",
       "      <td>2</td>\n",
       "    </tr>\n",
       "    <tr>\n",
       "      <th>1</th>\n",
       "      <td>33667.0</td>\n",
       "      <td>2</td>\n",
       "      <td>55.10</td>\n",
       "      <td>185.5</td>\n",
       "      <td>0</td>\n",
       "      <td>0</td>\n",
       "      <td>1</td>\n",
       "      <td>0</td>\n",
       "      <td>3</td>\n",
       "      <td>1</td>\n",
       "    </tr>\n",
       "    <tr>\n",
       "      <th>2</th>\n",
       "      <td>91429.0</td>\n",
       "      <td>3</td>\n",
       "      <td>70.00</td>\n",
       "      <td>640.0</td>\n",
       "      <td>0</td>\n",
       "      <td>0</td>\n",
       "      <td>1</td>\n",
       "      <td>0</td>\n",
       "      <td>1</td>\n",
       "      <td>3</td>\n",
       "    </tr>\n",
       "    <tr>\n",
       "      <th>3</th>\n",
       "      <td>102752.0</td>\n",
       "      <td>4</td>\n",
       "      <td>98.49</td>\n",
       "      <td>1012.0</td>\n",
       "      <td>0</td>\n",
       "      <td>0</td>\n",
       "      <td>1</td>\n",
       "      <td>0</td>\n",
       "      <td>1</td>\n",
       "      <td>4</td>\n",
       "    </tr>\n",
       "    <tr>\n",
       "      <th>4</th>\n",
       "      <td>98847.0</td>\n",
       "      <td>5</td>\n",
       "      <td>60.70</td>\n",
       "      <td>600.0</td>\n",
       "      <td>0</td>\n",
       "      <td>0</td>\n",
       "      <td>1</td>\n",
       "      <td>0</td>\n",
       "      <td>3</td>\n",
       "      <td>4</td>\n",
       "    </tr>\n",
       "  </tbody>\n",
       "</table>\n",
       "</div>"
      ],
      "text/plain": [
       "   Price/Square Meter  Housing_ID  Livable Area   Price  Facing_East  \\\n",
       "0             38544.0           1         56.30   217.0            0   \n",
       "1             33667.0           2         55.10   185.5            0   \n",
       "2             91429.0           3         70.00   640.0            0   \n",
       "3            102752.0           4         98.49  1012.0            0   \n",
       "4             98847.0           5         60.70   600.0            0   \n",
       "\n",
       "   Facing_North  Facing_South  Facing_West  Decoration_Level  Floor_Level  \n",
       "0             0             1            0                 1            2  \n",
       "1             0             1            0                 3            1  \n",
       "2             0             1            0                 1            3  \n",
       "3             0             1            0                 1            4  \n",
       "4             0             1            0                 3            4  "
      ]
     },
     "execution_count": 52,
     "metadata": {},
     "output_type": "execute_result"
    }
   ],
   "source": [
    "# 通过describe来对查看一下训练数据feature的构成和分布\n",
    "X.head()"
   ]
  },
  {
   "cell_type": "code",
   "execution_count": 53,
   "metadata": {},
   "outputs": [],
   "source": [
    "# 提取训练数据中的label列\n",
    "y = X['Price/Square Meter']"
   ]
  },
  {
   "cell_type": "code",
   "execution_count": 54,
   "metadata": {},
   "outputs": [
    {
     "data": {
      "text/plain": [
       "0     38544.0\n",
       "1     33667.0\n",
       "2     91429.0\n",
       "3    102752.0\n",
       "4     98847.0\n",
       "Name: Price/Square Meter, dtype: float64"
      ]
     },
     "execution_count": 54,
     "metadata": {},
     "output_type": "execute_result"
    }
   ],
   "source": [
    "y.head()"
   ]
  },
  {
   "cell_type": "code",
   "execution_count": 55,
   "metadata": {},
   "outputs": [
    {
     "data": {
      "text/plain": [
       "0         38544.0\n",
       "1         33667.0\n",
       "2         91429.0\n",
       "3        102752.0\n",
       "4         98847.0\n",
       "           ...   \n",
       "69299     31305.0\n",
       "69300     33710.0\n",
       "69301     30485.0\n",
       "69302     33380.0\n",
       "69303     29861.0\n",
       "Name: Price/Square Meter, Length: 69304, dtype: float64"
      ]
     },
     "execution_count": 55,
     "metadata": {},
     "output_type": "execute_result"
    }
   ],
   "source": [
    "y"
   ]
  },
  {
   "cell_type": "code",
   "execution_count": 56,
   "metadata": {},
   "outputs": [
    {
     "data": {
      "text/plain": [
       "0     38544.0\n",
       "1     33667.0\n",
       "2     91429.0\n",
       "3    102752.0\n",
       "4     98847.0\n",
       "Name: Price/Square Meter, dtype: float64"
      ]
     },
     "execution_count": 56,
     "metadata": {},
     "output_type": "execute_result"
    }
   ],
   "source": [
    "y.head()"
   ]
  },
  {
   "cell_type": "code",
   "execution_count": 57,
   "metadata": {},
   "outputs": [],
   "source": [
    "# 在原始数据中丢弃label列\n",
    "X.drop(['Price/Square Meter'], axis=1, inplace=True)"
   ]
  },
  {
   "cell_type": "code",
   "execution_count": 58,
   "metadata": {},
   "outputs": [
    {
     "data": {
      "text/html": [
       "<div>\n",
       "<style scoped>\n",
       "    .dataframe tbody tr th:only-of-type {\n",
       "        vertical-align: middle;\n",
       "    }\n",
       "\n",
       "    .dataframe tbody tr th {\n",
       "        vertical-align: top;\n",
       "    }\n",
       "\n",
       "    .dataframe thead th {\n",
       "        text-align: right;\n",
       "    }\n",
       "</style>\n",
       "<table border=\"1\" class=\"dataframe\">\n",
       "  <thead>\n",
       "    <tr style=\"text-align: right;\">\n",
       "      <th></th>\n",
       "      <th>Housing_ID</th>\n",
       "      <th>Livable Area</th>\n",
       "      <th>Price</th>\n",
       "      <th>Facing_East</th>\n",
       "      <th>Facing_North</th>\n",
       "      <th>Facing_South</th>\n",
       "      <th>Facing_West</th>\n",
       "      <th>Decoration_Level</th>\n",
       "      <th>Floor_Level</th>\n",
       "    </tr>\n",
       "  </thead>\n",
       "  <tbody>\n",
       "    <tr>\n",
       "      <th>0</th>\n",
       "      <td>1</td>\n",
       "      <td>56.30</td>\n",
       "      <td>217.0</td>\n",
       "      <td>0</td>\n",
       "      <td>0</td>\n",
       "      <td>1</td>\n",
       "      <td>0</td>\n",
       "      <td>1</td>\n",
       "      <td>2</td>\n",
       "    </tr>\n",
       "    <tr>\n",
       "      <th>1</th>\n",
       "      <td>2</td>\n",
       "      <td>55.10</td>\n",
       "      <td>185.5</td>\n",
       "      <td>0</td>\n",
       "      <td>0</td>\n",
       "      <td>1</td>\n",
       "      <td>0</td>\n",
       "      <td>3</td>\n",
       "      <td>1</td>\n",
       "    </tr>\n",
       "    <tr>\n",
       "      <th>2</th>\n",
       "      <td>3</td>\n",
       "      <td>70.00</td>\n",
       "      <td>640.0</td>\n",
       "      <td>0</td>\n",
       "      <td>0</td>\n",
       "      <td>1</td>\n",
       "      <td>0</td>\n",
       "      <td>1</td>\n",
       "      <td>3</td>\n",
       "    </tr>\n",
       "    <tr>\n",
       "      <th>3</th>\n",
       "      <td>4</td>\n",
       "      <td>98.49</td>\n",
       "      <td>1012.0</td>\n",
       "      <td>0</td>\n",
       "      <td>0</td>\n",
       "      <td>1</td>\n",
       "      <td>0</td>\n",
       "      <td>1</td>\n",
       "      <td>4</td>\n",
       "    </tr>\n",
       "    <tr>\n",
       "      <th>4</th>\n",
       "      <td>5</td>\n",
       "      <td>60.70</td>\n",
       "      <td>600.0</td>\n",
       "      <td>0</td>\n",
       "      <td>0</td>\n",
       "      <td>1</td>\n",
       "      <td>0</td>\n",
       "      <td>3</td>\n",
       "      <td>4</td>\n",
       "    </tr>\n",
       "  </tbody>\n",
       "</table>\n",
       "</div>"
      ],
      "text/plain": [
       "   Housing_ID  Livable Area   Price  Facing_East  Facing_North  Facing_South  \\\n",
       "0           1         56.30   217.0            0             0             1   \n",
       "1           2         55.10   185.5            0             0             1   \n",
       "2           3         70.00   640.0            0             0             1   \n",
       "3           4         98.49  1012.0            0             0             1   \n",
       "4           5         60.70   600.0            0             0             1   \n",
       "\n",
       "   Facing_West  Decoration_Level  Floor_Level  \n",
       "0            0                 1            2  \n",
       "1            0                 3            1  \n",
       "2            0                 1            3  \n",
       "3            0                 1            4  \n",
       "4            0                 3            4  "
      ]
     },
     "execution_count": 58,
     "metadata": {},
     "output_type": "execute_result"
    }
   ],
   "source": [
    "X.head()"
   ]
  },
  {
   "cell_type": "code",
   "execution_count": 59,
   "metadata": {},
   "outputs": [],
   "source": [
    "# 拆分原始训练数据为四份，X_train, X_valid, y_train, y_valid\n",
    "X_train, X_valid, y_train, y_valid = train_test_split(X, y, train_size=0.8, test_size=0.2, random_state=0)"
   ]
  },
  {
   "cell_type": "code",
   "execution_count": 60,
   "metadata": {},
   "outputs": [],
   "source": [
    "X_train_xgb= pd.concat([y_train,X_train], axis=1)\n",
    "X_train_xgb.to_csv('./X_train.csv',header=False,index=False)"
   ]
  },
  {
   "cell_type": "code",
   "execution_count": 61,
   "metadata": {},
   "outputs": [],
   "source": [
    "X_valid_xgb= pd.concat([y_valid,X_valid], axis=1)\n",
    "X_valid_xgb.to_csv('./X_valid.csv',header=False,index=False)"
   ]
  },
  {
   "cell_type": "code",
   "execution_count": 62,
   "metadata": {},
   "outputs": [
    {
     "data": {
      "text/plain": [
       "'s3://housing-lab/ori-data/X_valid.csv'"
      ]
     },
     "execution_count": 62,
     "metadata": {},
     "output_type": "execute_result"
    }
   ],
   "source": [
    "sm_session = sagemaker.Session()\n",
    "train_data_location = 's3://{}/{}/{}'.format(bucket, prefix, 'train')\n",
    "validation_data_location = 's3://{}/{}/{}'.format(bucket, prefix, 'validation')\n",
    "sm_session.upload_data('./X_train.csv',bucket,prefix)\n",
    "sm_session.upload_data('./X_valid.csv',bucket,prefix)"
   ]
  },
  {
   "cell_type": "code",
   "execution_count": 63,
   "metadata": {},
   "outputs": [
    {
     "name": "stderr",
     "output_type": "stream",
     "text": [
      "The method get_image_uri has been renamed in sagemaker>=2.\n",
      "See: https://sagemaker.readthedocs.io/en/stable/v2.html for details.\n"
     ]
    }
   ],
   "source": [
    "# 我们使⽤SageMaker内置的XGBoost来训练，⾸先要获取这个算法的container\n",
    "from sagemaker.amazon.amazon_estimator import get_image_uri\n",
    "container = get_image_uri(region, 'xgboost', repo_version='0.90-2')"
   ]
  },
  {
   "cell_type": "code",
   "execution_count": 64,
   "metadata": {},
   "outputs": [],
   "source": [
    "# 设置算法超参\n",
    "hyperparameters = {\n",
    "\"max_depth\":\"5\",\n",
    "\"eta\":\"0.5\",\n",
    "\"early_stopping_rounds\":\"5\",\n",
    "\"eval_metric\":\"rmse\",\n",
    "\"num_round\":\"30\",\n",
    "\"objective\":\"reg:linear\"}"
   ]
  },
  {
   "cell_type": "code",
   "execution_count": 65,
   "metadata": {},
   "outputs": [],
   "source": [
    "# 训练使⽤哪种EC2实例来完成\n",
    "instance_type = 'ml.m4.xlarge'"
   ]
  },
  {
   "cell_type": "code",
   "execution_count": 66,
   "metadata": {},
   "outputs": [],
   "source": [
    "# 模型输出⽬录\n",
    "output_path = 's3://{}/{}/output'.format(bucket, prefix)"
   ]
  },
  {
   "cell_type": "code",
   "execution_count": 67,
   "metadata": {},
   "outputs": [],
   "source": [
    "# 训练输⼊数据的类型\n",
    "content_type = \"csv\""
   ]
  },
  {
   "cell_type": "code",
   "execution_count": 68,
   "metadata": {},
   "outputs": [
    {
     "name": "stdout",
     "output_type": "stream",
     "text": [
      "Training job xgb-housing-2020-11-19-02-54-04\n"
     ]
    }
   ],
   "source": [
    "# 设置训练任务的名字\n",
    "job_name = 'xgb-housing-' + time.strftime(\"%Y-%m-%d-%H-%M-%S\", time.gmtime())\n",
    "print(\"Training job\", job_name)"
   ]
  },
  {
   "cell_type": "code",
   "execution_count": 69,
   "metadata": {},
   "outputs": [],
   "source": [
    "# 借助 Managed Spot Training 功能，⼤幅降低训练成本\n",
    "train_use_spot_instances = True\n",
    "train_max_run = 3600\n",
    "train_max_wait = 3600 if train_use_spot_instances else None\n",
    "checkpoint_s3_uri = ('s3://{}/{}/checkpoints/{}'.format(bucket, prefix,\n",
    "job_name)\n",
    "if train_use_spot_instances else None)"
   ]
  },
  {
   "cell_type": "code",
   "execution_count": 70,
   "metadata": {},
   "outputs": [
    {
     "name": "stderr",
     "output_type": "stream",
     "text": [
      "train_instance_count has been renamed in sagemaker>=2.\n",
      "See: https://sagemaker.readthedocs.io/en/stable/v2.html for details.\n",
      "train_instance_type has been renamed in sagemaker>=2.\n",
      "See: https://sagemaker.readthedocs.io/en/stable/v2.html for details.\n",
      "train_max_run has been renamed in sagemaker>=2.\n",
      "See: https://sagemaker.readthedocs.io/en/stable/v2.html for details.\n",
      "train_use_spot_instances has been renamed in sagemaker>=2.\n",
      "See: https://sagemaker.readthedocs.io/en/stable/v2.html for details.\n",
      "train_max_wait has been renamed in sagemaker>=2.\n",
      "See: https://sagemaker.readthedocs.io/en/stable/v2.html for details.\n",
      "train_volume_size has been renamed in sagemaker>=2.\n",
      "See: https://sagemaker.readthedocs.io/en/stable/v2.html for details.\n"
     ]
    }
   ],
   "source": [
    "# 在SageMaker⾥的使⽤任何算法来训练都要先⽣成⼀个 estimator 对象\n",
    "xgb = sagemaker.estimator.Estimator(container,\n",
    "role,\n",
    "hyperparameters=hyperparameters,\n",
    "train_instance_count=1,\n",
    "train_instance_type=instance_type,\n",
    "train_volume_size=5, # 5 GB\n",
    "output_path=output_path,\n",
    "sagemaker_session=sagemaker.Session(),\n",
    "train_use_spot_instances=train_use_spot_instances,\n",
    "train_max_run=train_max_run,\n",
    "train_max_wait=train_max_wait,\n",
    "checkpoint_s3_uri=checkpoint_s3_uri\n",
    ");"
   ]
  },
  {
   "cell_type": "code",
   "execution_count": 71,
   "metadata": {},
   "outputs": [
    {
     "name": "stderr",
     "output_type": "stream",
     "text": [
      "The class sagemaker.session.s3_input has been renamed in sagemaker>=2.\n",
      "See: https://sagemaker.readthedocs.io/en/stable/v2.html for details.\n",
      "The class sagemaker.session.s3_input has been renamed in sagemaker>=2.\n",
      "See: https://sagemaker.readthedocs.io/en/stable/v2.html for details.\n"
     ]
    }
   ],
   "source": [
    "# 设置训练数据的 data channel\n",
    "train_data_location = 's3://{}/{}/{}'.format(bucket, prefix, 'X_train.csv')\n",
    "validation_data_location = 's3://{}/{}/{}'.format(bucket, prefix,\n",
    "'X_valid.csv')\n",
    "train_channel = sagemaker.session.s3_input(train_data_location,\n",
    "content_type='csv')\n",
    "valid_channel = sagemaker.session.s3_input(validation_data_location,\n",
    "content_type='csv')\n",
    "data_channels = {'train': train_channel, 'validation': valid_channel}"
   ]
  },
  {
   "cell_type": "code",
   "execution_count": 72,
   "metadata": {},
   "outputs": [
    {
     "name": "stdout",
     "output_type": "stream",
     "text": [
      "2020-11-19 02:54:18 Starting - Starting the training job...\n",
      "2020-11-19 02:54:22 Starting - Launching requested ML instances......\n",
      "2020-11-19 02:55:38 Starting - Preparing the instances for training.........\n",
      "2020-11-19 02:56:50 Downloading - Downloading input data...\n",
      "2020-11-19 02:57:44 Training - Training image download completed. Training in progress..\u001b[34mINFO:sagemaker-containers:Imported framework sagemaker_xgboost_container.training\u001b[0m\n",
      "\u001b[34mINFO:sagemaker-containers:Failed to parse hyperparameter eval_metric value rmse to Json.\u001b[0m\n",
      "\u001b[34mReturning the value itself\u001b[0m\n",
      "\u001b[34mINFO:sagemaker-containers:Failed to parse hyperparameter objective value reg:linear to Json.\u001b[0m\n",
      "\u001b[34mReturning the value itself\u001b[0m\n",
      "\u001b[34mINFO:sagemaker-containers:No GPUs detected (normal if no gpus installed)\u001b[0m\n",
      "\u001b[34mINFO:sagemaker_xgboost_container.training:Running XGBoost Sagemaker in algorithm mode\u001b[0m\n",
      "\u001b[34mINFO:root:Determined delimiter of CSV input is ','\u001b[0m\n",
      "\u001b[34mINFO:root:Determined delimiter of CSV input is ','\u001b[0m\n",
      "\u001b[34mINFO:root:Determined delimiter of CSV input is ','\u001b[0m\n",
      "\u001b[34m[02:57:47] 55443x9 matrix with 498987 entries loaded from /opt/ml/input/data/train?format=csv&label_column=0&delimiter=,\u001b[0m\n",
      "\u001b[34mINFO:root:Determined delimiter of CSV input is ','\u001b[0m\n",
      "\u001b[34m[02:57:47] 13861x9 matrix with 124749 entries loaded from /opt/ml/input/data/validation?format=csv&label_column=0&delimiter=,\u001b[0m\n",
      "\u001b[34mINFO:root:Single node training.\u001b[0m\n",
      "\u001b[34mINFO:root:Train matrix has 55443 rows\u001b[0m\n",
      "\u001b[34mINFO:root:Validation matrix has 13861 rows\u001b[0m\n",
      "\u001b[34m[02:57:47] WARNING: /workspace/src/objective/regression_obj.cu:152: reg:linear is now deprecated in favor of reg:squarederror.\u001b[0m\n",
      "\u001b[34m[0]#011train-rmse:33690.6#011validation-rmse:33721\u001b[0m\n",
      "\u001b[34m[1]#011train-rmse:17778.6#011validation-rmse:17769.3\u001b[0m\n",
      "\u001b[34m[2]#011train-rmse:9779.51#011validation-rmse:9747.33\u001b[0m\n",
      "\u001b[34m[3]#011train-rmse:5973.15#011validation-rmse:5961.17\u001b[0m\n",
      "\u001b[34m[4]#011train-rmse:4184.79#011validation-rmse:4222.49\u001b[0m\n",
      "\u001b[34m[5]#011train-rmse:3403.61#011validation-rmse:3476.16\u001b[0m\n",
      "\u001b[34m[6]#011train-rmse:3128.68#011validation-rmse:3201.73\u001b[0m\n",
      "\u001b[34m[7]#011train-rmse:2803.3#011validation-rmse:2857.12\u001b[0m\n",
      "\u001b[34m[8]#011train-rmse:2708.7#011validation-rmse:2765.06\u001b[0m\n",
      "\u001b[34m[9]#011train-rmse:2551.31#011validation-rmse:2609.59\u001b[0m\n",
      "\u001b[34m[10]#011train-rmse:2490.94#011validation-rmse:2556.03\u001b[0m\n",
      "\u001b[34m[11]#011train-rmse:2404.91#011validation-rmse:2462.06\u001b[0m\n",
      "\u001b[34m[12]#011train-rmse:2348.82#011validation-rmse:2410.84\u001b[0m\n",
      "\u001b[34m[13]#011train-rmse:2290.49#011validation-rmse:2354.22\u001b[0m\n",
      "\u001b[34m[14]#011train-rmse:2193.35#011validation-rmse:2255.32\u001b[0m\n",
      "\u001b[34m[15]#011train-rmse:2165.85#011validation-rmse:2227.94\u001b[0m\n",
      "\u001b[34m[16]#011train-rmse:2144.05#011validation-rmse:2209.63\u001b[0m\n",
      "\u001b[34m[17]#011train-rmse:2124.56#011validation-rmse:2194.43\u001b[0m\n",
      "\u001b[34m[18]#011train-rmse:2070.53#011validation-rmse:2142.39\u001b[0m\n",
      "\u001b[34m[19]#011train-rmse:2003.78#011validation-rmse:2073.5\u001b[0m\n",
      "\u001b[34m[20]#011train-rmse:1924.49#011validation-rmse:1995.65\u001b[0m\n",
      "\u001b[34m[21]#011train-rmse:1871.88#011validation-rmse:1945.58\u001b[0m\n",
      "\u001b[34m[22]#011train-rmse:1831.38#011validation-rmse:1902.36\u001b[0m\n",
      "\u001b[34m[23]#011train-rmse:1800.67#011validation-rmse:1874.21\u001b[0m\n",
      "\u001b[34m[24]#011train-rmse:1758.21#011validation-rmse:1836.36\u001b[0m\n",
      "\u001b[34m[25]#011train-rmse:1730.99#011validation-rmse:1808.83\u001b[0m\n",
      "\u001b[34m[26]#011train-rmse:1721.82#011validation-rmse:1802.09\u001b[0m\n",
      "\u001b[34m[27]#011train-rmse:1705.27#011validation-rmse:1783.82\u001b[0m\n",
      "\u001b[34m[28]#011train-rmse:1674.25#011validation-rmse:1754.39\u001b[0m\n",
      "\u001b[34m[29]#011train-rmse:1627.73#011validation-rmse:1710.09\u001b[0m\n",
      "\n",
      "2020-11-19 02:57:58 Uploading - Uploading generated training model\n",
      "2020-11-19 02:57:58 Completed - Training job completed\n",
      "Training seconds: 68\n",
      "Billable seconds: 34\n",
      "Managed Spot Training savings: 50.0%\n",
      "CPU times: user 556 ms, sys: 1 ms, total: 557 ms\n",
      "Wall time: 4min 12s\n"
     ]
    }
   ],
   "source": [
    "%%time\n",
    "# 调⽤ fit 来训练\n",
    "xgb.fit(inputs=data_channels, job_name=job_name, logs=True)"
   ]
  },
  {
   "cell_type": "code",
   "execution_count": 73,
   "metadata": {},
   "outputs": [
    {
     "name": "stdout",
     "output_type": "stream",
     "text": [
      "......................................................................................................................................................................................................!\n",
      "!\n",
      "CPU times: user 1.16 s, sys: 0 ns, total: 1.16 s\n",
      "Wall time: 16min 41s\n"
     ]
    }
   ],
   "source": [
    "%%time\n",
    "from sagemaker.tuner import IntegerParameter, CategoricalParameter, ContinuousParameter, HyperparameterTuner\n",
    "\n",
    "# xgb = sagemaker.estimator.Estimator(container,\n",
    "#                                     role=sagemaker.get_execution_role(), \n",
    "#                                     instance_count= 1, # make sure you have limit set for these instances\n",
    "#                                     instance_type='ml.m4.xlarge', \n",
    "#                                     output_path='s3://{}/{}/output'.format(bucket, prefix),\n",
    "#                                     sagemaker_session=sagemaker.Session())\n",
    "\n",
    "# # # 设置算法超参\n",
    "# # hyperparameters = {\n",
    "# # \"max_depth\":\"5\",\n",
    "# # \"eta\":\"0.5\",\n",
    "# # \"early_stopping_rounds\":\"5\",\n",
    "# # \"eval_metric\":\"rmse\",\n",
    "# # \"num_round\":\"30\"\n",
    "# # \"objective\"=\"reg:linear\",\n",
    "# }\n",
    "\n",
    "\n",
    "hyperparameter_ranges = {'max_depth':IntegerParameter(1,10),\n",
    "                         'alpha': ContinuousParameter(0, 100),\n",
    "                         'min_child_weight': ContinuousParameter(1, 5),\n",
    "                         'eta': ContinuousParameter(0.2, 0.7),  \n",
    "                         'num_round': IntegerParameter(10,200)\n",
    "                         }\n",
    "\n",
    "\n",
    "objective_metric_name = 'validation:rmse'\n",
    "objective_type = 'Minimize'\n",
    "\n",
    "tuner = HyperparameterTuner(xgb,\n",
    "                            objective_metric_name,\n",
    "                            hyperparameter_ranges,\n",
    "                            max_jobs=3, # Set this to 10 or above depending upon budget & available time.\n",
    "                            max_parallel_jobs=1,\n",
    "                            objective_type=objective_type,\n",
    "                            early_stopping_type='Auto')\n",
    "\n",
    "tuner.fit(inputs=data_channels, include_cls_metadata=False)\n",
    "tuner.wait()"
   ]
  },
  {
   "cell_type": "code",
   "execution_count": 74,
   "metadata": {},
   "outputs": [
    {
     "name": "stdout",
     "output_type": "stream",
     "text": [
      "CPU times: user 71.4 ms, sys: 0 ns, total: 71.4 ms\n",
      "Wall time: 1.15 s\n"
     ]
    },
    {
     "data": {
      "text/plain": [
       "'Completed'"
      ]
     },
     "execution_count": 74,
     "metadata": {},
     "output_type": "execute_result"
    }
   ],
   "source": [
    "%%time\n",
    "boto3.client('sagemaker').describe_hyper_parameter_tuning_job(\n",
    "    HyperParameterTuningJobName=tuner.latest_tuning_job.job_name)['HyperParameterTuningJobStatus']"
   ]
  },
  {
   "cell_type": "code",
   "execution_count": 75,
   "metadata": {},
   "outputs": [
    {
     "name": "stdout",
     "output_type": "stream",
     "text": [
      "CPU times: user 27.7 ms, sys: 0 ns, total: 27.7 ms\n",
      "Wall time: 88.7 ms\n"
     ]
    },
    {
     "data": {
      "text/html": [
       "<div>\n",
       "<style scoped>\n",
       "    .dataframe tbody tr th:only-of-type {\n",
       "        vertical-align: middle;\n",
       "    }\n",
       "\n",
       "    .dataframe tbody tr th {\n",
       "        vertical-align: top;\n",
       "    }\n",
       "\n",
       "    .dataframe thead th {\n",
       "        text-align: right;\n",
       "    }\n",
       "</style>\n",
       "<table border=\"1\" class=\"dataframe\">\n",
       "  <thead>\n",
       "    <tr style=\"text-align: right;\">\n",
       "      <th></th>\n",
       "      <th>alpha</th>\n",
       "      <th>eta</th>\n",
       "      <th>max_depth</th>\n",
       "      <th>min_child_weight</th>\n",
       "      <th>num_round</th>\n",
       "      <th>TrainingJobName</th>\n",
       "      <th>TrainingJobStatus</th>\n",
       "      <th>FinalObjectiveValue</th>\n",
       "      <th>TrainingStartTime</th>\n",
       "      <th>TrainingEndTime</th>\n",
       "      <th>TrainingElapsedTimeSeconds</th>\n",
       "    </tr>\n",
       "  </thead>\n",
       "  <tbody>\n",
       "    <tr>\n",
       "      <th>1</th>\n",
       "      <td>92.202576</td>\n",
       "      <td>0.687525</td>\n",
       "      <td>10.0</td>\n",
       "      <td>1.125295</td>\n",
       "      <td>83.0</td>\n",
       "      <td>sagemaker-xgboost-201119-0258-003-9b1f78c2</td>\n",
       "      <td>Completed</td>\n",
       "      <td>836.398010</td>\n",
       "      <td>2020-11-19 03:09:01+00:00</td>\n",
       "      <td>2020-11-19 03:10:15+00:00</td>\n",
       "      <td>74.0</td>\n",
       "    </tr>\n",
       "    <tr>\n",
       "      <th>2</th>\n",
       "      <td>55.677068</td>\n",
       "      <td>0.321997</td>\n",
       "      <td>3.0</td>\n",
       "      <td>4.604017</td>\n",
       "      <td>72.0</td>\n",
       "      <td>sagemaker-xgboost-201119-0258-002-d8aecaa5</td>\n",
       "      <td>Completed</td>\n",
       "      <td>2000.130005</td>\n",
       "      <td>2020-11-19 03:04:59+00:00</td>\n",
       "      <td>2020-11-19 03:06:20+00:00</td>\n",
       "      <td>81.0</td>\n",
       "    </tr>\n",
       "    <tr>\n",
       "      <th>0</th>\n",
       "      <td>80.749329</td>\n",
       "      <td>0.663462</td>\n",
       "      <td>2.0</td>\n",
       "      <td>1.038747</td>\n",
       "      <td>123.0</td>\n",
       "      <td>sagemaker-xgboost-201119-0258-004-9d261826</td>\n",
       "      <td>Completed</td>\n",
       "      <td>2360.750000</td>\n",
       "      <td>2020-11-19 03:13:27+00:00</td>\n",
       "      <td>2020-11-19 03:14:43+00:00</td>\n",
       "      <td>76.0</td>\n",
       "    </tr>\n",
       "    <tr>\n",
       "      <th>3</th>\n",
       "      <td>31.107361</td>\n",
       "      <td>0.559051</td>\n",
       "      <td>9.0</td>\n",
       "      <td>1.788830</td>\n",
       "      <td>73.0</td>\n",
       "      <td>sagemaker-xgboost-201119-0258-001-a6f4287e</td>\n",
       "      <td>Failed</td>\n",
       "      <td>NaN</td>\n",
       "      <td>NaT</td>\n",
       "      <td>2020-11-19 03:01:39+00:00</td>\n",
       "      <td>NaN</td>\n",
       "    </tr>\n",
       "  </tbody>\n",
       "</table>\n",
       "</div>"
      ],
      "text/plain": [
       "       alpha       eta  max_depth  min_child_weight  num_round  \\\n",
       "1  92.202576  0.687525       10.0          1.125295       83.0   \n",
       "2  55.677068  0.321997        3.0          4.604017       72.0   \n",
       "0  80.749329  0.663462        2.0          1.038747      123.0   \n",
       "3  31.107361  0.559051        9.0          1.788830       73.0   \n",
       "\n",
       "                              TrainingJobName TrainingJobStatus  \\\n",
       "1  sagemaker-xgboost-201119-0258-003-9b1f78c2         Completed   \n",
       "2  sagemaker-xgboost-201119-0258-002-d8aecaa5         Completed   \n",
       "0  sagemaker-xgboost-201119-0258-004-9d261826         Completed   \n",
       "3  sagemaker-xgboost-201119-0258-001-a6f4287e            Failed   \n",
       "\n",
       "   FinalObjectiveValue         TrainingStartTime           TrainingEndTime  \\\n",
       "1           836.398010 2020-11-19 03:09:01+00:00 2020-11-19 03:10:15+00:00   \n",
       "2          2000.130005 2020-11-19 03:04:59+00:00 2020-11-19 03:06:20+00:00   \n",
       "0          2360.750000 2020-11-19 03:13:27+00:00 2020-11-19 03:14:43+00:00   \n",
       "3                  NaN                       NaT 2020-11-19 03:01:39+00:00   \n",
       "\n",
       "   TrainingElapsedTimeSeconds  \n",
       "1                        74.0  \n",
       "2                        81.0  \n",
       "0                        76.0  \n",
       "3                         NaN  "
      ]
     },
     "execution_count": 75,
     "metadata": {},
     "output_type": "execute_result"
    }
   ],
   "source": [
    "%%time\n",
    "from pprint import pprint\n",
    "from sagemaker.analytics import HyperparameterTuningJobAnalytics\n",
    "\n",
    "tuner_analytics = HyperparameterTuningJobAnalytics(tuner.latest_tuning_job.name, sagemaker_session=sagemaker.Session())\n",
    "\n",
    "df_tuning_job_analytics = tuner_analytics.dataframe()\n",
    "\n",
    "# Sort the tuning job analytics by the final metrics value\n",
    "df_tuning_job_analytics.sort_values(\n",
    "    by=['FinalObjectiveValue'],\n",
    "    inplace=True,\n",
    "    ascending=False if tuner.objective_type == \"Maximize\" else True)\n",
    "\n",
    "# Show detailed analytics for the top 20 models\n",
    "df_tuning_job_analytics.head(20)"
   ]
  },
  {
   "cell_type": "code",
   "execution_count": 76,
   "metadata": {},
   "outputs": [],
   "source": [
    "attached_tuner = HyperparameterTuner.attach(tuner.latest_tuning_job.name, sagemaker_session=sagemaker.Session())\n",
    "best_training_job = attached_tuner.best_training_job()"
   ]
  },
  {
   "cell_type": "code",
   "execution_count": 77,
   "metadata": {},
   "outputs": [
    {
     "name": "stdout",
     "output_type": "stream",
     "text": [
      "\n",
      "2020-11-19 03:10:15 Starting - Preparing the instances for training\n",
      "2020-11-19 03:10:15 Downloading - Downloading input data\n",
      "2020-11-19 03:10:15 Training - Training image download completed. Training in progress.\n",
      "2020-11-19 03:10:15 Uploading - Uploading generated training model\n",
      "2020-11-19 03:10:15 Completed - Training job completed\n"
     ]
    }
   ],
   "source": [
    "from sagemaker.estimator import Estimator\n",
    "algo_estimator = Estimator.attach(best_training_job)\n",
    "\n",
    "best_algo_model = algo_estimator.create_model(env={'SAGEMAKER_DEFAULT_INVOCATIONS_ACCEPT':\"text/csv\"})"
   ]
  },
  {
   "cell_type": "code",
   "execution_count": 38,
   "metadata": {},
   "outputs": [],
   "source": [
    "# %%time\n",
    "# batch_output = \"s3://{}/{}/batch-out/\".format(bucket,prefix)\n",
    "# batch_input = \"s3://{}/{}/batch-in/{}\".format(bucket,prefix,batch_X_file)\n",
    "\n",
    "# xgb_transformer = best_algo_model.transformer(instance_count=1,\n",
    "#                                        instance_type='ml.m4.xlarge',\n",
    "#                                        strategy='MultiRecord',\n",
    "#                                        assemble_with='Line',\n",
    "#                                        output_path=batch_output)\n",
    "\n",
    "\n",
    "# xgb_transformer.transform(data=batch_input,\n",
    "#                          data_type='S3Prefix',\n",
    "#                          content_type='text/csv',\n",
    "#                          split_type='Line')\n",
    "# xgb_transformer.wait(logs=False)"
   ]
  },
  {
   "cell_type": "code",
   "execution_count": null,
   "metadata": {},
   "outputs": [],
   "source": []
  },
  {
   "cell_type": "code",
   "execution_count": 82,
   "metadata": {},
   "outputs": [
    {
     "name": "stdout",
     "output_type": "stream",
     "text": [
      "---------------!CPU times: user 270 ms, sys: 0 ns, total: 270 ms\n",
      "Wall time: 7min 32s\n"
     ]
    }
   ],
   "source": [
    "%%time\n",
    "# 部署模型\n",
    "\n",
    "endpoint_na = 'my-endpoint'\n",
    "xgb_predictor = best_algo_model.deploy(initial_instance_count=1,\n",
    "                         instance_type='ml.m4.xlarge',\n",
    "                         endpoint_name= endpoint_na )\n"
   ]
  },
  {
   "cell_type": "code",
   "execution_count": null,
   "metadata": {},
   "outputs": [],
   "source": []
  },
  {
   "cell_type": "code",
   "execution_count": 84,
   "metadata": {},
   "outputs": [
    {
     "name": "stderr",
     "output_type": "stream",
     "text": [
      "The class RealTimePredictor has been renamed in sagemaker>=2.\n",
      "See: https://sagemaker.readthedocs.io/en/stable/v2.html for details.\n",
      "content_type is a no-op in sagemaker>=2.\n",
      "See: https://sagemaker.readthedocs.io/en/stable/v2.html for details.\n",
      "The csv_serializer has been renamed in sagemaker>=2.\n",
      "See: https://sagemaker.readthedocs.io/en/stable/v2.html for details.\n"
     ]
    },
    {
     "name": "stdout",
     "output_type": "stream",
     "text": [
      "CPU times: user 165 ms, sys: 0 ns, total: 165 ms\n",
      "Wall time: 1.72 s\n"
     ]
    },
    {
     "data": {
      "text/plain": [
       "'105768.28125,33920.90625,74445.4609375,84981.21875,21619.96875,67523.1640625,111797.40625,42031.3828125,85411.15625,29543.62890625,40332.38671875,67999.8515625,85270.890625,90608.2265625,18534.982421875,50331.5625,70096.03125,55751.2734375,70814.125,83462.4375,83906.578125,46937.47265625,64581.5,58727.75,52166.421875,132715.34375,59734.91796875,74919.859375,38585.5859375,55560.25390625,43023.17578125,36788.13671875,55624.9375,87519.96875,121885.703125,43256.73046875,80196.625,47549.28515625,65701.8359375,46591.8046875,84154.3125,47195.234375,47254.29296875,23809.822265625,40356.5234375,43370.6328125,62548.3359375,80808.296875,41842.984375,45667.81640625,88554.3984375,49528.6015625,69183.8828125,74145.21875,30208.7734375,45645.953125,54554.265625,42006.21484375,45769.296875,91278.8125,95158.0625,80479.7890625,69010.53125,24011.169921875,79345.984375,84907.9453125,60636.6171875,45222.9921875,81245.5078125,61858.29296875,68780.4609375,27124.84765625,59177.22265625,47675.375,45728.5859375,43943.34375,85908.3984375,43113.58203125,39174.58203125,91829.9921875,42362.92578125,68799.0546875,53363.41015625,73327.2109375,38445.23046875,25199.640625,96483.78125,72342.6640625,59638.6875,55694.0703125,41590.1875,103016.9296875,72536.8046875,56845.0390625,27147.376953125,43265.4921875,41393.453125,18751.853515625,34276.4375,34780.73046875,122729.625,51517.94921875,39094.14453125,79801.0625,62308.46484375,93814.1171875,43989.19140625,41585.48828125,98152.1171875,35408.9296875,12254.66796875,95692.9609375,51970.98828125,58793.5234375,49172.43359375,69113.109375,59819.82421875,83313.375,44494.37109375,62743.45703125,82952.2109375,50692.34765625,75584.0390625,90489.609375,75680.0546875,80958.53125,68194.40625,40240.6953125,78260.4609375,50274.6328125,49471.73046875,61866.5234375,86213.5078125,57183.89453125,35621.484375,20164.859375,40091.19921875,39805.36328125,45888.41796875,61191.1796875,37535.6171875,32216.59765625,94199.4765625,44207.77734375,36363.4375,44273.67578125,56741.3671875,46738.55859375,24025.1328125,65366.6328125,80315.2265625,80466.109375,21528.341796875,33043.29296875,68381.4140625,35586.09375,43186.421875,84255.9296875,52266.90234375,98023.671875,84751.0625,50157.85546875,82374.53125,85772.5703125,48312.65625,46211.3984375,139112.09375,72429.8515625,70419.125,69153.78125,68010.484375,47103.87109375,30745.07421875,46291.203125,78821.53125,33345.5234375,82476.2578125,31609.623046875,47583.703125,69045.546875,73146.1171875,102907.4296875,73658.4453125,84094.234375,42206.66796875,70239.875,101544.890625,66931.7265625,58269.98828125,80884.234375,46575.890625,55776.8046875,91594.171875,83315.375,41341.6640625,77903.296875,37792.1796875,81817.9453125,75398.921875,48863.26953125,81567.4453125,101562.4765625,84134.25,58594.9609375,62300.32421875,61671.33203125,41692.28125,59193.94921875,76796.4765625,20467.9375,53456.4140625,100973.859375,62455.27734375,61733.24609375,76973.0625,50538.359375,87350.703125,30558.07421875,77628.59375,39578.203125,98578.0390625,54424.08203125,73588.4375,36270.3515625,75122.796875,72869.5859375,106168.6015625,53168.90625,85001.4453125,93701.84375,57781.4609375,49298.14453125,107139.03125,80216.640625,92448.3359375,35107.890625,74520.421875,34967.1796875,52506.2265625,50688.46484375,39637.4375,77768.1875,80514.6328125,64038.15234375,60713.01953125,47980.50390625,59837.3984375,52896.109375,87650.9609375,39693.7421875,47911.22265625,30850.423828125,105253.359375,99743.2265625,111553.609375,79761.6640625,55028.60546875,101943.171875,45218.13671875,48096.02734375,64838.59375,39915.15234375,80878.8671875,42398.18359375,84119.375,86554.0,42879.78515625,60278.15625,96200.1328125,37860.98828125,52519.015625,51203.82421875,41026.859375,62223.84375,46811.42578125,58658.40625,106359.9140625,49981.58984375,63267.4453125,35485.04296875,87705.203125,81851.8359375,42739.25,35176.87109375,36201.6171875,110928.640625,60725.47265625,125493.0078125,24907.888671875,44397.7734375,71692.9921875,50792.41796875,29370.5390625,122939.2265625,51352.921875,85036.375,71179.8671875,82401.6796875,76377.125,44099.921875,69182.0625,42262.35546875,52882.875,34372.56640625,78173.40625,59169.546875,64950.8359375,89708.3515625,30170.025390625,81275.8984375,49206.5859375,19501.298828125,41291.55859375,36278.61328125,35481.11328125,60503.68359375,24180.505859375,40249.9921875,89546.171875,48984.828125,101508.2265625,80077.2890625,51444.2890625,37429.65234375,94880.25,62700.1328125,34337.21484375,57677.984375,60976.52734375,46874.7109375,90174.109375,57412.66015625,43535.359375,65030.28515625,37318.48828125,78718.125,52144.671875,59628.5859375,37282.33203125,68094.3984375,84232.7109375,49641.0078125,58318.359375,61776.24609375,81004.5,33095.390625,47952.234375,91397.671875,34737.80859375,72613.21875,68948.4375,51378.85546875,50710.38671875,57467.6171875,84047.71875,58206.10546875,90915.796875,48816.58203125,76826.078125,83049.984375,81509.0234375,66707.171875,58115.90234375,64691.1328125,79535.5859375,42006.328125,62616.96875,99005.1015625,98386.9296875,81728.7421875,81904.7109375,132143.5,54417.4375,92236.2265625,41697.87890625,87703.40625,81857.5,43394.41796875,91719.359375,41607.37109375,37791.01171875,79938.484375,51430.9140625,91037.1875,73365.6640625,39188.890625,83540.1171875,46021.0859375,103358.828125,56811.94140625,64996.01171875,47912.69921875,58094.80078125,54967.43359375,53737.41796875,45968.65625,78506.859375,42311.6484375,69090.4765625,63557.515625,63084.453125,39976.48046875,38766.22265625,58150.171875,43310.0703125,105116.8359375,95416.53125,33447.34375,60196.71484375,42232.3359375,57854.90625,114742.6171875,57907.44140625,93860.4453125,48087.2109375,91821.1875,53533.9609375,93448.3203125,59965.12109375,42620.484375,52897.9609375,61909.00390625,78145.9765625,61591.48828125,92454.1015625,90134.3515625,123746.1953125,53862.96484375,80023.40625,33565.9609375,111772.296875,64412.48046875,64105.2421875,18226.357421875,70664.625,68367.8125,53723.28515625,38328.08984375,38845.328125,54030.06640625,38726.734375,52042.41796875,61031.16796875,91013.390625,109900.59375,87092.53125,69001.34375,61544.4921875,88633.109375,43417.0390625,32587.224609375,58396.1328125,79649.28125,85697.671875,94235.734375,46475.84765625,64199.11328125,52021.62109375,84452.734375,36738.43359375,52133.828125,56415.66796875,79843.875,56254.42578125,45123.48828125,41029.38671875,48197.78515625,33743.91015625,49543.29296875,49320.1328125,71564.5234375,45121.0546875,61286.08984375,31026.23828125,105293.9609375,32157.201171875,24995.712890625,61840.265625,61309.48046875,94928.8125,21508.37890625,50323.80859375,72381.359375,88340.5234375,68889.9921875,49604.20703125,75944.984375,50407.12890625,80631.0,34490.65234375,60056.36328125,65171.16015625,24183.021484375,85547.6015625,89525.296875,40607.1015625,50314.203125,90980.2890625,50339.27734375,118191.171875,88983.3125,53791.734375,83929.234375,99973.1171875,43000.26171875,53362.76953125,79909.734375,36488.80078125,40303.15234375,77856.5546875,62789.19921875,96036.421875,53237.79296875,121167.765625,85843.1328125,89497.3515625,60999.31640625,68692.265625,66420.7578125,62543.1953125,77660.2578125,69113.9921875,66345.9296875,84652.2890625,41017.22265625,86806.5859375,80731.5078125,82551.1171875,65629.359375,90253.5234375,35373.76953125,102943.4453125,81801.4765625,78084.140625,31145.29296875,80394.21875,55545.5625,106155.65625,40631.8828125,43332.703125,63841.2734375,103037.625,34620.01953125,61944.1328125,33804.49609375,42355.58203125,59131.17578125,55707.984375,30251.943359375,33286.8125,28425.353515625,48447.9296875,60715.7734375,46579.53125,94810.921875,48444.859375,34921.20703125,32294.83203125,58635.7265625,49542.21875,82604.25,35607.02734375,51062.6328125,73058.046875,56765.33984375,95029.4921875,92149.140625,45537.69921875,98879.1171875,89258.9609375,61766.203125,74567.5,43578.48828125,99936.7109375,54750.4921875,38819.76953125,42378.43359375,104030.9921875,81085.515625,57956.81640625,93488.0546875,65288.23046875,73887.875,49099.5703125,110678.390625,34130.265625,105335.4296875,62070.33984375,51793.73046875,40875.796875,51213.640625,118884.484375,69920.1015625,95332.609375,38929.17578125,34121.453125,77926.703125,73585.640625,93622.40625,23710.2421875,52443.03515625,47579.2734375,65127.67578125,38982.0234375,66831.5859375,84461.2578125,58384.015625,30641.865234375,91812.765625,65424.6953125,45525.4296875,60371.98046875,46760.0,76220.5546875,91342.9296875,28438.34375,69961.6640625,37187.2421875,102324.1171875,57656.40234375,64550.4375,76208.453125,49092.55078125,71956.515625,109311.40625,88828.8671875,34575.6328125,92550.15625,16080.08984375,24115.443359375,31076.849609375,92710.5078125,39214.50390625,52651.796875,29264.560546875,70245.125,72519.9609375,89962.4453125,70087.828125,58324.0234375,43029.23046875,113585.359375,64340.14453125,38641.546875,100066.4765625,61810.90625,33376.69140625,59676.0234375,80038.6015625,88220.1484375,68556.203125,88480.84375,92458.625,85480.7734375,41455.125,54706.9765625,107064.96875,71014.9375,45518.82421875,40188.53515625,38219.125,86972.15625,68754.3359375,51029.88671875,47507.51953125,62091.5625,52489.328125,45778.8046875,99497.3125,52175.7890625,60199.73046875,42945.3984375,80203.25,41355.7890625,81872.328125,30494.658203125,81112.5390625,36937.52734375,60188.9453125,53122.3515625,54417.79296875,40636.2109375,62693.23046875,87767.609375,86552.1015625,142215.765625,34479.921875,101107.3359375,80350.765625,37414.796875,93889.28125,56739.12890625,65053.08984375,107644.2578125,50331.04296875,50584.71484375,85799.453125,43126.015625,36062.765625,79447.453125,43245.19921875,56037.0234375,35121.75,70436.25,75500.6796875,71182.546875,41835.0,49755.75390625,86354.078125,60088.06640625,52340.34765625,31138.236328125,64147.91015625,32780.57421875,78419.8359375,50269.44140625,75890.75,107559.515625,44518.65234375,47133.83984375,60043.4140625,72413.7265625,48077.1953125,96999.34375,96339.1796875,100060.34375,41012.1875,97077.78125,82276.4140625,52479.87109375,76926.75,16169.240234375,43482.15625,72548.859375,90790.0234375,97121.71875,65897.0390625,70614.890625,30568.587890625,86239.5234375,55237.6875,36236.125,39973.8359375,52896.21875,56721.83203125,72347.8203125,30719.50390625,53482.19921875,47461.70703125,30640.630859375,101729.4140625,105910.8515625,41042.3984375,55272.19140625,30107.1171875,46401.4921875,55524.83203125,75834.3828125,82266.9375,45892.9140625,50060.94921875,79867.125,82607.9453125,68995.6171875,73818.2890625,76037.9140625,56994.14453125,67569.3984375,51768.640625,59924.72265625,71479.625,28069.431640625,50427.29296875,58912.08203125,59753.38671875,91443.65625,78702.8125,77204.234375,42411.24609375,66015.890625,84838.59375,25752.763671875,45495.234375,81620.4609375,65819.171875,93671.828125,44725.56640625,59321.4140625,37554.2109375,90088.640625,50844.6015625,52326.2734375,18194.87890625,72714.3203125,69853.1171875,99686.734375,64661.38671875,39210.578125,36237.3828125,35698.2109375,49867.87890625,61864.56640625,57714.8359375,55347.65625,108836.3828125,32654.333984375,57430.35546875,94092.234375,85663.6015625,95458.125,71460.296875,82439.7734375,45894.69140625,95604.890625,23751.90625,48022.71484375,73315.109375,74117.6484375,49409.828125,30199.515625,88477.609375,78948.859375,77745.6953125,32907.66796875,37465.91015625,34525.9296875,64309.50390625,78836.4453125,71763.1328125,85322.7734375,41890.3984375,60271.97265625,35637.921875,35777.984375,44144.453125,30579.39453125,106379.4375,34724.69921875,27016.388671875,88718.7890625,83763.2578125,49559.5078125,32761.931640625,88950.109375,27861.912109375,28266.77734375,56385.94921875,99533.078125,46228.96484375,71403.8828125,73278.671875,72101.5078125,49125.28125,53207.875,71471.1640625,45993.78125,81421.2890625,72740.125,66011.859375,38356.83203125,86249.9375,75645.8046875,77924.7734375,80675.265625,59119.9765625,81842.1015625,50409.171875,35120.5703125,41759.546875,51002.43359375,54098.375,31837.65234375,104867.59375,33045.30078125,38729.10546875,55266.01953125,59559.84765625,69786.3984375,38589.328125,86335.609375,74088.046875,37348.515625,73968.125,77238.7109375,23545.984375,82159.2578125,59949.4453125,74531.4453125,46106.6015625,41380.26171875,61664.59765625,85077.03125,81986.21875,33042.15625,61025.55859375,80820.796875,65329.28125,61682.66796875,54463.94921875,51165.65625,41017.9609375,89457.75,59896.2734375,83474.4453125,129603.5078125,64223.37890625,76513.8125,85804.75,59864.7109375,31983.765625,81477.34375,85055.0390625,62084.375,48333.99609375,38767.0078125,75523.9921875,44011.88671875,85772.40625,123444.6015625,58321.015625,45754.71875,50219.36328125,69071.2109375,66074.0234375,93039.890625,27615.650390625,38537.2734375,47671.93359375,75679.4453125,109651.4375,94281.234375,39039.97265625,93241.328125,52941.3828125,32309.146484375,104566.21875,43032.39453125,73043.3671875,39440.92578125,36885.75,58273.24609375,56957.6484375,53122.6015625,84342.6953125,36361.4375,77246.21875,139789.5,60773.00390625,73847.671875,51120.37109375,49932.43359375,64504.94921875,59036.515625,48167.4921875,88358.859375,97512.1171875,57469.40234375,40725.69140625,67925.0390625,39230.546875,88695.3984375,36097.5234375,70429.7421875,37606.06640625,42198.1953125,60475.9921875,41851.2265625,53065.07421875,57298.05078125,78908.28125,41436.27734375,65773.171875,58901.7578125,93054.875,41557.00390625,67545.9296875,28090.505859375,65730.28125,45889.44140625,45288.71875,29387.119140625,38645.5859375,53277.59375,58950.73046875,100770.2109375,31904.087890625,93404.90625,51601.1875,87838.4375,87004.171875,33375.98046875,67929.234375,27063.21875,94215.5390625,75629.5546875,124033.1640625,27892.494140625,57675.0234375,45322.0234375,46833.875,47549.6875,43270.15234375,81338.75,66486.546875,60521.96484375,75734.6015625,77245.1328125,32623.9296875,44944.625,48697.171875,109741.359375,81879.1484375,47526.51171875,59262.26171875,33401.32421875,35970.15234375,101895.0859375,55274.3984375,101976.625,63149.1328125,66732.6796875,58371.35546875,56631.4765625,95200.8046875,92164.71875,39891.31640625,86791.6640625,88740.203125,103336.4140625,51905.08203125,46764.921875,56270.36328125,32930.09375,37377.71484375,32899.56640625,77440.9609375,61780.7578125,58391.51953125,29702.88671875,57532.75,85198.53125,70157.875,80992.859375,44508.6015625,111797.84375,62241.48046875,33894.19921875,67328.46875,47024.7109375,52213.12109375,37345.05859375,41187.35546875,74823.046875,40238.81640625,40773.75390625,76726.6796875,53515.0078125,62362.609375,102185.1640625,80653.2421875,91672.796875,60441.8125,126709.1796875,83682.1328125,39934.07421875,63148.75390625,76618.4453125,85793.7265625,40604.6640625,62209.01953125,54187.98046875,61913.609375,42336.3671875,101993.4453125,83415.015625,26843.287109375,62666.265625,52222.171875,52862.359375,51664.34765625,89532.96875,77547.5234375,41119.046875,42083.4453125,52234.21484375,86262.703125,45097.05078125,66721.828125,23068.865234375,72655.75,41026.17578125,52223.98828125,89305.7890625,90101.6171875,69969.5234375,92201.109375,58983.63671875,91865.4453125,36084.82421875,88443.4375,39275.79296875,60306.859375,37714.2421875,53519.51953125,31216.181640625,67806.265625,70870.4453125,69138.2421875,49142.49609375,59211.11328125,30434.0234375,42953.1796875,36810.26171875,51216.51953125,65192.62109375,88694.109375,44367.97265625,74736.9140625,56599.95703125,95665.6328125,92552.0625,116786.3125,67170.4453125,68946.09375,43890.515625,48114.19921875,64093.87890625,114162.828125,60298.96484375,90575.765625,74543.390625,94871.25,51148.57421875,85709.59375,59860.59765625,81735.9609375,52836.46484375,38645.66796875,84498.484375,29974.51953125,69711.3671875,76981.6953125,67039.0234375,33272.3125,99165.6015625,64108.6640625,50873.28515625,90209.59375,41286.56640625,35303.015625,107786.2265625,115612.140625,60211.06640625,27653.41796875,47666.65625,75620.3203125,52252.61328125,51256.8046875,61962.12890625,54740.0,34219.171875,78757.90625,87869.8359375,57677.88671875,84086.1484375,50559.14453125,57042.8046875,42550.8828125,65804.5546875,55926.7109375,50186.6796875,55853.77734375,40973.7109375,39709.4609375,35664.4140625,59811.78125,59372.0078125,82702.5859375,38837.83984375,83395.1015625,80666.8203125,43201.359375,36173.05078125,60739.56640625,48944.09765625,65082.5234375,60772.7578125,44421.83984375,86658.03125,44947.52734375,44154.65234375,73852.4609375,44605.30859375,82325.703125,77543.578125,76149.484375,46064.578125,50193.51953125,88316.734375,20547.3203125,64133.0234375,76220.6796875,73484.9453125,56933.1796875,32965.46484375,95220.4609375,41706.90625,85665.7421875,32210.80078125,54467.640625,100099.4375,61309.48046875,62212.30078125,83612.5,32319.451171875,99020.6484375,86172.78125,88186.0234375,25850.501953125,90126.5625,72911.484375,22794.1328125,32275.5,76768.4609375,82094.9921875,110043.2109375,51965.32421875,42513.89453125,42430.4609375,48852.91015625,23140.35546875,76160.40625,77768.3984375,33586.484375,61058.6328125,52432.71875,49165.9609375,36553.57421875,45508.83203125,44806.79296875,96757.4921875,86957.7578125,56905.56640625,37185.75,62843.6953125,29106.83984375,42862.70703125,37933.31640625,47544.67578125,90470.859375,57708.51171875,55326.39453125,102476.3984375,32362.017578125,92865.7421875,25025.001953125,52794.671875,81990.640625,57400.921875,58097.0078125,32603.25390625,50747.73046875,45608.05078125,77510.7265625,73436.1015625,126132.953125,53305.2109375,49153.0859375,49798.34375,41175.99609375,84869.578125,61511.04296875,85264.9921875,49913.97265625,50962.75390625,50703.21484375,60056.83984375,83730.0625,82141.1484375,58701.71875,43791.4453125,33584.875,60087.63671875,55132.01953125,106659.9296875,83946.484375,53573.0859375,30709.185546875,45665.26953125,37794.1875,72830.921875,67525.8046875,68837.328125,128495.25,114229.1640625,62088.96484375,40611.6328125,78948.265625,71459.6796875,64067.796875,71346.6796875,69806.6796875,51724.30078125,98234.28125,31694.66015625,49346.5703125,25803.32421875,100709.140625,40660.54296875,55620.56640625,122426.5234375,45445.9140625,25338.646484375,72679.265625,41029.8359375,88643.0234375,70192.4609375,77393.796875,116006.375,35367.7421875,125487.7578125,45387.703125,90947.71875,44246.0625,78614.8203125,80466.2734375,81264.484375,133406.671875,93676.671875,61889.56640625,88037.90625,61980.75390625,25028.798828125,34259.75,126284.4296875,34176.640625,81519.71875,5401.6513671875,107589.7890625,77895.625,54940.15234375,52754.28515625,24010.44921875,11825.4765625,52296.27734375,84536.3671875,47317.04296875,55545.203125,52685.1875,66745.8125,87483.53125,70379.7421875,50917.1953125,67089.8203125,52943.59375,108235.0078125,54678.05078125,112562.5703125,72917.875,32615.994140625,46573.65625,69460.546875,51894.12109375,66272.609375,48891.43359375,101750.25,85265.9921875,54042.0078125,62834.5234375,46373.87890625,64633.00390625,78489.75,86703.3046875,48816.45703125,61118.9765625,103926.515625,77327.6640625,35955.19921875,64983.83203125,33182.54296875,39454.6953125,15709.7490234375,38604.71875,52198.27734375,89448.3984375,84409.59375,35507.4375,66132.59375,51998.58203125,56341.4765625,51820.62109375,57957.67578125,50023.828125,58529.1484375,68300.9375,76074.8984375,92904.3359375,62663.70703125,82721.3671875,50879.93359375,91502.171875,57833.515625,41686.71484375,78917.125,106289.8125,77277.0859375,102466.1484375,49662.0625,77451.09375,22183.365234375,30679.673828125,83856.84375,80709.3203125,26679.662109375,82212.53125,26097.83203125,40511.58203125,46878.55078125,66527.34375,66583.3671875,99234.03125,74448.921875,25990.76171875,61170.28515625,80665.859375,48451.109375,53871.8046875,57015.88671875,68509.1796875,49482.12109375,80050.9375,37119.03515625,64869.0390625,70009.953125,90416.5234375,62118.91015625,41005.15625,46851.8046875,57070.34765625,104801.5390625,50839.54296875,30349.140625,82125.859375,47074.4921875,62528.18359375,67621.75,42391.19921875,45960.24609375,57722.796875,62779.75390625,65268.48828125,90572.78125,37987.921875,52669.9296875,44064.6328125,70104.5859375,40948.26171875,37348.1953125,84324.859375,45830.28125,65332.046875,52563.515625,54216.78515625,88238.40625,88339.515625,-618.5741577148438,78220.53125,64145.8125,47759.46484375,53723.921875,88835.8671875,46608.9453125,72346.4296875,33073.92578125,67738.15625,79855.5234375,50294.96484375,46236.26171875,36053.4765625,40545.9609375,61390.5625,89856.1875,59468.51953125,49381.8984375,97041.6328125,38059.94921875,42280.79296875,52890.37890625,33586.296875,95276.0703125,69775.4609375,81429.4609375,59059.5546875,63577.18359375,62539.26171875,39422.546875,71676.890625,44127.703125,88772.921875,38336.93359375,52589.87890625,87214.046875,42008.0625,98664.859375,38118.98046875,105700.46875,65398.03125,63439.65625,63996.671875,90042.5390625,64120.60546875,46527.94921875,40092.75,64106.75,54559.71875,71432.0390625,34977.640625,57936.125,55102.45703125,46954.625,61800.359375,47784.921875,33996.671875,84824.421875,26277.3984375,55884.68359375,72209.8828125,83290.78125,100053.1953125,53479.72265625,60817.0546875,54849.66796875,39659.1640625,62844.890625,54826.9765625,46853.17578125,51856.3046875,79287.796875,46418.16015625,54940.08984375,80702.4296875,68783.3046875,72693.2890625,89586.453125,76795.1796875,29203.58203125,63998.92578125,65326.3671875,48298.78125,38463.5625,40419.734375,49007.484375,21795.86328125,58495.55078125,46871.36328125,74956.90625,30414.044921875,51245.921875,52408.50390625,52436.4453125,28584.892578125,74156.2578125,56130.3359375,62206.5703125,63345.6640625,44632.47265625,36322.75390625,36467.578125,72480.8828125,25720.41796875,61428.0390625,57224.83203125,76248.046875,115988.640625,89726.9453125,65526.39453125,51324.765625,89404.6328125,48270.47265625,44340.4453125,55361.63671875,93412.1328125,81088.9609375,92609.21875,61625.00390625,100376.703125,59338.87890625,26617.041015625,70818.1875,60251.203125,63496.48828125,71878.765625,52921.93359375,65595.046875,87135.203125,58130.81640625,77698.4453125,62649.578125,70070.7421875,40313.82421875,47278.22265625,35231.65234375,67415.34375,44908.62109375,33194.18359375,77013.1484375,109720.4921875,80053.21875,104902.3203125,66087.828125,95459.109375,60387.70703125,107130.3984375,39164.94140625,30736.6328125,79105.921875,102982.484375,36417.34765625,95407.4375,54020.48046875,69073.6875,33122.53515625,95351.46875,71138.1875,73228.046875,29478.49609375,59734.28125,41812.5390625,54797.26953125,36840.01953125,50062.32421875,74180.0703125,96486.2578125,38620.359375,68475.921875,80252.125,69480.015625,38990.89453125,83326.3515625,31403.126953125,65276.48046875,39239.09765625,53727.01953125,67400.7734375,47142.56640625,43864.859375,87255.1875,47779.45703125,53098.92578125,56250.640625,65600.484375,43450.47265625,41538.93359375,35218.828125,64166.46484375,89909.8203125,52798.734375,77831.5703125,36106.83984375,39746.04296875,39131.08203125,102954.2578125,38265.12109375,89403.921875,36326.60546875,75755.734375,72063.7578125,38999.93359375,99523.828125,49551.62109375,41572.66015625,24599.265625,42143.47265625,54565.01953125,27794.29296875,37514.1640625,65401.66015625,61859.078125,57872.96875,60900.90234375,39304.125,53459.20703125,61616.45703125,73923.484375,87791.1796875,68730.40625,61281.0,35534.91796875,48582.77734375,60620.37109375,82650.5703125,78085.7890625,59974.91796875,84742.8671875,47968.80859375,109328.046875,42696.94140625,59986.02734375,79798.0234375,97190.9921875,60911.890625,53455.61328125,33448.35546875,46973.20703125,23837.77734375,49172.4609375,58805.6875,48168.58984375,26010.69140625,29896.90234375,42284.078125,42702.37109375,34295.84375,59706.51953125,49381.90625,78037.2890625,44536.62890625,42825.41015625,69779.8359375,33914.05859375,46458.0546875,56972.87109375,82867.6953125,52963.125,63829.80078125,33889.94921875,62019.13671875,55948.9296875,80798.8203125,94652.796875,94049.8359375,68465.5546875,48175.27734375,92205.296875,70873.9609375,59085.9453125,61140.41015625,38289.1484375,41108.0625,42902.66015625,82933.8671875,39613.25390625,22657.7265625,71636.8671875,103367.9765625,68256.46875,38327.46484375,75312.1328125,84239.890625,105435.9140625,58354.4609375,87507.8046875,30116.986328125,93385.421875,59650.12890625,64774.75390625,45548.62890625,42298.37890625,32379.990234375,81224.84375,41516.7421875,48508.7265625,59685.8828125,92479.9921875,40185.453125,63386.625,33743.40625,62379.09765625,68921.9453125,6984.412109375,38569.48828125,50085.2109375,94411.828125,57188.22265625,40775.765625,38730.5390625,38888.89453125,48861.3046875,24147.8046875,107264.3671875,146818.875,61558.5,77763.6171875,45841.88671875,56195.61328125,69996.5546875,48322.75,36959.14453125,78209.8671875,42554.53125,28687.75390625,44257.52734375,69444.0625,67863.7265625,62925.18359375,98161.5625,37082.51953125,91409.90625,45825.58203125,57284.15625,82488.5546875,118383.859375,48220.05859375,32704.658203125,72177.796875,60142.796875,97393.34375,69196.734375,103262.4921875,61044.55859375,28427.416015625,94030.71875,35573.4765625,84051.1640625,35430.39453125,68497.53125,39330.7109375,83824.0078125,37728.8203125,83791.8984375,66212.65625,43160.73046875,73648.75,26525.224609375,41064.58984375,48792.77734375,38677.578125,51322.83203125,68324.609375,39872.0859375,80081.6484375,90168.171875,61925.6640625,77051.6015625,91840.8046875,50218.10546875,81564.90625,90110.328125,40224.48828125,97582.859375,54134.8203125,56093.44140625,20671.810546875,45339.24609375,97733.2578125,95120.4296875,64777.41015625,116714.8515625,86824.7109375,101119.578125,45453.9609375,85887.0546875,82927.59375,71046.015625,66042.1640625,61828.921875,55180.69140625,22079.87890625,35977.328125,81617.1484375,77678.4921875,81160.234375,40937.2421875,52204.64453125,106530.0078125,60746.23046875,47683.7421875,29503.283203125,79080.4921875,17619.728515625,72582.8984375,31733.0703125,73826.2421875,46061.65234375,58923.23828125,75764.6875,44760.27734375,30141.90625,87265.7109375,47223.79296875,78438.9765625,51198.43359375,53271.38671875,90385.5625,58225.80859375,102088.1015625,85440.8984375,49484.515625,51257.8671875,38827.76953125,54740.62109375,67338.2578125,52522.5,62606.6328125,53623.65625,50759.59375,70052.7578125,78829.65625,118444.109375,31176.537109375,41317.18359375,63968.015625,69655.6015625,51877.2265625,38816.12890625,98065.5234375,41185.12890625,114323.3515625,75571.0546875,33172.7890625,41771.27734375,47411.890625,88301.4921875,53529.64453125,42369.1953125,59245.6796875,36212.6171875,33827.9921875,48446.9921875,33720.05859375,70728.09375,68597.2734375,41714.5703125,86181.6484375,65707.1640625,42830.52734375,48695.95703125,92681.296875,43689.8984375,44261.94921875,46221.40625,69340.09375,82908.6484375,44459.62890625,53068.3203125,23944.52734375,58226.13671875,46939.9453125,19198.759765625,79733.140625,68940.09375,97089.6484375,63751.30078125,66818.8359375,63827.3359375,35352.82421875,45409.79296875,55871.3515625,40630.0625,79782.546875,92224.2265625,40225.30859375,93931.9296875,50567.765625,56571.50390625,60729.76953125,44267.875,55487.796875,74229.46875,53874.171875,62360.30859375,103021.421875,95677.3125,51096.921875,84424.921875,53233.375,89174.09375,68103.75,70615.375,89729.2890625,39521.484375,77765.28125,65676.6875,43853.078125,75038.5390625,83610.1015625,80476.546875,46823.484375,102797.5703125,57973.48828125,53701.42578125,57887.83203125,47644.19921875,35907.06640625,55688.50390625,76383.296875,96165.359375,78867.6875,43042.671875,43151.40234375,61964.30859375,26386.6640625,27507.2109375,98947.515625,50908.28125,29281.056640625,50388.69140625,101312.5546875,49637.64453125,36620.86328125,85153.71875,51383.5390625,58366.69921875,83760.3359375,51087.75,78868.5546875,35746.9453125,61068.5859375,95049.0078125,49705.97265625,57385.4609375,52708.75,68512.578125,54852.41796875,49357.9453125,49649.20703125,51582.60546875,66973.4296875,98508.6015625,38300.2265625,48821.6171875,67227.0,68835.734375,89982.921875,54325.42578125,80866.2734375,75670.6953125,73425.46875,131541.03125,91889.671875,47538.08203125,64554.36328125,90026.890625,54459.28515625,32026.5703125,39082.484375,46615.4609375,50393.32421875,31119.927734375,58581.64453125,48451.26171875,93562.5703125,40271.09765625,36647.59765625,86385.3046875,61665.8828125,49568.109375,47165.6328125,44857.890625,84650.0859375,32887.4921875,79034.9765625,91871.53125,82163.6796875,79794.484375,104424.8671875,47386.75,61626.3671875,105989.4375,45207.93359375,87119.0078125,-27.32573699951172,62251.921875,59223.09765625,42354.02734375,81676.734375,39748.11328125,61233.02734375,85268.84375,60850.22265625,69165.6015625,29901.95703125,95661.8984375,74470.6171875,53796.375,60593.01171875,48447.2890625,61493.33203125,37961.83203125,87678.078125,83259.5390625,80329.75,59150.94921875,60982.58203125,24644.712890625,70039.921875,75325.9140625,40191.078125,55002.41796875,34354.53515625,74755.25,79730.7890625,25999.95703125,52537.5,23909.8671875,42590.44921875,82359.5625,59428.37890625,67363.96875,67386.2265625,89861.5234375,54077.453125,29037.3671875,51790.6953125,95911.9453125,53403.8671875,57955.44921875,55329.2734375,91379.578125,35369.02734375,91334.4296875,39138.93359375,76755.2734375,85214.0546875,41974.01171875,66336.2734375,72428.46875,45807.625,49273.03515625,50248.78125,82546.578125,12660.6611328125,55913.7421875,91372.109375,44855.92578125,86819.9375,38966.25,45736.35546875,82447.3671875,33985.00390625,80010.84375,52641.0234375,39907.609375,37475.3046875,61995.21484375,78795.9140625,90965.0859375,90051.9609375,54347.1015625,40576.98046875,86364.3984375,84972.3984375,54653.8828125,61209.390625,40477.03125,62849.49609375,53813.8828125,69304.671875,64923.75390625,44611.68359375,52983.15234375,54122.33203125,71446.171875,52364.07421875,87225.4296875,73208.8359375,52009.70703125,66524.7578125,99998.375,24919.869140625,61236.2265625,20099.13671875,72099.109375,51680.2421875,100101.3125,60818.35546875,43002.4296875,47565.0703125,82822.6640625,52497.28515625,32327.787109375,91304.9609375,70801.2734375,81184.015625,32191.26171875,53962.99609375,37530.76171875,48898.76953125,63167.921875,89901.8984375,74441.921875,38447.07421875,68796.21875,36261.8046875,45478.9296875,74201.875,46300.89453125,40569.05078125,35440.3515625,44959.70703125,70242.0703125,49024.7265625,44067.69140625,100844.625,111632.7578125,38644.63671875,49990.0078125,66290.734375,54243.375,94366.1171875,41086.87109375,29199.23046875,22903.875,38074.05078125,66332.953125,38813.4296875,77981.0703125,76762.8125,43696.046875,72794.640625,33860.51953125,59696.84765625,43629.77734375,77144.578125,89002.890625,40795.9765625,80938.21875,36571.83984375,20322.103515625,64531.10546875,76084.8984375,43163.4765625,60795.58984375,56740.15234375,56391.109375,61516.7421875,87899.859375,95624.4765625,131600.75,36245.1796875,96146.765625,44423.9765625,62523.18359375,41270.921875,74166.6484375,48659.09765625,33742.71875,43313.5,23535.423828125,94160.765625,75427.515625,44996.21484375,99951.171875,40469.3203125,71230.6953125,87604.5546875,74208.703125,65934.3125,55181.73828125,47976.00390625,81478.8671875,66846.5,32743.28125,56488.609375,85511.578125,48148.828125,28759.6796875,48442.22265625,71114.15625,92770.7109375,83298.5625,56996.265625,94799.6015625,50122.82421875,58696.9765625,38104.15625,35323.73046875,68335.234375,87682.9609375,39067.89453125,95856.921875,68640.6640625,34165.58203125,79114.7109375,52258.828125,58680.890625,117901.953125,38940.96484375,73358.75,82973.53125,52098.1328125,52808.60546875,40067.23046875,70085.6484375,75465.0234375,33515.015625,19061.765625,45567.08984375,43576.62890625,87710.5078125,108038.703125,22453.44921875,56394.1171875,53706.55078125,42143.453125,99293.53125,83012.84375,76750.0859375,25898.98046875,77510.0546875,63504.91796875,53688.83203125,89570.6171875,39964.90234375,33394.05859375,84480.5,60042.19921875,78068.9765625,47916.46484375,99506.1171875,34658.5625,91379.8203125,37872.47265625,80375.71875,98334.34375,51739.23046875,57129.3984375,26965.46484375,56709.4921875,31923.31640625,65028.7109375,58603.5390625,77752.703125,37220.015625,42388.86328125,96909.5078125,83080.0,13810.91015625,51231.83203125,54294.0,45584.75,32181.935546875,45291.46484375,74755.125,43274.62109375,37899.72265625,70052.609375,73142.2265625,107406.40625,47242.15625,43616.984375,114617.1640625,82715.0390625,84883.8125,43138.48828125,79191.359375,92121.7734375,70928.6953125,71117.46875,42678.71875,59591.3125,83803.953125,49198.30078125,33869.7578125,74997.1015625,105457.9140625,75520.3203125,77174.2109375,43491.23828125,110255.1171875,78369.0859375,46592.7265625,74577.671875,49136.0703125,64174.25390625,65145.2421875,63130.03515625,29941.42578125,67730.9375,94292.5859375,61145.63671875,59667.8828125,39966.8359375,41829.1796875,46219.76953125,78849.625,100308.3984375,37424.7734375,49434.640625,75836.1171875,11498.30078125,46733.0078125,33234.88671875,34165.8046875,94548.2734375,36453.25,51974.56640625,75863.296875,71815.0625,43709.74609375,47580.6328125,72843.5234375,78841.765625,62540.9375,37871.859375,42962.421875,91763.609375,47574.76953125,59724.6796875,81062.4140625,59534.59765625,50525.9453125,89348.1640625,8990.1396484375,22557.8203125,86912.171875,112137.7890625,67480.765625,45854.75,33450.92578125,62498.80078125,122634.0625,51008.3828125,92120.65625,68401.9296875,40941.71875,98222.1328125,84923.7578125,69999.9609375,50757.61328125,69464.421875,51658.64453125,53688.203125,56427.7578125,34726.7421875,38320.73828125,38316.921875,30173.806640625,42743.85546875,55568.07421875,64578.13671875,91655.5703125,35120.81640625,64883.08203125,30139.9921875,32244.78515625,33879.9609375,41103.109375,53967.16015625,53490.22265625,43423.3515625,30463.13671875,68334.65625,81901.484375,48913.65625,27214.765625,38164.6875,44024.83203125,18611.38671875,24913.86328125,85101.109375,37662.04296875,34725.203125,101590.921875,51408.62109375,64388.3125,62759.296875,132051.1875,37897.76171875,18590.513671875,49857.171875,92921.0546875,121211.8359375,55228.6484375,64138.16796875,37101.7890625,85868.2265625,67361.0703125,37802.53125,105054.4921875,80258.90625,66164.859375,59339.94140625,47099.42578125,66199.328125,87654.7265625,87123.7109375,52706.98046875,112529.1484375,64480.2109375,98006.1015625,48057.76953125,54802.24609375,41455.953125,39909.875,52079.98046875,71859.4375,75549.40625,80376.5703125,105066.8828125,29511.603515625,79945.1953125,72780.0546875,64110.4140625,37018.2578125,29318.96875,31533.0703125,58502.19921875,32868.78515625,103224.1484375,81277.3125,119681.640625,44785.00390625,77563.7578125,66828.4609375,43954.3828125,91140.2421875,43030.71484375,114601.5,46001.9609375,62390.1875,26879.9453125,87777.671875,80031.7890625,73439.7890625,106109.7265625,39624.390625,55011.734375,87709.8046875,38482.51953125,34660.4765625,47954.2109375,82556.15625,47493.546875,22415.759765625,47446.60546875,90202.09375,96013.34375,44778.41015625,88452.15625,33893.24609375,22864.078125,49354.8515625,53975.72265625,77293.2109375,66808.109375,124561.7734375,30733.859375,50421.27734375,60101.484375,80807.09375,48567.390625,64223.59375,30948.728515625,84113.828125,75446.78125,71729.2578125,25674.146484375,88448.328125,33763.125,68131.65625,61663.640625,57720.76953125,18463.5703125,51096.0,46994.29296875,41344.625,50917.55859375,84238.171875,84000.546875,45036.51171875,50268.21484375,103371.4921875,45255.30859375,79461.34375,34662.703125,59451.33203125,33154.73828125,71741.78125,50859.6796875,41860.9609375,42677.08203125,62342.71484375,74038.3984375,48630.1328125,40058.390625,36493.734375,59492.7109375,42584.0234375,65798.375,85347.8515625,28873.5546875,49676.78515625,103270.6328125,70312.453125,55399.01171875,54363.1171875,47537.1484375,127354.8984375,119652.7890625,60978.0390625,44560.74609375,51653.5703125,42068.1015625,53307.26171875,48187.05078125,115390.109375,61815.93359375,36498.453125,79181.3984375,38865.24609375,53408.17578125,41081.16015625,24051.71875,50615.23828125,30373.447265625,62764.4921875,43090.6484375,65552.78125,40487.30078125,60143.55859375,50570.63671875,28561.638671875,60203.1484375,63925.0859375,95006.0859375,38869.44921875,61117.05859375,76125.4375,99983.9921875,63305.07421875,85640.4453125,67594.8984375,110580.8359375,77944.2109375,89340.1953125,60032.515625,74731.3125,89354.96875,54728.0625,76195.1796875,88427.6171875,57306.8984375,84955.03125,93080.3046875,41826.6953125,52901.39453125,53673.328125,109129.3515625,82002.4140625,31189.345703125,42897.0,43264.67578125,56172.875,65996.7578125,23669.146484375,48499.19921875,41785.58203125,50475.203125,59841.953125,77328.671875,63797.8125,34756.515625,96293.046875,100630.671875,36996.32421875,83638.390625,87123.8828125,48198.97265625,50451.0390625,49267.61328125,46628.83203125,63615.296875,61072.53515625,48831.2265625,46109.3046875,45705.88671875,31190.853515625,48361.3828125,36716.84765625,89650.796875,69560.703125,65877.0234375,55615.71484375,43202.2578125,49414.6796875,73696.5390625,102507.3125,32870.3671875,67806.265625,60788.58984375,83022.578125,77870.8125,84837.8671875,116914.140625,92082.1640625,37974.59375,50039.453125,94716.921875,37250.3515625,43273.875,50700.9765625,59212.734375,45578.46875,31380.279296875,35535.7421875,107371.125,50844.5,46480.87890625,32843.7734375,81272.4609375,88407.4296875,32731.80859375,59562.16796875,51371.25,51679.359375,19952.3828125,53760.5078125,42176.234375,46826.1796875,50560.74609375,45714.69921875,27583.248046875,56485.07421875,75723.4453125,52205.0546875,102608.984375,80784.1328125,79386.46875,47269.7890625,93701.3515625,74160.6484375,73649.8046875,53337.86328125,36676.08984375,43573.5625,80684.7421875,82492.390625,41488.125,80184.546875,65673.21875,83904.1875,84371.8359375,120043.1953125,72139.890625,34693.58984375,59307.31640625,96693.5,108426.59375,45000.5859375,98001.46875,44723.8359375,92302.1953125,68276.203125,36315.5390625,41043.33203125,28404.392578125,42319.90234375,52923.4375,71187.5859375,81882.78125,21428.560546875,26163.583984375,55458.4765625,86217.2890625,129397.1484375,54620.6171875,64470.9765625,64351.24609375,52577.9453125,74495.09375,53207.0859375,92606.3984375,48842.8828125,26640.3515625,25710.39453125,48792.79296875,51142.8828125,518.2775268554688,92125.9765625,78499.546875,78861.8828125,73260.0234375,81922.46875,59808.3359375,104802.7109375,32710.490234375,80024.265625,102610.375,68532.390625,38980.48046875,54893.00390625,27452.865234375,33987.5546875,46068.7421875,131007.0390625,42529.796875,47631.54296875,86187.609375,35377.92578125,53829.08984375,89265.3671875,84242.984375,24510.51953125,95119.0390625,36104.4609375,57888.1484375,63940.23828125,74096.6796875,38857.97265625,68292.6015625,83173.3515625,93271.8984375,52878.1796875,87976.015625,82462.15625,53878.7421875,76252.515625,45470.94140625,77074.390625,24546.720703125,90261.796875,33592.94140625,37459.0,92037.3828125,35291.078125,56038.47265625,45046.3359375,52463.6953125,44186.75,40262.6640625,53227.69921875,42161.55859375,94763.96875,24876.513671875,83122.578125,57672.6875,88017.7109375,60585.65234375,96438.9609375,70790.390625,31832.71875,55761.83203125,78177.8828125,54433.28515625,91398.6015625,60560.95703125,54197.4375,36994.55859375,51019.39453125,53071.15625,87041.953125,21870.0078125,89909.8203125,42764.3203125,34182.6796875,52047.7265625,70918.2578125,95933.53125,54030.9453125,83861.453125,81809.9296875,70636.546875,73016.3828125,49919.21875,115902.59375,61206.92578125,71806.5703125,61972.2734375,60520.1484375,99330.2265625,60541.19140625,67531.2578125,71485.0546875,45615.7734375,103652.5703125,41269.09765625,92974.1640625,71048.0390625,55602.8046875,78954.171875,73477.90625,24418.896484375,40275.796875,140791.78125,91218.90625,79725.359375,40975.91015625,80126.671875,35136.95703125,31237.431640625,96901.6171875,94244.828125,80163.28125,86112.078125,90348.828125,86925.15625,69653.2421875,44228.97265625,117490.921875,47244.70703125,37175.45703125,62725.625,45967.73046875,57285.5234375,44663.36328125,67859.1484375,37854.26953125,73557.9296875,55038.05859375,47887.73828125,77487.5,45198.1484375,78617.953125,59416.8828125,39892.171875,70772.8203125,31022.8984375,25280.82421875,59412.51953125,74144.015625,62826.21875,88996.015625,61001.6171875,26412.33203125,76727.7890625,39679.25390625,35631.83984375,52355.23046875,38229.92578125,126179.859375,75460.7421875,94475.671875,38530.3046875,53367.1875,29315.033203125,83740.546875,45100.58984375,59933.73046875,21959.67578125,52560.828125,74544.015625,50326.578125,49329.09375,42113.55078125,34432.609375,54912.98046875,52687.9375,111258.1484375,69698.9609375,97161.3203125,36114.18359375,36452.8046875,52157.77734375,83716.0234375,31414.521484375,52313.07421875,42471.90625,66374.9453125,53198.4453125,55771.671875,78328.65625,80658.828125,117555.9921875,61558.7734375,52911.28515625,38574.62890625,90907.75,36337.421875,34499.6015625,70284.8125,47392.00390625,33210.93359375,40379.46875,43347.74609375,106408.21875,49345.5078125,106851.703125,52022.5703125,36843.51953125,67967.0703125,61045.98828125,77285.8359375,52808.43359375,70745.0859375,35469.1484375,33702.5546875,44166.6171875,100506.265625,39748.60546875,40599.2734375,39808.69140625,52048.93359375,56330.34375,42730.19140625,69718.578125,41356.7890625,62218.8984375,67087.75,55600.59375,84860.65625,50795.43359375,120578.3046875,89830.3046875,59835.43359375,28977.841796875,39056.4765625,43227.1015625,50277.30859375,14370.9677734375,95199.8359375,65334.40234375,37662.1015625,89458.421875,36372.79296875,74459.3828125,78129.0625,92340.3125,56914.90625,53156.28515625,78954.515625,99034.0078125,84324.6953125,38077.5390625,76372.8203125,67117.5,53931.65625,85789.5,52043.7578125,35461.32421875,44080.3203125,37014.46875,33599.51953125,68991.671875,75739.2109375,45660.4296875,58911.50390625,85760.28125,39522.09765625,87236.578125,73666.4140625,69808.9453125,76932.0,57778.94921875,71227.390625,43729.20703125,66686.5703125,82539.7890625,95345.8125,67411.6875,84691.5859375,49311.29296875,68773.65625,69905.875,68681.2578125,78938.265625,46671.69140625,76444.3203125,41062.71484375,41344.78515625,74441.6875,49865.26953125,82298.9765625,78522.7109375,54363.0625,112088.8984375,51414.94140625,34394.3203125,61386.09375,47370.59375,60529.72265625,55113.12890625,81346.15625,98322.875,67551.5625,59827.00390625,28768.423828125,67565.7421875,90600.84375,48568.59375,64186.48828125,47123.8125,80169.40625,44396.3515625,73631.171875,88935.359375,67481.6875,35797.56640625,103451.46875,68431.7734375,99651.546875,74921.3671875,58429.9296875,86465.4921875,33793.10546875,52643.41015625,54046.875,43529.20703125,60629.41796875,84159.4765625,35881.08203125,64681.98046875,90026.6875,77885.453125,94317.8125,53412.44140625,44727.98046875,113568.265625,36303.01171875,81165.515625,41566.70703125,45986.20703125,48048.94921875,33171.91796875,95390.7578125,69380.421875,87716.6875,61258.13671875,105025.7265625,44953.109375,30752.76171875,96270.75,57976.46875,27309.724609375,83093.1015625,79969.3828125,62364.75,109147.1171875,47052.34765625,81015.9921875,131.59161376953125,54597.33203125,59226.61328125,57489.51953125,81004.5234375,69755.40625,71033.0859375,91527.6953125,53293.38671875,82299.3046875,49274.078125,69364.0859375,37968.63671875,29993.306640625,60954.9609375,79840.3828125,60748.296875,54423.2890625,90232.6796875,59306.9375,44590.43359375,30908.642578125,43321.33203125,35007.98828125,61956.13671875,55255.21875,95866.84375,67919.3828125,50255.6484375,49584.51953125,33094.33984375,60775.56640625,58699.2265625,49737.22265625,39667.1171875,45961.5546875,99101.5,41350.53125,62663.0,50715.48046875,53898.9140625,50917.31640625,59949.3125,67530.96875,47559.6484375,51390.28515625,87266.671875,45428.875,120576.953125,71623.1015625,47300.69921875,31448.224609375,34302.47265625,98015.7734375,48739.1171875,28743.740234375,30432.751953125,37627.33203125,56667.484375,53518.53515625,46440.9375,86073.2890625,58814.734375,76299.890625,43654.4765625,55810.37890625,41333.171875,29512.1875,112312.9921875,113934.609375,74616.4296875,74320.3046875,54797.515625,28522.322265625,32006.71484375,70998.1171875,67607.640625,90768.8515625,48317.4140625,36847.87109375,39775.49609375,25195.28125,95856.1015625,65275.1875,71223.953125,77438.609375,50006.31640625,40689.65625,57863.86328125,55682.31640625,97327.6953125,47615.22265625,46997.49609375,63699.61328125,72583.6015625,69795.5546875,49908.3984375,70051.78125,65196.671875,26201.673828125,85665.1015625,56138.0390625,98709.5390625,26896.150390625,85157.671875,94852.4921875,33704.92578125,58611.1484375,40014.96875,44491.56640625,68171.4921875,84420.984375,40307.625,78254.6875,48371.9375,92240.5234375,93589.1875,51389.13671875,76607.4765625,46790.5,47412.11328125,50651.91015625,73025.4453125,77896.8984375,78856.265625,60428.3046875,46969.8828125,85448.859375,41256.98046875,57554.5859375,43551.484375,91935.4609375,84127.65625,29062.388671875,87543.9453125,57057.9375,69923.3359375,62327.984375,46075.78125,78363.7109375,42071.78515625,50339.2421875,81426.8203125,58751.02734375,23141.123046875,98370.40625,48152.01953125,30086.6484375,45640.359375,81019.4140625,83880.171875,40127.421875,64357.1640625,56765.95703125,43537.796875,114462.09375,67131.671875,50843.23046875,41152.140625,89269.53125,65044.65625,65638.2421875,61253.36328125,39588.91015625,83712.859375,98557.84375,45180.078125,27464.833984375,106378.7265625,84527.4375,62558.73828125,39543.80078125,39176.24609375,62750.02734375,84785.65625,63661.02734375,51789.62890625,25049.37890625,67822.296875,42359.10546875,68790.390625,83018.9453125,37067.56640625,62267.95703125,63438.0078125,32177.759765625,42226.8984375,59259.21875,83218.65625,86709.9453125,38371.96875,50667.3515625,27638.875,50239.734375,68166.4921875,59932.5078125,60746.4140625,52406.07421875,63419.9140625,90073.796875,106320.59375,34126.15625,77276.140625,38534.9375,59926.62109375,90116.65625,66336.4765625,88202.796875,56666.84375,29913.966796875,23378.03515625,51223.96484375,22494.587890625,38922.6171875,39393.6328125,49457.53515625,46505.47265625,115477.2421875,56841.51953125,46753.78125,49008.3125,59585.140625,45337.7734375,43875.75390625,30714.73828125,82586.546875,30903.36328125,53652.7890625,61205.64453125,49840.77734375,29198.19921875,35282.99609375,79732.1796875,86245.6484375,52118.09765625,39005.6484375,48295.890625,42135.7421875,65402.4453125,38095.78515625,42090.3515625,81069.109375,69000.265625,40190.6953125,109779.7890625,68818.171875,39926.04296875,36369.0546875,25732.5859375,40938.1171875,49132.44921875,82670.8203125,51102.62109375,62819.79296875,35369.05859375,47981.1171875,86369.0703125,32323.404296875,51376.33203125,58420.78515625,43200.4765625,65953.3359375,42153.14453125,67940.1171875,43788.19921875,63473.0859375,44514.65234375,50691.10546875,44903.28515625,35683.06640625,49456.04296875,71996.7734375,46238.47265625,37790.5390625,61383.6484375,73042.5390625,59854.17578125,32228.609375,83500.2890625,80828.9140625,46529.37109375,67219.8046875,91473.09375,52997.9609375,112537.7578125,68521.7578125,33036.13671875,76363.8984375,81555.9296875,88357.9609375,58022.53125,53266.05859375,91226.3359375,32178.8203125,98562.21875,35012.5625,69748.34375,31213.138671875,37383.03125,87383.8984375,43337.85546875,29880.4765625,35255.13671875,50703.359375,21061.068359375,47892.48046875,39159.80078125,40592.46875,60860.2421875,89178.8125,72829.1640625,39926.30859375,32984.0078125,48095.80859375,39332.40625,58304.10546875,54649.7109375,89081.9296875,95236.234375,58655.140625,81419.8671875,46948.84765625,62851.515625,58740.86328125,73532.6953125,85214.234375,51464.87890625,34900.8203125,20843.63671875,39351.88671875,70378.890625,74996.0703125,37079.9375,28514.302734375,40907.70703125,31869.42578125,59146.11328125,46968.03515625,25900.498046875,61932.65625,87528.390625,40008.6171875,41724.56640625,25058.529296875,116973.1796875,62381.484375,47536.2109375,76874.6640625,99732.125,93408.03125,49504.234375,26093.38671875,56530.28125,51644.7265625,50115.05078125,36313.09375,51452.5625,36681.1640625,98308.140625,68044.890625,31188.80859375,99536.6875,34098.7109375,93210.4140625,79880.96875,81438.4765625,54711.9921875,36361.47265625,44059.73828125,98250.6328125,47418.03125,39267.0546875,72347.2578125,43089.12890625,83357.4453125,83117.8046875,45122.265625,56812.41015625,33349.078125,95373.4921875,89152.0703125,107036.2109375,52429.48828125,76295.9453125,65388.6484375,44969.703125,74945.4921875,36433.69921875,66609.0078125,49719.07421875,53779.54296875,93632.3671875,29540.705078125,38724.23046875,45505.765625,88689.6640625,28156.78125,45340.5390625,57898.97265625,65906.8515625,57673.88671875,52686.69921875,34462.265625,46809.05859375,63170.9609375,43210.61328125,75082.0703125,56715.54296875,50343.69921875,44426.35546875,71465.9453125,67365.65625,81078.625,64566.87109375,36421.03515625,55557.98828125,91210.1875,48592.0546875,56112.1328125,42984.59375,86106.0234375,37484.54296875,70814.2890625,49114.27734375,64273.12890625,86474.5234375,55015.05859375,27135.71484375,107437.3359375,44815.203125,45689.62890625,65904.765625,30050.166015625,49842.01171875,100389.5546875,44412.328125,60811.70703125,81468.2734375,98941.703125,49264.15625,42106.046875,49914.02734375,54446.34375,84819.4765625,68904.4296875,56497.30078125,100475.6875,58722.09375,99270.1484375,31371.490234375,44404.15625,86174.625,35854.97265625,123461.59375,92986.671875,100451.78125,56724.86328125,22450.626953125,71856.96875,53791.734375,34141.69140625,58444.28125,20581.58984375,30204.498046875,74727.1875,53706.6875,83631.1015625,38042.24609375,75173.8046875,91267.90625,5142.23779296875,62859.3359375,79500.6875,86754.1875,23023.2734375,36602.7421875,91820.359375,38389.77734375,85443.65625,82588.7109375,39737.0546875,35500.47265625,67349.296875,41640.99609375,72228.28125,51960.90625,49599.68359375,64999.48828125,83753.59375,88841.0703125,38135.1640625,59975.046875,78294.7421875,82226.71875,39398.8125,69819.03125,65940.2109375,44843.37890625,35274.53515625,50190.21484375,114217.2265625,41592.31640625,63753.90234375,70937.390625,53571.44140625,45237.296875,32510.681640625,42321.3046875,36215.20703125,43242.55859375,39729.12109375,42988.62890625,42007.55859375,56841.03515625,79958.0546875,80496.6953125,91372.65625,36209.8046875,60674.09765625,62230.6484375,37130.31640625,73079.328125,46866.85546875,67056.1328125,90621.109375,21454.376953125,29291.025390625,43735.640625,58248.60546875,94599.109375,62127.359375,70322.1875,43396.1015625,71983.7578125,36181.140625,37804.0546875,30889.556640625,91783.28125,48584.921875,82543.1484375,56210.765625,81673.171875,22420.576171875,48529.421875,33910.9375,45091.28515625,61368.1875,43973.91015625,62921.4375,49895.53515625,50970.4765625,53136.9609375,21228.671875,45551.609375,49295.3671875,34712.53515625,67233.3828125,77102.65625,85151.6015625,61054.93359375,27193.013671875,93171.703125,38541.8125,42683.11328125,80915.765625,51545.984375,83016.7734375,68664.6484375,89614.9453125,46833.30859375,48521.38671875,75612.0859375,53810.8515625,49165.265625,84000.5,46666.6875,26793.296875,28383.603515625,126176.2109375,48963.92578125,38845.28515625,58525.92578125,102357.6875,47563.4609375,30373.099609375,56972.21484375,53415.76953125,79101.109375,69137.3984375,103063.0703125,58090.5078125,64001.671875,46104.80859375,94509.109375,54113.59765625,21947.07421875,46411.8125,31948.86328125,75987.765625,87268.0703125,113546.9296875,87378.859375,32403.71875,55324.484375,49952.72265625,39451.76171875,67749.296875,69907.1328125,44794.91015625,65952.265625,105967.5546875,87255.6171875,40161.04296875,64287.60546875,42747.01953125,77285.9140625,65810.734375,39826.00390625,75892.796875,39411.15234375,51458.921875,99113.9375,46199.14453125,47841.93359375,34704.69140625,58954.73828125,103273.8515625,85541.109375,80246.1796875,93276.53125,86769.828125,62862.203125,8768.9833984375,130734.0,26514.279296875,107281.140625,97196.71875,76880.6640625,43900.8828125,60876.8671875,96355.0625,31786.458984375,39309.5234375,38503.72265625,42180.8671875,44247.0,67386.5703125,65129.8984375,67473.3125,41841.98828125,38575.40234375,71985.359375,63639.703125,88710.53125,21333.142578125,89475.015625,51814.296875,50512.16015625,47253.87109375,21954.23828125,85844.4765625,53833.984375,63362.875,62760.84765625,49263.44921875,34864.890625,51965.3984375,96418.296875,28890.02734375,88995.7421875,83405.015625,37906.828125,23765.6484375,78380.7734375,18924.802734375,52451.421875,83200.5,51067.38671875,64215.921875,76885.859375,42198.0,70290.5,55653.5546875,46436.84375,65717.9140625,72863.8203125,51915.02734375,50476.890625,21269.3359375,33443.71484375,38399.203125,42957.40625,44984.90234375,124393.9296875,87100.59375,38807.67578125,61936.265625,35981.31640625,49530.734375,47766.56640625,92917.359375,65980.65625,75901.5078125,45409.78515625,83602.6171875,77631.7265625,74029.9453125,74006.3984375,30151.76171875,59934.546875,144834.515625,45356.31640625,42391.1640625,51343.3203125,48464.41015625,109522.703125,48665.46484375,21078.9765625,91267.25,102295.9609375,42014.75390625,56302.51953125,60885.8359375,77954.3125,23813.478515625,66451.0078125,69842.890625,39342.97265625,50444.640625,76527.46875,45336.34375,61852.6875,38255.671875,43124.6328125,43239.890625,72846.3046875,86992.6171875,111188.2265625,35151.67578125,58918.125,76616.4296875,44304.9375,85717.3671875,38616.21484375,70792.046875,67278.546875,99810.546875,92723.2890625,55764.296875,40382.85546875,42493.8046875,52061.8125,86782.5234375,71277.0234375,36336.2265625,74577.9296875,43014.94140625,71389.5,67478.3515625,69989.6015625,79933.1015625,31108.68359375,74187.65625,71568.2734375,77666.6796875,30649.16015625,53641.22265625,77807.703125,70408.15625,65312.81640625,69684.65625,71711.453125,51065.51171875,30724.2109375,53622.12109375,35128.44921875,50318.0859375,37982.69921875,69129.9921875,48553.9375,74749.265625,53431.421875,83693.5078125,30685.666015625,37101.17578125,103421.4921875,67421.546875,45478.94140625,26741.966796875,16738.728515625,82285.890625,117460.1328125,66829.484375,19414.4921875,59781.84375,36148.45703125,54803.7109375,78370.25,65832.0703125,35508.1015625,32099.84375,64642.96875,40287.77734375,53832.19921875,61536.953125,57130.796875,114886.2109375,72724.3515625,80202.078125,66649.734375,28798.74609375,52589.57421875,53469.22265625,32002.298828125,39594.40234375,50915.5546875,95596.7890625,74419.734375,37537.8046875,90869.0,49410.828125,72993.140625,81909.328125,86316.6171875,43115.08203125,44002.69921875,56835.87109375,37936.7578125,49466.4140625,88486.765625,67807.796875,46136.796875,61706.0546875,77056.296875,101398.625,50929.97265625,109280.5234375,85128.3828125,41293.33203125,35121.75,42101.359375,43991.36328125,45708.53125,120400.7890625,61139.875,65435.9609375,99661.96875,76956.421875,87677.84375,41839.2421875,60212.73828125,30300.291015625,13783.7880859375,53139.11328125,34200.30859375,42587.87109375,74046.1328125,27984.611328125,101674.140625,62124.078125,81453.8359375,37651.38671875,38975.58984375,90637.7265625,47553.99609375,60609.5703125,31547.697265625,83657.5,59875.6484375,58005.3515625,51358.66015625,104669.2265625,54466.28515625,42284.1796875,96692.0703125,100040.40625,67344.0859375,19913.130859375,123053.7109375,92734.8984375,54625.7890625,76291.8515625,88504.6953125,41750.0,84298.828125,38670.63671875,41731.4453125,80070.8125,84483.78125,54961.75,90962.21875,101836.0,113523.234375,63545.75,72539.3671875,26594.279296875,88820.328125,71122.1015625,75034.015625,37270.8515625,32004.5,85890.0234375,53180.66015625,42485.86328125,109113.171875,43135.125,40900.63671875,57367.66015625,23055.849609375,31990.05859375,59583.484375,85187.3046875,42890.15234375,85349.3203125,85861.5078125,40037.078125,84666.15625,51154.9765625,29610.7734375,50224.63671875,92455.296875,50142.7734375,70631.953125,51187.2421875,70179.0859375,99622.2109375,66093.4453125,59626.8671875,55133.7421875,46507.4921875,60330.42578125,37007.5859375,61012.87890625,34833.875,85315.4375,41600.09375,33270.2578125,87675.9296875,76338.734375,81644.5859375,33708.29296875,32018.203125,107032.5625,58850.6796875,44030.41015625,84399.828125,54219.015625,118687.546875,52957.296875,67337.34375,51628.48046875,71697.421875,63688.03515625,61627.11328125,68552.46875,64426.19921875,35143.4921875,100519.5546875,83848.984375,42526.890625,70073.0234375,122488.1953125,92706.6953125,48199.1171875,57593.93359375,76900.6875,46460.22265625,71864.9765625,66000.3515625,37078.3046875,52214.98828125,45878.99609375,50859.6875,94601.234375,100317.671875,122071.515625,56622.57421875,26378.498046875,43549.32421875,55239.3125,48421.5625,63524.6328125,41650.63671875,45821.64453125,41404.1796875,30464.3671875,44612.59765625,69636.8828125,55492.31640625,96170.3984375,78777.578125,76442.421875,82229.9375,41903.23828125,52292.75,71393.34375,34326.421875,95854.5546875,41586.30078125,57007.203125,50085.515625,113916.7890625,57592.66015625,75119.3203125,42849.04296875,54726.5703125,29605.646484375,40153.22265625,78120.3046875,50988.86328125,6247.857421875,69784.3984375,86182.4921875,117477.1484375,88521.1484375,77293.2109375,42149.30078125,75251.296875,50702.66796875,90116.8046875,57900.51171875,95354.1640625,57529.89453125,71193.84375,73969.6484375,24496.65234375,49066.1484375,58082.8515625,27751.6015625,94535.9375,58797.265625,68705.90625,95552.71875,48337.20703125,105826.15625,41414.98046875,61748.21484375,59893.93359375,67090.8125,64258.015625,84507.7734375,95252.7265625,65983.0078125,34898.12109375,31894.515625,80981.0078125,105383.859375,87657.5859375,42922.36328125,41299.9140625,72551.84375,99770.484375,50304.546875,32238.0,30612.017578125,37049.71875,54733.91015625,52423.05859375,64961.21484375,32124.931640625,50892.16015625,29569.169921875,43010.625,67846.890625,69604.4765625,43005.046875,49950.93359375,72786.109375,56077.9609375,35516.58203125,25991.3984375,42059.7421875,50397.42578125,44644.71484375,49151.61328125,42794.77734375,42506.48828125,55699.75,55985.85546875,61532.234375,87514.2265625,52171.3515625,52226.99609375,62689.43359375,58006.19140625,44045.78515625,49746.9453125,56310.59375,80364.9375,57345.78515625,49560.9609375,93680.125,84877.9296875,85906.0859375,34774.69921875,51001.0546875,102233.1640625,28585.634765625,41761.90625,75015.5625,34045.7890625,44059.62890625,72320.3828125,54869.28515625,54728.96484375,59745.984375,33139.65234375,28751.8671875,61841.26953125,126741.1171875,39668.19921875,51193.90234375,32502.53125,25431.97265625,51200.81640625,39449.21484375,53347.65234375,80479.5625,71360.796875,35813.71484375,72573.609375,71506.9921875,62129.34375,45463.83203125,49555.34765625,107275.8515625,72855.0625,40120.27734375,26381.234375,89239.0625,41135.43359375,94087.34375,54282.875,66562.3671875,80577.71875,44274.98828125,43055.30078125,81942.2109375,51091.64453125,55435.96484375,65533.875,47937.6796875,45070.93359375,56808.69921875,94312.78125,123937.015625,44030.25390625,75641.5625,49439.48828125,78122.8125,49518.63671875,54731.75390625,86749.359375,63327.23046875,61719.67578125,102608.75,43426.33984375,71644.53125,64642.07421875,36096.65625,72431.5625,54800.77734375,61945.80859375,25663.19921875,30158.40234375,68931.0625,27240.5546875,22276.927734375,53563.421875,73157.8359375,120704.2890625,45337.078125,50948.9140625,67820.6796875,63845.38671875,95542.8359375,86283.625,57663.05078125,36386.828125,110002.71875,64293.85546875,34552.8671875,59596.8984375,46650.75,42934.34765625,64821.08203125,46963.453125,72277.203125,105701.703125,60299.50390625,78094.5,36520.3515625,72577.4296875,49289.01953125,49302.3515625,122588.46875,89464.09375,82794.3359375,36400.44921875,37850.296875,83533.265625,41865.69140625,52337.91796875,113262.3125,31289.591796875,79642.84375,87817.6484375,77753.46875,84165.1796875,44561.22265625,95934.859375,45436.94140625,39796.44140625,61029.984375,81578.515625,99133.390625,17455.55078125,67840.4765625,96294.6640625,26336.099609375,92840.984375,23667.501953125,75650.6953125,58091.87109375,47602.05859375,52131.19140625,44271.984375,104833.4921875,90201.5859375,48504.203125,63548.4296875,86966.484375,21559.865234375,46783.67578125,48448.7734375,46836.75,41202.6640625,67224.28125,88896.015625,49146.56640625,42019.08203125,55843.546875,27378.56640625,72857.5859375,78144.5234375,80700.140625,76620.90625,56650.1171875,62881.328125,81308.71875,51228.65625,91278.546875,76454.625,38240.921875,67318.2578125,47218.765625,37605.296875,116700.046875,48527.34765625,68105.3984375,61280.36328125,58063.45703125,56426.296875,53367.203125,28898.103515625,71454.109375,77151.7578125,70557.4140625,34758.32421875,84380.71875,55300.6953125,62989.22265625,76558.1640625,32279.486328125,33693.01171875,33439.09375,39222.60546875,106165.125,41789.75390625,54762.19140625,84793.8203125,55394.5625,75576.8828125,90134.8984375,81185.8671875,54967.35546875,36633.375,45901.9296875,45565.453125,75458.4140625,51399.7265625,103465.234375,83444.5859375,77773.1328125,42298.85546875,35979.93359375,77482.953125,50895.671875,105431.2265625,108229.3125,45201.984375,57500.2578125,106393.875,98737.484375,76621.1796875,39724.14453125,110367.125,85474.828125,32614.107421875,57922.9453125,34488.20703125,51013.93359375,72134.84375,101551.2734375,33196.72265625,109325.2265625,48532.3125,49670.7265625,102611.671875,82839.7890625,56195.92578125,49616.34765625,91680.6640625,57252.75,3754.0009765625,54610.640625,55095.53125,41466.19140625,59094.6015625,83761.703125,62385.10546875,59369.4609375,35922.71875,28630.673828125,65771.625,84452.5234375,74452.109375,57758.265625,73091.0859375,64774.0234375,34552.16015625,37805.54296875,74674.453125,34928.75390625,30017.953125,62892.71484375,58667.328125,70072.59375,61506.94921875,64218.0625,49522.81640625,41312.66796875,28141.62109375,71599.7265625,50985.08984375,57306.734375,30755.849609375,49549.4921875,80124.7265625,33886.50390625,56989.93359375,112109.4921875,21330.298828125,43250.2734375,39438.015625,73090.2578125,27021.11328125,53423.28515625,86824.2265625,67053.5859375,67334.4375,54187.171875,63432.15625,90067.5390625,56808.97265625,59607.63671875,35085.65234375,34217.59765625,34429.66015625,48571.44140625,68862.046875,53628.578125,36981.703125,78939.84375,139925.234375,70219.2578125,45768.39453125,52655.28515625,36854.4140625,76592.046875,89600.6953125,29301.91796875,68673.328125,46058.64453125,60084.99609375,88941.3203125,63944.6953125,102917.375,89396.3515625,68603.890625,90955.015625,35232.37890625,115449.6171875,93786.28125,104237.0,138148.109375,45242.14453125,31725.591796875,25806.14453125,24432.0234375,84447.9453125,37134.13671875,49391.4609375,62363.7734375,28965.404296875,33138.59765625,41675.06640625,62992.5625,88171.3828125,68599.9453125,97086.609375,57175.984375,50983.20703125,73780.2578125,57759.55078125,89708.890625,58377.28515625,97241.4140625,24885.474609375,68439.796875,86994.7890625,39984.7890625,49528.23828125,81002.796875,60737.97265625,92654.984375,103161.546875,114639.1328125,104669.984375,40123.16015625,65461.23828125,50262.9609375,49015.13671875,36694.0078125,2655.416748046875,48234.078125,65440.05859375,108152.875,35685.28125,90462.5078125,37327.66015625,71000.4453125,35578.61328125,54447.09375,30363.3828125,54895.66015625,47983.3359375,64671.82421875,80030.1328125,55979.54296875,44618.57421875,51580.4765625,74462.7265625,39334.2578125,114775.546875,51246.4375,9742.3779296875,33897.2890625,54897.84375,95397.90625,71200.171875,38463.5859375,83064.6015625,82648.6640625,36142.52734375,63350.0234375,37979.52734375,57263.34765625,47192.50390625,44005.75390625,88814.3984375,39669.046875,48066.64453125,43309.16796875,95200.28125,83848.2890625,50276.7734375,29982.677734375,43447.828125,76367.8828125,80412.2265625,79448.0078125,104389.046875,80926.09375,98579.5703125,73730.4453125,116648.8671875,44333.10546875,49125.984375,38907.01171875,33298.203125,35466.8671875,41082.046875,48037.625,57131.0703125,40564.9375,74205.078125,36035.55078125,86579.8984375,94689.390625,89091.3125,69091.7734375,68066.8125,60977.92578125,63478.92578125,79271.390625,41885.25390625,44033.8828125,73854.4375,53846.75390625,59357.65625,93593.7890625,52624.63671875,60053.3203125,60905.92578125,83081.9453125,26732.634765625,80830.9921875,51296.1328125,94956.375,84836.046875,101216.84375,55510.96875,36756.74609375,45355.24609375,55374.77734375,36732.3125,44942.6875,55231.78515625,40742.14453125,29078.701171875,61630.5546875,57162.90234375,25884.125,61141.421875,94542.9296875,73179.4453125,40957.44921875,81425.3984375,58643.50390625,85003.828125,48551.37109375,65672.3125,53891.37109375,46337.59765625,67686.140625,37978.8671875,87820.0078125,107883.875,64260.58984375,39502.43359375,49525.7421875,88594.8125,37250.12890625,58303.76953125,85722.7734375,31357.125,61462.44921875,94296.5859375,75769.71875,53386.73828125,30208.4453125,69568.3671875,77670.9296875,36725.83203125,20526.078125,33008.62109375,132670.625,39818.84375,78818.3515625,46405.9609375,70989.2578125,68758.1015625,47278.0,25676.47265625,56910.20703125,76301.3125,49503.0703125,56592.48828125,41417.05859375,58658.94921875,101492.1328125,88649.1875,55703.04296875,56857.9375,38391.18359375,74859.671875,57849.22265625,32400.83203125,56770.2734375,46606.5078125,106223.5859375,37007.08984375,22867.50390625,76799.78125,69988.375,74653.7421875,75488.71875,50262.21875,43102.76171875,48116.51171875,92523.2890625,56479.5546875,49960.5703125,91991.1015625,69848.5703125,106946.984375,41241.81640625,42741.12109375,59814.94140625,50834.8515625,36713.14453125,85313.953125,39243.21484375,66375.6484375,39240.796875,68764.40625,56525.50390625,113580.4609375,79016.921875,39832.79296875,49473.77734375,80457.5234375,55926.796875,52623.3359375,66619.7734375,50476.09375,97687.5625,88222.0703125,62695.5859375,76266.3359375,59348.45703125,76645.96875,57188.34765625,50058.83203125,84993.578125,68483.4375,58788.3828125,28280.623046875,118907.859375,87446.5390625,48391.40234375,50461.08203125,88059.828125,66856.3984375,54360.2578125,31637.603515625,101564.6953125,64825.22265625,36336.859375,39457.35546875,67505.1875,32353.2109375,70724.6328125,55308.7265625,41631.0546875,76473.453125,15514.365234375,45300.203125,78654.1796875,61703.765625,62315.625,26423.046875,60292.671875,77869.859375,67856.609375,35042.42578125,37968.09765625,56145.97265625,50051.078125,92894.90625,54228.3671875,71417.5703125,102621.6875,60880.91015625,52557.7109375,77909.453125,45599.5703125,48770.08203125,33979.24609375,49469.12890625,46272.00390625,40845.359375,46532.62890625,82823.4453125,83804.1015625,43378.421875,53095.88671875,44765.27734375,96574.3359375,80207.4453125,92265.2265625,91171.4375,113050.8515625,77281.3359375,79429.9375,44823.38671875,64123.546875,62351.39453125,104959.8125,38148.50390625,24269.669921875,75502.1171875,35777.90234375,79435.953125,51138.17578125,37479.11328125,81607.875,29275.62890625,66461.8671875,81267.875,95682.5,51013.89453125,84670.3671875,82066.796875,78364.6015625,84855.9765625,103026.078125,43520.84375,94303.0546875,71669.8359375,45188.9375,26514.751953125,47165.453125,94850.0546875,32339.29296875,53941.375,41971.15625,84139.6953125,74693.453125,86554.7734375,64906.92578125,61327.265625,84774.3203125,48808.9609375,74252.5078125,38547.28125,54292.0078125,95517.84375,52951.75390625,84146.2109375,73163.2421875,63576.12109375,70618.890625,54584.7421875,74194.109375,90107.53125,41217.51953125,45273.80859375,24036.748046875,68295.28125,36257.23828125,80078.84375,45272.515625,45283.9140625,42529.796875,79299.265625,60342.98828125,31021.130859375,100407.140625,35365.56640625,124220.7734375,40195.31640625,79361.0703125,72677.390625,37799.48046875,125812.375,106968.6328125,106871.21875,44058.47265625,38946.74609375,53787.65625,80668.90625,37169.67578125,91257.1015625,34919.46484375,54127.23828125,51289.58984375,41616.9453125,74897.59375,51395.32421875,32618.470703125,99773.6015625,72184.5,50250.24609375,77100.6640625,44119.33984375,75762.9296875,96184.3671875,39140.72265625,58025.015625,44696.6328125,115089.8125,69334.21875,80654.8125,98900.578125,108209.6875,52402.27734375,65971.890625,78224.0703125,65716.6875,51020.00390625,90070.109375,45402.4296875,30745.935546875,69016.2265625,89347.875,67779.0625,78440.5625,61827.08203125,58434.4140625,28713.51171875,104814.59375,69866.421875,88314.3828125,48951.765625,80540.953125,60934.33984375,77758.7265625,27504.6640625,51304.28515625,63884.296875,46243.44921875,43434.32421875,80217.3125,77624.7265625,60263.3203125,59645.72265625,47718.31640625,87307.453125,36697.296875,94486.4140625,75539.296875,45867.87109375,39497.16015625,55356.27734375,53548.90234375,50105.171875,46639.859375,52707.83984375,52099.171875,54781.20703125,44564.6640625,69875.53125,65001.3515625,93579.6015625,66558.2890625,104525.203125,79739.2265625,52669.3984375,49122.4921875,27569.408203125,67786.4765625,80570.578125,46785.53125,87930.5,47228.48828125,70236.1953125,33772.390625,65607.546875,87553.4765625,51758.01171875,75033.234375,66640.0390625,67302.3203125,43122.83203125,39925.8203125,30387.818359375,63422.44921875,85019.6953125,63841.96875,55987.18359375,23350.326171875,57454.16796875,58092.15234375,55215.30078125,97111.9765625,78235.65625,47836.828125,92414.640625,91811.75,58531.49609375,42835.015625,36093.1328125,66710.25,89449.9921875,35862.22265625,78472.3828125,57605.3671875,58914.20703125,54654.31640625,77992.7890625,47206.08984375,137481.203125,102199.328125,75402.4765625,75483.3828125,75989.8671875,36369.015625,65033.375,65312.1015625,49323.09375,43855.80078125,35570.62109375,81022.1171875,40499.14453125,47319.5859375,90555.9375,47187.23828125,45430.05078125,35545.23046875,49394.625,54384.68359375,130943.21875,53694.51953125,36809.796875,63585.890625,87793.9609375,78582.671875,82553.984375,54260.96875,51663.53515625,84117.71875,77738.5,84481.1875,34925.71484375,22872.037109375,78121.0390625,71661.84375,59746.4765625,53241.578125,69959.3125,35760.203125,104482.8203125,127185.7578125,66342.2578125,97837.453125,87591.8984375,35477.765625,61494.34375,70455.0546875,86370.640625,72767.328125,55979.84375,68434.96875,63725.81640625,70673.5546875,45917.0,40669.5625,66741.1796875,55907.80078125,64173.88671875,65082.0390625,20407.666015625,47717.05859375,81161.7734375,62070.09375,52683.0390625,97712.8359375,83222.25,69220.6015625,89822.2109375,108763.2890625,68581.109375,99961.0234375,30944.17578125,47125.9375,82603.59375,32865.296875,23429.56640625,31355.2109375,56130.7578125,57012.265625,49732.19921875,40464.42578125,53268.40625,52834.59765625,98821.0234375,40513.35546875,35627.0078125,50544.29296875,68789.1171875,65988.484375,50494.87890625,64760.7890625,58716.58203125,30924.029296875,69856.3828125,37536.44140625,49125.7109375,78299.7421875,39990.984375,52537.69921875,46459.0703125,43718.70703125,40947.79296875,95592.3359375,32200.478515625,70487.8359375,64043.8828125,70266.078125,78879.734375,99769.125,49067.8828125,89123.6640625,111653.7734375,65935.390625,41378.74609375,41923.76171875,80959.6015625,88560.1875,74210.734375,50929.97265625,75278.1796875,48173.375,74371.0078125,59203.63671875,52507.59375,60469.32421875,43054.3046875,64256.2421875,66419.0,52850.5703125,91461.578125,45716.79296875,9440.2255859375,38093.48046875,49345.0625,50709.8515625,32841.23828125,27125.46484375,78389.859375,46638.8359375,75942.953125,72585.7109375,102959.2890625,75770.2109375,58753.3671875,86138.390625,89476.9609375,59820.12109375,1243.1395263671875,66914.7890625,63955.078125,42403.5390625,49191.3125,59114.05859375,71981.984375,35606.74609375,41478.69921875,43160.64453125,43506.078125,56139.4453125,90201.7890625,55317.203125,51790.60546875,68958.7734375,66180.734375,61303.421875,59410.3828125,33654.66796875,98571.453125,71994.859375,91777.390625,56502.1875,81376.765625,78252.515625,86647.0546875,42869.109375,26662.857421875,80656.9453125,84850.515625,100896.6171875,76816.8046875,36473.21875,41817.94921875,39030.09765625,20104.810546875,31042.728515625,57079.38671875,36239.265625,53241.17578125,51403.046875,39576.890625,69968.640625,86145.7421875,40297.38671875,53578.47265625,109520.6640625,53729.0390625,58335.14453125,28028.3515625,57592.79296875,43422.49609375,81209.5546875,43606.43359375,60935.15234375,45050.1328125,42555.96484375,77837.46875,65497.9765625,53639.23828125,79705.5625,40808.22265625,41608.30859375,53481.64453125,84685.71875,128626.546875,75482.609375,81186.375,84485.203125,73323.09375,69147.21875,30947.55078125,52778.46484375,61223.91796875,45407.14453125,57781.2890625,49139.5625,28757.162109375,54460.74609375,54200.453125,63016.7734375,60239.41796875,38136.6328125,39784.53125,71328.0,42678.15625,40829.296875,42860.6484375,77545.1875,43627.73828125,42583.83203125,53619.97265625,83942.484375,54775.25,98474.2734375,56337.59765625,102036.4375,84893.296875,59836.046875,88465.625,58632.484375,50108.86328125,90028.2890625,129977.0625,32294.513671875,80527.6484375,102685.5234375,61432.8515625,42371.578125,101745.609375,48831.1796875,42947.8046875,85823.8515625,61081.7734375,80466.0625,52924.71484375,55508.02734375,81092.90625,76044.328125,93170.265625,35962.88671875,69110.625,30483.041015625,48003.734375,47329.21484375,74934.0390625,83542.359375,90022.75,54872.75390625,42657.69921875,68536.0625,78460.3828125,43637.66015625,46607.4765625,83504.5234375,84242.4765625,39167.6328125,24885.060546875,32544.076171875,51603.69140625,50309.453125,95784.5390625,76313.96875,89961.28125,34932.25,100072.953125,90347.078125,57284.734375,82454.3046875,78795.5390625,43669.2109375,67326.96875,40454.63671875,59101.171875,34246.34765625,90187.890625,46564.4765625,209.1613006591797,50872.81640625,76238.6640625,52753.29296875,96482.9609375,57462.4140625,118523.59375,65136.3828125,87981.25,34075.3671875,47254.203125,62951.265625,67671.4140625,71732.96875,58772.8828125,37111.5625,32733.232421875,56548.609375,58129.96484375,77380.796875,92178.859375,35811.48046875,55431.99609375,80098.3359375,43730.40625,44750.69921875,46997.16796875,63965.90625,36386.99609375,103369.6796875,76264.96875,60442.18359375,39955.23046875,66162.6015625,70999.9765625,43130.7734375,89448.3984375,66955.6640625,70700.25,47992.1640625,48981.921875,58318.58203125,58415.984375,55116.30859375,69388.5390625,49858.921875,54444.0,71363.296875,45896.6640625,54962.8203125,111219.8125,41818.7109375,50820.0859375,42550.71484375,47128.109375,39732.37109375,93771.0546875,56304.1640625,33687.1328125,43299.1484375,48905.30859375,75751.2890625,32276.92578125,43217.19140625,61840.83203125,36618.96484375,66327.640625,67649.453125,98245.6796875,38592.48046875,74851.1796875,93763.125,55755.56640625,68503.75,57985.38671875,44693.359375,39303.2265625,67093.2734375,68406.90625,77479.28125,49109.5,62899.0546875,63558.78515625,76258.734375,93072.2109375,116904.0625,55997.60546875,37888.7890625,60394.71875,72826.546875,122912.40625,38511.23046875,50035.15625,83892.625,69139.953125,50519.0703125,44723.7421875,45867.54296875,32014.0703125,77320.5,52797.265625,67349.671875,24591.830078125,69544.0859375,64309.2734375,52836.375,59099.46484375,49426.828125,99989.3125,18305.48828125,31702.076171875,118300.1640625,77859.3828125,81161.25,67748.4375,63700.33984375,24451.373046875,88505.21875,33699.2265625,34083.1015625,61190.5,80587.40625,26204.33203125,123306.8359375,82329.3046875,93153.5234375,42951.95703125,40645.27734375,56619.88671875,54196.125,55093.9140625,96248.2109375,63603.97265625,87627.5234375,55662.71875,74614.859375,87693.2578125,89087.7890625,98491.7734375,28698.099609375,26747.29296875,21946.0078125,101854.546875,8667.345703125,61598.91015625,68077.546875,36681.7421875,48767.3125,73604.2734375,91192.34375,33267.59765625,61015.91015625,38125.80859375,53251.296875,24221.416015625,101158.7265625,76549.6484375,91307.7109375,41826.35546875,55239.4453125,54211.41796875,81679.203125,45195.84375,82908.4765625,58406.1640625,50827.8671875,72904.109375,35712.58203125,78874.28125,78367.5390625,22114.51171875,102345.96875,82853.5234375,59190.45703125,33845.44921875,32013.966796875,91251.3515625,62390.625,39273.42578125,92536.9765625,51530.05859375,40431.51171875,44208.4375,65138.1328125,72831.2890625,67492.625,24327.671875,39258.375,41431.203125,84251.59375,126129.2578125,43233.10546875,87594.9296875,52322.50390625,58092.83984375,52086.64453125,71035.6796875,44561.6875,79334.2421875,60343.09375,32363.646484375,66969.640625,26869.736328125,39793.92578125,96606.4453125,90301.78125,89278.8046875,38212.92578125,62421.37109375,91791.078125,54356.66015625,84645.5234375,46657.9453125,70013.2578125,70802.5625,19112.54296875,43522.5625,53027.9765625,75630.0546875,32611.8203125,52931.92578125,69263.9375,70489.5625,68560.0,35700.3203125,89750.4765625,48107.8125,50047.140625,49437.71484375,69513.921875,88010.3515625,91406.7265625,61320.30859375,60637.86328125,64218.53125,62240.69921875,51921.921875,58451.8671875,61422.390625,32943.9296875,80231.1796875,43216.01171875,58657.92578125,94697.1875,80957.0234375,28129.05078125,71741.6171875,33989.2890625,87056.8828125,101116.5859375,27339.5703125,59737.5390625,36593.30859375,87122.5859375,85907.265625,60791.75390625,76500.9453125,63488.9609375,98317.7109375,94741.8515625,24250.072265625,73659.7890625,86181.2578125,61117.4609375,65179.06640625,73325.5390625,34480.59765625,56290.0546875,92542.6015625,69887.8515625,77652.9609375,40406.7421875,37466.86328125,44259.26953125,53823.21484375,36369.1640625,84733.3984375,65853.3125,66611.6875,29706.921875,66038.7578125,74224.9140625,69485.546875,67057.5703125,97066.4375,56564.04296875,40468.21484375,68780.546875,55551.8125,35315.12890625,50405.0078125,38745.1640625,75306.28125,68662.703125,91652.8984375,114674.15625,77983.6875,111080.9921875,43786.0703125,89179.46875,48445.53125,78622.2734375,48478.984375,66514.2265625,82688.0234375,37310.2421875,77251.3125,118272.484375,111155.3515625,68904.4921875,45574.83984375,50720.140625,54924.14453125,63677.63671875,45243.58203125,78470.8125,49177.28125,124399.6953125,36989.1875,91972.7890625,78438.6953125,101068.84375,48504.078125,56825.5546875,57062.8359375,63813.1328125,26724.61328125,76954.9609375,33717.98046875,41243.15625,41593.8515625,70572.0625,92872.7578125,75340.96875,43139.51953125,32496.37109375,59772.71875,77603.4296875,68118.9375,62025.36328125,110743.4375,62474.5390625,30494.330078125,37402.125,61435.2109375,109780.2890625,56122.015625,41533.953125,63729.97265625,108451.4921875,45736.83984375,47925.3203125,76588.015625,62031.7109375,25343.236328125,39705.58984375,99447.4140625,85139.3125,31955.3984375,54850.50390625,80674.1484375,32512.111328125,59705.0234375,66356.265625,77497.6171875,51239.7890625,53112.77734375,61261.27734375,50760.78515625,48352.07421875,54577.7734375,39785.953125,35156.54296875,90060.96875,90163.828125,20317.1171875,35450.77734375,41339.890625,95975.2109375,41668.08984375,80287.6796875,66933.0234375,53921.796875,85559.328125,54711.6328125,40183.73046875,82098.9609375,67300.2109375,83988.4609375,33070.3203125,85287.484375,51404.171875,46326.13671875,64846.29296875,37383.21875,89266.8203125,61136.25,77401.640625,28306.71484375,32374.96484375,83239.28125,75236.5625,91340.4609375,39986.484375,13699.681640625,31115.884765625,65910.25,43620.62890625,58384.01953125,85511.7421875,72985.8515625,50404.96875,30146.06640625,30960.248046875,46295.70703125,71214.4375,49768.5703125,46165.1328125,54663.06640625,59257.7890625,38531.02734375,56413.6171875,61370.41015625,30740.484375,38314.3125,80055.015625,45808.375,52102.5546875,64394.109375,57554.421875,98943.3515625,53661.98046875,44981.265625,52062.99609375,70664.7421875,39102.921875,47790.5,59214.5859375,37769.5,63349.4921875,48646.37890625,67842.0390625,48122.45703125,38203.9296875,40135.765625,17144.611328125,88596.3359375,45431.82421875,69177.4609375,54433.14453125,87386.4765625,123530.6796875,45406.30078125,68858.6796875,42973.140625,36003.13671875,53466.36328125,72826.640625,52398.78125,99213.453125,45218.79296875,79335.171875,42739.578125,66478.125,46493.3046875,64031.92578125,51399.34375,69196.46875,28823.7890625,110294.8046875,44659.8203125,59046.26953125,120881.0078125,40880.05859375,108508.0390625,112071.90625,53991.11328125,71861.171875,38910.11328125,38080.07421875,54316.77734375,115039.921875,83491.1328125,77533.0078125,36417.34765625,93702.890625,40355.46484375,76594.84375,76594.5,86881.8359375,33273.2734375,30591.41796875,73065.0859375,75299.2265625,72847.984375,108958.8671875,79860.5703125,85711.0390625,59225.25390625,40319.4921875,71740.8125,37433.56640625,43306.2578125,61012.37109375,57060.3984375,70803.921875,66318.015625,52854.30859375,71192.8984375,61449.1640625,89571.515625,31555.494140625,97271.8046875,113177.4609375,74122.515625,61369.71875,100342.5859375,18517.125,91401.890625,32531.162109375,91907.703125,106115.5234375,40756.953125,48342.9140625,93488.875,97303.7421875,46823.44140625,50157.53515625,57821.66015625,49637.3671875,41038.140625,58413.62890625,45570.90234375,43412.58984375,39478.05859375,49738.34765625,98045.953125,41991.55859375,42790.05859375,45634.484375,61026.24609375,87798.8671875,57538.18359375,54070.1953125,42421.55078125,43067.515625,42474.53515625,76590.078125,90187.203125,39138.90234375,60979.80859375,57643.9140625,68960.7890625,30005.548828125,65842.4296875,82261.7734375,49317.12890625,117999.6796875,48878.171875,89833.0859375,39335.2265625,37364.90234375,49879.27734375,59167.28515625,53869.75390625,73443.984375,58862.72265625,32829.0859375,50048.8203125,91547.34375,27325.275390625,63176.50390625,34887.87109375,68506.109375,32856.29296875,85334.3046875,56172.47265625,55122.9609375,64414.13671875,82708.0859375,91710.7109375,26924.03515625,40249.734375,75302.8828125,50516.83984375,49908.44921875,26234.111328125,74800.7265625,63567.36328125,43217.87890625,105880.5859375,38371.234375,83895.90625,37477.97265625,70454.96875,89868.6484375,69745.7734375,60915.69921875,114113.1484375,39923.80859375,37998.25390625,81347.90625,68152.4296875,50457.6484375,57612.41015625,68897.03125,83106.953125,65327.0703125,89787.9375,61080.55078125,48843.30078125,100485.7421875,67300.6015625,39902.86328125,40284.84375,38785.96484375,37945.08203125,67966.4765625,40172.078125,97606.6484375,97115.6015625,51532.78515625,89359.8984375,34428.296875,81339.4140625,42703.54296875,88794.9453125,80834.71875,50863.04296875,58639.4765625,43919.00390625,87017.125,62246.90625,56434.08203125,74573.703125,51850.734375,32483.888671875,45366.6484375,58556.84765625,36059.46484375,80116.9453125,70547.6640625,88006.0859375,52184.578125,51747.21875,28080.470703125,29381.18359375,75100.3984375,47532.19921875,92874.1328125,57277.8515625,70898.328125,72530.84375,57072.30078125,103251.2265625,63779.140625,80192.1328125,104155.40625,35890.421875,29275.916015625,75116.921875,92627.0,47677.08984375,54174.23046875,65884.6640625,61033.6484375,51416.65234375,70249.7578125,31592.0078125,88493.8046875,49725.3046875,96929.296875,64185.84765625,25444.51953125,62155.890625,69054.234375,95357.78125,146116.328125,88464.203125,80466.25,44112.42578125,51500.59375,77566.015625,58843.65234375,69018.375,28531.0234375,42982.93359375,53978.60546875,31190.9453125,53022.60546875,105070.78125,42305.671875,35978.39453125,55256.69140625,77909.390625,96566.484375,97756.953125,78419.2578125,49601.56640625,62143.24609375,54956.0078125,51747.09765625,68982.5546875,31419.4140625,37255.87109375,64462.7421875,80881.2734375,61142.53515625,41652.671875,66370.2578125,53973.71484375,52014.17578125,72224.6796875,128035.7578125,61994.68359375,83764.2421875,50265.58984375,45985.8671875,121657.453125,53033.41796875,54584.02734375,49815.984375,53047.7578125,42915.5546875,92176.6328125,42091.53125,87457.71875,53846.75390625,85848.140625,89669.1484375,42045.0078125,92638.6015625,86950.8046875,84466.765625,112179.1875,83939.453125,21953.20703125,30650.44140625,57543.45703125,46841.5078125,62263.2890625,71124.90625,40356.6796875,58932.0390625,69723.796875,36072.34375,50106.73046875,40849.5703125,23411.87109375,84694.4296875,79125.7265625,75679.03125,58791.55078125,61970.4140625,102489.265625,75354.453125,12703.626953125,117501.28125,44031.69140625,54328.9765625,35546.48046875,87195.2109375,84685.1875,46869.53125,45023.31640625,58855.3203125,86683.203125,49844.65234375,119705.6640625,31778.5859375,112222.9609375,43022.03125,74600.5234375,48588.4609375,48068.0625,34220.62109375,43197.375,69413.4765625,53110.8203125,53385.203125,66932.484375,49822.0546875,55462.9453125,73424.5546875,77933.96875,42396.03125,57566.21875,66135.0078125,63104.7109375,26649.455078125,44602.5859375,68849.609375,68347.2734375,48757.71484375,58235.58984375,68239.3125,84779.9453125,61263.40234375,51994.7109375,68675.15625,63508.96875,41487.2578125,47190.54296875,64840.91015625,44579.91796875,59413.31640625,51218.421875,64210.234375,85470.984375,66341.09375,71273.4296875,39584.3671875,69599.234375,89353.71875,44009.75390625,55164.171875,81315.015625,61500.015625,40630.234375,99389.8359375,59640.69140625,55977.8828125,46762.05859375,43689.75,75197.46875,54986.84765625,62200.359375,38001.55078125,58368.94921875,35310.40625,51425.60546875,67632.7890625,74695.984375,37293.015625,101281.0078125,89395.625,54724.5390625,55862.36328125,85227.1953125,46046.4765625,44882.9140625,88334.21875,84415.5234375,81691.9609375,83090.875,70750.140625,65078.046875,80075.59375,34768.59375,64370.5390625,53847.02734375,22605.970703125,46760.64453125,76340.7890625,69550.125,41877.84765625,80375.03125,62579.69921875,64169.203125,79375.0625,61120.8046875,31237.24609375,41479.40625,116574.015625,77340.3359375,81038.6875,60518.9453125,54991.59375,62452.140625,92750.421875,47788.82421875,93845.09375,59284.796875,29518.603515625,73146.15625,38281.63671875,49894.81640625,66750.4765625,36454.11328125,77566.875,101683.78125,34847.390625,83293.4609375,86122.875,76565.8984375,71713.625,30403.052734375,47232.6015625,42263.6171875,78026.015625,67873.7890625,97191.8984375,29020.5703125,41355.96875,46787.78515625,45078.9921875,37037.21484375,77154.1875,96346.4765625,35523.859375,49070.83984375,62285.296875,75577.9453125,32663.59765625,73250.7578125,46764.5859375,62172.94140625,50818.58984375,80328.9140625,39079.66796875,121971.0703125,58430.1015625,40764.1328125,47914.4453125,31404.25,104287.953125,82278.4296875,26299.740234375,66107.7421875,111493.28125,77983.546875,29928.841796875,89484.2890625,51379.32421875,42540.6640625,97362.078125,46759.515625,59120.0390625,54241.73828125,26341.205078125,59237.06640625,79088.9140625,89407.890625,41261.8515625,113786.03125,53448.2890625,24035.140625,39221.6875,108895.2421875,33470.9140625,69594.8125,57722.5703125,102450.9609375,54221.07421875,59600.5703125,32733.740234375,59474.671875,67394.359375,89648.8828125,20228.884765625,53202.13671875,70849.3046875,62886.92578125,51803.3125,82464.453125,87673.4453125,40371.265625,54358.5546875,47802.08984375,44022.43359375,20757.876953125,79378.75,35966.45703125,63067.23828125,68666.6953125,70618.0859375,55599.5,32548.62109375,91799.4296875,35939.01171875,66406.5,37840.86328125,50859.859375,117422.25,94130.4296875,87308.703125,84484.7578125,76164.6796875,69574.921875,46106.42578125,49745.4453125,55547.546875,59232.60546875,84595.15625,60786.078125,40373.0859375,42449.91015625,59073.484375,57153.1484375,48444.26171875,61525.58984375,77999.25,67345.7578125,92302.265625,95707.421875,46920.203125,76659.1640625,48011.60546875,66608.3359375,95566.984375,33341.546875,99123.765625,26736.46875,76535.3984375,69908.4296875,56983.80859375,95029.21875,84670.5,76104.640625,32699.75,39512.1953125,97236.7109375,41421.53515625,42054.06640625,43670.73828125,112542.40625,60741.1796875,44100.09765625,68126.4453125,55517.15234375,52997.55859375,80428.703125,55023.64453125,44836.20703125,70917.703125,70191.8203125,77907.3125,28902.20703125,49199.5625,57449.58203125,54844.1796875,81075.875,69408.6328125,51410.03515625,70392.3046875,56546.64453125,41726.0390625,53949.98046875,48218.8515625,57053.99609375,48256.32421875,73284.8984375,79473.4921875,57265.71484375,111540.1484375,88552.078125,58010.45703125,59078.3359375,93086.4765625,103267.8046875,82494.1328125,45533.0078125,71362.4453125,72001.96875,86399.4296875,83861.4453125,110100.671875,52511.49609375,42969.77734375,43388.171875,107649.359375,47918.8046875,65540.53125,101008.0390625,62108.3359375,65730.28125,92501.1015625,43535.484375,63139.84765625,54010.98046875,79473.125,33192.2578125,37116.80859375,97909.7421875,48149.24609375,45482.296875,47948.984375,41405.01953125,61986.84765625,35859.83203125,78278.984375,41936.40625,67487.2578125,40359.8125,88314.125,22332.51953125,42363.27734375,50502.00390625,21263.904296875,49196.84375,39425.1328125,43208.6953125,74181.9140625,34196.8671875,42657.1015625,43184.625,109402.1875,68263.5234375,39193.859375,74182.0703125,27365.23046875,33071.30859375,39542.8828125,83104.1484375,65624.3671875,58466.99609375,35603.53515625,55547.671875,45251.04296875,46015.3125,41143.62109375,41175.15625,35252.90234375,86318.8203125,58783.2265625,40455.53125,30609.41796875,50017.5859375,54243.3515625,62560.8984375,29440.94140625,90610.109375,56497.75,37924.86328125,44366.296875,40730.875,44606.52734375,50794.46875,70056.5625,51527.921875,59582.74609375,52835.01953125,82178.171875,52850.1796875,109684.9609375,36130.62109375,25530.486328125,41572.42578125,48163.515625,58805.6015625,38489.90625,24786.466796875,82550.96875,87825.6171875,84587.171875,70868.6171875,71517.7890625,74766.6640625,56332.35546875,78857.0390625,55738.92578125,45529.8515625,61847.390625,88326.890625,68307.078125,41228.72265625,56234.14453125,47142.51953125,28992.107421875,46467.5,33598.69921875,68143.5859375,81740.015625,65502.98046875,59454.56640625,103666.0078125,34610.171875,84139.09375,55481.09765625,35659.59375,88732.4765625,77484.15625,98380.9453125,90545.9453125,76825.2109375,51773.26953125,67527.5234375,67009.3359375,60575.4375,86353.4609375,32680.373046875,65599.421875,69468.7734375,51400.0390625,34250.625,75604.421875,38753.5546875,48634.1875,70863.4296875,46843.4765625,26742.810546875,77320.34375,97442.4609375,35357.2109375,84311.5859375,37519.609375,54818.7734375,57792.8046875,29621.619140625,40461.20703125,84102.953125,96014.484375,51964.0078125,21758.3046875,45111.28125,45334.95703125,71406.46875,97236.671875,62670.15625,85692.7421875,88816.109375,97950.125,85773.5859375,34413.67578125,130404.515625,59483.98828125,82630.3515625,74345.859375,108068.6484375,33907.65234375,60032.62890625,84287.140625,55540.9375,37491.30078125,66812.6171875,99626.2421875,52722.83984375,48051.6484375,88757.40625,46875.05078125,94309.0859375,76856.0859375,91502.3125,31090.33984375,68654.453125,35878.1796875,28216.5546875,60961.57421875,70702.71875,72584.1875,84727.0859375,77571.8125,50079.0,91593.6484375,75125.3203125,51271.91015625,44968.05078125,26058.205078125,64871.80859375,44746.80078125,68582.1796875,97064.3828125,39846.04296875,46346.90234375,41472.37109375,50575.5859375,89379.0859375,28111.279296875,92198.015625,50896.79296875,89783.15625,64408.87890625,40559.06640625,73431.5,46642.046875,67089.5,85209.4765625,46565.41796875,49173.63671875,55138.734375,59533.6015625,70008.0546875,35155.4375,28757.052734375,43795.2421875,76747.0234375,73003.375,85728.21875,75556.4375,41629.42578125,42213.8125,99875.453125,55466.3046875,35828.5234375,721.7561645507812,60511.6875,54301.6171875,63132.5078125,55907.15234375,98856.9453125,51991.796875,21127.380859375,29655.880859375,53735.73046875,42045.015625,85846.6640625,107099.2421875,67266.6015625,61070.66796875,35378.81640625,56589.25390625,38983.09765625,39520.078125,80374.984375,91447.71875,84460.265625,51361.71875,38950.421875,80596.046875,32457.419921875,70319.1328125,80392.390625,63454.87109375,59491.5234375,42865.30078125,61987.109375,61189.26953125,80830.9765625,64128.2578125,58828.51171875,40880.296875,49368.56640625,31217.19921875,90213.2734375,61421.4453125,72665.0703125,32865.94140625,70606.2421875,43383.0546875,55575.9609375,27092.814453125,56451.09765625,59206.03125,65364.6015625,41615.8046875,38280.66015625,76764.3515625,35077.88671875,44932.3359375,22057.56640625,47193.375,55363.3203125,64854.1875,96106.4453125,77723.5546875,44441.98046875,41396.9765625,85812.8515625,51867.55859375,46928.796875,56516.4140625,48590.125,48357.33984375,47706.30078125,58866.44921875,56998.55859375,96294.6640625,30743.865234375,116911.734375,68652.6328125,118200.0625,44683.48828125,73760.5,82077.046875,67574.6875,61056.30859375,108338.1015625,60565.99609375,26266.333984375,51134.92578125,41203.65625,95424.0390625,61491.703125,37749.234375,101313.40625,34457.89453125,41720.3125,43429.25390625,55704.5625,61776.69140625,76546.3671875,71080.5859375,39474.06640625,68227.703125,82782.5390625,27256.728515625,94247.5,73633.953125,36544.109375,99075.6171875,75021.2890625,23122.6484375,96999.7109375,91248.734375,38204.66015625,43120.625,72160.046875,49068.48828125,49473.3515625,58024.68359375,26662.71484375,60682.9375,81885.171875,63809.53125,66230.78125,75271.8203125,38515.16015625,56513.05859375,104716.1875,90383.421875,25166.564453125,45718.53515625,77112.9296875,143489.515625,58397.953125,42565.37890625,78786.2734375,92293.4453125,51106.2890625,56976.87890625,64887.109375,41986.41796875,42937.4921875,48832.2265625,39948.125,46759.23046875,46637.36328125,86405.8125,37339.8125,31832.197265625,89807.8828125,65387.4296875,55836.4296875,83636.0546875,80558.375,39158.8125,31116.955078125,72084.640625,71546.796875,28577.876953125,57351.87890625,82133.9453125,71112.75,49199.33203125,53678.734375,45494.89453125,45947.62109375,97387.78125,47099.75390625,78802.453125,71781.7734375,60377.22265625,76633.984375,54878.05859375,86140.5,44189.34765625,67505.125,39393.19921875,32845.19921875,79377.921875,43466.3515625,46893.17578125,69966.4765625,52531.5078125,37441.2890625,85813.0078125,73432.3984375,30349.740234375,66697.96875,60332.9609375,75501.140625,55948.6171875,46235.15234375,51223.81640625,67776.4453125,62567.38671875,18919.798828125,70020.1953125,82816.7734375,39395.53515625,94748.65625,85839.296875,78979.234375,94454.5,40875.02734375,81624.515625,70354.203125,31341.03515625,63187.05078125,61227.9921875,21407.431640625,110996.0234375,34401.94140625,89201.1328125,25872.26953125,56326.453125,18308.57421875,55602.50390625,84741.140625,48902.41015625,45770.55859375,38386.8671875,31768.744140625,60571.63671875,33682.96484375,87819.8046875,59551.64453125,79548.4609375,44282.93359375,94873.28125,98645.4765625,68722.765625,94684.703125,84106.3828125,46228.06640625,81103.4375,29855.61328125,49700.64453125,53045.36328125,82135.78125,71569.640625,76779.046875,70197.2109375,88724.7578125,33566.7109375,94930.078125,50297.265625,108810.84375,80616.3046875,45388.89453125,83911.296875,30105.853515625,113003.484375,35285.49609375,38731.8359375,52570.609375,90132.28125,70747.9453125,79028.2890625,84986.4296875,35183.54296875,107179.8125,38529.1171875,57848.91796875,72606.3671875,117569.140625,100154.5546875,66382.265625,47102.10546875,95992.8125,49804.578125,27548.544921875,29022.21484375,83779.484375,58909.15234375,109525.8515625,50586.39453125,57588.91796875,36912.6640625,75789.5859375,29709.2734375,57105.88671875,64345.2734375,57174.07421875,53339.41796875,40225.25390625,36956.7421875,44708.78515625,37659.8671875,43581.51953125,33214.921875,62032.51953125,49865.80859375,43660.08203125,61537.66796875,72779.21875,43115.3828125,95632.1953125,108736.484375,60740.29296875,45046.66015625,87464.546875,66691.09375,72049.359375,60479.9296875,45882.4921875,78337.7734375,95654.6015625,33421.6953125,38089.78515625,90609.109375,23598.328125,96646.5,36699.26171875,86966.0390625,48600.6953125,32662.5546875,32723.30078125,72290.953125,68766.1328125,63692.59765625,98329.65625,64399.29296875,41241.7890625,89916.875,41688.765625,49323.921875,64107.41015625,90421.859375,61585.22265625,44370.37890625,65320.328125,48792.9765625,84861.3359375,58059.515625,61307.6484375,33610.78515625,26633.794921875,62373.5,65800.546875,106571.5,63681.859375,48576.03515625,88308.15625,82786.71875,59548.9296875,50491.19921875,49770.01953125,72514.1171875,33936.390625,51746.08984375,56058.06640625,39447.9140625,35142.4765625,51319.40234375,65230.25,72223.6796875,82699.2578125,89895.5859375,30428.517578125,45910.1640625,76806.5390625,29611.666015625,59384.3671875,71578.3203125,81165.90625,68693.4921875,73103.09375,33538.55078125,113204.8359375,58693.69921875,109500.0625,83249.0625,104694.640625,127855.6015625,30279.201171875,31585.40234375,45017.6875,18169.69921875,48116.1171875,46851.73046875,101816.2734375,112482.546875,45869.796875,85735.71875,54694.94140625,62218.55859375,78900.4375,54946.56640625,89111.015625,28533.98046875,26643.353515625,51985.53515625,56826.73046875,45107.68359375,53677.37890625,46384.9140625,81069.0078125,103323.625,112939.078125,38332.546875,98170.2890625,64232.2265625,99946.2734375,50137.7578125,44988.48828125,68055.1171875,52784.1875,58255.95703125,66412.4453125,71203.9453125,69950.375,51764.0625,51612.9375,78527.3046875,71594.0390625,54233.6875,111644.7578125,35005.08203125,39241.21484375,56029.3359375,54331.06640625,61346.796875,53289.1484375,91007.140625,34086.453125,63265.98046875,73122.7265625,55518.72265625,69948.6015625,59281.0546875,49657.7890625,41358.26953125,55411.79296875,57722.515625,26405.98046875,36433.0078125,115003.265625,46105.19921875,62890.25390625,56122.4765625,34059.79296875,30284.033203125,55320.4375,77929.3046875,59055.765625,59524.23046875,48184.2421875,23132.376953125,48757.1015625,102646.25,54710.46875,45322.05078125,49827.18359375,64543.49609375,36868.796875,97461.796875,85886.75,46649.390625,38484.63671875,81750.640625,99614.578125,76555.8046875,52679.1171875,93554.6640625,91889.796875,89311.0390625,53697.90625,90189.21875,78411.9140625,82896.8359375,43838.62890625,85412.46875,92193.8203125,98385.46875,26695.296875,76143.5078125,79639.7734375,36355.31640625,63889.2578125,22647.775390625,50040.0,35069.08203125,107051.2265625,66309.046875,91962.3515625,69010.265625,129826.453125,68385.234375,87387.9296875,36834.03125,53845.87890625,37388.61328125,50475.71484375,50949.7890625,73654.03125,32177.140625,56825.484375,34236.046875,44133.25390625,93907.5703125,69668.28125,77576.8359375,49898.73828125,79219.1875,78319.5078125,80025.4375,95171.828125,62689.15234375,66579.6015625,49912.10546875,58101.89453125,111682.53125,64219.77734375,46484.55859375,75734.7421875,50548.3671875,43710.15234375,74570.7265625,43732.08203125,91040.4296875,76027.7109375,54350.98828125,57450.18359375,39512.90234375,46219.51171875,50440.0234375,46726.40234375,61336.85546875,90430.5390625,88966.0390625,18824.21484375,91274.9453125,41127.140625,59568.4296875,34109.53125,75573.9921875,34096.2421875,77446.484375,57389.92578125,71188.3203125,88869.7578125,55114.19921875,83573.484375,132370.390625,40632.63671875,83058.640625,106826.796875,32796.43359375,59031.72265625,39980.5546875,50524.58984375,47349.44140625,41055.71484375,38046.62890625,103645.875,48276.4375,59189.00390625,71074.46875,49517.99609375,45429.50390625,102173.890625,37802.71875,100366.5546875,145319.515625,91986.0859375,49558.546875,23225.84375,47954.9296875,25840.55078125,59763.953125,47743.1953125,71833.71875,91215.1328125,81307.7734375,55151.6484375,40372.2734375,32697.0859375,52704.3828125,63502.3203125,57397.33984375,83851.3046875,101669.1171875,61857.3046875,83685.359375,49496.3828125,65966.9375,64748.265625,67616.3828125,89254.0078125,57967.15625,90268.1875,65265.99609375,34843.9375,66249.9296875,65439.17578125,24734.517578125,42594.328125,31505.19921875,53943.484375,60408.66796875,91203.828125,58398.34765625,126718.6953125,56237.37890625,57009.359375,58369.73046875,49992.140625,105388.9453125,55855.13671875,59551.80859375,58309.68359375,51161.10546875,90161.0546875,112161.8984375,70316.75,59878.390625,92510.2578125,65431.9921875,75281.7890625,64954.22265625,47940.63671875,49378.4140625,78926.2109375,65719.8515625,80973.8671875,16322.60546875,32707.77734375,77316.46875,41259.06640625,97955.3828125,33462.83203125,41545.49609375,47002.0859375,90075.296875,31567.3046875,68713.3984375,30738.791015625,50173.58984375,84671.8828125,71111.1484375,47213.328125,63324.3671875,81585.828125,59922.8046875,93909.1875,48971.203125,48121.97265625,96458.4609375,117439.546875,31659.91796875,81843.96875,49980.3671875,64677.8125,44452.81640625,59186.6953125,66613.09375,53207.6015625,92281.515625,46355.7578125,62639.12890625,118166.4765625,56528.94921875,30481.2109375,30846.224609375,45556.56640625,59902.04296875,38806.83984375,76608.6328125,70148.875,31091.931640625,87941.3828125,45322.32421875,43993.41796875,34608.98046875,39163.1328125,95144.0703125,70502.03125,98297.296875,70273.296875,45610.95703125,57560.63671875,52729.54296875,43060.79296875,112149.40625,108818.8046875,89038.421875,64740.8671875,48367.17578125,32676.779296875,66606.2109375,64659.8671875,62279.953125,54885.3984375,94667.7265625,48483.8359375,21110.673828125,99558.7265625,98415.2890625,71305.578125,83019.4375,110146.90625,53510.16015625,59219.8828125,39354.70703125,78835.3125,42300.09765625,49643.15234375,93094.2734375,48425.86328125,77853.3203125,77412.1328125,68775.015625,47523.0078125,86302.4140625,88758.6796875,88465.65625,46644.2421875,59656.74609375,88474.078125,38539.859375,107869.9140625,48882.4609375,48033.453125,55477.26953125,46960.578125,35353.15625,88859.921875,82720.109375,50746.8984375,45426.9921875,40032.2421875,54604.52734375,46252.3515625,85805.1875,70875.859375,57272.640625,84737.2890625,46175.48046875,56962.91796875,75282.1015625,26706.04296875,80298.0703125,45465.97265625,70229.765625,60794.59375,48712.3984375,42379.375,42532.08984375,48956.49609375,48241.18359375,102829.75,48665.0234375,42216.51171875,75603.625,51596.37890625,63076.33984375,37111.5625,52542.78125,25638.306640625,103612.75,43277.25390625,33869.75,56386.50390625,46464.046875,55891.234375,95684.2265625,34770.2734375,91733.8828125,51922.1640625,62627.71875,82419.5859375,31235.421875,40199.53515625,88742.6328125,65729.1484375,67984.0390625,25046.294921875,85671.046875,57686.61328125,46583.9453125,43014.2265625,64988.77734375,67479.5078125,82926.578125,81681.1953125,107974.5078125,48444.79296875,57676.03515625,40509.58984375,54442.53515625,55512.07421875,47796.99609375,26821.861328125,54384.51171875,46435.62890625,41599.9453125,68444.7578125,87115.8671875,95600.734375,87281.5859375,64862.296875,105059.984375,58155.4765625,48609.02734375,43739.7421875,72306.203125,92591.9140625,39809.6328125,46846.4296875,67138.5625,101683.3203125,40567.63671875,39915.01171875,56785.15625,59218.234375,61672.125,82727.6640625,84870.453125,47084.703125,35122.04296875,42826.32421875,52119.03125,30964.2109375,41643.82421875,60594.84375,65072.3046875,39176.72265625,70168.6015625,69136.421875,63086.390625,58769.5234375,109369.1484375,50573.328125,78086.296875,56051.9140625,41816.75,44625.3984375,51695.22265625,79430.6875,67995.5234375,59186.1484375,71776.84375,115300.28125,73878.75,78651.265625,53659.31640625,108100.4140625,54335.35546875,60183.77734375,62397.4921875,46453.13671875,90016.9921875,55733.4375,32336.04296875,43428.15625,39540.5546875,108569.1796875,80034.21875,54481.21484375,69014.921875,35801.7578125,84681.109375,75092.8046875,51917.59765625,55456.7265625,35494.34375,51748.55078125,70882.25,60930.44140625,31595.046875,31521.455078125,87733.53125,69591.953125,59181.078125,48577.12109375,83163.9921875,58190.46875,40445.41015625,72517.2734375,42962.234375,63783.890625,70189.4296875,76316.546875,40196.43359375,71107.0625,76203.9296875,49674.0546875,66961.5625,124500.6953125,64436.10546875,73938.7265625,39338.203125,100247.390625,25404.962890625,59637.30078125,94432.671875,74195.09375,84345.078125,58456.11328125,42945.34375,49843.80078125,56591.9765625,70122.4375,51636.76171875,64658.375,42454.171875,34065.82421875,36156.57421875,79532.828125,39461.40234375,33818.859375,49295.6640625,80101.484375,83935.796875,81036.4609375,39466.8359375,69334.734375,69708.5078125,29217.072265625,36852.0,68410.1875,37084.99609375,68277.3046875,101381.921875,39198.4296875,41834.92578125,25337.9765625,36146.59765625,77826.390625,61835.08203125,49533.6640625,28118.6484375,55648.81640625,46748.98828125,42178.875,39420.5859375,43531.6484375,67485.796875,39434.45703125,72164.140625,105730.3046875,86241.3359375,61638.9453125,65681.5,64618.265625,72169.4375,36148.796875,62811.39453125,83359.328125,36407.23046875,51919.19921875,94054.5078125,98305.140625,100365.5703125,79399.3828125,38004.29296875,103015.40625,75199.28125,49684.94921875,90551.4609375,83686.8203125,75961.390625,70287.78125,95164.515625,42652.47265625,68701.984375,52150.5859375,57335.4296875,73277.25,88134.0390625,47857.1328125,49528.05859375,80361.140625,75276.0078125,53511.46875,48713.421875,54258.7265625,111213.046875,80450.265625,52393.34375,90133.21875,53810.0078125,32080.34375,69568.7421875,49029.6015625,71626.9609375,54300.984375,63724.05078125,77135.3828125,45575.17578125,40157.2890625,58603.44140625,40753.48828125,70524.6796875,76763.7734375,42866.734375,37278.31640625,67437.5390625,41816.3203125,65158.6875,73196.7421875,82771.5078125,38321.91015625,59901.32421875,61547.96484375,45535.4140625,48553.66015625,58036.02734375,81490.328125,67516.3515625,49251.390625,89623.3359375,41868.58203125,59648.62109375,97400.8515625,92827.5703125,44164.95703125,93201.8046875,73158.03125,30285.11328125,76820.6953125,67835.84375,54285.2109375,41724.59765625,40872.69921875,71833.8203125,89922.3125,52426.3671875,36045.85546875,91484.9453125,46539.83984375,82863.125,53767.92578125,52625.328125,38739.05859375,39877.46875,62247.97265625,95805.359375,103726.9375,37233.19140625,87466.234375,60975.94140625,72740.4296875,78376.8828125,64448.71875,42520.16796875,62913.1484375,99015.2734375,33627.8828125,35346.46484375,83259.2421875,88478.84375,35676.06640625,32034.541015625,62487.359375,64824.7578125,86769.203125,48110.89453125,31975.19921875,77482.46875,51377.48046875,79480.3828125,87234.2578125,65446.52734375,107254.875,97003.1796875,56145.29296875,43319.8984375,40964.21484375,72731.9921875,66148.328125,61262.94140625,71329.5234375,75177.25,45265.95703125,64331.73046875,55975.015625,101974.5859375,70855.25,64517.37109375,59525.8828125,46839.1875,67673.90625,58930.6328125,83343.609375,26942.720703125,70657.53125,28881.529296875,62414.078125,93426.53125,101407.109375,19003.25390625,69109.7421875,78055.28125,70159.421875,45675.53515625,78869.2890625,65373.609375,89802.46875,30712.126953125,58937.65234375,45483.4609375,86231.5703125,37559.765625,51898.88671875,62460.26171875,42719.62109375,117344.5625,41398.703125,52296.5,65024.0546875,64845.79296875,61479.109375,33748.58984375,86004.765625,80647.0546875,30251.140625,92283.609375,78660.0078125,77178.6640625,42409.3671875,66100.7734375,47799.16015625,54882.484375,34552.8671875,45513.28125,83176.8203125,46468.40625,103271.2421875,43661.62109375,53654.98828125,65311.2109375,63719.03515625,57772.546875,53854.49609375,65393.1484375,38373.140625,107020.4140625,92044.2734375,43135.66796875,98899.09375,73905.7265625,58350.125,35370.01171875,57082.19140625,29766.5625,47370.28125,98682.546875,64579.03125,103601.0234375,96347.421875,95005.234375,58051.6015625,89235.109375,101176.8046875,75164.5390625,29982.728515625,110019.5390625,113800.1875,55726.875,27865.33984375,40767.19140625,109037.8515625,89847.8515625,81347.328125,91633.9296875,32254.556640625,55626.94140625,77770.453125,50026.8203125,69837.71875,72462.609375,69768.8203125,23439.0703125,76199.65625,59269.9609375,61900.82421875,60795.69921875,41340.3671875,105251.9765625,73965.3203125,48043.9296875,77683.7578125,75806.40625,24463.802734375,92399.1875,33599.734375,77950.9609375,48659.421875,27835.63671875,69405.859375,99401.609375,19886.724609375,51851.2421875,58426.33203125,50879.6640625,34158.40234375,34081.51171875,19472.48046875,96299.390625,74556.421875,17476.57421875,41765.03515625,57516.85546875,38538.9296875,51686.89453125,35466.6015625,33937.6640625,96394.5625,72666.546875,72320.3125,41068.11328125,36513.87890625,52507.453125,67758.4375,40768.7734375,53241.26953125,71935.7578125,59487.93359375,68185.4921875,86276.171875,26866.15625,32288.67578125,72803.953125,50522.79296875,42285.68359375,103138.265625,51442.23046875,111790.4609375,55311.5546875,30678.51953125,22399.86328125,55506.3203125,52413.03125,33197.3828125,62710.0546875,56760.8671875,49139.9609375,40352.01171875,30168.126953125,82024.40625,24413.75,48406.7265625,38078.15234375,73867.875,92882.5859375,43930.015625,46223.15625,84112.125,37238.3046875,46291.07421875,55966.30078125,64179.25390625,83379.5625,42848.4375,121941.9296875,35825.26953125,51429.5390625,58000.46484375,46991.359375,75088.8359375,90410.578125,57548.37890625,69111.2265625,75385.5703125,32236.939453125,36908.55078125,82856.3203125,92164.78125,27815.80078125,94071.6484375,50295.3828125,50611.98046875,33682.734375,108545.578125,54576.87890625,64702.30859375,41428.3125,44789.6796875,122990.4296875,45255.765625,85197.078125,88567.65625,75288.7265625,67043.1875,66229.6953125,95557.234375,77474.1484375,53235.5078125,75322.453125,48793.58984375,61751.53515625,49349.75,56201.13671875,67784.625,18742.306640625,45450.71875,82495.2578125,49488.04296875,68933.21875,65572.609375,81411.6171875,67236.2890625,49034.4453125,46684.953125,56943.69921875,86622.046875,107416.7421875,74080.3671875,88197.3203125,74630.921875,47218.7890625,64337.625,87436.4765625,45433.3828125,98656.4375,85371.6953125,62290.71484375,128712.015625,107910.0390625,68384.2265625,75877.5859375,91252.5625,53808.2421875,115412.7265625,60236.73046875,45381.8203125,67942.2265625,58627.578125,42902.58984375,74099.9140625,79952.296875,47862.0390625,85422.4375,88018.2578125,67342.9296875,42809.79296875,96070.5078125,43559.9609375,79654.5859375,55329.2734375,64447.8515625,98042.6015625,83500.2890625,63943.8125,51673.19140625,58855.1796875,48885.2734375,66707.984375,114580.46875,43436.0703125,56021.5546875,57876.09765625,93035.7734375,111440.0234375,79432.4375,36100.94921875,59687.0,86038.5546875,92779.109375,31085.5078125,76701.25,41568.8515625,28021.890625,29714.509765625,56857.6328125,95043.796875,50666.078125,30866.30859375,92383.734375,108282.9765625,37921.7421875,90759.8203125,49554.57421875,55143.87890625,51332.45703125,43236.65625,68640.7734375,54839.3515625,83541.828125,75038.328125,44861.828125,33756.8984375,55175.21484375,75478.484375,69794.6640625,81015.34375,40426.73828125,44916.94140625,40949.26953125,60374.578125,37441.23046875,45861.28125,28896.005859375,54022.40234375,55554.7578125,46079.83203125,90175.0,32191.05859375,64885.078125,21521.837890625,50118.375,117098.7421875,32648.283203125,98015.3515625,46109.328125,52176.2421875,80290.2265625,79957.859375,90932.203125,117041.7109375,115940.734375,37844.51953125,49865.80859375,101385.4453125,50809.55859375,37158.34375,64741.1640625,76622.96875,50430.52734375,42366.55859375,52988.87109375,63489.0859375,25892.833984375,60707.12890625,85837.3359375,84478.140625,80125.9765625,50403.05859375,35992.87890625,66564.1953125,38460.2109375,55024.46875,29587.74609375,30757.126953125,95623.7578125,64422.1640625,87641.0390625,55574.3125,84590.6640625,35957.83984375,67394.2734375,89642.96875,41766.61328125,78298.7578125,60984.0390625,26355.0859375,36766.015625,32966.47265625,62506.4296875,31915.96484375,35096.875,50677.35546875,25460.18359375,47612.9453125,93311.90625,50812.9453125,68786.59375,36904.11328125,43764.2734375,36364.01171875,43303.65625,81087.6015625,10320.609375,24191.767578125,20656.94921875,39642.8125,29573.447265625,46828.4375,43146.640625,50548.0078125,89462.4140625,79155.5703125,62441.265625,80641.546875,66288.6015625,29410.78125,87554.625,93312.3515625,51739.94921875,80152.6796875,34781.2578125,35656.0078125,90686.0859375,80912.6875,79966.3046875,82238.1484375,39708.40234375,61719.05078125,51932.58984375,75257.03125,84635.5625,85955.1953125,81614.3671875,44079.47265625,80156.5,59279.32421875,82104.375,36756.5234375,107894.2734375,82844.6875,38385.76953125,106486.25,74747.125,53059.328125,90507.078125,57887.5,30900.03515625,64089.30078125,81426.453125,47504.8671875,77799.609375,50488.66015625,46503.51171875,25754.59375,44120.78125,47254.81640625,93628.4921875,70213.875,94762.7578125,34139.04296875,49526.81640625,55377.11328125,101612.5703125,52624.11328125,69609.5625,35876.37890625,38033.7734375,36876.7265625,102445.8046875,59887.328125,79208.453125,99279.6640625,82620.65625,69544.703125,37941.78125,63170.82421875,33518.4453125,55303.65234375,59612.29296875,57428.20703125,82454.3359375,95498.265625,75384.3984375,42762.51953125,81321.203125,85411.5546875,82256.1328125,57604.2578125,80931.640625,44671.47265625,51819.7421875,94722.8203125,38754.5546875,39759.9453125,63343.1953125,16137.939453125,50053.19921875,33188.765625,54568.6484375,51251.83984375,86576.3203125,70734.484375,88328.109375,67146.390625,37140.79296875,51564.609375,46359.9296875,77633.6796875,53781.52734375,50194.203125,82574.2109375,29266.390625,44208.328125,55610.91796875,71022.6953125,137694.921875,43504.984375,61118.69140625,32595.517578125,63545.94921875,113912.59375,38086.6953125,92023.0859375,29536.611328125,72391.34375,63307.88671875,84073.9921875,87032.234375,81905.640625,80779.421875,64867.33984375,56859.328125,44367.41015625,100778.3828125,55313.70703125,42328.734375,31727.767578125,57547.00390625,90069.484375,68566.671875,68047.75,108977.8515625,58435.51953125,37711.4765625,67706.84375,90093.2265625,103882.6328125,90664.828125,22351.55078125,71432.09375,58336.94921875,20970.08984375,28566.34765625,36657.19921875,74359.0390625,87334.234375,111516.3359375,69989.34375,51561.2890625,64604.73046875,34932.07421875,61586.01171875,42778.22265625,50244.51953125,60054.375,60217.17578125,59359.83203125,47244.7890625,103747.8203125,35326.06640625,75915.40625,79343.4921875,40246.6875,96108.1640625,36621.48828125,51940.03515625,49856.78515625,44282.30078125,66354.578125,69590.7421875,50875.83984375,47324.421875,20535.8515625,37908.7578125,60047.84375,45589.80859375,48936.69921875,35333.1484375,62594.18359375,47411.67578125,59506.5390625,45579.3671875,97571.5,118023.9296875,43481.83203125,82441.0546875,84542.609375,31532.2109375,89730.6796875,65876.8359375,39887.5390625,70477.3515625,44820.55078125,58598.84765625,55060.03125,73220.9140625,69889.859375,58060.98046875,74873.0859375,133046.921875,103937.2890625,77554.171875,51117.20703125,72905.828125,62027.37890625,55393.2734375,36097.5234375,59629.46484375,70504.0078125,38609.609375,78626.03125,27510.17578125,64349.4375,77186.0078125,45095.61328125,59798.00390625,81453.6875,85762.9453125,80781.65625,24250.412109375,40578.44140625,74404.9609375,65705.7265625,53160.7421875,68351.078125,72002.8828125,35974.67578125,61934.16015625,49437.17578125,72563.5078125,96036.921875,50428.71484375,78621.25,56704.6015625,43498.49609375,29986.599609375,38319.82421875,45374.74609375,56397.3359375,44320.76171875,82738.1875,38945.1640625,58512.23828125,51815.6640625,46401.7578125,20518.498046875,44512.80859375,76170.4765625,48860.07421875,49737.984375,80958.28125,59121.6484375,73088.65625,76206.6484375,84951.3984375,111391.84375,58850.234375,66283.25,53388.60546875,90543.1015625,85319.5703125,56708.9375,90466.703125,63853.4609375,110935.5546875,60356.203125,49361.3828125,143939.640625,36735.375,74458.8046875,68631.6953125,34349.82421875,83945.0,62452.90234375,24963.13671875,50904.984375,61571.38671875,82635.734375,65364.59765625,84085.6875,90012.0390625,70431.2265625,49592.45703125,113478.0,90346.0390625,73949.609375,49899.37890625,91313.9375,38398.94921875,95909.2265625,54544.07421875,87468.8359375,61337.68359375,46513.92578125,49574.95703125,52142.125,37433.31640625,44536.08203125,39458.25390625,108205.6015625,110512.1484375,61075.9453125,85744.1796875,33757.40234375,61753.95703125,97550.5,36416.77734375,47027.7734375,46703.8515625,47640.91796875,62882.29296875,55255.25390625,40981.12109375,67582.078125,90665.5234375,55353.53125,103771.015625,71826.8046875,67852.8984375,35978.7890625,84196.546875,45923.82421875,82713.5859375,87840.5546875,46356.83984375,45216.8984375,35808.359375,35233.75,26301.943359375,89475.6875,62553.00390625,59135.4921875,31086.556640625,80259.59375,33267.40625,84889.890625,32222.7265625,35463.8671875,45472.83984375,113697.703125,49049.7890625,39654.484375,449.6445007324219,23838.37109375,113185.5234375,41718.9375,91990.90625,31819.583984375,45184.09765625,59705.5390625,57284.0625,94366.96875,85184.9453125,98752.6953125,25480.8046875,66606.734375,60004.578125,67035.6640625,75056.453125,99497.8671875,51300.01953125,35752.93359375,29951.701171875,55719.71875,100335.34375,41498.1484375,1755.3948974609375,61516.37890625,85429.421875,55530.03125,41114.9921875,68243.3125,122991.9375,57178.6875,45266.71875,36746.55859375,67953.625,51460.43359375,101665.796875,104688.015625,39822.0078125,55080.4375,64998.89453125,39802.71484375,30412.3671875,79563.34375,112116.25,39200.32421875,22010.2890625,45161.59765625,25560.56640625,31756.03515625,118309.2421875,69961.4765625,50558.67578125,97880.9296875,60749.8515625,38667.71484375,25494.884765625,57247.27734375,89354.375,64631.86328125,83384.359375,51614.15234375,55084.56640625,60659.9375,45095.2265625,61989.1640625,41776.65625,34888.79296875,62867.58984375,46133.75,46061.06640625,83041.5703125,33871.52734375,43630.359375,51584.1328125,125096.453125,79665.359375,114703.703125,86363.8984375,85983.8515625,44854.36328125,91998.8046875,73241.8671875,81448.359375,75435.5390625,132114.765625,36222.78125,67788.03125,50872.66015625,56311.296875,62278.4765625,88353.5546875,24711.15625,74633.53125,55694.046875,75774.9296875,60604.44921875,46733.671875,58160.45703125,46472.02734375,56706.30078125,46912.0078125,72348.8984375,61759.8828125,83613.984375,68363.75,32460.65234375,65682.3671875,43262.89453125,69924.0546875,68232.703125,-45.11042785644531,37161.421875,77074.5,47057.33984375,32008.41796875,53202.14453125,87998.9609375,43573.37890625,37400.01953125,49265.1796875,55652.36328125,48940.76953125,66532.625,51470.4765625,69982.90625,57314.90234375,90210.9765625,48287.63671875,46157.35546875,56528.56640625,94999.25,116218.4296875,102688.046875,50327.44140625,100640.8515625,37348.97265625,45433.80859375,59439.26171875,59030.3828125,45032.4375,50266.16796875,57544.39453125,93292.1640625,54720.98046875,91744.3984375,45088.55078125,54855.765625,59506.8203125,107089.2578125,39132.76171875,37865.54296875,37771.5078125,86067.9375,74570.3203125,39160.78125,65646.296875,82136.4765625,69732.53125,35350.234375,24561.302734375,71883.4140625,49983.4765625,51789.234375,54279.59765625,31449.076171875,84259.390625,51084.078125,50338.4140625,76413.2734375,71261.5703125,50764.234375,111746.578125,41606.4296875,55548.55859375,15853.7353515625,64078.671875,88398.625,85628.6484375,59972.234375,76680.0703125,38512.85546875,38506.6875,41908.9140625,48158.421875,76048.8984375,105911.8984375,35081.5,52133.05859375,43214.62890625,84262.0703125,48146.984375,111836.0,26366.654296875,19630.6796875,36730.4375,47044.10546875,55748.69140625,104055.8828125,64358.56640625,83694.9453125,48617.07421875,49597.71875,45927.3203125,121023.96875,66895.28125,42381.3359375,93813.3984375,48085.34375,56936.5546875,37429.54296875,74240.890625,77943.890625,79576.578125,48689.5234375,90244.96875,50145.53515625,57336.31640625,42266.875,74871.2578125,27937.625,73257.3125,65127.67578125,86008.375,74761.09375,62099.9609375,56863.859375,83340.59375,57394.1953125,114633.8359375,50853.64453125,104697.2109375,34216.6328125,93198.625,43961.84765625,39727.39453125,69828.21875,73671.28125,24701.16015625,83579.796875,48365.24609375,56720.68359375,66869.65625,76880.9296875,70007.4140625,49976.74609375,44171.3046875,59110.1484375,98073.6875,77273.46875,56786.69140625,55765.00390625,30963.87890625,45823.08203125,96728.0078125,37080.9140625,38742.3203125,31448.6171875,83890.8828125,85508.8984375,71314.9453125,44626.328125,58508.0390625,27971.232421875,23935.0859375,57440.8203125,33027.48828125,65519.296875,69314.3515625,35537.10546875,40477.5703125,47289.171875,82421.421875,76547.375,77500.9453125,60833.40625,48313.140625,72313.7109375,52075.2421875,64393.3828125,37529.7421875,43757.46484375,46638.75390625,36025.56640625,36366.87890625,52157.62890625,54166.03125,89827.8203125,55189.703125,32767.701171875,63152.234375,83239.1328125,95999.0234375,4236.0283203125,82515.6875,40963.203125,92512.609375,49243.2421875,78963.09375,137395.046875,57805.2109375,58003.07421875,78294.390625,85792.0546875,38840.921875,78864.5234375,67657.546875,49175.74609375,37401.625,76361.5546875,37057.3046875,96142.5078125,89940.890625,117167.1015625,47077.8203125,63021.59765625,53537.96875,25951.3046875,48232.3515625,48934.3671875,56370.81640625,81748.5546875,68811.609375,89193.4609375,56865.70703125,67140.6640625,44980.1875,60062.3515625,27588.806640625,45878.16796875,56953.3203125,55785.66796875,68986.7734375,47409.3828125,71153.1953125,69884.890625,49503.046875,89952.4375,115626.46875,51439.30078125,48671.4765625,66362.6953125,41678.5390625,53518.46875,52900.87890625,41124.5390625,91809.6796875,32217.52734375,64753.09375,74705.234375,52796.00390625,80591.890625,55996.45703125,22699.466796875,89114.421875,81754.109375,30266.265625,91730.2578125,43920.8203125,104758.2734375,83884.4765625,103798.890625,38705.09765625,44531.9609375,44266.93359375,53601.9453125,37643.69921875,65608.0234375,92994.3984375,46966.01171875,65215.15234375,67191.625,15112.8466796875,41794.74609375,31372.486328125,38381.09375,34393.00390625,79660.1953125,51555.90234375,113293.3359375,79787.96875,53751.828125,80179.546875,57923.1171875,113380.03125,71720.59375,37896.046875,48498.39453125,77963.8671875,36240.5234375,86545.0078125,46618.08984375,62672.04296875,63005.98046875,49064.61328125,42108.11328125,73632.140625,89115.7265625,52967.83984375,38458.74609375,49727.125,46419.25390625,99626.9765625,59741.3046875,46950.9296875,40717.1171875,57091.515625,92316.46875,56079.59765625,75245.890625,40608.91015625,49550.703125,37461.28515625,106360.703125,99789.796875,100223.0625,94891.6875,40308.1328125,56968.30078125,90879.6484375,87827.171875,33059.68359375,101508.3125,21681.62109375,88591.71875,53772.67578125,76498.2421875,50157.33984375,68001.15625,75572.46875,74701.5859375,60693.57421875,51840.98828125,94076.0,76411.703125,79507.2890625,32931.0703125,79731.8515625,50058.36328125,47485.4296875,39533.59765625,59957.78125,108635.3515625,54232.6875,42629.65625,48103.109375,92404.2421875,72866.0703125,56328.66796875,79310.8203125,41534.38671875,41021.36328125,55114.03515625,65838.8515625,80125.1796875,50819.21484375,65389.11328125,86976.3984375,56061.77734375,50516.17578125,72773.2734375,51010.94921875,47006.671875,55613.9140625,33760.3046875,36624.5859375,92521.875,34504.9453125,77378.0,28389.919921875,35959.03125,59743.08203125,40953.96875,90057.1171875,31827.0625,74188.2421875,91940.65625,50544.7421875,50046.6796875,45625.2421875,64385.4453125,68658.0390625,85282.3671875,37769.33203125,77628.1640625,67190.03125,78785.03125,63150.31640625,35979.66015625,64751.9296875,53819.3203125,52182.73828125,41899.375,49102.5,46185.69140625,71453.3203125,61038.40234375,24610.58984375,37435.28125,44599.3203125,70594.6328125,45868.1796875,48484.6171875,71345.9453125,40306.4921875,55955.31640625,45380.66796875,55900.734375,75011.6875,42930.40625,27339.16796875,78180.828125,25652.994140625,28127.216796875,51156.078125,48588.25,35629.37890625,77765.3046875,42594.1875,55108.91796875,50407.265625,75034.453125,55224.84375,82238.953125,54341.015625,93871.265625,105641.265625,86514.7421875,56264.44140625,79838.625,45182.40625,30474.76171875,51878.8828125,41913.22265625,51239.4375,41023.24609375,134504.234375,59363.578125,51841.671875,85187.3046875,78790.8359375,37218.47265625,71319.6875,96893.5703125,73565.3203125,88495.0390625,34482.33984375,60622.26171875,52565.9453125,65648.0703125,104793.8359375,44578.2890625,71563.765625,42053.77734375,41378.42578125,44532.1171875,39780.9140625,46614.37890625,55831.28515625,57537.93359375,51761.55859375,77655.953125,42407.56640625,37281.8984375,67693.6484375,87490.9296875,76365.125,41309.8984375,31729.208984375,65922.8984375,73335.7265625,19622.326171875,81348.015625,58023.85546875,78273.875,45778.2421875,41713.36328125,48395.1875,63831.6171875,90019.1875,50592.64453125,59140.26171875,95319.5703125,70561.015625,61239.80859375,82076.296875,56042.16015625,85730.90625,41387.99609375,38305.80859375,61137.640625,79643.4921875,83481.140625,50626.92578125,52543.984375,115531.84375,33107.2421875,96303.796875,87302.515625,45880.72265625,64091.109375,39507.62109375,75845.4453125,61442.26953125,74102.34375,92037.015625,87415.359375,95221.6484375,61150.51171875,52354.671875,65472.80859375,74251.2265625,59382.0390625,30840.111328125,46965.19921875,59501.609375,51749.6171875,76281.4140625,91845.4609375,86595.421875,56689.14453125,131377.09375,29678.625,92242.3515625,50653.2890625,71021.3203125,55128.7734375,47511.9765625,61967.25390625,56755.6953125,69567.671875,123471.84375,28156.0625,55742.69921875,39366.6015625,38244.12109375,57694.484375,67720.2265625,79545.296875,51537.68359375,92031.78125,29178.2421875,47365.01171875,56768.23046875,29543.671875,59088.21484375,46520.97265625,38260.49609375,58379.3828125,42833.0546875,104877.9765625,88040.390625,61553.91796875,35728.546875,60857.91796875,48846.7109375,64486.51171875,44617.7890625,42195.2734375,89508.7265625,93814.0390625,52339.640625,50326.15625,70714.2578125,82629.1171875,52031.87890625,50492.6484375,41327.78515625,67159.1640625,42803.25,40944.90234375,62256.578125,87692.6796875,50655.44921875,72984.109375,49296.62890625,64672.96875,53128.0625,103168.75,44436.171875,35153.9140625,66858.4609375,45921.65234375,49096.80859375,69577.4296875,61919.26171875,94533.890625,112536.671875,56118.0703125,59395.765625,82393.2578125,54082.55078125,25541.2890625,73563.2734375,82104.984375,29363.2734375,45236.76953125,42529.69921875,96310.84375,69467.4921875,75314.1015625,84533.8359375,34956.08984375,32211.08984375,76818.71875,83785.453125,55502.57421875,50104.59375,54845.56640625,100844.8046875,87282.59375,38820.3828125,27878.34375,35940.69921875,76445.625,49786.5,75631.625,33485.703125,94744.125,77163.8828125,21739.857421875,45776.94921875,86808.125,34307.01953125,89431.3125,86065.5703125,39884.875,42050.55859375,50890.40625,88944.65625,62286.02734375,88621.609375,32015.802734375,43334.48828125,45144.859375,72418.109375,42640.859375,100970.0078125,43335.32421875,55373.33203125,61166.18359375,75013.203125,47790.83984375,92077.28125,41752.4453125,87282.7421875,37573.34375,54634.98046875,70791.8984375,37968.796875,41692.015625,83999.6484375,35376.33984375,48302.1953125,105285.671875,41891.75390625,71409.9453125,105378.8671875,88068.734375,85082.3359375,73319.8203125,65001.17578125,27883.24609375,90216.6328125,73407.4609375,85226.796875,48602.4375,57510.921875,45657.453125,63041.47265625,44685.59765625,70470.015625,68630.640625,90896.109375,50924.24609375,66615.109375,39769.52734375,69846.71875,57799.95703125,38580.12890625,25648.607421875,50469.359375,50433.0078125,48494.60546875,28345.720703125,45499.08203125,52293.8046875,72283.84375,28742.443359375,27440.037109375,33109.078125,86209.4921875,66036.5,67566.96875,98084.1953125,82628.40625,51217.3125,90622.75,31382.6875,42782.44921875,39982.57421875,52768.31640625,46315.11328125,71147.7109375,90500.5234375,71047.0234375,26633.66015625,64453.015625,45933.1875,50551.34765625,80492.3125,88809.7109375,52837.3125,111314.7265625,65953.3359375,30884.859375,59261.203125,94043.8984375,27213.67578125,33706.79296875,129089.1640625,53058.953125,89112.109375,72792.5625,64219.08203125,55073.0,63865.25390625,53550.97265625,72660.859375,116235.15625,101075.75,90105.6640625,107807.9140625,33396.03515625,66216.15625,61761.9921875,97248.234375,58497.61328125,42254.24609375,50074.08203125,67858.5234375,39969.57421875,74778.171875,41754.95703125,56673.4921875,52369.13671875,29260.5546875,55658.3125,27341.904296875,83610.375,44521.328125,99286.8984375,48461.65625,29544.533203125,49461.72265625,55717.83203125,88464.2578125,75856.1015625,66299.4453125,44154.0859375,87091.578125,48082.91015625,91218.9296875,59383.25,72634.0859375,83132.5234375,93412.1953125,62638.0390625,77964.3828125,90743.0,60620.53125,53259.0859375,37858.47265625,47924.70703125,91171.1875,57892.2734375,44959.17578125,78222.046875,49025.54296875,41504.8984375,87956.890625,32914.83203125,44324.8671875,49846.0859375,30412.12109375,123926.875,50956.5078125,30490.369140625,84127.015625,48921.5546875,64406.37890625,81711.8125,49661.6875,62247.21484375,48038.03125,36195.86328125,59638.61328125,48294.25390625,63480.390625,43926.47265625,48227.234375,47126.52734375,77545.1484375,74929.0234375,70578.78125,46269.9765625,40366.77734375,35541.2734375,82356.328125,43820.51953125,50908.17578125,53724.453125,33827.88671875,76286.5,43885.28515625,70179.1328125,31086.474609375,53073.5,39946.640625,29501.693359375,42077.01171875,67632.3828125,63105.5078125,60629.2890625,51508.15625,87608.421875,91248.109375,52366.0234375,91717.078125,53507.890625,59612.796875,47783.6796875,83605.140625,30672.09375,43613.96875,62294.2734375,54547.7109375,85615.5546875,29728.30078125,122591.3671875,54130.09375,46508.52734375,40834.0,30867.263671875,48446.13671875,55712.453125,81001.109375,63677.14453125,83313.046875,46175.30859375,61125.85546875,60832.546875,56074.47265625,55287.66796875,55223.4609375,53452.21875,27106.154296875,47920.53515625,53438.19140625,100044.109375,113562.09375,49786.91015625,58925.32421875,68883.5625,27368.09765625,56686.80859375,25425.193359375,42513.49609375,89282.6171875,96876.6015625,37936.77734375,35474.03515625,24125.5,86362.59375,96281.96875,53842.0,77243.9296875,58912.63671875,67395.53125,57046.65625,49718.20703125,57807.953125,86472.25,53626.47265625,42111.37109375,34697.48828125,76023.046875,53244.8125,94122.875,101967.765625,60529.69921875,69071.015625,56754.23828125,97301.0859375,37745.43359375,42904.2265625,57527.2890625,74553.515625,92586.140625,82444.9296875,59082.08203125,46913.96875,21724.7265625,77115.96875,48650.5703125,34440.90625,36006.81640625,98742.09375,80180.15625,100073.2734375,55774.50390625,39397.26171875,45396.30859375,50264.49609375,85795.0078125,85212.609375,99134.984375,96789.328125,46377.2265625,80205.71875,87611.7890625,73433.4375,34159.33203125,54261.94140625,84131.203125,61361.68359375,83355.1328125,36144.62109375,47073.94140625,45520.81640625,51634.1484375,54170.0,89429.703125,38750.03515625,72093.4140625,85990.1796875,87083.3828125,56893.11328125,37187.203125,38506.375,34202.0546875,52948.96484375,44487.35546875,45266.6640625,78524.4375,46690.27734375,59640.03125,83179.7421875,73969.4921875,31276.04296875,71282.25,30382.451171875,87608.8984375,48119.078125,69277.7734375,50733.25,91838.640625,103012.0078125,111311.9609375,36699.0,90173.53125,96888.53125,65026.8515625,34605.98046875,51985.984375,54889.32421875,65492.19921875,46714.625,50237.796875,72063.8671875,32570.068359375,84158.71875,71832.8359375,52725.66796875,60587.4765625,109614.9453125,79781.5078125,50875.8984375,54593.765625,81369.5703125,26939.39453125,59853.76171875,81382.015625,90053.25,57809.96484375,47646.87109375,35052.03515625,46921.6171875,81274.0703125,73355.984375,38986.140625,44670.26171875,62095.48046875,60921.71484375,56838.54296875,54853.00390625,76106.0703125,40286.48046875,79900.6015625,70184.078125,97496.421875,53782.453125,92959.7890625,50856.734375,74327.2734375,47887.09765625,56176.15234375,56812.4453125,70545.734375,120248.5546875,80874.5,117543.0703125,36046.43359375,76837.453125,47960.81640625,50935.43359375,95493.4765625,85733.109375,85746.0859375,88171.78125,74623.3046875,103389.625,51718.953125,48178.28515625,50186.1953125,30868.607421875,102863.40625,62953.0234375,53342.23046875,58677.8671875,58251.99609375,55006.546875,96346.8984375,85229.53125,42126.10546875,24403.77734375,38056.40625,101949.7265625,43991.44140625,64614.109375,46366.86328125,39267.59375,22095.408203125,54627.78515625,67954.734375,58152.35546875,65819.7109375,70362.4375,29391.564453125,80405.3125,95657.71875,59280.546875,88412.0390625,26744.37890625,58933.2265625,47507.91015625,48164.7578125,70767.5078125,83477.5546875,47314.28125,75129.0625,50433.1015625,60985.72265625,51158.9140625,70456.4921875,56790.66015625,80195.2265625,113072.59375,74813.0703125,47919.5546875,68620.5859375,56325.2734375,89467.0546875,57798.24609375,49433.1640625,84368.8984375,30235.59375,79100.3359375,83801.5703125,79935.7109375,24744.580078125,50261.31640625,61710.109375,31180.935546875,33662.015625,29152.083984375,105431.2265625,60074.11328125,127112.8046875,59832.40234375,39126.62890625,47307.328125,120171.53125,58431.3515625,37516.44140625,68171.3359375,143915.546875,70076.8515625,76490.828125,59610.0,44762.15234375,48662.56640625,85624.578125,54180.9296875,106672.0859375,72878.78125,99292.703125,30549.830078125,50661.54296875,61880.484375,88975.359375,55848.56640625,75412.6875,69460.390625,84418.828125,53435.6640625,38550.36328125,89514.53125,93019.78125,67593.6953125,37851.42578125,45557.7109375,52771.60546875,80801.0,40531.8984375,107156.4296875,87601.828125,63020.0234375,55159.74609375,39992.6796875,84984.671875,32635.365234375,50152.2421875,58069.74609375,46971.52734375,71947.609375,64547.15234375,87538.4140625,38293.23828125,36570.2890625,44932.91015625,24820.03125,66003.8984375,91166.0546875,69818.1640625,46108.65234375,69851.8359375,85292.7578125,38635.203125,88464.8984375,58012.87890625,63661.234375,31007.0,40871.41015625,75096.09375,66099.2734375,51131.01953125,120552.7109375,53401.23828125,72693.7734375,53179.8828125,34764.4375,67708.1796875,94245.5703125,102648.03125,43472.82421875,28980.984375,40008.6953125,59876.81640625,46950.0703125,42801.953125,61134.75,88408.390625,64246.87109375,70363.6953125,73105.546875,49932.61328125,69145.4765625,117745.4375,41092.3515625,40628.55078125,57701.52734375,90044.6484375,82885.7734375,36536.77734375,75254.875,62315.875,37535.36328125,53437.2890625,59609.5078125,89796.09375,81684.75,77920.4609375,104857.3984375,93423.59375,53338.11328125,47864.390625,64388.1171875,21865.255859375,32546.119140625,49947.9296875,51377.6328125,59561.08203125,82258.3125,47024.1953125,42161.140625,90477.0546875,87277.046875,56334.50390625,73383.3046875,53793.63671875,35440.44921875,100722.84375,71339.5546875,92211.9375,37818.31640625,46602.3203125,82163.3046875,56219.953125,55577.60546875,44722.38671875,96991.96875,85625.859375,41297.62109375,77661.1328125,42897.46484375,52722.5546875,79261.28125,81065.1953125,81618.4375,88898.359375,38975.04296875,67662.71875,58591.1328125,135279.40625,58858.0234375,71952.1015625,52895.54296875,33522.83984375,34722.98046875,79118.796875,50128.2578125,61092.609375,47100.1640625,71246.78125,44430.140625,45616.703125,42685.12890625,90104.6484375,66208.7265625,31774.994140625,98606.828125,48994.59765625,67794.828125,62948.51953125,76427.421875,39049.6875,24757.173828125,52469.54296875,54929.94921875,34556.8828125,57606.640625,89565.9453125,60686.15625,48796.8828125,47823.171875,53693.359375,42114.01953125,91460.6796875,60652.7890625,48671.265625,72805.4375,132083.703125,63061.23046875,104806.453125,39984.328125,34166.53125,96806.7265625,61300.8046875,58052.35546875,39537.75,46806.984375,111694.0703125,57615.20703125,78421.8984375,53741.62109375,52133.74609375,96811.453125,42160.28515625,74301.0078125,45629.3515625,86119.96875,68323.2734375,72007.9765625,25535.490234375,38378.07421875,28954.4921875,43754.76171875,67893.703125,39912.2578125,50948.38671875,22356.4765625,72177.046875,36091.8984375,84877.5078125,39535.0390625,99761.8671875,54158.27734375,70672.9453125,60378.20703125,70425.8203125,33841.4921875,32445.28125,103712.7421875,53895.3125,67759.0078125,129003.2890625,50465.7578125,119660.1484375,72214.2578125,66029.0546875,70132.625,67291.65625,54619.81640625,90091.3046875,40110.3359375,10912.8525390625,65100.140625,58706.12109375,63470.37109375,82675.4609375,52261.03125,59667.35546875,76776.359375,40906.6328125,68534.1484375,36347.23046875,77314.2265625,43715.95703125,45763.26171875,121084.7421875,61647.37890625,52705.6875,80554.4921875,37200.09765625,83832.171875,23039.3125,75040.0,75463.1015625,90308.2734375,118019.59375,73319.5546875,82205.546875,68180.9296875,37258.46484375,55992.359375,36705.21875,64020.73046875,63472.48828125,85518.390625,48719.125,54499.875,83272.734375,100477.109375,61924.0625,28177.357421875,50930.48828125,62439.8359375,64934.1796875,94606.71875,79716.921875,23743.03515625,94698.5625,101435.34375,124133.03125,29028.01171875,56257.33203125,51840.80078125,64831.90625,54925.1953125,67319.6953125,36856.3671875,71764.96875,47441.984375,50520.328125,105287.3203125,46091.32421875,62219.56640625,51674.84765625,53130.984375,69408.8828125,47081.77734375,94619.828125,57444.55078125,39075.73046875,66572.84375,40987.94140625,65543.578125,75606.0625,39817.62890625,45605.7578125,86558.5,86216.4921875,35786.0625,29539.630859375,81530.375,51160.921875,40257.51953125,54386.65625,49294.59765625,59115.63671875,83120.34375,67277.765625,58255.3203125,54088.91796875,66469.2265625,66793.8125,33098.09375,64841.11328125,71359.4765625,39051.69140625,57935.09765625,41853.5,53572.28125,52235.1328125,58533.62890625,45195.85546875,116149.8046875,45288.28515625,57015.8125,47176.13671875,76073.1875,48002.7421875,47139.21875,67620.1015625,52634.30859375,51861.13671875,25503.1484375,41186.15625,45808.21875,32073.453125,68804.3671875,55166.3671875,41510.765625,28827.728515625,62425.171875,27634.462890625,48182.3203125,38494.64453125,53690.453125,80628.90625,77725.9375,64962.94140625,33272.58984375,78086.625,50621.51953125,58173.54296875,56629.703125,51210.8203125,94311.46875,77498.7421875,53287.6015625,65260.92578125,82702.5859375,50592.56640625,46430.875,85193.4453125,82207.765625,42694.20703125,66744.59375,45498.7109375,85128.34375,86607.203125,31237.951171875,35401.015625,105384.7421875,32170.5703125,80862.671875,76829.234375,51336.0546875,41231.55078125,29429.73046875,106183.8984375,31317.82421875,56708.22265625,65722.96875,83669.4453125,27691.087890625,42239.75,456.7261657714844,63763.5,79990.75,54958.62109375,37363.8125,49361.5078125,39511.7734375,72923.5546875,67553.5625,43515.98046875,83071.3515625,61869.12109375,45051.43359375,66641.625,60142.94921875,60384.15234375,64966.8125,76962.953125,43967.28125,90379.390625,42380.234375,78965.4921875,105141.2265625,37125.546875,56382.53515625,68629.265625,40702.015625,22480.794921875,91277.8359375,78506.5390625,28003.37890625,100683.046875,67807.4375,50430.22265625,94610.765625,86321.5703125,46028.296875,96939.9296875,85554.265625,28324.73828125,50468.9296875,31397.26953125,47881.04296875,48962.26953125,68085.9375,64151.6796875,21739.396484375,78342.796875,59552.0,76786.25,106567.3515625,81390.890625,29885.517578125,86254.609375,30184.5,58064.01953125,91558.171875,46051.3046875,107434.6015625,85847.3203125,71497.5078125,64802.546875,50781.91015625,43572.2734375,65265.88671875,52076.671875,66902.9140625,85053.03125,67090.0859375,81497.0390625,58877.515625,44202.80078125,43323.71484375,66575.7890625,52349.3359375,26045.609375,34747.12109375,76344.375,75622.59375,92512.4921875,60636.140625,65287.26953125,75259.3359375,84082.8359375,70391.6875,101127.921875,53511.796875,94693.171875,46434.4140625,52877.71875,75101.8984375,59474.59375,38757.43359375,40600.75,41590.77734375,110662.03125,53507.234375,78387.1640625,28957.712890625,67146.5546875,53807.171875,69935.453125,55032.1796875,87506.453125,46242.984375,58288.71875,91654.625,58301.125,76198.2421875,35642.21875,42034.88671875,91792.3203125,65515.02734375,52916.68359375,37239.59765625,44637.96484375,39514.375,43750.9453125,102868.65625,50474.8203125,42023.421875,50711.6328125,63722.75,34748.32421875,78456.296875,48397.2265625,65253.5390625,71922.6328125,76571.03125,33878.25390625,83428.296875,53982.28515625,77064.21875,36858.8046875,81323.3984375,68830.8984375,87445.8359375,70184.703125,37790.61328125,55340.89453125,43918.58984375,28301.1875,28614.23828125,50783.359375,79759.2109375,85134.0703125,97753.296875,80781.140625,113522.71875,52186.75390625,38533.015625,45263.3515625,91496.1640625,54632.80859375,58139.46875,41848.27734375,74857.3359375,33935.828125,72232.0,55990.9375,68692.8828125,51660.98046875,56855.75390625,46166.0234375,88693.6953125,71591.3671875,43041.4921875,76344.5390625,48849.4921875,60497.30078125,91364.9609375,73082.8046875,47611.26171875,86785.140625,53612.62890625,88681.0625,91165.96875,57752.2890625,82645.1953125,58852.80078125,30477.728515625,59722.83203125,82901.1328125,51674.62890625,77798.859375,64949.2890625,1715.12548828125,99684.8671875,67607.9296875,30635.130859375,78319.9453125,67582.9453125,42047.921875,83014.140625,45958.9140625,41778.4453125,31331.306640625,63149.0546875,54915.76953125,52341.33203125,70312.625,48113.25,93269.3515625,36105.03515625,74859.671875,39128.32421875,56596.63671875,42543.12109375,55316.34375,42814.37109375,43816.74609375,47494.75390625,35322.2890625,40357.34375,31300.359375,88072.109375,35898.13671875,95205.5625,76734.0703125,41954.59375,77545.203125,86239.046875,34208.9921875,90048.7578125,55656.7734375,58920.9609375,41869.9921875,73646.0,34150.59375,34929.0703125,80096.0546875,37294.68359375,77143.8515625,95529.1171875,78022.8359375,85478.3984375,32860.01171875,44435.1875,65009.70703125,34345.20703125,80159.484375,68338.4140625,72769.03125,54522.9140625,66735.84375,36258.4453125,80424.5390625,101880.8671875,36858.03515625,84764.234375,91362.234375,93490.5859375,36636.6953125,10439.6689453125,54163.42578125,38823.6171875,100052.078125,74356.765625,104413.2578125,93880.5703125,59529.78125,38456.359375,93804.265625,100353.90625,39331.0390625,96160.4296875,69667.4375,20120.27734375,34940.80078125,95976.96875,87320.265625,37886.5234375,53815.5546875,55337.515625,90342.875,50086.2890625,128411.171875,32736.73046875,97383.2578125,30882.806640625,110146.296875,92016.1015625,48306.265625,35299.875,64734.1953125,92325.546875,81747.859375,88540.8203125,39914.16796875,37085.328125,62810.36328125,81035.03125,85273.609375,18563.876953125,56322.890625,47294.09375,47454.71875,101212.265625,74475.546875,60101.1953125,61201.20703125,58399.97265625,31047.998046875,89152.234375,26779.318359375,60165.8046875,52055.3984375,49299.92578125,26654.033203125,84067.6875,77420.046875,46109.4921875,38489.93359375,28666.87109375,50386.61328125,40644.86328125,52316.0546875,91791.0859375,6097.98095703125,54655.578125,83689.171875,46056.03125,50545.296875,60744.4609375,31251.056640625,76720.328125,36170.80078125,87149.6796875,96459.578125,77496.6875,28035.61328125,64384.8125,40798.74609375,22419.142578125,49568.0859375,78558.6484375,44622.0234375,48679.91015625,39028.578125,40004.3515625,38764.91015625,38260.36328125,46188.875,90556.59375,89929.1875,82847.7109375,49240.9921875,56807.3203125,39739.3984375,38043.36328125,87419.1796875,40983.01953125,63541.7109375,38633.36328125,48603.90625,122820.0078125,85809.078125,44368.65234375,32576.771484375,23228.109375,40074.47265625,40785.296875,55454.17578125,43259.4296875,35334.9609375,88695.6015625,95060.9375,60139.01171875,32515.955078125,115749.0703125,126808.1171875,47072.96875,72724.0078125,47261.81640625,86864.6796875,37755.8515625,64425.88671875,51386.625,96454.515625,94862.125,105903.2265625,70193.34375,46394.80078125,33830.890625,68977.1796875,40492.75,36337.50390625,77191.359375,36058.26171875,95374.2890625,62801.10546875,88776.1015625,41495.53125,70294.015625,43375.39453125,50615.51171875,96655.40625,61190.8359375,57362.2265625,55765.8984375,66841.8671875,85241.4296875,33231.13671875,37227.39453125,91519.328125,45805.99609375,52552.14453125,32367.4375,90255.21875,98536.7109375,78386.5625,59959.12890625,40604.171875,48792.57421875,74236.53125,44335.53125,72316.25,64856.3671875,22952.9296875,68536.9296875,80534.7265625,58986.23828125,56235.52734375,63538.140625,74508.796875,61083.18359375,40330.484375,49618.64453125,45569.38671875,77887.453125,31383.083984375,37019.5,87188.5234375,94374.0078125,46645.83203125,46641.61328125,71577.953125,56219.6796875,46603.87890625,79670.0546875,48977.9921875,87380.8515625,87638.734375,85327.1875,43729.60546875,45704.71875,63887.62890625,55653.2421875,74168.59375,49053.80859375,23084.763671875,36845.83984375,56019.80078125,54552.2109375,86024.5234375,81919.734375,72372.6484375,118082.828125,65203.00390625,48995.921875,54816.2734375,82473.078125,48990.3828125,62911.02734375,87464.578125,35321.47265625,101202.3203125,47929.5390625,26192.56640625,93290.5625,35884.7890625,54410.765625,73774.4765625,62089.78515625,80549.25,78444.34375,39107.7578125,95636.6015625,82514.0,57462.40625,58752.60546875,61716.4609375,89076.21875,47587.04296875,69154.2265625,47375.10546875,34132.86328125,109709.5234375,83871.984375,36367.5703125,75772.8671875,56523.25,86614.359375,96393.1953125,45689.51953125,39054.20703125,83647.421875,70491.0625,86402.421875,62136.609375,58003.9453125,35354.4453125,80458.546875,37930.4921875,49135.3671875,56883.515625,48980.90625,81086.96875,56334.8046875,49846.984375,22655.537109375,66795.9921875,30811.490234375,69610.3125,44924.62890625,62361.30859375,83089.7890625,88266.8046875,70330.4375,91127.171875,83.38484191894531,46196.4140625,52391.796875,25048.646484375,39123.8359375,44256.73828125,70184.6015625,26639.83203125,88043.96875,52966.71875,56483.03515625,84995.8671875,60587.77734375,48660.4765625,80596.328125,77797.5546875,40641.140625,82756.7578125,25988.494140625,84483.5390625,39084.47265625,37353.8203125,98819.2578125,34003.81640625,40513.875,87430.765625,68861.7890625,25299.212890625,45981.3828125,75200.828125,81879.4453125,44147.8984375,80229.484375,56769.40234375,37558.28125,71121.09375,75071.578125,89128.703125,33690.453125,93507.8046875,26662.71484375,81935.7890625,45631.78515625,50145.7265625,85217.2890625,85736.2734375,38811.9375,100542.90625,80630.265625,61487.0625,73343.34375,81079.3828125,43365.51171875,62197.79296875,40952.83203125,88645.7109375,52896.33984375,41985.41015625,95400.2578125,67515.8828125,35902.203125,32302.662109375,46776.76171875,61441.27734375,53647.44921875,41287.88671875,83917.875,73004.3359375,41032.55078125,92546.2109375,91466.4765625,39942.40625,72065.578125,55110.578125,51040.0078125,45621.8046875,52675.73046875,26977.6171875,35259.49609375,38233.96875,39943.0234375,97447.734375,41214.68359375,58494.79296875,39315.76171875,26589.162109375,68332.3984375,57566.94140625,60888.42578125,26677.1875,50408.21875,64840.9296875,19171.921875,40515.53125,37513.48828125,38363.22265625,48135.83203125,19995.25,55984.68359375,41392.8125,86806.2734375,32704.177734375,101487.9375,45088.2265625,43371.828125,43921.6640625,79432.2265625,97913.7734375,101408.09375,34157.51171875,38507.98046875,48955.82421875,42455.6171875,97246.921875,61084.6328125,87924.296875,80068.4140625,68775.953125,90314.203125,28302.046875,44381.86328125,26702.357421875,99231.3828125,101713.0390625,45880.1171875,47346.2890625,43624.41796875,88310.0859375,68042.9453125,57608.11328125,80249.984375,45459.42578125,63840.32421875,76991.5625,42074.515625,49393.01171875,71077.640625,58104.86328125,46406.4296875,51177.9609375,65427.93359375,47858.02734375,86544.6015625,69798.3984375,140533.125,78007.953125,55681.046875,109368.890625,30265.0625,102875.34375,38497.58203125,52323.734375,95601.8984375,71005.46875,72012.6875,65005.92578125,83375.5859375,95033.8671875,51487.43359375,51440.2890625,49720.41015625,71976.125,74512.8203125,88901.03125,67171.359375,78790.734375,35883.1015625,46238.7265625,45002.63671875,40708.95703125,40848.92578125,29097.7578125,30816.796875,47875.46875,50580.10546875,71292.46875,39838.515625,61257.78515625,77808.96875,110112.9921875,49922.59375,59558.10546875,72991.8828125,29834.388671875,70176.4375,87635.921875,36688.77734375,72276.234375,94865.9609375,72909.6796875,57405.7421875,70068.2109375,22472.90625,94610.5625,36502.25390625,37366.81640625,48177.96484375,93306.9765625,57067.9140625,39685.91015625,63374.5,51677.2109375,97662.3359375,36967.4375,93770.9921875,98981.171875,63281.19140625,54261.1953125,94378.1015625,62166.82421875,51551.28515625,85177.15625,59143.8125,68665.578125,98503.34375,44875.88671875,96838.8046875,107780.046875,42234.125,40961.3828125,81871.1640625,45007.03515625,71875.875,71542.9140625,48909.19140625,38113.328125,50309.7734375,56139.14453125,65875.71875,77720.1796875,58705.2578125,51052.35546875,67772.15625,78485.3984375,53335.55859375,32981.90234375,53828.2734375,49347.41015625,97325.6328125,88361.40625,46313.52734375,96973.1328125,36290.296875,99826.9921875,34903.71875,32827.01171875,69655.515625,55844.5703125,70455.1015625,73611.4609375,32789.375,38766.99609375,64871.3046875,79062.765625,59342.89453125,113389.65625,53674.3515625,73227.9140625,68090.640625,38549.56640625,49513.15234375,79101.3125,38156.078125,80577.9609375,33515.13671875,49417.1328125,64800.90625,66728.78125,40196.0546875,39714.43359375,34371.25390625,32009.306640625,75661.625,90299.734375,32988.046875,53724.07421875,43008.4375,44976.20703125,28770.6640625,56447.296875,80541.4375,48082.37890625,34462.2109375,72020.9609375,35048.3125,52662.640625,72244.46875,45450.80859375,106958.71875,73191.6875,88404.0859375,54989.78125,144484.90625,67898.3046875,61399.46875,31962.080078125,54642.01171875,48183.8828125,65118.015625,53298.08984375,36245.09765625,48001.42578125,48975.1640625,72284.0234375,64430.703125,61521.703125,55084.3984375,60447.1484375,101898.453125,51612.3671875,39295.19921875,91023.0859375,27694.509765625,70386.828125,59170.99609375,76035.265625,68470.5546875,44005.00390625,84489.390625,65910.25,21718.94921875,74538.96875,44406.0078125,43836.05859375,93683.171875,63964.09765625,33635.265625,73278.25,36067.54296875,52301.11328125,56006.68359375,116198.2734375,61333.2109375,77591.0546875,55492.3125,50723.03125,49259.11328125,67516.0625,93534.0234375,90832.046875,63890.63671875,43866.33203125,41215.78515625,56492.09375,45910.0546875,85281.21875,50633.02734375,96454.7578125,95779.578125,47033.9296875,86438.546875,99128.0234375,72872.046875,91632.9296875,28057.94140625,59746.609375,30820.279296875,74704.515625,45855.98828125,26819.990234375,46507.97265625,56257.28125,73972.9296875,55288.390625,45974.26953125,42754.3671875,73993.1328125,59431.78125,102141.453125,55944.87109375,50661.44921875,87044.3046875,82514.0390625,48358.84765625,60265.8203125,96961.15625,33226.78515625,92858.71875,69473.390625,45365.05859375,60682.96484375,45670.3125,81511.3828125,49604.84375,75491.84375,63660.125,41255.06640625,55745.05078125,37557.4296875,53778.125,59712.82421875,92889.6875,84675.40625,60912.41015625,42673.1328125,69937.6796875,62176.63671875,76099.765625,59179.5859375,31894.7109375,26848.9296875,75088.9375,42045.85546875,60836.4765625,55516.5859375,44874.265625,88495.859375,37883.8984375,41033.0390625,71078.46875,74139.84375,84465.15625,64313.0234375,42251.28515625,86239.0234375,54104.93359375,84556.2578125,50295.3828125,59890.39453125,59440.3828125,30646.2109375,50280.15234375,46774.61328125,26009.900390625,38548.63671875,77268.3046875,29998.46484375,37682.29296875,15794.6796875,85287.8515625,33699.140625,11044.7099609375,100738.6796875,26705.55078125,89314.5234375,21123.740234375,47841.40234375,69522.890625,41122.19140625,51949.4453125,72014.0234375,69526.59375,46350.2890625,91504.890625,95698.375,59153.39453125,68922.875,51917.984375,58911.671875,36815.7578125,52710.72265625,70035.0859375,36794.25,68980.203125,44942.9140625,86112.5234375,69937.3203125,93322.1640625,52147.2578125,83058.1953125,35591.41796875,55402.37890625,60505.7734375,35077.4375,81699.7890625,67812.171875,22187.609375,45133.3125,32097.25390625,29158.501953125,43859.5234375,88332.8828125,73576.953125,83792.671875,88918.09375,59132.56640625,56496.94921875,50648.96484375,58168.515625,93865.2421875,50383.48046875,51648.8984375,63494.66015625,32557.06640625,40898.35546875,35273.1640625,40174.5859375,69553.765625,80395.9609375,51913.51953125,60610.7890625,77626.703125,71755.34375,36732.47265625,88051.6328125,66321.921875,84295.515625,54540.05859375,92083.15625,52386.3828125,85828.59375,41173.2890625,22668.44140625,79976.96875,61543.6015625,37183.70703125,86427.6796875,57062.46484375,42052.41796875,59187.47265625,40348.73828125,27676.453125,20536.3671875,63671.37109375,61608.7578125,26908.947265625,36295.8828125,63154.34375,81443.71875,63108.87890625,44472.68359375,51298.13671875,80622.296875,66207.9375,69145.1328125,70290.6953125,53122.125,67216.5625,64029.046875,41518.16015625,38576.62890625,11153.0380859375,89420.46875,73664.8828125,84493.1328125,49127.90625,86151.890625,39291.0859375,47076.59375,73255.6953125,46252.30859375,84319.1875,65788.4375,109598.2890625,83509.875,90817.484375,40957.3046875,42411.35546875,59862.65234375,91378.9140625,93608.65625,94331.765625,110476.7578125,39440.3515625,51151.109375,58439.8203125,94634.6328125,44563.87890625,49183.1015625,85691.8984375,73012.4140625,118285.546875,33555.94140625,55714.6796875,60011.4765625,36914.46875,81316.7109375,89398.453125,65354.3828125,9.882344245910645,49965.5546875,46733.36328125,73139.7578125,36875.109375,74902.15625,46406.19921875,52828.9609375,79942.2578125,35474.4609375,45347.3125,59590.58203125,41148.11328125,47172.703125,51158.5,49370.19921875,53608.04296875,88090.765625,44264.69140625,82364.9609375,68521.8046875,33187.24609375,85245.0625,83297.8515625,36545.80859375,88691.578125,73954.90625,40965.28515625,37806.60546875,39045.90234375,28100.75390625,50193.66015625,25868.443359375,36541.17578125,25801.708984375,54652.29296875,75324.546875,106739.9140625,68524.515625,63136.9296875,54998.79296875,54615.1328125,49645.09375,40615.140625,79380.5703125,93539.75,67312.9296875,56231.29296875,71392.734375,119975.3828125,36097.1875,38559.765625,36252.2890625,88260.75,21464.64453125,26962.705078125,45789.81640625,59918.046875,41401.8671875,75374.9453125,52495.62890625,105725.515625,106690.359375,88071.8984375,84225.96875,49043.703125,40159.05078125,47114.04296875,62501.00390625,95729.6484375,72541.140625,27287.423828125,54267.40234375,35304.53515625,70265.25,38283.0703125,30393.70703125,75028.6484375,83243.6328125,35433.875,69261.7734375,33783.69921875,58929.21875,62347.71875,31158.5390625,35749.56640625,88665.171875,27140.169921875,70539.2109375,47099.1328125,62791.2265625,53487.0546875,91890.2265625,48367.2421875,41225.4609375,37405.1640625,57818.046875,94385.875,69115.3125,49933.234375,25751.369140625,27424.552734375,91757.5078125,82359.59375,62572.94140625,98079.03125,28294.865234375,77324.25,41932.84765625,44655.203125,80052.625,41951.46875,55590.109375,78219.1953125,71296.859375,59929.953125,54559.234375,65812.0390625,65671.3828125,81601.3046875,41182.09765625,49528.84765625,86712.7890625,97436.015625,31524.732421875,78636.7421875,39301.44140625,41096.2890625,79656.3671875,38437.390625,72727.3359375,53249.67578125,77404.234375,100075.8984375,94392.9296875,64399.71484375,50263.8515625,88362.9375,24328.947265625,49557.3984375,88668.609375,41250.75390625,62885.03125,40455.73046875,82403.0234375,108632.875,36418.0859375,49435.80859375,44796.73828125,93105.1015625,43760.03125,42515.453125,99122.640625,44498.12109375,25391.046875,105658.5625,59520.55078125,63710.4296875,58763.14453125,100445.078125,76666.140625,60196.05078125,84267.6171875,55943.69921875,62810.06640625,38423.27734375,108068.6953125,117209.015625,70177.0078125,47090.9375,38373.18359375,54141.06640625,97061.7734375,66657.546875,100558.7109375,48139.57421875,46775.58203125,49663.125,70180.1484375,80784.859375,37524.4765625,43509.19921875,47764.0390625,48066.9296875,93621.59375,68582.0390625,88277.828125,38777.046875,58008.984375,53632.59765625,51944.875,53958.91015625,68116.8828125,56975.6796875,74200.8203125,61814.859375,88746.578125,55122.95703125,50157.91796875,64917.9609375,95064.7578125,39780.96875,84484.578125,36416.83984375,47172.4921875,49280.6875,32020.662109375,111260.453125,60056.80078125,62353.0234375,30887.626953125,50637.23828125,55409.25390625,48451.69140625,60316.234375,36101.90625,87417.125,38160.76171875,41698.80078125,61640.34765625,86354.4921875,117421.3203125,31190.927734375,59236.74609375,36915.33984375,48164.44921875,70030.3984375,103799.59375,82787.4921875,32843.69921875,44269.4140625,113002.6953125,69040.96875,34004.6953125,41704.86328125,72813.40625,41650.5703125,35148.54296875,79380.53125,84219.140625,42495.8671875,36730.4375,85714.3671875,80809.6484375,72974.1484375,40188.53515625,38517.99609375,61129.55859375,35740.9296875,39034.671875,28263.810546875,33517.046875,65286.3046875,107042.296875,55259.87109375,45652.0234375,90379.0234375,86182.90625,68521.9296875,31385.62109375,95651.7109375,77772.03125,51798.55859375,34490.203125,62161.125,54078.8046875,36678.01171875,93657.953125,30807.669921875,55614.25390625,35273.54296875,30482.0,53975.73828125,46912.71484375,33142.36328125,84256.8515625,48273.93359375,79370.2421875,27013.419921875,70675.203125,54633.99609375,42874.44140625,82431.8984375,75085.4765625,61222.828125,77484.15625,58813.98046875,30743.322265625,112176.15625,38051.12890625,100146.546875,89744.90625,72261.046875,57098.09765625,58007.19921875,78923.25,44091.80859375,49575.98046875,28284.75390625,35027.4296875,82364.859375,91786.125,33945.98828125,59826.6171875,39668.61328125,44815.83203125,60583.0390625,63477.73046875,43699.02734375,45251.6328125,100867.796875,86329.7890625,55899.15234375,63312.8515625,32700.21484375,48828.2890625,64461.7265625,46864.0546875,72590.5546875,58270.8203125,77186.7578125,59498.9375,38221.65625,112673.8046875,29691.9140625,40269.91015625,64079.7578125,30559.44921875,71442.734375,58948.96875,77484.1875,58505.234375,35522.44140625,58349.4375,98698.6015625,60521.76171875,32913.375,47161.94140625,83752.0390625,24455.310546875,85475.3125,29865.861328125,51876.13671875,54136.0703125,27348.3828125,89462.3046875,40488.09375,84694.046875,72839.0703125,59333.5625,59419.8203125,50905.26171875,55643.078125,73782.53125,39090.6875,48491.04296875,50679.4296875,62907.01953125,67689.8125,90917.6171875,50494.80859375,52236.9296875,52844.45703125,89100.8359375,53511.03125,89095.1015625,77026.8671875,76170.2734375,79937.3203125,79555.1796875,91044.6015625,62600.45703125,88608.484375,56396.51953125,74741.25,43243.0078125,54779.62890625,37012.796875,35639.29296875,95987.1875,40468.41796875,44101.11328125,98651.640625,67655.2890625,68961.0234375,25584.720703125,43049.62109375,63853.796875,45459.0859375,61066.46875,49338.80859375,36148.58984375,37878.44140625,48436.63671875,23194.828125,33685.7734375,80875.1171875,48875.890625,105390.390625,71950.140625,81316.671875,63680.48828125,79963.46875,71661.703125,39204.37109375,53728.0234375,40688.9375,132263.28125,40235.6796875,22108.861328125,50936.55859375,64744.97265625,54251.578125,69278.015625,54354.31640625,93514.1171875,69714.078125,84204.890625,52495.6328125,55960.8828125,50787.0078125,20317.1171875,101079.4765625,106118.1796875,27970.751953125,35284.65625,62793.26953125,70596.328125,77294.7890625,81611.40625,53334.6015625,53814.8125,73174.078125,87413.296875,104220.1875,41971.203125,50557.1484375,68795.4375,86559.328125,44556.8203125,41675.765625,97019.484375,38247.49609375,49018.97265625,63387.03515625,55245.37890625,26899.37109375,100211.4921875,98100.0625,53832.9296875,22594.96484375,45669.3203125,54388.859375,109595.734375,98326.0703125,55822.0,47902.484375,61536.8984375,83519.3203125,57659.390625,55023.98828125,64220.6171875,37786.75390625,47951.8125,50933.4453125,40317.98828125,77229.890625,76604.15625,28807.02734375,101497.15625,40149.05859375,34861.84765625,42227.03515625,40528.7265625,41860.5625,54711.9921875,97448.875,78538.3203125,69238.65625,52580.88671875,49680.7578125,33580.59375,58640.8828125,123793.90625,32618.505859375,91077.953125,21142.283203125,38800.4296875,43700.640625,84662.6484375,74817.515625,89886.8046875,57622.90625,45422.328125,40447.65234375,58441.78125,33858.70703125,83230.4765625,35613.140625,31775.9609375,48577.8671875,51521.5234375,53105.5078125,41628.85546875,54018.80078125,75485.53125,80712.7421875,42447.98046875,29682.2890625,48777.7421875,55465.62890625,54532.0625,82132.8515625,46597.73828125,67062.5234375,69018.890625,25229.994140625,43202.34375,76129.6875,76450.375,86896.640625,31610.529296875,37822.26953125,93410.8671875,89399.359375,25322.8671875,50674.66015625,66023.109375,68556.4375,49211.734375,71912.515625,34548.078125,44246.43359375,57095.09765625,47233.12109375,51857.94921875,69249.75,52623.3984375,44716.70703125,44146.7421875,83618.8125,42679.85546875,84600.2578125,106637.203125,56098.62109375,67002.5,37319.73828125,82871.078125,58460.69921875,101568.4453125,59114.55078125,61670.6875,44594.4921875,51302.83984375,47407.52734375,107060.640625,90401.5625,41057.1875,58158.796875,117650.5390625,37303.00390625,43783.55859375,50479.83984375,40222.6640625,60866.98828125,71244.828125,51827.48046875,78989.8671875,25695.166015625,45891.515625,36298.6796875,90019.3984375,102683.25,37537.09765625,37146.328125,69958.9140625,90817.75,84630.6328125,45410.61328125,43870.66796875,50460.421875,39103.94140625,32827.2578125,55876.609375,54087.94921875,67060.0625,56577.53515625,49128.90234375,62015.26953125,58370.61328125,58012.65234375,81164.0859375,55856.9140625,35934.18359375,90799.4921875,75944.984375,30940.80859375,93747.3515625,61954.4375,48053.16796875,35052.27734375,56739.52734375,75407.140625,110180.46875,71203.5859375,53696.48046875,101406.5078125,78825.9453125,44552.58984375,74514.078125,56692.6015625,23911.935546875,74632.2421875,79229.84375,67132.2265625,32654.365234375,80595.5703125,36949.19140625,97609.421875,31970.859375,117723.4140625,145746.875,128465.234375,40836.6953125,31352.14453125,61501.578125,26538.04296875,64868.94921875,86717.5859375,50231.34765625,72815.859375,35351.34765625,75241.125,67864.0234375,53826.4296875,124422.71875,85335.078125,99713.3828125,29116.7421875,79476.25,53925.09765625,49036.7578125,33187.39453125,55495.6484375,117426.9140625,74911.125,86371.03125,75316.1640625,83757.875,73106.3046875,41771.62109375,74696.703125,49469.4296875,44903.578125,65921.15625,52776.234375,87841.6015625,69688.9765625,42712.23828125,86106.0390625,113396.359375,41329.734375,49444.51171875,31729.798828125,41742.40625,63967.6953125,37931.078125,63122.765625,77859.2421875,73589.9765625,40875.796875,84024.5078125,55936.70703125,33959.19921875,64557.4921875,69862.2578125,100408.6484375,24638.55078125,43259.125,46190.12890625,40993.546875,73592.375,72522.1484375,75433.359375,52645.203125,58939.1640625,74399.109375,89425.9296875,27214.166015625,104201.28125,108610.1015625,45444.66015625,104381.7265625,80010.53125,30102.2265625,38573.94140625,52086.02734375,52817.578125,33581.90234375,31892.439453125,53709.69921875,59274.0625,36261.45703125,94052.09375,36314.51953125,63562.0,32221.482421875,65066.8671875,37238.76171875,69134.6328125,50970.12109375,73949.3828125,38943.2265625,76651.03125,37645.40625,78960.15625,71527.0546875,58086.24609375,54397.85546875,49643.19140625,78473.9921875,46593.61328125,37584.3359375,27919.279296875,39853.9921875,31299.697265625,57742.65234375,66873.1640625,79288.8203125,45639.875,80543.4453125,53855.81640625,61860.8359375,77466.0625,45633.28125,76681.0078125,100767.3984375,55991.45703125,64113.19921875,38546.3046875,51411.6796875,95594.046875,55146.8515625,78184.953125,41499.9609375,91159.609375,99496.9609375,35916.78125,34437.19140625,105567.46875,77477.359375,51066.23046875,47544.1640625,28405.51171875,55845.08984375,49070.703125,44391.71484375,52406.765625,46678.3203125,42288.13671875,81083.6875,128794.6328125,74476.03125,45445.40234375,43368.7421875,46771.07421875,75674.7265625,103855.578125,65726.3203125,83242.0078125,47082.515625,51095.8671875,82590.8203125,65157.62109375,91933.984375,47261.484375,52562.140625,15599.1279296875,49798.765625,47581.4765625,80372.8125,42830.4453125,52369.1796875,91511.015625,58826.74609375,36910.3125,51482.48046875,84233.8046875,76051.671875,29566.615234375,68533.1796875,53647.81640625,67328.59375,70410.421875,41487.12109375,51075.3359375,30001.515625,41427.97265625,75261.9609375,36582.1015625,101654.2421875,44327.62109375,39155.66796875,48098.0859375,64743.05859375,51350.35546875,38126.2578125,43318.04296875,36448.609375,51836.19921875,78971.4609375,66685.2265625,95281.59375,41305.34765625,44912.00390625,97989.828125,85623.609375,83901.4140625,44361.51171875,46254.36328125,89347.1015625,80546.7421875,66062.6640625,33459.21875,74244.1484375,64137.1640625,49267.64453125,81714.328125,108084.8046875,43247.6796875,91972.7734375,41127.53515625,50426.2734375,78934.875,57095.89453125,105336.859375,63972.37109375,33851.6640625,29181.49609375,18423.93359375,33946.98046875,62516.9375,75071.921875,19990.056640625,41680.83984375,74113.2265625,67913.0625,69661.3125,45524.06640625,38797.66796875,104424.59375,72099.9765625,37450.63671875,31732.779296875,94877.140625,53548.09765625,41898.41015625,66530.0078125,76745.859375,44735.57421875,90315.0,42671.03125,29713.24609375,35374.0546875,50014.86328125,26303.171875,83731.5546875,39991.69140625,30360.978515625,78156.234375,45733.51171875,74703.4375,85765.8046875,51292.953125,20089.0859375,62293.6875,23154.564453125,54700.21484375,7891.919921875,35871.5625,74565.375,55950.046875,45555.42578125,86741.8828125,34447.03125,83388.7578125,101944.8671875,69852.8125,32853.10546875,49105.54296875,56189.44921875,49582.2734375,40309.65625,99811.234375,45889.04296875,33916.8359375,56776.87109375,54311.09765625,64706.0625,40314.82421875,91292.953125,47564.65625,44053.98828125,71108.7890625,41873.17578125,45430.92578125,63247.57421875,48204.45703125,97194.3203125,44845.8828125,71561.4296875,78433.015625,52782.50390625,44033.4609375,59062.4453125,84797.984375,69303.5234375,36623.3515625,28540.751953125,32297.603515625,46016.9453125,43790.8125,77021.625,109691.984375,59421.03515625,38096.72265625,35211.35546875,83737.625,77474.609375,73064.921875,49409.54296875,101829.2734375,85813.5390625,79876.3515625,75639.609375,97448.296875,74212.7734375,54743.62890625,67669.0859375,71694.7109375,49200.3359375,84268.03125,34305.08984375,52831.75,114925.5703125,72163.65625,40471.1328125,85302.15625,74182.1328125,71102.6484375,53533.9609375,95375.9453125,39362.921875,51884.3046875,82895.7890625,89192.4296875,46244.8125,41494.30078125,106378.53125,60082.078125,39145.26953125,66009.9296875,70564.5859375,79167.3359375,29777.873046875,48452.71875,46688.375,93349.0,49212.234375,89922.3125,54806.55859375,73273.53125,55467.61328125,113581.390625,34251.62890625,46292.5390625,64830.5390625,85899.8828125,58306.28515625,45558.90234375,59843.56640625,56806.77734375,42539.85546875,98816.6875,73145.3359375,83384.9296875,32814.62890625,44127.86328125,57637.6484375,105919.703125,52447.3515625,31662.931640625,50276.5625,52853.078125,89551.7890625,54945.8203125,54669.12890625,71358.453125,43607.48046875,33684.14453125,30680.32421875,52743.1328125,48662.203125,53505.53125,55993.43359375,60740.76171875,60558.5859375,54352.7109375,20252.001953125,72808.3984375,35234.140625,95892.53125,89125.265625,55424.08984375,28969.0703125,43480.828125,59742.06640625,80998.484375,37856.41796875,39800.52734375,19688.66015625,40461.984375,70463.3046875,46621.16796875,23119.478515625,37637.27734375,69568.8984375,78992.3671875,43027.3828125,46530.7890625,70146.171875,57320.40625,119793.7578125,61075.65625,64321.05078125,73559.3046875,39848.33203125,60155.03125,89134.375,94238.359375,73202.9296875,83610.921875,30650.916015625,73158.8984375,82432.921875,77915.3359375,94391.75,86564.6875,58645.77734375,60030.3671875,116505.0078125,92703.078125,51603.09375,38727.45703125,83524.5078125,56258.67578125,31770.26171875,62833.44921875,77129.40625,42014.75390625,49364.34765625,66307.5625,85490.25,67892.875,70527.84375,37317.30859375,50233.85546875,29261.55078125,82196.4296875,58641.81640625,63517.49609375,55472.1875,106934.5078125,44372.703125,81619.2890625,40415.86328125,50342.72265625,88836.0546875,85578.71875,57974.03515625,79011.8046875,58829.16796875,86851.0,43679.87109375,62394.9296875,42333.23046875,57893.3515625,91968.2734375,53783.94140625,42534.2421875,71643.8125,88343.7421875,50912.234375,53954.3515625,115660.9296875,24885.169921875,34759.6484375,23936.369140625,60912.19921875,48227.4609375,45364.2109375,90972.875,59896.44921875,41902.1796875,38985.8046875,40278.58984375,73721.5703125,45838.0390625,69449.0,67695.3203125,69416.25,34704.84765625,25594.05859375,63355.10546875,95365.2265625,33358.49609375,19268.873046875,16601.712890625,57532.3984375,48391.44921875,70049.109375,126106.3828125,45099.13671875,94647.6953125,95936.484375,40001.53515625,109867.2421875,87058.546875,48336.9609375,39287.62109375,85440.859375,82038.8984375,58679.71484375,72916.328125,85621.28125,71845.2578125,106367.8359375,54184.89453125,67184.8984375,63439.66015625,50310.33984375,124522.859375,147263.40625,97062.40625,77809.7734375,47613.83984375,42186.95703125,105032.859375,22321.37109375,82623.953125,107242.859375,80240.09375,44929.4453125,63795.5703125,22274.89453125,83270.1328125,44923.63671875,53812.859375,40447.859375,79711.4765625,50484.07421875,57868.55859375,62750.47265625,50174.4453125,86769.5703125,61200.9140625,22289.158203125,64099.66796875,92152.796875,64258.390625,29810.9453125,55346.0390625,88012.359375,34411.55859375,42548.4375,70576.9765625,96160.8515625,38922.69140625,84641.203125,64406.125,43265.7421875,70064.8671875,69140.1171875,80323.7734375,88965.7734375,58527.52734375,59788.63671875,51899.90234375,54378.66015625,47834.96484375,72944.1328125,71427.8203125,37916.2421875,86587.9375,45482.1171875,90703.7421875,70846.4375,40791.328125,83907.0390625,57245.62109375,67552.5,93084.078125,72590.2734375,63696.0390625,89417.359375,72505.84375,38048.16796875,87183.7265625,22747.3359375,37812.5234375,72543.265625,75084.96875,41003.6875,47038.18359375,88303.3828125,90025.921875,46821.3515625,42179.81640625,60678.78125,40614.8515625,47805.2265625,31202.1484375,46312.48828125,40822.1796875,62979.3515625,44851.6953125,77559.265625,74943.78125,41823.80859375,65827.609375,36537.5625,39519.4765625,41473.26953125,75693.2578125,65859.21875,49360.0234375,100962.890625,70865.9453125,36062.6484375,54190.66796875,45426.734375,77462.59375,93339.6640625,31295.27734375,89188.921875,40615.57421875,72274.9296875,34736.6953125,35899.78125,69576.6875,48698.921875,33371.92578125,75526.9921875,76734.5546875,45625.6640625,68647.0546875,27635.57421875,36502.98046875,64224.29296875,59625.91796875,57208.19140625,28189.34765625,67709.203125,50175.765625,61651.92578125,84680.390625,108066.0078125,75854.5546875,65887.5078125,53805.09765625,65185.6328125,78148.7578125,62425.23828125,52258.58203125,42933.578125,37543.47265625,66819.1484375,55941.984375,46468.91015625,42579.75,72222.6484375,60362.1875,56109.46875,95000.0859375,44528.37890625,50982.52734375,44120.125,51977.26953125,61614.5859375,61355.60546875,38055.4609375,84864.2421875,61806.8515625,36478.05859375,45686.02734375,71884.8203125,56830.03515625,59702.17578125,66742.1796875,84422.3671875,115296.09375,60674.4609375,49679.296875,99284.0,37442.1953125,37977.640625,57647.68359375,83533.734375,31437.623046875,70675.4375,72452.28125,76861.09375,35894.671875,63338.02734375,106881.9453125,93915.78125,30204.947265625,66003.8984375,76699.7890625,88140.796875,68897.1796875,93443.078125,33196.5390625,80879.4375,30030.87109375,115965.9921875,37676.5859375,78473.078125,20754.412109375,47958.16796875,54062.13671875,75583.5234375,63347.41796875,52448.1796875,116769.8359375,59504.3671875,92738.3125,44581.60546875,89645.0078125,68823.296875,43777.08203125,89921.390625,43327.46484375,32866.76171875,54868.15234375,37911.53125,33969.171875,49814.4921875,37575.81640625,80770.1640625,86912.03125,49970.98046875,34673.171875,44017.61328125,90441.5859375,42411.81640625,112375.9765625,57063.1171875,60138.6328125,87417.90625,46687.2265625,58288.20703125,66877.6640625,49035.91015625,55601.734375,108309.2109375,43580.86328125,94532.15625,42173.640625,86311.609375,30382.255859375,55677.546875,39258.71875,48417.53515625,71599.625,19260.46875,43092.7890625,53535.84765625,58386.62109375,32122.849609375,35915.703125,54044.94921875,44869.23828125,40664.1796875,106528.5078125,55568.21875,59458.05078125,44859.12109375,63075.84375,36565.6796875,64636.8984375,52319.30078125,56848.4609375,40510.91796875,39913.7734375,77779.1875,33237.51171875,49004.49609375,40661.34765625,72134.90625,77658.0234375,36218.40234375,49510.6484375,66111.171875,21825.32421875,112847.234375,61201.9375,45957.421875,71446.421875,76912.8671875,43631.75,42247.2265625,30841.490234375,47477.67578125,123992.3359375,77568.140625,82454.7109375,70728.875,57406.84765625,43917.27734375,91780.515625,130094.7734375,39320.62890625,38650.4609375,85213.2109375,55785.16796875,43824.67578125,75968.3125,86317.84375,93476.71875,26439.31640625,66945.1484375,48653.6875,50516.05859375,89881.171875,40152.7265625,78884.109375,44963.86328125,90309.84375,23328.037109375,28200.8125,80726.6171875,54364.6796875,69748.34375,57170.51953125,37826.70703125,51019.79296875,65905.9453125,74533.7890625,81276.1796875,53044.9375,120271.0234375,89797.9765625,50792.60546875,72731.1875,56158.2734375,48639.6328125,86745.1328125,81842.15625,63660.91796875,34654.7109375,99629.4609375,53980.33984375,101571.5234375,67691.5234375,65853.09375,57220.7109375,108758.90625,42801.953125,49151.68359375,58955.72265625,40241.6015625,92258.640625,103827.96875,42725.94140625,64276.828125,61029.40234375,131706.421875,54643.1015625,84675.625,68328.7578125,77293.4140625,73664.359375,40932.48046875,52649.36328125,76420.921875,95682.3671875,68796.6484375,95250.265625,20565.3671875,72236.2734375,81920.140625,58263.3984375,19380.51953125,95567.3203125,30381.703125,75100.7421875,23198.6015625,74542.859375,64841.86328125,42749.8828125,86222.7265625,54568.2109375,65976.953125,28893.810546875,88144.4375,68138.0859375,31002.677734375,84244.21875,50083.31640625,40213.1328125,43382.046875,62301.16015625,64350.7578125,89100.9609375,25923.5078125,47897.02734375,45986.359375,67232.125,95662.2734375,47007.8125,44090.27734375,60739.0078125,46385.625,53408.51171875,47894.390625,39168.1875,94138.9453125,66301.3984375,49012.6640625,37985.54296875,78107.1875,63631.2109375,74187.5546875,89542.765625,73006.34375,30600.880859375,60341.96484375,47131.0234375,88775.515625,42451.546875,54296.48046875,59475.62109375,34664.35546875,72110.2734375,82561.546875,56903.00390625,80348.65625,81651.0390625,66100.5703125,88297.53125,24056.447265625,37973.1640625,76083.359375,68495.7421875,45242.2265625,63552.12109375,38613.53515625,34375.421875,75342.1015625,42515.4609375,68815.2890625,68930.828125,54674.1015625,57334.22265625,83302.9296875,33041.44140625,64815.5234375,53659.3515625,51875.1875,86725.078125,27208.19140625,65422.25390625,91357.96875,42477.73828125,46937.94140625,57716.04296875,58545.3125,50958.265625,41777.7421875,46583.6953125,43034.07421875,75692.0234375,39653.6875,49497.69921875,40285.28515625,41994.8046875,46496.67578125,52886.52734375,32189.396484375,97124.3203125,45565.1171875,52016.296875,66775.984375,37738.2109375,99973.0546875,99491.015625,68797.8359375,25259.337890625,51743.89453125,28493.92578125,81411.3359375,50993.0546875,62172.40234375,63825.2421875,31959.240234375,84151.09375,22613.3359375,58638.27734375,45652.57421875,35391.80859375,49565.07421875,41931.0078125,69739.6953125,36102.83984375,69987.34375,46328.56640625,53054.65234375,44040.5390625,35792.09375,23462.1640625,64948.6953125,99479.3984375,31702.99609375,61365.66015625,55956.91796875,52938.05859375,36556.5625,90380.4609375,41186.27734375,19984.59375,51755.4609375,47679.89453125,89253.734375,94169.625,54993.4765625,53520.421875,99176.0234375,79373.328125,68811.40625,79968.21875,51860.671875,56044.828125,42859.75,48299.87109375,48282.90234375,93705.953125,40660.671875,47430.1015625,133713.28125,71170.4140625,49373.3828125,80605.1796875,58971.59765625,70638.921875,56319.44921875,32319.8671875,89119.6328125,65038.12109375,70341.0390625,58518.96875,74630.9375,69284.59375,52120.83984375,33822.7109375,79218.7734375,58106.375,31014.611328125,47503.05078125,90807.8828125,42500.5625,89929.1875,55797.50390625,135557.5,78445.6953125,47490.6484375,101355.140625,62601.23046875,81948.2578125,19482.302734375,49752.828125,60774.21875,91740.421875,24961.666015625,44667.10546875,62935.171875,68900.4453125,75839.453125,58172.328125,44374.46484375,87511.4375,88523.0703125,61019.77734375,58226.203125,61037.9296875,75365.3515625,81985.109375,82198.9296875,50859.2890625,65999.9921875,77208.84375,93665.6875,62083.734375,37866.0546875,37803.5,60644.953125,67615.7890625,89102.5390625,87427.3046875,69958.28125,52805.8984375,40353.81640625,101626.078125,79086.59375,38124.21875,58065.8984375,55033.67578125,44138.375,50351.30078125,54341.41796875,49735.93359375,47256.16796875,90206.1484375,79540.1328125,77323.359375,44780.7734375,66584.34375,34004.1171875,58406.60546875,71271.234375,92238.890625,37893.2109375,72437.34375,32424.857421875,49178.0390625,76636.375,110229.4921875,34671.34375,73544.765625,51348.41796875,79945.625,85603.8359375,37074.359375,81149.2109375,52037.1953125,115898.3046875,60972.47265625,28606.81640625,48602.69921875,92852.8828125,89447.921875,32816.46484375,85929.3515625,78929.9375,50747.6484375,50737.625,71831.4296875,50726.8203125,46635.95703125,50105.609375,35438.08984375,41660.90234375,37363.57421875,76444.3515625,80571.4609375,34425.12109375,97537.0546875,31938.708984375,80117.234375,72248.2265625,53428.8046875,63132.15234375,45202.11328125,62587.1171875,61892.98046875,52243.88671875,48356.0234375,68778.6015625,42784.66796875,47820.87109375,45989.046875,46145.20703125,65242.47265625,33861.1328125,40857.63671875,55348.48828125,77600.453125,86940.2109375,68303.6171875,42731.90625,82599.640625,46786.12109375,59297.921875,54868.5,57389.35546875,34320.41015625,98229.140625,36704.90234375,44704.56640625,101501.0859375,99810.8046875,36953.0859375,95571.8203125,43363.484375,85347.78125,32771.62890625,38105.90625,35685.73046875,59270.22265625,62007.953125,42892.2578125,42764.4296875,33992.21875,44576.9765625,67252.625,37756.58984375,107363.5390625,84820.4765625,28607.13671875,93722.390625,90767.53125,136929.6875,91529.6171875,58916.73046875,59880.86328125,53757.234375,80161.984375,101992.8671875,64932.8359375,81092.609375,42167.203125,41507.75390625,90314.28125,58089.25390625,47942.4765625,80001.9921875,43749.97265625,71187.5859375,87312.25,79656.3359375,83995.5546875,42774.00390625,108999.2890625,44110.95703125,52295.3046875,34058.14453125,52434.0,95721.8046875,53552.09375,62760.00390625,67105.3984375,35535.8515625,63944.16015625,42728.17578125,77772.9453125,69601.0,83893.234375,66302.2890625,54716.5703125,52499.6796875,83933.1171875,22910.8203125,48218.59375,75018.2890625,66573.65625,41801.3984375,87101.6875,40398.51953125,54893.94921875,61360.046875,40956.44140625,55318.66796875,84579.546875,72502.1484375,91638.1484375,48628.30078125,78021.265625,28690.23046875,45702.05859375,60907.36328125,42849.04296875,112999.6015625,76076.3984375,55252.109375,53587.5234375,60218.265625,67223.3828125,53007.875,22411.55078125,42242.5546875,60045.40234375,50015.640625,33963.17578125,21566.056640625,66636.921875,42866.80078125,41006.77734375,65645.875,55875.7265625,39803.01171875,37491.36328125,22374.1953125,48575.05078125,97900.671875,36984.64453125,43606.07421875,103198.0078125,68580.4453125,47390.21484375,28758.658203125,84187.890625,95132.75,41367.6875,48832.6484375,44759.7890625,97983.9921875,92938.0,59116.34765625,34806.109375,51400.0234375,43216.83203125,49103.80078125,29147.501953125,42501.4296875,72026.859375,45898.2265625,21914.83984375,32756.037109375,45214.9140625,95218.4453125,46541.4375,39027.58203125,57611.515625,65978.640625,104578.6015625,99028.8515625,71672.0390625,62037.015625,54651.48046875,88637.8125,73322.6015625,42433.3125,40991.70703125,9838.5478515625,22988.046875,68716.7734375,60551.74609375,48952.7421875,73724.09375,56748.2265625,32962.66015625,68508.59375,69758.5625,37656.171875,34291.765625,95660.375,54711.2421875,50336.58984375,42204.4921875,47992.08984375,63548.9453125,115453.0234375,75549.640625,41378.47265625,88258.96875,52010.84765625,90264.8828125,91347.1796875,40762.69921875,49601.984375,60889.125,79605.3203125,50074.171875,71267.59375,60348.9921875,92086.5390625,80448.9765625,84343.5078125,68083.1171875,79383.421875,75093.71875,29855.34765625,59438.9296875,38163.015625,52441.66015625,75040.8203125,59534.0703125,59118.234375,44802.7734375,28945.66015625,49026.453125,24385.447265625,50685.9296875,46254.4921875,28515.232421875,50619.05859375,76053.765625,55428.6953125,51887.3828125,52437.859375,35227.16796875,46950.7109375,29172.61328125,87722.234375,79540.5078125,96100.1875,106954.0859375,79270.3203125,73064.84375,38997.7578125,48664.5625,70135.6953125,28767.421875,79668.484375,73268.9375,35927.5703125,38345.6875,31635.318359375,64817.13671875,53727.765625,59357.27734375,42068.0546875,110670.3359375,31555.078125,107592.7890625,87186.59375,63397.921875,22156.1796875,78533.828125,31813.376953125,21461.85546875,111757.7578125,44814.921875,68134.375,78181.3515625,37426.3203125,55420.5703125,34601.55859375,81611.203125,45352.01953125,25630.00390625,64383.0078125,49324.0703125,39346.19921875,41128.8359375,58018.5703125,65262.578125,87530.15625,68860.3125,70517.390625,68159.328125,48209.42578125,59694.125,63427.66796875,53379.53515625,49543.41796875,80159.8125,44382.8515625,68141.703125,44129.828125,61245.5390625,62912.49609375,78669.0859375,31364.923828125,83862.1953125,57526.6015625,87972.6328125,56743.47265625,83331.703125,65988.109375,45943.6484375,114947.4453125,80556.8359375,56138.30078125,76634.7578125,58435.390625,36389.75390625,53958.1796875,46913.22265625,67828.6171875,109148.953125,81791.4375,55582.47265625,63788.86328125,82642.515625,45724.37109375,53571.08984375,35637.05078125,48623.12109375,94227.2421875,60841.171875,71334.4609375,107581.703125,72696.9609375,28371.486328125,22961.126953125,97312.1015625,34704.703125,92496.3984375,38801.39453125,35959.5703125,38001.38671875,85806.1328125,7547.90478515625,36078.80078125,60411.34375,40092.79296875,36817.8125,83122.734375,93445.8828125,83202.875,47492.3828125,35802.984375,29890.033203125,47816.01953125,86270.796875,107930.1875,31352.560546875,51168.41015625,65495.27734375,92886.9609375,73360.1640625,68783.8125,49570.16796875,59348.93359375,41485.87109375,77415.1171875,37005.07421875,92705.8828125,57182.12890625,58886.265625,67289.125,66080.1875,85275.0546875,52684.0546875,71715.703125,31397.056640625,46682.09765625,61244.38671875,62993.9921875,33628.8359375,83676.5859375,101762.34375,34206.04296875,79921.2109375,31485.015625,147003.703125,80328.75,39145.6171875,56619.0859375,47393.80078125,63950.79296875,83335.265625,74233.0703125,86413.671875,52430.8984375,27921.970703125,58446.640625,84919.015625,62194.08984375,76189.1640625,30416.40625,108944.9609375,109931.4296875,39288.9609375,106599.359375,61197.3046875,55876.53125,29749.548828125,71702.0234375,66330.3046875,46589.44140625,34008.48046875,33651.859375,47135.2578125,56162.12109375,47039.2734375,48441.48828125,105994.4296875,36986.53515625,65868.1875,64281.08984375,39270.95703125,34893.015625,44239.01953125,32233.509765625,88826.234375,54274.90625,59547.15625,85928.1953125,39249.8046875,34140.71484375,94661.578125,41152.16015625,82433.5,63601.95703125,58217.76953125,62153.14453125,77728.7734375,51724.42578125,68710.9765625,95313.828125,95456.953125,41428.80078125,76635.75,63681.328125,63259.2578125,48353.40234375,42019.08203125,80516.6640625,100447.578125,30583.2734375,73548.5078125,49330.26171875,77651.859375,36185.23828125,68756.2265625,37750.75390625,76965.9453125,98895.0078125,75361.7734375,39978.3046875,60000.65234375,98372.4296875,87311.0859375,33383.9921875,40117.13671875,52899.55859375,86526.40625,67577.1875,24947.482421875,118301.7421875,28218.20703125,75947.2890625,52018.43359375,50911.2421875,102565.96875,30063.404296875,39477.765625,84064.5859375,46452.5546875,49572.9609375,94211.515625,34065.41015625,51873.11328125,94620.1875,43503.44921875,51806.6171875,48958.33203125,40501.15234375,93383.3515625,118594.2265625,69087.359375,66015.8359375,25496.6875,65109.61328125,96697.3515625,57013.20703125,82960.5703125,75856.1015625,60261.55859375,82140.1484375,46879.20703125,39960.4140625,99263.3125,28563.744140625,68746.359375,98137.7734375,49713.6015625,68605.515625,51123.9140625,57879.0234375,55952.234375,60017.8359375,45897.26171875,84833.703125,69730.46875,38495.5,78352.015625,94440.0859375,80214.0625,80245.765625,78888.0703125,85667.671875,127941.171875,21352.748046875,83893.671875,44147.73046875,47467.84765625,97991.34375,72575.296875,30518.462890625,44796.06640625,83759.8515625,34490.2109375,139175.890625,47587.24609375,54496.76171875,54944.58984375,88626.515625,38897.6875,47055.27734375,37492.671875,38326.6796875,68593.734375,39213.1015625,64369.01171875,99642.546875,53672.01953125,33708.84765625,23885.013671875,56178.37109375,40408.4296875,46507.2734375,23493.27734375,32561.615234375,70626.5546875,49124.6328125,40158.08203125,86970.0390625,94920.4140625,70897.5234375,124041.1328125,63487.9921875,91505.6796875,78913.171875,58834.5390625,50755.4296875,101421.2109375,53441.484375,49693.2578125,55936.20703125,68587.6796875,58927.87890625,68628.03125,117685.7109375,107287.6796875,48129.69140625,60164.984375,97096.15625,55023.19921875,61830.3984375,72955.9765625,45462.55859375,81977.3515625,68502.5859375,62384.84765625,86886.234375,76580.4140625,66029.96875,84816.3359375,89547.3046875,37675.12890625,81608.703125,56139.2421875,66036.578125,74247.203125,58151.14453125,35861.99609375,39362.06640625,53380.18359375,105087.21875,57206.0859375,88326.125,102204.5234375,42058.8984375,56816.0703125,130620.375,46858.47265625,32080.95703125,79163.046875,70856.890625,35190.33984375,55283.95703125,69738.71875,93456.7734375,106947.1328125,78221.09375,52820.01953125,85946.0625,58480.37109375,57646.7421875,68553.796875,37614.87109375,89152.609375,68343.71875,30463.568359375,69554.203125,54577.3828125,64285.01171875,91272.4375,81141.71875,60585.51171875,66382.578125,85686.1875,49058.1875,29218.498046875,64765.5625,73969.296875,76239.2109375,99599.890625,54469.26953125,63995.2890625,88931.796875,93944.3046875,32628.359375,84895.3203125,83103.5703125,61274.3203125,68277.0703125,36168.23828125,45286.25,81072.890625,22921.24609375,57030.28515625,59973.6640625,54487.61328125,35090.6015625,52828.2578125,84899.828125,57088.484375,48142.828125,115292.4609375,57398.9375,39496.23828125,118356.0625,31274.033203125,57261.15625,98467.2109375,81463.5546875,97231.4609375,47684.6640625,88162.0703125,39334.34765625,37828.8046875,54807.37890625,42280.51953125,33046.10546875,57114.96484375,52893.09375,45428.11328125,58573.62890625,102000.5859375,46967.90625,78470.53125,138605.46875,68919.7421875,32863.76953125,69899.046875,102769.3828125,76434.3671875,102415.84375,68971.625,53728.51953125,31625.474609375,99083.8359375,55886.29296875,26048.5390625,37745.78515625,101553.421875,47041.1796875,33458.6015625,62300.3671875,69728.25,31935.3828125,73716.25,34734.3046875,48092.88671875,68920.8046875,39393.56640625,37773.43359375,34630.609375,53642.28515625,25030.2265625,41249.828125,82437.5625,55365.94140625,60100.66796875,82782.0703125,62028.8515625,32881.03125,84837.4140625,41423.21875,36150.4375,94608.2265625,26081.609375,22031.17578125,75555.390625,49498.1640625,62921.3984375,43649.81640625,84158.984375,64523.3515625,68254.9375,84837.4140625,89652.53125,42146.6328125,47724.69140625,82492.9296875,48423.26171875,47117.359375,65515.921875,67013.9453125,101407.34375,46087.33984375,57985.8046875,37219.97265625,37529.859375,37008.2734375,58640.453125,70849.6171875,89632.765625,36261.36328125,63443.08203125,56644.30078125,56041.328125,43035.80859375,94227.875,67043.3125,51501.55859375,76236.8046875,38413.38671875,79882.171875,62609.4921875,32611.671875,58831.625,25912.837890625,43099.546875,60242.03515625,28885.00390625,80012.765625,42408.26171875,74086.609375,34666.0234375,85679.3828125,69665.125,43102.00390625,71192.8515625,86065.5234375,82259.8984375,33966.203125,65064.265625,13763.3662109375,96892.7890625,64870.5,31630.6875,78400.6640625,48731.94140625,106647.625,96258.1328125,47964.203125,65893.4765625,69147.2421875,46273.73828125,87252.5703125,22700.25390625,76300.7109375,32632.3125,61162.5546875,55766.2421875,70534.5078125,26252.333984375,37319.33984375,83923.484375,75910.6484375,72410.875,105394.09375,85094.7734375,55853.48046875,119961.3203125,60606.53515625,70055.3359375,93436.4609375,39691.546875,107089.5859375,58474.41015625,98629.8359375,56624.859375,39500.90625,41207.703125,39188.53515625,36823.2890625,106885.484375,85106.09375,44792.35546875,59153.59765625,86815.0546875,71381.9921875,33823.0,75610.7421875,83435.7578125,80596.2421875,56950.23828125,66292.96875,34243.1015625,54404.12109375,64047.515625,102518.234375,33304.44140625,75561.890625,121771.8984375,53665.46875,71391.2578125,36801.0,36804.19921875,63650.91796875,50481.828125,22662.318359375,42805.578125,37430.6015625,50956.69140625,77513.328125,38120.1015625,52937.3359375,77525.1875,34924.546875,56364.2890625,34420.99609375,43750.68359375,69266.484375,59343.33984375,68775.140625,80839.4609375,92004.984375,68266.1875,97386.7734375,83203.0625,68767.9921875,46479.0390625,57511.19921875,54746.0859375,37209.05859375,64581.5234375,44753.15234375,42749.8828125,40856.0625,141315.21875,98937.1875,71513.28125,18349.09765625,39710.44921875,55831.33203125,37596.44921875,64293.43359375,93194.0703125,25622.583984375,98875.609375,80411.8125,54697.5234375,56048.6640625,54100.5,49633.921875,29697.90625,79959.15625,48280.5390625,106233.9921875,51940.33203125,80047.4609375,56699.9765625,54056.79296875,43996.33984375,71880.5625,45787.4140625,95535.90625,47869.7265625,48037.3671875,52829.17578125,41042.69140625,30784.86328125,81303.9453125,41925.19921875,42205.37890625,70845.453125,54658.4375,43010.41015625,54109.84375,57084.5625,95236.234375,54853.3125,66418.0390625,72039.6796875,34951.90625,53022.55859375,34107.12890625,78481.3359375,36478.30078125,77980.5625,66506.8125,50459.31640625,35854.078125,45331.5,69829.875,60690.91015625,75246.6328125,66982.703125,112701.34375,80366.8828125,61003.453125,88044.9140625,107570.0859375,57742.65234375,65482.93359375,66815.3984375,36607.83203125,97276.375,85746.5,51039.1328125,92991.6328125,76976.7421875,106958.0,28309.771484375,91616.8046875,68644.5078125,96370.8828125,46698.60546875,51472.37109375,74638.25,38646.13671875,66137.8203125,48067.7109375,52133.93359375,78687.0859375,48762.23828125,69496.8046875,90167.1953125,112748.546875,64584.296875,49285.8125,98097.2890625,81451.4375,25189.677734375,64360.0390625,35646.390625,51493.0390625,41438.34765625,44783.375,43098.0703125,51509.3984375,99406.5234375,31970.115234375,51001.48046875,88742.453125,42532.28125,40679.53515625,74346.7109375,25432.76953125,36368.11328125,35608.50390625,25329.818359375,79650.3125,41187.89453125,94349.6484375,69790.9609375,49373.31640625,32455.62890625,33137.26171875,55863.23046875,85449.8125,24221.416015625,78019.4296875'"
      ]
     },
     "execution_count": 84,
     "metadata": {},
     "output_type": "execute_result"
    }
   ],
   "source": [
    "%%time\n",
    "from sagemaker.predictor import csv_serializer\n",
    "# 创建 predictor\n",
    "xgb_predictor=sagemaker.predictor.RealTimePredictor(\n",
    "endpoint_name = endpoint_na, # 这个名字就是上图中蓝⾊⽅框中endpoint的name\n",
    "sagemaker_session=sm_session,\n",
    "serializer=csv_serializer,\n",
    "content_type='csv')\n",
    "# 调⽤predictor的predict⽅法做推理\n",
    "# xgb_predictor.predict(X_valid.values[0]).decode('utf-8')\n",
    "xgb_predictor.predict(X_valid.values).decode('utf-8')"
   ]
  },
  {
   "cell_type": "code",
   "execution_count": 85,
   "metadata": {},
   "outputs": [
    {
     "name": "stderr",
     "output_type": "stream",
     "text": [
      "The endpoint attribute has been renamed in sagemaker>=2.\n",
      "See: https://sagemaker.readthedocs.io/en/stable/v2.html for details.\n"
     ]
    }
   ],
   "source": [
    "sagemaker.Session().delete_endpoint(xgb_predictor.endpoint)"
   ]
  },
  {
   "cell_type": "code",
   "execution_count": null,
   "metadata": {},
   "outputs": [],
   "source": []
  },
  {
   "cell_type": "code",
   "execution_count": null,
   "metadata": {},
   "outputs": [],
   "source": []
  }
 ],
 "metadata": {
  "kernelspec": {
   "display_name": "conda_python3",
   "language": "python",
   "name": "conda_python3"
  },
  "language_info": {
   "codemirror_mode": {
    "name": "ipython",
    "version": 3
   },
   "file_extension": ".py",
   "mimetype": "text/x-python",
   "name": "python",
   "nbconvert_exporter": "python",
   "pygments_lexer": "ipython3",
   "version": "3.6.10"
  }
 },
 "nbformat": 4,
 "nbformat_minor": 4
}
