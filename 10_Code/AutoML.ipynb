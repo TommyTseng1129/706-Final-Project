{
 "cells": [
  {
   "cell_type": "code",
   "execution_count": 70,
   "metadata": {},
   "outputs": [],
   "source": [
    "import time\n",
    "import boto3\n",
    "import sagemaker\n",
    "import urllib\n",
    "import os\n",
    "import pandas as pd\n",
    "from sklearn.model_selection import train_test_split"
   ]
  },
  {
   "cell_type": "code",
   "execution_count": 71,
   "metadata": {},
   "outputs": [
    {
     "name": "stdout",
     "output_type": "stream",
     "text": [
      "/home/ec2-user/SageMaker/706-Final-Project/10_Code\n"
     ]
    }
   ],
   "source": [
    "cwd = os.getcwd()\n",
    "print(cwd)"
   ]
  },
  {
   "cell_type": "code",
   "execution_count": 72,
   "metadata": {},
   "outputs": [
    {
     "name": "stdout",
     "output_type": "stream",
     "text": [
      "2020-11-23 21:22:16 elasticbeanstalk-us-east-1-774975782106\n",
      "2020-10-26 01:38:51 haidianhousing\n",
      "2020-10-28 02:20:59 housing-lab\n"
     ]
    }
   ],
   "source": [
    "!aws s3 ls"
   ]
  },
  {
   "cell_type": "code",
   "execution_count": 73,
   "metadata": {},
   "outputs": [
    {
     "name": "stdout",
     "output_type": "stream",
     "text": [
      "      Name                    Value             Type    Location\n",
      "      ----                    -----             ----    --------\n",
      "   profile                <not set>             None    None\n",
      "access_key     ****************GXOI         iam-role    \n",
      "secret_key     ****************DChV         iam-role    \n",
      "    region                us-east-1      config-file    ~/.aws/config\n"
     ]
    }
   ],
   "source": [
    "! aws configure list"
   ]
  },
  {
   "cell_type": "code",
   "execution_count": 74,
   "metadata": {},
   "outputs": [],
   "source": [
    "# Getting role\n",
    "role = sagemaker.get_execution_role()\n",
    "region = boto3.Session().region_name"
   ]
  },
  {
   "cell_type": "code",
   "execution_count": 75,
   "metadata": {},
   "outputs": [],
   "source": [
    "# One has to set up a S3 bucket before running the code below\n",
    "bucket = 'housing-lab'\n",
    "prefix = 'beijing-housing-data'"
   ]
  },
  {
   "cell_type": "code",
   "execution_count": 76,
   "metadata": {},
   "outputs": [],
   "source": [
    "X = pd.read_csv(\"/home/ec2-user/SageMaker/706-Final-Project/20_Cleaned_Data/prepared_data_tommy.csv\" )"
   ]
  },
  {
   "cell_type": "code",
   "execution_count": 77,
   "metadata": {},
   "outputs": [
    {
     "data": {
      "text/html": [
       "<div>\n",
       "<style scoped>\n",
       "    .dataframe tbody tr th:only-of-type {\n",
       "        vertical-align: middle;\n",
       "    }\n",
       "\n",
       "    .dataframe tbody tr th {\n",
       "        vertical-align: top;\n",
       "    }\n",
       "\n",
       "    .dataframe thead th {\n",
       "        text-align: right;\n",
       "    }\n",
       "</style>\n",
       "<table border=\"1\" class=\"dataframe\">\n",
       "  <thead>\n",
       "    <tr style=\"text-align: right;\">\n",
       "      <th></th>\n",
       "      <th>Price/Square Meter</th>\n",
       "      <th>Housing_ID</th>\n",
       "      <th>Community</th>\n",
       "      <th>Livable Area</th>\n",
       "      <th>Price</th>\n",
       "      <th>Year_Built</th>\n",
       "      <th>Facing_East</th>\n",
       "      <th>Facing_North</th>\n",
       "      <th>Facing_South</th>\n",
       "      <th>Facing_West</th>\n",
       "      <th>Decoration_Level</th>\n",
       "      <th>Floor_Level</th>\n",
       "      <th>Floor_Plan</th>\n",
       "    </tr>\n",
       "  </thead>\n",
       "  <tbody>\n",
       "    <tr>\n",
       "      <th>0</th>\n",
       "      <td>38544.0</td>\n",
       "      <td>1</td>\n",
       "      <td>中关村南大街甲3号 2室1厅 56.3平米</td>\n",
       "      <td>56.30</td>\n",
       "      <td>217.0</td>\n",
       "      <td>1965</td>\n",
       "      <td>0</td>\n",
       "      <td>0</td>\n",
       "      <td>1</td>\n",
       "      <td>0</td>\n",
       "      <td>1</td>\n",
       "      <td>2</td>\n",
       "      <td>1</td>\n",
       "    </tr>\n",
       "    <tr>\n",
       "      <th>1</th>\n",
       "      <td>33667.0</td>\n",
       "      <td>2</td>\n",
       "      <td>中关村南大街甲3号 2室1厅 55.1平米</td>\n",
       "      <td>55.10</td>\n",
       "      <td>185.5</td>\n",
       "      <td>1965</td>\n",
       "      <td>0</td>\n",
       "      <td>0</td>\n",
       "      <td>1</td>\n",
       "      <td>0</td>\n",
       "      <td>3</td>\n",
       "      <td>1</td>\n",
       "      <td>1</td>\n",
       "    </tr>\n",
       "    <tr>\n",
       "      <th>2</th>\n",
       "      <td>91429.0</td>\n",
       "      <td>3</td>\n",
       "      <td>民族大学南路19号院 2室1厅 70平米</td>\n",
       "      <td>70.00</td>\n",
       "      <td>640.0</td>\n",
       "      <td>1993</td>\n",
       "      <td>0</td>\n",
       "      <td>0</td>\n",
       "      <td>1</td>\n",
       "      <td>0</td>\n",
       "      <td>1</td>\n",
       "      <td>3</td>\n",
       "      <td>1</td>\n",
       "    </tr>\n",
       "    <tr>\n",
       "      <th>3</th>\n",
       "      <td>102752.0</td>\n",
       "      <td>4</td>\n",
       "      <td>民族大学南路19号院 2室1厅 98.49平米</td>\n",
       "      <td>98.49</td>\n",
       "      <td>1012.0</td>\n",
       "      <td>2000</td>\n",
       "      <td>0</td>\n",
       "      <td>0</td>\n",
       "      <td>1</td>\n",
       "      <td>0</td>\n",
       "      <td>1</td>\n",
       "      <td>4</td>\n",
       "      <td>1</td>\n",
       "    </tr>\n",
       "    <tr>\n",
       "      <th>4</th>\n",
       "      <td>98847.0</td>\n",
       "      <td>5</td>\n",
       "      <td>民族大学南路19号院 2室1厅 60.7平米</td>\n",
       "      <td>60.70</td>\n",
       "      <td>600.0</td>\n",
       "      <td>1991</td>\n",
       "      <td>0</td>\n",
       "      <td>0</td>\n",
       "      <td>1</td>\n",
       "      <td>0</td>\n",
       "      <td>3</td>\n",
       "      <td>4</td>\n",
       "      <td>1</td>\n",
       "    </tr>\n",
       "  </tbody>\n",
       "</table>\n",
       "</div>"
      ],
      "text/plain": [
       "   Price/Square Meter  Housing_ID                Community  Livable Area  \\\n",
       "0             38544.0           1    中关村南大街甲3号 2室1厅 56.3平米         56.30   \n",
       "1             33667.0           2    中关村南大街甲3号 2室1厅 55.1平米         55.10   \n",
       "2             91429.0           3     民族大学南路19号院 2室1厅 70平米         70.00   \n",
       "3            102752.0           4  民族大学南路19号院 2室1厅 98.49平米         98.49   \n",
       "4             98847.0           5   民族大学南路19号院 2室1厅 60.7平米         60.70   \n",
       "\n",
       "    Price  Year_Built  Facing_East  Facing_North  Facing_South  Facing_West  \\\n",
       "0   217.0        1965            0             0             1            0   \n",
       "1   185.5        1965            0             0             1            0   \n",
       "2   640.0        1993            0             0             1            0   \n",
       "3  1012.0        2000            0             0             1            0   \n",
       "4   600.0        1991            0             0             1            0   \n",
       "\n",
       "   Decoration_Level  Floor_Level  Floor_Plan  \n",
       "0                 1            2           1  \n",
       "1                 3            1           1  \n",
       "2                 1            3           1  \n",
       "3                 1            4           1  \n",
       "4                 3            4           1  "
      ]
     },
     "execution_count": 77,
     "metadata": {},
     "output_type": "execute_result"
    }
   ],
   "source": [
    "# Taking a look at the dataset\n",
    "X.head()"
   ]
  },
  {
   "cell_type": "code",
   "execution_count": 78,
   "metadata": {},
   "outputs": [],
   "source": [
    "# Extract the column Price/Square Meter from X\n",
    "y = X['Price/Square Meter']"
   ]
  },
  {
   "cell_type": "code",
   "execution_count": 79,
   "metadata": {},
   "outputs": [
    {
     "data": {
      "text/plain": [
       "0     38544.0\n",
       "1     33667.0\n",
       "2     91429.0\n",
       "3    102752.0\n",
       "4     98847.0\n",
       "Name: Price/Square Meter, dtype: float64"
      ]
     },
     "execution_count": 79,
     "metadata": {},
     "output_type": "execute_result"
    }
   ],
   "source": [
    "y.head()"
   ]
  },
  {
   "cell_type": "code",
   "execution_count": 80,
   "metadata": {},
   "outputs": [],
   "source": [
    "# Drop the column Price/Square Meter in X\n",
    "X.drop(['Price/Square Meter'], axis=1, inplace=True)"
   ]
  },
  {
   "cell_type": "code",
   "execution_count": 81,
   "metadata": {},
   "outputs": [
    {
     "data": {
      "text/html": [
       "<div>\n",
       "<style scoped>\n",
       "    .dataframe tbody tr th:only-of-type {\n",
       "        vertical-align: middle;\n",
       "    }\n",
       "\n",
       "    .dataframe tbody tr th {\n",
       "        vertical-align: top;\n",
       "    }\n",
       "\n",
       "    .dataframe thead th {\n",
       "        text-align: right;\n",
       "    }\n",
       "</style>\n",
       "<table border=\"1\" class=\"dataframe\">\n",
       "  <thead>\n",
       "    <tr style=\"text-align: right;\">\n",
       "      <th></th>\n",
       "      <th>Housing_ID</th>\n",
       "      <th>Community</th>\n",
       "      <th>Livable Area</th>\n",
       "      <th>Price</th>\n",
       "      <th>Year_Built</th>\n",
       "      <th>Facing_East</th>\n",
       "      <th>Facing_North</th>\n",
       "      <th>Facing_South</th>\n",
       "      <th>Facing_West</th>\n",
       "      <th>Decoration_Level</th>\n",
       "      <th>Floor_Level</th>\n",
       "      <th>Floor_Plan</th>\n",
       "    </tr>\n",
       "  </thead>\n",
       "  <tbody>\n",
       "    <tr>\n",
       "      <th>0</th>\n",
       "      <td>1</td>\n",
       "      <td>中关村南大街甲3号 2室1厅 56.3平米</td>\n",
       "      <td>56.30</td>\n",
       "      <td>217.0</td>\n",
       "      <td>1965</td>\n",
       "      <td>0</td>\n",
       "      <td>0</td>\n",
       "      <td>1</td>\n",
       "      <td>0</td>\n",
       "      <td>1</td>\n",
       "      <td>2</td>\n",
       "      <td>1</td>\n",
       "    </tr>\n",
       "    <tr>\n",
       "      <th>1</th>\n",
       "      <td>2</td>\n",
       "      <td>中关村南大街甲3号 2室1厅 55.1平米</td>\n",
       "      <td>55.10</td>\n",
       "      <td>185.5</td>\n",
       "      <td>1965</td>\n",
       "      <td>0</td>\n",
       "      <td>0</td>\n",
       "      <td>1</td>\n",
       "      <td>0</td>\n",
       "      <td>3</td>\n",
       "      <td>1</td>\n",
       "      <td>1</td>\n",
       "    </tr>\n",
       "    <tr>\n",
       "      <th>2</th>\n",
       "      <td>3</td>\n",
       "      <td>民族大学南路19号院 2室1厅 70平米</td>\n",
       "      <td>70.00</td>\n",
       "      <td>640.0</td>\n",
       "      <td>1993</td>\n",
       "      <td>0</td>\n",
       "      <td>0</td>\n",
       "      <td>1</td>\n",
       "      <td>0</td>\n",
       "      <td>1</td>\n",
       "      <td>3</td>\n",
       "      <td>1</td>\n",
       "    </tr>\n",
       "    <tr>\n",
       "      <th>3</th>\n",
       "      <td>4</td>\n",
       "      <td>民族大学南路19号院 2室1厅 98.49平米</td>\n",
       "      <td>98.49</td>\n",
       "      <td>1012.0</td>\n",
       "      <td>2000</td>\n",
       "      <td>0</td>\n",
       "      <td>0</td>\n",
       "      <td>1</td>\n",
       "      <td>0</td>\n",
       "      <td>1</td>\n",
       "      <td>4</td>\n",
       "      <td>1</td>\n",
       "    </tr>\n",
       "    <tr>\n",
       "      <th>4</th>\n",
       "      <td>5</td>\n",
       "      <td>民族大学南路19号院 2室1厅 60.7平米</td>\n",
       "      <td>60.70</td>\n",
       "      <td>600.0</td>\n",
       "      <td>1991</td>\n",
       "      <td>0</td>\n",
       "      <td>0</td>\n",
       "      <td>1</td>\n",
       "      <td>0</td>\n",
       "      <td>3</td>\n",
       "      <td>4</td>\n",
       "      <td>1</td>\n",
       "    </tr>\n",
       "  </tbody>\n",
       "</table>\n",
       "</div>"
      ],
      "text/plain": [
       "   Housing_ID                Community  Livable Area   Price  Year_Built  \\\n",
       "0           1    中关村南大街甲3号 2室1厅 56.3平米         56.30   217.0        1965   \n",
       "1           2    中关村南大街甲3号 2室1厅 55.1平米         55.10   185.5        1965   \n",
       "2           3     民族大学南路19号院 2室1厅 70平米         70.00   640.0        1993   \n",
       "3           4  民族大学南路19号院 2室1厅 98.49平米         98.49  1012.0        2000   \n",
       "4           5   民族大学南路19号院 2室1厅 60.7平米         60.70   600.0        1991   \n",
       "\n",
       "   Facing_East  Facing_North  Facing_South  Facing_West  Decoration_Level  \\\n",
       "0            0             0             1            0                 1   \n",
       "1            0             0             1            0                 3   \n",
       "2            0             0             1            0                 1   \n",
       "3            0             0             1            0                 1   \n",
       "4            0             0             1            0                 3   \n",
       "\n",
       "   Floor_Level  Floor_Plan  \n",
       "0            2           1  \n",
       "1            1           1  \n",
       "2            3           1  \n",
       "3            4           1  \n",
       "4            4           1  "
      ]
     },
     "execution_count": 81,
     "metadata": {},
     "output_type": "execute_result"
    }
   ],
   "source": [
    "X.head()"
   ]
  },
  {
   "cell_type": "code",
   "execution_count": 82,
   "metadata": {},
   "outputs": [],
   "source": [
    "# Splitting dataset into 4 subsets: X_train, X_valid, y_train, y_valid (We still have community name here)\n",
    "X_train_with_community, X_valid_with_community, y_train, y_valid = train_test_split(X, y, train_size=0.8, test_size=0.2, random_state=0)"
   ]
  },
  {
   "cell_type": "code",
   "execution_count": 83,
   "metadata": {},
   "outputs": [],
   "source": [
    "# Make a new X_train, y_train (without community name here)\n",
    "X_train = X_train_with_community.drop(columns = ['Community'])\n",
    "X_valid = X_valid_with_community.drop(columns = ['Community'])"
   ]
  },
  {
   "cell_type": "code",
   "execution_count": 84,
   "metadata": {},
   "outputs": [],
   "source": [
    "X_train_xgb= pd.concat([y_train,X_train], axis=1)\n",
    "X_train_xgb.to_csv('./X_train.csv',header=False,index=False)"
   ]
  },
  {
   "cell_type": "code",
   "execution_count": 85,
   "metadata": {},
   "outputs": [],
   "source": [
    "X_valid_xgb= pd.concat([y_valid,X_valid], axis=1)\n",
    "X_valid_xgb.to_csv('./X_valid.csv',header=False,index=False)"
   ]
  },
  {
   "cell_type": "code",
   "execution_count": 86,
   "metadata": {},
   "outputs": [],
   "source": [
    "X_valid_xgb_new= pd.concat([y_valid,X_valid_with_community], axis=1)"
   ]
  },
  {
   "cell_type": "code",
   "execution_count": 87,
   "metadata": {},
   "outputs": [
    {
     "data": {
      "text/plain": [
       "'s3://housing-lab/beijing-housing-data/X_valid.csv'"
      ]
     },
     "execution_count": 87,
     "metadata": {},
     "output_type": "execute_result"
    }
   ],
   "source": [
    "sm_session = sagemaker.Session()\n",
    "train_data_location = 's3://{}/{}/{}'.format(bucket, prefix, 'train')\n",
    "validation_data_location = 's3://{}/{}/{}'.format(bucket, prefix, 'validation')\n",
    "sm_session.upload_data('./X_train.csv',bucket,prefix)\n",
    "sm_session.upload_data('./X_valid.csv',bucket,prefix)"
   ]
  },
  {
   "cell_type": "code",
   "execution_count": 88,
   "metadata": {},
   "outputs": [
    {
     "name": "stderr",
     "output_type": "stream",
     "text": [
      "The method get_image_uri has been renamed in sagemaker>=2.\n",
      "See: https://sagemaker.readthedocs.io/en/stable/v2.html for details.\n"
     ]
    }
   ],
   "source": [
    "# Getting a container from Sagemaker\n",
    "from sagemaker.amazon.amazon_estimator import get_image_uri\n",
    "container = get_image_uri(region, 'xgboost', repo_version='0.90-2')"
   ]
  },
  {
   "cell_type": "code",
   "execution_count": 89,
   "metadata": {},
   "outputs": [],
   "source": [
    "# Setting hyperparameters\n",
    "hyperparameters = {\n",
    "\"max_depth\":\"5\",\n",
    "\"eta\":\"0.5\",\n",
    "\"early_stopping_rounds\":\"5\",\n",
    "\"eval_metric\":\"rmse\",\n",
    "\"num_round\":\"30\",\n",
    "\"objective\":\"reg:linear\"}"
   ]
  },
  {
   "cell_type": "code",
   "execution_count": 90,
   "metadata": {},
   "outputs": [],
   "source": [
    "# Specifying type of EC2 instance\n",
    "instance_type = 'ml.m5.xlarge'"
   ]
  },
  {
   "cell_type": "code",
   "execution_count": 91,
   "metadata": {},
   "outputs": [],
   "source": [
    "# Output directory for model\n",
    "output_path = 's3://{}/{}/output'.format(bucket, prefix)"
   ]
  },
  {
   "cell_type": "code",
   "execution_count": 92,
   "metadata": {},
   "outputs": [],
   "source": [
    "# Input data type\n",
    "content_type = \"csv\""
   ]
  },
  {
   "cell_type": "code",
   "execution_count": 93,
   "metadata": {},
   "outputs": [
    {
     "name": "stdout",
     "output_type": "stream",
     "text": [
      "Training job xgb-housing-2020-11-24-03-41-20\n"
     ]
    }
   ],
   "source": [
    "# Setting name for training job\n",
    "job_name = 'xgb-housing-' + time.strftime(\"%Y-%m-%d-%H-%M-%S\", time.gmtime())\n",
    "print(\"Training job\", job_name)"
   ]
  },
  {
   "cell_type": "code",
   "execution_count": 94,
   "metadata": {},
   "outputs": [],
   "source": [
    "# Use Managed Spot Training to lower training cost\n",
    "train_use_spot_instances = True\n",
    "train_max_run = 3600\n",
    "train_max_wait = 3600 if train_use_spot_instances else None\n",
    "checkpoint_s3_uri = ('s3://{}/{}/checkpoints/{}'.format(bucket, prefix,\n",
    "job_name)\n",
    "if train_use_spot_instances else None)"
   ]
  },
  {
   "cell_type": "code",
   "execution_count": 95,
   "metadata": {},
   "outputs": [
    {
     "name": "stderr",
     "output_type": "stream",
     "text": [
      "train_instance_count has been renamed in sagemaker>=2.\n",
      "See: https://sagemaker.readthedocs.io/en/stable/v2.html for details.\n",
      "train_instance_type has been renamed in sagemaker>=2.\n",
      "See: https://sagemaker.readthedocs.io/en/stable/v2.html for details.\n",
      "train_max_run has been renamed in sagemaker>=2.\n",
      "See: https://sagemaker.readthedocs.io/en/stable/v2.html for details.\n",
      "train_use_spot_instances has been renamed in sagemaker>=2.\n",
      "See: https://sagemaker.readthedocs.io/en/stable/v2.html for details.\n",
      "train_max_wait has been renamed in sagemaker>=2.\n",
      "See: https://sagemaker.readthedocs.io/en/stable/v2.html for details.\n",
      "train_volume_size has been renamed in sagemaker>=2.\n",
      "See: https://sagemaker.readthedocs.io/en/stable/v2.html for details.\n"
     ]
    }
   ],
   "source": [
    "# Initialize Estimators\n",
    "xgb = sagemaker.estimator.Estimator(container,\n",
    "role,\n",
    "hyperparameters=hyperparameters,\n",
    "train_instance_count=1,\n",
    "train_instance_type=instance_type,\n",
    "train_volume_size=5, # 5 GB\n",
    "output_path=output_path,\n",
    "sagemaker_session=sagemaker.Session(),\n",
    "train_use_spot_instances=train_use_spot_instances,\n",
    "train_max_run=train_max_run,\n",
    "train_max_wait=train_max_wait,\n",
    "checkpoint_s3_uri=checkpoint_s3_uri\n",
    ");"
   ]
  },
  {
   "cell_type": "code",
   "execution_count": 96,
   "metadata": {},
   "outputs": [
    {
     "name": "stderr",
     "output_type": "stream",
     "text": [
      "The class sagemaker.session.s3_input has been renamed in sagemaker>=2.\n",
      "See: https://sagemaker.readthedocs.io/en/stable/v2.html for details.\n",
      "The class sagemaker.session.s3_input has been renamed in sagemaker>=2.\n",
      "See: https://sagemaker.readthedocs.io/en/stable/v2.html for details.\n"
     ]
    }
   ],
   "source": [
    "# Configure the data channels\n",
    "train_data_location = 's3://{}/{}/{}'.format(bucket, prefix, 'X_train.csv')\n",
    "validation_data_location = 's3://{}/{}/{}'.format(bucket, prefix,\n",
    "'X_valid.csv')\n",
    "train_channel = sagemaker.session.s3_input(train_data_location,\n",
    "content_type='csv')\n",
    "valid_channel = sagemaker.session.s3_input(validation_data_location,\n",
    "content_type='csv')\n",
    "data_channels = {'train': train_channel, 'validation': valid_channel}"
   ]
  },
  {
   "cell_type": "code",
   "execution_count": 97,
   "metadata": {},
   "outputs": [
    {
     "name": "stdout",
     "output_type": "stream",
     "text": [
      "2020-11-24 03:41:24 Starting - Starting the training job...\n",
      "2020-11-24 03:41:26 Starting - Launching requested ML instances......\n",
      "2020-11-24 03:42:40 Starting - Preparing the instances for training...\n",
      "2020-11-24 03:43:23 Downloading - Downloading input data...\n",
      "2020-11-24 03:43:50 Training - Downloading the training image..\n",
      "2020-11-24 03:44:17 Uploading - Uploading generated training model\n",
      "2020-11-24 03:44:17 Completed - Training job completed\n",
      "\u001b[34mINFO:sagemaker-containers:Imported framework sagemaker_xgboost_container.training\u001b[0m\n",
      "\u001b[34mINFO:sagemaker-containers:Failed to parse hyperparameter eval_metric value rmse to Json.\u001b[0m\n",
      "\u001b[34mReturning the value itself\u001b[0m\n",
      "\u001b[34mINFO:sagemaker-containers:Failed to parse hyperparameter objective value reg:linear to Json.\u001b[0m\n",
      "\u001b[34mReturning the value itself\u001b[0m\n",
      "\u001b[34mINFO:sagemaker-containers:No GPUs detected (normal if no gpus installed)\u001b[0m\n",
      "\u001b[34mINFO:sagemaker_xgboost_container.training:Running XGBoost Sagemaker in algorithm mode\u001b[0m\n",
      "\u001b[34mINFO:root:Determined delimiter of CSV input is ','\u001b[0m\n",
      "\u001b[34mINFO:root:Determined delimiter of CSV input is ','\u001b[0m\n",
      "\u001b[34mINFO:root:Determined delimiter of CSV input is ','\u001b[0m\n",
      "\u001b[34m[03:44:06] 51908x11 matrix with 570988 entries loaded from /opt/ml/input/data/train?format=csv&label_column=0&delimiter=,\u001b[0m\n",
      "\u001b[34mINFO:root:Determined delimiter of CSV input is ','\u001b[0m\n",
      "\u001b[34m[03:44:06] 12978x11 matrix with 142758 entries loaded from /opt/ml/input/data/validation?format=csv&label_column=0&delimiter=,\u001b[0m\n",
      "\u001b[34mINFO:root:Single node training.\u001b[0m\n",
      "\u001b[34mINFO:root:Train matrix has 51908 rows\u001b[0m\n",
      "\u001b[34mINFO:root:Validation matrix has 12978 rows\u001b[0m\n",
      "\u001b[34m[03:44:06] WARNING: /workspace/src/objective/regression_obj.cu:152: reg:linear is now deprecated in favor of reg:squarederror.\u001b[0m\n",
      "\u001b[34m[0]#011train-rmse:33966.8#011validation-rmse:34207.6\u001b[0m\n",
      "\u001b[34m[1]#011train-rmse:17783.3#011validation-rmse:18038.5\u001b[0m\n",
      "\u001b[34m[2]#011train-rmse:9767.84#011validation-rmse:10032.9\u001b[0m\n",
      "\u001b[34m[3]#011train-rmse:5972.95#011validation-rmse:6325.5\u001b[0m\n",
      "\u001b[34m[4]#011train-rmse:4140.03#011validation-rmse:4446.95\u001b[0m\n",
      "\u001b[34m[5]#011train-rmse:3316.79#011validation-rmse:3604.04\u001b[0m\n",
      "\u001b[34m[6]#011train-rmse:3001.9#011validation-rmse:3213.22\u001b[0m\n",
      "\u001b[34m[7]#011train-rmse:2756.68#011validation-rmse:2954.59\u001b[0m\n",
      "\u001b[34m[8]#011train-rmse:2676.7#011validation-rmse:2854.4\u001b[0m\n",
      "\u001b[34m[9]#011train-rmse:2612.33#011validation-rmse:2789.47\u001b[0m\n",
      "\u001b[34m[10]#011train-rmse:2520.37#011validation-rmse:2705.9\u001b[0m\n",
      "\u001b[34m[11]#011train-rmse:2445.45#011validation-rmse:2618.25\u001b[0m\n",
      "\u001b[34m[12]#011train-rmse:2386.59#011validation-rmse:2557.56\u001b[0m\n",
      "\u001b[34m[13]#011train-rmse:2349.28#011validation-rmse:2520.87\u001b[0m\n",
      "\u001b[34m[14]#011train-rmse:2292.47#011validation-rmse:2458.64\u001b[0m\n",
      "\u001b[34m[15]#011train-rmse:2194.25#011validation-rmse:2360.09\u001b[0m\n",
      "\u001b[34m[16]#011train-rmse:2111.44#011validation-rmse:2280.97\u001b[0m\n",
      "\u001b[34m[17]#011train-rmse:2082.65#011validation-rmse:2248.58\u001b[0m\n",
      "\u001b[34m[18]#011train-rmse:2039.41#011validation-rmse:2196.47\u001b[0m\n",
      "\u001b[34m[19]#011train-rmse:1977.89#011validation-rmse:2142.44\u001b[0m\n",
      "\u001b[34m[20]#011train-rmse:1949.36#011validation-rmse:2111.89\u001b[0m\n",
      "\u001b[34m[21]#011train-rmse:1896.29#011validation-rmse:2070.13\u001b[0m\n",
      "\u001b[34m[22]#011train-rmse:1884.33#011validation-rmse:2060.81\u001b[0m\n",
      "\u001b[34m[23]#011train-rmse:1795.43#011validation-rmse:1980.45\u001b[0m\n",
      "\u001b[34m[24]#011train-rmse:1778.81#011validation-rmse:1955.72\u001b[0m\n",
      "\u001b[34m[25]#011train-rmse:1743.11#011validation-rmse:1923.56\u001b[0m\n",
      "\u001b[34m[26]#011train-rmse:1693.5#011validation-rmse:1875.31\u001b[0m\n",
      "\u001b[34m[27]#011train-rmse:1665.79#011validation-rmse:1850\u001b[0m\n",
      "\u001b[34m[28]#011train-rmse:1636.16#011validation-rmse:1818.69\u001b[0m\n",
      "\u001b[34m[29]#011train-rmse:1615.81#011validation-rmse:1800.99\u001b[0m\n",
      "Training seconds: 54\n",
      "Billable seconds: 25\n",
      "Managed Spot Training savings: 53.7%\n",
      "CPU times: user 397 ms, sys: 15.7 ms, total: 412 ms\n",
      "Wall time: 3min 13s\n"
     ]
    }
   ],
   "source": [
    "%%time\n",
    "# Use xgb.fit to train the regression model\n",
    "xgb.fit(inputs=data_channels, job_name=job_name, logs=True)"
   ]
  },
  {
   "cell_type": "code",
   "execution_count": 98,
   "metadata": {},
   "outputs": [
    {
     "name": "stdout",
     "output_type": "stream",
     "text": [
      ".......................................................................................................................................!\n",
      "!\n",
      "CPU times: user 725 ms, sys: 26.9 ms, total: 752 ms\n",
      "Wall time: 11min 23s\n"
     ]
    }
   ],
   "source": [
    "%%time\n",
    "from sagemaker.tuner import IntegerParameter, CategoricalParameter, ContinuousParameter, HyperparameterTuner\n",
    "\n",
    "hyperparameter_ranges = {'max_depth':IntegerParameter(1,10),\n",
    "                         'alpha': ContinuousParameter(0, 100),\n",
    "                         'min_child_weight': ContinuousParameter(1, 5),\n",
    "                         'eta': ContinuousParameter(0.2, 0.7),  \n",
    "                         'num_round': IntegerParameter(10,200)\n",
    "                         }\n",
    "\n",
    "objective_metric_name = 'validation:rmse'\n",
    "objective_type = 'Minimize'\n",
    "\n",
    "tuner = HyperparameterTuner(xgb,\n",
    "                            objective_metric_name,\n",
    "                            hyperparameter_ranges,\n",
    "                            max_jobs=6, # Set this to 10 or above depending upon budget & available time.\n",
    "                            max_parallel_jobs=2,\n",
    "                            objective_type=objective_type,\n",
    "                            early_stopping_type='Auto')\n",
    "\n",
    "tuner.fit(inputs=data_channels, include_cls_metadata=False)\n",
    "tuner.wait()"
   ]
  },
  {
   "cell_type": "code",
   "execution_count": 99,
   "metadata": {},
   "outputs": [
    {
     "name": "stdout",
     "output_type": "stream",
     "text": [
      "CPU times: user 20.6 ms, sys: 175 µs, total: 20.8 ms\n",
      "Wall time: 93.9 ms\n"
     ]
    },
    {
     "data": {
      "text/plain": [
       "'Completed'"
      ]
     },
     "execution_count": 99,
     "metadata": {},
     "output_type": "execute_result"
    }
   ],
   "source": [
    "%%time\n",
    "boto3.client('sagemaker').describe_hyper_parameter_tuning_job(\n",
    "    HyperParameterTuningJobName=tuner.latest_tuning_job.job_name)['HyperParameterTuningJobStatus']"
   ]
  },
  {
   "cell_type": "code",
   "execution_count": 100,
   "metadata": {},
   "outputs": [
    {
     "name": "stdout",
     "output_type": "stream",
     "text": [
      "CPU times: user 29.6 ms, sys: 0 ns, total: 29.6 ms\n",
      "Wall time: 95.3 ms\n"
     ]
    },
    {
     "data": {
      "text/html": [
       "<div>\n",
       "<style scoped>\n",
       "    .dataframe tbody tr th:only-of-type {\n",
       "        vertical-align: middle;\n",
       "    }\n",
       "\n",
       "    .dataframe tbody tr th {\n",
       "        vertical-align: top;\n",
       "    }\n",
       "\n",
       "    .dataframe thead th {\n",
       "        text-align: right;\n",
       "    }\n",
       "</style>\n",
       "<table border=\"1\" class=\"dataframe\">\n",
       "  <thead>\n",
       "    <tr style=\"text-align: right;\">\n",
       "      <th></th>\n",
       "      <th>alpha</th>\n",
       "      <th>eta</th>\n",
       "      <th>max_depth</th>\n",
       "      <th>min_child_weight</th>\n",
       "      <th>num_round</th>\n",
       "      <th>TrainingJobName</th>\n",
       "      <th>TrainingJobStatus</th>\n",
       "      <th>FinalObjectiveValue</th>\n",
       "      <th>TrainingStartTime</th>\n",
       "      <th>TrainingEndTime</th>\n",
       "      <th>TrainingElapsedTimeSeconds</th>\n",
       "    </tr>\n",
       "  </thead>\n",
       "  <tbody>\n",
       "    <tr>\n",
       "      <th>5</th>\n",
       "      <td>91.924830</td>\n",
       "      <td>0.540998</td>\n",
       "      <td>7.0</td>\n",
       "      <td>1.753762</td>\n",
       "      <td>40.0</td>\n",
       "      <td>sagemaker-xgboost-201124-0344-001-b8f6341e</td>\n",
       "      <td>Completed</td>\n",
       "      <td>1131.890015</td>\n",
       "      <td>2020-11-24 03:46:42+00:00</td>\n",
       "      <td>2020-11-24 03:47:33+00:00</td>\n",
       "      <td>51.0</td>\n",
       "    </tr>\n",
       "    <tr>\n",
       "      <th>1</th>\n",
       "      <td>86.870143</td>\n",
       "      <td>0.318224</td>\n",
       "      <td>6.0</td>\n",
       "      <td>1.346574</td>\n",
       "      <td>46.0</td>\n",
       "      <td>sagemaker-xgboost-201124-0344-005-fb293306</td>\n",
       "      <td>Completed</td>\n",
       "      <td>1168.939941</td>\n",
       "      <td>2020-11-24 03:53:43+00:00</td>\n",
       "      <td>2020-11-24 03:54:41+00:00</td>\n",
       "      <td>58.0</td>\n",
       "    </tr>\n",
       "    <tr>\n",
       "      <th>3</th>\n",
       "      <td>33.952662</td>\n",
       "      <td>0.357582</td>\n",
       "      <td>8.0</td>\n",
       "      <td>1.591125</td>\n",
       "      <td>14.0</td>\n",
       "      <td>sagemaker-xgboost-201124-0344-003-73bc6116</td>\n",
       "      <td>Completed</td>\n",
       "      <td>1169.819946</td>\n",
       "      <td>2020-11-24 03:50:29+00:00</td>\n",
       "      <td>2020-11-24 03:51:23+00:00</td>\n",
       "      <td>54.0</td>\n",
       "    </tr>\n",
       "    <tr>\n",
       "      <th>2</th>\n",
       "      <td>40.205714</td>\n",
       "      <td>0.421023</td>\n",
       "      <td>7.0</td>\n",
       "      <td>2.229997</td>\n",
       "      <td>25.0</td>\n",
       "      <td>sagemaker-xgboost-201124-0344-004-7d28e6c9</td>\n",
       "      <td>Completed</td>\n",
       "      <td>1230.189941</td>\n",
       "      <td>2020-11-24 03:50:19+00:00</td>\n",
       "      <td>2020-11-24 03:51:15+00:00</td>\n",
       "      <td>56.0</td>\n",
       "    </tr>\n",
       "    <tr>\n",
       "      <th>4</th>\n",
       "      <td>22.807334</td>\n",
       "      <td>0.544063</td>\n",
       "      <td>3.0</td>\n",
       "      <td>3.706866</td>\n",
       "      <td>188.0</td>\n",
       "      <td>sagemaker-xgboost-201124-0344-002-a90f2d18</td>\n",
       "      <td>Completed</td>\n",
       "      <td>1250.510010</td>\n",
       "      <td>2020-11-24 03:46:49+00:00</td>\n",
       "      <td>2020-11-24 03:47:45+00:00</td>\n",
       "      <td>56.0</td>\n",
       "    </tr>\n",
       "    <tr>\n",
       "      <th>0</th>\n",
       "      <td>86.867091</td>\n",
       "      <td>0.261803</td>\n",
       "      <td>5.0</td>\n",
       "      <td>1.283464</td>\n",
       "      <td>57.0</td>\n",
       "      <td>sagemaker-xgboost-201124-0344-006-01975a92</td>\n",
       "      <td>Completed</td>\n",
       "      <td>1345.630005</td>\n",
       "      <td>2020-11-24 03:54:20+00:00</td>\n",
       "      <td>2020-11-24 03:55:15+00:00</td>\n",
       "      <td>55.0</td>\n",
       "    </tr>\n",
       "  </tbody>\n",
       "</table>\n",
       "</div>"
      ],
      "text/plain": [
       "       alpha       eta  max_depth  min_child_weight  num_round  \\\n",
       "5  91.924830  0.540998        7.0          1.753762       40.0   \n",
       "1  86.870143  0.318224        6.0          1.346574       46.0   \n",
       "3  33.952662  0.357582        8.0          1.591125       14.0   \n",
       "2  40.205714  0.421023        7.0          2.229997       25.0   \n",
       "4  22.807334  0.544063        3.0          3.706866      188.0   \n",
       "0  86.867091  0.261803        5.0          1.283464       57.0   \n",
       "\n",
       "                              TrainingJobName TrainingJobStatus  \\\n",
       "5  sagemaker-xgboost-201124-0344-001-b8f6341e         Completed   \n",
       "1  sagemaker-xgboost-201124-0344-005-fb293306         Completed   \n",
       "3  sagemaker-xgboost-201124-0344-003-73bc6116         Completed   \n",
       "2  sagemaker-xgboost-201124-0344-004-7d28e6c9         Completed   \n",
       "4  sagemaker-xgboost-201124-0344-002-a90f2d18         Completed   \n",
       "0  sagemaker-xgboost-201124-0344-006-01975a92         Completed   \n",
       "\n",
       "   FinalObjectiveValue         TrainingStartTime           TrainingEndTime  \\\n",
       "5          1131.890015 2020-11-24 03:46:42+00:00 2020-11-24 03:47:33+00:00   \n",
       "1          1168.939941 2020-11-24 03:53:43+00:00 2020-11-24 03:54:41+00:00   \n",
       "3          1169.819946 2020-11-24 03:50:29+00:00 2020-11-24 03:51:23+00:00   \n",
       "2          1230.189941 2020-11-24 03:50:19+00:00 2020-11-24 03:51:15+00:00   \n",
       "4          1250.510010 2020-11-24 03:46:49+00:00 2020-11-24 03:47:45+00:00   \n",
       "0          1345.630005 2020-11-24 03:54:20+00:00 2020-11-24 03:55:15+00:00   \n",
       "\n",
       "   TrainingElapsedTimeSeconds  \n",
       "5                        51.0  \n",
       "1                        58.0  \n",
       "3                        54.0  \n",
       "2                        56.0  \n",
       "4                        56.0  \n",
       "0                        55.0  "
      ]
     },
     "execution_count": 100,
     "metadata": {},
     "output_type": "execute_result"
    }
   ],
   "source": [
    "%%time\n",
    "from pprint import pprint\n",
    "from sagemaker.analytics import HyperparameterTuningJobAnalytics\n",
    "\n",
    "tuner_analytics = HyperparameterTuningJobAnalytics(tuner.latest_tuning_job.name, sagemaker_session=sagemaker.Session())\n",
    "\n",
    "df_tuning_job_analytics = tuner_analytics.dataframe()\n",
    "\n",
    "# Sort the tuning job analytics by the final metrics value\n",
    "df_tuning_job_analytics.sort_values(\n",
    "    by=['FinalObjectiveValue'],\n",
    "    inplace=True,\n",
    "    ascending=False if tuner.objective_type == \"Maximize\" else True)\n",
    "\n",
    "# Show detailed analytics for the top 20 models\n",
    "df_tuning_job_analytics.head(20)"
   ]
  },
  {
   "cell_type": "code",
   "execution_count": 101,
   "metadata": {},
   "outputs": [],
   "source": [
    "attached_tuner = HyperparameterTuner.attach(tuner.latest_tuning_job.name, sagemaker_session=sagemaker.Session())\n",
    "best_training_job = attached_tuner.best_training_job()"
   ]
  },
  {
   "cell_type": "code",
   "execution_count": 102,
   "metadata": {},
   "outputs": [
    {
     "name": "stdout",
     "output_type": "stream",
     "text": [
      "\n",
      "2020-11-24 03:47:33 Starting - Preparing the instances for training\n",
      "2020-11-24 03:47:33 Downloading - Downloading input data\n",
      "2020-11-24 03:47:33 Training - Training image download completed. Training in progress.\n",
      "2020-11-24 03:47:33 Uploading - Uploading generated training model\n",
      "2020-11-24 03:47:33 Completed - Training job completed\n"
     ]
    }
   ],
   "source": [
    "from sagemaker.estimator import Estimator\n",
    "algo_estimator = Estimator.attach(best_training_job)\n",
    "\n",
    "best_algo_model = algo_estimator.create_model(env={'SAGEMAKER_DEFAULT_INVOCATIONS_ACCEPT':\"text/csv\"})"
   ]
  },
  {
   "cell_type": "code",
   "execution_count": 103,
   "metadata": {},
   "outputs": [
    {
     "name": "stdout",
     "output_type": "stream",
     "text": [
      "--------------!CPU times: user 231 ms, sys: 27.4 ms, total: 258 ms\n",
      "Wall time: 7min 3s\n"
     ]
    }
   ],
   "source": [
    "%%time\n",
    "# Model Deployment\n",
    "endpoint_na = 'my-endpoint2'\n",
    "xgb_predictor = best_algo_model.deploy(initial_instance_count=1,\n",
    "                         instance_type='ml.m5.xlarge',\n",
    "                         endpoint_name= endpoint_na )\n"
   ]
  },
  {
   "cell_type": "code",
   "execution_count": 104,
   "metadata": {},
   "outputs": [
    {
     "name": "stderr",
     "output_type": "stream",
     "text": [
      "The class RealTimePredictor has been renamed in sagemaker>=2.\n",
      "See: https://sagemaker.readthedocs.io/en/stable/v2.html for details.\n",
      "content_type is a no-op in sagemaker>=2.\n",
      "See: https://sagemaker.readthedocs.io/en/stable/v2.html for details.\n",
      "The csv_serializer has been renamed in sagemaker>=2.\n",
      "See: https://sagemaker.readthedocs.io/en/stable/v2.html for details.\n"
     ]
    },
    {
     "name": "stdout",
     "output_type": "stream",
     "text": [
      "CPU times: user 168 ms, sys: 4.39 ms, total: 172 ms\n",
      "Wall time: 628 ms\n"
     ]
    }
   ],
   "source": [
    "%%time\n",
    "from sagemaker.predictor import csv_serializer\n",
    "# Creating predictor\n",
    "xgb_predictor=sagemaker.predictor.RealTimePredictor(\n",
    "endpoint_name = endpoint_na, \n",
    "sagemaker_session=sm_session,\n",
    "serializer=csv_serializer,\n",
    "content_type='csv')\n",
    "# Leveraging the predictor to predict housing prices\n",
    "# xgb_predictor.predict(X_valid.values[0]).decode('utf-8')\n",
    "result = xgb_predictor.predict(X_valid.values).decode('utf-8')"
   ]
  },
  {
   "cell_type": "code",
   "execution_count": 105,
   "metadata": {},
   "outputs": [
    {
     "data": {
      "text/plain": [
       "'40435.62890625,83828.453125,56077.2421875,35877.9375,95684.1015625,37242.93359375,73451.28125,24694.037109375,54240.9453125,31313.63671875,92344.5234375,32079.23828125,56468.1015625,87152.0,52323.58984375,83536.2890625,86491.515625,48272.10546875,58593.40234375,93233.8515625,90318.78125,46922.36328125,95462.0859375,49542.9453125,53775.7578125,29406.265625,61475.09765625,51285.63671875,53081.0703125,77538.1015625,36887.8515625,63455.52734375,31241.39453125,37273.7734375,48625.1640625,44129.015625,58161.7734375,75143.5625,37522.4921875,75058.640625,96774.984375,40557.44140625,106604.0,74623.734375,40492.41015625,83302.734375,46007.54296875,49740.96875,61128.8828125,34991.40625,47825.16015625,50616.8984375,36097.140625,79817.4140625,73478.265625,77789.7578125,52463.2734375,57243.75390625,89832.140625,80338.6796875,44305.296875,31085.478515625,60054.5546875,61523.53125,72329.609375,67544.1875,41508.9921875,83080.9765625,57959.05859375,53497.86328125,34693.12109375,30715.181640625,49024.6875,67955.921875,60918.1328125,34528.13671875,54770.5078125,59196.9375,71975.90625,56264.43359375,69011.4296875,69340.3046875,55466.33203125,53211.01171875,24133.451171875,37064.15234375,59668.34375,47943.30078125,83220.1328125,39825.1796875,48278.42578125,84808.7578125,110272.34375,70373.7265625,55438.26171875,43004.59765625,84212.4921875,61761.83203125,77545.640625,88901.1640625,90919.234375,104453.4296875,58116.83984375,93857.3515625,37965.71875,77106.296875,47907.15234375,67489.640625,53469.55078125,73196.5625,82868.515625,36505.13671875,67492.7265625,61155.28515625,36174.3828125,53733.08984375,49681.453125,74042.015625,32663.02734375,52559.8203125,48323.97265625,31975.3125,58533.7109375,64135.6796875,85778.1328125,64948.68359375,81294.109375,17261.27734375,49826.8359375,105995.640625,83956.90625,72481.9453125,57437.31640625,51196.7265625,49895.46484375,17497.5,67647.5546875,90214.2734375,101926.8515625,46245.7109375,99301.625,39509.53125,63554.27734375,58860.54296875,107188.0703125,70235.6875,51216.87109375,51739.58984375,43199.7421875,35905.92578125,37021.5390625,48321.1015625,67343.578125,81402.953125,47028.7109375,22601.818359375,63995.4140625,27376.015625,35853.0078125,45784.03515625,140958.03125,49169.65234375,75444.140625,62582.359375,53690.3515625,49544.171875,52101.98046875,44690.5859375,84931.859375,28641.546875,47205.6171875,68045.109375,66333.8671875,80687.71875,42004.48828125,49161.63671875,52067.98046875,94794.2578125,89832.3984375,43412.296875,65679.0390625,64107.0625,96458.1796875,49997.88671875,60188.4140625,37870.5859375,90370.7421875,38202.0234375,29985.92578125,64973.1484375,87560.203125,51041.78125,51150.93359375,44563.4453125,84216.1484375,80853.9375,57955.8828125,53877.16015625,35484.484375,80538.2734375,77068.15625,48625.37890625,50959.04296875,63339.30078125,55890.45703125,59380.37109375,68269.3828125,51290.19140625,110306.9140625,97554.671875,88018.6484375,73451.28125,54856.05078125,50499.0703125,85888.5390625,59822.28515625,40446.6640625,77894.015625,33116.69921875,60853.84375,52260.8984375,66111.890625,45735.12890625,40945.9453125,57100.91015625,60354.703125,49500.52734375,86546.1640625,96401.6015625,79139.578125,104584.203125,91917.2734375,40555.9296875,46805.30078125,37748.83203125,56467.20703125,88161.1640625,50355.578125,70948.890625,43351.88671875,47670.69140625,47250.71484375,66284.21875,41535.04296875,92306.609375,90160.4296875,30682.291015625,88790.8671875,39139.10546875,34088.41015625,57501.0703125,21776.4921875,74099.0859375,54597.06640625,93261.453125,81968.1640625,40424.1484375,84356.09375,47021.5234375,33254.34375,58600.07421875,54337.99609375,75750.21875,52731.97265625,49587.76953125,57690.4296875,48335.1875,41038.1796875,47817.95703125,38330.90625,78269.2578125,91354.0546875,33343.79296875,67112.65625,66145.5703125,117822.5390625,45377.7734375,49913.09375,74094.0078125,67749.546875,38889.79296875,105940.5625,95641.78125,80032.0546875,53911.78125,41822.70703125,41620.4140625,75755.9453125,91495.1015625,80409.140625,70515.0859375,82280.859375,55162.36328125,79598.5625,49986.546875,52144.5625,116737.2734375,97323.921875,48253.0,79191.6953125,49770.55859375,103259.2421875,78903.8671875,36975.88671875,43353.93359375,33359.72265625,45650.86328125,48156.6953125,77501.9140625,54243.4453125,53775.7578125,91106.28125,89659.15625,57447.91015625,26113.447265625,31428.185546875,27928.189453125,88642.75,51715.75390625,81995.2734375,89749.6953125,52951.78515625,48861.703125,95184.8203125,48925.5390625,56331.875,69189.9453125,57928.11328125,79406.4453125,44621.3125,65742.25,102975.890625,92434.0703125,40046.640625,79904.8046875,42426.2265625,84006.46875,94456.6796875,74871.828125,78767.6015625,45252.453125,45479.1640625,49826.8359375,47933.1015625,69915.1328125,54616.1484375,69087.2734375,71840.375,116011.8359375,36674.61328125,70497.421875,24951.88671875,45506.62109375,114607.375,92706.4921875,48022.76171875,41908.921875,64443.71484375,72652.25,38607.953125,64839.18359375,30689.482421875,82544.4765625,85239.9921875,44658.359375,20748.0546875,39395.94921875,56704.8046875,77581.265625,52942.64453125,52019.91796875,86396.921875,25628.923828125,79996.09375,75573.109375,52463.2734375,52153.25,39558.42578125,57212.84375,34047.859375,69289.0234375,68363.0234375,76117.8984375,50624.33203125,38857.82421875,42076.16796875,72241.2421875,58153.73046875,36006.5078125,80196.578125,43953.296875,51186.03125,31748.974609375,47129.34765625,46558.83203125,51142.01171875,59245.4453125,93287.59375,81750.6328125,49045.06640625,56414.55078125,51574.23828125,113688.234375,82682.578125,46561.265625,60354.77734375,43940.1953125,79673.7890625,50402.9765625,44344.54296875,48040.0703125,58391.1953125,84837.3671875,69505.9765625,73484.6953125,36384.00390625,67901.9140625,38786.81640625,44913.54296875,45829.3828125,61050.4921875,44393.1484375,84584.765625,98627.609375,78827.4609375,90407.328125,44543.39453125,54096.59765625,84305.2265625,60196.26171875,35619.27734375,60922.4375,48110.60546875,38173.71484375,44074.83203125,57653.578125,24516.953125,26673.970703125,38537.13671875,35189.94921875,31611.037109375,80027.1484375,64799.30859375,73956.3203125,38298.30859375,49160.796875,87181.546875,37940.28125,138842.828125,33994.79296875,67501.5859375,36609.7890625,43672.68359375,37489.10546875,42241.63671875,30496.2265625,34565.4609375,50936.01953125,52246.6953125,38873.2734375,25946.79296875,18357.603515625,37972.3125,93841.140625,72685.578125,36415.6015625,27048.330078125,36366.42578125,54841.80078125,41738.3203125,72887.609375,57097.09375,66110.4921875,31003.423828125,25668.57421875,78615.7109375,40429.5234375,46547.1328125,32209.212890625,59431.19140625,63548.8671875,43235.11328125,47393.671875,31328.61328125,82993.5546875,79982.8984375,79170.1953125,57824.07421875,95036.1484375,43528.2265625,41283.9921875,127177.765625,60710.5,74281.6171875,82605.03125,47982.64453125,45066.6328125,104837.9453125,46857.16796875,34666.5,45748.875,82787.640625,81741.453125,36595.16796875,35584.296875,54469.2578125,66386.859375,67465.828125,55909.06640625,67177.71875,97817.125,54840.4453125,49815.28515625,49377.546875,83767.2578125,44147.265625,65676.5546875,35877.30859375,70722.0859375,23347.1015625,71864.3671875,70154.5546875,55276.2578125,72873.671875,61644.765625,84374.5078125,27137.5625,40024.49609375,43262.4375,45368.7109375,42636.91015625,42059.53125,55462.515625,41342.9296875,61127.71484375,74360.1015625,76470.4375,48793.83984375,41374.90625,23980.55859375,64356.99609375,26512.869140625,57756.78515625,61742.55859375,40435.66015625,23757.7578125,53381.1015625,94895.84375,42218.640625,35886.1640625,49286.19921875,35387.21875,85227.015625,118690.6328125,82054.046875,63723.19921875,35598.70703125,76764.78125,106986.4453125,52222.61328125,59479.72265625,76938.5078125,37468.265625,70061.296875,58257.80859375,69551.0,129968.0390625,59035.6171875,70737.5703125,81491.1953125,90674.390625,48841.6015625,60701.5390625,70117.578125,73465.1484375,83843.3046875,72707.609375,65733.5078125,66448.3671875,77470.0546875,105532.90625,39441.40625,57527.83203125,67881.7265625,108474.0546875,92414.9765625,36626.51171875,62797.4921875,79365.859375,73468.3671875,50038.4765625,52016.046875,46790.89453125,44417.36328125,85413.7734375,65625.8671875,73249.6015625,94816.46875,65294.359375,57430.84765625,73472.828125,73482.09375,42261.2421875,73215.734375,107430.671875,65924.8828125,25557.876953125,92271.6796875,60460.88671875,69003.703125,58889.16015625,124997.6796875,98367.046875,78982.4609375,25643.970703125,64796.45703125,31538.791015625,57470.59765625,48317.7421875,81232.296875,81395.0,70606.6328125,59166.08984375,41332.28515625,47867.0390625,30922.12109375,34219.875,63617.859375,100081.09375,70895.5546875,67501.25,81980.1171875,73349.5390625,103097.625,51883.796875,46052.6875,34548.3125,63027.01953125,86665.328125,42887.54296875,85931.2109375,58694.17578125,45246.37109375,50885.77734375,50151.953125,54183.14453125,46089.31640625,77808.90625,86274.3671875,107103.046875,61493.6796875,57484.58984375,118583.84375,55509.4375,34032.4140625,58131.3984375,23393.521484375,50947.6015625,53241.41796875,61411.1953125,55925.87109375,91953.0546875,75301.625,83168.9140625,106019.1796875,20617.5078125,79185.046875,68219.2421875,42383.2734375,29244.4453125,91510.2734375,75410.5,57276.91015625,57087.3671875,62055.17578125,16693.158203125,39004.1015625,47152.90234375,36752.3828125,61391.04296875,60471.57421875,49735.69140625,27388.162109375,33811.953125,41724.1953125,47983.09765625,73522.9453125,49439.1015625,22072.783203125,47981.9921875,21702.12109375,39908.9765625,44209.453125,68335.75,93618.859375,105943.1328125,82830.7578125,20819.96484375,57404.9609375,60810.9609375,49867.484375,54194.08984375,40297.92578125,49538.21875,35307.14453125,92092.1640625,48168.2890625,29419.958984375,46167.92578125,90260.515625,45774.5390625,58699.546875,33641.09765625,20122.927734375,63423.55859375,83947.8359375,48569.4296875,84349.6953125,58656.98828125,55714.57421875,53035.5390625,55616.84765625,51963.21484375,50947.6015625,48528.13671875,60264.0,27979.138671875,34520.7421875,51644.74609375,110803.78125,49905.20703125,64102.828125,25478.697265625,46917.6953125,88371.28125,132242.421875,71515.4453125,78196.8359375,50073.953125,40304.734375,45346.72265625,89942.3203125,39718.9140625,57291.17578125,82563.7578125,58945.2421875,52193.3984375,54454.84765625,78302.4765625,27727.21484375,37926.5546875,87951.9296875,89450.0703125,63292.609375,91862.203125,122155.7265625,63842.140625,128538.40625,102135.359375,75508.4296875,48694.23828125,42101.2421875,51670.28125,107355.203125,70308.71875,22014.59375,76806.2734375,34431.484375,50572.625,38478.859375,105503.75,67168.9765625,54053.19140625,36955.9140625,100890.46875,121486.453125,68623.4140625,46683.4453125,44131.88671875,112223.0,41635.4609375,41913.80859375,50486.421875,32524.474609375,30564.05859375,71669.65625,34662.93359375,85996.703125,53225.2109375,31390.927734375,31954.8984375,63663.91015625,73442.5390625,46732.19140625,39632.61328125,76885.109375,64179.30859375,95708.03125,51577.609375,95047.15625,40786.98828125,40258.16015625,83591.53125,32576.6796875,92225.59375,10636.236328125,35330.1796875,69481.0859375,68046.4296875,105895.9609375,95921.390625,66416.7109375,102491.359375,97781.234375,45673.8046875,73135.75,55857.30078125,42904.484375,75684.2421875,102866.4140625,90728.171875,53173.19921875,43911.8203125,61790.84765625,80775.3046875,95609.1171875,56455.8046875,82874.9453125,72470.609375,65351.64453125,45416.8671875,47803.2421875,62815.5703125,42663.24609375,62284.3828125,75502.4765625,91322.40625,67810.7265625,95278.9296875,86169.2734375,73101.375,88514.8125,76377.328125,60370.3984375,80998.1953125,50634.1953125,61471.9296875,63486.05859375,37839.65625,50448.23828125,89045.578125,46841.0078125,91097.4921875,89509.8359375,59926.1171875,36340.8984375,24720.134765625,37343.5078125,38653.18359375,44087.61328125,43911.8203125,31388.34375,32202.443359375,92788.0078125,70796.7109375,53492.80078125,79655.5390625,117222.5859375,82774.6328125,45295.27734375,51926.640625,101485.3671875,87764.4921875,94875.0859375,42789.37890625,50642.55078125,17171.955078125,42409.015625,36603.9765625,83603.8125,103552.5703125,49756.73046875,70747.203125,83402.0703125,84424.6328125,41774.3515625,75746.3046875,55383.1640625,57737.8515625,49927.71484375,41171.71484375,75707.15625,42418.69921875,78338.796875,78879.4609375,33450.08203125,40010.85546875,87699.328125,63486.765625,57854.8515625,65220.828125,89957.171875,64430.09765625,37359.484375,90845.859375,63001.7578125,74811.96875,88644.734375,36755.62109375,47221.2890625,41233.9375,32176.783203125,53398.14453125,29417.69921875,49950.92578125,95130.1640625,65597.375,47767.1171875,45645.40625,57951.36328125,67196.328125,52244.91796875,64070.95703125,47707.1484375,39931.9921875,45059.1953125,70225.046875,94038.390625,92727.6171875,49276.67578125,69085.265625,44765.7734375,33579.4765625,64060.78125,43275.703125,74689.609375,36600.95703125,69518.9296875,69631.8359375,60230.33984375,48335.1875,41543.72265625,65439.27734375,32046.138671875,45651.5703125,61493.77734375,109580.0390625,24096.224609375,57653.578125,50417.82421875,57443.37109375,42877.4453125,59866.11328125,87628.234375,71157.4375,51776.5,42694.53125,66066.140625,83202.421875,46866.1796875,90206.203125,35089.1015625,67779.8203125,84852.21875,57016.8828125,31613.5078125,61502.09765625,67780.0703125,49976.8671875,57725.8125,91438.1171875,71268.0703125,96141.296875,20896.935546875,49681.453125,80079.3828125,80907.8203125,69995.796875,48675.3125,60446.1796875,65921.5078125,66508.8984375,60861.78125,44225.80078125,24483.55859375,52255.73828125,39536.484375,47837.73046875,90191.609375,71438.109375,76587.2265625,101296.8671875,47179.42578125,84332.265625,75320.875,79038.828125,62810.43359375,59417.58203125,106410.2890625,63774.06640625,70617.90625,99056.1875,95848.2578125,47848.41015625,111168.0625,122462.9296875,35972.515625,27005.369140625,39167.734375,82557.84375,95355.3828125,63006.703125,53563.43359375,49644.9296875,54345.90234375,39337.42578125,50088.890625,68825.0234375,61009.921875,70609.421875,39099.66796875,42318.23046875,97333.25,40421.609375,67542.265625,49214.8984375,90575.109375,46011.859375,42311.48828125,74749.1796875,68505.1171875,97628.328125,70557.5625,52409.4453125,78988.4921875,71112.8828125,57162.21484375,46235.875,37261.86328125,52191.84375,65054.98828125,59143.8828125,60392.44921875,85630.7109375,36335.3125,109199.6875,35521.85546875,88262.1953125,69410.4375,64384.56640625,33222.90234375,86096.765625,54258.55859375,53392.81640625,36928.34375,89975.4921875,41093.671875,64353.5390625,78184.421875,31836.65234375,26352.33203125,70013.875,59815.37890625,66584.234375,35521.85546875,43121.88671875,52026.09375,33158.9140625,84706.9765625,96215.8359375,38300.58203125,45544.671875,40559.875,125329.5078125,89045.578125,105591.1484375,47839.46875,52577.33203125,82200.3828125,38483.74609375,84968.328125,64849.37109375,57352.5,78725.1640625,87676.171875,48517.31640625,50278.99609375,50904.5078125,49536.68359375,82907.765625,31429.12890625,41822.46875,24131.595703125,73492.125,90689.75,26224.3125,69006.21875,52825.8984375,72057.625,63599.1796875,86559.0625,39734.1796875,111915.6328125,50120.9375,120620.8828125,52742.19140625,75366.0546875,107185.3046875,61286.1875,35447.1484375,31103.91796875,86487.8046875,66017.8671875,23552.712890625,54519.78515625,62371.02734375,40207.48046875,46554.3125,92963.1875,48071.5703125,70613.8515625,50542.015625,42070.5859375,38252.99609375,73049.5078125,48068.890625,87054.9296875,80353.109375,48011.41796875,78447.0625,90043.53125,64017.515625,40198.9453125,41363.8984375,21349.376953125,43146.8828125,115375.484375,79809.28125,69475.359375,82790.3046875,17237.974609375,2842.650634765625,92434.0703125,48362.3359375,58993.04296875,63261.546875,57433.09375,90096.7265625,43861.87890625,77557.0390625,49360.21484375,57400.2265625,23281.6796875,49775.71484375,92670.0546875,86010.890625,131183.984375,49925.65234375,78399.0234375,44380.34375,72767.28125,41788.734375,135565.21875,98517.8671875,41054.02734375,92880.484375,65023.39453125,125676.1875,66691.515625,25677.5859375,55110.3359375,36733.58203125,53862.8203125,57459.46484375,61174.09765625,91338.3359375,92953.4609375,45593.5390625,51126.5703125,88991.0859375,99319.078125,36793.8125,82357.1328125,95730.453125,60323.5625,41885.8515625,67340.0078125,70750.5390625,81345.8984375,51065.640625,56323.5078125,36650.8828125,82578.609375,48626.84765625,34947.38671875,95326.421875,62349.82421875,70374.7890625,39467.19140625,37887.671875,78909.7421875,74219.5625,54274.64453125,59400.3671875,59958.15625,101081.1953125,96337.7734375,85079.7421875,64816.66796875,109848.296875,43216.23046875,81796.1171875,84616.2734375,36762.19921875,37134.2265625,73017.890625,69019.328125,90816.59375,71015.734375,28901.712890625,32770.27734375,51408.62109375,58162.8046875,72144.984375,47623.03125,50818.65625,64111.015625,46773.09375,89013.3515625,45260.671875,131299.21875,46458.05078125,70421.6328125,47963.52734375,107637.21875,54795.79296875,74556.5625,97337.140625,38247.12109375,94367.6015625,71661.671875,88634.890625,59164.1953125,41408.921875,72448.4609375,67821.609375,98909.7734375,41402.4765625,50707.46484375,38419.86328125,31859.580078125,50791.47265625,79920.7265625,54303.4296875,52200.2265625,85354.53125,60913.33203125,103031.6796875,56104.8125,35052.26953125,77168.3046875,81895.796875,56413.30078125,64973.1484375,76856.5,27427.048828125,29025.88671875,70679.2734375,68552.875,60174.44921875,83413.5703125,55671.99609375,84861.5625,57575.11328125,87921.1015625,33348.171875,78184.421875,107911.53125,58885.41796875,77009.515625,100730.59375,87699.765625,50998.4140625,48077.93359375,54219.16015625,77849.21875,80958.453125,48583.609375,31632.693359375,63742.07421875,101891.609375,77533.7890625,74304.6015625,74309.71875,43659.64453125,43723.59375,54195.890625,41264.26171875,72346.5703125,34138.7890625,53973.12109375,61288.0390625,86417.3515625,42662.421875,63453.7265625,49678.83984375,57415.1640625,40331.01171875,64550.4609375,38604.86328125,47927.33984375,64033.2109375,70416.09375,42476.2734375,57116.98046875,46977.11328125,78835.4921875,77267.078125,41418.18359375,54840.4453125,73196.5625,56156.6328125,20542.87109375,109387.1796875,46806.28515625,83398.71875,86907.40625,63058.984375,77408.6953125,51212.5234375,92569.3125,69380.96875,36844.0,30127.634765625,84347.9296875,75902.9140625,32166.62890625,48088.96484375,64281.359375,67043.515625,68413.3203125,81454.3359375,44821.0546875,66884.0859375,71436.0078125,92656.59375,54150.91015625,49249.140625,105036.21875,66640.296875,84766.3671875,115018.6875,66485.6484375,56730.58203125,52662.83984375,120062.46875,22807.5703125,29586.625,37377.71484375,103496.609375,66272.7578125,81856.890625,28142.80859375,67041.046875,77645.5703125,69850.8984375,52618.2265625,29979.33984375,60589.25,57678.24609375,41817.15625,52391.37890625,37115.88671875,94708.40625,62097.35546875,93023.359375,89476.25,85233.9765625,85739.8671875,70086.21875,57451.265625,41219.48828125,86043.546875,84491.9609375,85846.59375,73495.421875,33169.51953125,48455.23046875,55060.21875,96265.6015625,55429.1796875,64066.57421875,60471.57421875,80754.0,77289.0859375,50533.7265625,87681.9140625,60537.921875,37399.7578125,43949.69921875,56767.80859375,49723.84765625,12917.5771484375,81082.75,36218.37109375,91600.1640625,43798.62890625,33270.94921875,49659.390625,60206.328125,74827.703125,109042.25,39111.77734375,45282.4921875,54210.30859375,68417.40625,36179.93359375,65034.02734375,107667.3046875,42533.92578125,66344.4609375,57368.15625,83996.171875,113650.6171875,25930.55859375,50475.3046875,54543.171875,55937.37890625,50669.90234375,40922.6953125,97889.3828125,73753.625,44989.8203125,54334.953125,67596.546875,37643.203125,71188.8515625,64438.68359375,74184.4140625,53984.7109375,50573.06640625,89408.046875,49014.34765625,85458.1796875,33222.265625,86351.671875,81012.234375,64242.9765625,55058.5703125,36785.44921875,95149.2109375,41673.72265625,82064.78125,76933.921875,67455.8359375,62271.015625,41766.10546875,53878.9453125,43189.671875,61679.5,81921.34375,50164.609375,41368.265625,50835.23828125,78630.4296875,116988.40625,69340.3046875,79992.2578125,50120.9375,31228.087890625,70506.9765625,40950.97265625,69317.8515625,65780.0,61573.109375,93576.328125,49817.11328125,65868.9140625,88475.796875,38166.11328125,66485.96875,62466.9609375,105456.8203125,105417.984375,77004.0234375,68825.0234375,20615.767578125,36540.61328125,60928.3359375,84186.3984375,55090.76171875,67945.890625,46804.4921875,34262.71875,45083.59765625,89773.4609375,39884.25390625,59982.33203125,70414.8671875,73403.3046875,42180.02734375,82431.8203125,88487.484375,89488.28125,35438.12109375,44708.84375,40925.06640625,74364.078125,42660.57421875,87408.46875,43929.40234375,75715.640625,27745.025390625,63681.3046875,89560.203125,52473.26171875,59765.7578125,82763.4453125,40095.81640625,90271.2109375,39680.5546875,70627.0546875,49033.640625,37927.03515625,54279.6484375,51172.96484375,112184.5859375,60669.4453125,46172.2734375,67822.75,59796.25,69366.3359375,43472.11328125,45770.98828125,92429.4375,36938.69921875,97875.7734375,34901.53125,86954.9140625,40082.828125,58696.109375,68365.4375,49702.08984375,34316.671875,44188.1875,42352.31640625,53211.01171875,73172.734375,90266.921875,28005.279296875,53247.7578125,76957.171875,36705.20703125,33526.10546875,79956.2578125,60518.171875,66066.140625,81966.765625,45083.59765625,92413.5703125,26112.7421875,45911.2109375,70557.5625,46948.49609375,71775.9453125,37898.15625,69034.9921875,74011.3046875,111628.0546875,59118.59765625,50673.9140625,56829.953125,93281.515625,26288.646484375,71131.1875,85781.4453125,82907.765625,33044.3828125,31894.28515625,34936.625,97985.0390625,58148.58984375,97239.59375,34365.54296875,53818.1953125,89720.2734375,25141.484375,25814.146484375,65820.4453125,67988.5546875,85176.7578125,68100.328125,58345.9453125,122522.125,54357.3828125,63525.66015625,87566.796875,97253.796875,64830.41015625,36336.359375,87258.2734375,37725.58203125,61153.1796875,95966.3984375,36705.20703125,31961.83984375,56822.3828125,36429.6328125,94849.53125,83107.359375,44625.8515625,69132.7890625,32353.431640625,50678.84765625,56352.55859375,68395.8359375,37485.19921875,45350.9140625,26976.751953125,48915.1640625,64070.95703125,77076.921875,74444.890625,64561.36328125,73661.34375,56378.95703125,70826.0625,42350.1171875,33924.12109375,45448.94140625,84219.03125,50417.82421875,93328.96875,79929.375,55943.421875,42275.703125,73274.125,43919.07421875,73860.09375,76266.15625,82793.796875,46205.8984375,81285.1328125,95088.5234375,83988.9140625,46874.9921875,28896.66796875,36616.80859375,42791.97265625,85056.8046875,66967.7890625,91282.9453125,57859.05078125,108338.5234375,91540.9296875,42823.2421875,73308.265625,32750.6875,67721.3515625,35623.19921875,42503.15234375,33772.98046875,29663.669921875,105613.4921875,34030.5234375,57555.62890625,53994.03515625,95072.6953125,41247.87890625,44713.34765625,95981.25,53511.41796875,36055.3984375,38607.953125,99183.4375,50763.41015625,55467.0546875,50611.953125,66779.6875,34642.30078125,37042.99609375,73634.2734375,38443.6953125,70349.125,85430.828125,28887.44921875,61106.484375,76195.3203125,28447.70703125,43186.421875,59862.70703125,99302.09375,40215.6484375,108540.921875,59666.52734375,66695.1640625,34138.7890625,69669.7734375,43067.7109375,79109.390625,67407.328125,37808.46484375,78188.4375,51765.2109375,106622.359375,91245.765625,66621.5078125,37135.6328125,97576.71875,87982.4765625,58519.8828125,97662.3203125,38953.28125,88001.3671875,19784.88671875,29193.005859375,59837.13671875,49296.42578125,57331.3828125,67463.609375,70153.203125,21610.271484375,68381.953125,88236.9296875,45916.796875,89641.6640625,73480.3828125,42873.4296875,51274.46875,42578.40234375,88581.65625,35832.40234375,57161.73046875,27310.85546875,54898.13671875,77901.7734375,53260.05859375,59801.09765625,56522.55078125,99896.296875,39346.40625,26012.53515625,85499.9453125,83079.296875,58134.203125,100561.6484375,67280.625,79694.5078125,66214.2734375,81391.3203125,78735.328125,82557.1484375,28828.634765625,118782.859375,54386.234375,86695.5234375,38574.796875,97538.265625,33841.8828125,46839.75390625,88815.0390625,64844.37890625,61918.5390625,46640.1796875,52789.37109375,57736.9609375,50536.10546875,47839.46875,31038.880859375,48653.78125,99431.515625,47754.89453125,57107.9765625,38530.52734375,82749.0703125,60274.3203125,43132.796875,98416.4765625,71396.6484375,87477.8359375,86514.8359375,41262.296875,36955.3359375,53523.52734375,93671.921875,58569.9609375,85494.5234375,53955.8515625,63461.7578125,87665.921875,60252.5390625,70484.953125,46489.8125,34105.2421875,63339.30078125,33776.58203125,124069.921875,69074.9609375,48195.953125,49257.18359375,73327.265625,33134.59375,121690.8359375,86680.671875,39319.56640625,48062.3203125,62468.25,49249.140625,66083.46875,52736.171875,74523.6171875,69018.0078125,70612.296875,50143.16015625,29979.33984375,59032.51171875,37329.1953125,53315.875,46235.875,48330.92578125,75405.9375,63298.47265625,58113.375,75779.7109375,65059.484375,55266.0390625,35174.79296875,85928.1640625,76184.1796875,66357.4375,43654.6015625,108077.4140625,49852.58203125,110777.96875,60434.3515625,39101.5234375,23411.060546875,45709.48046875,53645.98046875,35561.6484375,36524.94140625,51511.890625,36972.2578125,59260.97265625,74347.78125,52142.21484375,96440.59375,40320.48828125,55031.28125,22159.203125,83029.25,91060.453125,35408.74609375,93788.65625,49690.1015625,26917.6953125,77521.6328125,34800.69921875,42153.3359375,63166.7109375,26016.345703125,53455.51953125,41066.59375,62975.8984375,49588.55859375,47861.51953125,73465.1484375,69976.6953125,60455.06640625,87106.6171875,110772.7734375,64295.3046875,113472.625,61939.67578125,94786.4765625,79254.328125,47361.7421875,72756.1171875,48911.19140625,42378.734375,79853.0234375,61062.2109375,73251.7734375,49896.08203125,30493.71484375,30635.1171875,87195.15625,37569.34765625,71210.296875,35998.6796875,64448.890625,33728.87890625,64160.703125,87760.5078125,84885.25,42101.2421875,96008.703125,57311.85546875,63323.96484375,61214.15234375,49793.26171875,99730.6171875,28012.123046875,49946.01953125,44687.78515625,28899.01953125,68126.59375,85637.0,50644.859375,38933.6171875,72402.7890625,115490.3125,55730.125,100814.6640625,33159.59375,73467.5859375,66118.9921875,28784.630859375,44067.44921875,93671.2734375,58186.40234375,86930.3125,60383.3203125,52558.96484375,56819.1875,109216.2578125,53570.87109375,40259.98828125,55665.9140625,54661.5390625,39427.40234375,38163.7890625,98182.7890625,98583.109375,73182.3828125,74495.0078125,37662.50390625,91513.3671875,91952.03125,50403.40234375,42814.453125,77087.2890625,93988.953125,67374.40625,44998.62109375,55537.66015625,48074.00390625,95459.1796875,31847.95703125,68677.3125,49723.84765625,27184.607421875,80902.1796875,64228.2421875,62749.0859375,45937.7109375,39061.34765625,72121.6171875,105881.140625,71046.0234375,67863.3515625,68710.9609375,49478.59375,48985.75390625,41427.58984375,38360.8125,49729.90625,78328.96875,41413.64453125,26146.244140625,38330.90625,72238.375,37524.33203125,91936.609375,131731.46875,81949.7578125,72461.9765625,41843.87109375,39044.59375,26392.767578125,36785.44921875,85158.5625,45866.6875,58288.5390625,52680.296875,60741.7421875,47868.5078125,52960.7421875,9609.61328125,70339.1328125,48492.4453125,87627.7265625,52513.9140625,53772.53125,67168.9765625,46989.62109375,26011.712890625,31365.265625,65807.5625,95074.953125,49626.83984375,49998.26953125,41457.27734375,85101.578125,31716.955078125,19202.361328125,64371.9140625,26962.728515625,24548.47265625,54615.96484375,73909.046875,93722.125,78382.2578125,57332.68359375,75192.6328125,39987.65234375,50788.625,79906.0859375,109280.8125,99133.4140625,51048.80859375,78570.03125,65667.4140625,103603.765625,47114.98828125,95344.4609375,85526.140625,77849.21875,90295.53125,74986.96875,55316.44140625,41705.3046875,82646.640625,58418.484375,103002.1953125,75880.1796875,37559.71484375,46198.9140625,36332.33203125,32165.40625,45074.61328125,43760.0,40486.671875,31522.845703125,65349.796875,115581.46875,56013.71484375,99061.046875,69947.8203125,37374.33203125,52049.4296875,57828.89453125,108895.0,73454.875,91664.8359375,41898.25,103240.7421875,83939.1640625,96470.859375,86291.359375,84883.203125,68009.6796875,34250.81640625,77707.3515625,98082.921875,35089.1015625,30471.109375,33815.41796875,79372.015625,48021.61328125,87763.3515625,75450.7890625,60074.22265625,60333.61328125,68648.4453125,107384.8203125,79897.4765625,22692.98046875,70834.8203125,88530.84375,36006.77734375,76562.078125,65087.2421875,79996.6640625,36600.1640625,49206.3359375,146748.03125,48767.984375,102359.5546875,44008.73046875,92188.0703125,38141.90625,59284.22265625,47608.1953125,40572.33984375,99015.546875,44786.88671875,60877.4375,66828.7734375,67779.2890625,37899.9921875,75069.6796875,97705.3515625,93916.3359375,53628.17578125,81585.546875,124239.0390625,72176.59375,82059.71875,42896.1796875,84037.5625,144125.65625,73313.953125,115478.71875,51302.3125,83620.140625,36705.20703125,53613.43359375,41210.4296875,51603.25,93695.5546875,83546.3984375,69953.65625,37638.8515625,81170.7265625,35210.44921875,43249.984375,68128.9375,66795.6171875,41382.78125,136802.671875,45989.9453125,27736.986328125,82005.6796875,46035.11328125,50182.1875,88490.609375,43351.43359375,46491.24609375,73533.953125,78628.6875,106986.4453125,39090.94140625,62723.24609375,37799.48046875,62481.38671875,88018.6484375,79351.75,51997.86328125,81157.546875,77614.109375,67298.171875,40140.07421875,74597.484375,40251.92578125,49331.4609375,91324.921875,57737.8515625,58958.0234375,77759.3203125,34396.18359375,48137.09375,65392.52734375,82891.6796875,53435.92578125,43668.91015625,86864.671875,116516.984375,44845.1015625,60054.81640625,98659.6328125,58400.0078125,50355.578125,74764.03125,100605.2890625,70465.3359375,63599.1796875,39223.94921875,31460.11328125,55049.6875,60118.359375,59786.18359375,54629.078125,38604.71484375,31081.33203125,40819.12890625,36650.8828125,36754.953125,34222.19921875,70681.3671875,60570.015625,61962.5078125,60493.32421875,61489.23828125,76425.84375,21811.923828125,19293.515625,62498.32421875,41708.47265625,69519.6328125,79723.0,76550.6953125,38545.375,34864.50390625,36331.359375,34718.2109375,72652.25,52554.88671875,52375.62890625,105135.578125,93330.0703125,70221.421875,62465.39453125,83408.453125,50159.03515625,50669.90234375,48054.4140625,35484.484375,70826.0625,60570.015625,51500.34375,41126.55078125,36990.44921875,46207.59375,60996.70703125,72996.453125,48630.45703125,68404.1171875,107861.03125,61041.86328125,62546.6015625,52255.73828125,63436.9375,42546.28125,55192.3515625,117582.7421875,72157.078125,48510.19140625,78306.96875,33032.37109375,104090.875,74235.65625,55232.18359375,66791.453125,74846.8359375,90844.5078125,76912.6953125,55004.078125,65238.55078125,36755.62109375,47071.23828125,66878.984375,30500.458984375,59432.3359375,96277.6953125,30615.92578125,99606.4140625,68017.1640625,92164.9765625,50905.4921875,66150.171875,84817.9453125,59724.5,82843.03125,41519.06640625,61618.4921875,65465.91015625,107464.9609375,38562.34765625,68290.859375,56243.1953125,69341.078125,44215.8359375,107757.6875,36674.61328125,91890.5078125,71862.1640625,42565.87109375,63093.41796875,74044.4375,83119.390625,62810.43359375,45784.36328125,69701.8203125,69945.9296875,104084.421875,55015.37890625,63545.3046875,93994.2265625,24146.107421875,92743.1171875,31207.681640625,39893.5625,45662.5234375,72490.078125,42193.55859375,36562.47265625,45318.12890625,82275.140625,51894.609375,73753.625,36899.7265625,82629.6796875,121439.7734375,54248.7265625,44513.96875,76772.6015625,74973.1015625,40130.05859375,20338.4609375,50837.65234375,40923.08203125,54174.7734375,101920.53125,97414.4921875,75480.9765625,76510.21875,58802.26953125,48890.2265625,44687.78515625,36835.58203125,50556.90234375,67152.75,113145.3359375,54422.96875,113081.703125,77462.46875,76628.390625,107692.9765625,57734.76171875,61346.01953125,58257.14453125,33618.97265625,38302.2890625,32763.310546875,77438.296875,56670.42578125,84706.9765625,101164.921875,110314.09375,55251.19140625,40717.75,60859.8984375,54054.49609375,89171.8359375,71358.0625,35648.1484375,46238.9765625,70359.625,40969.89453125,39996.99609375,64189.87109375,48045.640625,53593.7265625,44573.11328125,68155.703125,32238.177734375,56419.36328125,85233.9765625,84466.1328125,43056.21484375,82756.109375,73717.90625,102096.2109375,77900.078125,40992.81640625,53283.02734375,55844.2109375,69558.9921875,25785.08203125,38894.33203125,70484.59375,38075.015625,68770.828125,45364.75,55633.75390625,42681.0546875,51548.9609375,36340.8984375,68826.0078125,49672.11328125,74515.1328125,113895.6640625,51824.5859375,86846.734375,78905.2890625,63957.4296875,54397.40625,102526.0078125,43108.8984375,82821.9453125,87786.2734375,90322.3984375,87181.546875,61584.55859375,47091.73828125,104723.046875,71446.421875,42756.52734375,46529.40625,68467.1953125,56493.1953125,31924.462890625,46030.5859375,60510.21484375,67035.53125,38517.8359375,71110.90625,37777.48046875,39684.6875,60307.78515625,59561.13671875,79569.9453125,75161.1328125,80876.46875,72100.9140625,69060.421875,52040.94140625,43430.8828125,30802.990234375,19753.931640625,64791.3671875,37821.83203125,63457.44140625,74056.8671875,100533.4609375,57775.53515625,103252.2890625,51228.75390625,48804.765625,59416.6796875,84076.015625,75615.3984375,61079.234375,21556.533203125,55092.359375,90433.78125,63908.62109375,137531.671875,70100.5859375,113785.09375,109127.4140625,101001.46875,41965.46484375,45611.3359375,52884.33984375,104382.03125,29619.28125,51655.99609375,47870.515625,38785.21875,74777.34375,53909.4765625,103028.84375,77087.2890625,45967.0625,90271.1015625,57117.1171875,44456.39453125,89618.3515625,52970.9296875,55428.453125,51645.07421875,53517.25390625,55549.1015625,36387.140625,80497.015625,78317.1953125,114603.109375,52954.71484375,54912.23828125,46732.19140625,23951.525390625,50102.5703125,51524.18359375,69156.546875,95822.84375,50835.5859375,101448.125,63665.9375,75920.9140625,44433.9140625,74538.46875,70143.953125,100699.90625,76535.046875,66098.3125,51916.7890625,39891.75390625,96566.4375,59378.21484375,51430.80859375,29707.4296875,68229.0546875,29127.349609375,54821.67578125,46520.11328125,73327.265625,69861.4609375,71440.921875,94603.8515625,86763.8515625,53158.3515625,36824.99609375,60128.7421875,94682.1875,56122.5703125,96529.734375,80275.5234375,88815.0390625,73583.671875,44411.53125,86379.234375,42094.2578125,85818.9375,68839.5,40095.81640625,40578.6796875,86044.21875,83587.9140625,84283.90625,67032.1015625,47848.41015625,84444.6171875,53839.89453125,49335.265625,85566.890625,57753.06640625,54088.25390625,70457.390625,42864.0390625,62711.04296875,62321.99609375,56014.64453125,58491.265625,80070.4296875,84748.3515625,66602.609375,34693.12109375,59788.546875,41148.6328125,81738.59375,88995.9609375,30684.515625,61489.23828125,55605.8125,54944.2734375,54454.7578125,44986.08203125,55117.18359375,48003.59375,101366.2421875,57489.265625,114842.7421875,64620.875,49918.640625,51600.859375,38241.01953125,59406.83203125,52255.73828125,44887.78125,119142.84375,85348.4375,89057.9921875,50434.18359375,42470.7265625,52290.44921875,87272.765625,74565.3046875,76699.0625,92781.828125,77512.28125,51065.41796875,85062.9296875,59103.75,60486.421875,92414.9765625,66167.2890625,39653.23828125,80381.515625,55790.2265625,84642.0,68671.796875,77577.640625,42621.53515625,70435.140625,24516.953125,90158.6484375,53323.15625,42052.78125,44687.78515625,5489.5087890625,58001.640625,91153.828125,58715.04296875,90816.5078125,86621.2109375,66066.140625,54557.9609375,68083.140625,79170.1953125,46803.5390625,45669.10546875,103467.4140625,54286.12890625,32568.12890625,60438.48046875,91207.90625,94198.234375,53975.8515625,44261.6640625,102127.4140625,49181.609375,72971.1875,56295.4609375,73297.6796875,48955.52734375,30968.048828125,79641.359375,53518.52734375,59852.96484375,90871.0703125,110890.8359375,42953.03515625,66969.8359375,71205.3984375,104612.5625,45764.046875,91711.703125,68373.171875,55565.66796875,38270.125,53435.703125,49151.078125,91045.6328125,56591.48828125,47311.83203125,92738.796875,74597.484375,86650.4765625,59816.66015625,51479.91015625,50705.15234375,38099.203125,62204.37890625,69150.0,77399.1171875,56725.52734375,53131.37109375,58034.08984375,49508.546875,83387.21875,22646.591796875,65597.375,41727.71484375,86351.671875,44339.80078125,58039.32421875,75206.9609375,28533.986328125,35436.31640625,79067.359375,22024.8203125,57085.8359375,10512.2060546875,63580.03515625,47956.5703125,42450.046875,52121.65234375,66764.8359375,79418.7421875,45629.53125,70293.265625,77746.2265625,72825.171875,34800.30859375,118009.9921875,53799.0078125,46733.0234375,54195.82421875,46375.64453125,111560.3203125,50503.19921875,73555.3984375,78265.21875,39780.65625,83549.15625,35634.125,55360.59375,67337.7109375,30426.560546875,84442.515625,49770.515625,35685.4609375,37887.671875,50074.09765625,94174.8359375,67725.1875,66683.1015625,50056.51953125,50327.09765625,40965.35546875,44339.80078125,53013.0625,94295.5,37403.74609375,45065.75,42896.1796875,52419.09375,81141.7734375,54307.8046875,34907.3984375,81225.8359375,95519.328125,44694.671875,77709.8671875,59813.40625,83580.5625,48049.9453125,61787.98828125,77967.1484375,76148.4296875,70421.2578125,102311.359375,104566.90625,50918.16796875,80142.34375,96916.6640625,40706.00390625,71205.3984375,81018.390625,96684.6484375,96819.0078125,57292.12109375,88580.046875,57989.05859375,71819.125,39299.625,94844.3984375,134769.484375,54853.31640625,41475.55859375,39718.375,54346.99609375,53249.8203125,54554.9609375,47574.25390625,48780.2578125,58178.33203125,61788.9453125,46801.23046875,57960.68359375,78691.1484375,33423.30078125,97693.078125,107745.765625,52718.80078125,33767.21875,110885.3671875,53816.640625,78928.4765625,36899.7265625,37678.546875,88386.1328125,40128.765625,97225.9609375,30217.71875,26205.16796875,63306.796875,64166.15625,29427.8125,34016.046875,48925.5390625,56363.73046875,54711.22265625,62940.9140625,43172.68359375,82511.4375,40058.984375,40507.35546875,87666.8125,63873.70703125,57705.81640625,58034.08984375,40631.21875,54595.96875,95889.171875,14259.1142578125,44904.88671875,41023.19140625,63446.8515625,75453.4140625,89379.8203125,51873.54296875,49045.7109375,73071.28125,52925.546875,36920.1640625,42181.6328125,85404.6953125,73076.5,34292.24609375,67341.4765625,75693.921875,89210.46875,65352.75,66362.015625,72393.625,45401.390625,126986.65625,55389.30859375,109986.046875,80012.4375,91229.15625,84277.8125,53435.92578125,60116.640625,54109.03515625,57805.8515625,31682.49609375,38119.9140625,106968.8671875,72662.328125,29905.54296875,86235.9609375,43022.4453125,44537.78515625,53546.8203125,77492.4921875,56620.34765625,38955.2890625,40095.81640625,39181.7734375,47125.828125,87283.109375,73862.1875,33548.6015625,33353.55078125,57169.1484375,106617.1875,87615.828125,80008.1171875,69236.5234375,45191.12109375,88673.34375,72872.1328125,41502.93359375,88502.234375,68209.0390625,48596.33203125,45632.51953125,82939.3828125,54546.890625,86860.2421875,69959.78125,36810.92578125,72372.90625,64802.62890625,52289.640625,31054.560546875,91188.9453125,67361.8515625,86411.984375,38918.7890625,57310.09765625,97744.7578125,42841.85546875,42440.1953125,90696.0234375,49846.21484375,69018.0078125,77492.4921875,107889.3671875,80113.1484375,74281.6640625,91486.390625,103293.921875,48359.7109375,40227.859375,36405.5078125,109775.5390625,58883.7578125,48021.61328125,73360.2265625,24993.8828125,83111.921875,64847.15625,84589.328125,96237.6875,44119.36328125,98036.2890625,49479.9296875,25667.44921875,35787.0625,71971.6796875,51146.96484375,63517.671875,80792.6640625,45249.16015625,74471.96875,65035.15625,54118.7578125,59816.765625,94718.0703125,72595.2578125,76139.65625,88388.4921875,37262.06640625,40317.56640625,89834.2109375,57453.16015625,55798.8984375,39230.25,49430.625,105157.5390625,61449.1953125,37748.83203125,72825.359375,50533.7265625,82879.15625,51219.16015625,121183.6953125,47704.21875,38510.68359375,63388.296875,48638.1015625,44538.59765625,33686.9609375,46199.61328125,44944.4375,28138.107421875,78097.2890625,84629.3515625,100730.59375,82323.1640625,51136.6171875,86291.6015625,30043.888671875,36967.37890625,95145.015625,86043.2734375,57245.04296875,45740.41796875,90825.3203125,47369.3046875,92782.265625,121487.6953125,49213.92578125,54133.15625,30050.787109375,51992.078125,48985.32421875,54105.42578125,36362.73046875,91423.5,40805.59375,103345.6484375,35886.1640625,44192.1875,100079.0703125,82944.1953125,38007.8046875,94061.7734375,77477.90625,61735.85546875,45714.90625,94406.8203125,52220.1953125,61295.0234375,43298.953125,63776.89453125,98374.7421875,78227.96875,63897.5234375,64515.21875,32263.05859375,58770.3828125,82102.7265625,67861.90625,78672.828125,47825.16015625,57004.7890625,40098.6640625,44411.53125,60471.57421875,51327.1875,69233.265625,33061.5859375,77390.1796875,37412.04296875,59204.99609375,31865.66796875,51679.61328125,27101.279296875,79635.0390625,136216.75,28710.193359375,85550.28125,105454.8671875,46093.0,78422.9375,81921.34375,56453.6328125,86797.1953125,59475.8515625,46866.1796875,38562.24609375,46631.0,103059.7421875,78762.0234375,89020.5078125,105219.3515625,21862.220703125,58676.515625,47981.9921875,52557.9375,49878.8984375,50676.20703125,57948.76953125,34262.71875,75820.6328125,34111.4296875,54287.4375,46893.74609375,47683.265625,26089.4921875,50713.09375,41374.54296875,123627.9453125,118179.0,36762.19921875,48665.50390625,54379.6484375,96483.21875,106234.734375,56168.95703125,57538.609375,83216.2734375,79834.9375,127599.5390625,43103.48828125,75860.203125,97941.375,57045.37890625,88652.078125,77630.2421875,60995.0390625,79142.6640625,33865.9296875,66094.75,92391.671875,29103.02734375,71939.4296875,62330.19921875,81652.46875,68639.8125,89937.34375,89200.609375,94493.828125,81753.953125,65477.08984375,99496.46875,111432.1484375,35289.8515625,98868.390625,63544.5234375,54629.078125,101127.8984375,19208.28125,53126.04296875,47250.71484375,73021.125,40269.4296875,32338.369140625,107552.3046875,59631.9375,53662.34765625,42672.31640625,45277.93359375,86524.703125,73621.90625,58405.51171875,41177.37890625,40527.78515625,41608.62890625,21975.552734375,36215.38671875,39159.78125,58939.46875,64832.46484375,37261.05078125,23609.677734375,62321.99609375,46212.5546875,79602.09375,62068.484375,57538.91015625,40091.27734375,55823.16796875,65754.90625,44545.78125,102864.7421875,78318.625,81217.09375,55497.83203125,73891.7109375,27161.357421875,61511.10546875,42554.09375,91913.5703125,26935.16015625,99963.484375,83376.15625,63277.26171875,37266.6015625,79109.390625,91499.6015625,49783.50390625,29157.6171875,46846.1484375,59816.66015625,94891.609375,33650.57421875,54740.6484375,34743.09765625,26288.646484375,78144.09375,40421.609375,58218.0234375,52172.7421875,53232.984375,74449.4375,41504.81640625,79356.9765625,55318.0703125,53028.39453125,74554.0234375,53644.5390625,73960.2890625,86904.7421875,88340.4140625,52897.90625,78954.359375,72991.609375,98711.2265625,80726.46875,38906.4296875,124212.5546875,67764.3984375,60307.78515625,38494.26171875,29210.7421875,92785.03125,64521.66015625,69519.875,92020.828125,47300.6171875,60941.140625,58625.60546875,62171.09765625,41726.4296875,53489.31640625,68444.828125,20187.4296875,51981.765625,75345.2734375,27427.048828125,44514.91015625,49465.6484375,30747.33203125,86120.015625,39779.55078125,37976.65234375,45981.0703125,49559.73046875,40024.49609375,30654.857421875,53825.875,55567.16796875,70515.0859375,77564.8984375,40963.63671875,53578.87890625,57562.49609375,64829.703125,90172.6875,51167.90234375,35107.84375,70924.359375,70351.4609375,78938.3515625,46909.515625,55844.2109375,68163.1328125,45223.63671875,35139.1328125,75213.875,71954.15625,49529.4140625,49842.85546875,81170.3828125,31686.462890625,47913.38671875,101551.75,92897.9921875,65209.93359375,90938.6796875,39860.40625,32807.4140625,36157.6875,21521.552734375,89417.359375,31897.38671875,35339.23046875,15509.361328125,74536.9453125,45024.390625,82468.3984375,81961.25,64062.63671875,61760.36328125,33009.87890625,53594.05859375,45051.78515625,47534.9140625,103243.578125,96927.84375,34726.55859375,35136.09765625,50056.51953125,48897.96875,40222.1328125,50556.90234375,68045.109375,39841.65234375,55304.875,58604.28125,35141.25390625,38522.35546875,69105.2265625,71436.0234375,49776.890625,33881.34375,44973.140625,29009.009765625,59617.99609375,38347.23046875,99998.2109375,72904.4140625,82751.3828125,65358.4140625,98853.84375,86096.765625,42817.9765625,73774.75,72551.90625,45117.03125,49976.8671875,60809.2109375,29289.482421875,66963.4453125,55438.26171875,25610.134765625,96066.578125,56777.140625,50981.4140625,38541.3515625,49020.56640625,92047.359375,38302.2890625,47060.36328125,34573.25,54610.4921875,31694.76171875,82810.640625,103016.828125,38350.63671875,63577.484375,72252.9375,74627.09375,34626.69921875,48515.6953125,34199.484375,101311.671875,20228.162109375,106766.7265625,47839.73046875,49605.25390625,76089.2890625,80456.3359375,65848.140625,29521.427734375,93385.265625,70260.09375,47872.1484375,92994.515625,84198.53125,71940.4921875,65524.55078125,30091.26171875,23895.9296875,50519.74609375,82665.90625,38436.21484375,58374.6484375,67060.046875,78122.953125,57646.734375,39051.6796875,96090.6328125,145543.203125,96994.7265625,112537.8359375,74394.3984375,91220.1875,29396.236328125,102023.984375,84920.25,91347.9140625,49932.76171875,58108.87890625,59143.765625,60003.98046875,71994.03125,27065.6953125,85205.7265625,96268.7109375,50328.0390625,78269.453125,41995.80859375,97624.3515625,98484.8515625,31044.28515625,36431.1640625,66491.921875,50707.46484375,83194.0234375,63834.76171875,90575.6484375,22280.544921875,144202.84375,68976.1640625,92672.25,25984.853515625,44074.83203125,37489.73828125,38489.09375,40592.01171875,37435.328125,67155.90625,36600.1640625,69768.3671875,98192.3125,45245.01953125,61727.6171875,146770.90625,85574.40625,91766.375,89375.6328125,25716.39453125,22776.29296875,32851.94921875,98088.65625,62432.14453125,51609.4609375,46554.3125,98625.0078125,34693.12109375,79008.8671875,81580.9609375,24437.05859375,71891.9296875,75188.0625,40637.75390625,86557.3359375,82585.7890625,94369.078125,46818.97265625,53159.98828125,36762.19921875,67376.3046875,61155.28515625,87377.125,42018.5390625,90008.7421875,34953.53125,51224.09375,80197.2890625,36813.37109375,107133.375,82390.859375,45764.046875,65427.859375,87018.0,-747.9148559570312,78674.6484375,54289.96875,69676.546875,61055.38671875,47875.10546875,54827.40625,87190.7890625,72264.859375,63970.84765625,44294.0546875,51369.74609375,25478.697265625,67386.703125,77229.15625,83350.3125,95396.40625,38607.953125,61595.8515625,61727.13671875,108648.6171875,44537.78515625,50734.98828125,39051.35546875,66212.140625,45006.41796875,53461.828125,34179.36328125,48418.0703125,38619.02734375,85869.6953125,49080.76953125,71136.5703125,50006.078125,61829.78515625,88954.234375,77606.7265625,37254.37890625,74005.046875,80027.1484375,40744.02734375,99549.6640625,55338.00390625,56129.48046875,71230.28125,49726.7265625,36885.19140625,35053.23046875,44878.90234375,61901.31640625,57236.87890625,70277.59375,40100.01953125,104536.0390625,23693.298828125,49458.1953125,41355.53515625,38532.359375,50698.24609375,69007.125,68224.6953125,29577.208984375,51576.52734375,40412.34375,33988.5625,58570.43359375,79121.125,40207.71875,68379.0078125,30264.158203125,59234.87109375,67601.1171875,49656.73828125,80091.078125,41447.98828125,91530.2421875,61153.60546875,65754.90625,99579.34375,34026.49609375,58317.84765625,62183.84765625,95658.296875,70057.2109375,30802.990234375,35230.49609375,50120.9375,58341.50390625,94919.5078125,92756.2265625,82202.1796875,76122.9765625,81653.59375,35113.921875,36560.03515625,120304.2265625,21168.3359375,65168.21875,41395.64453125,59460.953125,80936.5859375,100832.046875,105571.59375,93932.9921875,82136.71875,81692.890625,73930.15625,41269.78515625,22990.798828125,105917.4453125,47788.39453125,47104.625,53392.81640625,47946.7265625,54127.5625,48206.1484375,23711.97265625,33144.0625,82922.6328125,55024.890625,33983.75390625,123666.7890625,90086.3359375,57909.4296875,57582.328125,23855.521484375,25589.4140625,35338.7578125,81785.5859375,58418.484375,78561.390625,60574.40234375,92089.78125,49503.5546875,79433.9296875,51041.78125,34438.46875,59135.140625,117112.09375,66197.2890625,66448.2109375,47639.2109375,48017.0234375,78501.5546875,72122.375,32502.9765625,112240.9375,81987.4375,40792.03125,73725.3984375,47151.77734375,109170.765625,58732.8203125,89888.5234375,95318.9453125,42422.921875,41370.96875,93679.421875,79756.65625,35514.171875,78110.7734375,34289.5390625,55088.28515625,81001.484375,50137.0390625,85773.125,62544.0546875,100927.4921875,54557.984375,287.2823791503906,71419.40625,52585.734375,78714.8203125,19966.25390625,74437.2109375,45527.453125,58837.75390625,57120.8515625,67107.4375,36390.1015625,85429.828125,69380.96875,61481.85546875,48118.328125,31574.6015625,39833.078125,51540.7734375,119396.828125,82383.4765625,33385.23046875,54145.9375,66719.4296875,51959.02734375,62705.0078125,65103.43359375,54792.15234375,58736.16015625,76381.671875,19724.712890625,88908.71875,35095.1171875,63321.64453125,61229.30859375,69932.21875,90095.203125,75227.21875,44198.36328125,81791.703125,56456.4453125,73798.1640625,47779.83984375,91785.9609375,118040.8515625,95059.9375,39475.69140625,32055.783203125,38205.0703125,75336.5,103925.5234375,55327.2265625,35954.4609375,83194.0234375,53476.67578125,64256.98828125,57339.78515625,86432.765625,46805.66796875,41899.890625,53869.7109375,51485.49609375,35154.4921875,82145.5234375,81482.9453125,111517.640625,85258.484375,40297.0,145449.546875,28578.259765625,86745.75,76365.296875,72432.5234375,52644.58203125,53411.0703125,40762.03515625,34283.2109375,52837.3671875,70673.1015625,44398.30078125,31859.66015625,18747.607421875,101724.0390625,19630.162109375,38919.2734375,97611.421875,79505.484375,59547.66796875,36938.76171875,94990.4375,39269.8203125,99487.234375,87003.59375,74702.3515625,60109.515625,61675.48828125,56600.6640625,22773.2421875,54844.01953125,97410.1875,58007.42578125,43948.65234375,34242.75390625,44679.48828125,33283.3046875,113840.6875,67861.90625,54388.23828125,89059.65625,55059.0,56664.859375,62070.125,28714.654296875,63605.0546875,93879.796875,45832.2890625,27620.794921875,97385.8828125,30312.2421875,32647.421875,66414.5859375,89544.4453125,88977.484375,53100.12109375,63209.6796875,6727.06884765625,62342.41015625,56730.58203125,63855.33203125,90632.21875,57623.484375,44785.53515625,24177.494140625,50315.18359375,82218.2109375,71770.921875,35071.609375,60434.3515625,74238.078125,34153.34375,55827.515625,102404.328125,59721.28515625,94334.75,55830.9296875,53707.26171875,31427.333984375,38166.80078125,67749.546875,37949.8046875,17871.345703125,53513.82421875,111588.8046875,58061.57421875,85630.7109375,49773.46875,47593.34765625,62408.49609375,44539.2109375,107027.765625,27861.42578125,65823.515625,99417.5234375,45283.4921875,76053.171875,58374.6484375,44938.99609375,76605.5546875,81327.34375,68144.84375,46558.83203125,53228.4453125,69396.0078125,47097.94921875,49867.484375,105008.8125,45994.03515625,29254.34375,43059.87890625,71876.8671875,69340.0703125,30956.3671875,24850.833984375,58226.42578125,37541.04296875,139589.796875,48989.39453125,37770.4765625,49871.35546875,72970.4609375,64031.48046875,22414.2109375,62042.37109375,30569.017578125,49161.63671875,69678.5546875,80977.2578125,45740.41796875,52155.75,117533.9296875,60734.6953125,67280.625,140328.875,38130.6328125,38369.44140625,39257.234375,74325.5390625,84144.3359375,47898.72265625,76158.640625,59428.5546875,116243.2109375,72393.625,71403.453125,50270.21875,43803.16796875,69819.8125,51157.515625,38542.76171875,85002.671875,37046.796875,86570.4375,70915.734375,100036.171875,62639.95703125,64225.59765625,76138.84375,51031.6875,82673.1953125,83919.578125,30201.255859375,123583.203125,56632.37109375,104406.9921875,54006.09765625,56465.57421875,66519.0703125,82518.5078125,83889.375,76377.0078125,45271.3046875,57116.98046875,41774.578125,1259.0205078125,31722.853515625,68348.171875,41233.8515625,35439.38671875,63908.1875,54778.18359375,36530.1953125,52828.0390625,36672.05078125,78639.1640625,47457.921875,79300.03125,56729.0390625,84370.1796875,918.263427734375,67710.3359375,60693.08984375,49774.859375,89825.3203125,12961.5771484375,79555.09375,66270.078125,93101.4375,38166.80078125,37311.4921875,39893.5625,87197.1328125,103943.7578125,70534.5390625,40724.01171875,36536.07421875,74692.046875,36880.37109375,40040.75,42641.76953125,67273.828125,38405.86328125,41464.125,36339.15625,41556.76171875,31456.478515625,78481.203125,40716.08984375,69914.8203125,43521.984375,78822.8671875,56867.140625,79716.4296875,48734.81640625,75149.953125,46606.25,60634.0,80572.0703125,98552.515625,33492.37109375,74720.5,36340.8984375,37031.6640625,37268.1875,93121.953125,62782.64453125,72588.7265625,87566.796875,107088.1953125,74044.484375,47705.9609375,38353.00390625,51752.89453125,88717.484375,40421.609375,69966.953125,54451.9453125,56456.046875,37796.19140625,71205.75,103240.7421875,36767.14453125,70222.9609375,55576.50390625,69019.328125,56284.3203125,78088.8046875,47892.88671875,78163.2734375,54831.9609375,67815.0625,51348.07421875,88342.2421875,52004.02734375,55890.45703125,44119.36328125,37146.8125,56977.21875,58810.51171875,69246.2578125,73962.125,64491.67578125,51524.6640625,26849.892578125,113200.40625,31014.70703125,84170.6171875,96766.9140625,91555.859375,71455.3125,55232.18359375,23318.181640625,71464.171875,22301.91796875,109042.96875,85824.625,38274.6640625,44257.91015625,37178.2421875,71370.7734375,42222.83203125,77082.8125,81093.5859375,83561.46875,55943.421875,69453.84375,83905.5625,62014.375,33576.171875,84170.6484375,32924.25390625,85291.3984375,34460.3125,66050.6328125,70117.578125,97317.40625,88852.546875,49917.39453125,52040.94140625,51621.875,54096.59765625,36252.5,47424.8046875,110427.0078125,100833.15625,50064.09765625,40728.55078125,49341.82421875,49881.19921875,83102.2109375,109326.046875,93097.2890625,91019.8359375,26430.07421875,87569.6328125,52018.26953125,39996.99609375,97395.3359375,98303.28125,49932.76171875,91620.9921875,34409.87890625,93406.4375,70350.6328125,81519.2109375,47987.88671875,70419.890625,93843.1875,134269.4375,84289.3984375,47995.09765625,58670.9296875,59232.35546875,62661.1875,50944.69140625,118363.4140625,79107.2265625,55080.20703125,98092.75,66838.4921875,81739.875,40373.4609375,84465.7265625,81901.1640625,90746.09375,91097.4921875,42803.12890625,46423.828125,52275.3125,61493.77734375,45784.03515625,80267.6953125,35655.9140625,35683.484375,62810.4453125,63723.19921875,64167.16796875,107805.9921875,65349.796875,40528.82421875,81903.3203125,42340.20703125,74757.7265625,58548.96484375,34278.4921875,101622.9609375,88713.8046875,69164.53125,33771.4921875,52587.58203125,75051.8515625,86162.3828125,106927.015625,134588.453125,59451.10546875,49508.546875,98900.765625,96693.4609375,45668.3203125,84206.2265625,95563.0234375,47413.265625,45764.046875,30950.80859375,46841.0078125,34433.82421875,110719.8046875,41796.0546875,55862.2265625,24571.65234375,94910.7109375,65985.2578125,78272.921875,51948.34375,45855.94140625,45129.47265625,23744.392578125,69822.2890625,84168.21875,40551.2109375,85818.9375,101004.984375,62468.25,114184.515625,49536.765625,48132.828125,15367.701171875,52558.96484375,44070.29296875,79417.203125,78881.0859375,59443.40234375,123053.75,42786.3359375,34465.98828125,44470.40625,65221.0703125,82300.7421875,89796.09375,95794.625,42017.70703125,33391.25390625,45164.9921875,31662.884765625,42477.08984375,88194.5859375,88161.1640625,34825.19140625,32086.76953125,28444.517578125,69562.359375,81961.25,81122.1953125,74854.3125,87727.796875,84934.0625,55790.2265625,49328.46484375,50291.62109375,39337.42578125,72707.609375,43360.61328125,71009.640625,105513.7421875,90366.4375,64047.0078125,59451.10546875,55649.05859375,47964.83984375,55544.6796875,100918.140625,70629.9453125,58794.2578125,39169.63671875,93707.2734375,49305.328125,65823.515625,39260.17578125,71175.9296875,41812.72265625,123377.390625,67138.484375,69340.0703125,83751.4765625,34081.875,62891.85546875,66154.953125,78791.59375,68562.3984375,78820.640625,91218.703125,33225.6171875,38728.9765625,55371.69140625,86486.2265625,65272.859375,75833.3125,64665.296875,55162.36328125,39899.35546875,29608.353515625,24722.654296875,90109.40625,98691.203125,46221.1015625,104170.7109375,38665.86328125,38393.546875,79260.1796875,49252.98046875,73577.6875,81588.109375,69604.34375,59454.77734375,28976.158203125,76141.5234375,54570.6171875,54618.07421875,25691.783203125,74238.078125,100298.109375,86164.4375,51540.55859375,111374.2265625,68648.4453125,95764.28125,59103.75,119794.5859375,68031.28125,64867.92578125,65949.8515625,54749.56640625,45309.890625,80768.8515625,107572.234375,32851.94921875,16974.912109375,94866.7109375,57236.703125,38106.72265625,57161.9921875,24996.11328125,65597.375,29213.11328125,82976.4140625,63279.875,75132.875,53620.6015625,99432.953125,39347.18359375,59125.6796875,44236.53125,60887.93359375,77244.8125,103102.4296875,54963.6953125,74306.421875,23930.013671875,59416.6796875,80902.1796875,72889.75,75486.9765625,51499.64453125,34053.77734375,104584.203125,57399.41796875,87654.0,53240.828125,77493.171875,66094.75,79154.4296875,58686.6640625,152.439208984375,31167.998046875,72626.6796875,41938.79296875,82092.1875,47739.09765625,60541.3984375,104688.6875,64561.36328125,56983.36328125,60725.2890625,59585.18359375,57391.828125,63772.921875,51838.796875,52675.453125,85322.796875,45527.515625,40475.28125,69718.8828125,48045.640625,49060.375,38299.71875,64614.19140625,45494.73046875,39590.1875,52390.9375,90617.546875,36656.30078125,86216.4921875,35886.1640625,40287.421875,33964.20703125,111352.296875,79778.0625,58005.625,36408.45703125,87907.4921875,32315.966796875,47833.03125,113915.5703125,55788.5625,112633.578125,83368.6953125,85846.59375,139517.296875,38298.30859375,98784.53125,15994.4306640625,103581.875,35699.8125,60382.921875,30138.919921875,43122.171875,85898.0546875,89819.515625,89796.09375,44728.19140625,50766.91796875,45577.12890625,102440.5234375,94962.90625,58611.9296875,37221.81640625,39382.40625,51327.1875,46922.36328125,69297.6796875,53489.3984375,99300.625,40584.77734375,64652.0546875,107111.875,93621.1015625,38586.2265625,47272.4609375,79270.3828125,79422.609375,88034.78125,35874.875,39443.0234375,33904.9921875,102510.8984375,85297.703125,81670.078125,103362.2109375,43687.69921875,54328.29296875,80468.96875,41642.91796875,68963.4140625,96682.4453125,46544.01171875,71695.234375,76569.1171875,59210.7890625,18811.103515625,90896.78125,65582.46875,40046.640625,79849.15625,42609.0859375,94816.46875,60801.99609375,58357.75390625,67400.875,54049.375,68802.8125,40578.6796875,74614.25,31394.88671875,56819.14453125,35919.60546875,60239.7265625,56024.515625,40386.30078125,69241.421875,67826.3984375,54697.70703125,59434.22265625,87354.625,86249.109375,37763.0625,82108.4375,60024.5390625,91411.34375,47805.57421875,32403.84375,57134.16015625,38416.22265625,36844.0,79194.9140625,50315.41796875,52825.8984375,80437.3203125,50066.75390625,44071.01171875,43004.59765625,74710.453125,39345.12890625,53105.92578125,65717.15625,47272.4609375,45516.765625,67332.5625,47673.50390625,105821.765625,84733.515625,56456.046875,76210.171875,141101.15625,29993.001953125,62073.0234375,30994.6875,112319.9296875,56419.36328125,40573.33984375,60009.92578125,33402.91015625,101156.59375,119674.828125,46608.78125,71370.09375,107584.6875,35203.31640625,37253.734375,34185.6875,75866.28125,83060.3671875,33641.09765625,29535.41015625,22794.400390625,90114.359375,33359.72265625,38300.58203125,73637.0625,86077.9296875,39526.23828125,48323.5,61679.5,85999.0390625,39860.40625,53249.8203125,53166.73828125,82969.5390625,47193.60546875,102363.984375,57926.54296875,80498.4375,23160.32421875,70094.328125,44667.44921875,84281.5,99460.2421875,51774.82421875,98489.8125,40861.78125,58723.875,41523.7734375,48206.21875,32389.91015625,45189.171875,34380.875,29476.443359375,34674.21875,33741.1015625,92720.1015625,38443.6953125,45161.421875,34441.10546875,74523.6171875,37150.36328125,85227.421875,52309.25,33814.3125,48026.84375,97589.28125,45128.0625,41175.8359375,54012.7265625,23090.7578125,34224.97265625,66693.8515625,45798.55859375,71978.078125,55277.6796875,46117.75390625,68522.4375,27000.2734375,118525.5546875,28946.734375,90466.0546875,49644.54296875,51915.77734375,47241.04296875,92637.28125,106193.640625,19835.087890625,39499.921875,65509.8046875,89248.28125,25599.3359375,66501.9765625,83968.234375,90563.7578125,64053.24609375,88451.4140625,58089.37109375,73103.9296875,31722.318359375,147073.265625,60326.95703125,63181.56640625,45181.7578125,101602.6328125,69034.9921875,100318.8125,55463.17578125,89375.6328125,42343.671875,36729.36328125,53661.9453125,50391.73046875,31895.40625,68727.265625,88196.359375,54844.01953125,86870.890625,31429.12890625,67589.0234375,61662.0,45018.984375,41395.55078125,46460.88671875,68834.75,113768.703125,90611.0546875,70052.875,48931.69140625,48973.1875,49842.15625,38752.61328125,72809.8671875,53775.7578125,29256.42578125,55800.5,67768.3203125,80913.921875,39893.5625,67954.9609375,80648.5234375,36762.90625,60479.828125,39552.84375,45186.25,79867.53125,75166.0703125,36164.6640625,71606.1953125,59962.390625,99099.28125,26799.447265625,45821.7265625,23638.7421875,84959.84375,32173.09765625,81901.1640625,43451.59765625,49971.55078125,64371.84375,28837.03515625,50296.66796875,52287.98828125,63433.0859375,54861.34375,34015.9140625,47250.71484375,71813.96875,73620.7265625,70043.6015625,82739.8828125,23292.548828125,100725.8984375,103721.375,100250.5390625,68112.6328125,57667.12109375,94537.140625,41256.421875,87920.203125,86009.4140625,43116.4296875,138857.53125,64070.95703125,89001.8203125,90453.53125,81879.7890625,58521.484375,39578.4140625,32715.78125,109381.3125,88983.578125,22371.365234375,44353.16015625,81588.28125,72766.40625,77769.4765625,60166.609375,86151.7890625,78636.9921875,59490.69921875,81767.3984375,41892.70703125,73825.421875,50219.50390625,62042.37109375,45668.51171875,57143.1953125,40110.6640625,49936.078125,82381.3125,68463.2890625,79929.375,41117.9453125,82145.5234375,49364.34765625,44906.98828125,78695.4921875,55644.91796875,48336.421875,97270.34375,19707.865234375,37972.3125,100043.1328125,48900.31640625,84628.0078125,59242.98828125,34519.671875,70387.3046875,33052.9765625,49487.60546875,37741.859375,54536.66796875,73751.578125,64426.69921875,103248.609375,22541.658203125,77956.546875,78412.9765625,52676.265625,33879.47265625,86784.484375,60317.015625,91952.03125,81925.484375,79455.34375,84214.609375,52225.0,81488.8125,62084.00390625,93379.9765625,91356.5546875,56150.0546875,47853.0390625,38054.71875,106360.3671875,56520.765625,35150.54296875,69326.2265625,42681.80859375,61494.9140625,120921.640625,56068.33203125,135520.21875,39551.1953125,90533.265625,60438.48046875,66067.03125,87682.8671875,104524.0546875,61168.02734375,107242.1796875,67647.5546875,71389.09375,40776.82421875,32071.087890625,47817.58203125,43892.98828125,91851.984375,51645.07421875,55565.66796875,54751.51953125,70309.0546875,44675.07421875,71262.6328125,40097.10546875,69750.4140625,35607.19140625,82062.7421875,80586.921875,54881.3671875,51875.74609375,61561.26953125,56425.26953125,20838.298828125,67231.0234375,54154.52734375,35634.125,51216.87109375,61392.44921875,103058.0078125,91029.6171875,103206.71875,62093.4296875,45847.1328125,67178.3515625,61850.5859375,37210.26953125,45227.2734375,39113.6328125,99794.8046875,82891.6796875,89405.671875,69874.6953125,36261.48828125,48390.7421875,78259.5703125,94962.875,55589.27734375,21153.884765625,40024.484375,49264.31640625,42193.55859375,78932.59375,28031.431640625,62171.22265625,41036.5,91359.390625,59025.37890625,90542.46875,41008.5,59721.28515625,49093.25,38561.89453125,53392.81640625,71436.0234375,92326.390625,38052.296875,47252.8671875,38298.30859375,74699.515625,63421.4375,79113.0703125,30402.6953125,57265.85546875,57931.984375,57179.3203125,38855.1796875,24117.498046875,67435.171875,44511.640625,13516.9677734375,40095.81640625,39248.52734375,40989.0234375,80575.265625,61286.22265625,93889.625,34170.8671875,31231.95703125,59566.12890625,42981.65234375,47348.5390625,76683.546875,85808.515625,50851.80859375,99246.765625,51248.515625,62438.84375,97473.2578125,95320.859375,86284.015625,29661.818359375,24476.25390625,81771.21875,65644.1640625,40808.30859375,37838.95703125,71423.40625,50462.17578125,49759.8671875,80726.46875,65402.11328125,66386.046875,40097.10546875,58017.30078125,94865.953125,47857.8671875,77491.078125,69508.0546875,39628.1015625,38381.31640625,45084.734375,44893.75,116147.0703125,30572.68359375,39883.69921875,38962.234375,57367.37109375,97369.5234375,82200.484375,59411.37109375,80870.4609375,98952.7109375,69282.015625,39548.59765625,99115.0,46937.953125,69095.8671875,52579.48828125,65805.8125,64801.79296875,64186.546875,50185.05859375,40559.8046875,55730.125,30513.177734375,29794.58203125,19018.9609375,77880.3046875,76957.171875,57455.90234375,96170.078125,52587.58203125,83528.5234375,50486.421875,54015.27734375,83634.9921875,47528.90625,47932.60546875,48796.89453125,113976.0859375,28018.48046875,27861.42578125,53489.3984375,58784.45703125,37886.92578125,34268.6484375,86120.015625,65300.73046875,86010.890625,22916.853515625,72129.5234375,69970.984375,78870.0859375,44427.77734375,119112.8984375,32267.56640625,47674.34765625,61295.0234375,57675.953125,87599.7890625,36230.36328125,47331.8515625,49700.0234375,43625.17578125,36444.48046875,104641.7734375,78716.3125,64750.09765625,49846.859375,65545.9296875,50139.1171875,85747.4140625,57561.37890625,91879.5703125,66997.1953125,38572.9140625,82011.6796875,110609.7890625,61214.91796875,35798.48828125,39650.28125,103749.984375,48106.55078125,37015.1328125,33048.45703125,78159.9609375,76165.390625,44692.1796875,85250.265625,77177.6953125,40095.81640625,122938.3203125,80576.9921875,53461.578125,75333.1953125,38517.51171875,38556.984375,111813.6796875,60560.203125,82133.390625,38561.89453125,33152.9921875,92002.375,67201.6015625,56889.640625,47909.984375,54942.74609375,35495.94921875,80586.9375,86901.8984375,34268.6484375,93483.1171875,53209.90625,46235.875,68460.2578125,42892.08203125,32043.01171875,50726.04296875,103016.828125,56028.78125,101683.1484375,55275.44921875,59695.8828125,88041.8984375,43803.20703125,26934.537109375,31314.076171875,64639.40234375,48295.1953125,64009.5,55089.5859375,97784.2890625,94084.2734375,77641.0078125,102931.9921875,37921.83984375,37376.40234375,77008.6875,78142.25,93566.8671875,40517.06640625,72094.421875,93281.515625,29316.287109375,47097.1875,74467.9921875,41381.4296875,66886.8984375,80258.1875,99479.8671875,32057.685546875,79379.8125,38722.49609375,42535.984375,52718.80078125,133811.375,60261.25,47164.98828125,63353.0703125,81908.4609375,71724.0859375,24280.421875,72792.96875,68192.0078125,86930.8203125,39966.40234375,43400.73828125,68538.0234375,106659.03125,61600.2734375,54284.921875,95659.0234375,119963.2734375,77082.8046875,84048.5234375,61062.69140625,64143.39453125,52147.67578125,87181.546875,34469.28515625,41478.21875,30072.998046875,39097.59765625,50587.47265625,87148.640625,33641.09765625,80721.5390625,71811.2109375,46311.8359375,59292.1015625,54337.99609375,64202.0234375,87057.375,44782.89453125,65332.3828125,74464.078125,48022.66796875,64985.54296875,24268.0859375,43441.45703125,50891.66015625,51623.65625,61111.72265625,39139.10546875,90248.1015625,46572.26953125,92870.4296875,133922.515625,64257.82421875,38439.3125,46796.2890625,36153.4453125,88651.4921875,35476.16015625,67152.75,52372.6640625,69593.4921875,113308.453125,40434.0625,75990.859375,73071.28125,51588.40234375,42432.0625,32111.2109375,66369.2265625,51237.52734375,41205.87890625,71112.8828125,43569.02734375,65062.3046875,33939.36328125,90718.9609375,54580.2890625,83077.1484375,89010.8125,3980.748291015625,86771.7265625,54708.66796875,88229.6640625,79902.328125,37813.3828125,101055.5078125,42119.30859375,36712.984375,120856.1953125,23175.326171875,67592.46875,50730.93359375,87871.0859375,80224.140625,38397.37890625,53045.796875,85981.8515625,40728.55078125,87984.484375,70030.671875,59637.74609375,109211.6875,72973.4375,82665.90625,76613.0078125,83112.40625,32993.515625,96297.8359375,40490.12890625,71750.4140625,76786.046875,55500.81640625,37287.8828125,64885.2890625,100440.90625,57479.15234375,45073.0625,39223.66015625,46917.6953125,36957.953125,96906.53125,39658.33984375,53742.48046875,57558.296875,69342.859375,58116.55078125,61374.7265625,86291.9140625,74880.515625,45577.12890625,85729.6640625,55901.73828125,76136.78125,30736.94921875,41630.36328125,59647.44921875,58308.34765625,37217.5859375,101688.8515625,86803.734375,72993.2734375,35848.29296875,36225.234375,40834.5625,63342.99609375,50326.9609375,40548.3984375,29955.19921875,53879.4921875,49869.33984375,33001.1640625,95590.8515625,63711.20703125,44878.94921875,55996.9453125,80752.046875,52172.7421875,32231.908203125,78416.8203125,89766.1015625,90505.046875,52810.078125,72031.8046875,81232.296875,78610.109375,57316.53515625,64521.53125,37533.85546875,67154.90625,86496.6015625,73830.6015625,65071.20703125,89228.1875,33652.12890625,51066.1640625,65077.109375,86366.5234375,99604.859375,39684.6875,101633.640625,67676.53125,76936.3515625,24977.791015625,91960.875,69056.6875,100415.2265625,109933.609375,74337.28125,36205.99609375,49530.15625,88941.046875,66244.6015625,43430.8828125,52303.9609375,41013.21484375,65892.734375,69729.3828125,91624.296875,92918.546875,121193.015625,31931.07421875,52470.94140625,53744.9609375,69189.1015625,79899.8203125,46400.68359375,31606.181640625,55162.36328125,51770.2421875,38740.39453125,35983.01171875,85858.765625,42977.5546875,89560.203125,32797.3359375,40573.33984375,77721.65625,56740.09375,76024.5625,74529.8359375,69246.2578125,40964.015625,36637.125,40859.06640625,81398.0625,44059.28125,69102.5234375,42218.640625,42727.34765625,91193.8828125,45844.6171875,81989.75,83081.15625,51751.0390625,39154.9921875,72971.1875,49289.64453125,66549.9375,51670.28125,38846.8515625,40963.63671875,61606.16796875,98179.3984375,38505.83203125,25276.681640625,61262.97265625,76574.9296875,95694.1171875,93287.7421875,79474.6640625,63049.62890625,70014.1328125,102239.3203125,83147.1640625,90300.5390625,55829.0703125,36567.0078125,31396.44140625,100142.8203125,50998.609375,43643.66796875,50507.6796875,72501.53125,69408.9765625,62090.55859375,42540.4453125,119880.1484375,90988.671875,40559.875,43991.84765625,104291.09375,68155.703125,40566.3828125,93880.609375,108453.046875,81317.4765625,72765.9296875,81906.1875,58891.8515625,90584.1796875,73151.0234375,39295.0859375,45411.59765625,18401.03515625,73292.484375,81832.0390625,78667.9296875,58203.17578125,75871.4609375,37083.82421875,77573.3515625,50426.2265625,47430.3515625,77462.46875,47708.3046875,76613.25,74503.1796875,47990.3359375,99639.96875,27028.619140625,21206.08203125,55670.92578125,91627.765625,83499.9140625,80938.265625,74253.6796875,57025.19140625,48404.890625,31235.1328125,90067.640625,93037.2890625,20916.13671875,78963.7734375,92538.0703125,57975.9453125,43194.9140625,56940.18359375,56767.80859375,58405.51171875,55307.578125,99001.0625,76535.9140625,24174.587890625,45532.0078125,20765.958984375,82257.15625,53617.109375,40867.41015625,113790.203125,34771.625,66971.015625,39496.3671875,108179.7734375,74209.46875,74287.6015625,90626.453125,42474.125,50835.23828125,69865.3203125,44949.12109375,70222.9609375,81552.3515625,46826.16015625,65349.796875,121162.6171875,38431.015625,70175.671875,44470.40625,85982.0703125,84676.9453125,35964.53125,54212.515625,18373.14453125,88653.09375,41173.38671875,81278.7109375,64101.2734375,31499.392578125,58226.42578125,64152.62109375,77270.40625,49914.91015625,73600.328125,46782.99609375,23896.384765625,77181.546875,40688.96875,63488.28125,40235.91015625,34877.734375,46026.44140625,54148.54296875,48112.16015625,38427.4609375,31917.53515625,57039.79296875,63990.67578125,41771.9609375,81645.3515625,77087.2890625,43760.0,60219.765625,42873.4296875,58449.78515625,56032.67578125,71451.0859375,41923.4921875,91738.6171875,39600.625,95193.8671875,52252.95703125,84289.3984375,51633.453125,44712.0703125,49177.109375,66154.71875,52979.93359375,34437.76953125,72017.6875,81170.3828125,121349.171875,95369.0625,34191.37109375,89917.09375,68374.1796875,74216.109375,43617.83984375,74558.6796875,86847.296875,67112.65625,37083.82421875,38443.6953125,56982.13671875,51788.1875,51944.39453125,83284.140625,51562.0625,50146.54296875,63313.25390625,94825.515625,34247.11328125,40400.90625,45334.26171875,53198.13671875,51751.0390625,67132.1875,45162.50390625,38718.48046875,35898.30078125,69384.1875,61714.3359375,42642.4140625,40977.41015625,82109.4375,59945.4453125,36129.15234375,46301.78125,61537.125,31909.61328125,72999.0546875,100761.4453125,58375.0234375,56173.38671875,82914.546875,44878.03515625,81322.171875,36310.57421875,62141.62890625,53655.48046875,19770.841796875,51787.0078125,66740.5234375,49424.34765625,47979.44140625,53049.73828125,55862.2265625,31526.83203125,51391.3125,51837.71484375,27787.765625,40861.78125,34709.80859375,52051.765625,28087.197265625,39895.125,39889.0234375,87254.8828125,88205.1328125,72878.2265625,96244.7265625,49443.94921875,42829.65234375,54453.0546875,36747.4609375,47942.1875,28509.513671875,58939.46875,108764.5234375,61885.6484375,43674.73828125,47200.078125,73311.6015625,122426.0859375,48750.34765625,46074.2890625,90734.9921875,73577.6875,66968.7890625,103717.625,69086.8515625,82251.2734375,35025.07421875,44411.53125,88609.5,88941.046875,33353.55078125,41853.26953125,62568.27734375,36595.28125,50415.16015625,22239.85546875,31994.74609375,75199.4375,46213.5078125,59823.35546875,43466.078125,76377.328125,70527.5625,71274.7578125,28432.837890625,40728.55078125,52255.73828125,49131.55859375,58457.24609375,58631.171875,79971.59375,67053.21875,47393.03515625,96255.890625,63457.44140625,37050.5078125,81680.7421875,30831.87890625,55862.2265625,78307.4609375,80346.9296875,55117.18359375,69313.140625,36164.91796875,71429.4375,75119.3125,48519.390625,92158.265625,87664.5078125,48428.9296875,32952.87109375,70785.3046875,78938.8828125,50129.8125,85571.6640625,44180.2734375,37924.91796875,68365.4375,96720.9921875,27694.90625,64929.3984375,31750.388671875,85365.171875,99582.1640625,82381.3125,66208.1484375,52501.87890625,48619.41015625,64497.78515625,53816.640625,91692.609375,58123.19921875,96260.3125,40264.75390625,50859.88671875,66270.078125,34258.76171875,54402.8984375,21702.12109375,40753.66796875,48321.57421875,85034.1015625,83721.3125,77838.3515625,25241.373046875,71907.125,39183.4921875,45426.56640625,36911.89453125,84910.0078125,32933.0,40859.7109375,56601.9296875,80027.1484375,60321.99609375,57308.546875,98082.921875,38604.59765625,56829.953125,99894.328125,91558.8515625,42165.98828125,79113.0078125,78762.0234375,78531.5703125,36499.8046875,97057.9765625,78385.6484375,51945.34765625,47005.68359375,41771.9609375,55954.48828125,78714.8203125,93528.234375,46903.69921875,85133.21875,84733.515625,67026.640625,54071.92578125,47121.2890625,60515.5625,101914.5859375,72595.2578125,117499.328125,59002.12890625,63407.58203125,55530.6953125,29669.505859375,97895.8828125,59241.0625,36325.60546875,50494.48046875,84833.703125,72157.0859375,81000.28125,78596.2578125,47777.671875,52908.92578125,77573.3515625,37892.3828125,80890.1015625,47770.94921875,31075.046875,70499.1171875,51201.16796875,98938.6953125,86227.2421875,32077.755859375,50229.921875,86572.0625,63093.41796875,105342.15625,70975.953125,76100.4140625,78767.6015625,95414.2734375,79920.7265625,41674.390625,74184.1015625,56076.94921875,93830.625,60266.16015625,43324.25390625,43121.88671875,81026.28125,58766.91015625,97776.40625,100437.265625,57552.99609375,94396.890625,73892.203125,117350.2578125,31932.064453125,20476.388671875,50715.6015625,94774.9921875,82328.1953125,60876.62890625,93184.0859375,50135.18359375,42127.59765625,67756.4765625,48626.41015625,84163.359375,43339.0703125,48809.140625,36610.953125,45662.5234375,22083.87109375,100543.046875,75741.09375,106637.2109375,69769.90625,44989.8203125,46744.80859375,38517.5859375,80542.7109375,42096.72265625,44727.67578125,52123.82421875,52377.765625,51792.94140625,52376.00390625,70400.21875,77718.1640625,74507.5390625,38000.1953125,41413.64453125,62558.90234375,66704.46875,38752.94921875,60129.953125,82587.5625,42850.8125,38034.28515625,43458.453125,87083.265625,61911.27734375,94345.046875,73027.8203125,88786.4296875,42381.16015625,41941.921875,44729.6328125,41900.97265625,68951.2109375,60087.97265625,25814.146484375,36144.6171875,79569.9453125,38299.71875,54088.25390625,79924.234375,46544.80859375,81500.2109375,60662.8984375,35095.2421875,42186.9609375,56463.63671875,67152.75,66907.59375,59871.18359375,69660.3203125,55496.27734375,91149.796875,82879.15625,53622.67578125,49941.984375,68589.9140625,1292.748291015625,106146.9765625,71986.2578125,40329.5390625,90241.2734375,92091.671875,56693.01953125,49277.7578125,68623.5703125,98395.828125,58374.6484375,35165.15234375,32020.064453125,65661.9765625,52994.87109375,31130.09375,85632.71875,44208.8984375,61286.22265625,12208.6875,43612.01953125,73478.265625,116196.2890625,35096.53515625,65747.0859375,50767.16015625,49077.9140625,54763.15234375,40016.86328125,53795.09375,91229.7734375,47951.7265625,80766.5625,84261.046875,81582.828125,93850.5390625,51611.65234375,33500.27734375,36737.79296875,34288.36328125,95996.3515625,61575.27734375,53345.07421875,34267.17578125,60734.078125,50135.18359375,65866.546875,80870.4609375,50807.29296875,50611.28515625,1819.8480224609375,66659.65625,95324.890625,83273.171875,83339.9609375,58037.453125,34460.140625,52362.91796875,35506.3671875,51631.45703125,64446.14453125,80403.2265625,53224.11328125,50422.24609375,67728.3828125,82071.59375,43056.21484375,68855.1015625,96451.8046875,100298.109375,83142.390625,112189.5234375,79954.2890625,37860.0078125,49538.96875,32241.763671875,47440.953125,49281.44140625,58395.734375,40012.9921875,73279.3359375,32130.951171875,66227.3828125,54409.0625,56374.66796875,61690.28515625,62939.46484375,46221.9453125,27620.794921875,81378.3203125,50114.54296875,46146.8359375,92494.5703125,64368.9296875,48568.76171875,25481.771484375,49341.76953125,61431.41796875,36041.58984375,87073.4609375,75816.7734375,53008.80859375,73465.1484375,49721.1640625,75057.53125,62183.47265625,68113.875,47550.03515625,35001.28515625,61585.609375,100012.7734375,54786.22265625,53570.94140625,50944.69140625,57568.65234375,64238.23828125,38873.2734375,94632.6171875,57429.58984375,74873.3203125,72448.4609375,70224.6796875,63337.453125,72541.2421875,65271.828125,88020.015625,49977.27734375,100883.2890625,132876.765625,37710.28515625,44640.69921875,55010.84375,114213.25,61800.9609375,35995.8984375,48051.8359375,47311.83203125,96523.34375,90675.3984375,84982.6171875,69015.7734375,53611.19140625,41523.7734375,40956.9375,41428.49609375,91179.671875,70433.2265625,84739.4375,56420.73046875,79052.390625,35769.12109375,88161.1640625,91190.0,86601.625,25219.22265625,27852.265625,73027.8203125,52960.1875,43217.00390625,107353.3515625,78443.2734375,38465.64453125,65756.5,46887.328125,47184.5625,45050.7421875,66066.140625,51252.09375,61779.24609375,94816.46875,107832.0859375,56634.6640625,97838.8046875,68223.890625,83381.4375,59432.41015625,41311.5234375,65816.8125,125687.1953125,34015.9140625,92838.125,35521.85546875,35341.22265625,78808.609375,42311.48828125,98623.3984375,44404.48828125,57451.265625,60093.73046875,57683.96484375,62350.9453125,49775.71484375,43748.546875,73828.375,81266.546875,31254.59375,-55.534671783447266,47476.671875,106139.1796875,41922.2109375,56310.140625,93850.8671875,73393.921875,83203.5703125,55795.73046875,53719.265625,145065.609375,48272.10546875,86145.5390625,27999.708984375,122892.515625,92234.59375,85711.2578125,118186.0,45740.41796875,42074.83203125,84749.4453125,37068.5546875,50669.90234375,60294.671875,62271.015625,79849.15625,48999.5,58703.58984375,39061.34765625,67850.03125,59584.375,84829.1171875,81495.8515625,57385.03515625,86551.640625,105506.1953125,73500.59375,86096.765625,57955.8828125,58116.55078125,84840.671875,63755.53125,25537.763671875,66455.953125,90828.5390625,65134.13671875,84524.265625,47960.671875,33665.35546875,133826.578125,50573.06640625,50374.359375,41304.7421875,70060.859375,76654.078125,33351.078125,50955.3515625,91029.96875,74402.5234375,56096.859375,58889.16015625,86845.90625,39251.04296875,48988.578125,41652.171875,66169.8046875,32455.40234375,97965.703125,117524.359375,81736.0390625,51563.296875,55181.04296875,35461.37109375,93502.4609375,53447.04296875,57116.98046875,76883.4375,82585.7890625,83584.921875,117197.671875,35822.19140625,63644.9453125,47921.50390625,39054.12109375,42386.96484375,59852.125,104895.5234375,46286.5234375,77380.96875,79841.421875,57419.703125,78389.53125,96252.5390625,78654.734375,42325.234375,38842.55859375,68348.171875,78077.6171875,105157.5390625,82292.0,62481.38671875,52631.15234375,39169.421875,60338.62109375,51615.140625,49530.15625,68854.8125,55856.921875,65428.62890625,127204.375,58142.08203125,41927.94921875,31395.97265625,80989.5859375,44432.765625,91155.921875,91641.6171875,78172.6796875,63915.5703125,90429.75,61758.79296875,40831.09375,36600.1640625,36814.40234375,61822.9609375,55022.515625,38012.5859375,103721.890625,49652.75390625,55853.02734375,35650.890625,85327.6796875,52191.4765625,95539.1953125,78420.625,85824.625,34693.12109375,81573.40625,32427.255859375,94999.53125,32879.89453125,45954.43359375,99712.59375,52155.75,47936.3515625,88018.6484375,76882.125,32430.95703125,59990.61328125,40446.6640625,76630.5234375,74297.9765625,59782.28125,49479.9296875,63940.8203125,53864.64453125,28502.681640625,33455.12109375,88914.09375,73305.7421875,91812.5546875,84686.171875,51682.43359375,44048.76953125,82843.4765625,120856.453125,95642.796875,51600.55859375,82171.2578125,67072.453125,81104.640625,50280.53125,38933.6171875,42896.6796875,47214.92578125,49761.72265625,83772.8515625,75990.703125,97147.1328125,52519.5546875,36591.6328125,45681.91015625,65432.08984375,61262.97265625,90020.28125,59547.66796875,77704.96875,54081.66015625,46519.86328125,53591.3125,86875.765625,53664.453125,49869.33984375,74045.875,79952.6328125,97685.3671875,20542.87109375,109002.234375,58192.9921875,27423.228515625,17212.056640625,54619.2734375,84033.671875,87786.2734375,41376.0390625,10998.59375,61162.3203125,66880.984375,38670.8203125,75110.1015625,53933.05078125,94435.0703125,94137.78125,64085.88671875,92294.3984375,39079.21875,57429.58984375,86616.453125,49323.92578125,73442.5390625,68467.1953125,61994.58203125,62396.609375,50830.03515625,54194.73828125,49102.94140625,65568.2578125,73746.515625,49017.09375,43948.65234375,88770.5546875,65682.515625,35884.19921875,53181.6015625,37845.0390625,52433.65625,102442.4140625,23504.908203125,31047.587890625,48305.76171875,67696.71875,71224.5546875,31676.556640625,62110.1875,82529.234375,92134.1640625,45061.484375,25010.439453125,50398.328125,70012.96875,38698.6640625,65713.8671875,38431.015625,103237.171875,46508.0234375,84783.765625,82233.34375,54770.45703125,38329.19921875,83284.140625,69676.546875,46370.14453125,104432.0,79822.6328125,56031.4140625,62931.0625,67460.1484375,101160.9375,4113.40576171875,48684.01953125,60494.66796875,106589.1171875,77034.796875,59207.90625,52104.15625,108002.0546875,47125.828125,92194.3046875,52989.56640625,45931.64453125,36998.98046875,72536.9140625,35457.1328125,36650.8828125,64650.34375,46886.89453125,47097.40234375,95211.875,74230.171875,23318.181640625,35798.48828125,104586.1015625,55571.73046875,71485.5234375,96193.734375,31261.630859375,55630.78125,31070.0234375,91184.78125,93502.4609375,91359.6875,88829.890625,43238.890625,42389.0,102993.9453125,97363.9375,104044.828125,114096.2734375,25666.41796875,78641.3046875,84920.25,87766.8828125,38243.50390625,123709.15625,42059.984375,79139.1953125,70421.6328125,36647.98828125,77718.1640625,33692.5078125,95224.2265625,34924.984375,71432.609375,71658.0703125,84276.2734375,89638.5390625,49752.46484375,66793.9453125,62450.72265625,80055.53125,86668.8828125,80451.125,33282.6875,73078.2578125,87644.4375,67942.046875,48672.31640625,100723.8203125,55689.5,90819.40625,47348.5390625,95598.1171875,56765.38671875,43610.328125,49969.1796875,45160.6796875,44855.6953125,52881.046875,53345.8125,69394.59375,90482.3671875,48200.296875,81594.0,79665.0859375,100782.453125,61305.93359375,89505.984375,38846.36328125,48296.97265625,76195.625,66140.7265625,36145.765625,85977.453125,82190.703125,64326.1328125,131714.9375,80768.6328125,115209.2421875,102368.9375,59982.33203125,50957.7109375,39604.8828125,21760.390625,40018.33984375,134551.328125,60416.2578125,73448.84375,73241.203125,28482.5859375,65448.3984375,44888.578125,36938.58203125,56298.57421875,69380.96875,53653.07421875,74846.8359375,49048.48828125,51648.23046875,99702.8984375,86096.765625,68564.2890625,73669.7421875,81716.140625,116576.0,88981.796875,89420.5234375,56567.12890625,40150.84765625,73962.125,61164.02734375,60496.3671875,95066.4375,89248.28125,89163.265625,58537.5,64359.9453125,49661.03125,48428.9296875,72466.828125,97223.0546875,51031.6875,61614.2265625,77334.6015625,43121.88671875,91115.953125,57409.96875,60878.34765625,79414.4296875,56708.95703125,41964.76953125,68565.796875,89210.46875,23898.150390625,93037.2890625,43612.01953125,86185.6328125,51437.23828125,43403.08203125,88572.7578125,47754.9296875,38329.19921875,70461.59375,48062.3203125,23888.568359375,72701.0,65685.8203125,67360.5859375,38716.375,58610.8984375,71037.078125,44778.55078125,35136.09765625,61021.08203125,95642.796875,41501.63671875,33603.02734375,87163.8515625,67095.703125,77493.5234375,42558.265625,37808.64453125,54684.3203125,36903.578125,80482.1640625,49821.078125,30866.462890625,68253.3046875,11163.12109375,42605.97265625,42977.5546875,81705.90625,62155.90234375,74333.796875,80965.5546875,87586.34375,58253.21484375,41066.6796875,46738.796875,25145.013671875,46545.7734375,54928.9765625,65786.796875,140443.890625,77443.96875,49328.46484375,102946.1953125,59721.28515625,25497.720703125,58681.95703125,73717.765625,74192.1328125,57514.0078125,71624.7265625,36813.37109375,44150.375,101392.84375,75845.3515625,37347.66796875,57742.296875,61046.69921875,97707.0078125,84108.1640625,55843.12890625,46785.703125,83508.3984375,25461.89453125,54933.515625,68945.6796875,36199.4296875,56861.0234375,98731.90625,32806.78125,28302.369140625,94598.703125,42914.5078125,52364.82421875,46629.53515625,94675.375,54230.45703125,41523.7734375,62596.3359375,27028.890625,74287.9140625,104855.0390625,86410.890625,40750.05859375,38117.8671875,51945.73046875,25173.57421875,58828.4765625,83860.3828125,52991.30078125,84136.7734375,91216.453125,105974.1953125,97561.8671875,85574.40625,58828.52734375,74360.4765625,47380.0,53472.13671875,89060.46875,54008.8828125,122148.5625,92320.7578125,81872.453125,68018.21875,49869.33984375,40241.50390625,50189.15625,23862.2421875,77087.2890625,105409.7109375,45295.27734375,81713.5234375,35184.046875,56619.81640625,49693.59375,48568.76171875,34016.1328125,50014.1171875,80954.828125,138880.84375,66923.7578125,40739.7890625,93476.5078125,83408.453125,56299.125,91657.4765625,42936.3203125,66690.2109375,89630.453125,92882.875,55133.1015625,92423.09375,53374.671875,51430.80859375,73577.8515625,62951.6484375,43216.8125,73451.28125,37887.671875,74315.4765625,54751.51953125,74658.890625,35646.7890625,64415.109375,89849.90625,116929.3125,49305.328125,75721.5390625,40724.01171875,66488.515625,61746.8125,57822.14453125,48298.32421875,47065.6171875,51577.609375,73830.6015625,62818.55859375,70211.3046875,100526.3671875,44181.62109375,92056.078125,56678.04296875,51048.5859375,57837.05078125,74049.3828125,59061.76953125,76123.515625,99597.921875,34551.734375,21581.185546875,46350.62109375,87178.8984375,115728.0703125,49644.54296875,82222.1484375,42328.31640625,10640.740234375,103282.8515625,78012.6796875,82544.4765625,46937.2109375,58857.34765625,101820.875,42825.15234375,97540.75,92028.515625,79132.9296875,57514.16015625,46529.9921875,37972.3125,34843.48046875,105906.53125,94065.03125,44096.01171875,39619.73828125,50270.21875,39314.89453125,61163.82421875,37897.9375,49594.34375,87064.3359375,115792.0703125,65301.9296875,24036.07421875,29810.484375,69784.7421875,106302.390625,49213.92578125,37406.54296875,56550.125,38252.99609375,90421.5390625,55540.765625,61779.24609375,60570.5390625,71280.6484375,82784.1796875,44849.90625,73792.28125,77230.4296875,82874.9453125,52255.73828125,31613.521484375,75385.296875,29447.34765625,83749.796875,85369.421875,52934.9453125,72809.8671875,36761.50390625,39411.76171875,41578.78125,73845.1328125,52295.6171875,97436.0390625,69134.6328125,24071.962890625,43948.65234375,99410.3828125,63049.62890625,37924.91796875,93872.203125,53241.41796875,28227.42578125,42736.62109375,53461.828125,59659.33203125,54655.3203125,53461.890625,59519.16796875,99613.3671875,52922.38671875,67066.2890625,61505.265625,110123.34375,73344.78125,97126.6953125,49761.72265625,31875.279296875,55430.015625,48045.9453125,91842.0859375,91308.234375,29306.15625,60566.33984375,61916.1640625,55652.9609375,70106.703125,31428.185546875,84088.1640625,60995.57421875,70129.4453125,43582.7109375,45207.2421875,87762.7734375,56005.04296875,39893.5625,62288.921875,109458.234375,46515.33203125,36409.08984375,29289.005859375,34409.4921875,76195.3203125,44728.19140625,52742.05078125,72633.71875,43101.109375,70099.984375,46042.87109375,53384.52734375,40645.58203125,129136.8125,54606.25390625,44095.859375,60400.03515625,72825.359375,23507.556640625,105123.34375,46931.640625,112325.2109375,73705.6484375,82558.953125,38607.3828125,38684.9296875,64530.59375,88626.7265625,42791.97265625,71332.5078125,104307.203125,88601.3671875,75798.6015625,96915.046875,29500.283203125,37489.73828125,80947.3515625,87715.828125,53167.64453125,57751.77734375,55969.37109375,36673.47265625,57336.8671875,59621.71484375,26623.0390625,53608.96875,33343.14453125,79271.4296875,32837.52734375,32797.84765625,58747.66796875,79558.046875,58479.94140625,66579.359375,76166.046875,67446.09375,93857.3515625,32413.005859375,87139.8984375,88211.203125,84169.40625,69892.453125,24253.970703125,96876.796875,115331.609375,84075.0234375,68249.5,63812.25390625,49932.91015625,25965.46875,48589.4609375,50982.28515625,32568.12890625,70072.8203125,36600.1640625,78372.3984375,34669.7109375,50440.92578125,57725.8125,82501.921875,37391.6953125,78317.1953125,21300.130859375,38226.578125,111448.9296875,97192.4453125,19156.505859375,85824.625,55241.6484375,53883.33984375,67612.265625,96255.890625,52458.36328125,76292.328125,54925.08984375,72470.609375,57247.1875,50204.00390625,37950.87109375,66143.8515625,41996.5703125,61139.875,76594.296875,37955.9375,60725.2890625,54360.390625,48051.8359375,45656.80078125,122274.015625,34078.765625,20318.953125,69246.828125,48808.41015625,46955.76171875,68218.859375,39349.65625,73500.8984375,53418.42578125,66586.2421875,39935.82421875,75086.15625,24497.400390625,38302.4375,69343.6015625,93013.1484375,87907.4921875,61604.84765625,44610.3984375,62178.609375,50135.78515625,41511.67578125,31501.544921875,118622.203125,48722.11328125,84874.515625,49181.609375,75609.4921875,56096.859375,47741.96484375,51594.171875,65427.859375,38241.01953125,89796.09375,31848.4296875,22207.42578125,33618.97265625,103360.5,35848.29296875,84690.921875,33645.25390625,109197.2109375,62122.12109375,70804.84375,36835.58203125,43758.34375,88548.0,98345.5546875,93884.9140625,47613.32421875,45387.31640625,60166.609375,38075.015625,36633.40234375,33495.73828125,40512.4765625,49678.83984375,77094.171875,91143.765625,93691.9765625,34248.6953125,96195.953125,25077.99609375,88172.0625,83051.8828125,30856.841796875,63701.25,53746.8359375,67529.6796875,75035.296875,139173.953125,82640.3203125,66417.6640625,31764.205078125,86364.890625,37299.671875,43563.9140625,61761.83203125,52235.01953125,53273.984375,74711.4375,52548.7265625,47838.9921875,98357.2734375,59995.12890625,51931.125,42670.4296875,90129.2109375,63521.390625,89157.7421875,62810.43359375,57851.64453125,47246.8359375,29799.80078125,71112.8828125,88642.4453125,73344.953125,88625.5234375,115225.5390625,59260.97265625,51773.33984375,72251.6328125,58947.6640625,51225.265625,50204.65625,56947.8125,80873.78125,45233.5390625,56690.80078125,43087.8125,82580.3984375,55275.44921875,55872.32421875,64675.91015625,23718.845703125,69822.2890625,83528.5234375,126590.9296875,59378.21484375,96432.3125,71103.1015625,85181.8359375,48243.30078125,36505.13671875,52762.77734375,67720.6640625,49956.703125,36762.19921875,45155.40625,110356.5859375,57392.23046875,92005.265625,33608.1328125,105656.546875,112637.9296875,75671.5703125,61073.4453125,62211.1953125,62083.33203125,62449.15234375,37077.24609375,34973.0234375,39499.921875,56707.52734375,29498.341796875,77942.875,112789.2578125,86123.1796875,65814.609375,40241.50390625,48711.91796875,53905.484375,91466.90625,58304.546875,74653.8046875,56539.83984375,56754.8125,50630.46484375,70274.03125,51748.58203125,48663.24609375,79433.1484375,86650.4765625,54690.5703125,86301.828125,29697.07421875,63690.04296875,36295.875,45026.37890625,54496.21484375,88991.8984375,56730.58203125,44709.41015625,62204.37890625,48951.13671875,72424.0703125,51927.2109375,25360.201171875,83202.421875,74325.5390625,39826.44140625,88135.609375,61481.03515625,75149.953125,94839.71875,80733.40625,98853.84375,37108.12890625,82113.859375,46222.81640625,42124.0859375,59320.57421875,100925.65625,50034.671875,67596.546875,89995.421875,65039.6953125,44488.26171875,21588.908203125,87258.2734375,49898.08203125,74439.109375,43042.76171875,70635.546875,42993.734375,33769.71875,38215.04296875,66138.8203125,71022.7734375,52927.8046875,99847.0078125,85162.4140625,48625.1640625,42317.53125,77462.46875,40200.5234375,47449.125,39127.76171875,41237.01953125,44668.9296875,59782.01953125,55943.421875,42924.25,39942.89453125,40564.44140625,97981.875,103650.953125,110227.40625,69074.9609375,85309.7421875,40891.32421875,57523.73828125,56056.3515625,35972.515625,43056.21484375,46126.56640625,65764.953125,74551.171875,89549.125,31875.279296875,69261.28125,33222.265625,76549.8984375,31949.666015625,119484.171875,58897.078125,99496.46875,81434.1171875,103071.25,47185.80078125,37403.74609375,63282.40234375,63329.453125,97965.703125,23047.3671875,33020.88671875,41917.41796875,50124.0390625,36334.11328125,72750.515625,23926.041015625,49849.6953125,78938.3515625,58624.109375,81084.1171875,50120.9375,80283.6796875,30077.939453125,41550.26953125,64839.87890625,62651.16015625,36616.12109375,89819.515625,51347.98046875,38298.30859375,92609.296875,49883.265625,68371.421875,59320.2734375,68695.046875,94647.0,38517.51171875,51956.63671875,54570.6171875,39916.59375,59431.52734375,68224.6953125,48595.29296875,50773.98828125,62063.6953125,74711.8515625,65668.09375,106799.984375,79646.9765625,41771.9609375,47863.2578125,46992.73828125,105822.4140625,70402.15625,63398.39453125,54720.03515625,85438.203125,51270.375,32156.7734375,66651.0234375,47646.875,58252.9140625,61165.15234375,38201.51953125,61714.3359375,49455.703125,48389.4765625,77545.4296875,93175.9140625,70387.3046875,42883.08984375,79683.25,37598.38671875,100858.0390625,86934.890625,63879.671875,78987.46875,34409.4921875,56545.8515625,52053.0546875,38674.03515625,39728.8984375,30995.6171875,117311.3125,84946.7109375,69233.265625,92110.8125,79189.0703125,26859.080078125,59319.48828125,19683.291015625,58857.84765625,60929.3046875,31931.07421875,86600.9609375,100271.4296875,86621.2109375,49849.6953125,74558.6796875,49237.51171875,91293.7734375,53705.66015625,95135.4609375,57120.8515625,45622.15625,29415.310546875,74854.3125,80552.828125,69644.59375,36417.03125,76122.40625,81856.7890625,86026.5859375,80077.9609375,57832.1171875,87423.3203125,69976.5625,72397.9140625,69956.2734375,28055.806640625,55829.36328125,95282.4765625,95692.8046875,100942.34375,44612.82421875,104401.9140625,45991.375,13919.8232421875,60174.44921875,37606.3984375,52305.05078125,39100.52734375,81327.34375,115384.796875,71965.78125,33510.78515625,34304.66015625,46489.7890625,54853.31640625,47825.16015625,102302.296875,82820.2265625,105917.4453125,68650.03125,102322.0859375,80646.8828125,74773.3671875,65847.234375,34231.6640625,76832.2578125,67512.84375,59475.8515625,46672.984375,77144.828125,66021.6953125,76758.484375,95455.25,46576.11328125,49919.17578125,38964.0234375,71318.53125,81698.671875,31113.263671875,53158.3515625,25282.0546875,115155.390625,99015.9140625,34800.69921875,53129.734375,64743.390625,68257.5234375,36600.1640625,27595.060546875,50017.00390625,70761.3359375,35049.22265625,44517.80859375,36451.203125,36197.73046875,41881.88671875,85380.0234375,36116.546875,106292.609375,39165.7109375,41869.45703125,52785.65625,74340.828125,83376.15625,69003.484375,64273.6015625,1108.1182861328125,91379.65625,57475.48046875,96274.9296875,33328.296875,37096.08984375,56847.55859375,47904.984375,90106.984375,88465.21875,74209.46875,39807.05078125,48362.078125,45241.87890625,87674.828125,51788.91796875,40528.82421875,37777.828125,60169.91015625,43430.8828125,99281.75,68380.2890625,93369.921875,132457.75,39295.0859375,67361.578125,45178.45703125,75861.921875,82229.0078125,79332.0390625,78607.9140625,37827.37890625,65861.296875,44983.48828125,33405.75,66966.203125,38433.13671875,75222.4296875,44155.13671875,42254.7734375,43373.5859375,54673.55078125,34835.078125,64777.171875,43612.01953125,58666.09375,49315.85546875,29586.625,74332.7578125,44821.0546875,96006.8828125,67464.421875,62339.2421875,39155.90625,77163.8515625,66625.1328125,99416.8125,43659.890625,39951.22265625,93879.796875,53158.1484375,53994.03515625,57651.23828125,60740.16796875,52670.2734375,47333.59765625,70110.0859375,85895.2265625,81282.6953125,89115.8125,68561.09375,43079.85546875,43238.890625,39732.9296875,46762.26171875,45098.4453125,88333.7265625,73335.046875,79609.0859375,68032.015625,37083.82421875,79119.796875,33175.44140625,67710.6875,41654.015625,54551.4140625,82820.7734375,67072.125,65921.5078125,26018.578125,104902.984375,61122.703125,75108.0546875,59887.77734375,60219.66015625,41257.08984375,101353.21875,47697.07421875,89780.9453125,44077.7578125,72102.65625,129500.71875,101068.2109375,41428.49609375,58136.453125,95435.9921875,94332.96875,47311.015625,74810.5703125,91626.3359375,43282.91796875,55120.23828125,94553.0625,85616.671875,24823.537109375,83459.3359375,48611.1796875,32427.85546875,44639.8671875,37267.83984375,89279.5390625,34694.9609375,44451.93359375,52523.265625,49688.30859375,93851.5859375,49675.37890625,54554.9609375,62834.64453125,80212.265625,111146.546875,49465.6484375,88530.84375,42435.19921875,91174.484375,42363.18359375,48034.75,58791.125,51924.8828125,41348.15234375,49869.33984375,34219.875,74997.0546875,56056.5234375,46612.0859375,54563.02734375,76904.5,87440.5859375,65392.46484375,68465.9375,64570.7265625,51767.828125,86558.359375,81776.703125,40520.99609375,36217.34765625,38358.3203125,58658.18359375,90323.09375,25183.087890625,94733.21875,113145.3359375,54352.078125,62279.7578125,45985.1640625,82820.2265625,68393.0,83228.3671875,36722.46484375,51715.75390625,38352.44921875,88654.1953125,30202.11328125,50441.00390625,74717.125,89366.1484375,44185.73046875,42771.78515625,55605.13671875,41899.890625,97608.5234375,65983.90625,81086.4296875,59461.02734375,49733.87109375,53558.34375,41635.39453125,109490.9765625,31153.537109375,84832.7421875,109557.8046875,60370.3984375,81852.546875,24056.322265625,77507.34375,49439.52734375,116566.09375,42693.6796875,63242.55078125,30792.8203125,126388.6640625,51485.49609375,89675.2109375,19257.919921875,55549.16796875,23136.400390625,91330.8046875,35307.14453125,87455.3203125,65420.3515625,44717.5546875,42520.671875,106558.953125,73455.9921875,67697.0078125,60876.62890625,86484.5546875,69366.3359375,36765.36328125,49277.7578125,118172.8125,31268.40234375,69241.421875,52871.140625,47845.2578125,66973.9453125,78791.59375,131706.4375,21415.775390625,38899.45703125,54276.12109375,71710.6171875,62992.421875,32507.6171875,60324.25390625,47069.33203125,67411.4609375,58218.0234375,73564.671875,71926.734375,50861.04296875,72843.421875,52319.06640625,49634.56640625,127922.1171875,59719.5546875,105275.75,37939.5703125,31501.544921875,47646.62890625,114396.6171875,88433.859375,67260.7109375,93115.5078125,51838.796875,88111.4765625,44164.953125,79562.8046875,57409.3203125,56056.3515625,77540.890625,72430.328125,102112.5625,81390.484375,27848.966796875,80884.140625,109766.546875,115778.1015625,56118.5703125,42727.34765625,54960.109375,47121.09765625,61892.9296875,56283.51171875,31282.484375,29263.8984375,61644.765625,55208.61328125,56804.7109375,55373.96484375,73683.5546875,67574.734375,49216.98828125,71154.4375,32555.013671875,82424.8203125,35590.66015625,82791.6171875,45204.88671875,58827.43359375,84261.046875,56931.38671875,48348.28515625,113108.1015625,57553.45703125,55335.77734375,74559.9375,25051.892578125,50394.51953125,47076.9296875,84738.390625,67779.2890625,57926.54296875,42675.83984375,75252.96875,39715.34765625,49002.328125,57499.16015625,111109.0390625,42800.40234375,54744.875,66729.484375,74022.6875,76365.3046875,34684.79296875,64844.37890625,69812.3828125,64939.9921875,100147.5,55996.9453125,45991.65625,24133.451171875,56179.14453125,92363.2265625,28955.681640625,147045.6875,91723.828125,95145.2734375,37434.87109375,91184.78125,105631.9609375,47823.87109375,96358.4453125,32745.3125,95792.6328125,79417.5390625,62613.28125,47181.31640625,97178.5078125,40563.5234375,46266.73828125,67670.8046875,42838.08984375,73505.984375,41464.125,36899.7265625,141415.109375,73072.53125,90421.5390625,82433.2734375,102457.3359375,49776.890625,51342.17578125,120260.984375,108502.7265625,51287.46484375,87636.7890625,94075.90625,35360.67578125,20946.390625,51767.7421875,48044.96875,104647.453125,38002.27734375,58646.01953125,44455.55859375,92237.0859375,56733.0390625,92057.125,53162.90625,74720.609375,40183.5390625,82930.6640625,64516.61328125,73357.4140625,56947.65234375,51562.0625,45895.92578125,97817.65625,79890.78125,59801.78515625,44265.53515625,53143.30078125,51600.67578125,84523.671875,79405.7265625,54794.10546875,82778.2265625,42094.2578125,42756.953125,78780.25,99348.1015625,38542.76171875,64796.45703125,67485.828125,102587.53125,85692.75,88413.21875,48451.578125,68454.4765625,82975.7578125,37009.01953125,46323.0,32993.2421875,64258.6328125,62171.09765625,48034.75,78107.0078125,69603.765625,71065.2421875,86138.3984375,91456.9921875,76727.75,56916.5390625,24949.423828125,86570.4375,73363.9296875,80218.3125,82039.9453125,72737.3046875,57499.21484375,31841.80859375,82492.8046875,60574.40234375,61904.765625,49360.21484375,81076.640625,108382.8515625,66975.828125,46204.1015625,85032.765625,48040.0703125,47160.5234375,63678.4921875,40018.33984375,93410.890625,80138.5078125,109522.328125,49830.1328125,51547.69140625,59077.71484375,54327.2578125,84474.125,42138.0078125,53505.04296875,52795.23046875,71282.8203125,45317.53515625,65904.7578125,84733.515625,46798.35546875,105870.609375,27769.404296875,101114.234375,79375.5,61215.5546875,58791.125,40814.1015625,51577.609375,59461.02734375,77668.984375,72102.65625,92965.5625,84349.1328125,93462.75,74137.6640625,97962.8046875,101218.8828125,109155.546875,82617.578125,69533.75,78445.59375,75507.7421875,68936.9140625,70290.2265625,68895.921875,75591.09375,60174.44921875,57114.7109375,53444.515625,45967.0625,93942.390625,64493.80078125,36807.8203125,78645.796875,27398.876953125,49663.5,81780.1171875,29947.16015625,91115.25,24571.65234375,36894.1015625,50249.125,22483.51953125,38460.6171875,34126.0078125,42892.08203125,110581.7734375,43870.2734375,42427.2734375,50817.2421875,94715.2421875,45832.2890625,88070.859375,39439.33203125,66678.171875,53577.32421875,66680.25,41237.51953125,70338.703125,110695.8359375,45564.84765625,33982.5,101901.5,44739.9765625,104526.8828125,61983.40234375,56415.80859375,52290.44921875,74149.5625,57562.8359375,31694.76171875,31932.064453125,34149.3125,64446.14453125,51172.44140625,17051.787109375,109159.7109375,42658.0859375,55616.84765625,24484.1328125,92182.4375,64327.63671875,27500.03125,48663.24609375,34465.33984375,47792.9921875,41604.7578125,51559.78515625,84053.515625,107235.5546875,74705.7578125,95533.046875,70841.9375,35678.15234375,70695.671875,70724.109375,34547.921875,30266.65234375,50291.62109375,36846.4296875,73774.9140625,40380.80859375,97061.2109375,106781.34375,85552.0390625,109756.875,43224.59765625,43334.09765625,45993.390625,35617.63671875,43067.203125,59314.45703125,75640.9765625,25887.16015625,46117.75390625,50395.01953125,66643.546875,80547.015625,58828.4765625,56940.4609375,35874.875,51681.37109375,62970.92578125,61863.1953125,79559.46875,56058.79296875,67020.484375,78687.6953125,34597.15625,41063.30078125,36831.3203125,53725.4921875,91163.1171875,67280.625,95213.4296875,57860.734375,48136.296875,79102.1640625,62662.48828125,64024.03125,32750.6875,89955.71875,50114.54296875,117836.9375,91063.2890625,50660.15625,60190.83203125,65334.58984375,77386.6875,52676.96484375,49790.7109375,23892.251953125,73465.53125,47927.33984375,73426.265625,80336.8515625,74228.921875,44807.3359375,83611.1640625,97823.71875,60188.46484375,38892.50390625,87796.4296875,128366.84375,46690.60546875,24399.251953125,60699.0390625,82978.71875,55867.109375,83025.8515625,66740.5234375,58541.34375,62311.671875,84135.4921875,56299.125,76392.8046875,71135.796875,59962.390625,50459.9765625,46424.8125,112782.28125,24297.416015625,83838.40625,75155.046875,109154.1015625,73251.7734375,33370.30078125,73843.09375,100063.734375,55582.015625,69925.3828125,65470.109375,64639.40234375,86494.3046875,58336.96484375,69744.3046875,31981.103515625,30085.025390625,58763.02734375,26336.64453125,69880.53125,58521.484375,48869.8046875,37630.91796875,59079.9921875,49881.19921875,71921.1875,38490.6484375,51854.203125,77272.1015625,45129.47265625,34105.6328125,31894.28515625,70018.4453125,51547.91015625,79315.5234375,52753.625,72705.625,98479.8125,56150.52734375,65388.22265625,56194.64453125,70402.9609375,111911.4453125,44387.35546875,131616.125,66259.5,46539.47265625,69443.9296875,66170.359375,92086.453125,84756.2109375,83684.2734375,61368.1953125,87580.046875,43655.38671875,56632.37109375,48598.84375,55211.18359375,34025.86328125,66142.875,32661.5,61688.7734375,86695.5234375,47198.484375,89873.6328125,37134.70703125,56647.3359375,59566.12890625,73492.7109375,79011.9296875,31731.494140625,62897.83984375,114511.625,53283.02734375,60514.47265625,81246.734375,45654.2578125,61523.53125,82752.5625,46065.05078125,31601.484375,38720.6953125,49273.3671875,41356.1796875,90266.921875,61779.24609375,47215.42578125,18763.55859375,58948.3984375,54218.1171875,70736.5078125,91443.2109375,67357.125,64419.75,28625.9765625,69061.7421875,46369.328125,27310.85546875,59716.48828125,71371.4765625,115458.6328125,112325.2109375,21577.484375,85953.2421875,32861.8984375,86777.9921875,73017.9140625,29356.630859375,48690.6796875,26619.595703125,75457.9375,65201.65625,58383.984375,108242.375,76979.265625,70512.15625,46051.09375,69700.765625,39968.37890625,52149.22265625,44998.4140625,78217.421875,37147.65234375,65168.21875,40273.1171875,69317.453125,86187.53125,76445.609375,46586.40234375,43373.0390625,94667.109375,90942.796875,27224.416015625,34304.66015625,33988.5625,62706.71875,49667.79296875,71729.1796875,50880.71875,85256.03125,70615.4375,88418.2578125,45545.18359375,80023.734375,48086.7734375,73409.3828125,80174.0390625,41891.46484375,107069.7890625,57703.8046875,51919.75,79499.3125,61546.90234375,33232.203125,59517.89453125,16596.177734375,60657.90625,56453.6328125,80685.7890625,50014.078125,65421.37890625,53458.9453125,71436.0234375,25422.388671875,81426.453125,93911.8828125,32619.52734375,84316.4140625,63959.8125,61489.9453125,63458.21875,45700.03125,49927.5390625,80905.5625,72192.6640625,122729.0546875,64743.390625,63084.51953125,44169.5078125,77522.1796875,64688.55078125,46898.484375,73890.796875,50191.79296875,36340.8984375,52070.3671875,88652.078125,33610.609375,39015.6484375,55231.12890625,43413.53515625,132940.28125,84305.2265625,55713.921875,78932.4765625,42653.7421875,87148.4453125,34458.4765625,72540.140625,78313.203125,40653.75,73446.984375,94702.828125,103942.5390625,84935.1015625,95888.1640625,75940.640625,53315.875,27048.96875,69310.625,53100.12109375,48895.46875,84957.4375,51615.97265625,37814.12109375,68997.5078125,62044.19140625,37977.1953125,72756.46875,103721.375,83667.7734375,53752.67578125,32128.171875,47452.7890625,88354.4453125,45557.90625,100252.0234375,35057.4296875,81793.53125,44625.8515625,50146.54296875,77617.7421875,38972.546875,75857.4765625,69156.546875,60496.3671875,82875.359375,37237.12109375,67138.484375,77752.1875,86842.1953125,67682.15625,21509.361328125,42303.2265625,92461.2734375,91069.375,54315.9296875,83724.953125,38159.25,83828.453125,53609.1171875,33144.0625,85255.3203125,33489.32421875,18897.330078125,88761.4453125,59448.03125,77606.7265625,97485.078125,39052.03515625,53279.71875,108648.6171875,27999.708984375,94466.4765625,40619.79296875,51600.67578125,85209.3984375,44321.546875,92020.1171875,54870.4453125,60510.54296875,62246.546875,44198.36328125,37976.65234375,40933.44140625,53580.4765625,127813.7109375,101783.5703125,41630.1484375,81063.140625,71104.59375,50323.234375,55571.70703125,56283.94140625,65292.35546875,60317.40234375,40414.3984375,74464.078125,85133.8046875,63525.66015625,81054.7578125,36407.234375,38114.05078125,45766.296875,57753.06640625,49277.7578125,47995.09765625,42666.9609375,66535.0859375,82591.3203125,36402.515625,60438.48046875,61845.83203125,65359.8125,103138.6875,56774.015625,37420.3203125,61227.171875,78635.4765625,86484.1640625,58704.54296875,63510.03515625,48148.4765625,87704.1484375,80485.7578125,89505.984375,83429.9296875,96411.984375,41933.07421875,87864.03125,31047.587890625,70429.1953125,60256.7109375,69000.421875,30324.380859375,66329.7578125,37237.08203125,66541.1171875,23728.732421875,29022.90234375,54250.375,49206.3359375,54279.6484375,57478.60546875,81259.546875,91379.65625,70898.15625,73470.1015625,55652.9609375,95196.34375,49279.90625,39015.6484375,73709.890625,86041.2578125,79026.28125,56469.92578125,68324.8671875,83162.9375,42386.43359375,26726.208984375,40016.26953125,33650.57421875,62501.8046875,50969.796875,33181.02734375,49534.41796875,46789.64453125,57135.69921875,86575.6640625,45044.26171875,74683.0859375,44916.140625,34497.90234375,32856.85546875,86494.7578125,95068.8125,35523.4609375,78582.546875,109839.0625,34030.52734375,47227.58984375,26421.76171875,40694.6640625,59969.3671875,38298.30859375,72883.328125,84269.0546875,41263.91015625,45312.24609375,70195.40625,48003.59375,33652.12890625,36740.10546875,55573.9765625,79405.171875,72530.140625,44309.01171875,33286.765625,102699.0546875,85843.9140625,111270.1015625,45765.75390625,56071.37109375,33224.921875,56660.98828125,50724.96484375,41674.390625,63180.13671875,72348.9765625,38852.06640625,49624.1484375,41434.015625,97553.125,50655.34765625,119766.1796875,55270.42578125,30832.30078125,58148.58984375,84502.5703125,115154.34375,129282.609375,90301.0078125,79704.796875,85870.890625,51219.16015625,50143.16015625,52820.4765625,89383.328125,30091.26171875,85879.53125,27448.1640625,51733.734375,35995.8984375,26100.701171875,45632.0234375,51327.1875,62628.3125,64429.68359375,96344.15625,30117.998046875,79632.734375,101526.140625,55318.0703125,69105.2265625,93836.4765625,90553.1328125,64818.75390625,87557.734375,74865.6640625,54062.1796875,57382.21875,51411.48828125,44320.19140625,62204.37890625,25024.658203125,123834.8671875,72989.28125,73016.703125,107040.2578125,38274.6640625,24791.46875,40046.640625,51864.51171875,25649.66796875,84451.625,106917.6640625,35671.33203125,79421.296875,60096.41015625,45788.75,52765.44140625,82524.171875,49624.1484375,45748.875,28499.677734375,41574.1171875,137195.3125,47440.953125,41105.61328125,71370.0625,23494.412109375,47047.5390625,58756.51953125,49170.9609375,89902.2421875,96959.3203125,114757.0078125,42378.734375,67970.65625,96109.296875,39194.640625,84327.8203125,90321.9296875,44998.62109375,42370.05859375,44411.95703125,60132.81640625,36336.359375,111697.7734375,36029.58984375,77981.171875,60677.74609375,54697.70703125,46988.53515625,24333.68359375,28474.064453125,55105.390625,43430.8828125,84391.078125,44687.78515625,99961.3046875,54609.7890625,79407.7578125,32228.583984375,110477.2578125,65077.109375,81258.84375,105539.71875,58889.16015625,46228.35546875,38496.140625,71212.1171875,39467.19140625,44245.1875,80964.1953125,56680.4921875,36528.421875,124151.7890625,91752.8046875,80110.0078125,98824.90625,55219.80078125,89228.1875,74028.46875,49805.5078125,42774.51171875,42642.4140625,58889.16015625,24034.052734375,67872.0078125,48327.6796875,59086.4375,46511.234375,50235.8203125,87003.59375,60544.1640625,88441.96875,99998.5546875,35911.76953125,44688.19140625,61901.796875,101111.7890625,53416.15625,64386.73828125,111458.8515625,133414.140625,88777.171875,103453.6484375,55929.99609375,40557.44140625,113632.53125,117335.1484375,41303.20703125,65714.140625,80007.5546875,31988.30859375,82879.15625,52070.3671875,63412.74609375,103362.0390625,85011.703125,64243.08984375,71343.2109375,51031.6875,78888.578125,78983.3203125,64487.6953125,47825.16015625,76541.421875,107010.0390625,104649.828125,86001.375,53303.76171875,106140.421875,34043.3203125,51845.97265625,29483.5703125,56861.0234375,84206.2265625,84246.1953125,100378.421875,72814.6953125,78107.0078125,103735.6171875,30875.88671875,77458.625,74191.6953125,64862.2578125,76334.296875,94042.4375,61761.83203125,63678.4921875,36713.1015625,57368.9765625,20339.08984375,43516.51171875,28654.986328125,36184.18359375,84496.515625,44604.4296875,80042.0,41899.890625,66628.796875,41940.7265625,31927.525390625,73071.28125,60929.3046875,35995.765625,33328.296875,31831.005859375,66895.8359375,51172.04296875,59596.01953125,88405.265625,48161.9375,35210.44921875,49538.21875,101437.4296875,101921.984375,87697.2578125,47860.10546875,47192.13671875,36207.94921875,69472.9375,84212.4921875,57860.12109375,55015.37890625,84032.953125,61149.60546875,60169.91015625,100854.6796875,49974.63671875,65238.55078125,24245.853515625,70794.7734375,40475.28125,52958.734375,87699.765625,81234.0234375,41947.328125,85982.328125,41752.8125,64326.1328125,47750.4765625,36174.68359375,83709.25,49716.5078125,60505.98046875,66682.2890625,26580.34765625,43803.16796875,71490.7109375,37556.69921875,69861.4609375,63649.359375,45981.91015625,55856.93359375,41870.34375,97600.421875,37999.38671875,64808.1328125,42107.1640625,40635.81640625,74692.046875,47282.3984375,87482.6015625,82896.234375,62133.2734375,75242.484375,47969.37890625,71529.4765625,38324.92578125,73251.7734375,86990.34375,90191.2578125,43884.4921875,67567.4375,23731.455078125,40248.546875,53544.046875,78389.59375,45951.6171875,49381.9609375,56560.69921875,41374.3828125,94000.6171875,67401.9609375,79332.0390625,47160.5234375,96338.125,99237.5859375,91430.703125,59058.8671875,109322.7109375,61197.67578125,88903.484375,83043.5,55327.3984375,45510.05078125,89572.625,79292.421875,56479.0859375,53677.2109375,80437.3203125,121721.4765625,44492.80078125,81933.75,37026.625,34981.84765625,79757.2890625,57213.890625,38163.7890625,71894.6875,75476.671875,93695.5546875,40312.7734375,38991.0,61127.71484375,72412.765625,58837.75390625,76279.453125,68466.328125,94147.4140625,57765.421875,101827.4921875,54807.2890625,44102.625,81307.3203125,97484.484375,92334.8515625,29816.45703125,47054.41015625,110525.390625,35764.2421875,40016.26953125,64308.25,36700.66796875,39065.9140625,41369.0703125,44555.66796875,69925.8828125,41101.98046875,32079.23828125,43409.9765625,62574.640625,47716.96875,98082.9609375,82826.8046875,43079.46484375,56707.8046875,36601.2734375,65201.65625,45065.75,64248.5859375,101415.546875,57547.94921875,96184.59375,63228.85546875,113142.7734375,99601.4453125,44983.828125,49976.8671875,30531.638671875,79805.8984375,72637.0234375,66439.2265625,95665.609375,99301.625,85102.8515625,50056.51953125,85778.1328125,51940.8828125,66208.1484375,50243.26953125,78393.7890625,76326.5234375,67138.484375,53994.03515625,47593.90234375,54434.77734375,79598.140625,90696.0234375,42375.25390625,85828.21875,135715.953125,92852.65625,40043.421875,80269.4453125,58028.31640625,100272.3828125,45929.30859375,34930.56640625,74445.5078125,53115.77734375,38945.140625,48061.39453125,96418.8203125,56071.19921875,32502.9765625,80918.9609375,87026.890625,82207.953125,55558.37109375,38593.64453125,32770.27734375,96036.3046875,61027.3125,39820.7109375,64120.62109375,74057.078125,76995.6875,89195.015625,50839.48046875,86514.8359375,59808.56640625,26922.36328125,90302.203125,48724.671875,47631.78125,35638.66015625,56924.52734375,50661.359375,83776.0703125,73308.21875,63457.44140625,97687.8125,74841.375,57111.90234375,53300.609375,32195.24609375,89842.3046875,43403.08203125,69316.7578125,39513.6796875,66109.6015625,38359.0859375,52594.3359375,50427.828125,86919.71875,71378.2265625,100859.84375,36743.625,99530.8984375,35573.66796875,106399.140625,49213.8203125,41298.65625,27474.93359375,102352.5546875,43146.8828125,50093.62890625,51819.98828125,40227.859375,49093.25,40490.12890625,94075.703125,83025.109375,54536.66796875,47764.78515625,62325.90234375,89541.5390625,75318.34375,27740.6640625,59048.62109375,66476.8203125,62513.171875,74368.390625,48044.96875,68044.171875,83150.5625,44683.77734375,70328.125,66616.2734375,54261.2734375,89030.4296875,55073.4375,39306.421875,56630.08984375,28759.00390625,44389.79296875,28013.54296875,60734.6953125,80479.96875,84150.4765625,60931.11328125,62128.0703125,25887.16015625,41927.4609375,29411.0703125,56039.81640625,36217.15234375,47624.26953125,76141.5234375,79393.421875,26738.966796875,34933.90234375,67779.2890625,65377.65625,59065.48046875,30585.173828125,83657.8671875,43735.46484375,38408.88671875,30155.203125,82859.2265625,77219.921875,69940.734375,85359.03125,36340.8984375,79310.53125,59637.05078125,22742.298828125,108149.734375,56822.3828125,38284.0625,69604.34375,37683.96875,50200.15625,46006.63671875,83384.953125,36006.5078125,22977.134765625,41468.08203125,75612.3671875,55429.1796875,68550.921875,70673.40625,59790.76171875,83631.375,71436.0234375,53162.74609375,50041.6640625,23491.232421875,64386.73828125,100415.2265625,49755.81640625,111751.9765625,87947.875,31003.423828125,35226.3359375,51466.609375,79277.4921875,55800.74609375,61872.8828125,87291.171875,93916.3359375,32591.984375,45577.12890625,50418.671875,52666.55078125,103824.71875,72498.4453125,57965.4921875,40963.63671875,81091.4921875,43210.37890625,55516.8515625,54618.48828125,76301.046875,62781.59765625,74315.671875,104978.03125,64390.19140625,59271.01953125,59546.73828125,46438.203125,63770.96484375,57429.58984375,49883.265625,36938.89453125,65806.2265625,24937.732421875,32769.3359375,78423.6640625,83370.109375,49955.109375,36519.515625,30499.537109375,86414.46875,47907.15234375,42145.078125,84401.7265625,26615.697265625,105092.8203125,37056.25390625,49974.63671875,62166.1640625,53426.6875,81051.5625,71939.4296875,41990.5703125,34081.875,67346.0859375,26087.935546875,92911.5625,72442.1875,67527.359375,65741.1953125,50619.30078125,65617.3359375,66535.0859375,37468.91796875,96358.4453125,23097.0859375,35341.10546875,49345.76953125,20617.5078125,81000.28125,50144.1875,63118.43359375,114737.7109375,42362.296875,55137.00390625,33755.98828125,35575.63671875,82930.3984375,63942.23046875,64896.53125,67600.1171875,38096.20703125,80951.4375,79561.6875,89374.484375,64923.21484375,87330.2109375,57520.99609375,31800.3046875,45032.8671875,40091.27734375,41630.36328125,38337.1015625,103758.2890625,78569.46875,33260.0546875,32576.453125,32856.85546875,59358.1171875,57895.37890625,38776.6640625,64793.88671875,40724.01171875,42283.390625,54562.02734375,68954.65625,33248.875,89295.9609375,50102.02734375,73767.6484375,111970.21875,88340.4140625,69901.546875,96960.9375,65026.37109375,25413.203125,76569.0703125,39669.07421875,33475.71875,78647.0859375,69070.4140625,29392.91015625,78426.96875,72262.296875,58727.90234375,52382.61328125,47896.60546875,89410.796875,34989.359375,81653.1796875,83179.171875,34250.81640625,54651.23046875,53312.41015625,53803.67578125,63677.21875,64521.66015625,81057.875,57838.77734375,69749.1171875,84042.4453125,56115.4296875,50129.73828125,80920.4140625,51900.66796875,66823.640625,109823.34375,65778.6640625,89200.609375,53951.3125,49256.7734375,64657.0546875,27598.11328125,49134.05078125,71464.6328125,94641.125,50498.66015625,99391.125,94526.75,106765.859375,60899.22265625,69316.9921875,47764.34375,99246.765625,69822.2890625,84116.7734375,55527.890625,108112.0859375,64476.66015625,50130.98046875,36533.08203125,49478.59375,87942.0,53891.4375,57329.875,76933.921875,72963.296875,57406.8125,66030.9296875,79313.9921875,75162.7734375,71699.796875,58402.97265625,46922.36328125,99252.46875,104186.6171875,58183.92578125,31134.240234375,38786.125,28786.55078125,55277.6796875,27870.69921875,56384.5859375,63296.70703125,97749.171875,99192.0390625,79757.2890625,52320.91796875,83151.0703125,54370.94140625,101699.640625,55083.62890625,47104.5078125,61153.1796875,80548.8046875,57499.421875,131132.0625,64466.23046875,71056.8984375,52333.8984375,103138.375,94184.96875,26046.146484375,52252.5703125,20587.208984375,36530.1953125,76927.75,83994.40625,51929.7890625,59696.33984375,72531.96875,78016.2421875,87018.90625,50184.44921875,41843.87109375,37621.75390625,96130.3125,51983.99609375,65067.5390625,88953.7265625,26580.404296875,70104.421875,42621.53515625,96909.3984375,102108.546875,57989.96875,34033.46875,94632.6171875,81552.625,49231.36328125,66262.6875,30131.193359375,82064.78125,74321.2265625,97414.4921875,70248.8515625,36737.79296875,73408.7734375,56215.671875,45199.91015625,84900.1015625,45684.03515625,31429.30859375,72253.9375,25510.0625,40706.00390625,47614.37109375,97596.5703125,95333.796875,65448.3984375,96188.9296875,67622.140625,66808.2265625,63219.30078125,77083.53125,84843.078125,63928.03515625,42418.69921875,67828.75,95407.3828125,38028.8125,59872.84765625,142045.8125,40357.68359375,38173.71484375,64281.359375,108698.734375,29788.1484375,86002.9140625,70468.625,41739.9296875,56751.640625,58344.7890625,45168.53515625,49857.703125,65202.16796875,51390.7578125,70508.5703125,61192.5546875,45977.01171875,102530.296875,74253.6796875,99800.8984375,78962.1328125,57883.8515625,56335.11328125,36176.046875,85999.0390625,64177.59375,97628.328125,59317.48828125,75222.6796875,105134.890625,92508.0859375,78074.3203125,27415.73046875,85482.1328125,37178.2421875,88034.78125,50936.52734375,40491.51171875,77512.28125,88755.2890625,39471.3046875,50052.26171875,60141.29296875,21600.744140625,51956.484375,29413.341796875,38817.609375,40831.09375,30254.3203125,76522.546875,48323.97265625,107484.96875,58324.27734375,31624.634765625,58016.3203125,84412.0859375,58958.0234375,62496.546875,64031.08203125,20746.955078125,36193.21484375,73690.796875,49226.796875,96807.1171875,86297.9609375,37689.17578125,95359.421875,45916.796875,80286.265625,53897.28125,38684.9296875,37446.6875,37887.671875,79109.390625,73059.2890625,32887.20703125,92906.3359375,57520.99609375,73335.6171875,43046.70703125,74136.8515625,51603.25,78793.734375,49559.73046875,55540.765625,69245.0625,34162.75390625,84935.1015625,135456.0625,34547.921875,70559.53125,73393.921875,37035.859375,105910.1640625,42578.40234375,47944.39453125,55162.36328125,88270.6875,74273.3125,84400.5078125,29474.685546875,61070.48046875,40775.46484375,41257.015625,82161.3359375,54187.68359375,71022.7734375,70061.515625,26618.294921875,92151.765625,-80.71044158935547,79750.5,60715.16015625,59844.23046875,69737.3671875,76571.3515625,21837.861328125,53636.765625,62810.43359375,74720.609375,60180.515625,64505.27734375,66613.6953125,43404.078125,81991.453125,61614.2265625,64172.48828125,46620.75,83392.5234375,83649.53125,92153.015625,46977.11328125,33375.59375,67323.0390625,96507.7265625,10570.765625,55292.73046875,71834.421875,1653.1429443359375,52294.08203125,65535.625,57416.14453125,50120.9375,27506.8359375,55162.36328125,45479.8828125,66668.203125,78104.09375,55504.08984375,33439.71875,86010.890625,53752.67578125,36314.8671875,103368.875,46793.18359375,54276.97265625,72153.34375,46568.78515625,52403.28515625,58717.9609375,76911.7734375,49063.08984375,41866.734375,79670.328125,36551.671875,81401.5703125,32387.62109375,30254.826171875,40781.23828125,95237.8125,45842.8359375,45744.3359375,44265.53515625,46238.12109375,64192.3046875,58130.13671875,81094.3125,44517.80859375,33328.296875,60964.390625,34693.12109375,86885.1015625,106061.125,82592.703125,53816.640625,89294.578125,37887.671875,5168.3876953125,56660.98828125,20775.310546875,31897.38671875,103183.8359375,88049.7734375,50684.75,52298.7734375,37030.45703125,55677.828125,67256.1640625,66376.59375,125775.671875,57457.453125,79067.359375,43607.60546875,81803.7421875,52005.0625,40778.67578125,38914.01171875,84170.96875,74496.25,52065.3984375,36174.3828125,51983.71875,29572.189453125,51030.94140625,115717.375,79281.96875,63852.328125,81109.4296875,50572.625,65201.65625,46791.67578125,69930.546875,50576.890625,84007.3671875,44913.18359375,19929.93359375,76899.6640625,62026.046875,85062.53125,36368.46875,53461.828125,66943.0234375,84984.046875,100770.0390625,51455.9453125,83095.0390625,65762.75,82034.3515625,60911.50390625,46529.40625,79902.328125,54162.22265625,48011.41796875,47930.40234375,57322.48828125,58309.67578125,63079.5703125,44133.03125,23628.046875,74282.2890625,32353.431640625,78081.6875,63125.69921875,87969.6328125,50778.58984375,94791.671875,30376.986328125,87718.2890625,54794.10546875,87660.78125,47424.8046875,78565.65625,65875.1171875,40689.85546875,56760.0078125,67884.9140625,84575.625,86034.5546875,110715.6171875,99448.90625,69685.453125,91143.765625,55969.37109375,87098.1171875,80010.4609375,48290.9140625,61127.71484375,55467.0546875,53484.77734375,32128.171875,87763.828125,82113.859375,20457.71875,83690.40625,73864.640625,53994.03515625,86414.46875,60510.3515625,52574.40625,75969.0390625,32993.34375,32970.09375,89702.1171875,69971.1171875,42328.31640625,127533.5859375,68263.3359375,109102.1796875,48034.75,75074.40625,82583.9921875,54960.109375,23915.5625,33515.4453125,87626.59375,116339.7890625,38274.6640625,42334.265625,37796.21875,103031.6796875,87330.2109375,43672.68359375,66680.25,40728.55078125,85318.140625,104602.6328125,62094.55078125,52421.359375,78917.5625,55679.5703125,29415.205078125,87254.8828125,61143.73046875,46625.17578125,78217.8828125,56374.66796875,73508.5390625,28170.376953125,113659.1953125,98392.21875,50189.15625,63843.359375,69871.3671875,85723.21875,51765.2109375,78254.375,78789.59375,41754.80859375,87651.640625,58454.0078125,56716.84375,78055.9140625,53884.55859375,44930.27734375,65463.79296875,112024.40625,51793.015625,39409.9765625,36374.24609375,75976.0078125,69065.4296875,47005.68359375,25698.990234375,57475.48046875,67161.1328125,53644.94140625,89192.546875,63662.37109375,106369.0625,33253.8671875,88417.3515625,115731.296875,56211.29296875,66994.3515625,47959.2421875,52041.75,71906.296875,51816.6171875,56811.4921875,87636.7890625,62754.02734375,78579.453125,30098.38671875,37684.79296875,56456.6640625,75585.28125,64253.6171875,61905.62109375,41008.5,85729.6640625,73357.4140625,102896.4296875,45931.64453125,55863.1328125,90392.9296875,63403.9453125,53544.046875,45967.0625,44893.75,87311.625,57733.89453125,39422.86328125,42823.2421875,52139.6953125,82482.46875,91672.328125,111931.5078125,102634.1484375,46007.54296875,82929.3984375,44379.76953125,80064.3828125,55558.37109375,70486.40625,48190.8984375,42519.68359375,68854.8125,102224.7578125,59451.10546875,94777.7421875,41961.69140625,94962.734375,65716.53125,41925.28515625,50226.32421875,71222.3359375,54833.3515625,50463.01953125,74461.8203125,73958.765625,37832.859375,54404.34765625,87210.5234375,26270.96875,104586.28125,44708.84375,56185.41796875,66975.828125,93410.890625,51408.62109375,52757.19140625,71647.96875,54638.62109375,36192.4453125,116595.390625,47575.1328125,99233.0546875,53988.77734375,65695.3046875,20421.474609375,44941.765625,67766.453125,39822.84375,57443.97265625,54124.3359375,53463.53125,17845.533203125,52664.1875,88344.71875,65679.0390625,71986.2578125,21852.10546875,55283.8515625,70470.6796875,91171.6171875,60962.18359375,82498.7265625,57156.01953125,51466.609375,81856.1953125,76056.15625,36193.1015625,67464.421875,88342.2421875,52255.73828125,47712.4765625,90795.359375,100970.9375,82592.96875,57890.23828125,55500.81640625,53233.15625,26498.6328125,79654.7109375,42666.9609375,57537.41015625,43385.33984375,58952.9765625,104010.0859375,89901.03125,51751.0390625,67640.0078125,55571.70703125,31622.515625,48722.11328125,62928.3046875,46797.87890625,84255.8203125,96769.5,56822.3828125,70319.2109375,47171.4609375,57178.4609375,32210.095703125,74980.40625,58396.7265625,85218.953125,102528.96875,79526.484375,41510.75390625,92269.40625,46280.99609375,43576.76171875,36057.4921875,51924.8828125,40819.6015625,52048.65625,77829.015625,59494.5703125,85569.09375,64269.328125,69103.3125,34642.078125,50229.53125,72229.2421875,46527.88671875,71343.2109375,41773.640625,47943.41015625,36340.8984375,90398.8828125,36389.2890625,57376.57421875,35003.83984375,49869.33984375,47250.71484375,103721.375,58951.33984375,73232.6171875,41708.46484375,71989.2421875,30145.56640625,68060.7734375,70073.0703125,37375.25,68627.5234375,39308.16015625,69980.921875,19742.224609375,68569.59375,47078.33984375,65602.03125,46234.515625,67400.875,33912.04296875,73667.34375,5327.62158203125,41760.6875,124134.3203125,67361.7890625,87739.1328125,62122.74609375,75204.8203125,41530.25390625,66416.1875,112308.875,140340.859375,74328.984375,81653.1796875,93702.25,37291.53515625,81278.7109375,54010.83203125,33988.5625,29989.955078125,38477.20703125,38530.52734375,23425.990234375,54375.328125,47210.01171875,70515.0859375,49359.109375,48769.80078125,71103.1015625,54360.8125,92509.21875,41191.03125,49678.83984375,49241.92578125,64202.80859375,57499.16015625,94632.6171875,77114.09375,72217.6484375,82776.9140625,54482.9765625,80566.078125,52519.5546875,42338.9609375,88774.4453125,74998.8046875,46326.90234375,54665.4140625,100363.453125,55800.5,65454.93359375,66248.9453125,50006.078125,46156.7734375,68290.859375,45050.7421875,41945.5625,82558.953125,72961.71875,94979.7734375,42441.94921875,79750.5,48391.8125,43687.03515625,79789.8515625,51956.63671875,39612.40625,63296.70703125,68171.6328125,70924.359375,93691.859375,87148.890625,47423.2421875,81083.1953125,32122.259765625,51182.75,55616.84765625,78276.703125,82673.1953125,52757.19140625,34512.4453125,103071.25,56346.85546875,43262.4375,49678.83984375,36202.3046875,93110.1796875,89618.3515625,51407.8125,86558.359375,37458.55859375,73353.1640625,49045.06640625,33002.609375,92429.4375,67124.3125,48186.359375,30725.09375,102043.3828125,50528.40234375,75938.265625,112777.6796875,53590.62109375,72320.3671875,50056.51953125,29991.794921875,43741.97265625,49440.85546875,53211.01171875,78401.6015625,39385.1171875,90471.90625,77986.1015625,98359.8671875,37146.62890625,98607.609375,63814.984375,79339.0390625,42977.8828125,39594.80078125,91898.3515625,104473.9453125,59268.15625,43695.25,76878.890625,49166.17578125,63932.57421875,53158.3515625,34507.90625,65135.19921875,38380.01953125,49124.08984375,52552.69921875,57174.50390625,73499.1484375,65687.75,60631.62109375,62017.671875,62526.69140625,32884.74609375,47047.6328125,71325.5703125,38327.0234375,47030.83203125,94111.96875,46773.640625,101466.3984375,55433.8984375,59209.98046875,43347.28515625,89420.6484375,83664.3828125,37769.98046875,41204.3046875,59716.48828125,73130.53125,88593.7890625,77354.5859375,35663.3046875,105045.15625,90943.1015625,60903.47265625,31211.296875,35809.15234375,76911.7734375,55883.1328125,58289.7578125,32914.1953125,35979.20703125,54565.734375,24546.345703125,40097.10546875,84363.984375,82742.5546875,36447.25,46922.36328125,28541.287109375,59612.40234375,67134.078125,52500.984375,34159.62109375,69421.421875,36591.6328125,75502.4765625,97945.0078125,44067.44921875,79996.09375,62005.14453125,80457.6328125,41530.25390625,50166.80078125,57004.7890625,37003.41796875,27657.658203125,39789.13671875,60307.35546875,111869.9453125,78843.890625,52781.890625,88176.015625,68314.109375,49652.75390625,49237.50390625,64137.53125,52958.734375,86599.046875,43691.50390625,36705.20703125,81848.09375,57316.53515625,41959.8359375,28852.04296875,31875.525390625,44213.8125,79164.578125,37313.640625,62227.06640625,78851.8984375,51839.80859375,45061.2109375,41139.0625,80337.1875,64923.21484375,26960.30078125,58035.671875,51324.83984375,68226.4921875,69537.625,93843.9453125,39591.40234375,74825.0703125,45191.12109375,49442.53125,36835.58203125,72258.265625,90978.78125,55345.5859375,36533.08203125,86854.6640625,62721.5859375,62313.2421875,51019.96875,70230.671875,60951.08984375,73620.7265625,52346.86328125,53871.52734375,88405.46875,123622.8359375,10693.0498046875,69042.828125,51983.71875,34263.54296875,61173.15625,34049.80078125,41452.52734375,56216.09765625,47882.53515625,114368.5859375,82086.71875,62858.16015625,53455.26953125,19796.658203125,92171.53125,20580.978515625,109672.078125,37610.13671875,45309.890625,64617.53515625,83255.09375,82745.3359375,46971.77734375,79225.4453125,47810.1484375,63944.15625,48332.3359375,53003.015625,59314.45703125,30872.359375,31956.453125,21168.3359375,74898.6875,81235.46875,52320.51953125,81142.1171875,63205.8203125,38991.453125,40360.80078125,53158.3515625,40557.44140625,109197.4453125,30043.99609375,87754.9609375,48445.62109375,58756.51953125,30683.296875,58651.94140625,85839.4765625,77049.6484375,91923.421875,56071.37109375,102217.1328125,49070.04296875,54806.80078125,73351.703125,51431.6171875,64493.21484375,53231.17578125,45951.8515625,66719.4296875,79617.4609375,57228.484375,37341.2109375,28689.267578125,39040.515625,27581.599609375,77455.359375,52670.2734375,59401.06640625,39601.6640625,57582.37890625,42418.69921875,44171.51171875,69171.703125,43940.26953125,103877.75,37074.859375,96029.21875,82763.4453125,36593.515625,43997.5703125,108503.9140625,88371.28125,63823.90625,47682.2265625,23638.7421875,103729.546875,51592.45703125,50073.953125,87307.9296875,50536.51171875,79605.90625,42973.41015625,35289.8515625,46561.265625,90027.0703125,80908.671875,50673.9140625,33912.91015625,53841.5625,59020.95703125,54994.9453125,65025.68359375,66437.5390625,28760.0859375,86870.171875,68214.3125,115131.625,88667.6796875,55335.77734375,51939.52734375,45076.45703125,64941.4921875,81669.6484375,74865.71875,54548.1796875,51577.609375,41189.04296875,88110.84375,33954.9296875,63244.10546875,82132.828125,58499.6484375,77704.9453125,26044.486328125,64366.6015625,104558.7265625,48679.8515625,51485.49609375,79510.109375,48960.25,26974.130859375,43353.484375,73465.375,61286.22265625,61644.765625,66312.9609375,101068.2109375,49191.30859375,46545.7734375,54688.83984375,44727.171875,43784.3125,19534.30078125,44486.1484375,46201.04296875,36813.37109375,86002.9140625,21503.224609375,65208.265625,66483.9296875,119394.8515625,49843.60546875,73805.125,40062.66015625,50120.9375,31662.884765625,91654.796875,67036.9765625,87915.890625,71432.0625,52029.94140625,79366.6015625,92424.734375,101279.3828125,51019.390625,97395.3359375,94822.8671875,51683.68359375,127578.359375,100814.3046875,89619.640625,86129.5,99721.96875,32036.615234375,18617.640625,60292.9375,40959.34765625,68563.03125,67574.8203125,90857.1015625,51315.03515625,53173.19921875,48077.0859375,43987.1796875,109872.21875,36984.828125,67606.3515625,36419.84765625,99938.84375,42921.47265625,49983.84765625,34981.84765625,107881.8828125,52540.42578125,29128.2578125,27044.76171875,76890.6875,43845.87109375,77512.28125,88919.6875,45061.2109375,50850.7578125,39289.35546875,79390.8046875,51956.484375,57498.58203125,45043.109375,46929.62109375,45377.7734375,94709.8046875,24087.169921875,88545.6953125,41008.5,88673.625,58089.26953125,42500.28125,28054.681640625,65751.9609375,82287.6953125,67179.0390625,63582.92578125,53539.5,80731.765625,51836.71484375,48126.45703125,96791.203125,40770.96875,23739.0078125,71343.2109375,87057.375,40046.640625,106709.9765625,80790.15625,37009.01953125,62212.21875,88899.0078125,55685.7734375,33383.29296875,64050.25,71482.4296875,47893.31640625,67450.0234375,93600.4765625,56992.05078125,37741.859375,58266.5859375,103177.8359375,48751.640625,36340.8984375,49956.703125,32130.951171875,50238.8515625,27537.630859375,84416.9765625,53232.984375,36528.421875,106427.7265625,89935.1171875,44888.578125,42779.21484375,83585.0234375,50947.6015625,77252.7421875,99464.125,61944.66015625,34025.86328125,47608.52734375,64747.90234375,31751.470703125,19731.03515625,80033.7109375,45971.94921875,48148.4765625,64589.0546875,61799.37890625,92947.4375,48046.96484375,45379.30859375,41165.9921875,52617.41015625,83551.953125,85815.6953125,56153.7109375,51500.34375,71060.328125,44180.51953125,63391.12890625,52070.3671875,57416.11328125,97087.890625,45050.7421875,34296.21875,61055.38671875,74705.7578125,48231.80078125,89767.484375,58583.328125,45764.79296875,32960.5703125,72002.8359375,68389.03125,82647.4453125,90254.2109375,60112.296875,99952.5,68317.34375,45349.4375,110887.921875,75502.4765625,52147.5703125,59945.890625,111173.421875,89200.609375,64017.515625,64782.203125,48301.51171875,73697.3046875,42858.08203125,41523.46875,78367.40625,49125.9375,99001.0625,29397.79296875,70895.5546875,37009.01953125,90306.1015625,31139.791015625,40678.4375,35360.14453125,67298.171875,39780.953125,58513.82421875,54142.80078125,73222.4609375,83570.2109375,59497.58203125,40095.81640625,36776.078125,61333.09375,76559.1015625,31751.21875,59744.74609375,55336.48828125,56597.140625,94040.40625,105636.21875,119291.7421875,30964.37109375,49650.22265625,40046.640625,85285.5234375,52040.94140625,70996.6953125,66889.0546875,48979.55859375,51841.43359375,30956.3671875,56545.01171875,67826.3984375,44185.73046875,87571.9375,84688.1328125,76925.78125,49617.203125,63577.52734375,47249.8828125,50431.58984375,51564.0234375,43275.703125,34952.04296875,36740.10546875,82188.265625,89737.4921875,69105.2265625,40303.9375,84116.7734375,61511.375,23497.583984375,118673.9375,38390.8203125,100523.9140625,54448.7578125,86188.34375,85120.8203125,39477.81640625,48670.68359375,26975.107421875,66962.9765625,31354.830078125,104530.3984375,76138.84375,106833.09375,84170.6484375,64033.2109375,62556.50390625,46312.08984375,58916.44921875,82078.34375,89819.515625,55247.23828125,79956.2578125,87929.6171875,39942.89453125,38106.9375,44587.42578125,37522.4921875,75297.8359375,74044.4375,50179.91015625,22905.328125,75606.265625,41898.9609375,77996.8359375,67457.203125,53609.1171875,91981.46875,29041.78125,96067.3984375,71392.125,46354.47265625,43612.01953125,111314.0078125,70104.421875,41938.703125,72776.2734375,53181.6015625,53232.984375,93357.375,61943.765625,38289.51171875,67833.9765625,57890.23828125,50904.1171875,111720.9296875,35317.15234375,74849.9921875,36761.50390625,49281.39453125,81196.875,59241.0625,66839.46875,71210.296875,64017.515625,24667.53515625,55576.8046875,61088.08203125,102158.6171875,110343.8828125,31865.1640625,87270.8515625,32620.830078125,44230.33984375,69783.765625,83484.703125,81221.1953125,72359.96875,78007.546875,87892.640625,95355.3828125,35967.28125,57129.52734375,74057.078125,79037.3125,38065.6875,90725.5703125,61065.15234375,83835.1640625,64634.875,54077.02734375,71627.9921875,30993.38671875,93618.859375,71232.6328125,48180.02734375,49887.33984375,40163.3046875,70169.40625,26983.443359375,132226.125,31536.51171875,85201.265625,80382.8984375,79344.1328125,65741.1953125,44764.07421875,58178.62890625,68100.328125,66721.375,60093.73046875,74541.2265625,31651.939453125,52966.94140625,85483.7734375,76417.5703125,87338.3671875,59284.22265625,31385.21875,69519.875,89253.9296875,31047.587890625,88530.4765625,90221.9375,8391.7646484375,72422.5546875,36713.30078125,39817.4609375,41832.53125,1889.55712890625,58848.34375,36844.921875,43956.23828125,51287.46484375,43611.4453125,47579.0546875,26657.166015625,106766.7265625,42440.1953125,49773.46875,85931.2109375,56298.34375,64017.515625,41008.5,63093.41796875,63136.265625,70186.03125,39493.41796875,56076.94921875,51929.51171875,57157.4609375,51801.1328125,99819.25,51246.73046875,47174.921875,53982.4921875,53461.828125,90702.7265625,63693.33984375,52419.30078125,71890.9609375,89322.9140625,31353.869140625,74092.828125,87626.59375,108009.828125,99147.625,58041.16015625,110896.1796875,31419.537109375,73232.6171875,44632.015625,33161.66796875,46856.2109375,47941.86328125,88252.625,82919.6796875,38230.3671875,83284.140625,46489.7890625,75157.4453125,73901.265625,41262.296875,61475.09765625,81434.1171875,77431.828125,55523.6953125,95523.8828125,36700.66796875,72608.453125,35096.53515625,23445.560546875,77540.890625,127068.9609375,49821.078125,103365.3125,54026.7265625,76321.171875,75184.8515625,80343.1484375,45048.546875,74542.4296875,141635.46875,61963.421875,32527.966796875,47942.79296875,87600.1640625,49786.66796875,77479.78125,92937.328125,84358.46875,23087.74609375,76126.671875,52473.26171875,87434.8984375,37199.42578125,54792.15234375,88601.3671875,48022.66796875,69060.375,38972.546875,75475.34375,62222.74609375,34472.15234375,69628.4453125,33891.1015625,38645.09765625,64994.87890625,64202.80859375,52586.5546875,76381.7109375,58848.10546875,40409.80078125,33543.80078125,71982.1875,52558.96484375,36069.91015625,73500.796875,103439.7109375,67373.3515625,47533.32421875,82917.8984375,23782.880859375,36722.46484375,68245.296875,79665.3515625,29388.798828125,36835.58203125,78265.953125,68058.84375,69402.4609375,49555.515625,55270.42578125,64515.21875,79605.1484375,73895.125,86652.0625,50441.84375,79006.3125,57759.2109375,99268.9140625,37283.921875,40053.75390625,62996.47265625,91411.2109375,82642.7109375,53631.07421875,59457.39453125,47770.94921875,40046.640625,67246.1171875,39379.96484375,67812.9765625,44174.4140625,109839.0625,52617.41015625,76493.1953125,40046.640625,36499.8046875,30239.5546875,40777.18359375,72209.4296875,60399.015625,73681.7734375,52718.80078125,18995.41796875,72498.0703125,98218.9609375,60519.09375,57527.83203125,60442.95703125,94906.796875,21748.421875,44601.984375,37810.33984375,68062.2265625,56691.8671875,31606.181640625,96921.0703125,32993.34375,36909.921875,81916.4453125,39175.359375,94119.0546875,76872.96875,73982.015625,55452.80078125,71808.359375,41978.6015625,67954.9609375,71112.2578125,72608.3515625,48634.6328125,58666.1953125,44537.78515625,51862.265625,37374.33203125,40046.640625,89298.515625,68302.53125,104374.71875,82388.046875,76156.2578125,59400.9921875,52082.828125,71232.6328125,59801.09765625,66628.59375,93555.796875,51556.28515625,82646.640625,54369.98828125,47931.87890625,57245.04296875,68424.890625,46206.44921875,122963.046875,41898.9609375,49101.1640625,36444.21875,50503.19921875,77018.5078125,33677.88671875,73251.7734375,88546.953125,29730.01171875,82389.671875,40767.6015625,40270.78125,83074.8671875,107660.1640625,45234.64453125,88514.9453125,53158.3515625,61120.0234375,59230.54296875,56992.05078125,53565.453125,53548.5859375,36705.20703125,42328.31640625,77400.5078125,74523.6171875,82917.8984375,72751.28125,58787.421875,42624.38671875,42380.58203125,49702.28515625,30553.34765625,51418.8828125,66435.4453125,31949.666015625,78792.03125,93950.6796875,73341.140625,62916.34375,48214.63671875,86814.453125,59071.51953125,59672.04296875,69233.265625,58598.59765625,97671.59375,64070.95703125,93202.96875,45580.28515625,65677.546875,69660.3203125,68180.4296875,49277.63671875,55159.3359375,38040.69140625,91966.6171875,38933.6171875,77770.828125,61500.3515625,56766.76171875,41415.765625,133525.171875,81940.65625,98585.7109375,53983.421875,57582.8828125,86388.2578125,52308.5,102378.6015625,80554.125,49635.9296875,66206.078125,53862.8203125,103943.8515625,38509.32421875,81386.71875,37796.21875,81189.53125,81143.96875,77339.9375,94345.046875,43408.1640625,76094.59375,43605.4609375,72413.578125,81995.6953125,89810.9453125,100271.109375,30933.8984375,60734.078125,54986.76171875,41117.9453125,67260.7109375,41523.7734375,52835.609375,33187.8671875,67589.5859375,67274.7265625,75400.1484375,78202.8203125,83206.734375,88509.8515625,76561.7734375,39496.3671875,57838.6484375,48314.6796875,54049.375,70736.296875,79269.71875,87413.296875,59844.5625,48820.484375,49894.515625,66969.8359375,25751.677734375,21706.28125,76648.078125,35924.640625,136688.75,65737.6796875,45545.19921875,88785.6171875,60459.78515625,55087.65234375,58093.1875,42352.31640625,49767.0859375,66088.6953125,72335.90625,33166.5859375,41314.3125,26190.85546875,104656.625,58694.7109375,60533.46484375,27310.85546875,70601.0,45580.0234375,91421.0546875,60326.95703125,57406.33984375,61535.80859375,39654.2265625,91294.875,122449.359375,95644.21875,83425.390625,70090.28125,77151.09375,54469.60546875,48249.48046875,88867.015625,42953.03515625,89804.3984375,43770.01171875,105369.890625,101688.8515625,66199.40625,85622.8359375,61876.12890625,100036.171875,30438.564453125,48448.98046875,78246.4921875,53036.796875,33134.59375,20558.623046875,79868.8671875,100732.953125,123243.609375,81336.078125,96331.5,68277.9609375,3457.935791015625,69326.375,64830.19921875,74282.2890625,53753.25390625,45150.14453125,29060.33984375,58202.09375,24087.169921875,51928.01953125,99237.7109375,39596.9375,64714.640625,40635.3984375,38219.83984375,23156.13671875,66342.9453125,90515.171875,77575.21875,105830.4453125,85627.078125,82772.9921875,37050.05078125,101806.9609375,97108.515625,54307.8046875,61675.5546875,59047.12890625,38173.71484375,32088.7890625,52058.42578125,50626.98828125,32168.845703125,36781.0,81197.5859375,31837.974609375,91966.6171875,145823.765625,48270.27734375,75606.265625,28666.1015625,65741.1953125,71432.0625,36369.6640625,48624.08203125,68117.28125,53002.19921875,58294.10546875,47922.5625,65349.796875,49553.06640625,89403.1953125,43146.8828125,38973.1953125,59566.12890625,61571.2109375,30653.673828125,36340.8984375,42519.68359375,101160.9375,64386.81640625,38419.86328125,76034.171875,106166.953125,53616.32421875,33654.25,40065.86328125,54020.8359375,42803.12890625,109768.328125,80715.2265625,48378.3671875,101353.40625,36818.13671875,33214.12109375,64894.609375,43139.70703125,74580.265625,52979.90625,36899.7265625,75668.4375,32459.94140625,74523.6171875,54034.703125,86709.6875,49438.98828125,74015.828125,87764.4921875,88942.203125,45318.60546875,80409.953125,97682.078125,51146.39453125,78601.84375,66087.875,79981.2421875,69336.9140625,42762.4296875,83956.90625,30992.27734375,53933.44140625,67592.46875,41463.5234375,61662.0,61914.265625,120544.34375,102247.90625,88340.4140625,87704.1484375,82129.078125,62171.22265625,49482.44921875,44447.9609375,74618.4765625,88555.4140625,89032.0234375,64050.25,55522.140625,85884.4765625,71609.4296875,59550.47265625,47570.2734375,37722.23046875,47218.56640625,50274.1484375,21877.634765625,36270.78125,89208.53125,102620.5546875,52433.65625,47191.23046875,42102.06640625,88548.0,65317.4921875,47890.13671875,23731.455078125,60880.734375,26542.220703125,53305.59765625,104273.40625,47839.46875,90635.46875,28618.701171875,21645.23046875,82847.7890625,59974.3359375,82301.5703125,37454.59765625,67340.5859375,83320.6875,31656.59765625,74658.890625,78399.0234375,72800.0390625,65624.9375,90902.515625,93443.4140625,68529.3828125,64995.13671875,82904.6640625,33828.234375,30005.125,49151.078125,77505.1796875,86351.671875,38166.80078125,140163.84375,23895.9296875,31093.462890625,57559.57421875,47368.23828125,82226.4765625,94776.5234375,62818.55859375,66791.453125,101423.5234375,95814.1015625,79026.28125,65430.2109375,77335.859375,29726.90234375,57828.4609375,78587.4140625,57926.54296875,106386.0234375,107028.46875,79501.3671875,84676.0703125,37855.34765625,37161.4765625,84510.5546875,41851.0703125,70094.328125,37755.4609375,69539.1328125,97793.53125,84234.4140625,24385.19140625,103663.203125,81217.6484375,54723.515625,50770.40234375,68074.7421875,62336.09765625,49215.41015625,54789.6171875,64765.26953125,63296.70703125,86581.0546875,103547.09375,23535.71875,78496.140625,66582.375,54441.171875,51626.5,32965.625,33070.73046875,50810.8125,69903.609375,57082.24609375,73389.8125,29279.54296875,99151.953125,68863.375,46424.8125,44166.07421875,28946.734375,115973.8125,78578.375,64493.80078125,83044.4375,85955.6875,43924.1953125,66470.8046875,94134.2265625,87555.265625,75502.4765625,33811.3125,28385.796875,81324.6484375,60560.99609375,78921.203125,31764.205078125,83044.4375,72359.640625,78025.515625,60962.78515625,47851.87109375,78630.453125,35521.85546875,77509.4765625,42863.625,98465.5625,71760.796875,50527.6875,86363.40625,31975.3125,78496.140625,47664.65625,50162.60546875,48796.89453125,56835.0078125,83087.34375,78957.7109375,42892.08203125,123627.9453125,91917.2734375,114092.125,66306.34375,102864.7421875,80437.3203125,52673.15625,29339.697265625,72574.140625,30105.763671875,40857.39453125,75438.0625,54139.46484375,96332.1953125,59837.49609375,79514.7578125,95119.5390625,56619.81640625,47839.46875,84706.9765625,100452.5546875,40554.67578125,49869.33984375,55308.1875,49045.7109375,49821.078125,31881.7265625,123226.1171875,64178.49609375,39252.47265625,20745.599609375,54469.60546875,70583.6875,40062.66015625,122178.0625,26157.791015625,91689.5390625,33455.9453125,83655.4375,74710.453125,110278.0078125,67971.2265625,63554.27734375,22014.59375,36205.69140625,61850.68359375,104749.09375,54302.8984375,110210.3828125,91727.6640625,48023.71484375,72144.375,92370.109375,85573.2109375,49204.48046875,74338.8671875,41006.3125,49536.8125,65317.4921875,97609.0078125,67100.3671875,78338.796875,70599.21875,44695.6171875,71389.09375,58155.37890625,32583.146484375,31347.099609375,63555.3671875,69028.9453125,33380.9375,64841.64453125,41374.90625,66818.1640625,42755.96484375,136582.96875,46288.12890625,42153.3359375,29816.45703125,79815.8671875,68681.359375,45074.61328125,79338.9921875,74394.3984375,108091.75,55933.19921875,20366.888671875,10563.970703125,63037.375,56122.53515625,131667.71875,51109.51171875,83574.390625,52584.25390625,31883.771484375,54882.86328125,64228.2421875,42084.03125,63212.94140625,50049.54296875,80690.4140625,36341.94140625,44740.91796875,34053.43359375,57938.046875,67405.0390625,54276.97265625,37003.41796875,50412.84765625,58578.7734375,122368.6875,103316.6171875,41711.29296875,55372.96484375,75845.3515625,75879.1015625,73315.53125,56585.81640625,53470.40625,29129.126953125,67342.2578125,29635.052734375,28549.642578125,27321.80859375,126795.296875,40748.921875,55438.26171875,79417.5390625,27829.015625,61170.58984375,75162.7734375,88608.6953125,82462.0,36550.15625,94637.6796875,51175.72265625,63568.609375,40475.28125,78367.40625,108012.4375,38631.31640625,38378.29296875,79139.578125,43914.19140625,36313.32421875,47674.34765625,59935.4765625,56094.0703125,49276.67578125,58675.0,102053.65625,76402.71875,47003.4375,56985.3125,53226.5703125,42560.28515625,74320.21875,57550.1484375,23640.537109375,50373.14453125,38485.125,33555.578125,58723.875,54179.2421875,57942.58984375,24446.525390625,89796.09375,61059.58984375,91827.40625,91602.125,68009.6796875,55032.63671875,22568.88671875,84042.4453125,52255.73828125,74204.7109375,35517.31640625,78088.359375,57649.70703125,58716.08984375,34775.2890625,74706.328125,39343.88671875,49360.21484375,37986.9609375,113733.7734375,87195.15625,57710.05078125,55864.8984375,37374.33203125,37471.49609375,76110.234375,33713.0,22994.564453125,48140.77734375,67970.65625,78520.5859375,38495.77734375,107767.625,80452.171875,46574.5,90654.640625,64488.50390625,38293.76953125,33579.77734375,74672.6015625,89327.3984375,60210.6953125,62237.34375,50143.16015625,56053.4375,84243.78125,33506.59375,87369.7890625,80207.5703125,53460.81640625,54258.55859375,34887.90234375,76751.0703125,88515.046875,41017.9453125,43199.7421875,30335.763671875,65301.328125,40732.0,71281.5625,79734.2109375,75693.921875,48431.89453125,38911.93359375,75252.96875,72374.1328125,42389.8671875,39707.5703125,61493.77734375,26935.16015625,77410.1015625,97712.2578125,29995.908203125,44183.41015625,87151.1328125,25369.884765625,44821.78515625,69970.984375,34181.8046875,68613.0859375,40130.05859375,82103.6484375,19430.6171875,58203.17578125,59927.6875,64810.1328125,46298.3515625,93994.8984375,39628.07421875,76002.7734375,34796.7265625,80040.140625,88340.6953125,87731.15625,78801.1796875,51089.109375,26863.66015625,91972.4765625,69769.90625,88852.1640625,68449.6015625,30971.216796875,51536.80859375,57095.32421875,92183.015625,46804.82421875,60670.03125,92022.609375,89115.8515625,65453.5,33249.8359375,30051.09765625,96076.28125,48399.78515625,62632.90234375,48148.4765625,47577.6015625,34483.2734375,64189.0625,54208.14453125,81185.578125,89059.09375,43611.77734375,47193.60546875,41986.46875,79516.4140625,47956.7109375,35367.84765625,44638.71875,47759.7734375,48722.11328125,73436.4609375,102810.390625,81653.1796875,55332.65625,85774.0,63167.15625,58177.2421875,14295.013671875,46102.90625,48384.9375,87025.1875,67762.546875,53610.421875,46194.375,91505.359375,47898.72265625,66246.5625,42808.73046875,38699.24609375,46937.2109375,85229.875,79481.53125,62597.765625,42723.4609375,46910.43359375,64456.08203125,23630.3671875,37080.20703125,81142.1171875,49493.44140625,84903.25,46755.4609375,81228.265625,38232.85546875,83835.1484375,30361.451171875,61738.58203125,41231.10546875,35755.94140625,37119.2421875,61627.1875,55829.36328125,23978.578125,61760.36328125,48298.32421875,46610.328125,110921.65625,65753.90625,46249.36328125,25701.73046875,79199.0859375,67970.65625,49972.328125,37433.5234375,47334.265625,34460.140625,43600.01171875,52290.44921875,69536.1484375,43199.7421875,61929.11328125,46912.296875,41510.8125,120868.859375,32388.4296875,37757.375,134809.453125,77849.21875,83167.53125,104278.59375,70537.265625,85906.3359375,60438.48046875,70731.5234375,53821.1796875,99447.015625,87293.46875,53226.5703125,92731.578125,29839.25,33293.1484375,50182.01171875,49770.515625,21951.341796875,43735.46875,89740.015625,48844.28515625,44371.91015625,74430.84375,69078.65625,32039.83984375,64070.95703125,38177.5,64521.53125,36843.43359375,63451.94921875,38619.4296875,93880.609375,33848.25390625,73426.265625,100493.4296875,51202.69140625,90234.2578125,73466.515625,88672.6640625,67464.421875,67413.8828125,77534.34375,69380.96875,56013.71484375,66621.5078125,40434.0625,71979.4765625,65066.046875,42647.234375,46961.8203125,82881.3828125,65711.9375,76483.875,50238.84375,91663.9140625,77399.1171875,40124.7734375,42929.13671875,32106.7109375,41139.0625,57353.125,35979.20703125,52915.07421875,54168.796875,66165.0234375,31590.59375,94047.703125,95059.1875,60101.875,95024.984375,118994.8984375,82226.4765625,60328.73046875,58584.80859375,52319.05078125,52666.65625,84647.4609375,86948.59375,63957.0,49938.54296875,44125.9453125,33226.296875,66107.0546875,49702.08984375,86126.921875,73044.96875,37083.82421875,52354.07421875,79882.234375,71464.6328125,63049.62890625,50200.1171875,26490.6484375,64573.41015625,63420.4921875,98703.078125,67710.3359375,32188.259765625,99476.3515625,63237.125,61997.4296875,106271.28125,47931.87890625,5063.3271484375,77767.328125,83370.109375,82846.640625,97991.109375,57558.296875,113940.859375,30661.77734375,75233.875,37236.57421875,125312.21875,89928.5,116532.1796875,47764.98046875,53505.2421875,45616.64453125,73158.09375,8188.1845703125,46118.7421875,73105.109375,73442.5390625,48148.4765625,113684.984375,59268.15625,69678.5546875,55181.43359375,43121.88671875,78870.0859375,60542.77734375,28293.54296875,42300.98046875,23497.583984375,58695.2578125,104573.6796875,90459.5859375,106028.7109375,63816.1796875,27259.697265625,83776.0703125,87191.90625,72470.609375,75444.140625,72078.53125,76106.734375,56317.02734375,39908.9765625,54547.35546875,61618.4921875,47873.37109375,109478.578125,65589.6171875,30495.095703125,87670.75,37777.828125,54942.74609375,86476.6640625,24562.072265625,41256.87890625,76492.265625,99416.8125,45596.00390625,23127.138671875,45182.70703125,45375.9921875,28773.853515625,93872.5234375,38330.90625,39935.47265625,101365.1328125,55852.61328125,69389.6171875,29004.376953125,91615.828125,45928.55859375,41279.6796875,59927.6875,79704.796875,41320.9609375,25641.791015625,38024.33203125,75190.5546875,74472.1953125,60671.17578125,50743.171875,55815.34765625,37479.81640625,33793.46484375,86074.921875,94745.8046875,37032.03515625,62026.65625,71494.265625,73042.5703125,42527.3359375,47725.30859375,40149.328125,103814.625,24191.87890625,40124.7734375,66252.390625,44293.10546875,78953.1796875,103139.6328125,32619.623046875,47389.1328125,79351.203125,37884.1328125,55554.0703125,84490.125,40536.91015625,77513.1484375,62672.42578125,49076.765625,37944.265625,66888.8828125,82113.859375,78465.234375,42099.6171875,63286.56640625,86599.046875,71234.8203125,51460.484375,48679.8515625,68331.140625,46795.265625,50587.91796875,45322.296875,44774.98828125,16558.53515625,33631.42578125,53283.02734375,69676.546875,63333.75,76669.765625,49626.97265625,102303.1015625,38586.2265625,104085.390625,36804.43359375,57461.6953125,58459.25,65852.9453125,38243.50390625,91559.0,58734.39453125,49832.65234375,86595.3125,54196.7109375,31865.66796875,47932.60546875,41825.94140625,44264.16796875,46584.515625,62635.30078125,46215.7265625,36831.04296875,49101.1640625,98086.578125,31536.37890625,109815.671875,58721.375,51187.2890625,80733.40625,86496.546875,72652.25,90746.09375,78390.65625,50821.78125,82938.921875,55516.8515625,93695.5546875,62227.62890625,81191.7734375,55437.7421875,97774.7890625,40689.62109375,5929.255859375,52418.421875,57209.1328125,57737.8515625,68863.46875,27888.681640625,39987.140625,95147.84375,82620.4765625,90453.7578125,67043.1484375,61634.78515625,37562.12109375,26577.0390625,98317.9921875,56138.22265625,86486.2265625,78750.625,52794.328125,58072.35546875,71975.078125,83230.1953125,32801.1015625,71170.2578125,60473.02734375,78305.21875,79168.5703125,70787.109375,2776.55517578125,79351.203125,71762.546875,55868.28515625,44650.1640625,70201.796875,67401.2265625,58772.31640625,38416.22265625,78425.9140625,54422.96875,44561.78515625,92844.484375,56660.98828125,51332.66796875,66643.2578125,36680.0234375,79260.2890625,34089.3671875,55714.73046875,91040.21875,41881.125,72873.671875,74779.21875,50715.6015625,47071.19921875,101455.828125,54887.09765625,77222.1796875,40946.43359375,34390.171875,49945.65625,58113.375,109107.4453125,61585.609375,68951.2109375,53669.70703125,50160.5390625,98972.1640625,68996.578125,82230.7890625,53264.66796875,81122.1953125,59327.60546875,81495.8515625,80771.4140625,60710.609375,94662.859375,85359.03125,42085.10546875,48110.76953125,44547.7890625,94062.1796875,114008.3125,59079.24609375,37045.92578125,70660.6171875,36274.421875,66740.5234375,58318.0390625,82508.5703125,49337.98828125,76166.7109375,53649.25390625,79692.0078125,39807.05078125,69750.5859375,32301.1171875,59348.44921875,82961.5625,81475.203125,79314.8828125,80437.3203125,61098.05078125,36680.109375,34689.76953125,51693.734375,43923.015625,105352.3203125,39417.421875,87189.2421875,73536.0625,38933.6171875,102132.4921875,44898.08984375,34367.56640625,32833.38671875,36139.796875,39137.38671875,66208.1484375,90482.3671875,54164.48046875,25765.669921875,47185.80078125,75563.53125,76136.78125,46593.140625,30049.951171875,60961.0,73352.296875,38846.36328125,61778.37890625,34688.6875,89358.359375,74556.5625,80127.375,78217.8828125,78272.2265625,33343.14453125,69142.9453125,120584.3125,58501.73046875,63851.91015625,67196.5390625,67168.9765625,56366.80859375,95688.5625,37606.3984375,64250.3359375,43674.8203125,80362.28125,53633.671875,29664.861328125,69932.21875,88176.015625,60978.2421875,32647.421875,49588.55859375,90436.390625,53954.578125,36218.37109375,54572.9140625,85368.75,80487.0,42764.44921875,79804.8828125,71505.75,102361.1171875,36947.26953125,57898.6875,49650.22265625,50181.45703125,68893.0546875,37987.76953125,43719.9921875,62120.140625,42723.95703125,70784.3359375,55582.015625,68834.75,94226.84375,33831.46875,62614.3515625,89622.765625,65961.6484375,122419.9140625,41723.47265625,36340.8984375,54237.5703125,38330.90625,20787.23046875,45249.16015625,56945.18359375,92771.078125,108241.71875,36811.21875,44129.015625,87177.0546875,40474.5078125,80042.5546875,58602.5546875,58226.42578125,67089.40625,93004.2890625,79281.3125,39098.0390625,35908.19140625,72798.046875,73017.890625,106474.859375,59271.12109375,64778.9375,50503.19921875,60899.87890625,42028.71484375,81949.359375,85254.4375,75789.890625,46245.7109375,69618.6171875,93981.796875,103016.828125,70601.9140625,34441.10546875,38700.359375,57679.42578125,70581.1953125,53273.984375,28599.744140625,104926.1171875,88927.5078125,36504.6015625,28596.6484375,58126.57421875,24696.15234375,78610.734375,91420.109375,82752.59375,59215.171875,43974.609375,74315.390625,60510.54296875,40564.984375,72637.0234375,38147.484375,25398.615234375,29128.2578125,79551.2109375,82436.1484375,30910.755859375,101334.1953125,47041.46484375,91602.9375,63966.16796875,75644.0078125,33159.59375,70059.7890625,25179.943359375,78334.984375,35519.28515625,85062.53125,64588.93359375,58161.7734375,61604.84765625,33403.01171875,77529.234375,49102.1328125,91086.5390625,32155.740234375,78280.8828125,90951.5390625,69850.8984375,42148.4140625,38983.828125,99765.5546875,59860.1171875,44281.44140625,72122.375,50504.8984375,36172.4921875,48965.55078125,82174.1640625,47684.35546875,34467.8046875,56114.9453125,57928.23046875,53317.50390625,105844.8046875,38375.8046875,50927.171875,58575.34765625,26451.1015625,88684.7890625,53994.03515625,71393.34375,100970.0625,38044.11328125,50570.83203125,57975.9453125,85795.8359375,50971.0390625,102070.6640625,113503.0546875,52511.421875,47430.3515625,91438.1171875,54124.3359375,48323.97265625,67608.859375,34693.12109375,81970.671875,126524.046875,41905.13671875,89032.0234375,88593.3125,84755.15625,55461.609375,54004.34375,36760.91015625,86149.8359375,90437.4453125,66531.5625,65713.2734375,31547.15625,85972.1015625,30000.681640625,26547.33984375,78807.28125,101345.234375,58104.33984375,144085.15625,27101.279296875,57439.39453125,87477.8359375,87726.6875,48563.45703125,35136.7734375,41481.796875,22233.630859375,36741.71875,95018.546875,76460.4609375,128145.1875,75958.765625,65773.734375,48751.078125,29607.625,57450.0390625,46228.2734375,44656.890625,37667.73046875,72732.375,52797.796875,47926.5625,48342.52734375,90466.28125,77393.7890625,60397.65234375,64211.9140625,70609.8046875,62951.6484375,45032.8671875,86705.796875,58386.109375,124506.671875,70708.9765625,36504.7265625,46514.55859375,90020.9765625,54575.1484375,79463.421875,32413.005859375,92768.109375,24409.1328125,50135.18359375,86367.40625,29153.48046875,31709.361328125,50505.109375,34058.625,19864.7265625,40356.65234375,49180.7421875,49339.546875,60240.12109375,120678.265625,47075.2109375,90567.984375,72161.3984375,28157.658203125,49805.5078125,83874.9140625,31850.01171875,70260.09375,78175.46875,42019.3359375,51480.66015625,84398.5390625,39227.26171875,48668.453125,63125.69921875,60178.15625,76669.53125,50771.3125,49695.5703125,54124.3359375,58828.4765625,79060.5625,71485.5234375,20975.76953125,51032.0859375,39165.71875,48596.33203125,40507.35546875,74029.203125,90876.671875,47058.40234375,86232.4296875,80067.96875,81446.7578125,111662.6171875,93635.953125,45113.88671875,33620.046875,39578.4140625,58241.2734375,55732.11328125,72523.265625,63525.66015625,71787.9140625,70057.421875,56404.796875,46596.90234375,46257.765625,64380.6796875,91962.0234375,28839.609375,85815.6953125,53933.00390625,101696.296875,66046.4765625,91338.3359375,80335.8125,25272.1015625,83950.921875,52865.984375,39675.6953125,80296.9375,83916.4375,75401.7421875,71923.5390625,25378.19140625,109178.4609375,82450.90625,46250.296875,61585.609375,66966.2578125,58715.04296875,92008.2578125,95292.28125,51172.04296875,27800.3984375,50129.79296875,63190.30859375,68922.1171875,88840.3984375,80217.25,70866.6171875,79607.2578125,57151.25390625,24381.798828125,101401.3984375,148915.015625,98702.2734375,30250.287109375,83398.71875,77518.4140625,30320.5078125,60887.625,72494.390625,77535.203125,47289.296875,39926.1171875,103549.3125,41898.9609375,100879.7578125,26626.96875,65746.1640625,43185.50390625,53423.32421875,38454.3203125,82241.4375,54988.1484375,75080.5625,108038.71875,58005.625,35024.2734375,87755.5,52067.98046875,84246.1953125,111210.46875,56977.6328125,132741.75,97918.390625,41337.23828125,47910.16015625,36790.12109375,82402.9921875,134610.703125,31735.587890625,48848.6328125,54986.7578125,47644.03125,77174.53125,100695.625,53727.0625,78700.109375,79248.7734375,92110.4140625,52121.65234375,44878.90234375,68053.140625,64268.51953125,57824.07421875,91976.875,56019.11328125,25234.708984375,103159.2421875,49408.80078125,109125.5703125,43233.01171875,101025.7421875,51725.96875,87148.984375,24202.203125,90942.796875,62941.99609375,88826.7890625,50601.68359375,60258.6953125,92292.1484375,59213.18359375,37889.27734375,30513.140625,39567.18359375,74046.2421875,51998.56640625,50234.79296875,34409.4921875,88868.578125,44463.34375,53362.48828125,47840.0078125,85446.7265625,35583.11328125,60631.62109375,38431.87890625,38100.078125,77032.78125,31437.71484375,47060.36328125,45134.01171875,45785.54296875,41376.76953125,65238.296875,41269.10546875,48117.109375,64662.65234375,26191.15625,39496.328125,57048.49609375,57499.16015625,59411.37109375,88010.0390625,87369.2734375,28302.369140625,42398.65625,79046.453125,78770.8671875,40301.4765625,24133.451171875,42109.234375,57999.69921875,85133.8046875,68614.4375,102755.6015625,89320.75,58330.08203125,24170.73828125,69479.5234375,60452.3046875,57520.99609375,38121.84765625,90833.5078125,35654.6015625,35150.96875,78011.640625,65716.046875,40540.2734375,70158.5625,65060.734375,34689.76953125,57688.67578125,79899.703125,29787.83984375,50206.6640625,111434.2890625,81901.1640625,90753.6640625,79474.078125,88716.125,67534.625,83151.0703125,64857.34765625,83420.203125,88798.8125,52225.0,23415.935546875,60882.2421875,96436.7109375,39382.40625,86087.6015625,55076.7734375,60929.3046875,52960.1875,61054.00390625,84735.5859375,38381.31640625,57329.875,28027.673828125,103983.6015625,46082.66015625,79727.0625,71232.296875,59479.72265625,36781.0,65954.09375,78087.4765625,61170.58984375,86175.0078125,94910.6953125,71739.6171875,31968.556640625,50224.13671875,23685.978515625,58433.8046875,101060.3671875,47695.37109375,49291.5234375,84978.6171875,76949.6171875,54230.4375,55358.88671875,99188.234375,40949.296875,100432.1640625,54281.359375,58676.515625,46321.46484375,40104.328125,61953.359375,33089.24609375,42078.58984375,52520.109375,38166.80078125,37018.35546875,71011.8984375,22297.869140625,41119.1328125,37443.92578125,72271.75,27270.501953125,43414.58984375,67756.4765625,66479.203125,85729.6640625,56760.0078125,40921.6484375,62371.02734375,39047.93359375,89069.4375,88358.5234375,54132.8984375,45157.6328125,55549.1015625,92975.6796875,64871.56640625,94275.4765625,41415.5625,58463.58984375,66643.546875,59479.109375,37428.796875,109505.1171875,51621.875,42809.125,49471.91015625,98107.6015625,63281.44921875,48138.453125,83434.734375,56210.0390625,72712.8984375,37945.9140625,41003.9609375,22177.404296875,62873.0078125,67016.4375,46598.10546875,95368.671875,43924.2421875,59978.22265625,97312.9375,75502.4765625,69992.359375,56030.859375,80606.6875,132478.4375,58777.36328125,109998.3203125,41546.33203125,80181.828125,51146.96484375,55467.0546875,67754.1484375,35435.88671875,40706.00390625,50318.99609375,68353.4140625,88559.0859375,51828.703125,61122.12890625,93813.78125,36650.8828125,56236.86328125,116462.5625,96708.3359375,89687.3359375,59235.0,87892.640625,56767.80859375,49479.9296875,53179.66015625,99238.7734375,54958.890625,86983.4140625,61680.59375,96840.8515625,36606.23828125,40473.58203125,74182.515625,91882.3046875,95332.828125,111326.109375,39060.89453125,72843.421875,73293.875,62847.75,65823.515625,96164.4296875,58663.88671875,96945.2421875,55260.80078125,74640.4140625,44749.6953125,68854.8125,38562.9765625,51460.0625,49645.625,78124.015625,58354.83203125,84653.6328125,58374.6484375,36998.9921875,64046.25390625,74683.0859375,17136.974609375,62204.37890625,56448.015625,65056.4375,37762.37109375,31850.01171875,44740.45703125,58487.21484375,83025.8515625,82976.4140625,51146.96484375,56156.6328125,99467.609375,71295.6015625,54118.7578125,52639.58984375,64521.66015625,49053.578125,65268.92578125,90658.4140625,41326.99609375,102152.328125,49986.546875,82027.375,28622.634765625,69189.078125,55507.6328125,34268.6484375,50422.24609375,60266.87109375,54422.96875,71272.109375,46484.46875,55419.95703125,45832.2890625,45800.4453125,71038.984375,99348.1015625,24390.666015625,69105.2265625,81668.53125,90154.78125,44970.17578125,56279.17578125,39991.76953125,64148.16796875,34377.12890625,57060.2265625,45051.78515625,58969.08984375,36888.64453125,70326.8125,35769.12109375,89391.46875,30555.0,89119.1171875,106061.125,73465.7109375,48082.9921875,81773.078125,57700.109375,59744.74609375,61707.00390625,73490.0078125,38340.52734375,67417.828125,77533.7890625,59330.546875,35187.66796875,99614.3671875,60570.015625,35143.1953125,72888.421875,45235.58984375,58111.9140625,60876.62890625,118588.0390625,87628.234375,79382.0625,49294.6640625,53572.78515625,57507.83984375,88756.1953125,59812.90625,41604.7578125,96252.5390625,101284.703125,60505.98046875,54639.38671875,110931.3828125,44095.5078125,41415.765625,98532.28125,51683.68359375,45363.26953125,69873.0625,81196.875,51865.9921875,85916.1015625,40101.44140625,94878.140625,50533.34375,73337.25,36250.09765625,46286.5234375,39923.82421875,92168.1640625,77599.046875,59219.25390625,43116.4296875,37837.3984375,37867.6015625,41914.78515625,64133.2890625,52082.828125,77380.96875,46483.21484375,37032.03515625,78508.5546875,95517.9609375,77423.9765625,54062.1796875,48083.953125,72448.4609375,54183.64453125,58203.17578125,89084.6953125,38117.8671875,103580.5625,82878.34375,47270.4296875,42350.1171875,84281.5,84569.75,65985.2578125,37972.3125,77607.7890625,24067.07421875,114032.796875,57573.38671875,67150.140625,36918.95703125,76035.9296875,92398.71875,36500.828125,40269.4765625,58262.88671875,89796.09375,56220.89453125,112867.0390625,97696.9296875,56740.75390625,52072.6328125,69316.7578125,104242.34375,39844.3046875,63955.515625,79248.1796875,72778.84375,58113.375,71819.125,48237.07421875,61863.1953125,57276.91015625,63934.1796875,43403.14453125,57331.3828125,61481.85546875,82956.03125,89849.90625,65957.15625,80924.40625,62887.59765625,53461.828125,49820.35546875,77534.34375,115914.921875,50313.80078125,47586.42578125,34814.55859375,37845.0390625,69689.0625,93884.3359375,65081.12890625,105992.0859375,48293.33203125,31124.353515625,96451.5625,48929.72265625,55558.94140625,66066.140625,80227.0859375,78488.2578125,75093.0234375,58848.10546875,55968.703125,70387.3046875,70737.5859375,42480.59375,73207.6796875,56034.12109375,82610.8984375,55649.27734375,38676.8203125,52347.38671875,70765.1171875,68026.0234375,54909.9609375,90459.71875,36667.22265625,83097.9140625,58335.91796875,55996.9453125,56124.4296875,54384.8359375,24088.28515625,52267.3359375,40165.7109375,90003.3671875,25895.19921875,96310.125,63438.1484375,85634.90625,76508.1015625,56048.57421875,48573.96875,38601.55078125,54033.5625,55266.0625,81943.109375,62471.13671875,33801.59765625,68143.5078125,71010.7890625,57499.16015625,36312.30078125,65607.859375,39224.19140625,83392.21875,25204.267578125,46201.23046875,101671.296875,97792.46875,36511.66015625,45067.39453125,55166.2578125,22160.556640625,68718.7265625,29006.09375,31491.728515625,78578.0703125,67358.4140625,89057.9921875,24437.05859375,72701.0,44930.19921875,41105.1015625,59062.76171875,69161.734375,58534.73046875,23984.83984375,39422.86328125,66315.2734375,65448.3984375,54314.74609375,60328.73046875,51611.65234375,39858.75390625,23538.158203125,52862.765625,98432.2265625,77478.9921875,66329.6328125,104350.5703125,62815.140625,43931.79296875,102711.8828125,38412.08203125,42371.43359375,52468.55078125,47907.15234375,75536.4921875,57329.44140625,76065.859375,110283.640625,61028.4453125,61493.77734375,74240.6171875,74434.796875,83942.6875,87018.1484375,39347.4609375,66125.328125,61325.87890625,40169.1171875,38215.0,107189.84375,42440.8671875,45344.37109375,20513.568359375,37171.85546875,73184.140625,42896.75,52711.70703125,67357.2734375,121183.6953125,80964.1953125,83679.234375,53850.90625,44675.07421875,48931.69140625,98096.4453125,51830.5546875,77634.7109375,69901.0390625,84964.84375,62120.140625,30972.482421875,76964.8671875,68538.0546875,76121.7734375,50410.23046875,69817.4765625,50516.8671875,33731.53515625,53626.56640625,52275.3125,49650.22265625,62019.9921875,80868.7890625,118242.5,94703.90625,66541.9609375,60563.4453125,95577.4453125,74029.203125,54025.19140625,82629.6796875,89901.03125,74949.5703125,104003.0234375,53884.78125,53147.8984375,55042.8984375,74209.46875,42064.94921875,40724.01171875,46177.72265625,38969.5390625,64330.2890625,30710.810546875,71112.8828125,63548.8671875,108380.7578125,93008.6796875,29573.423828125,53835.640625,92047.359375,24592.74609375,73725.578125,65057.640625,43430.8828125,86472.0546875,60928.3359375,66602.765625,46682.01953125,36705.20703125,33579.77734375,52548.7265625,96181.46875,46549.7734375,80519.4609375,13685.9072265625,60479.6796875,25478.697265625,81408.375,117744.0625,55190.7890625,64458.0625,45417.75,77192.546875,48032.71484375,68680.6015625,56142.046875,49257.18359375,69862.7578125,41966.65234375,48011.41796875,75684.2421875,36173.6875,62450.72265625,43036.4296875,34025.9765625,42384.55859375,16858.759765625,72761.7734375,37171.85546875,78065.5234375,79981.2421875,64253.6171875,105914.5234375,77548.640625,83145.6640625,45555.76953125,68688.640625,54401.80078125,83956.90625,31594.400390625,70589.296875,88803.65625,88371.46875,42205.19140625,48472.31640625,46216.078125,44079.0546875,47872.828125,30560.306640625,74281.6171875,45753.109375,44681.34375,57499.21484375,40827.8984375,94189.6875,129500.71875,65905.28125,88459.71875,40607.5078125,69550.84375,72825.1640625,41840.83984375,32932.25390625,70567.671875,60085.48046875,79104.8359375,51548.9921875,78321.1796875,66740.5234375,43735.46875,84076.890625,67043.515625,123135.25,57060.2265625,51219.16015625,38811.859375,104998.28125,68116.78125,57498.3203125,32323.40625,32148.171875,59395.21875,54482.9765625,36755.62109375,63133.3984375,39297.59375,50811.0078125,61227.60546875,41812.72265625,39088.71875,91747.0546875,36173.6875,86753.734375,42500.5,26466.439453125,54395.875,41047.4140625,41363.8984375,42507.69140625,83700.2890625,43342.1953125,36446.63671875,39963.39453125,46325.87109375,40567.5390625,41635.4609375,138918.734375,45588.76171875,55681.45703125,36468.1953125,42818.9921875,51928.01953125,48959.30859375,54043.98828125,59025.37890625,47077.0546875,37524.29296875,44511.640625,125960.109375,54782.9453125,36225.234375,92091.671875,32797.3359375,69522.0859375,83284.140625,75878.59375,86184.2578125,49805.51953125,52578.9140625,63476.71875,37246.203125,28801.876953125,39278.94140625,58089.26953125,81752.546875,96223.3671875,92628.7421875,103254.09375,137513.171875,76053.171875,51933.0078125,85269.09375,58703.6171875,80346.9296875,58017.30078125,49283.67578125,38265.15234375,36087.9296875,105452.7265625,75461.25,48305.8515625,14553.8994140625,53645.31640625,72868.4296875,38914.0546875,51744.72265625,115289.7109375,78918.7734375,67985.5078125,67618.9453125,31023.294921875,31904.1875,82673.1953125,42771.234375,42026.1796875,61426.8515625,72586.8671875,36904.921875,32984.5625,80457.1484375,42132.7734375,45744.265625,101091.5234375,50083.0234375,78536.234375,40831.49609375,75558.5546875,69008.21875,65816.5234375,30246.8671875,79498.140625,34419.7109375,57644.9140625,43122.171875,30635.1171875,94787.859375,81994.96875,68252.8671875,57421.1875,65982.3046875,36637.125,86199.484375,85595.3828125,80156.0078125,39732.9296875,72343.8203125,2315.926513671875,95524.34375,25825.109375,35750.16015625,73654.4921875,47885.0390625,65800.8359375,62027.8125,80338.1875,12324.9970703125,45200.1484375,83649.21875,37159.13671875,42350.9921875,82770.484375,68035.1328125,43779.37890625,41008.9453125,35880.98046875,97793.53125,125589.4453125,79704.796875,85846.2734375,57850.4765625,33506.59375,51327.1875,32936.8828125,45103.5390625,86560.3359375,41898.9609375,37624.3359375,100257.4296875,88013.90625,79784.21875,44159.5703125,27823.57421875,58140.53125,40977.41015625,77276.9296875,32142.978515625,23889.822265625,77513.1484375,74320.0625,38901.890625,31820.861328125,93530.7421875,63824.44140625,45295.27734375,77547.4140625,45074.61328125,30588.55078125,116901.4609375,45948.3203125,50560.8828125,68709.6640625,70469.7421875,31287.6640625,66596.6875,46158.6484375,65967.8828125,84246.1953125,65369.46484375,37888.03515625,58028.31640625,91664.8359375,44557.70703125,21785.125,49455.5859375,36870.55859375,79558.046875,64033.2109375,34241.078125,87723.2421875,51931.45703125,96895.7265625,54930.85546875,104407.3203125,88942.359375,100792.109375,41193.8359375,80067.1953125,58327.26171875,67417.828125,73451.28125,109367.59375,84088.1640625,48121.3984375,45951.6171875,58305.9453125,47682.578125,78953.203125,39036.5078125,81222.484375,60733.859375,38700.359375,58737.20703125,95355.3828125,70609.8046875,53912.12890625,81450.671875,42246.39453125,40650.01953125,48026.84375,106089.6484375,68849.5078125,86994.328125,59028.125,89382.1875,54307.8046875,27182.5078125,46243.85546875,86905.8125,82791.6171875,27360.369140625,37034.28125,70379.2578125,85544.8203125,38553.0703125,51944.39453125,74717.125,36119.765625,53454.01171875,38962.234375,78659.0078125,59451.10546875,66556.796875,30416.6875,68669.4140625'"
      ]
     },
     "execution_count": 105,
     "metadata": {},
     "output_type": "execute_result"
    }
   ],
   "source": [
    "result"
   ]
  },
  {
   "cell_type": "code",
   "execution_count": 106,
   "metadata": {},
   "outputs": [
    {
     "data": {
      "text/plain": [
       "34949    10号名邸 3室2厅 205.98平米\n",
       "Name: Community, dtype: object"
      ]
     },
     "execution_count": 106,
     "metadata": {},
     "output_type": "execute_result"
    }
   ],
   "source": [
    "X_valid_xgb_new['Community'][:1]"
   ]
  },
  {
   "cell_type": "code",
   "execution_count": 107,
   "metadata": {
    "scrolled": true
   },
   "outputs": [],
   "source": [
    "result2 = result.split(',')\n",
    "result_list = []\n",
    "\n",
    "for i in result2:\n",
    "    i = round(float(i),2)\n",
    "    result_list.append(i)\n",
    "\n",
    "X_valid_xgb_new['Prediction'] = result_list\n",
    "X_valid_xgb_new['Error'] = abs(X_valid_xgb_new['Price/Square Meter'] - X_valid_xgb_new['Prediction'])\n",
    "\n",
    "X_valid_xgb_new['Community'] = X_valid_xgb_new['Community'].str.split(pat = ' ')\n",
    "\n",
    "first30 = X_valid_xgb_new.head(10000)"
   ]
  },
  {
   "cell_type": "code",
   "execution_count": 108,
   "metadata": {},
   "outputs": [],
   "source": [
    "for j in range(len(first30['Community'])):\n",
    "\n",
    "    first30['Community'].iloc[j] = first30['Community'].iloc[j][0]"
   ]
  },
  {
   "cell_type": "code",
   "execution_count": 109,
   "metadata": {},
   "outputs": [],
   "source": [
    "first30 = first30.rename(columns = {'Livable Area': 'Livable_Area'})"
   ]
  },
  {
   "cell_type": "code",
   "execution_count": 110,
   "metadata": {},
   "outputs": [],
   "source": [
    "import ipywidgets as widgets\n",
    "from IPython.display import display\n",
    "import seaborn as sns\n",
    "import matplotlib.pyplot as plt\n",
    "\n",
    "\n",
    "# ALL_1 = 'ALL (Livable Area)'\n",
    "# ALL_2 = 'ALL (Decoration Level)'\n",
    "# ALL_3 = 'ALL (Year Built)'\n",
    "ALL_4 = 'ALL (Community)'\n",
    "ALL_5 = 'ALL (Floor Plan)'\n",
    "\n",
    "# def unique_sorted_values_plus_Livable_Area(array):\n",
    "#     unique = array.unique().tolist()\n",
    "#     unique.sort()\n",
    "#     unique.insert(0, ALL_1)\n",
    "#     return unique\n",
    "\n",
    "def unique_sorted_values_plus_Community(array):\n",
    "    unique = array.unique().tolist()\n",
    "    unique.sort()\n",
    "    unique.insert(0, ALL_4)\n",
    "    return unique\n",
    "\n",
    "def unique_sorted_values_plus_Floor_Plan(array):\n",
    "    unique = array.unique().tolist()\n",
    "    unique.sort()\n",
    "    unique.insert(0, ALL_5)\n",
    "    return unique\n",
    "\n",
    "output = widgets.Output()\n",
    "plot_output = widgets.Output()\n",
    "\n",
    "# dropdown_Livable_Area = widgets.Dropdown(options = unique_sorted_values_plus_Livable_Area(first30.Livable_Area))\n",
    "dropdown_Community = widgets.Dropdown(options = unique_sorted_values_plus_Community(first30.Community))\n",
    "dropdown_Floor_Plan = widgets.Dropdown(options = unique_sorted_values_plus_Floor_Plan(first30.Floor_Plan))\n",
    "\n",
    "\n",
    "def common_filtering(Community, Floor_Plan):\n",
    "    output.clear_output()\n",
    "    plot_output.clear_output()\n",
    "    \n",
    "    if (Community == ALL_4) & (Floor_Plan == ALL_5) :\n",
    "        common_filter = first30\n",
    "    elif (Community == ALL_4):\n",
    "        common_filter = first30[first30.Floor_Plan == Floor_Plan]\n",
    "    elif (Floor_Plan == ALL_5):\n",
    "        common_filter = first30[first30.Community == Community]\n",
    "    else:\n",
    "        common_filter = first30[(first30.Community == Community) & \n",
    "                                  (first30.Floor_Plan == Floor_Plan)]\n",
    "    \n",
    "    with output:\n",
    "        display(common_filter)\n",
    "        \n",
    "    with plot_output:\n",
    "        sns.kdeplot(common_filter['Price/Square Meter'], shade=True)\n",
    "        plt.show()\n",
    "    \n",
    "        \n",
    "def dropdown_Community_eventhandler(change):\n",
    "    common_filtering(change.new, dropdown_Floor_Plan.value)\n",
    "    \n",
    "def dropdown_Floor_Plan_eventhandler(change):\n",
    "    common_filtering(dropdown_Community.value, change.new)\n",
    "    \n",
    "dropdown_Community.observe(dropdown_Community_eventhandler, names='value')\n",
    "dropdown_Floor_Plan.observe(dropdown_Floor_Plan_eventhandler, names='value')"
   ]
  },
  {
   "cell_type": "code",
   "execution_count": 111,
   "metadata": {},
   "outputs": [
    {
     "data": {
      "application/vnd.jupyter.widget-view+json": {
       "model_id": "70ce367e6de045ec99d429696e34808f",
       "version_major": 2,
       "version_minor": 0
      },
      "text/plain": [
       "VBox(children=(HBox(children=(Dropdown(options=('ALL (Community)', '10号名邸', '621小区', '七彩华园', '七省办', '七贤村', '万地…"
      ]
     },
     "metadata": {},
     "output_type": "display_data"
    }
   ],
   "source": [
    "item_layout = widgets.Layout(margin='0 0 50px 0')\n",
    "input_widgets = widgets.HBox([dropdown_Community, dropdown_Floor_Plan],layout=item_layout)\n",
    "\n",
    "tab = widgets.Tab([output, plot_output])\n",
    "tab.set_title(0, 'Dataset Exploration')\n",
    "tab.set_title(1, 'KDE Plot')\n",
    "\n",
    "dashboard = widgets.VBox([input_widgets, tab])\n",
    "display(dashboard)"
   ]
  },
  {
   "cell_type": "code",
   "execution_count": null,
   "metadata": {},
   "outputs": [],
   "source": [
    "sagemaker.Session().delete_endpoint(xgb_predictor.endpoint)"
   ]
  },
  {
   "cell_type": "code",
   "execution_count": null,
   "metadata": {},
   "outputs": [],
   "source": []
  }
 ],
 "metadata": {
  "kernelspec": {
   "display_name": "conda_python3",
   "language": "python",
   "name": "conda_python3"
  },
  "language_info": {
   "codemirror_mode": {
    "name": "ipython",
    "version": 3
   },
   "file_extension": ".py",
   "mimetype": "text/x-python",
   "name": "python",
   "nbconvert_exporter": "python",
   "pygments_lexer": "ipython3",
   "version": "3.6.10"
  }
 },
 "nbformat": 4,
 "nbformat_minor": 4
}
